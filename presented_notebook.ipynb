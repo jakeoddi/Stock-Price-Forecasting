{
 "cells": [
  {
   "cell_type": "markdown",
   "metadata": {},
   "source": [
    "# Small-Cap Stock Price-Movement Prediction and Price-Target Forecasting"
   ]
  },
  {
   "cell_type": "markdown",
   "metadata": {},
   "source": [
    "#### Author: Jake Oddi"
   ]
  },
  {
   "cell_type": "markdown",
   "metadata": {},
   "source": [
    "## Business Problem"
   ]
  },
  {
   "cell_type": "markdown",
   "metadata": {},
   "source": [
    "Quantitative analysis of stocks has become increasingly popular over the past decades, to the point where it is ubiqiutous among insitutional investors. Among individual investors, however, it is less widespread. This is due to a general lack of the technical skills required to perform such analysis. I ran into this issue myself when constructing my portfolio. I predict an easy-to-use, open-source model would serve to benefit this population. \n",
    "\n",
    "This project applies classification methods to the daily price data of stocks with market capitalizations between \\\\$75M and \\\\$1B from the past three years to predict intraday price movements. Instances where the closing price exceeds the opening price are considered positive cases, and instances where the opposite is true are considered negative. The timescale for this data (daily) meant predicting the position of closing price relative to opening price was a desirable classification problem, as it is harder to do with time series modeling. Conversely, time series modeling to predict exact price is much better suited to interday prices, which is what I use it for. \n",
    "\n",
    "My analysis focuses on small-cap companies because they typically see lower trading volumes, and therefore have more inefficiencies that can be exploited and less noisey trading prices. Conversely, this makes trades harder to execute at desirable prices. \n",
    "\n",
    "Predictions of price-movement direction and price-target are nowhere near perfect, and should only be used in conjunction with additional information. In general, quantitative analysis should be combined with fundamental analysis.\n",
    "\n",
    "To use the following project for one's own analysis, one must first create a TD Ameritrade Developer account, create an app, and fetch his or her API key, replacing mine in the form of the 'consumer_key' variable. Next, under the 'Selection' section, one should change the 'ticker_list' variable to include whichever tickers are to be included in his or her model. This will allow one to run the rest of the code and yield the same analysis as is already shown."
   ]
  },
  {
   "cell_type": "code",
   "execution_count": 166,
   "metadata": {},
   "outputs": [
    {
     "name": "stdout",
     "output_type": "stream",
     "text": [
      "The autoreload extension is already loaded. To reload it, use:\n",
      "  %reload_ext autoreload\n"
     ]
    }
   ],
   "source": [
    "import pandas as pd\n",
    "import numpy as np\n",
    "import matplotlib.pyplot as plt\n",
    "%matplotlib inline\n",
    "import seaborn as sns\n",
    "from td.client import TDClient\n",
    "import requests\n",
    "import json\n",
    "import time\n",
    "from config import ameritrade_credentials\n",
    "# import price_classification_code.functions as fn\n",
    "from sklearn.preprocessing import StandardScaler\n",
    "from sklearn.model_selection import GridSearchCV\n",
    "from sklearn.metrics import accuracy_score, f1_score, precision_score, recall_score\n",
    "from sklearn.neighbors import KNeighborsClassifier\n",
    "from sklearn.ensemble import RandomForestClassifier\n",
    "from statsmodels.graphics.tsaplots import plot_acf, plot_pacf\n",
    "from statsmodels.tsa.arima_model import ARMA\n",
    "from statsmodels.tsa.seasonal import seasonal_decompose\n",
    "from statsmodels.tsa.statespace.sarimax import SARIMAX\n",
    "from statsmodels.tsa.stattools import adfuller\n",
    "from sklearn.metrics import mean_squared_error\n",
    "import itertools\n",
    "import statsmodels.api as sm\n",
    "import warnings\n",
    "warnings.filterwarnings('ignore')\n",
    "%load_ext autoreload\n",
    "%autoreload 2"
   ]
  },
  {
   "cell_type": "code",
   "execution_count": 2,
   "metadata": {},
   "outputs": [],
   "source": [
    "np.random.seed(seed = 1)"
   ]
  },
  {
   "cell_type": "markdown",
   "metadata": {},
   "source": [
    "## Data Understanding"
   ]
  },
  {
   "cell_type": "markdown",
   "metadata": {},
   "source": [
    "### Data Acquisition"
   ]
  },
  {
   "cell_type": "markdown",
   "metadata": {},
   "source": [
    "To decide which companies to model, I employed a stock screener from [TD Ameritrade](https://research.tdameritrade.com/grid/public/screener/stocks/overview.asp) to select stocks with market caps within my desired range. This yielded 8027 results. I filtered this down to 3055 results by removing companies worth less than \\\\$75M, as many companies below that threshold had such low trading volumnes that they were not conducive to modeling. For the sake of ease-of-use and proof-of-concept, I filtered this down further by randomly sampling 500. I then gathered daily price data from the past three years using [TD Ameritrade's Price History API](https://developer.tdameritrade.com/price-history/apis). Of these 500, the API failed for 157, leaving 343. Of the remaining, I selected only those with 756 days of data to use in my analysis, leaving me with 160 stocks. "
   ]
  },
  {
   "cell_type": "code",
   "execution_count": 3,
   "metadata": {},
   "outputs": [
    {
     "data": {
      "text/html": [
       "<div>\n",
       "<style scoped>\n",
       "    .dataframe tbody tr th:only-of-type {\n",
       "        vertical-align: middle;\n",
       "    }\n",
       "\n",
       "    .dataframe tbody tr th {\n",
       "        vertical-align: top;\n",
       "    }\n",
       "\n",
       "    .dataframe thead th {\n",
       "        text-align: right;\n",
       "    }\n",
       "</style>\n",
       "<table border=\"1\" class=\"dataframe\">\n",
       "  <thead>\n",
       "    <tr style=\"text-align: right;\">\n",
       "      <th></th>\n",
       "      <th>Symbol</th>\n",
       "      <th>Company Name</th>\n",
       "      <th>Market Capitalization</th>\n",
       "      <th>Sector</th>\n",
       "      <th>Industry</th>\n",
       "      <th>Dividend Yield</th>\n",
       "      <th>Beta</th>\n",
       "    </tr>\n",
       "  </thead>\n",
       "  <tbody>\n",
       "    <tr>\n",
       "      <th>0</th>\n",
       "      <td>AAAIF</td>\n",
       "      <td>ALTERNATIVE INVESTMENT TRUST UNITS</td>\n",
       "      <td>2.856715e+07</td>\n",
       "      <td>NaN</td>\n",
       "      <td>NaN</td>\n",
       "      <td>--</td>\n",
       "      <td>+0.2</td>\n",
       "    </tr>\n",
       "    <tr>\n",
       "      <th>1</th>\n",
       "      <td>AACG</td>\n",
       "      <td>ATA Creativity Global(ADR)</td>\n",
       "      <td>3.713346e+07</td>\n",
       "      <td>Consumer Discretionary</td>\n",
       "      <td>Diversified Consumer Services</td>\n",
       "      <td>--</td>\n",
       "      <td>+1.7</td>\n",
       "    </tr>\n",
       "    <tr>\n",
       "      <th>2</th>\n",
       "      <td>AACH</td>\n",
       "      <td>AAC Holdings Inc</td>\n",
       "      <td>4.025300e+05</td>\n",
       "      <td>Health Care</td>\n",
       "      <td>Health Care Providers &amp; Services</td>\n",
       "      <td>--</td>\n",
       "      <td>+2.7</td>\n",
       "    </tr>\n",
       "    <tr>\n",
       "      <th>3</th>\n",
       "      <td>AACQ</td>\n",
       "      <td>Artius Acquisition Inc</td>\n",
       "      <td>9.341573e+08</td>\n",
       "      <td>NaN</td>\n",
       "      <td>NaN</td>\n",
       "      <td>--</td>\n",
       "      <td>--</td>\n",
       "    </tr>\n",
       "    <tr>\n",
       "      <th>4</th>\n",
       "      <td>AACS</td>\n",
       "      <td>American Commerce Solutions, Inc.</td>\n",
       "      <td>6.946900e+05</td>\n",
       "      <td>Industrials</td>\n",
       "      <td>Road &amp; Rail</td>\n",
       "      <td>--</td>\n",
       "      <td>-1.0</td>\n",
       "    </tr>\n",
       "  </tbody>\n",
       "</table>\n",
       "</div>"
      ],
      "text/plain": [
       "  Symbol                        Company Name  Market Capitalization  \\\n",
       "0  AAAIF  ALTERNATIVE INVESTMENT TRUST UNITS           2.856715e+07   \n",
       "1   AACG          ATA Creativity Global(ADR)           3.713346e+07   \n",
       "2   AACH                    AAC Holdings Inc           4.025300e+05   \n",
       "3   AACQ              Artius Acquisition Inc           9.341573e+08   \n",
       "4   AACS   American Commerce Solutions, Inc.           6.946900e+05   \n",
       "\n",
       "                   Sector                          Industry Dividend Yield  \\\n",
       "0                     NaN                               NaN             --   \n",
       "1  Consumer Discretionary     Diversified Consumer Services             --   \n",
       "2             Health Care  Health Care Providers & Services             --   \n",
       "3                     NaN                               NaN             --   \n",
       "4             Industrials                       Road & Rail             --   \n",
       "\n",
       "   Beta  \n",
       "0  +0.2  \n",
       "1  +1.7  \n",
       "2  +2.7  \n",
       "3    --  \n",
       "4  -1.0  "
      ]
     },
     "execution_count": 3,
     "metadata": {},
     "output_type": "execute_result"
    }
   ],
   "source": [
    "# Read in the screener\n",
    "screen = pd.read_csv('./data./ameritrade_stock_screener.csv', header = 0)\n",
    "\n",
    "# Take a first look\n",
    "screen.head()"
   ]
  },
  {
   "cell_type": "markdown",
   "metadata": {},
   "source": [
    "#### Screener Cleaning"
   ]
  },
  {
   "cell_type": "code",
   "execution_count": 4,
   "metadata": {},
   "outputs": [],
   "source": [
    "# Rename screener columns\n",
    "screen.columns = ['ticker', 'company', 'market_cap', 'sector', 'industry', 'dividend_yield', 'beta']\n",
    "\n",
    "# Screening only for companies worth > $75M\n",
    "screen = screen[screen['market_cap'] >= 75000000]"
   ]
  },
  {
   "cell_type": "markdown",
   "metadata": {},
   "source": [
    "#### Selection"
   ]
  },
  {
   "cell_type": "code",
   "execution_count": 5,
   "metadata": {},
   "outputs": [],
   "source": [
    "# Instantiate a list of 500 random integers for selection of df indices from the screener\n",
    "rand_list = np.random.randint(0, screen.shape[0], 500)\n",
    "\n",
    "# Filter the screener using the list of random indices\n",
    "filtered_screen = screen.iloc[rand_list]\n",
    "\n",
    "# Create a list of the tickers of all stocks selected by the filter\n",
    "ticker_list = filtered_screen['ticker'].values"
   ]
  },
  {
   "cell_type": "markdown",
   "metadata": {},
   "source": [
    "#### API Call - Configuration"
   ]
  },
  {
   "cell_type": "markdown",
   "metadata": {},
   "source": [
    "In one's own analysis using Ameritrade's API, he or she must use their own API key in place of my 'consumer_key' variable."
   ]
  },
  {
   "cell_type": "code",
   "execution_count": 6,
   "metadata": {},
   "outputs": [],
   "source": [
    "# Import personal client ID\n",
    "client_id = ameritrade_credentials.consumer_key\n",
    "\n",
    "# Set payload params\n",
    "period = '3'\n",
    "period_type = 'year'\n",
    "frequency = '1'\n",
    "frequency_type = 'daily'\n",
    "start_date = '1512172799'\n",
    "end_date = '1606867199'\n",
    "\n",
    "# Define payload\n",
    "payload = {'apikey': client_id,\n",
    "           'periodType': period_type,\n",
    "           'frequencyType': frequency_type,\n",
    "           'frequency': frequency,\n",
    "           'period': period,\n",
    "#            'endDate': end_date,\n",
    "#            'startDate': start_date,\n",
    "           'needExtendedHoursData': 'false'\n",
    "          }"
   ]
  },
  {
   "cell_type": "markdown",
   "metadata": {},
   "source": [
    "#### API Call"
   ]
  },
  {
   "cell_type": "code",
   "execution_count": 7,
   "metadata": {},
   "outputs": [],
   "source": [
    "def get_data_from_ameritrade(ticker_list, payload):\n",
    "    \"\"\"\n",
    "    Takes in list of tickers and payload and returns complete dataframe with all \n",
    "    tickers and prices.\n",
    "    \n",
    "    ticker_list -- array of strings containing n number of tickers\n",
    "    payload -- dictionary containing parameters for API call\n",
    "    \"\"\"\n",
    "    df_list = []\n",
    "    fail_cache = []\n",
    "    payload = payload\n",
    "    for ticker in ticker_list:\n",
    "        # Define endpoint\n",
    "        endpoint = r'https://api.tdameritrade.com/v1/marketdata/{}/pricehistory'.format(ticker)\n",
    "        \n",
    "        try:\n",
    "            # Make Request\n",
    "            content = requests.get(url = endpoint, params = payload)\n",
    "\n",
    "            # Convert to dataframe\n",
    "            data = content.json()\n",
    "            data = pd.DataFrame(data = data['candles'])\n",
    "            data['ticker'] = ticker\n",
    "\n",
    "            # Append to list of dataframes\n",
    "            df_list.append(data)\n",
    "            \n",
    "        except:\n",
    "            # Append problematic ticker to list of failed tickers\n",
    "            fail_cache.append(ticker)\n",
    "            continue\n",
    "    \n",
    "    return df_list, fail_cache"
   ]
  },
  {
   "cell_type": "code",
   "execution_count": 8,
   "metadata": {},
   "outputs": [],
   "source": [
    "# A list of dfs is instantiated, where each stock's data is stored in a dataframe\n",
    "df_list, fail_cache = get_data_from_ameritrade(ticker_list, payload)"
   ]
  },
  {
   "cell_type": "code",
   "execution_count": 9,
   "metadata": {},
   "outputs": [
    {
     "name": "stdout",
     "output_type": "stream",
     "text": [
      "Length of df_list: 310\n",
      "Length of fail_cache 190\n"
     ]
    }
   ],
   "source": [
    "print('Length of df_list:', len(df_list))\n",
    "print('Length of fail_cache', len(fail_cache))"
   ]
  },
  {
   "cell_type": "markdown",
   "metadata": {},
   "source": [
    "#### Final Filtering"
   ]
  },
  {
   "cell_type": "markdown",
   "metadata": {},
   "source": [
    "The last step in the filtering process cuts the number of stocks down to 160."
   ]
  },
  {
   "cell_type": "code",
   "execution_count": 10,
   "metadata": {},
   "outputs": [],
   "source": [
    "# Filtering only for stocks with 756 days of price data\n",
    "df_list = list(filter(lambda x: x.shape[0] == 756, df_list))"
   ]
  },
  {
   "cell_type": "code",
   "execution_count": 11,
   "metadata": {},
   "outputs": [
    {
     "data": {
      "text/plain": [
       "160"
      ]
     },
     "execution_count": 11,
     "metadata": {},
     "output_type": "execute_result"
    }
   ],
   "source": [
    "len(df_list)"
   ]
  },
  {
   "cell_type": "markdown",
   "metadata": {},
   "source": [
    "### Understanding"
   ]
  },
  {
   "cell_type": "markdown",
   "metadata": {},
   "source": [
    "The API returned a dataframe with the following columns built in for each stock: opening price, daily high, daily low, closing price, datetime, volume, and ticker."
   ]
  },
  {
   "cell_type": "code",
   "execution_count": 13,
   "metadata": {},
   "outputs": [
    {
     "data": {
      "text/html": [
       "<div>\n",
       "<style scoped>\n",
       "    .dataframe tbody tr th:only-of-type {\n",
       "        vertical-align: middle;\n",
       "    }\n",
       "\n",
       "    .dataframe tbody tr th {\n",
       "        vertical-align: top;\n",
       "    }\n",
       "\n",
       "    .dataframe thead th {\n",
       "        text-align: right;\n",
       "    }\n",
       "</style>\n",
       "<table border=\"1\" class=\"dataframe\">\n",
       "  <thead>\n",
       "    <tr style=\"text-align: right;\">\n",
       "      <th></th>\n",
       "      <th>open</th>\n",
       "      <th>high</th>\n",
       "      <th>low</th>\n",
       "      <th>close</th>\n",
       "      <th>volume</th>\n",
       "      <th>datetime</th>\n",
       "      <th>ticker</th>\n",
       "    </tr>\n",
       "  </thead>\n",
       "  <tbody>\n",
       "    <tr>\n",
       "      <th>0</th>\n",
       "      <td>19.10</td>\n",
       "      <td>19.375</td>\n",
       "      <td>18.85</td>\n",
       "      <td>19.25</td>\n",
       "      <td>206318</td>\n",
       "      <td>1514872800000</td>\n",
       "      <td>FRGI</td>\n",
       "    </tr>\n",
       "    <tr>\n",
       "      <th>1</th>\n",
       "      <td>19.30</td>\n",
       "      <td>19.550</td>\n",
       "      <td>19.10</td>\n",
       "      <td>19.50</td>\n",
       "      <td>127818</td>\n",
       "      <td>1514959200000</td>\n",
       "      <td>FRGI</td>\n",
       "    </tr>\n",
       "    <tr>\n",
       "      <th>2</th>\n",
       "      <td>19.50</td>\n",
       "      <td>19.800</td>\n",
       "      <td>19.15</td>\n",
       "      <td>19.55</td>\n",
       "      <td>127878</td>\n",
       "      <td>1515045600000</td>\n",
       "      <td>FRGI</td>\n",
       "    </tr>\n",
       "    <tr>\n",
       "      <th>3</th>\n",
       "      <td>19.65</td>\n",
       "      <td>19.650</td>\n",
       "      <td>19.05</td>\n",
       "      <td>19.35</td>\n",
       "      <td>117937</td>\n",
       "      <td>1515132000000</td>\n",
       "      <td>FRGI</td>\n",
       "    </tr>\n",
       "    <tr>\n",
       "      <th>4</th>\n",
       "      <td>19.30</td>\n",
       "      <td>19.500</td>\n",
       "      <td>18.85</td>\n",
       "      <td>19.35</td>\n",
       "      <td>175156</td>\n",
       "      <td>1515391200000</td>\n",
       "      <td>FRGI</td>\n",
       "    </tr>\n",
       "  </tbody>\n",
       "</table>\n",
       "</div>"
      ],
      "text/plain": [
       "    open    high    low  close  volume       datetime ticker\n",
       "0  19.10  19.375  18.85  19.25  206318  1514872800000   FRGI\n",
       "1  19.30  19.550  19.10  19.50  127818  1514959200000   FRGI\n",
       "2  19.50  19.800  19.15  19.55  127878  1515045600000   FRGI\n",
       "3  19.65  19.650  19.05  19.35  117937  1515132000000   FRGI\n",
       "4  19.30  19.500  18.85  19.35  175156  1515391200000   FRGI"
      ]
     },
     "execution_count": 13,
     "metadata": {},
     "output_type": "execute_result"
    }
   ],
   "source": [
    "df_list[0].head()"
   ]
  },
  {
   "cell_type": "markdown",
   "metadata": {},
   "source": [
    "## Cleaning"
   ]
  },
  {
   "cell_type": "markdown",
   "metadata": {},
   "source": [
    "The first step is to check for NaN values in each of the dataframes. If a dataframe contains a NaN value, the below loop will return the ticker associated with that dataframe."
   ]
  },
  {
   "cell_type": "code",
   "execution_count": 12,
   "metadata": {},
   "outputs": [],
   "source": [
    "# Checking for NaN values in each dataframe\n",
    "for df in df_list:\n",
    "    if df.isna().sum().sum() != 0:\n",
    "        print(df['ticker'][0])"
   ]
  },
  {
   "cell_type": "markdown",
   "metadata": {},
   "source": [
    "Next I'll check the datatypes of each column of each dataframe."
   ]
  },
  {
   "cell_type": "code",
   "execution_count": 13,
   "metadata": {},
   "outputs": [
    {
     "data": {
      "text/plain": [
       "open        float64\n",
       "high        float64\n",
       "low         float64\n",
       "close       float64\n",
       "volume        int64\n",
       "datetime      int64\n",
       "ticker       object\n",
       "dtype: object"
      ]
     },
     "execution_count": 13,
     "metadata": {},
     "output_type": "execute_result"
    }
   ],
   "source": [
    "df_list[0].dtypes"
   ]
  },
  {
   "cell_type": "markdown",
   "metadata": {},
   "source": [
    "The last thing to check is that each dataframe has the expected number of datapoints - 756."
   ]
  },
  {
   "cell_type": "code",
   "execution_count": 14,
   "metadata": {},
   "outputs": [],
   "source": [
    "for df in df_list:\n",
    "    if df.shape[0] != 756:\n",
    "        print(df['ticker'][0])"
   ]
  },
  {
   "cell_type": "markdown",
   "metadata": {},
   "source": [
    "The data arrives quite clean. The only changes to be made are to the datetimes, which arrive in the unix format and need to be converted to a regular datetime, then set as the index. "
   ]
  },
  {
   "cell_type": "code",
   "execution_count": 15,
   "metadata": {},
   "outputs": [],
   "source": [
    "def clean_dates(df_list):\n",
    "    \"\"\"\n",
    "    Takes in a list of dfs and cleans the dates for each df.\n",
    "    \n",
    "    df_list -- list of dataframes\n",
    "    \"\"\"\n",
    "    for df in df_list:\n",
    "        # Convert from unix to year month day format\n",
    "        df['datetime'] = pd.to_datetime(df['datetime'], unit = 'ms')\n",
    "\n",
    "        # Set datetime as index\n",
    "        df.set_index(df['datetime'], inplace = True)\n",
    "\n",
    "        # Drop original datetime column\n",
    "        df.drop(columns = 'datetime', inplace = True)\n",
    "        \n",
    "    return df_list"
   ]
  },
  {
   "cell_type": "code",
   "execution_count": 16,
   "metadata": {},
   "outputs": [],
   "source": [
    "df_list = clean_dates(df_list)"
   ]
  },
  {
   "cell_type": "markdown",
   "metadata": {},
   "source": [
    "### A First Look"
   ]
  },
  {
   "cell_type": "markdown",
   "metadata": {},
   "source": [
    "For the purpose of examining all the stocks in the dataset, I need concetanate them all into one dataframe."
   ]
  },
  {
   "cell_type": "code",
   "execution_count": 17,
   "metadata": {},
   "outputs": [
    {
     "data": {
      "text/plain": [
       "(120960, 6)"
      ]
     },
     "execution_count": 17,
     "metadata": {},
     "output_type": "execute_result"
    }
   ],
   "source": [
    "# Concatenating all the dfs in df_list\n",
    "df_joined = pd.concat(df_list)\n",
    "\n",
    "# Examining Shape\n",
    "df_joined.shape"
   ]
  },
  {
   "cell_type": "code",
   "execution_count": 163,
   "metadata": {},
   "outputs": [
    {
     "data": {
      "image/png": "[encoded data removed]",
      "text/plain": [
       "<Figure size 720x504 with 1 Axes>"
      ]
     },
     "metadata": {},
     "output_type": "display_data"
    }
   ],
   "source": [
    "# Grouping by date and mean closing price accross all stocks\n",
    "date_close_gb = df_joined.groupby(df_joined.index)['close'].mean()\n",
    "\n",
    "# Assigning x and y variables so they can be graphed\n",
    "x = date_close_gb.keys()\n",
    "y = date_close_gb.values\n",
    "\n",
    "# Visualizing\n",
    "fig, ax = plt.subplots(figsize = (10,7))\n",
    "sns.set_theme(font_scale = 2)\n",
    "sns.lineplot(x = x, y = y)\n",
    "ax.set(xlabel = 'Date', \n",
    "       ylabel = 'Mean Closing Price ($)', \n",
    "       title = \"160 Small-Cap Stocks' Mean Closing Prices\")\n",
    "fig.autofmt_xdate(rotation=45)\n",
    "plt.show()"
   ]
  },
  {
   "cell_type": "markdown",
   "metadata": {},
   "source": [
    "As shown in the plot above, the average closing price of small cap stocks has been in a downward trend since year-end 2017, falling sharply around March 2020 due to the Coronavirus pandemic and its economic impact, failing to fully recover by December 2020. The trend is much more negative than the overall market, which rose consistently until March 2020, where it fell but proceeded to exceed pre-Covid levels by December 2020. "
   ]
  },
  {
   "cell_type": "markdown",
   "metadata": {},
   "source": [
    "## Feature Engineering"
   ]
  },
  {
   "cell_type": "code",
   "execution_count": 19,
   "metadata": {},
   "outputs": [],
   "source": [
    "def create_intra_clf_target(df_list):\n",
    "    \"\"\"\n",
    "    Takes in list of dfs and creates target variable for each depending\n",
    "    on if the closing price for each day exceeds the opening price. If the\n",
    "    closing price exceeds the opening price, target = 1.\n",
    "    \n",
    "    df_list -- list of dfs\n",
    "    \"\"\"\n",
    "    for df in df_list:\n",
    "        df['intra_clf_target'] = 0\n",
    "        for i in range(len(df)):\n",
    "            \n",
    "            if df['open'][i] < df['close'][i]:\n",
    "                df['intra_clf_target'][i] = 1\n",
    "            \n",
    "            elif df['open'][i] > df['close'][i]:\n",
    "                df['intra_clf_target'][i] = 0\n",
    "    \n",
    "            elif df['open'][i] == df['close'][i]:\n",
    "                df['intra_clf_target'][i] = 2\n",
    "    \n",
    "    return df_list"
   ]
  },
  {
   "cell_type": "markdown",
   "metadata": {},
   "source": [
    "The first feature I engineered was my target variable. The target signifies whether a stock's closing price for one day exceeds its opening price. If this is the case, the target variable = 1. If the opposite is true, wherein the stock closes lower than it opened, the target variable = 0. If the closing and opening prices are exactly the same, the target variable = 2."
   ]
  },
  {
   "cell_type": "code",
   "execution_count": 20,
   "metadata": {},
   "outputs": [],
   "source": [
    "df_list = create_intra_clf_target(df_list)"
   ]
  },
  {
   "cell_type": "code",
   "execution_count": 160,
   "metadata": {},
   "outputs": [
    {
     "data": {
      "image/png": "[encoded data removed]",
      "text/plain": [
       "<Figure size 720x504 with 1 Axes>"
      ]
     },
     "metadata": {},
     "output_type": "display_data"
    }
   ],
   "source": [
    "# Concatenating again after target variables have been created\n",
    "df_joined_2 = pd.concat(df_list)\n",
    "\n",
    "# Examining value counts of target variables\n",
    "target_counts = df_joined_2['intra_clf_target'].value_counts()\n",
    "\n",
    "# Assigning x and y variables for barplot\n",
    "x = target_counts.keys()\n",
    "y = target_counts.values\n",
    "\n",
    "# Visualizing\n",
    "fig, ax = plt.subplots(figsize = (10,7))\n",
    "sns.set_theme(font_scale = 2)\n",
    "sns.barplot(x = x, y = y)\n",
    "ax.set(xlabel = 'Target Variable', \n",
    "       ylabel = 'Frequency', \n",
    "       title = \"Frequency of Target Variables\")\n",
    "sns.barplot(x = x, y = y)\n",
    "plt.show()"
   ]
  },
  {
   "cell_type": "markdown",
   "metadata": {},
   "source": [
    "As shown in the barplot above, there are relatively equivalent amounts of positive and negative cases, but high imbalance when compared to the neither case. As a result, I will use F1-Score as my evaluation metric.\n",
    "\n",
    "Unlike for classification, the target variable for my time series analysis does not need to be engineered. It is simply the closing price of each day I want to forecast into the future."
   ]
  },
  {
   "cell_type": "code",
   "execution_count": 22,
   "metadata": {},
   "outputs": [],
   "source": [
    "def create_moving_avs(df_list):\n",
    "    \"\"\"\n",
    "    Takes in list of dfs, creates three different moving average \n",
    "    features - 10, 50, and 200 days.\n",
    "    \n",
    "    df_list -- list of dfs\n",
    "    \"\"\"\n",
    "    for df in df_list:\n",
    "        df['10_day_ma'] = df['close'].ewm(span = 10).mean()\n",
    "        df['50_day_ma'] = df['close'].ewm(span = 50).mean()\n",
    "        df['200_day_ma'] = df['close'].ewm(span = 200).mean()\n",
    "     \n",
    "    return df_list"
   ]
  },
  {
   "cell_type": "markdown",
   "metadata": {},
   "source": [
    "I know that moving averages are important technical indicators for price movement, so the next features I created served to account for both long and short-term moving averages. I created features for a 10, 50, and 200 day moving average."
   ]
  },
  {
   "cell_type": "code",
   "execution_count": 23,
   "metadata": {},
   "outputs": [],
   "source": [
    "# Takes in list of dfs, creates three different moving average features - 10, 50, and 200 days.\n",
    "df_list = create_moving_avs(df_list)"
   ]
  },
  {
   "cell_type": "code",
   "execution_count": 159,
   "metadata": {},
   "outputs": [
    {
     "data": {
      "image/png": "[encoded data removed]",
      "text/plain": [
       "<Figure size 720x504 with 1 Axes>"
      ]
     },
     "metadata": {},
     "output_type": "display_data"
    }
   ],
   "source": [
    "# Concatenating again after moving averages have been created\n",
    "df_joined_3 = pd.concat(df_list)\n",
    "\n",
    "# Grouping by date and mean closing price accross all stocks\n",
    "date_close_gb = df_joined.groupby(df_joined.index)['close'].mean()\n",
    "\n",
    "ten_day_gb = df_joined_3.groupby(df_joined_3.index)['10_day_ma'].mean()\n",
    "fifty_day_gb = df_joined_3.groupby(df_joined_3.index)['50_day_ma'].mean()\n",
    "twohundred_day_gb = df_joined_3.groupby(df_joined_3.index)['200_day_ma'].mean()\n",
    "\n",
    "# Assigning x1 and y1 to date and closing price\n",
    "x1 = date_close_gb.keys()\n",
    "y1 = date_close_gb.values\n",
    "\n",
    "# Assigning x2 and y2 to the ten day moving average\n",
    "x2 = ten_day_gb.keys()\n",
    "y2 = ten_day_gb.values\n",
    "\n",
    "# Assigning x3 and y3 to the fifty day moving average\n",
    "x3 = fifty_day_gb.keys()\n",
    "y3 = fifty_day_gb.values\n",
    "\n",
    "# Assigning x4 and y4 to the two hundred day moving average\n",
    "x4 = twohundred_day_gb.keys()\n",
    "y4 = twohundred_day_gb.values\n",
    "\n",
    "\n",
    "# Visualizing\n",
    "fig, ax = plt.subplots(figsize = (10,7))\n",
    "sns.set_theme(font_scale = 2)\n",
    "sns.lineplot(x = x1, y = y1, label = 'Mean Closing Price')\n",
    "sns.lineplot(x = x2, y = y2, label = '10 Day Moving Average')\n",
    "sns.lineplot(x = x3, y = y3, label = '50 Day Moving Average')\n",
    "sns.lineplot(x = x4, y = y4, label = '200 Day Moving Average')\n",
    "ax.set(xlabel = 'Date', \n",
    "       ylabel = 'Mean Closing Price ($)', \n",
    "       title = \"160 Small-Cap Stocks' Mean Closing Prices\")\n",
    "fig.autofmt_xdate(rotation=45)\n",
    "plt.show()"
   ]
  },
  {
   "cell_type": "markdown",
   "metadata": {},
   "source": [
    "The various moving averages are shown in comparison to the mean closing prices for each day. As one would expect, the 200 day average is much less affected by small price movements, as opposed to the 10 day average, which follows the mean closing price very closely.\n",
    "\n",
    "An important concept in quantitative finance is <b>Mean Reversion</b>, which holds that stocks tend to revert to the moving average of their prices."
   ]
  },
  {
   "cell_type": "code",
   "execution_count": 24,
   "metadata": {},
   "outputs": [],
   "source": [
    "def create_pct_price_changes(df_list):\n",
    "    \"\"\"\n",
    "    Takes in a list of dfs and creates price change (%) features with various\n",
    "    intervals.\n",
    "    Calculates % price changes relative to the day before observed date to \n",
    "    prediction using unknown data.\n",
    "    \n",
    "    df_list -- list of dfs\n",
    "    \"\"\"\n",
    "    # Creating i_day_pct_change columns in each df\n",
    "    for df in df_list:\n",
    "        df['1_day_pct_change'] = 0\n",
    "        df['2_day_pct_change'] = 0\n",
    "        df['3_day_pct_change'] = 0\n",
    "        df['4_day_pct_change'] = 0\n",
    "   \n",
    "        # Calculating ith day price change for each col\n",
    "        for i in range(5, df.shape[0]):\n",
    "            # Difference in closing prices between the previous day and the previous day\n",
    "            diff = float(df['close'][i-1]) - float(df['close'][i-2])\n",
    "            pct = (float(diff)/float(df['close'][i-2])) * 100\n",
    "            df['1_day_pct_change'][i] = pct\n",
    "            \n",
    "            # Difference in closing prices between the previous day and two days prior\n",
    "            diff = float(df['close'][i-1]) - float(df['close'][i-3])\n",
    "            pct = (float(diff)/float(df['close'][i-3])) * 100\n",
    "            df['2_day_pct_change'][i] = pct\n",
    "            \n",
    "            # Difference in closing prices between the previous day and three days prior\n",
    "            diff = float(df['close'][i-1]) - float(df['close'][i-4])\n",
    "            pct = (float(diff)/float(df['close'][i-4])) * 100\n",
    "            df['3_day_pct_change'][i] = pct\n",
    "            \n",
    "            # Difference in closing prices between the previous day and four days prior\n",
    "            diff = float(df['close'][i-1]) - float(df['close'][i-5])\n",
    "            pct = (float(diff)/float(df['close'][i-5])) * 100\n",
    "            df['4_day_pct_change'][i] = pct\n",
    "    \n",
    "    return df_list"
   ]
  },
  {
   "cell_type": "markdown",
   "metadata": {},
   "source": [
    "The following function creates price change (%) features with intervals ranging from one to four days for each df.\n",
    "It calculates % price changes relative to the day before the observed date in order to avoid prediction using unknown data."
   ]
  },
  {
   "cell_type": "code",
   "execution_count": 25,
   "metadata": {},
   "outputs": [],
   "source": [
    "df_list = create_pct_price_changes(df_list)"
   ]
  },
  {
   "cell_type": "code",
   "execution_count": 26,
   "metadata": {},
   "outputs": [],
   "source": [
    "def create_intra_clf_target(df_list):\n",
    "    \"\"\"\n",
    "    Takes in list of dfs and creates target variable for each depending\n",
    "    on if the closing price for each day exceeds the opening price. If the\n",
    "    closing price exceeds the opening price, target = 1.\n",
    "    \n",
    "    df_list -- list of dfs\n",
    "    \"\"\"\n",
    "    for df in df_list:\n",
    "        df['intra_clf_target'] = 0\n",
    "        for i in range(len(df)):\n",
    "            \n",
    "            if df['open'][i] < df['close'][i]:\n",
    "                df['intra_clf_target'][i] = 1\n",
    "            \n",
    "            elif df['open'][i] > df['close'][i]:\n",
    "                df['intra_clf_target'][i] = 0\n",
    "    \n",
    "            elif df['open'][i] == df['close'][i]:\n",
    "                df['intra_clf_target'][i] = 2\n",
    "    \n",
    "    return df_list"
   ]
  },
  {
   "cell_type": "code",
   "execution_count": 27,
   "metadata": {},
   "outputs": [],
   "source": [
    "df_list = create_intra_clf_target(df_list)"
   ]
  },
  {
   "cell_type": "markdown",
   "metadata": {},
   "source": [
    "Below is an example of a dataframe with all features engineered:"
   ]
  },
  {
   "cell_type": "code",
   "execution_count": 26,
   "metadata": {},
   "outputs": [
    {
     "data": {
      "text/html": [
       "<div>\n",
       "<style scoped>\n",
       "    .dataframe tbody tr th:only-of-type {\n",
       "        vertical-align: middle;\n",
       "    }\n",
       "\n",
       "    .dataframe tbody tr th {\n",
       "        vertical-align: top;\n",
       "    }\n",
       "\n",
       "    .dataframe thead th {\n",
       "        text-align: right;\n",
       "    }\n",
       "</style>\n",
       "<table border=\"1\" class=\"dataframe\">\n",
       "  <thead>\n",
       "    <tr style=\"text-align: right;\">\n",
       "      <th></th>\n",
       "      <th>open</th>\n",
       "      <th>high</th>\n",
       "      <th>low</th>\n",
       "      <th>close</th>\n",
       "      <th>volume</th>\n",
       "      <th>ticker</th>\n",
       "      <th>intra_clf_target</th>\n",
       "      <th>10_day_ma</th>\n",
       "      <th>50_day_ma</th>\n",
       "      <th>200_day_ma</th>\n",
       "      <th>1_day_pct_change</th>\n",
       "      <th>2_day_pct_change</th>\n",
       "      <th>3_day_pct_change</th>\n",
       "      <th>4_day_pct_change</th>\n",
       "    </tr>\n",
       "    <tr>\n",
       "      <th>datetime</th>\n",
       "      <th></th>\n",
       "      <th></th>\n",
       "      <th></th>\n",
       "      <th></th>\n",
       "      <th></th>\n",
       "      <th></th>\n",
       "      <th></th>\n",
       "      <th></th>\n",
       "      <th></th>\n",
       "      <th></th>\n",
       "      <th></th>\n",
       "      <th></th>\n",
       "      <th></th>\n",
       "      <th></th>\n",
       "    </tr>\n",
       "  </thead>\n",
       "  <tbody>\n",
       "    <tr>\n",
       "      <th>2018-01-02 06:00:00</th>\n",
       "      <td>19.10</td>\n",
       "      <td>19.375</td>\n",
       "      <td>18.85</td>\n",
       "      <td>19.25</td>\n",
       "      <td>206318</td>\n",
       "      <td>FRGI</td>\n",
       "      <td>1</td>\n",
       "      <td>19.250000</td>\n",
       "      <td>19.250000</td>\n",
       "      <td>19.250000</td>\n",
       "      <td>0</td>\n",
       "      <td>0</td>\n",
       "      <td>0</td>\n",
       "      <td>0</td>\n",
       "    </tr>\n",
       "    <tr>\n",
       "      <th>2018-01-03 06:00:00</th>\n",
       "      <td>19.30</td>\n",
       "      <td>19.550</td>\n",
       "      <td>19.10</td>\n",
       "      <td>19.50</td>\n",
       "      <td>127818</td>\n",
       "      <td>FRGI</td>\n",
       "      <td>1</td>\n",
       "      <td>19.387500</td>\n",
       "      <td>19.377500</td>\n",
       "      <td>19.375625</td>\n",
       "      <td>0</td>\n",
       "      <td>0</td>\n",
       "      <td>0</td>\n",
       "      <td>0</td>\n",
       "    </tr>\n",
       "    <tr>\n",
       "      <th>2018-01-04 06:00:00</th>\n",
       "      <td>19.50</td>\n",
       "      <td>19.800</td>\n",
       "      <td>19.15</td>\n",
       "      <td>19.55</td>\n",
       "      <td>127878</td>\n",
       "      <td>FRGI</td>\n",
       "      <td>1</td>\n",
       "      <td>19.452824</td>\n",
       "      <td>19.437315</td>\n",
       "      <td>19.434332</td>\n",
       "      <td>0</td>\n",
       "      <td>0</td>\n",
       "      <td>0</td>\n",
       "      <td>0</td>\n",
       "    </tr>\n",
       "    <tr>\n",
       "      <th>2018-01-05 06:00:00</th>\n",
       "      <td>19.65</td>\n",
       "      <td>19.650</td>\n",
       "      <td>19.05</td>\n",
       "      <td>19.35</td>\n",
       "      <td>117937</td>\n",
       "      <td>FRGI</td>\n",
       "      <td>0</td>\n",
       "      <td>19.418948</td>\n",
       "      <td>19.414159</td>\n",
       "      <td>19.412932</td>\n",
       "      <td>0</td>\n",
       "      <td>0</td>\n",
       "      <td>0</td>\n",
       "      <td>0</td>\n",
       "    </tr>\n",
       "    <tr>\n",
       "      <th>2018-01-08 06:00:00</th>\n",
       "      <td>19.30</td>\n",
       "      <td>19.500</td>\n",
       "      <td>18.85</td>\n",
       "      <td>19.35</td>\n",
       "      <td>175156</td>\n",
       "      <td>FRGI</td>\n",
       "      <td>1</td>\n",
       "      <td>19.399155</td>\n",
       "      <td>19.400281</td>\n",
       "      <td>19.400093</td>\n",
       "      <td>0</td>\n",
       "      <td>0</td>\n",
       "      <td>0</td>\n",
       "      <td>0</td>\n",
       "    </tr>\n",
       "  </tbody>\n",
       "</table>\n",
       "</div>"
      ],
      "text/plain": [
       "                      open    high    low  close  volume ticker  \\\n",
       "datetime                                                          \n",
       "2018-01-02 06:00:00  19.10  19.375  18.85  19.25  206318   FRGI   \n",
       "2018-01-03 06:00:00  19.30  19.550  19.10  19.50  127818   FRGI   \n",
       "2018-01-04 06:00:00  19.50  19.800  19.15  19.55  127878   FRGI   \n",
       "2018-01-05 06:00:00  19.65  19.650  19.05  19.35  117937   FRGI   \n",
       "2018-01-08 06:00:00  19.30  19.500  18.85  19.35  175156   FRGI   \n",
       "\n",
       "                     intra_clf_target  10_day_ma  50_day_ma  200_day_ma  \\\n",
       "datetime                                                                  \n",
       "2018-01-02 06:00:00                 1  19.250000  19.250000   19.250000   \n",
       "2018-01-03 06:00:00                 1  19.387500  19.377500   19.375625   \n",
       "2018-01-04 06:00:00                 1  19.452824  19.437315   19.434332   \n",
       "2018-01-05 06:00:00                 0  19.418948  19.414159   19.412932   \n",
       "2018-01-08 06:00:00                 1  19.399155  19.400281   19.400093   \n",
       "\n",
       "                     1_day_pct_change  2_day_pct_change  3_day_pct_change  \\\n",
       "datetime                                                                    \n",
       "2018-01-02 06:00:00                 0                 0                 0   \n",
       "2018-01-03 06:00:00                 0                 0                 0   \n",
       "2018-01-04 06:00:00                 0                 0                 0   \n",
       "2018-01-05 06:00:00                 0                 0                 0   \n",
       "2018-01-08 06:00:00                 0                 0                 0   \n",
       "\n",
       "                     4_day_pct_change  \n",
       "datetime                               \n",
       "2018-01-02 06:00:00                 0  \n",
       "2018-01-03 06:00:00                 0  \n",
       "2018-01-04 06:00:00                 0  \n",
       "2018-01-05 06:00:00                 0  \n",
       "2018-01-08 06:00:00                 0  "
      ]
     },
     "execution_count": 26,
     "metadata": {},
     "output_type": "execute_result"
    }
   ],
   "source": [
    "df_list[0].head()"
   ]
  },
  {
   "cell_type": "markdown",
   "metadata": {},
   "source": [
    "Note: The first five observed days contain no pct price change values. This is because there was no data before the first observed day, so all values begin on the fifth day. Below is a better representation:"
   ]
  },
  {
   "cell_type": "code",
   "execution_count": 27,
   "metadata": {},
   "outputs": [
    {
     "data": {
      "text/html": [
       "<div>\n",
       "<style scoped>\n",
       "    .dataframe tbody tr th:only-of-type {\n",
       "        vertical-align: middle;\n",
       "    }\n",
       "\n",
       "    .dataframe tbody tr th {\n",
       "        vertical-align: top;\n",
       "    }\n",
       "\n",
       "    .dataframe thead th {\n",
       "        text-align: right;\n",
       "    }\n",
       "</style>\n",
       "<table border=\"1\" class=\"dataframe\">\n",
       "  <thead>\n",
       "    <tr style=\"text-align: right;\">\n",
       "      <th></th>\n",
       "      <th>open</th>\n",
       "      <th>high</th>\n",
       "      <th>low</th>\n",
       "      <th>close</th>\n",
       "      <th>volume</th>\n",
       "      <th>ticker</th>\n",
       "      <th>intra_clf_target</th>\n",
       "      <th>10_day_ma</th>\n",
       "      <th>50_day_ma</th>\n",
       "      <th>200_day_ma</th>\n",
       "      <th>1_day_pct_change</th>\n",
       "      <th>2_day_pct_change</th>\n",
       "      <th>3_day_pct_change</th>\n",
       "      <th>4_day_pct_change</th>\n",
       "    </tr>\n",
       "    <tr>\n",
       "      <th>datetime</th>\n",
       "      <th></th>\n",
       "      <th></th>\n",
       "      <th></th>\n",
       "      <th></th>\n",
       "      <th></th>\n",
       "      <th></th>\n",
       "      <th></th>\n",
       "      <th></th>\n",
       "      <th></th>\n",
       "      <th></th>\n",
       "      <th></th>\n",
       "      <th></th>\n",
       "      <th></th>\n",
       "      <th></th>\n",
       "    </tr>\n",
       "  </thead>\n",
       "  <tbody>\n",
       "    <tr>\n",
       "      <th>2020-12-24 06:00:00</th>\n",
       "      <td>11.83</td>\n",
       "      <td>11.96</td>\n",
       "      <td>11.73</td>\n",
       "      <td>11.77</td>\n",
       "      <td>26909</td>\n",
       "      <td>FRGI</td>\n",
       "      <td>0</td>\n",
       "      <td>12.035416</td>\n",
       "      <td>11.414415</td>\n",
       "      <td>9.861305</td>\n",
       "      <td>0</td>\n",
       "      <td>0</td>\n",
       "      <td>-1</td>\n",
       "      <td>-2</td>\n",
       "    </tr>\n",
       "    <tr>\n",
       "      <th>2020-12-28 06:00:00</th>\n",
       "      <td>12.03</td>\n",
       "      <td>12.04</td>\n",
       "      <td>11.62</td>\n",
       "      <td>11.68</td>\n",
       "      <td>102746</td>\n",
       "      <td>FRGI</td>\n",
       "      <td>0</td>\n",
       "      <td>11.970795</td>\n",
       "      <td>11.424830</td>\n",
       "      <td>9.879411</td>\n",
       "      <td>0</td>\n",
       "      <td>0</td>\n",
       "      <td>0</td>\n",
       "      <td>-1</td>\n",
       "    </tr>\n",
       "    <tr>\n",
       "      <th>2020-12-29 06:00:00</th>\n",
       "      <td>11.68</td>\n",
       "      <td>12.12</td>\n",
       "      <td>11.46</td>\n",
       "      <td>11.60</td>\n",
       "      <td>76553</td>\n",
       "      <td>FRGI</td>\n",
       "      <td>0</td>\n",
       "      <td>11.903378</td>\n",
       "      <td>11.431699</td>\n",
       "      <td>9.896541</td>\n",
       "      <td>0</td>\n",
       "      <td>0</td>\n",
       "      <td>0</td>\n",
       "      <td>0</td>\n",
       "    </tr>\n",
       "    <tr>\n",
       "      <th>2020-12-30 06:00:00</th>\n",
       "      <td>11.60</td>\n",
       "      <td>11.76</td>\n",
       "      <td>10.86</td>\n",
       "      <td>11.23</td>\n",
       "      <td>98980</td>\n",
       "      <td>FRGI</td>\n",
       "      <td>0</td>\n",
       "      <td>11.780945</td>\n",
       "      <td>11.423790</td>\n",
       "      <td>9.909816</td>\n",
       "      <td>0</td>\n",
       "      <td>-1</td>\n",
       "      <td>-1</td>\n",
       "      <td>-1</td>\n",
       "    </tr>\n",
       "    <tr>\n",
       "      <th>2020-12-31 06:00:00</th>\n",
       "      <td>11.27</td>\n",
       "      <td>12.00</td>\n",
       "      <td>10.91</td>\n",
       "      <td>11.40</td>\n",
       "      <td>165981</td>\n",
       "      <td>FRGI</td>\n",
       "      <td>1</td>\n",
       "      <td>11.711683</td>\n",
       "      <td>11.422857</td>\n",
       "      <td>9.924651</td>\n",
       "      <td>-3</td>\n",
       "      <td>-3</td>\n",
       "      <td>-4</td>\n",
       "      <td>-4</td>\n",
       "    </tr>\n",
       "  </tbody>\n",
       "</table>\n",
       "</div>"
      ],
      "text/plain": [
       "                      open   high    low  close  volume ticker  \\\n",
       "datetime                                                         \n",
       "2020-12-24 06:00:00  11.83  11.96  11.73  11.77   26909   FRGI   \n",
       "2020-12-28 06:00:00  12.03  12.04  11.62  11.68  102746   FRGI   \n",
       "2020-12-29 06:00:00  11.68  12.12  11.46  11.60   76553   FRGI   \n",
       "2020-12-30 06:00:00  11.60  11.76  10.86  11.23   98980   FRGI   \n",
       "2020-12-31 06:00:00  11.27  12.00  10.91  11.40  165981   FRGI   \n",
       "\n",
       "                     intra_clf_target  10_day_ma  50_day_ma  200_day_ma  \\\n",
       "datetime                                                                  \n",
       "2020-12-24 06:00:00                 0  12.035416  11.414415    9.861305   \n",
       "2020-12-28 06:00:00                 0  11.970795  11.424830    9.879411   \n",
       "2020-12-29 06:00:00                 0  11.903378  11.431699    9.896541   \n",
       "2020-12-30 06:00:00                 0  11.780945  11.423790    9.909816   \n",
       "2020-12-31 06:00:00                 1  11.711683  11.422857    9.924651   \n",
       "\n",
       "                     1_day_pct_change  2_day_pct_change  3_day_pct_change  \\\n",
       "datetime                                                                    \n",
       "2020-12-24 06:00:00                 0                 0                -1   \n",
       "2020-12-28 06:00:00                 0                 0                 0   \n",
       "2020-12-29 06:00:00                 0                 0                 0   \n",
       "2020-12-30 06:00:00                 0                -1                -1   \n",
       "2020-12-31 06:00:00                -3                -3                -4   \n",
       "\n",
       "                     4_day_pct_change  \n",
       "datetime                               \n",
       "2020-12-24 06:00:00                -2  \n",
       "2020-12-28 06:00:00                -1  \n",
       "2020-12-29 06:00:00                 0  \n",
       "2020-12-30 06:00:00                -1  \n",
       "2020-12-31 06:00:00                -4  "
      ]
     },
     "execution_count": 27,
     "metadata": {},
     "output_type": "execute_result"
    }
   ],
   "source": [
    "df_list[0].tail()"
   ]
  },
  {
   "cell_type": "markdown",
   "metadata": {},
   "source": [
    "## Selecting a Sample"
   ]
  },
  {
   "cell_type": "markdown",
   "metadata": {},
   "source": [
    "Due to time constraints, I wanted to select a subset of stocks on which to perform my analysis. I've chosen to use capital markets stocks, as their prices are affected the least by external influences. For example, biotechnology companies' prices are heavily influenced by their bringing new treatments and technologies to market. Capital markets companies performances are the most dependant on overall stock market performance out of all the industries in the dataset. "
   ]
  },
  {
   "cell_type": "code",
   "execution_count": 28,
   "metadata": {},
   "outputs": [],
   "source": [
    "# Selecting tickers from final df list\n",
    "final_list = [x['ticker'][0] for x in df_list]\n",
    "\n",
    "# Filtering screen df with 'industry' column for only those in the final screen\n",
    "sample = screen[screen['ticker'].isin(final_list)]\n",
    "\n",
    "# Getting tickers for the eight capital markets companies\n",
    "cap_markets_tickers = list(sample[sample['industry'] == 'Capital Markets']['ticker'])\n",
    "\n",
    "# Getting tickers for all other companies\n",
    "other_tickers = list(sample[sample['industry'] != 'Capital Markets']['ticker'])"
   ]
  },
  {
   "cell_type": "code",
   "execution_count": 143,
   "metadata": {},
   "outputs": [
    {
     "data": {
      "text/html": [
       "<div>\n",
       "<style scoped>\n",
       "    .dataframe tbody tr th:only-of-type {\n",
       "        vertical-align: middle;\n",
       "    }\n",
       "\n",
       "    .dataframe tbody tr th {\n",
       "        vertical-align: top;\n",
       "    }\n",
       "\n",
       "    .dataframe thead th {\n",
       "        text-align: right;\n",
       "    }\n",
       "</style>\n",
       "<table border=\"1\" class=\"dataframe\">\n",
       "  <thead>\n",
       "    <tr style=\"text-align: right;\">\n",
       "      <th></th>\n",
       "      <th>ticker</th>\n",
       "      <th>company</th>\n",
       "      <th>market_cap</th>\n",
       "      <th>sector</th>\n",
       "      <th>industry</th>\n",
       "      <th>dividend_yield</th>\n",
       "      <th>beta</th>\n",
       "    </tr>\n",
       "  </thead>\n",
       "  <tbody>\n",
       "    <tr>\n",
       "      <th>750</th>\n",
       "      <td>BANX</td>\n",
       "      <td>StoneCastle Financial Corp</td>\n",
       "      <td>136071720.0</td>\n",
       "      <td>Financials</td>\n",
       "      <td>Capital Markets</td>\n",
       "      <td>7.45%</td>\n",
       "      <td>+0.8</td>\n",
       "    </tr>\n",
       "    <tr>\n",
       "      <th>1429</th>\n",
       "      <td>CGBD</td>\n",
       "      <td>TCG BDC Inc</td>\n",
       "      <td>625592990.0</td>\n",
       "      <td>Financials</td>\n",
       "      <td>Capital Markets</td>\n",
       "      <td>11.59%</td>\n",
       "      <td>+2.2</td>\n",
       "    </tr>\n",
       "    <tr>\n",
       "      <th>2935</th>\n",
       "      <td>GAIN</td>\n",
       "      <td>Gladstone Investment Corporation</td>\n",
       "      <td>332714100.0</td>\n",
       "      <td>Financials</td>\n",
       "      <td>Capital Markets</td>\n",
       "      <td>8.32%</td>\n",
       "      <td>+1.4</td>\n",
       "    </tr>\n",
       "    <tr>\n",
       "      <th>5955</th>\n",
       "      <td>PZN</td>\n",
       "      <td>Pzena Investment Management, Inc.</td>\n",
       "      <td>518829300.0</td>\n",
       "      <td>Financials</td>\n",
       "      <td>Capital Markets</td>\n",
       "      <td>1.69%</td>\n",
       "      <td>+1.5</td>\n",
       "    </tr>\n",
       "    <tr>\n",
       "      <th>6465</th>\n",
       "      <td>SFE</td>\n",
       "      <td>Safeguard Scientifics, Inc</td>\n",
       "      <td>148131370.0</td>\n",
       "      <td>Financials</td>\n",
       "      <td>Capital Markets</td>\n",
       "      <td>--</td>\n",
       "      <td>+1.3</td>\n",
       "    </tr>\n",
       "    <tr>\n",
       "      <th>6831</th>\n",
       "      <td>SSSS</td>\n",
       "      <td>SuRo Capital Corp</td>\n",
       "      <td>250119840.0</td>\n",
       "      <td>Financials</td>\n",
       "      <td>Capital Markets</td>\n",
       "      <td>4.02%</td>\n",
       "      <td>+1.7</td>\n",
       "    </tr>\n",
       "    <tr>\n",
       "      <th>7759</th>\n",
       "      <td>WETF</td>\n",
       "      <td>Wisdom Tree Investments Inc</td>\n",
       "      <td>750605190.0</td>\n",
       "      <td>Financials</td>\n",
       "      <td>Capital Markets</td>\n",
       "      <td>2.38%</td>\n",
       "      <td>+1.7</td>\n",
       "    </tr>\n",
       "    <tr>\n",
       "      <th>7770</th>\n",
       "      <td>WHF</td>\n",
       "      <td>WhiteHorse Finance Inc</td>\n",
       "      <td>287644000.0</td>\n",
       "      <td>Financials</td>\n",
       "      <td>Capital Markets</td>\n",
       "      <td>10.19%</td>\n",
       "      <td>+1.6</td>\n",
       "    </tr>\n",
       "  </tbody>\n",
       "</table>\n",
       "</div>"
      ],
      "text/plain": [
       "     ticker                            company   market_cap      sector  \\\n",
       "750    BANX         StoneCastle Financial Corp  136071720.0  Financials   \n",
       "1429   CGBD                        TCG BDC Inc  625592990.0  Financials   \n",
       "2935   GAIN   Gladstone Investment Corporation  332714100.0  Financials   \n",
       "5955    PZN  Pzena Investment Management, Inc.  518829300.0  Financials   \n",
       "6465    SFE         Safeguard Scientifics, Inc  148131370.0  Financials   \n",
       "6831   SSSS                  SuRo Capital Corp  250119840.0  Financials   \n",
       "7759   WETF        Wisdom Tree Investments Inc  750605190.0  Financials   \n",
       "7770    WHF             WhiteHorse Finance Inc  287644000.0  Financials   \n",
       "\n",
       "             industry dividend_yield  beta  \n",
       "750   Capital Markets          7.45%  +0.8  \n",
       "1429  Capital Markets         11.59%  +2.2  \n",
       "2935  Capital Markets          8.32%  +1.4  \n",
       "5955  Capital Markets          1.69%  +1.5  \n",
       "6465  Capital Markets             --  +1.3  \n",
       "6831  Capital Markets          4.02%  +1.7  \n",
       "7759  Capital Markets          2.38%  +1.7  \n",
       "7770  Capital Markets         10.19%  +1.6  "
      ]
     },
     "execution_count": 143,
     "metadata": {},
     "output_type": "execute_result"
    }
   ],
   "source": [
    "# Examining the eight capital markets firms\n",
    "sample[sample['industry'] == 'Capital Markets']"
   ]
  },
  {
   "cell_type": "code",
   "execution_count": 71,
   "metadata": {},
   "outputs": [],
   "source": [
    "# Instantiating list of capital markets stocks\n",
    "cm_df_list = []\n",
    "\n",
    "# Instantiating list of all other stocks\n",
    "other_list = []\n",
    "\n",
    "# If the company in the larger list of dfs is part of the cap markets list,\n",
    "# append it to the list of cap markets companies\n",
    "# If it's not on the cap markets list, append it to a list of other companies\n",
    "for df in df_list:\n",
    "    if df['ticker'][0] in cap_markets_tickers:\n",
    "        cm_df_list.append(df)\n",
    "    if df['ticker'][0] in other_tickers:\n",
    "        other_list.append(df)\n",
    "\n",
    "# Deleting two WETF duplicates\n",
    "del(cm_df_list[0])\n",
    "del(cm_df_list[-1])"
   ]
  },
  {
   "cell_type": "code",
   "execution_count": 32,
   "metadata": {},
   "outputs": [
    {
     "data": {
      "text/plain": [
       "8"
      ]
     },
     "execution_count": 32,
     "metadata": {},
     "output_type": "execute_result"
    }
   ],
   "source": [
    "len(cm_df_list)"
   ]
  },
  {
   "cell_type": "markdown",
   "metadata": {},
   "source": [
    "Below is a barplot showing the distribution of the various sectors present in my final 160 stocks. Financials, which contain capital markets, dominate the group."
   ]
  },
  {
   "cell_type": "code",
   "execution_count": 87,
   "metadata": {},
   "outputs": [
    {
     "data": {
      "image/png": "[encoded data removed]",
      "text/plain": [
       "<Figure size 720x504 with 1 Axes>"
      ]
     },
     "metadata": {},
     "output_type": "display_data"
    }
   ],
   "source": [
    "# Examining value counts for each sector\n",
    "sector_counts = sample['sector'].value_counts()\n",
    "\n",
    "# Assigning x and y variables for barplot\n",
    "sector_x = sector_counts.keys()\n",
    "sector_y = sector_counts.values\n",
    "\n",
    "# Constructing plot\n",
    "fig, ax = plt.subplots(figsize = (10,7))\n",
    "sns.barplot(x = sector_x, y = sector_y)\n",
    "ax.set(xlabel = 'Sector', \n",
    "       ylabel = 'Frequency', \n",
    "       title = \"Frequency of Sectors\")\n",
    "ax.set_xticklabels(rotation = 45, ha = 'right', labels = sector_x)\n",
    "sns.set_theme(font_scale = 1)\n",
    "sns.barplot(x = sector_x, y = sector_y, color = 'cornflowerblue')\n",
    "plt.show()"
   ]
  },
  {
   "cell_type": "markdown",
   "metadata": {},
   "source": [
    "Next I wanted to test my hypothesis of capital markets stocks closely following the market. Below shows the mean daily closing prices of all 160 stocks, the eight capital markets stocks, and the 152 stocks that don't belong to the capital markets industry. Because the 160 is largely composed of the 152 other stocks, it's not surprising that the green line representing the other stocks so closely follows the overall trend that it obscures the blue line."
   ]
  },
  {
   "cell_type": "code",
   "execution_count": 142,
   "metadata": {},
   "outputs": [
    {
     "data": {
      "image/png": "[encoded data removed]",
      "text/plain": [
       "<Figure size 792x504 with 1 Axes>"
      ]
     },
     "metadata": {},
     "output_type": "display_data"
    }
   ],
   "source": [
    "# Concatenating all the dfs in cm_df_list\n",
    "cm_joined = pd.concat(cm_df_list)\n",
    "\n",
    "# Concatenating all the dfs in other_list\n",
    "others_joined = pd.concat(other_list)\n",
    "\n",
    "# Grouping by date and mean closing price accross all stocks\n",
    "date_close_gb = df_joined.groupby(df_joined.index)['close'].mean()\n",
    "cm_close_gb = cm_joined.groupby(cm_joined.index)['close'].mean()\n",
    "other_close_gb = others_joined.groupby(others_joined.index)['close'].mean()\n",
    "\n",
    "# Assigning x and y variables so they can be graphed\n",
    "x = date_close_gb.keys()\n",
    "y = date_close_gb.values\n",
    "\n",
    "# Cap Markets x and y\n",
    "x1 = cm_close_gb.keys()\n",
    "y1 = cm_close_gb.values\n",
    "\n",
    "# All others x and y\n",
    "x2 = other_close_gb.keys()\n",
    "y2 = other_close_gb.values\n",
    "\n",
    "# Visualizing\n",
    "fig, ax = plt.subplots(figsize = (11,7))\n",
    "sns.lineplot(x = x, y = y, label = 'All Industries')\n",
    "sns.lineplot(x = x1, y = y1, label = 'Capital Markets')\n",
    "sns.lineplot(x = x2, y = y2, label = 'Other Industries')\n",
    "ax.set(xlabel = 'Date', \n",
    "       ylabel = 'Mean Closing Price ($)', \n",
    "       title = \"Mean Closing Prices vs. Capital Markets vs. All Others\"\n",
    "      )\n",
    "fig.autofmt_xdate(rotation=45)\n",
    "sns.set_theme(font_scale = 3)\n",
    "plt.show()"
   ]
  },
  {
   "cell_type": "markdown",
   "metadata": {},
   "source": [
    "## Modeling and Results - Price Movement Classification"
   ]
  },
  {
   "cell_type": "markdown",
   "metadata": {},
   "source": [
    "### Initial Model"
   ]
  },
  {
   "cell_type": "markdown",
   "metadata": {},
   "source": [
    "My baseline model was a KNN and was used to evaluate my engineered features. "
   ]
  },
  {
   "cell_type": "code",
   "execution_count": 208,
   "metadata": {},
   "outputs": [
    {
     "name": "stdout",
     "output_type": "stream",
     "text": [
      "Acc: 0.47844827586206895\n",
      "Precision: 0.47241490074250914\n"
     ]
    }
   ],
   "source": [
    "# Assign a test dataframe on which to evaluate\n",
    "df_test = df_list[0]\n",
    "\n",
    "# Split into train and test sets on February 2, 2020\n",
    "train = df_test[:'2020-02-02']\n",
    "test = df_test['2020-02-02':]\n",
    "\n",
    "X_train, y_train = train[['10_day_ma', '50_day_ma', '200_day_ma', \n",
    "                          '1_day_pct_change',\n",
    "                         '2_day_pct_change', \n",
    "                          '3_day_pct_change', \n",
    "                          '4_day_pct_change']], train['intra_clf_target']\n",
    "\n",
    "X_test, y_test = test[['10_day_ma', '50_day_ma', '200_day_ma', \n",
    "                          '1_day_pct_change',\n",
    "                         '2_day_pct_change', \n",
    "                          '3_day_pct_change', \n",
    "                          '4_day_pct_change']], test['intra_clf_target']\n",
    "\n",
    "# Instantiate the KNN Classifier\n",
    "knn = KNeighborsClassifier()\n",
    "\n",
    "# Instantiate the scaler\n",
    "scaler = StandardScaler()\n",
    "\n",
    "# Fit, transform on the train set, only transform on the test set\n",
    "scaler.fit_transform(X_train)\n",
    "scaler.transform(X_test)\n",
    "\n",
    "# Fit the model to the training data\n",
    "knn.fit(X_train, y_train)\n",
    "\n",
    "# Predict on the test data\n",
    "preds = knn.predict(X_test)\n",
    "\n",
    "# Evaluate metrics\n",
    "print('Acc:', accuracy_score(y_test, preds)) # price changes improved to .486 from .45\n",
    "print('Precision:', precision_score(y_test, preds, average = 'weighted')) # improved from .44 with price change featur"
   ]
  },
  {
   "cell_type": "markdown",
   "metadata": {},
   "source": [
    "My initial accuracy and precision scores were .451 and .448, respectively; however, the addition of my moving average and percent-price-change features saw these increase to .478 and .472, respectively."
   ]
  },
  {
   "cell_type": "code",
   "execution_count": 168,
   "metadata": {},
   "outputs": [],
   "source": [
    "def time_cross_validate(df, model, param_grid):\n",
    "    \"\"\"\n",
    "    Takes in df, model, and param_grid, and returns cross validated scores and params.\n",
    "    \n",
    "    df -- dataframe\n",
    "    model -- model to be used for cross validation\n",
    "    param_grid -- dictionary to be used for GridSearch param_grid\n",
    "    \"\"\"\n",
    "    # Designating predictor and target columns\n",
    "    predictor_cols = ['10_day_ma', \n",
    "                      '50_day_ma', \n",
    "                      '200_day_ma', \n",
    "                      '1_day_pct_change',\n",
    "                      '2_day_pct_change', \n",
    "                      '3_day_pct_change', \n",
    "                      '4_day_pct_change']\n",
    "    target = 'intra_clf_target'\n",
    "    \n",
    "    # Creating dataframe with numerical index that can be split\n",
    "    dataframe = df.reset_index()\n",
    "\n",
    "    # Creating tuples of train, test indices to be passed into the cv parameter of GridSearchCV\n",
    "    train_test_indices_1 = (list(range(455)), list(range(455, 530)))\n",
    "    train_test_indices_2 = (list(range(530)), list(range(530, 605)))\n",
    "    train_test_indices_3 = (list(range(605)), list(range(605, 680)))\n",
    "    train_test_indices_4 = (list(range(680)), list(range(680, 755)))\n",
    "    \n",
    "    # Splitting the df into data and target values\n",
    "    data, target = dataframe[predictor_cols], df[target]\n",
    "    \n",
    "    # Scaling the data\n",
    "    scaler = StandardScaler()\n",
    "    scaler.fit_transform(data)\n",
    "    \n",
    "    # Instantiating Gridsearch\n",
    "    \n",
    "    # add pipeline into 'estimator'\n",
    "    clf = GridSearchCV(estimator = model,\n",
    "                       param_grid = param_grid,\n",
    "                       cv = [train_test_indices_1,\n",
    "                             train_test_indices_2,\n",
    "                             train_test_indices_3,\n",
    "                             train_test_indices_4\n",
    "                       ],\n",
    "                       n_jobs = -1,\n",
    "                       scoring = 'f1_weighted',\n",
    "                       verbose = False\n",
    "    )\n",
    "    \n",
    "    # Fitting Gridsearch\n",
    "    clf.fit(data, target)\n",
    "    \n",
    "    # Get results and store them in a dictionary\n",
    "    best_score = clf.best_score_\n",
    "    best_params = clf.best_params_\n",
    "    best_params['best_score'] = best_score\n",
    "    \n",
    "    return best_params"
   ]
  },
  {
   "cell_type": "markdown",
   "metadata": {},
   "source": [
    "### Gridsearch and Cross Validation"
   ]
  },
  {
   "cell_type": "markdown",
   "metadata": {},
   "source": [
    "Next I wanted to add another model - Random Forest - then gridsearch my parameters and cross validate my evaluation metric, F1-Score. Because I have a high imbalance among my three classes, F1-Score serves to remedy much of the bias in scoring this may cause, as it takes into account precision and recall. I gridsearched only on the first ten dataframes in my list of dataframes for the sake of time. For each df and respective model fit to it, a dictionary with the parameters used in the model as well as the F1-Score attained with those parameters. For each model, I compile these into a list, then pick the parameters to use in my final models based on frequency.  "
   ]
  },
  {
   "cell_type": "markdown",
   "metadata": {},
   "source": [
    "Because of the time series nature of the data, I had to create a custom means of cross validating my scoring metric. I split the data into five folds - one representing 60% of the data and four others, each representing 10%. Each of the subsets was in sequential order in relation to all others. I would train on the first, large set and test on the second set. Once I have my scoring metrics from that iteration, I would combine the original train and test sets into one training set then test on the next set in the order. I continued this process until I had tested on all four 'testing' sets, after which I averaged my metrics."
   ]
  },
  {
   "cell_type": "code",
   "execution_count": 209,
   "metadata": {},
   "outputs": [],
   "source": [
    "# Instantiate Random Forest and KNN Classifiers to be used in further modeling\n",
    "rfc = RandomForestClassifier(random_state = 1)\n",
    "knn = KNeighborsClassifier()\n",
    "\n",
    "# Parameter grid for random forest gridsearch\n",
    "rfc_param_grid = {'n_estimators': [500, 750, 1000],\n",
    "                  'class_weight': ['balanced'],\n",
    "                  'criterion': ['gini', 'entropy'],\n",
    "                  'max_depth': [3, 5, 7]\n",
    "             }\n",
    "\n",
    "# Parameter grid for knn gridsearch\n",
    "knn_param_grid = {'n_neighbors': [3, 4, 5, 6, 7],\n",
    "                  'algorithm': ['auto', 'ball_tree', 'kd_tree'],\n",
    "                  'leaf_size': [15, 30, 40]\n",
    "                 }"
   ]
  },
  {
   "cell_type": "markdown",
   "metadata": {},
   "source": [
    "#### Random Forest"
   ]
  },
  {
   "cell_type": "code",
   "execution_count": 210,
   "metadata": {},
   "outputs": [],
   "source": [
    "# Create a list of random forest best params and scores for first 10 dfs\n",
    "rfc_gs_results = []\n",
    "\n",
    "for df in df_list[:10]:\n",
    "    # Gridsearch and Cross Validation \n",
    "    result = time_cross_validate(df = df, model = rfc, param_grid = rfc_param_grid)\n",
    "    \n",
    "    # Appending to list of dicts\n",
    "    rfc_gs_results.append(result)            "
   ]
  },
  {
   "cell_type": "code",
   "execution_count": 211,
   "metadata": {},
   "outputs": [
    {
     "data": {
      "text/plain": [
       "[{'class_weight': 'balanced',\n",
       "  'criterion': 'gini',\n",
       "  'max_depth': 7,\n",
       "  'n_estimators': 750,\n",
       "  'best_score': 0.5176355976288064},\n",
       " {'class_weight': 'balanced',\n",
       "  'criterion': 'gini',\n",
       "  'max_depth': 7,\n",
       "  'n_estimators': 500,\n",
       "  'best_score': 0.4121418774142814},\n",
       " {'class_weight': 'balanced',\n",
       "  'criterion': 'gini',\n",
       "  'max_depth': 7,\n",
       "  'n_estimators': 750,\n",
       "  'best_score': 0.4214129030051067},\n",
       " {'class_weight': 'balanced',\n",
       "  'criterion': 'gini',\n",
       "  'max_depth': 3,\n",
       "  'n_estimators': 1000,\n",
       "  'best_score': 0.41655311678972823},\n",
       " {'class_weight': 'balanced',\n",
       "  'criterion': 'gini',\n",
       "  'max_depth': 7,\n",
       "  'n_estimators': 750,\n",
       "  'best_score': 0.43670282997437815},\n",
       " {'class_weight': 'balanced',\n",
       "  'criterion': 'entropy',\n",
       "  'max_depth': 3,\n",
       "  'n_estimators': 500,\n",
       "  'best_score': 0.5211071224115051},\n",
       " {'class_weight': 'balanced',\n",
       "  'criterion': 'gini',\n",
       "  'max_depth': 7,\n",
       "  'n_estimators': 1000,\n",
       "  'best_score': 0.43345877098714847},\n",
       " {'class_weight': 'balanced',\n",
       "  'criterion': 'entropy',\n",
       "  'max_depth': 7,\n",
       "  'n_estimators': 750,\n",
       "  'best_score': 0.43515271938282385},\n",
       " {'class_weight': 'balanced',\n",
       "  'criterion': 'gini',\n",
       "  'max_depth': 7,\n",
       "  'n_estimators': 500,\n",
       "  'best_score': 0.4363927471407225},\n",
       " {'class_weight': 'balanced',\n",
       "  'criterion': 'gini',\n",
       "  'max_depth': 7,\n",
       "  'n_estimators': 1000,\n",
       "  'best_score': 0.4397852038245766}]"
      ]
     },
     "execution_count": 211,
     "metadata": {},
     "output_type": "execute_result"
    }
   ],
   "source": [
    "rfc_gs_results"
   ]
  },
  {
   "cell_type": "code",
   "execution_count": 212,
   "metadata": {},
   "outputs": [
    {
     "data": {
      "text/plain": [
       "0.44703428885590774"
      ]
     },
     "execution_count": 212,
     "metadata": {},
     "output_type": "execute_result"
    }
   ],
   "source": [
    "# Calculating mean random forest F1 score for the first 10 stocks\n",
    "np.mean([x['best_score'] for x in rfc_gs_results])"
   ]
  },
  {
   "cell_type": "markdown",
   "metadata": {},
   "source": [
    "The highest performing parameters for the Random Forest based on this gridsearch are:\n",
    "* max_depth = 7\n",
    "* n_estimators = 1000\n",
    "* criterion = 'gini'\n",
    "* class_weight = 'balanced'"
   ]
  },
  {
   "cell_type": "markdown",
   "metadata": {},
   "source": [
    "#### KNN"
   ]
  },
  {
   "cell_type": "code",
   "execution_count": 213,
   "metadata": {},
   "outputs": [],
   "source": [
    "# Create a list of knn best params and scores for first 10 dfs\n",
    "knn_gs_results = []\n",
    "\n",
    "for df in df_list[:10]:\n",
    "    # Gridsearch and Cross Validation\n",
    "    result = time_cross_validate(df = df, model = knn, param_grid = knn_param_grid)\n",
    "    \n",
    "    # Appending to list of dicts\n",
    "    knn_gs_results.append(result)            "
   ]
  },
  {
   "cell_type": "code",
   "execution_count": 214,
   "metadata": {},
   "outputs": [
    {
     "data": {
      "text/plain": [
       "[{'algorithm': 'auto',\n",
       "  'leaf_size': 15,\n",
       "  'n_neighbors': 3,\n",
       "  'best_score': 0.576601109444148},\n",
       " {'algorithm': 'auto',\n",
       "  'leaf_size': 15,\n",
       "  'n_neighbors': 7,\n",
       "  'best_score': 0.49638011455886394},\n",
       " {'algorithm': 'auto',\n",
       "  'leaf_size': 15,\n",
       "  'n_neighbors': 4,\n",
       "  'best_score': 0.4731011104209102},\n",
       " {'algorithm': 'auto',\n",
       "  'leaf_size': 15,\n",
       "  'n_neighbors': 3,\n",
       "  'best_score': 0.48475326759503967},\n",
       " {'algorithm': 'auto',\n",
       "  'leaf_size': 15,\n",
       "  'n_neighbors': 5,\n",
       "  'best_score': 0.4389712818529228},\n",
       " {'algorithm': 'auto',\n",
       "  'leaf_size': 15,\n",
       "  'n_neighbors': 3,\n",
       "  'best_score': 0.49703569451333196},\n",
       " {'algorithm': 'auto',\n",
       "  'leaf_size': 15,\n",
       "  'n_neighbors': 5,\n",
       "  'best_score': 0.45593020019920844},\n",
       " {'algorithm': 'auto',\n",
       "  'leaf_size': 15,\n",
       "  'n_neighbors': 3,\n",
       "  'best_score': 0.4753586077256872},\n",
       " {'algorithm': 'auto',\n",
       "  'leaf_size': 15,\n",
       "  'n_neighbors': 4,\n",
       "  'best_score': 0.4893848500649194},\n",
       " {'algorithm': 'auto',\n",
       "  'leaf_size': 15,\n",
       "  'n_neighbors': 3,\n",
       "  'best_score': 0.49386610662578456}]"
      ]
     },
     "execution_count": 214,
     "metadata": {},
     "output_type": "execute_result"
    }
   ],
   "source": [
    "knn_gs_results"
   ]
  },
  {
   "cell_type": "code",
   "execution_count": 215,
   "metadata": {},
   "outputs": [
    {
     "data": {
      "text/plain": [
       "0.4881382343000816"
      ]
     },
     "execution_count": 215,
     "metadata": {},
     "output_type": "execute_result"
    }
   ],
   "source": [
    "# Calculating mean KNN F1 score for the first 10 stocks\n",
    "np.mean([x['best_score'] for x in knn_gs_results])"
   ]
  },
  {
   "cell_type": "markdown",
   "metadata": {},
   "source": [
    "The highest performing parameters for the KNN based on this gridsearch are:\n",
    "* algorithm = 'auto'\n",
    "* leaf_size = 15\n",
    "* n_neighbors = 3"
   ]
  },
  {
   "cell_type": "code",
   "execution_count": 216,
   "metadata": {},
   "outputs": [],
   "source": [
    "def time_train_test_split(df, split_date):\n",
    "    \"\"\"\n",
    "    Takes in a df and a date to split train and test sets\n",
    "    on the split date and returns X_train, X_test, y_train, y_test.\n",
    "    Built to be incorporated with time_cross_validate().\n",
    "    \n",
    "    df -- dataframe of prices\n",
    "    split_date -- str formatted as 'YYYY-MM-DD'\n",
    "    \"\"\"\n",
    "    # Create list of split components\n",
    "    train_test_sets = [] # not being used\n",
    "    \n",
    "    # Create train and test sets\n",
    "    train = df[:split_date]\n",
    "    test = df[split_date:]\n",
    "    \n",
    "    # Create list of columns to use in prediction, as well as target variable\n",
    "    predictor_cols = ['10_day_ma', \n",
    "                      '50_day_ma', \n",
    "                      '200_day_ma', \n",
    "                      '1_day_pct_change',\n",
    "                      '2_day_pct_change', \n",
    "                      '3_day_pct_change', \n",
    "                      '4_day_pct_change']\n",
    "    target = 'intra_clf_target'\n",
    "    \n",
    "    # Create train and test sets\n",
    "    X_train, X_test = train[predictor_cols], test[predictor_cols]\n",
    "    y_train, y_test = train[target], test[target]\n",
    "    \n",
    "    return X_train, X_test, y_train, y_test"
   ]
  },
  {
   "cell_type": "code",
   "execution_count": 217,
   "metadata": {},
   "outputs": [],
   "source": [
    "def scale_and_plant_random_forests(X_train, X_test, y_train, y_test):\n",
    "    \"\"\"\n",
    "    Takes in train and test sets, runs a Random Forest Classifier on each,\n",
    "    then returns a tuple of y test and y predicted values to be\n",
    "    passed through an f1_score\n",
    "    \n",
    "    X_train -- training prediction data\n",
    "    X_test -- testing prediction data\n",
    "    y_train -- training target data\n",
    "    y_test -- testing target data\n",
    "    \"\"\"\n",
    "    # Instantiate scaler\n",
    "    scaler = StandardScaler()\n",
    "    \n",
    "    # Fit, transform on train set, only transform test set\n",
    "    scaler.fit_transform(X_train)\n",
    "    scaler.transform(X_test)\n",
    "    \n",
    "    # Instantiate Random Forest Classifier with gridsearched parameters\n",
    "    rfc = RandomForestClassifier(random_state = 1,\n",
    "                                 max_depth = 7,\n",
    "                                 n_estimators = 1000,\n",
    "                                 criterion = 'gini',\n",
    "                                 class_weight = 'balanced'\n",
    "                                )\n",
    "    \n",
    "    # Fit to the training data\n",
    "    rfc.fit(X_train, y_train)\n",
    "    \n",
    "    # Predict on the test data\n",
    "    y_pred = rfc.predict(X_test)\n",
    "    \n",
    "    return (y_test, y_pred)"
   ]
  },
  {
   "cell_type": "code",
   "execution_count": 218,
   "metadata": {},
   "outputs": [],
   "source": [
    "def scale_and_knn(X_train, X_test, y_train, y_test):\n",
    "    \"\"\"\n",
    "    Takes in train and test sets, runs a K Nearest Neighbors Classifier on each,\n",
    "    then returns a tuple of y test and y predicted values to be\n",
    "    passed through an f1_score.\n",
    "    \n",
    "    X_train -- training prediction data\n",
    "    X_test -- testing prediction data\n",
    "    y_train -- training target data\n",
    "    y_test -- testing target data\n",
    "    \"\"\"\n",
    "    # Instantiate scaler\n",
    "    scaler = StandardScaler()\n",
    "    \n",
    "    # Fit, transform on train set, only transform test set\n",
    "    scaler.fit_transform(X_train)\n",
    "    scaler.transform(X_test)\n",
    "    \n",
    "    # Instantiate K Neighbors Classifier with gridsearched parameters\n",
    "    knn = KNeighborsClassifier(algorithm = 'auto',\n",
    "                               leaf_size = 15, \n",
    "                               n_neighbors = 3\n",
    "                              )\n",
    "    \n",
    "    # Fit to the training data\n",
    "    knn.fit(X_train, y_train)\n",
    "    \n",
    "    # Predict on the test data\n",
    "    y_pred = knn.predict(X_test)\n",
    "    \n",
    "    return (y_test, y_pred)"
   ]
  },
  {
   "cell_type": "code",
   "execution_count": 219,
   "metadata": {},
   "outputs": [],
   "source": [
    "def compare_scores(df_list):\n",
    "    \"\"\"\n",
    "    Takes in a list of dfs and returns a list of tuples to \n",
    "    compare the performance of two models based on their \n",
    "    respective F1 scores.\n",
    "    \n",
    "    df_list -- list of dfs\n",
    "    \"\"\"\n",
    "    # Creating a list of tuples to compare model performance on each stock\n",
    "    tuned_scores_comparison_list = []\n",
    "\n",
    "    # Looping through the list of dfs\n",
    "    for df in df_list:\n",
    "        # Splitting train and test sets\n",
    "        X_train, X_test, y_train, y_test = time_train_test_split(df, '2020-05-20')\n",
    "\n",
    "        # Predicting with Random Forest\n",
    "        (true, pred) = scale_and_plant_random_forests(X_train, X_test, y_train, y_test)\n",
    "\n",
    "        # Evaluating Random Forest\n",
    "        rfc_f1 = f1_score(true, pred, average = 'weighted')\n",
    "\n",
    "        # Predicting with KNN\n",
    "        (true, pred) = scale_and_knn(X_train, X_test, y_train, y_test)\n",
    "\n",
    "        # Evaluating KNN\n",
    "        knn_f1 = f1_score(true, pred, average = 'weighted')\n",
    "\n",
    "        # Appending to list of tuples\n",
    "        tuned_scores_comparison_list.append((rfc_f1, knn_f1))\n",
    "\n",
    "    return tuned_scores_comparison_list"
   ]
  },
  {
   "cell_type": "markdown",
   "metadata": {},
   "source": [
    "### Final Classification Models"
   ]
  },
  {
   "cell_type": "markdown",
   "metadata": {},
   "source": [
    "#### Analysis of Results and Comparing Models"
   ]
  },
  {
   "cell_type": "markdown",
   "metadata": {},
   "source": [
    "For my final Random Forest and KNN models, I used the parameters I obtained through my gridsearch. I anticipated that there would not be a clear favorite among the two models, and that instead KNN would perform better on some stocks while Random Forest would perform better on others. I evaluated both models on the first ten stocks, creating a list of tuples of F1-Scores. The first item in each tuple corresponds to the Random Forest F1 and the second to the KNN F1."
   ]
  },
  {
   "cell_type": "code",
   "execution_count": 222,
   "metadata": {},
   "outputs": [
    {
     "data": {
      "text/plain": [
       "[(0.4509692605926336, 0.4901152892169149),\n",
       " (0.30944654196808563, 0.4423287183594594),\n",
       " (0.38072286164810465, 0.5943245528288288),\n",
       " (0.3270178241615679, 0.5724220005461703),\n",
       " (0.5049749031359106, 0.4765149879448703),\n",
       " (0.3269822688930969, 0.39663309090060683),\n",
       " (0.44208826413480257, 0.45570681714302896),\n",
       " (0.46216861131465714, 0.5564158530435737),\n",
       " (0.4509692605926336, 0.4901152892169149),\n",
       " (0.4782157333112747, 0.5354857513708452)]"
      ]
     },
     "execution_count": 222,
     "metadata": {},
     "output_type": "execute_result"
    }
   ],
   "source": [
    "# Creating a list of tuples to compare model performance on each stock\n",
    "comparison_list = compare_scores(cm_df_list)\n",
    "comparison_list"
   ]
  },
  {
   "cell_type": "code",
   "execution_count": 223,
   "metadata": {},
   "outputs": [],
   "source": [
    "# Splitting the above tuples into individual lists of F1-Scores for the purpose of visualization\n",
    "rfc_f1 = [x[0] for x in comparison_list]\n",
    "knn_f1 = [x[1] for x in comparison_list]"
   ]
  },
  {
   "cell_type": "code",
   "execution_count": 228,
   "metadata": {},
   "outputs": [
    {
     "data": {
      "image/png": "[encoded data removed]",
      "text/plain": [
       "<Figure size 720x504 with 1 Axes>"
      ]
     },
     "metadata": {},
     "output_type": "display_data"
    }
   ],
   "source": [
    "fig, ax = plt.subplots(figsize = (10,7))\n",
    "sns.lineplot(x = range(10), y = rfc_f1, label = 'RFC F1-Score')\n",
    "sns.lineplot(x = range(10), y = knn_f1, label = 'KNN F1-Score')\n",
    "ax.set(xlabel = 'Stock #',ylabel = 'F1-Score', title = 'F1-Score on Each of Eight Stocks')\n",
    "sns.set_theme(font_scale = 1)\n",
    "# ax.axhline(y = np.mean(rfc_f1), xmin = .05, xmax = .95)\n",
    "# ax.axhline(y = np.mean(knn_f1), xmin = .05, xmax = .95, color = 'orange')\n",
    "# ax.text(x = 9.5, y = np.mean(rfc_f1), s = str(round(np.mean(rfc_f1), 2)))\n",
    "# ax.text(x = 9.5, y = np.mean(knn_f1), s = str(round(np.mean(knn_f1), 2)))\n",
    "ax.legend()\n",
    "plt.show()"
   ]
  },
  {
   "cell_type": "markdown",
   "metadata": {},
   "source": [
    "Contrary to my initial assumption, the KNN F1-Score outperformed the RF F1-Score on average, as shown in the graph above."
   ]
  },
  {
   "cell_type": "markdown",
   "metadata": {},
   "source": [
    "# Time Series"
   ]
  },
  {
   "cell_type": "markdown",
   "metadata": {},
   "source": [
    "In order to predict exact prices as opposed to price movements, I needed to use time series models like ARMA, which stands for Autoregressive Moving Average. The autoregressive portion of the title refers to the model's ability to predict a value based on values that came chronologically before it. The moving average portion is self explanatory, referring to the model's use of a moving average component in its forecasting."
   ]
  },
  {
   "cell_type": "markdown",
   "metadata": {},
   "source": [
    "## Data Inspection"
   ]
  },
  {
   "cell_type": "markdown",
   "metadata": {},
   "source": [
    "I began by taking a look at a dataframe from my capital markets stock list to use as a test df to develop my first simple model."
   ]
  },
  {
   "cell_type": "code",
   "execution_count": 183,
   "metadata": {},
   "outputs": [
    {
     "data": {
      "text/html": [
       "<div>\n",
       "<style scoped>\n",
       "    .dataframe tbody tr th:only-of-type {\n",
       "        vertical-align: middle;\n",
       "    }\n",
       "\n",
       "    .dataframe tbody tr th {\n",
       "        vertical-align: top;\n",
       "    }\n",
       "\n",
       "    .dataframe thead th {\n",
       "        text-align: right;\n",
       "    }\n",
       "</style>\n",
       "<table border=\"1\" class=\"dataframe\">\n",
       "  <thead>\n",
       "    <tr style=\"text-align: right;\">\n",
       "      <th></th>\n",
       "      <th>open</th>\n",
       "      <th>high</th>\n",
       "      <th>low</th>\n",
       "      <th>close</th>\n",
       "      <th>volume</th>\n",
       "      <th>ticker</th>\n",
       "      <th>intra_clf_target</th>\n",
       "      <th>10_day_ma</th>\n",
       "      <th>50_day_ma</th>\n",
       "      <th>200_day_ma</th>\n",
       "      <th>1_day_pct_change</th>\n",
       "      <th>2_day_pct_change</th>\n",
       "      <th>3_day_pct_change</th>\n",
       "      <th>4_day_pct_change</th>\n",
       "    </tr>\n",
       "    <tr>\n",
       "      <th>datetime</th>\n",
       "      <th></th>\n",
       "      <th></th>\n",
       "      <th></th>\n",
       "      <th></th>\n",
       "      <th></th>\n",
       "      <th></th>\n",
       "      <th></th>\n",
       "      <th></th>\n",
       "      <th></th>\n",
       "      <th></th>\n",
       "      <th></th>\n",
       "      <th></th>\n",
       "      <th></th>\n",
       "      <th></th>\n",
       "    </tr>\n",
       "  </thead>\n",
       "  <tbody>\n",
       "    <tr>\n",
       "      <th>2018-01-02 06:00:00</th>\n",
       "      <td>12.56</td>\n",
       "      <td>12.600</td>\n",
       "      <td>12.1400</td>\n",
       "      <td>12.22</td>\n",
       "      <td>915070</td>\n",
       "      <td>WETF</td>\n",
       "      <td>0</td>\n",
       "      <td>12.220000</td>\n",
       "      <td>12.220000</td>\n",
       "      <td>12.220000</td>\n",
       "      <td>0</td>\n",
       "      <td>0</td>\n",
       "      <td>0</td>\n",
       "      <td>0</td>\n",
       "    </tr>\n",
       "    <tr>\n",
       "      <th>2018-01-03 06:00:00</th>\n",
       "      <td>12.33</td>\n",
       "      <td>12.630</td>\n",
       "      <td>12.1900</td>\n",
       "      <td>12.21</td>\n",
       "      <td>1777000</td>\n",
       "      <td>WETF</td>\n",
       "      <td>0</td>\n",
       "      <td>12.214500</td>\n",
       "      <td>12.214900</td>\n",
       "      <td>12.214975</td>\n",
       "      <td>0</td>\n",
       "      <td>0</td>\n",
       "      <td>0</td>\n",
       "      <td>0</td>\n",
       "    </tr>\n",
       "    <tr>\n",
       "      <th>2018-01-04 06:00:00</th>\n",
       "      <td>12.29</td>\n",
       "      <td>12.535</td>\n",
       "      <td>12.2300</td>\n",
       "      <td>12.49</td>\n",
       "      <td>1024526</td>\n",
       "      <td>WETF</td>\n",
       "      <td>1</td>\n",
       "      <td>12.325249</td>\n",
       "      <td>12.310292</td>\n",
       "      <td>12.307568</td>\n",
       "      <td>0</td>\n",
       "      <td>0</td>\n",
       "      <td>0</td>\n",
       "      <td>0</td>\n",
       "    </tr>\n",
       "    <tr>\n",
       "      <th>2018-01-05 06:00:00</th>\n",
       "      <td>12.54</td>\n",
       "      <td>12.845</td>\n",
       "      <td>12.5274</td>\n",
       "      <td>12.76</td>\n",
       "      <td>1264503</td>\n",
       "      <td>WETF</td>\n",
       "      <td>1</td>\n",
       "      <td>12.468480</td>\n",
       "      <td>12.429553</td>\n",
       "      <td>12.422378</td>\n",
       "      <td>0</td>\n",
       "      <td>0</td>\n",
       "      <td>0</td>\n",
       "      <td>0</td>\n",
       "    </tr>\n",
       "    <tr>\n",
       "      <th>2018-01-08 06:00:00</th>\n",
       "      <td>12.75</td>\n",
       "      <td>13.150</td>\n",
       "      <td>12.7500</td>\n",
       "      <td>13.04</td>\n",
       "      <td>1111746</td>\n",
       "      <td>WETF</td>\n",
       "      <td>1</td>\n",
       "      <td>12.632548</td>\n",
       "      <td>12.561601</td>\n",
       "      <td>12.548386</td>\n",
       "      <td>0</td>\n",
       "      <td>0</td>\n",
       "      <td>0</td>\n",
       "      <td>0</td>\n",
       "    </tr>\n",
       "  </tbody>\n",
       "</table>\n",
       "</div>"
      ],
      "text/plain": [
       "                      open    high      low  close   volume ticker  \\\n",
       "datetime                                                             \n",
       "2018-01-02 06:00:00  12.56  12.600  12.1400  12.22   915070   WETF   \n",
       "2018-01-03 06:00:00  12.33  12.630  12.1900  12.21  1777000   WETF   \n",
       "2018-01-04 06:00:00  12.29  12.535  12.2300  12.49  1024526   WETF   \n",
       "2018-01-05 06:00:00  12.54  12.845  12.5274  12.76  1264503   WETF   \n",
       "2018-01-08 06:00:00  12.75  13.150  12.7500  13.04  1111746   WETF   \n",
       "\n",
       "                     intra_clf_target  10_day_ma  50_day_ma  200_day_ma  \\\n",
       "datetime                                                                  \n",
       "2018-01-02 06:00:00                 0  12.220000  12.220000   12.220000   \n",
       "2018-01-03 06:00:00                 0  12.214500  12.214900   12.214975   \n",
       "2018-01-04 06:00:00                 1  12.325249  12.310292   12.307568   \n",
       "2018-01-05 06:00:00                 1  12.468480  12.429553   12.422378   \n",
       "2018-01-08 06:00:00                 1  12.632548  12.561601   12.548386   \n",
       "\n",
       "                     1_day_pct_change  2_day_pct_change  3_day_pct_change  \\\n",
       "datetime                                                                    \n",
       "2018-01-02 06:00:00                 0                 0                 0   \n",
       "2018-01-03 06:00:00                 0                 0                 0   \n",
       "2018-01-04 06:00:00                 0                 0                 0   \n",
       "2018-01-05 06:00:00                 0                 0                 0   \n",
       "2018-01-08 06:00:00                 0                 0                 0   \n",
       "\n",
       "                     4_day_pct_change  \n",
       "datetime                               \n",
       "2018-01-02 06:00:00                 0  \n",
       "2018-01-03 06:00:00                 0  \n",
       "2018-01-04 06:00:00                 0  \n",
       "2018-01-05 06:00:00                 0  \n",
       "2018-01-08 06:00:00                 0  "
      ]
     },
     "execution_count": 183,
     "metadata": {},
     "output_type": "execute_result"
    }
   ],
   "source": [
    "cm_df_list[0].head()"
   ]
  },
  {
   "cell_type": "code",
   "execution_count": 188,
   "metadata": {},
   "outputs": [
    {
     "data": {
      "text/plain": [
       "datetime\n",
       "2018-01-02 06:00:00    12.22\n",
       "2018-01-03 06:00:00    12.21\n",
       "2018-01-04 06:00:00    12.49\n",
       "2018-01-05 06:00:00    12.76\n",
       "2018-01-08 06:00:00    13.04\n",
       "Name: close, dtype: float64"
      ]
     },
     "execution_count": 188,
     "metadata": {},
     "output_type": "execute_result"
    }
   ],
   "source": [
    "df_test = cm_df_list[0]['close']\n",
    "\n",
    "df_test.head()"
   ]
  },
  {
   "cell_type": "code",
   "execution_count": 195,
   "metadata": {},
   "outputs": [
    {
     "data": {
      "text/plain": [
       "<AxesSubplot:xlabel='datetime'>"
      ]
     },
     "execution_count": 195,
     "metadata": {},
     "output_type": "execute_result"
    },
    {
     "data": {
      "image/png": "[encoded data removed]",
      "text/plain": [
       "<Figure size 432x288 with 1 Axes>"
      ]
     },
     "metadata": {
      "needs_background": "light"
     },
     "output_type": "display_data"
    }
   ],
   "source": [
    "df_test.plot()"
   ]
  },
  {
   "cell_type": "markdown",
   "metadata": {},
   "source": [
    "## ARMA"
   ]
  },
  {
   "cell_type": "markdown",
   "metadata": {},
   "source": [
    "### Detrending"
   ]
  },
  {
   "cell_type": "markdown",
   "metadata": {},
   "source": [
    "Next I move on to detrending in order to remove periodicity and acheive stationarity in my time series. I employ differencing to do this. ARMA models assume input data is stationary."
   ]
  },
  {
   "cell_type": "code",
   "execution_count": 189,
   "metadata": {},
   "outputs": [],
   "source": [
    "df_diff = df_test.diff(periods = 1)\n",
    "df_diff.dropna(inplace = True)"
   ]
  },
  {
   "cell_type": "code",
   "execution_count": 208,
   "metadata": {},
   "outputs": [
    {
     "data": {
      "text/plain": [
       "<AxesSubplot:xlabel='datetime'>"
      ]
     },
     "execution_count": 208,
     "metadata": {},
     "output_type": "execute_result"
    },
    {
     "data": {
      "image/png": "[encoded data removed]",
      "text/plain": [
       "<Figure size 432x288 with 1 Axes>"
      ]
     },
     "metadata": {
      "needs_background": "light"
     },
     "output_type": "display_data"
    }
   ],
   "source": [
    "df_diff.plot()"
   ]
  },
  {
   "cell_type": "code",
   "execution_count": 197,
   "metadata": {},
   "outputs": [
    {
     "data": {
      "text/plain": [
       "(-17.832619508709396,\n",
       " 3.1289329136918215e-30,\n",
       " 1,\n",
       " 753,\n",
       " {'1%': -3.4390641198617864,\n",
       "  '5%': -2.8653859408474482,\n",
       "  '10%': -2.5688179819544312},\n",
       " -237.80094601068822)"
      ]
     },
     "execution_count": 197,
     "metadata": {},
     "output_type": "execute_result"
    }
   ],
   "source": [
    "# Dickey-Fuller test for stationarity\n",
    "d_f = adfuller(df_diff)\n",
    "d_f"
   ]
  },
  {
   "cell_type": "markdown",
   "metadata": {},
   "source": [
    "### Train/Test Split"
   ]
  },
  {
   "cell_type": "code",
   "execution_count": 190,
   "metadata": {},
   "outputs": [],
   "source": [
    "end_train_date = '2020-12-01'\n",
    "end_test_date = '2020-12-18'"
   ]
  },
  {
   "cell_type": "code",
   "execution_count": 191,
   "metadata": {},
   "outputs": [],
   "source": [
    "# Slicing my data based on set dates\n",
    "train = df_diff[:end_train_date]\n",
    "test = df_diff[end_train_date:end_test_date]"
   ]
  },
  {
   "cell_type": "markdown",
   "metadata": {},
   "source": [
    "### Modeling"
   ]
  },
  {
   "cell_type": "markdown",
   "metadata": {},
   "source": [
    "Through trial and error I arrive at order parameters of 4 and 4 for AR and MA, respectively. These parameters dictate how many autoregressive and moving average terms exist within the ARMA function. They yielded me the lowest AIC score."
   ]
  },
  {
   "cell_type": "code",
   "execution_count": 192,
   "metadata": {},
   "outputs": [
    {
     "data": {
      "text/html": [
       "<table class=\"simpletable\">\n",
       "<caption>ARMA Model Results</caption>\n",
       "<tr>\n",
       "  <th>Dep. Variable:</th>       <td>close</td>      <th>  No. Observations:  </th>    <td>734</td>  \n",
       "</tr>\n",
       "<tr>\n",
       "  <th>Model:</th>            <td>ARMA(4, 4)</td>    <th>  Log Likelihood     </th>  <td>218.564</td>\n",
       "</tr>\n",
       "<tr>\n",
       "  <th>Method:</th>             <td>css-mle</td>     <th>  S.D. of innovations</th>   <td>0.180</td> \n",
       "</tr>\n",
       "<tr>\n",
       "  <th>Date:</th>          <td>Mon, 04 Jan 2021</td> <th>  AIC                </th> <td>-417.129</td>\n",
       "</tr>\n",
       "<tr>\n",
       "  <th>Time:</th>              <td>23:17:33</td>     <th>  BIC                </th> <td>-371.144</td>\n",
       "</tr>\n",
       "<tr>\n",
       "  <th>Sample:</th>                <td>0</td>        <th>  HQIC               </th> <td>-399.392</td>\n",
       "</tr>\n",
       "<tr>\n",
       "  <th></th>                       <td> </td>        <th>                     </th>     <td> </td>   \n",
       "</tr>\n",
       "</table>\n",
       "<table class=\"simpletable\">\n",
       "<tr>\n",
       "       <td></td>          <th>coef</th>     <th>std err</th>      <th>z</th>      <th>P>|z|</th>  <th>[0.025</th>    <th>0.975]</th>  \n",
       "</tr>\n",
       "<tr>\n",
       "  <th>const</th>       <td>   -0.0148</td> <td>    0.008</td> <td>   -1.849</td> <td> 0.065</td> <td>   -0.031</td> <td>    0.001</td>\n",
       "</tr>\n",
       "<tr>\n",
       "  <th>ar.L1.close</th> <td>    1.0522</td> <td> 4.88e-05</td> <td> 2.16e+04</td> <td> 0.000</td> <td>    1.052</td> <td>    1.052</td>\n",
       "</tr>\n",
       "<tr>\n",
       "  <th>ar.L2.close</th> <td>   -0.6510</td> <td>    0.000</td> <td>-4342.666</td> <td> 0.000</td> <td>   -0.651</td> <td>   -0.651</td>\n",
       "</tr>\n",
       "<tr>\n",
       "  <th>ar.L3.close</th> <td>    1.1767</td> <td> 2.45e-06</td> <td>  4.8e+05</td> <td> 0.000</td> <td>    1.177</td> <td>    1.177</td>\n",
       "</tr>\n",
       "<tr>\n",
       "  <th>ar.L4.close</th> <td>   -0.8154</td> <td> 8.58e-05</td> <td>-9501.327</td> <td> 0.000</td> <td>   -0.816</td> <td>   -0.815</td>\n",
       "</tr>\n",
       "<tr>\n",
       "  <th>ma.L1.close</th> <td>   -1.0817</td> <td>    0.019</td> <td>  -58.208</td> <td> 0.000</td> <td>   -1.118</td> <td>   -1.045</td>\n",
       "</tr>\n",
       "<tr>\n",
       "  <th>ma.L2.close</th> <td>    0.6793</td> <td>    0.006</td> <td>  112.718</td> <td> 0.000</td> <td>    0.667</td> <td>    0.691</td>\n",
       "</tr>\n",
       "<tr>\n",
       "  <th>ma.L3.close</th> <td>   -1.1739</td> <td>    0.009</td> <td> -124.085</td> <td> 0.000</td> <td>   -1.192</td> <td>   -1.155</td>\n",
       "</tr>\n",
       "<tr>\n",
       "  <th>ma.L4.close</th> <td>    0.8632</td> <td>    0.016</td> <td>   54.891</td> <td> 0.000</td> <td>    0.832</td> <td>    0.894</td>\n",
       "</tr>\n",
       "</table>\n",
       "<table class=\"simpletable\">\n",
       "<caption>Roots</caption>\n",
       "<tr>\n",
       "    <td></td>   <th>            Real</th>  <th>         Imaginary</th> <th>         Modulus</th>  <th>        Frequency</th>\n",
       "</tr>\n",
       "<tr>\n",
       "  <th>AR.1</th> <td>          -0.3372</td> <td>          -0.9414j</td> <td>           1.0000</td> <td>          -0.3047</td>\n",
       "</tr>\n",
       "<tr>\n",
       "  <th>AR.2</th> <td>          -0.3372</td> <td>          +0.9414j</td> <td>           1.0000</td> <td>           0.3047</td>\n",
       "</tr>\n",
       "<tr>\n",
       "  <th>AR.3</th> <td>           1.0587</td> <td>          -0.3248j</td> <td>           1.1074</td> <td>          -0.0474</td>\n",
       "</tr>\n",
       "<tr>\n",
       "  <th>AR.4</th> <td>           1.0587</td> <td>          +0.3248j</td> <td>           1.1074</td> <td>           0.0474</td>\n",
       "</tr>\n",
       "<tr>\n",
       "  <th>MA.1</th> <td>          -0.3371</td> <td>          -0.9415j</td> <td>           1.0000</td> <td>          -0.3047</td>\n",
       "</tr>\n",
       "<tr>\n",
       "  <th>MA.2</th> <td>          -0.3371</td> <td>          +0.9415j</td> <td>           1.0000</td> <td>           0.3047</td>\n",
       "</tr>\n",
       "<tr>\n",
       "  <th>MA.3</th> <td>           1.0171</td> <td>          -0.3521j</td> <td>           1.0763</td> <td>          -0.0530</td>\n",
       "</tr>\n",
       "<tr>\n",
       "  <th>MA.4</th> <td>           1.0171</td> <td>          +0.3521j</td> <td>           1.0763</td> <td>           0.0530</td>\n",
       "</tr>\n",
       "</table>"
      ],
      "text/plain": [
       "<class 'statsmodels.iolib.summary.Summary'>\n",
       "\"\"\"\n",
       "                              ARMA Model Results                              \n",
       "==============================================================================\n",
       "Dep. Variable:                  close   No. Observations:                  734\n",
       "Model:                     ARMA(4, 4)   Log Likelihood                 218.564\n",
       "Method:                       css-mle   S.D. of innovations              0.180\n",
       "Date:                Mon, 04 Jan 2021   AIC                           -417.129\n",
       "Time:                        23:17:33   BIC                           -371.144\n",
       "Sample:                             0   HQIC                          -399.392\n",
       "                                                                              \n",
       "===============================================================================\n",
       "                  coef    std err          z      P>|z|      [0.025      0.975]\n",
       "-------------------------------------------------------------------------------\n",
       "const          -0.0148      0.008     -1.849      0.065      -0.031       0.001\n",
       "ar.L1.close     1.0522   4.88e-05   2.16e+04      0.000       1.052       1.052\n",
       "ar.L2.close    -0.6510      0.000  -4342.666      0.000      -0.651      -0.651\n",
       "ar.L3.close     1.1767   2.45e-06    4.8e+05      0.000       1.177       1.177\n",
       "ar.L4.close    -0.8154   8.58e-05  -9501.327      0.000      -0.816      -0.815\n",
       "ma.L1.close    -1.0817      0.019    -58.208      0.000      -1.118      -1.045\n",
       "ma.L2.close     0.6793      0.006    112.718      0.000       0.667       0.691\n",
       "ma.L3.close    -1.1739      0.009   -124.085      0.000      -1.192      -1.155\n",
       "ma.L4.close     0.8632      0.016     54.891      0.000       0.832       0.894\n",
       "                                    Roots                                    \n",
       "=============================================================================\n",
       "                  Real          Imaginary           Modulus         Frequency\n",
       "-----------------------------------------------------------------------------\n",
       "AR.1           -0.3372           -0.9414j            1.0000           -0.3047\n",
       "AR.2           -0.3372           +0.9414j            1.0000            0.3047\n",
       "AR.3            1.0587           -0.3248j            1.1074           -0.0474\n",
       "AR.4            1.0587           +0.3248j            1.1074            0.0474\n",
       "MA.1           -0.3371           -0.9415j            1.0000           -0.3047\n",
       "MA.2           -0.3371           +0.9415j            1.0000            0.3047\n",
       "MA.3            1.0171           -0.3521j            1.0763           -0.0530\n",
       "MA.4            1.0171           +0.3521j            1.0763            0.0530\n",
       "-----------------------------------------------------------------------------\n",
       "\"\"\""
      ]
     },
     "execution_count": 192,
     "metadata": {},
     "output_type": "execute_result"
    }
   ],
   "source": [
    "# Training the ARMA model on the training data\n",
    "mod_arma = ARMA(train, order = (4,4)) # how to decide on order again?\n",
    "res_arma = mod_arma.fit()\n",
    "res_arma.summary()"
   ]
  },
  {
   "cell_type": "code",
   "execution_count": 213,
   "metadata": {},
   "outputs": [],
   "source": [
    "# Forecasting with the trained model\n",
    "preds = res_arma.forecast(steps = 14)"
   ]
  },
  {
   "cell_type": "markdown",
   "metadata": {},
   "source": [
    "### Model Evalutation"
   ]
  },
  {
   "cell_type": "markdown",
   "metadata": {},
   "source": [
    "Below is a lineplot comparing the true prices with the predicted ones. "
   ]
  },
  {
   "cell_type": "code",
   "execution_count": 214,
   "metadata": {},
   "outputs": [
    {
     "data": {
      "text/plain": [
       "<matplotlib.legend.Legend at 0x1dc2fc83f40>"
      ]
     },
     "execution_count": 214,
     "metadata": {},
     "output_type": "execute_result"
    },
    {
     "data": {
      "image/png": "[encoded data removed]",
      "text/plain": [
       "<Figure size 432x288 with 1 Axes>"
      ]
     },
     "metadata": {
      "needs_background": "light"
     },
     "output_type": "display_data"
    }
   ],
   "source": [
    "plt.plot(range(0,14), preds[0], label = 'preds')\n",
    "plt.plot(range(0,14), test[:14], label = 'true')\n",
    "plt.legend()"
   ]
  },
  {
   "cell_type": "code",
   "execution_count": 215,
   "metadata": {},
   "outputs": [
    {
     "data": {
      "text/plain": [
       "0.18662607399567527"
      ]
     },
     "execution_count": 215,
     "metadata": {},
     "output_type": "execute_result"
    }
   ],
   "source": [
    "# Calculating RMSE of my forecasts\n",
    "rmse = np.sqrt(mean_squared_error(test[0:14].values, preds[0]))\n",
    "rmse"
   ]
  },
  {
   "cell_type": "markdown",
   "metadata": {},
   "source": [
    "A RMSE of .1866 means that the model's predictions differ from the actual differenced prices by $.1866 accross the 14 days."
   ]
  },
  {
   "cell_type": "markdown",
   "metadata": {},
   "source": [
    "### Gridsearched ARMA"
   ]
  },
  {
   "cell_type": "markdown",
   "metadata": {},
   "source": [
    "After building my first simple ARMA model, I wanted to gridsearch the p and q parameters to find the combination that would produce the lowest RMSE for each capital markets stock. For each stock, I predict fourteen days after the end of the training data. I mainly use RMSE as my scoring parameter, as I feel this best captures the dollar difference between actual and predicted prices."
   ]
  },
  {
   "cell_type": "code",
   "execution_count": 193,
   "metadata": {},
   "outputs": [],
   "source": [
    "# Defining AR and MA order components\n",
    "p = range(0,5) # AR\n",
    "q = range(0,5) # MA"
   ]
  },
  {
   "cell_type": "code",
   "execution_count": 194,
   "metadata": {},
   "outputs": [],
   "source": [
    "# Creating every combination of p, d, and q parameters\n",
    "pq = itertools.product(p, q)\n",
    "\n",
    "# Converting from itertools product object to list\n",
    "pq = list(pq)"
   ]
  },
  {
   "cell_type": "code",
   "execution_count": 195,
   "metadata": {},
   "outputs": [],
   "source": [
    "def gridsearch_arma(orders_list, train, test, n_days = 14):\n",
    "    \"\"\"\n",
    "    Takes in a list of orders, a train set, a test set, and a number of days\n",
    "    to forecast into the future. Returns a list of results for each models and\n",
    "    a list of any orders that caused the model to fail.\n",
    "    \n",
    "    orders_list -- A list of tuples containing p and q parameters\n",
    "    train -- A series of the endogenous variable\n",
    "    test -- A series of the endogenous variable to measure model performance\n",
    "    n_days -- An integer denoting the number of days to forecast\n",
    "    \"\"\"\n",
    "    # Instantiating a list of results dictionaries\n",
    "    results_list = []\n",
    "\n",
    "    # Instantiating fail cache\n",
    "    fail_cache = []\n",
    "\n",
    "    # Setting number of days to forecast forward\n",
    "    n_days = n_days\n",
    "\n",
    "    # Looping through each set of parameters to find the best combination\n",
    "    for o in orders_list:\n",
    "        try:\n",
    "            # Instantiating new dictionary of results and parameters for each gridsearched model\n",
    "            results_dict = {}\n",
    "\n",
    "            # Instantiating the ARMA model\n",
    "            arma = ARMA(train, \n",
    "                        order = o, \n",
    "                   )\n",
    "\n",
    "            # Fitting the model\n",
    "            fitted_arma = arma.fit()\n",
    "\n",
    "            # Forecasting 14 days after training data\n",
    "            arma_preds = fitted_arma.forecast(steps = n_days)[0]\n",
    "\n",
    "            # Pulling AIC score from the model\n",
    "            aic = fitted_arma.aic\n",
    "\n",
    "            # Calculating RMSE for forecasted values\n",
    "            rmse = np.sqrt(mean_squared_error(test[:n_days].values, arma_preds))\n",
    "\n",
    "            # Assigning dictionary values of results and parameters\n",
    "            results_dict['order'] = o\n",
    "            results_dict['aic'] = aic\n",
    "            results_dict['rmse'] = rmse\n",
    "\n",
    "            # Adding each dictionary to the list of results dictionaries\n",
    "            results_list.append(results_dict) \n",
    "\n",
    "        except:\n",
    "            fail_cache.append({'order': o,\n",
    "                               })\n",
    "            continue\n",
    "        \n",
    "    return results_list, fail_cache"
   ]
  },
  {
   "cell_type": "code",
   "execution_count": 196,
   "metadata": {},
   "outputs": [],
   "source": [
    "def get_best_time_series(results_list):\n",
    "    \"\"\"\n",
    "    Takes in a list of results dictionaries containing SARIMA params\n",
    "    and model performance metrics. Returns best model params and scores\n",
    "    for RMSE and AIC, in that order.\n",
    "    \n",
    "    results_list -- list of results dictionaries.\n",
    "    \"\"\"    \n",
    "    # Sorting scores list by RMSE\n",
    "    sorted_by_rmse = sorted(results_list, key = lambda x: x['rmse'])\n",
    "    \n",
    "    # Top model by RMSE\n",
    "    top_rmse_model = sorted_by_rmse[0]\n",
    "    \n",
    "    # Sorting scores list by AIC\n",
    "    sorted_by_aic = sorted(results_list, key = lambda x: x['aic'])\n",
    "    \n",
    "    # Top model by AIC\n",
    "    top_aic_model = sorted_by_aic[0]\n",
    "    \n",
    "    return [top_rmse_model, top_aic_model]"
   ]
  },
  {
   "cell_type": "code",
   "execution_count": 197,
   "metadata": {},
   "outputs": [],
   "source": [
    "def gridsearch_arma_multiple(df_list, orders_list, n_days = 14):\n",
    "    \"\"\"\n",
    "    Takes in a list of dfs, a list of order params, and a number \n",
    "    of days to forecast into the future. Returns gridsearched ARMA \n",
    "    model results for each.\n",
    "    \n",
    "    df_list -- list of dataframes\n",
    "    orders_list -- A list of tuples containing p and q parameters\n",
    "    n_days -- An integer denoting the number of days to forecast\n",
    "    \"\"\"\n",
    "    # Creating list to hold results for each df\n",
    "    best_model_list = []\n",
    "    \n",
    "    for df in df_list:\n",
    "        # Isolate endogenous variable\n",
    "        df_endog = df['close']\n",
    "        \n",
    "        # Create differenced df to improve stationarity\n",
    "        df_diff = df_endog.diff(periods = 1)\n",
    "        df_diff.dropna(inplace = True)\n",
    "        \n",
    "        # Split df into train and test sets\n",
    "        train = df_diff[:end_train_date]\n",
    "        test = df_diff[end_train_date:end_test_date]\n",
    "\n",
    "        # Calculate all models(gridsearch)\n",
    "        arma_results, arma_fails = gridsearch_arma(pq, train, test, n_days = 14)\n",
    "\n",
    "        # Identify best models based on RMSE and AIC, respectively\n",
    "        best_arma = get_best_time_series(arma_results)\n",
    "        \n",
    "        # Pull ticker from df\n",
    "        ticker = df['ticker'][0]\n",
    "        \n",
    "        # Append ticker and model results to list of best models\n",
    "        best_model_list.append([ticker, best_arma])\n",
    "        \n",
    "    return best_model_list"
   ]
  },
  {
   "cell_type": "code",
   "execution_count": 198,
   "metadata": {},
   "outputs": [
    {
     "data": {
      "text/plain": [
       "[{'order': (2, 4), 'aic': -429.6137454006571, 'rmse': 0.20615147490709979},\n",
       " {'order': (2, 4), 'aic': -429.6137454006571, 'rmse': 0.20615147490709979}]"
      ]
     },
     "execution_count": 198,
     "metadata": {},
     "output_type": "execute_result"
    }
   ],
   "source": [
    "# Calculate all models(gridsearch)\n",
    "arma_results, arma_fails = gridsearch_arma(pq, train, test, n_days = 14)\n",
    "\n",
    "# Identify best models based on RMSE and AIC, respectively\n",
    "get_best_time_series(arma_results)"
   ]
  },
  {
   "cell_type": "code",
   "execution_count": 199,
   "metadata": {},
   "outputs": [
    {
     "data": {
      "text/plain": [
       "[{'order': (2, 4), 'aic': -429.6137454006571, 'rmse': 0.20615147490709979},\n",
       " {'order': (2, 4), 'aic': -429.6137454006571, 'rmse': 0.20615147490709979}]"
      ]
     },
     "execution_count": 199,
     "metadata": {},
     "output_type": "execute_result"
    }
   ],
   "source": [
    "# Calculate all models(gridsearch)\n",
    "arma_results, arma_fails = gridsearch_arma(pq, train, test, n_days = 14)\n",
    "\n",
    "# Identify best models based on RMSE and AIC, respectively\n",
    "get_best_time_series(arma_results)"
   ]
  },
  {
   "cell_type": "code",
   "execution_count": 200,
   "metadata": {},
   "outputs": [
    {
     "data": {
      "text/plain": [
       "[['WETF',\n",
       "  [{'order': (2, 4), 'aic': -429.6137454006571, 'rmse': 0.20615147490709979},\n",
       "   {'order': (2, 4), 'aic': -429.6137454006571, 'rmse': 0.20615147490709979}]],\n",
       " ['SFE',\n",
       "  [{'order': (4, 4), 'aic': -194.94726322654515, 'rmse': 0.18662607399567527},\n",
       "   {'order': (2, 2),\n",
       "    'aic': -202.30116844303393,\n",
       "    'rmse': 0.19244505841167853}]],\n",
       " ['SSSS',\n",
       "  [{'order': (4, 1), 'aic': 151.76133064956684, 'rmse': 0.3384472393942903},\n",
       "   {'order': (4, 2), 'aic': 142.66548732369165, 'rmse': 0.3728610213827238}]],\n",
       " ['CGBD',\n",
       "  [{'order': (1, 1), 'aic': 92.83175222429281, 'rmse': 0.1429342322093544},\n",
       "   {'order': (4, 4), 'aic': 76.64221583900394, 'rmse': 0.15423463037066978}]],\n",
       " ['PZN',\n",
       "  [{'order': (4, 4), 'aic': 9.164889879140446, 'rmse': 0.24611062646306225},\n",
       "   {'order': (1, 2), 'aic': 6.7277117384137455, 'rmse': 0.262969572276142}]],\n",
       " ['MCC',\n",
       "  [{'order': (3, 3), 'aic': 2609.2359968399155, 'rmse': 0.834844790177134},\n",
       "   {'order': (0, 0), 'aic': 2603.738359624309, 'rmse': 0.8669689308962872}]],\n",
       " ['PNNT',\n",
       "  [{'order': (2, 2), 'aic': -1054.2002318008003, 'rmse': 0.08450548975056228},\n",
       "   {'order': (2, 2),\n",
       "    'aic': -1054.2002318008003,\n",
       "    'rmse': 0.08450548975056228}]],\n",
       " ['WHF',\n",
       "  [{'order': (4, 0), 'aic': 289.7420516220866, 'rmse': 0.2700078935129562},\n",
       "   {'order': (4, 4), 'aic': 264.29526566917116, 'rmse': 0.275923239107711}]],\n",
       " ['WETF',\n",
       "  [{'order': (2, 4), 'aic': -429.6137454006571, 'rmse': 0.20615147490709979},\n",
       "   {'order': (2, 4), 'aic': -429.6137454006571, 'rmse': 0.20615147490709979}]],\n",
       " ['BANX',\n",
       "  [{'order': (4, 4), 'aic': 706.4385052329067, 'rmse': 0.35512810931278754},\n",
       "   {'order': (4, 4), 'aic': 706.4385052329067, 'rmse': 0.35512810931278754}]]]"
      ]
     },
     "execution_count": 200,
     "metadata": {},
     "output_type": "execute_result"
    }
   ],
   "source": [
    "# Compiling a list of the best performing order parameters for each stock\n",
    "best_model_list = gridsearch_arma_multiple(cm_df_list, pq, n_days = 14)\n",
    "best_model_list"
   ]
  },
  {
   "cell_type": "code",
   "execution_count": 207,
   "metadata": {},
   "outputs": [
    {
     "data": {
      "text/plain": [
       "0.28709074046300215"
      ]
     },
     "execution_count": 207,
     "metadata": {},
     "output_type": "execute_result"
    }
   ],
   "source": [
    "# Calculating mean RMSE accross all eight stocks\n",
    "mean_RMSE = np.mean([i[1][0]['rmse'] for i in best_model_list])\n",
    "mean_RMSE"
   ]
  },
  {
   "cell_type": "markdown",
   "metadata": {},
   "source": [
    "## Conclusion and Next Steps"
   ]
  },
  {
   "cell_type": "markdown",
   "metadata": {},
   "source": [
    "The highest performing classification model was the KNN, though this is only on a sample of 8 out of 160. I'd like to predict on the entire set of 160, add additional models, and add an ensemble voting classifier.\n",
    "\n",
    "For the eight small cap stocks I employed an ARMA model on, the average RMSE accross the 14 days was .287.\n",
    "\n",
    "To further improve the models I have, I'd like to add more features, such as momentum indicators like Moving Average Convergence/Divergence (MACD) and Relative Strength Index (RSI), as well as a volatility indicator like Standard Deviation or Beta. I'd also like to add a percent-change-in-volume feature."
   ]
  }
 ],
 "metadata": {
  "kernelspec": {
   "display_name": "learn-env",
   "language": "python",
   "name": "learn-env"
  },
  "language_info": {
   "codemirror_mode": {
    "name": "ipython",
    "version": 3
   },
   "file_extension": ".py",
   "mimetype": "text/x-python",
   "name": "python",
   "nbconvert_exporter": "python",
   "pygments_lexer": "ipython3",
   "version": "3.8.5"
  }
 },
 "nbformat": 4,
 "nbformat_minor": 4
}
