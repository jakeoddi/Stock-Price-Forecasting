{
 "cells": [
  {
   "cell_type": "markdown",
   "metadata": {},
   "source": [
    "# Small-Cap Stock Price-Movement Prediction and Price-Target Forecasting"
   ]
  },
  {
   "cell_type": "markdown",
   "metadata": {},
   "source": [
    "#### Author: Jake Oddi"
   ]
  },
  {
   "cell_type": "markdown",
   "metadata": {},
   "source": [
    "## Business Problem"
   ]
  },
  {
   "cell_type": "markdown",
   "metadata": {},
   "source": [
    "Quantitative analysis of stocks has become increasingly popular over the past decades, to the point where it is ubiqiutous among insitutional investors. Among individual investors, however, it is less widespread. This is due to a general lack of the technical skills required to perform such analysis. I ran into this issue myself when constructing my portfolio. I predict an easy-to-use, open-source model would serve to benefit this population. \n",
    "\n",
    "This project applies classification methods to the daily price data of stocks with market capitalizations between \\\\$75M and \\\\$1B from the past three years to predict intraday price movements. Instances where the closing price exceeds the opening price are considered positive cases, and instances where the opposite is true are considered negative. The timescale for this data (daily) meant predicting the position of closing price relative to opening price was a desirable classification problem, as it is harder to do with time series modeling. Conversely, time series modeling to predict exact price is much better suited to interday prices, which is what I use it for. \n",
    "\n",
    "My analysis focuses on small-cap companies because they typically see lower trading volumes, and therefore have more inefficiencies that can be exploited and less noisey trading prices. Conversely, this makes trades harder to execute at desirable prices. \n",
    "\n",
    "Predictions of price-movement direction and price-target are nowhere near perfect, and should only be used in conjunction with additional information. In general, quantitative analysis should be combined with fundamental analysis.\n",
    "\n",
    "To use the following project for one's own analysis, one must first create a TD Ameritrade Developer account, create an app, and fetch his or her API key, replacing mine in the form of the 'consumer_key' variable. Next, under the 'Selection' section, one should change the 'ticker_list' variable to include whichever tickers are to be included in his or her model. This will allow one to run the rest of the code and yield the same analysis as is already shown."
   ]
  },
  {
   "cell_type": "code",
   "execution_count": 1,
   "metadata": {},
   "outputs": [],
   "source": [
    "import pandas as pd\n",
    "import numpy as np\n",
    "np.random.seed(seed = 1)\n",
    "import matplotlib.pyplot as plt\n",
    "%matplotlib inline\n",
    "import seaborn as sns\n",
    "import requests\n",
    "import json\n",
    "import time\n",
    "from config import ameritrade_credentials\n",
    "from price_forecasting_code.functions import *\n",
    "from sklearn.preprocessing import StandardScaler\n",
    "from sklearn.model_selection import GridSearchCV\n",
    "from sklearn.metrics import accuracy_score, f1_score, precision_score, recall_score\n",
    "from sklearn.neighbors import KNeighborsClassifier\n",
    "from sklearn.ensemble import RandomForestClassifier\n",
    "from statsmodels.graphics.tsaplots import plot_acf, plot_pacf\n",
    "from statsmodels.tsa.arima_model import ARMA\n",
    "from statsmodels.tsa.seasonal import seasonal_decompose\n",
    "from statsmodels.tsa.statespace.sarimax import SARIMAX\n",
    "from statsmodels.tsa.stattools import adfuller\n",
    "from sklearn.metrics import mean_squared_error\n",
    "import itertools\n",
    "import statsmodels.api as sm\n",
    "import warnings\n",
    "import tensorflow as tf\n",
    "tf.random.set_seed(100)\n",
    "from keras.models import Sequential\n",
    "from keras.layers import LSTM\n",
    "from keras.layers import Dense\n",
    "from keras.layers import Dropout\n",
    "from keras.layers import Bidirectional\n",
    "from keras.callbacks import History\n",
    "from keras.utils.vis_utils import plot_model\n",
    "from sklearn.preprocessing import MinMaxScaler\n",
    "warnings.filterwarnings('ignore')\n",
    "%load_ext autoreload\n",
    "%autoreload 2"
   ]
  },
  {
   "cell_type": "markdown",
   "metadata": {},
   "source": [
    "## Data Understanding"
   ]
  },
  {
   "cell_type": "markdown",
   "metadata": {},
   "source": [
    "### Data Acquisition"
   ]
  },
  {
   "cell_type": "markdown",
   "metadata": {},
   "source": [
    "To decide which companies to model, I employed a stock screener from [TD Ameritrade](https://research.tdameritrade.com/grid/public/screener/stocks/overview.asp) to select stocks with market caps within my desired range. This yielded 8027 results. I filtered this down to 3055 results by removing companies worth less than \\\\$75M, as many companies below that threshold had such low trading volumnes that they were not conducive to modeling. For the sake of ease-of-use and proof-of-concept, I filtered this down further by randomly sampling 500. I then gathered daily price data from the past three years using [TD Ameritrade's Price History API](https://developer.tdameritrade.com/price-history/apis). Of these 500, the API failed for 157, leaving 343. Of the remaining, I selected only those with 756 days of data to use in my analysis, leaving me with 160 stocks. "
   ]
  },
  {
   "cell_type": "code",
   "execution_count": 2,
   "metadata": {},
   "outputs": [
    {
     "data": {
      "text/html": [
       "<div>\n",
       "<style scoped>\n",
       "    .dataframe tbody tr th:only-of-type {\n",
       "        vertical-align: middle;\n",
       "    }\n",
       "\n",
       "    .dataframe tbody tr th {\n",
       "        vertical-align: top;\n",
       "    }\n",
       "\n",
       "    .dataframe thead th {\n",
       "        text-align: right;\n",
       "    }\n",
       "</style>\n",
       "<table border=\"1\" class=\"dataframe\">\n",
       "  <thead>\n",
       "    <tr style=\"text-align: right;\">\n",
       "      <th></th>\n",
       "      <th>Symbol</th>\n",
       "      <th>Company Name</th>\n",
       "      <th>Market Capitalization</th>\n",
       "      <th>Sector</th>\n",
       "      <th>Industry</th>\n",
       "      <th>Dividend Yield</th>\n",
       "      <th>Beta</th>\n",
       "    </tr>\n",
       "  </thead>\n",
       "  <tbody>\n",
       "    <tr>\n",
       "      <th>0</th>\n",
       "      <td>AAAIF</td>\n",
       "      <td>ALTERNATIVE INVESTMENT TRUST UNITS</td>\n",
       "      <td>2.856715e+07</td>\n",
       "      <td>NaN</td>\n",
       "      <td>NaN</td>\n",
       "      <td>--</td>\n",
       "      <td>+0.2</td>\n",
       "    </tr>\n",
       "    <tr>\n",
       "      <th>1</th>\n",
       "      <td>AACG</td>\n",
       "      <td>ATA Creativity Global(ADR)</td>\n",
       "      <td>3.713346e+07</td>\n",
       "      <td>Consumer Discretionary</td>\n",
       "      <td>Diversified Consumer Services</td>\n",
       "      <td>--</td>\n",
       "      <td>+1.7</td>\n",
       "    </tr>\n",
       "    <tr>\n",
       "      <th>2</th>\n",
       "      <td>AACH</td>\n",
       "      <td>AAC Holdings Inc</td>\n",
       "      <td>4.025300e+05</td>\n",
       "      <td>Health Care</td>\n",
       "      <td>Health Care Providers &amp; Services</td>\n",
       "      <td>--</td>\n",
       "      <td>+2.7</td>\n",
       "    </tr>\n",
       "    <tr>\n",
       "      <th>3</th>\n",
       "      <td>AACQ</td>\n",
       "      <td>Artius Acquisition Inc</td>\n",
       "      <td>9.341573e+08</td>\n",
       "      <td>NaN</td>\n",
       "      <td>NaN</td>\n",
       "      <td>--</td>\n",
       "      <td>--</td>\n",
       "    </tr>\n",
       "    <tr>\n",
       "      <th>4</th>\n",
       "      <td>AACS</td>\n",
       "      <td>American Commerce Solutions, Inc.</td>\n",
       "      <td>6.946900e+05</td>\n",
       "      <td>Industrials</td>\n",
       "      <td>Road &amp; Rail</td>\n",
       "      <td>--</td>\n",
       "      <td>-1.0</td>\n",
       "    </tr>\n",
       "  </tbody>\n",
       "</table>\n",
       "</div>"
      ],
      "text/plain": [
       "  Symbol                        Company Name  Market Capitalization  \\\n",
       "0  AAAIF  ALTERNATIVE INVESTMENT TRUST UNITS           2.856715e+07   \n",
       "1   AACG          ATA Creativity Global(ADR)           3.713346e+07   \n",
       "2   AACH                    AAC Holdings Inc           4.025300e+05   \n",
       "3   AACQ              Artius Acquisition Inc           9.341573e+08   \n",
       "4   AACS   American Commerce Solutions, Inc.           6.946900e+05   \n",
       "\n",
       "                   Sector                          Industry Dividend Yield  \\\n",
       "0                     NaN                               NaN             --   \n",
       "1  Consumer Discretionary     Diversified Consumer Services             --   \n",
       "2             Health Care  Health Care Providers & Services             --   \n",
       "3                     NaN                               NaN             --   \n",
       "4             Industrials                       Road & Rail             --   \n",
       "\n",
       "   Beta  \n",
       "0  +0.2  \n",
       "1  +1.7  \n",
       "2  +2.7  \n",
       "3    --  \n",
       "4  -1.0  "
      ]
     },
     "execution_count": 2,
     "metadata": {},
     "output_type": "execute_result"
    }
   ],
   "source": [
    "# Read in the screener\n",
    "screen = pd.read_csv('./data./ameritrade_stock_screener.csv', header = 0)\n",
    "\n",
    "# Take a first look\n",
    "screen.head()"
   ]
  },
  {
   "cell_type": "markdown",
   "metadata": {},
   "source": [
    "#### Screener Cleaning"
   ]
  },
  {
   "cell_type": "code",
   "execution_count": 3,
   "metadata": {},
   "outputs": [],
   "source": [
    "# Rename screener columns\n",
    "screen.columns = ['ticker', 'company', 'market_cap', 'sector', 'industry', 'dividend_yield', 'beta']\n",
    "\n",
    "# Screening only for companies worth > $75M\n",
    "screen = screen[screen['market_cap'] >= 75000000]"
   ]
  },
  {
   "cell_type": "markdown",
   "metadata": {},
   "source": [
    "#### Selection"
   ]
  },
  {
   "cell_type": "code",
   "execution_count": 4,
   "metadata": {},
   "outputs": [],
   "source": [
    "# Instantiate a list of 500 random integers for selection of df indices from the screener\n",
    "rand_list = np.random.randint(0, screen.shape[0], 500)\n",
    "\n",
    "# Filter the screener using the list of random indices\n",
    "filtered_screen = screen.iloc[rand_list]\n",
    "\n",
    "# Create a list of the tickers of all stocks selected by the filter\n",
    "ticker_list = filtered_screen['ticker'].values"
   ]
  },
  {
   "cell_type": "markdown",
   "metadata": {},
   "source": [
    "#### API Call - Configuration"
   ]
  },
  {
   "cell_type": "markdown",
   "metadata": {},
   "source": [
    "In one's own analysis using Ameritrade's API, he or she must use their own API key in place of my 'consumer_key' variable."
   ]
  },
  {
   "cell_type": "code",
   "execution_count": 5,
   "metadata": {},
   "outputs": [],
   "source": [
    "# Import personal client ID\n",
    "client_id = ameritrade_credentials.consumer_key\n",
    "\n",
    "# Set payload params\n",
    "period = '3'\n",
    "period_type = 'year'\n",
    "frequency = '1'\n",
    "frequency_type = 'daily'\n",
    "start_date = '1512172799'\n",
    "end_date = '1606867199'\n",
    "\n",
    "# Define payload\n",
    "payload = {'apikey': client_id,\n",
    "           'periodType': period_type,\n",
    "           'frequencyType': frequency_type,\n",
    "           'frequency': frequency,\n",
    "           'period': period,\n",
    "#            'endDate': end_date,\n",
    "#            'startDate': start_date,\n",
    "           'needExtendedHoursData': 'false'\n",
    "          }"
   ]
  },
  {
   "cell_type": "markdown",
   "metadata": {},
   "source": [
    "#### API Call"
   ]
  },
  {
   "cell_type": "code",
   "execution_count": 6,
   "metadata": {},
   "outputs": [],
   "source": [
    "# A list of dfs is instantiated, where each stock's data is stored in a dataframe\n",
    "df_list, fail_cache = get_data_from_ameritrade(ticker_list, payload)"
   ]
  },
  {
   "cell_type": "code",
   "execution_count": 7,
   "metadata": {},
   "outputs": [
    {
     "name": "stdout",
     "output_type": "stream",
     "text": [
      "Length of df_list: 453\n",
      "Length of fail_cache 47\n"
     ]
    }
   ],
   "source": [
    "print('Length of df_list:', len(df_list))\n",
    "print('Length of fail_cache', len(fail_cache))"
   ]
  },
  {
   "cell_type": "markdown",
   "metadata": {},
   "source": [
    "#### Final Filtering"
   ]
  },
  {
   "cell_type": "markdown",
   "metadata": {},
   "source": [
    "The last step in the filtering process cuts the number of stocks down to 160."
   ]
  },
  {
   "cell_type": "code",
   "execution_count": 8,
   "metadata": {},
   "outputs": [],
   "source": [
    "# Filtering only for stocks with greater than 755 days of price data\n",
    "df_list = list(filter(lambda x: x.shape[0] >= 755, df_list))"
   ]
  },
  {
   "cell_type": "code",
   "execution_count": 9,
   "metadata": {},
   "outputs": [
    {
     "data": {
      "text/plain": [
       "228"
      ]
     },
     "execution_count": 9,
     "metadata": {},
     "output_type": "execute_result"
    }
   ],
   "source": [
    "len(df_list)"
   ]
  },
  {
   "cell_type": "markdown",
   "metadata": {},
   "source": [
    "### Understanding"
   ]
  },
  {
   "cell_type": "markdown",
   "metadata": {},
   "source": [
    "The API returned a dataframe with the following columns built in for each stock: opening price, daily high, daily low, closing price, datetime, volume, and ticker."
   ]
  },
  {
   "cell_type": "code",
   "execution_count": 10,
   "metadata": {},
   "outputs": [
    {
     "data": {
      "text/html": [
       "<div>\n",
       "<style scoped>\n",
       "    .dataframe tbody tr th:only-of-type {\n",
       "        vertical-align: middle;\n",
       "    }\n",
       "\n",
       "    .dataframe tbody tr th {\n",
       "        vertical-align: top;\n",
       "    }\n",
       "\n",
       "    .dataframe thead th {\n",
       "        text-align: right;\n",
       "    }\n",
       "</style>\n",
       "<table border=\"1\" class=\"dataframe\">\n",
       "  <thead>\n",
       "    <tr style=\"text-align: right;\">\n",
       "      <th></th>\n",
       "      <th>open</th>\n",
       "      <th>high</th>\n",
       "      <th>low</th>\n",
       "      <th>close</th>\n",
       "      <th>volume</th>\n",
       "      <th>datetime</th>\n",
       "      <th>ticker</th>\n",
       "    </tr>\n",
       "  </thead>\n",
       "  <tbody>\n",
       "    <tr>\n",
       "      <th>0</th>\n",
       "      <td>20.10</td>\n",
       "      <td>20.450</td>\n",
       "      <td>19.800</td>\n",
       "      <td>20.10</td>\n",
       "      <td>351142</td>\n",
       "      <td>1516860000000</td>\n",
       "      <td>FRGI</td>\n",
       "    </tr>\n",
       "    <tr>\n",
       "      <th>1</th>\n",
       "      <td>20.10</td>\n",
       "      <td>20.500</td>\n",
       "      <td>19.550</td>\n",
       "      <td>19.95</td>\n",
       "      <td>213098</td>\n",
       "      <td>1516946400000</td>\n",
       "      <td>FRGI</td>\n",
       "    </tr>\n",
       "    <tr>\n",
       "      <th>2</th>\n",
       "      <td>19.95</td>\n",
       "      <td>20.125</td>\n",
       "      <td>19.700</td>\n",
       "      <td>19.95</td>\n",
       "      <td>174147</td>\n",
       "      <td>1517205600000</td>\n",
       "      <td>FRGI</td>\n",
       "    </tr>\n",
       "    <tr>\n",
       "      <th>3</th>\n",
       "      <td>19.85</td>\n",
       "      <td>20.050</td>\n",
       "      <td>18.955</td>\n",
       "      <td>19.55</td>\n",
       "      <td>255009</td>\n",
       "      <td>1517292000000</td>\n",
       "      <td>FRGI</td>\n",
       "    </tr>\n",
       "    <tr>\n",
       "      <th>4</th>\n",
       "      <td>19.55</td>\n",
       "      <td>19.650</td>\n",
       "      <td>19.050</td>\n",
       "      <td>19.20</td>\n",
       "      <td>205910</td>\n",
       "      <td>1517378400000</td>\n",
       "      <td>FRGI</td>\n",
       "    </tr>\n",
       "  </tbody>\n",
       "</table>\n",
       "</div>"
      ],
      "text/plain": [
       "    open    high     low  close  volume       datetime ticker\n",
       "0  20.10  20.450  19.800  20.10  351142  1516860000000   FRGI\n",
       "1  20.10  20.500  19.550  19.95  213098  1516946400000   FRGI\n",
       "2  19.95  20.125  19.700  19.95  174147  1517205600000   FRGI\n",
       "3  19.85  20.050  18.955  19.55  255009  1517292000000   FRGI\n",
       "4  19.55  19.650  19.050  19.20  205910  1517378400000   FRGI"
      ]
     },
     "execution_count": 10,
     "metadata": {},
     "output_type": "execute_result"
    }
   ],
   "source": [
    "df_list[0].head()"
   ]
  },
  {
   "cell_type": "markdown",
   "metadata": {},
   "source": [
    "## Cleaning"
   ]
  },
  {
   "cell_type": "markdown",
   "metadata": {},
   "source": [
    "The first step is to check for NaN values in each of the dataframes. If a dataframe contains a NaN value, the below loop will return the ticker associated with that dataframe."
   ]
  },
  {
   "cell_type": "code",
   "execution_count": 11,
   "metadata": {},
   "outputs": [],
   "source": [
    "# Checking for NaN values in each dataframe\n",
    "for df in df_list:\n",
    "    if df.isna().sum().sum() != 0:\n",
    "        print(df['ticker'][0])"
   ]
  },
  {
   "cell_type": "markdown",
   "metadata": {},
   "source": [
    "Next I'll check the datatypes of each column of each dataframe."
   ]
  },
  {
   "cell_type": "code",
   "execution_count": 12,
   "metadata": {},
   "outputs": [
    {
     "data": {
      "text/plain": [
       "open        float64\n",
       "high        float64\n",
       "low         float64\n",
       "close       float64\n",
       "volume        int64\n",
       "datetime      int64\n",
       "ticker       object\n",
       "dtype: object"
      ]
     },
     "execution_count": 12,
     "metadata": {},
     "output_type": "execute_result"
    }
   ],
   "source": [
    "df_list[0].dtypes"
   ]
  },
  {
   "cell_type": "markdown",
   "metadata": {},
   "source": [
    "The last thing to check is that each dataframe has the expected number of datapoints - 756."
   ]
  },
  {
   "cell_type": "code",
   "execution_count": 13,
   "metadata": {},
   "outputs": [],
   "source": [
    "for df in df_list:\n",
    "    if df.shape[0] < 755:\n",
    "        print(df['ticker'][0])"
   ]
  },
  {
   "cell_type": "markdown",
   "metadata": {},
   "source": [
    "The data arrives quite clean. The only changes to be made are to the datetimes, which arrive in the unix format and need to be converted to a regular datetime, then set as the index. "
   ]
  },
  {
   "cell_type": "code",
   "execution_count": 14,
   "metadata": {},
   "outputs": [],
   "source": [
    "df_list = clean_dates(df_list)"
   ]
  },
  {
   "cell_type": "markdown",
   "metadata": {},
   "source": [
    "### A First Look"
   ]
  },
  {
   "cell_type": "markdown",
   "metadata": {},
   "source": [
    "For the purpose of examining all the stocks in the dataset, I need concetanate them all into one dataframe."
   ]
  },
  {
   "cell_type": "code",
   "execution_count": 15,
   "metadata": {},
   "outputs": [
    {
     "data": {
      "text/plain": [
       "(172140, 6)"
      ]
     },
     "execution_count": 15,
     "metadata": {},
     "output_type": "execute_result"
    }
   ],
   "source": [
    "# Concatenating all the dfs in df_list\n",
    "df_joined = pd.concat(df_list)\n",
    "\n",
    "# Examining Shape\n",
    "df_joined.shape"
   ]
  },
  {
   "cell_type": "code",
   "execution_count": 16,
   "metadata": {},
   "outputs": [
    {
     "data": {
      "image/png": "[encoded data removed]",
      "text/plain": [
       "<Figure size 720x504 with 1 Axes>"
      ]
     },
     "metadata": {
      "needs_background": "light"
     },
     "output_type": "display_data"
    }
   ],
   "source": [
    "# Grouping by date and mean closing price accross all stocks\n",
    "date_close_gb = df_joined.groupby(df_joined.index)['close'].mean()\n",
    "\n",
    "# Assigning x and y variables so they can be graphed\n",
    "x = date_close_gb.keys()\n",
    "y = date_close_gb.values\n",
    "\n",
    "# Visualizing\n",
    "fig, ax = plt.subplots(figsize = (10,7))\n",
    "sns.set_theme()\n",
    "sns.lineplot(x = x, y = y)\n",
    "ax.set(xlabel = 'Date', \n",
    "       ylabel = 'Mean Closing Price ($)', \n",
    "       title = \"160 Small-Cap Stocks' Mean Closing Prices\")\n",
    "fig.autofmt_xdate(rotation=45)\n",
    "plt.show()"
   ]
  },
  {
   "cell_type": "markdown",
   "metadata": {},
   "source": [
    "As shown in the plot above, the average closing price of small cap stocks has been in a downward trend since year-end 2017, falling sharply around March 2020 due to the Coronavirus pandemic and its economic impact, failing to fully recover by December 2020. The trend is much more negative than the overall market, which rose consistently until March 2020, where it fell but proceeded to exceed pre-Covid levels by December 2020. "
   ]
  },
  {
   "cell_type": "markdown",
   "metadata": {},
   "source": [
    "## Feature Engineering"
   ]
  },
  {
   "cell_type": "markdown",
   "metadata": {},
   "source": [
    "The first feature I engineered was my target variable. The target signifies whether a stock's closing price for one day exceeds its opening price. If this is the case, the target variable = 1. If the opposite is true, wherein the stock closes lower than it opened, the target variable = 0. If the closing and opening prices are exactly the same, the target variable = 2."
   ]
  },
  {
   "cell_type": "code",
   "execution_count": 17,
   "metadata": {},
   "outputs": [],
   "source": [
    "df_list = create_intra_clf_target(df_list)"
   ]
  },
  {
   "cell_type": "code",
   "execution_count": 88,
   "metadata": {},
   "outputs": [
    {
     "data": {
      "image/png": "[encoded data removed]",
      "text/plain": [
       "<Figure size 720x504 with 1 Axes>"
      ]
     },
     "metadata": {},
     "output_type": "display_data"
    }
   ],
   "source": [
    "# Concatenating again after target variables have been created\n",
    "df_joined_2 = pd.concat(df_list)\n",
    "\n",
    "# Examining value counts of target variables\n",
    "target_counts = df_joined_2['intra_clf_target'].value_counts()\n",
    "\n",
    "# Assigning x and y variables for barplot\n",
    "x = target_counts.keys()\n",
    "y = target_counts.values\n",
    "\n",
    "# Visualizing\n",
    "fig, ax = plt.subplots(figsize = (10,7))\n",
    "sns.set_theme()\n",
    "sns.barplot(x = x, y = y)\n",
    "ax.set(xlabel = 'Target Variable', \n",
    "       ylabel = 'Frequency', \n",
    "       title = \"Frequency of Target Variables\")\n",
    "ax.set_xticklabels(labels = ['Down', 'Up', 'No Change'])\n",
    "sns.barplot(x = x, y = y, color = 'cornflowerblue')\n",
    "plt.show()"
   ]
  },
  {
   "cell_type": "markdown",
   "metadata": {},
   "source": [
    "As shown in the barplot above, there are relatively equivalent amounts of positive and negative cases, but high imbalance when compared to the neither case. As a result, I will use F1-Score as my evaluation metric.\n",
    "\n",
    "Unlike for classification, the target variable for my time series analysis does not need to be engineered. It is simply the closing price of each day I want to forecast into the future."
   ]
  },
  {
   "cell_type": "markdown",
   "metadata": {},
   "source": [
    "I know that moving averages are important technical indicators for price movement, so the next features I created served to account for both long and short-term moving averages. I created features for a 10, 50, and 200 day moving average."
   ]
  },
  {
   "cell_type": "code",
   "execution_count": 19,
   "metadata": {},
   "outputs": [],
   "source": [
    "# Takes in list of dfs, creates three different moving average features - 10, 50, and 200 days.\n",
    "df_list = create_moving_avs(df_list)"
   ]
  },
  {
   "cell_type": "code",
   "execution_count": 20,
   "metadata": {},
   "outputs": [
    {
     "data": {
      "image/png": "[encoded data removed]",
      "text/plain": [
       "<Figure size 720x504 with 1 Axes>"
      ]
     },
     "metadata": {},
     "output_type": "display_data"
    }
   ],
   "source": [
    "# Concatenating again after moving averages have been created\n",
    "df_joined_3 = pd.concat(df_list)\n",
    "\n",
    "# Grouping by date and mean closing price accross all stocks\n",
    "date_close_gb = df_joined.groupby(df_joined.index)['close'].mean()\n",
    "\n",
    "ten_day_gb = df_joined_3.groupby(df_joined_3.index)['10_day_ma'].mean()\n",
    "fifty_day_gb = df_joined_3.groupby(df_joined_3.index)['50_day_ma'].mean()\n",
    "twohundred_day_gb = df_joined_3.groupby(df_joined_3.index)['200_day_ma'].mean()\n",
    "\n",
    "# Assigning x1 and y1 to date and closing price\n",
    "x1 = date_close_gb.keys()\n",
    "y1 = date_close_gb.values\n",
    "\n",
    "# Assigning x2 and y2 to the ten day moving average\n",
    "x2 = ten_day_gb.keys()\n",
    "y2 = ten_day_gb.values\n",
    "\n",
    "# Assigning x3 and y3 to the fifty day moving average\n",
    "x3 = fifty_day_gb.keys()\n",
    "y3 = fifty_day_gb.values\n",
    "\n",
    "# Assigning x4 and y4 to the two hundred day moving average\n",
    "x4 = twohundred_day_gb.keys()\n",
    "y4 = twohundred_day_gb.values\n",
    "\n",
    "\n",
    "# Visualizing\n",
    "fig, ax = plt.subplots(figsize = (10,7))\n",
    "sns.set_theme()\n",
    "sns.lineplot(x = x1, y = y1, label = 'Mean Closing Price')\n",
    "sns.lineplot(x = x2, y = y2, label = '10 Day Moving Average')\n",
    "sns.lineplot(x = x3, y = y3, label = '50 Day Moving Average')\n",
    "sns.lineplot(x = x4, y = y4, label = '200 Day Moving Average')\n",
    "ax.set(xlabel = 'Date', \n",
    "       ylabel = 'Mean Closing Price ($)', \n",
    "       title = \"160 Small-Cap Stocks' Mean Closing Prices\")\n",
    "fig.autofmt_xdate(rotation=45)\n",
    "plt.show()"
   ]
  },
  {
   "cell_type": "markdown",
   "metadata": {},
   "source": [
    "The various moving averages are shown in comparison to the mean closing prices for each day. As one would expect, the 200 day average is much less affected by small price movements, as opposed to the 10 day average, which follows the mean closing price very closely.\n",
    "\n",
    "An important concept in quantitative finance is <b>Mean Reversion</b>, which holds that stocks tend to revert to the moving average of their prices."
   ]
  },
  {
   "cell_type": "markdown",
   "metadata": {},
   "source": [
    "The following function creates price change (%) features with intervals ranging from one to four days for each df.\n",
    "It calculates % price changes relative to the day before the observed date in order to avoid prediction using unknown data."
   ]
  },
  {
   "cell_type": "code",
   "execution_count": 21,
   "metadata": {},
   "outputs": [],
   "source": [
    "df_list = create_pct_price_changes(df_list)"
   ]
  },
  {
   "cell_type": "markdown",
   "metadata": {},
   "source": [
    "Below is an example of a dataframe with all features engineered:"
   ]
  },
  {
   "cell_type": "code",
   "execution_count": 22,
   "metadata": {},
   "outputs": [
    {
     "data": {
      "text/html": [
       "<div>\n",
       "<style scoped>\n",
       "    .dataframe tbody tr th:only-of-type {\n",
       "        vertical-align: middle;\n",
       "    }\n",
       "\n",
       "    .dataframe tbody tr th {\n",
       "        vertical-align: top;\n",
       "    }\n",
       "\n",
       "    .dataframe thead th {\n",
       "        text-align: right;\n",
       "    }\n",
       "</style>\n",
       "<table border=\"1\" class=\"dataframe\">\n",
       "  <thead>\n",
       "    <tr style=\"text-align: right;\">\n",
       "      <th></th>\n",
       "      <th>open</th>\n",
       "      <th>high</th>\n",
       "      <th>low</th>\n",
       "      <th>close</th>\n",
       "      <th>volume</th>\n",
       "      <th>ticker</th>\n",
       "      <th>intra_clf_target</th>\n",
       "      <th>10_day_ma</th>\n",
       "      <th>50_day_ma</th>\n",
       "      <th>200_day_ma</th>\n",
       "      <th>1_day_pct_change</th>\n",
       "      <th>2_day_pct_change</th>\n",
       "      <th>3_day_pct_change</th>\n",
       "      <th>4_day_pct_change</th>\n",
       "    </tr>\n",
       "    <tr>\n",
       "      <th>datetime</th>\n",
       "      <th></th>\n",
       "      <th></th>\n",
       "      <th></th>\n",
       "      <th></th>\n",
       "      <th></th>\n",
       "      <th></th>\n",
       "      <th></th>\n",
       "      <th></th>\n",
       "      <th></th>\n",
       "      <th></th>\n",
       "      <th></th>\n",
       "      <th></th>\n",
       "      <th></th>\n",
       "      <th></th>\n",
       "    </tr>\n",
       "  </thead>\n",
       "  <tbody>\n",
       "    <tr>\n",
       "      <th>2018-01-25 06:00:00</th>\n",
       "      <td>20.10</td>\n",
       "      <td>20.450</td>\n",
       "      <td>19.800</td>\n",
       "      <td>20.10</td>\n",
       "      <td>351142</td>\n",
       "      <td>FRGI</td>\n",
       "      <td>2</td>\n",
       "      <td>20.100000</td>\n",
       "      <td>20.100000</td>\n",
       "      <td>20.100000</td>\n",
       "      <td>0</td>\n",
       "      <td>0</td>\n",
       "      <td>0</td>\n",
       "      <td>0</td>\n",
       "    </tr>\n",
       "    <tr>\n",
       "      <th>2018-01-26 06:00:00</th>\n",
       "      <td>20.10</td>\n",
       "      <td>20.500</td>\n",
       "      <td>19.550</td>\n",
       "      <td>19.95</td>\n",
       "      <td>213098</td>\n",
       "      <td>FRGI</td>\n",
       "      <td>0</td>\n",
       "      <td>20.017500</td>\n",
       "      <td>20.023500</td>\n",
       "      <td>20.024625</td>\n",
       "      <td>0</td>\n",
       "      <td>0</td>\n",
       "      <td>0</td>\n",
       "      <td>0</td>\n",
       "    </tr>\n",
       "    <tr>\n",
       "      <th>2018-01-29 06:00:00</th>\n",
       "      <td>19.95</td>\n",
       "      <td>20.125</td>\n",
       "      <td>19.700</td>\n",
       "      <td>19.95</td>\n",
       "      <td>174147</td>\n",
       "      <td>FRGI</td>\n",
       "      <td>2</td>\n",
       "      <td>19.990365</td>\n",
       "      <td>19.998014</td>\n",
       "      <td>19.999501</td>\n",
       "      <td>0</td>\n",
       "      <td>0</td>\n",
       "      <td>0</td>\n",
       "      <td>0</td>\n",
       "    </tr>\n",
       "    <tr>\n",
       "      <th>2018-01-30 06:00:00</th>\n",
       "      <td>19.85</td>\n",
       "      <td>20.050</td>\n",
       "      <td>18.955</td>\n",
       "      <td>19.55</td>\n",
       "      <td>255009</td>\n",
       "      <td>FRGI</td>\n",
       "      <td>0</td>\n",
       "      <td>19.845285</td>\n",
       "      <td>19.879202</td>\n",
       "      <td>19.885434</td>\n",
       "      <td>0</td>\n",
       "      <td>0</td>\n",
       "      <td>0</td>\n",
       "      <td>0</td>\n",
       "    </tr>\n",
       "    <tr>\n",
       "      <th>2018-01-31 06:00:00</th>\n",
       "      <td>19.55</td>\n",
       "      <td>19.650</td>\n",
       "      <td>19.050</td>\n",
       "      <td>19.20</td>\n",
       "      <td>205910</td>\n",
       "      <td>FRGI</td>\n",
       "      <td>0</td>\n",
       "      <td>19.660041</td>\n",
       "      <td>19.732282</td>\n",
       "      <td>19.745592</td>\n",
       "      <td>0</td>\n",
       "      <td>0</td>\n",
       "      <td>0</td>\n",
       "      <td>0</td>\n",
       "    </tr>\n",
       "  </tbody>\n",
       "</table>\n",
       "</div>"
      ],
      "text/plain": [
       "                      open    high     low  close  volume ticker  \\\n",
       "datetime                                                           \n",
       "2018-01-25 06:00:00  20.10  20.450  19.800  20.10  351142   FRGI   \n",
       "2018-01-26 06:00:00  20.10  20.500  19.550  19.95  213098   FRGI   \n",
       "2018-01-29 06:00:00  19.95  20.125  19.700  19.95  174147   FRGI   \n",
       "2018-01-30 06:00:00  19.85  20.050  18.955  19.55  255009   FRGI   \n",
       "2018-01-31 06:00:00  19.55  19.650  19.050  19.20  205910   FRGI   \n",
       "\n",
       "                     intra_clf_target  10_day_ma  50_day_ma  200_day_ma  \\\n",
       "datetime                                                                  \n",
       "2018-01-25 06:00:00                 2  20.100000  20.100000   20.100000   \n",
       "2018-01-26 06:00:00                 0  20.017500  20.023500   20.024625   \n",
       "2018-01-29 06:00:00                 2  19.990365  19.998014   19.999501   \n",
       "2018-01-30 06:00:00                 0  19.845285  19.879202   19.885434   \n",
       "2018-01-31 06:00:00                 0  19.660041  19.732282   19.745592   \n",
       "\n",
       "                     1_day_pct_change  2_day_pct_change  3_day_pct_change  \\\n",
       "datetime                                                                    \n",
       "2018-01-25 06:00:00                 0                 0                 0   \n",
       "2018-01-26 06:00:00                 0                 0                 0   \n",
       "2018-01-29 06:00:00                 0                 0                 0   \n",
       "2018-01-30 06:00:00                 0                 0                 0   \n",
       "2018-01-31 06:00:00                 0                 0                 0   \n",
       "\n",
       "                     4_day_pct_change  \n",
       "datetime                               \n",
       "2018-01-25 06:00:00                 0  \n",
       "2018-01-26 06:00:00                 0  \n",
       "2018-01-29 06:00:00                 0  \n",
       "2018-01-30 06:00:00                 0  \n",
       "2018-01-31 06:00:00                 0  "
      ]
     },
     "execution_count": 22,
     "metadata": {},
     "output_type": "execute_result"
    }
   ],
   "source": [
    "df_list[0].head()"
   ]
  },
  {
   "cell_type": "markdown",
   "metadata": {},
   "source": [
    "Note: The first five observed days contain no pct price change values. This is because there was no data before the first observed day, so all values begin on the fifth day. Below is a better representation:"
   ]
  },
  {
   "cell_type": "code",
   "execution_count": 23,
   "metadata": {},
   "outputs": [
    {
     "data": {
      "text/html": [
       "<div>\n",
       "<style scoped>\n",
       "    .dataframe tbody tr th:only-of-type {\n",
       "        vertical-align: middle;\n",
       "    }\n",
       "\n",
       "    .dataframe tbody tr th {\n",
       "        vertical-align: top;\n",
       "    }\n",
       "\n",
       "    .dataframe thead th {\n",
       "        text-align: right;\n",
       "    }\n",
       "</style>\n",
       "<table border=\"1\" class=\"dataframe\">\n",
       "  <thead>\n",
       "    <tr style=\"text-align: right;\">\n",
       "      <th></th>\n",
       "      <th>open</th>\n",
       "      <th>high</th>\n",
       "      <th>low</th>\n",
       "      <th>close</th>\n",
       "      <th>volume</th>\n",
       "      <th>ticker</th>\n",
       "      <th>intra_clf_target</th>\n",
       "      <th>10_day_ma</th>\n",
       "      <th>50_day_ma</th>\n",
       "      <th>200_day_ma</th>\n",
       "      <th>1_day_pct_change</th>\n",
       "      <th>2_day_pct_change</th>\n",
       "      <th>3_day_pct_change</th>\n",
       "      <th>4_day_pct_change</th>\n",
       "    </tr>\n",
       "    <tr>\n",
       "      <th>datetime</th>\n",
       "      <th></th>\n",
       "      <th></th>\n",
       "      <th></th>\n",
       "      <th></th>\n",
       "      <th></th>\n",
       "      <th></th>\n",
       "      <th></th>\n",
       "      <th></th>\n",
       "      <th></th>\n",
       "      <th></th>\n",
       "      <th></th>\n",
       "      <th></th>\n",
       "      <th></th>\n",
       "      <th></th>\n",
       "    </tr>\n",
       "  </thead>\n",
       "  <tbody>\n",
       "    <tr>\n",
       "      <th>2021-01-19 06:00:00</th>\n",
       "      <td>15.18</td>\n",
       "      <td>15.5883</td>\n",
       "      <td>14.5800</td>\n",
       "      <td>14.83</td>\n",
       "      <td>144118</td>\n",
       "      <td>FRGI</td>\n",
       "      <td>0</td>\n",
       "      <td>13.745846</td>\n",
       "      <td>12.181001</td>\n",
       "      <td>10.292025</td>\n",
       "      <td>3</td>\n",
       "      <td>4</td>\n",
       "      <td>3</td>\n",
       "      <td>9</td>\n",
       "    </tr>\n",
       "    <tr>\n",
       "      <th>2021-01-20 06:00:00</th>\n",
       "      <td>14.61</td>\n",
       "      <td>15.2900</td>\n",
       "      <td>14.2040</td>\n",
       "      <td>15.21</td>\n",
       "      <td>143702</td>\n",
       "      <td>FRGI</td>\n",
       "      <td>1</td>\n",
       "      <td>14.012056</td>\n",
       "      <td>12.299785</td>\n",
       "      <td>10.340987</td>\n",
       "      <td>1</td>\n",
       "      <td>4</td>\n",
       "      <td>5</td>\n",
       "      <td>5</td>\n",
       "    </tr>\n",
       "    <tr>\n",
       "      <th>2021-01-21 06:00:00</th>\n",
       "      <td>15.21</td>\n",
       "      <td>15.6100</td>\n",
       "      <td>14.9068</td>\n",
       "      <td>15.35</td>\n",
       "      <td>100684</td>\n",
       "      <td>FRGI</td>\n",
       "      <td>1</td>\n",
       "      <td>14.255318</td>\n",
       "      <td>12.419401</td>\n",
       "      <td>10.390855</td>\n",
       "      <td>2</td>\n",
       "      <td>3</td>\n",
       "      <td>7</td>\n",
       "      <td>8</td>\n",
       "    </tr>\n",
       "    <tr>\n",
       "      <th>2021-01-22 06:00:00</th>\n",
       "      <td>15.19</td>\n",
       "      <td>15.4200</td>\n",
       "      <td>14.9501</td>\n",
       "      <td>15.38</td>\n",
       "      <td>100260</td>\n",
       "      <td>FRGI</td>\n",
       "      <td>1</td>\n",
       "      <td>14.459806</td>\n",
       "      <td>12.535503</td>\n",
       "      <td>10.440524</td>\n",
       "      <td>0</td>\n",
       "      <td>3</td>\n",
       "      <td>4</td>\n",
       "      <td>8</td>\n",
       "    </tr>\n",
       "    <tr>\n",
       "      <th>2021-01-25 06:00:00</th>\n",
       "      <td>15.24</td>\n",
       "      <td>16.0450</td>\n",
       "      <td>15.2200</td>\n",
       "      <td>15.69</td>\n",
       "      <td>91026</td>\n",
       "      <td>FRGI</td>\n",
       "      <td>1</td>\n",
       "      <td>14.683478</td>\n",
       "      <td>12.659209</td>\n",
       "      <td>10.492786</td>\n",
       "      <td>0</td>\n",
       "      <td>1</td>\n",
       "      <td>3</td>\n",
       "      <td>4</td>\n",
       "    </tr>\n",
       "  </tbody>\n",
       "</table>\n",
       "</div>"
      ],
      "text/plain": [
       "                      open     high      low  close  volume ticker  \\\n",
       "datetime                                                             \n",
       "2021-01-19 06:00:00  15.18  15.5883  14.5800  14.83  144118   FRGI   \n",
       "2021-01-20 06:00:00  14.61  15.2900  14.2040  15.21  143702   FRGI   \n",
       "2021-01-21 06:00:00  15.21  15.6100  14.9068  15.35  100684   FRGI   \n",
       "2021-01-22 06:00:00  15.19  15.4200  14.9501  15.38  100260   FRGI   \n",
       "2021-01-25 06:00:00  15.24  16.0450  15.2200  15.69   91026   FRGI   \n",
       "\n",
       "                     intra_clf_target  10_day_ma  50_day_ma  200_day_ma  \\\n",
       "datetime                                                                  \n",
       "2021-01-19 06:00:00                 0  13.745846  12.181001   10.292025   \n",
       "2021-01-20 06:00:00                 1  14.012056  12.299785   10.340987   \n",
       "2021-01-21 06:00:00                 1  14.255318  12.419401   10.390855   \n",
       "2021-01-22 06:00:00                 1  14.459806  12.535503   10.440524   \n",
       "2021-01-25 06:00:00                 1  14.683478  12.659209   10.492786   \n",
       "\n",
       "                     1_day_pct_change  2_day_pct_change  3_day_pct_change  \\\n",
       "datetime                                                                    \n",
       "2021-01-19 06:00:00                 3                 4                 3   \n",
       "2021-01-20 06:00:00                 1                 4                 5   \n",
       "2021-01-21 06:00:00                 2                 3                 7   \n",
       "2021-01-22 06:00:00                 0                 3                 4   \n",
       "2021-01-25 06:00:00                 0                 1                 3   \n",
       "\n",
       "                     4_day_pct_change  \n",
       "datetime                               \n",
       "2021-01-19 06:00:00                 9  \n",
       "2021-01-20 06:00:00                 5  \n",
       "2021-01-21 06:00:00                 8  \n",
       "2021-01-22 06:00:00                 8  \n",
       "2021-01-25 06:00:00                 4  "
      ]
     },
     "execution_count": 23,
     "metadata": {},
     "output_type": "execute_result"
    }
   ],
   "source": [
    "df_list[0].tail()"
   ]
  },
  {
   "cell_type": "markdown",
   "metadata": {},
   "source": [
    "## Selecting a Sample"
   ]
  },
  {
   "cell_type": "markdown",
   "metadata": {},
   "source": [
    "Due to time constraints, I wanted to select a subset of stocks on which to perform my analysis. I've chosen to use capital markets stocks, as their prices are affected the least by external influences. For example, biotechnology companies' prices are heavily influenced by their bringing new treatments and technologies to market. Capital markets companies performances are the most dependant on overall stock market performance out of all the industries in the dataset. "
   ]
  },
  {
   "cell_type": "code",
   "execution_count": 24,
   "metadata": {},
   "outputs": [],
   "source": [
    "# Selecting tickers from final df list\n",
    "final_list = [x['ticker'][0] for x in df_list]\n",
    "\n",
    "# Filtering screen df with 'industry' column for only those in the final screen\n",
    "sample = screen[screen['ticker'].isin(final_list)]\n",
    "\n",
    "# Getting tickers for the eight capital markets companies\n",
    "cap_markets_tickers = list(sample[sample['industry'] == 'Capital Markets']['ticker'])\n",
    "\n",
    "# Getting tickers for all other companies\n",
    "other_tickers = list(sample[sample['industry'] != 'Capital Markets']['ticker'])"
   ]
  },
  {
   "cell_type": "code",
   "execution_count": 25,
   "metadata": {},
   "outputs": [
    {
     "data": {
      "text/html": [
       "<div>\n",
       "<style scoped>\n",
       "    .dataframe tbody tr th:only-of-type {\n",
       "        vertical-align: middle;\n",
       "    }\n",
       "\n",
       "    .dataframe tbody tr th {\n",
       "        vertical-align: top;\n",
       "    }\n",
       "\n",
       "    .dataframe thead th {\n",
       "        text-align: right;\n",
       "    }\n",
       "</style>\n",
       "<table border=\"1\" class=\"dataframe\">\n",
       "  <thead>\n",
       "    <tr style=\"text-align: right;\">\n",
       "      <th></th>\n",
       "      <th>ticker</th>\n",
       "      <th>company</th>\n",
       "      <th>market_cap</th>\n",
       "      <th>sector</th>\n",
       "      <th>industry</th>\n",
       "      <th>dividend_yield</th>\n",
       "      <th>beta</th>\n",
       "    </tr>\n",
       "  </thead>\n",
       "  <tbody>\n",
       "    <tr>\n",
       "      <th>750</th>\n",
       "      <td>BANX</td>\n",
       "      <td>StoneCastle Financial Corp</td>\n",
       "      <td>136071720.0</td>\n",
       "      <td>Financials</td>\n",
       "      <td>Capital Markets</td>\n",
       "      <td>7.45%</td>\n",
       "      <td>+0.8</td>\n",
       "    </tr>\n",
       "    <tr>\n",
       "      <th>1429</th>\n",
       "      <td>CGBD</td>\n",
       "      <td>TCG BDC Inc</td>\n",
       "      <td>625592990.0</td>\n",
       "      <td>Financials</td>\n",
       "      <td>Capital Markets</td>\n",
       "      <td>11.59%</td>\n",
       "      <td>+2.2</td>\n",
       "    </tr>\n",
       "    <tr>\n",
       "      <th>1725</th>\n",
       "      <td>COWN</td>\n",
       "      <td>Cowen Inc</td>\n",
       "      <td>662763700.0</td>\n",
       "      <td>Financials</td>\n",
       "      <td>Capital Markets</td>\n",
       "      <td>1.29%</td>\n",
       "      <td>+1.5</td>\n",
       "    </tr>\n",
       "    <tr>\n",
       "      <th>2935</th>\n",
       "      <td>GAIN</td>\n",
       "      <td>Gladstone Investment Corporation</td>\n",
       "      <td>332714100.0</td>\n",
       "      <td>Financials</td>\n",
       "      <td>Capital Markets</td>\n",
       "      <td>8.32%</td>\n",
       "      <td>+1.4</td>\n",
       "    </tr>\n",
       "    <tr>\n",
       "      <th>5730</th>\n",
       "      <td>PNNT</td>\n",
       "      <td>PennantPark Investment Corp.</td>\n",
       "      <td>304719520.0</td>\n",
       "      <td>Financials</td>\n",
       "      <td>Capital Markets</td>\n",
       "      <td>10.48%</td>\n",
       "      <td>+2.0</td>\n",
       "    </tr>\n",
       "    <tr>\n",
       "      <th>5955</th>\n",
       "      <td>PZN</td>\n",
       "      <td>Pzena Investment Management, Inc.</td>\n",
       "      <td>518829300.0</td>\n",
       "      <td>Financials</td>\n",
       "      <td>Capital Markets</td>\n",
       "      <td>1.69%</td>\n",
       "      <td>+1.5</td>\n",
       "    </tr>\n",
       "    <tr>\n",
       "      <th>6465</th>\n",
       "      <td>SFE</td>\n",
       "      <td>Safeguard Scientifics, Inc</td>\n",
       "      <td>148131370.0</td>\n",
       "      <td>Financials</td>\n",
       "      <td>Capital Markets</td>\n",
       "      <td>--</td>\n",
       "      <td>+1.3</td>\n",
       "    </tr>\n",
       "    <tr>\n",
       "      <th>6831</th>\n",
       "      <td>SSSS</td>\n",
       "      <td>SuRo Capital Corp</td>\n",
       "      <td>250119840.0</td>\n",
       "      <td>Financials</td>\n",
       "      <td>Capital Markets</td>\n",
       "      <td>4.02%</td>\n",
       "      <td>+1.7</td>\n",
       "    </tr>\n",
       "    <tr>\n",
       "      <th>7759</th>\n",
       "      <td>WETF</td>\n",
       "      <td>Wisdom Tree Investments Inc</td>\n",
       "      <td>750605190.0</td>\n",
       "      <td>Financials</td>\n",
       "      <td>Capital Markets</td>\n",
       "      <td>2.38%</td>\n",
       "      <td>+1.7</td>\n",
       "    </tr>\n",
       "    <tr>\n",
       "      <th>7770</th>\n",
       "      <td>WHF</td>\n",
       "      <td>WhiteHorse Finance Inc</td>\n",
       "      <td>287644000.0</td>\n",
       "      <td>Financials</td>\n",
       "      <td>Capital Markets</td>\n",
       "      <td>10.19%</td>\n",
       "      <td>+1.6</td>\n",
       "    </tr>\n",
       "  </tbody>\n",
       "</table>\n",
       "</div>"
      ],
      "text/plain": [
       "     ticker                            company   market_cap      sector  \\\n",
       "750    BANX         StoneCastle Financial Corp  136071720.0  Financials   \n",
       "1429   CGBD                        TCG BDC Inc  625592990.0  Financials   \n",
       "1725   COWN                          Cowen Inc  662763700.0  Financials   \n",
       "2935   GAIN   Gladstone Investment Corporation  332714100.0  Financials   \n",
       "5730   PNNT       PennantPark Investment Corp.  304719520.0  Financials   \n",
       "5955    PZN  Pzena Investment Management, Inc.  518829300.0  Financials   \n",
       "6465    SFE         Safeguard Scientifics, Inc  148131370.0  Financials   \n",
       "6831   SSSS                  SuRo Capital Corp  250119840.0  Financials   \n",
       "7759   WETF        Wisdom Tree Investments Inc  750605190.0  Financials   \n",
       "7770    WHF             WhiteHorse Finance Inc  287644000.0  Financials   \n",
       "\n",
       "             industry dividend_yield  beta  \n",
       "750   Capital Markets          7.45%  +0.8  \n",
       "1429  Capital Markets         11.59%  +2.2  \n",
       "1725  Capital Markets          1.29%  +1.5  \n",
       "2935  Capital Markets          8.32%  +1.4  \n",
       "5730  Capital Markets         10.48%  +2.0  \n",
       "5955  Capital Markets          1.69%  +1.5  \n",
       "6465  Capital Markets             --  +1.3  \n",
       "6831  Capital Markets          4.02%  +1.7  \n",
       "7759  Capital Markets          2.38%  +1.7  \n",
       "7770  Capital Markets         10.19%  +1.6  "
      ]
     },
     "execution_count": 25,
     "metadata": {},
     "output_type": "execute_result"
    }
   ],
   "source": [
    "# Examining the eight capital markets firms\n",
    "sample[sample['industry'] == 'Capital Markets']"
   ]
  },
  {
   "cell_type": "code",
   "execution_count": 26,
   "metadata": {},
   "outputs": [],
   "source": [
    "# Instantiating list of capital markets stocks\n",
    "cm_df_list = []\n",
    "\n",
    "# Instantiating list of all other stocks\n",
    "other_list = []\n",
    "\n",
    "# If the company in the larger list of dfs is part of the cap markets list,\n",
    "# append it to the list of cap markets companies\n",
    "# If it's not on the cap markets list, append it to a list of other companies\n",
    "for df in df_list:\n",
    "    if df['ticker'][0] in cap_markets_tickers:\n",
    "        cm_df_list.append(df)\n",
    "    if df['ticker'][0] in other_tickers:\n",
    "        other_list.append(df)\n",
    "\n",
    "# Deleting two WETF duplicates\n",
    "del(cm_df_list[0])\n",
    "del(cm_df_list[-1])"
   ]
  },
  {
   "cell_type": "code",
   "execution_count": 27,
   "metadata": {},
   "outputs": [
    {
     "data": {
      "text/plain": [
       "10"
      ]
     },
     "execution_count": 27,
     "metadata": {},
     "output_type": "execute_result"
    }
   ],
   "source": [
    "len(cm_df_list)"
   ]
  },
  {
   "cell_type": "markdown",
   "metadata": {},
   "source": [
    "Below is a barplot showing the distribution of the various sectors present in my final 160 stocks. Financials, which contain capital markets, dominate the group."
   ]
  },
  {
   "cell_type": "code",
   "execution_count": 28,
   "metadata": {},
   "outputs": [
    {
     "data": {
      "image/png": "[encoded data removed]",
      "text/plain": [
       "<Figure size 720x504 with 1 Axes>"
      ]
     },
     "metadata": {},
     "output_type": "display_data"
    }
   ],
   "source": [
    "# Examining value counts for each sector\n",
    "sector_counts = sample['sector'].value_counts()\n",
    "\n",
    "# Assigning x and y variables for barplot\n",
    "sector_x = sector_counts.keys()\n",
    "sector_y = sector_counts.values\n",
    "\n",
    "# Constructing plot\n",
    "fig, ax = plt.subplots(figsize = (10,7))\n",
    "sns.barplot(x = sector_x, y = sector_y)\n",
    "ax.set(xlabel = 'Sector', \n",
    "       ylabel = 'Frequency', \n",
    "       title = \"Frequency of Sectors\")\n",
    "ax.set_xticklabels(rotation = 45, ha = 'right', labels = sector_x)\n",
    "sns.set_theme()\n",
    "sns.barplot(x = sector_x, y = sector_y, color = 'cornflowerblue')\n",
    "plt.show()"
   ]
  },
  {
   "cell_type": "markdown",
   "metadata": {},
   "source": [
    "Next I wanted to test my hypothesis of capital markets stocks closely following the market. Below shows the mean daily closing prices of all 160 stocks, the eight capital markets stocks, and the 152 stocks that don't belong to the capital markets industry. Because the 160 is largely composed of the 152 other stocks, it's not surprising that the green line representing the other stocks so closely follows the overall trend that it obscures the blue line."
   ]
  },
  {
   "cell_type": "code",
   "execution_count": 29,
   "metadata": {},
   "outputs": [
    {
     "data": {
      "image/png": "[encoded data removed]",
      "text/plain": [
       "<Figure size 792x504 with 1 Axes>"
      ]
     },
     "metadata": {},
     "output_type": "display_data"
    }
   ],
   "source": [
    "# Concatenating all the dfs in cm_df_list\n",
    "cm_joined = pd.concat(cm_df_list)\n",
    "\n",
    "# Concatenating all the dfs in other_list\n",
    "others_joined = pd.concat(other_list)\n",
    "\n",
    "# Grouping by date and mean closing price accross all stocks\n",
    "date_close_gb = df_joined.groupby(df_joined.index)['close'].mean()\n",
    "cm_close_gb = cm_joined.groupby(cm_joined.index)['close'].mean()\n",
    "other_close_gb = others_joined.groupby(others_joined.index)['close'].mean()\n",
    "\n",
    "# Assigning x and y variables so they can be graphed\n",
    "x = date_close_gb.keys()\n",
    "y = date_close_gb.values\n",
    "\n",
    "# Cap Markets x and y\n",
    "x1 = cm_close_gb.keys()\n",
    "y1 = cm_close_gb.values\n",
    "\n",
    "# All others x and y\n",
    "x2 = other_close_gb.keys()\n",
    "y2 = other_close_gb.values\n",
    "\n",
    "# Visualizing\n",
    "fig, ax = plt.subplots(figsize = (11,7))\n",
    "sns.lineplot(x = x, y = y, label = 'All Industries')\n",
    "sns.lineplot(x = x1, y = y1, label = 'Capital Markets')\n",
    "sns.lineplot(x = x2, y = y2, label = 'Other Industries')\n",
    "ax.set(xlabel = 'Date', \n",
    "       ylabel = 'Mean Closing Price ($)', \n",
    "       title = \"Mean Closing Prices vs. Capital Markets vs. All Others\"\n",
    "      )\n",
    "fig.autofmt_xdate(rotation=45)\n",
    "sns.set_theme()\n",
    "plt.show()"
   ]
  },
  {
   "cell_type": "markdown",
   "metadata": {},
   "source": [
    "## Modeling and Results - Price Movement Classification"
   ]
  },
  {
   "cell_type": "markdown",
   "metadata": {},
   "source": [
    "### Initial Model"
   ]
  },
  {
   "cell_type": "markdown",
   "metadata": {},
   "source": [
    "My baseline model was a KNN and was used to evaluate my engineered features. "
   ]
  },
  {
   "cell_type": "code",
   "execution_count": 30,
   "metadata": {},
   "outputs": [
    {
     "name": "stdout",
     "output_type": "stream",
     "text": [
      "Acc: 0.4715447154471545\n",
      "Precision: 0.46622927626335087\n"
     ]
    }
   ],
   "source": [
    "# Assign a test dataframe on which to evaluate\n",
    "df_test = df_list[0]\n",
    "\n",
    "# Split into train and test sets on February 2, 2020\n",
    "train = df_test[:'2020-02-02']\n",
    "test = df_test['2020-02-02':]\n",
    "\n",
    "X_train, y_train = train[['10_day_ma', '50_day_ma', '200_day_ma', \n",
    "                          '1_day_pct_change',\n",
    "                         '2_day_pct_change', \n",
    "                          '3_day_pct_change', \n",
    "                          '4_day_pct_change']], train['intra_clf_target']\n",
    "\n",
    "X_test, y_test = test[['10_day_ma', '50_day_ma', '200_day_ma', \n",
    "                          '1_day_pct_change',\n",
    "                         '2_day_pct_change', \n",
    "                          '3_day_pct_change', \n",
    "                          '4_day_pct_change']], test['intra_clf_target']\n",
    "\n",
    "# Instantiate the KNN Classifier\n",
    "knn = KNeighborsClassifier()\n",
    "\n",
    "# Instantiate the scaler\n",
    "scaler = StandardScaler()\n",
    "\n",
    "# Fit, transform on the train set, only transform on the test set\n",
    "scaler.fit_transform(X_train)\n",
    "scaler.transform(X_test)\n",
    "\n",
    "# Fit the model to the training data\n",
    "knn.fit(X_train, y_train)\n",
    "\n",
    "# Predict on the test data\n",
    "preds = knn.predict(X_test)\n",
    "\n",
    "# Evaluate metrics\n",
    "print('Acc:', accuracy_score(y_test, preds)) # price changes improved to .486 from .45\n",
    "print('Precision:', precision_score(y_test, preds, average = 'weighted')) # improved from .44 with price change feature"
   ]
  },
  {
   "cell_type": "markdown",
   "metadata": {},
   "source": [
    "My initial accuracy and precision scores were .451 and .448, respectively; however, the addition of my moving average and percent-price-change features saw these increase to .478 and .472, respectively."
   ]
  },
  {
   "cell_type": "markdown",
   "metadata": {},
   "source": [
    "### Gridsearch and Cross Validation"
   ]
  },
  {
   "cell_type": "markdown",
   "metadata": {},
   "source": [
    "Next I wanted to add another model - Random Forest - then gridsearch my parameters and cross validate my evaluation metric, F1-Score. Because I have a high imbalance among my three classes, F1-Score serves to remedy much of the bias in scoring this may cause, as it takes into account precision and recall. I gridsearched only on the first ten dataframes in my list of dataframes for the sake of time. For each df and respective model fit to it, a dictionary with the parameters used in the model as well as the F1-Score attained with those parameters. For each model, I compile these into a list, then pick the parameters to use in my final models based on frequency.  "
   ]
  },
  {
   "cell_type": "markdown",
   "metadata": {},
   "source": [
    "Because of the time series nature of the data, I had to create a custom means of cross validating my scoring metric. I split the data into five folds - one representing 60% of the data and four others, each representing 10%. Each of the subsets was in sequential order in relation to all others. I would train on the first, large set and test on the second set. Once I have my scoring metrics from that iteration, I would combine the original train and test sets into one training set then test on the next set in the order. I continued this process until I had tested on all four 'testing' sets, after which I averaged my metrics."
   ]
  },
  {
   "cell_type": "code",
   "execution_count": 31,
   "metadata": {},
   "outputs": [],
   "source": [
    "# Instantiate Random Forest and KNN Classifiers to be used in further modeling\n",
    "rfc = RandomForestClassifier(random_state = 1)\n",
    "knn = KNeighborsClassifier()\n",
    "\n",
    "# Parameter grid for random forest gridsearch\n",
    "rfc_param_grid = {'n_estimators': [500, 750, 1000],\n",
    "                  'class_weight': ['balanced'],\n",
    "                  'criterion': ['gini', 'entropy'],\n",
    "                  'max_depth': [3, 5, 7]\n",
    "             }\n",
    "\n",
    "# Parameter grid for knn gridsearch\n",
    "knn_param_grid = {'n_neighbors': [3, 4, 5, 6, 7],\n",
    "                  'algorithm': ['auto', 'ball_tree', 'kd_tree'],\n",
    "                  'leaf_size': [15, 30, 40]\n",
    "                 }"
   ]
  },
  {
   "cell_type": "markdown",
   "metadata": {},
   "source": [
    "#### Random Forest"
   ]
  },
  {
   "cell_type": "code",
   "execution_count": 32,
   "metadata": {},
   "outputs": [],
   "source": [
    "# Create a list of random forest best params and scores for first 10 dfs\n",
    "rfc_gs_results = []\n",
    "\n",
    "for df in df_list[:10]:\n",
    "    # Gridsearch and Cross Validation \n",
    "    result = time_cross_validate(df = df, model = rfc, param_grid = rfc_param_grid)\n",
    "    \n",
    "    # Appending to list of dicts\n",
    "    rfc_gs_results.append(result)            "
   ]
  },
  {
   "cell_type": "code",
   "execution_count": 33,
   "metadata": {},
   "outputs": [
    {
     "data": {
      "text/plain": [
       "[{'class_weight': 'balanced',\n",
       "  'criterion': 'entropy',\n",
       "  'max_depth': 7,\n",
       "  'n_estimators': 1000,\n",
       "  'best_score': 0.4862492511607587},\n",
       " {'class_weight': 'balanced',\n",
       "  'criterion': 'entropy',\n",
       "  'max_depth': 7,\n",
       "  'n_estimators': 750,\n",
       "  'best_score': 0.41322427253151706},\n",
       " {'class_weight': 'balanced',\n",
       "  'criterion': 'gini',\n",
       "  'max_depth': 7,\n",
       "  'n_estimators': 750,\n",
       "  'best_score': 0.4296741965435964},\n",
       " {'class_weight': 'balanced',\n",
       "  'criterion': 'entropy',\n",
       "  'max_depth': 5,\n",
       "  'n_estimators': 750,\n",
       "  'best_score': 0.42508292405495696},\n",
       " {'class_weight': 'balanced',\n",
       "  'criterion': 'entropy',\n",
       "  'max_depth': 7,\n",
       "  'n_estimators': 500,\n",
       "  'best_score': 0.43733165201052093},\n",
       " {'class_weight': 'balanced',\n",
       "  'criterion': 'entropy',\n",
       "  'max_depth': 7,\n",
       "  'n_estimators': 750,\n",
       "  'best_score': 0.4934463976392552},\n",
       " {'class_weight': 'balanced',\n",
       "  'criterion': 'gini',\n",
       "  'max_depth': 7,\n",
       "  'n_estimators': 500,\n",
       "  'best_score': 0.41153136631897436},\n",
       " {'class_weight': 'balanced',\n",
       "  'criterion': 'entropy',\n",
       "  'max_depth': 7,\n",
       "  'n_estimators': 750,\n",
       "  'best_score': 0.4902523203337868},\n",
       " {'class_weight': 'balanced',\n",
       "  'criterion': 'gini',\n",
       "  'max_depth': 5,\n",
       "  'n_estimators': 1000,\n",
       "  'best_score': 0.42932698690593424},\n",
       " {'class_weight': 'balanced',\n",
       "  'criterion': 'gini',\n",
       "  'max_depth': 7,\n",
       "  'n_estimators': 750,\n",
       "  'best_score': 0.44253593899276844}]"
      ]
     },
     "execution_count": 33,
     "metadata": {},
     "output_type": "execute_result"
    }
   ],
   "source": [
    "rfc_gs_results"
   ]
  },
  {
   "cell_type": "code",
   "execution_count": 34,
   "metadata": {},
   "outputs": [
    {
     "data": {
      "text/plain": [
       "0.4458655306492069"
      ]
     },
     "execution_count": 34,
     "metadata": {},
     "output_type": "execute_result"
    }
   ],
   "source": [
    "# Calculating mean random forest F1 score for the first 10 stocks\n",
    "np.mean([x['best_score'] for x in rfc_gs_results])"
   ]
  },
  {
   "cell_type": "markdown",
   "metadata": {},
   "source": [
    "The highest performing parameters for the Random Forest based on this gridsearch are:\n",
    "* max_depth = 7\n",
    "* n_estimators = 1000\n",
    "* criterion = 'gini'\n",
    "* class_weight = 'balanced'"
   ]
  },
  {
   "cell_type": "markdown",
   "metadata": {},
   "source": [
    "#### KNN"
   ]
  },
  {
   "cell_type": "code",
   "execution_count": 35,
   "metadata": {},
   "outputs": [],
   "source": [
    "# Create a list of knn best params and scores for first 10 dfs\n",
    "knn_gs_results = []\n",
    "\n",
    "for df in df_list[:10]:\n",
    "    # Gridsearch and Cross Validation\n",
    "    result = time_cross_validate(df = df, model = knn, param_grid = knn_param_grid)\n",
    "    \n",
    "    # Appending to list of dicts\n",
    "    knn_gs_results.append(result)            "
   ]
  },
  {
   "cell_type": "code",
   "execution_count": 36,
   "metadata": {},
   "outputs": [
    {
     "data": {
      "text/plain": [
       "[{'algorithm': 'auto',\n",
       "  'leaf_size': 15,\n",
       "  'n_neighbors': 7,\n",
       "  'best_score': 0.5738488871133964},\n",
       " {'algorithm': 'auto',\n",
       "  'leaf_size': 15,\n",
       "  'n_neighbors': 7,\n",
       "  'best_score': 0.463830541960602},\n",
       " {'algorithm': 'ball_tree',\n",
       "  'leaf_size': 15,\n",
       "  'n_neighbors': 5,\n",
       "  'best_score': 0.4614377047824746},\n",
       " {'algorithm': 'auto',\n",
       "  'leaf_size': 15,\n",
       "  'n_neighbors': 3,\n",
       "  'best_score': 0.49170279675858397},\n",
       " {'algorithm': 'auto',\n",
       "  'leaf_size': 15,\n",
       "  'n_neighbors': 4,\n",
       "  'best_score': 0.4521655202404068},\n",
       " {'algorithm': 'auto',\n",
       "  'leaf_size': 15,\n",
       "  'n_neighbors': 5,\n",
       "  'best_score': 0.5248551157418677},\n",
       " {'algorithm': 'auto',\n",
       "  'leaf_size': 15,\n",
       "  'n_neighbors': 4,\n",
       "  'best_score': 0.474781704824014},\n",
       " {'algorithm': 'auto',\n",
       "  'leaf_size': 15,\n",
       "  'n_neighbors': 3,\n",
       "  'best_score': 0.49317313962377823},\n",
       " {'algorithm': 'auto',\n",
       "  'leaf_size': 15,\n",
       "  'n_neighbors': 5,\n",
       "  'best_score': 0.4588477823484942},\n",
       " {'algorithm': 'auto',\n",
       "  'leaf_size': 15,\n",
       "  'n_neighbors': 3,\n",
       "  'best_score': 0.4772543482064321}]"
      ]
     },
     "execution_count": 36,
     "metadata": {},
     "output_type": "execute_result"
    }
   ],
   "source": [
    "knn_gs_results"
   ]
  },
  {
   "cell_type": "code",
   "execution_count": 37,
   "metadata": {},
   "outputs": [
    {
     "data": {
      "text/plain": [
       "0.487189754160005"
      ]
     },
     "execution_count": 37,
     "metadata": {},
     "output_type": "execute_result"
    }
   ],
   "source": [
    "# Calculating mean KNN F1 score for the first 10 stocks\n",
    "np.mean([x['best_score'] for x in knn_gs_results])"
   ]
  },
  {
   "cell_type": "markdown",
   "metadata": {},
   "source": [
    "The highest performing parameters for the KNN based on this gridsearch are:\n",
    "* algorithm = 'auto'\n",
    "* leaf_size = 15\n",
    "* n_neighbors = 3"
   ]
  },
  {
   "cell_type": "markdown",
   "metadata": {},
   "source": [
    "### Final Classification Models"
   ]
  },
  {
   "cell_type": "markdown",
   "metadata": {},
   "source": [
    "#### Analysis of Results and Comparing Models"
   ]
  },
  {
   "cell_type": "markdown",
   "metadata": {},
   "source": [
    "For my final Random Forest and KNN models, I used the parameters I obtained through my gridsearch. I anticipated that there would not be a clear favorite among the two models, and that instead KNN would perform better on some stocks while Random Forest would perform better on others. I evaluated both models on the first ten stocks, creating a list of tuples of F1-Scores. The first item in each tuple corresponds to the Random Forest F1 and the second to the KNN F1."
   ]
  },
  {
   "cell_type": "code",
   "execution_count": 38,
   "metadata": {},
   "outputs": [
    {
     "data": {
      "text/plain": [
       "[(0.3025748149493665, 0.45713688147437315),\n",
       " (0.39520518467886884, 0.5695980516403558),\n",
       " (0.3309852915116073, 0.5652475720843729),\n",
       " (0.4824561403508772, 0.47197178005248325),\n",
       " (0.547658310839237, 0.4982572485372037),\n",
       " (0.38204215860693297, 0.453166104139766),\n",
       " (0.44796931248796185, 0.5339458058025849),\n",
       " (0.46336669259355284, 0.48553900160548363),\n",
       " (0.47289649739909473, 0.5130220816156967)]"
      ]
     },
     "execution_count": 38,
     "metadata": {},
     "output_type": "execute_result"
    }
   ],
   "source": [
    "# Creating a list of tuples to compare model performance on each stock\n",
    "comparison_list = compare_scores(cm_df_list)\n",
    "comparison_list"
   ]
  },
  {
   "cell_type": "code",
   "execution_count": 39,
   "metadata": {},
   "outputs": [],
   "source": [
    "# Splitting the above tuples into individual lists of F1-Scores for the purpose of visualization\n",
    "rfc_f1 = [x[0] for x in comparison_list]\n",
    "knn_f1 = [x[1] for x in comparison_list]"
   ]
  },
  {
   "cell_type": "code",
   "execution_count": 40,
   "metadata": {},
   "outputs": [
    {
     "data": {
      "image/png": "[encoded data removed]",
      "text/plain": [
       "<Figure size 720x504 with 1 Axes>"
      ]
     },
     "metadata": {},
     "output_type": "display_data"
    }
   ],
   "source": [
    "fig, ax = plt.subplots(figsize = (10,7))\n",
    "sns.lineplot(x = range(len(rfc_f1)), y = rfc_f1, label = 'RFC F1-Score')\n",
    "sns.lineplot(x = range(len(knn_f1)), y = knn_f1, label = 'KNN F1-Score')\n",
    "ax.set(xlabel = 'Stock #',ylabel = 'F1-Score', title = 'F1-Score on Each of Eight Stocks')\n",
    "sns.set_theme()\n",
    "# ax.axhline(y = np.mean(rfc_f1), xmin = .05, xmax = .95)\n",
    "# ax.axhline(y = np.mean(knn_f1), xmin = .05, xmax = .95, color = 'orange')\n",
    "# ax.text(x = 9.5, y = np.mean(rfc_f1), s = str(round(np.mean(rfc_f1), 2)))\n",
    "# ax.text(x = 9.5, y = np.mean(knn_f1), s = str(round(np.mean(knn_f1), 2)))\n",
    "ax.legend()\n",
    "plt.show()"
   ]
  },
  {
   "cell_type": "markdown",
   "metadata": {},
   "source": [
    "Contrary to my initial assumption, the KNN F1-Score (.48) outperformed the RF F1-Score (.43) by .05 on average, as shown in the graph above."
   ]
  },
  {
   "cell_type": "markdown",
   "metadata": {},
   "source": [
    "# Time Series Analysis"
   ]
  },
  {
   "cell_type": "markdown",
   "metadata": {},
   "source": [
    "In order to predict exact prices as opposed to price movements, I needed to use time series models like ARMA, which stands for Autoregressive Moving Average. The autoregressive portion of the title refers to the model's ability to predict a value based on values that came chronologically before it. The moving average portion is self explanatory, referring to the model's use of a moving average component in its forecasting."
   ]
  },
  {
   "cell_type": "markdown",
   "metadata": {},
   "source": [
    "## Data Inspection"
   ]
  },
  {
   "cell_type": "markdown",
   "metadata": {},
   "source": [
    "I began by taking a look at a dataframe from my capital markets stock list to use as a test df to develop my first simple model."
   ]
  },
  {
   "cell_type": "code",
   "execution_count": 41,
   "metadata": {},
   "outputs": [
    {
     "data": {
      "text/html": [
       "<div>\n",
       "<style scoped>\n",
       "    .dataframe tbody tr th:only-of-type {\n",
       "        vertical-align: middle;\n",
       "    }\n",
       "\n",
       "    .dataframe tbody tr th {\n",
       "        vertical-align: top;\n",
       "    }\n",
       "\n",
       "    .dataframe thead th {\n",
       "        text-align: right;\n",
       "    }\n",
       "</style>\n",
       "<table border=\"1\" class=\"dataframe\">\n",
       "  <thead>\n",
       "    <tr style=\"text-align: right;\">\n",
       "      <th></th>\n",
       "      <th>open</th>\n",
       "      <th>high</th>\n",
       "      <th>low</th>\n",
       "      <th>close</th>\n",
       "      <th>volume</th>\n",
       "      <th>ticker</th>\n",
       "      <th>intra_clf_target</th>\n",
       "      <th>10_day_ma</th>\n",
       "      <th>50_day_ma</th>\n",
       "      <th>200_day_ma</th>\n",
       "      <th>1_day_pct_change</th>\n",
       "      <th>2_day_pct_change</th>\n",
       "      <th>3_day_pct_change</th>\n",
       "      <th>4_day_pct_change</th>\n",
       "    </tr>\n",
       "    <tr>\n",
       "      <th>datetime</th>\n",
       "      <th></th>\n",
       "      <th></th>\n",
       "      <th></th>\n",
       "      <th></th>\n",
       "      <th></th>\n",
       "      <th></th>\n",
       "      <th></th>\n",
       "      <th></th>\n",
       "      <th></th>\n",
       "      <th></th>\n",
       "      <th></th>\n",
       "      <th></th>\n",
       "      <th></th>\n",
       "      <th></th>\n",
       "    </tr>\n",
       "  </thead>\n",
       "  <tbody>\n",
       "    <tr>\n",
       "      <th>2018-01-22 06:00:00</th>\n",
       "      <td>11.40</td>\n",
       "      <td>11.85</td>\n",
       "      <td>11.40</td>\n",
       "      <td>11.80</td>\n",
       "      <td>96168</td>\n",
       "      <td>SFE</td>\n",
       "      <td>1</td>\n",
       "      <td>11.800000</td>\n",
       "      <td>11.800000</td>\n",
       "      <td>11.800000</td>\n",
       "      <td>0</td>\n",
       "      <td>0</td>\n",
       "      <td>0</td>\n",
       "      <td>0</td>\n",
       "    </tr>\n",
       "    <tr>\n",
       "      <th>2018-01-23 06:00:00</th>\n",
       "      <td>11.75</td>\n",
       "      <td>11.80</td>\n",
       "      <td>11.40</td>\n",
       "      <td>11.55</td>\n",
       "      <td>93120</td>\n",
       "      <td>SFE</td>\n",
       "      <td>0</td>\n",
       "      <td>11.662500</td>\n",
       "      <td>11.672500</td>\n",
       "      <td>11.674375</td>\n",
       "      <td>0</td>\n",
       "      <td>0</td>\n",
       "      <td>0</td>\n",
       "      <td>0</td>\n",
       "    </tr>\n",
       "    <tr>\n",
       "      <th>2018-01-24 06:00:00</th>\n",
       "      <td>11.55</td>\n",
       "      <td>11.70</td>\n",
       "      <td>11.30</td>\n",
       "      <td>11.35</td>\n",
       "      <td>68251</td>\n",
       "      <td>SFE</td>\n",
       "      <td>0</td>\n",
       "      <td>11.536877</td>\n",
       "      <td>11.560672</td>\n",
       "      <td>11.565167</td>\n",
       "      <td>0</td>\n",
       "      <td>0</td>\n",
       "      <td>0</td>\n",
       "      <td>0</td>\n",
       "    </tr>\n",
       "    <tr>\n",
       "      <th>2018-01-25 06:00:00</th>\n",
       "      <td>11.35</td>\n",
       "      <td>11.60</td>\n",
       "      <td>11.25</td>\n",
       "      <td>11.50</td>\n",
       "      <td>169488</td>\n",
       "      <td>SFE</td>\n",
       "      <td>1</td>\n",
       "      <td>11.524728</td>\n",
       "      <td>11.544582</td>\n",
       "      <td>11.548630</td>\n",
       "      <td>0</td>\n",
       "      <td>0</td>\n",
       "      <td>0</td>\n",
       "      <td>0</td>\n",
       "    </tr>\n",
       "    <tr>\n",
       "      <th>2018-01-26 06:00:00</th>\n",
       "      <td>11.55</td>\n",
       "      <td>11.75</td>\n",
       "      <td>11.55</td>\n",
       "      <td>11.65</td>\n",
       "      <td>83289</td>\n",
       "      <td>SFE</td>\n",
       "      <td>1</td>\n",
       "      <td>11.560690</td>\n",
       "      <td>11.567385</td>\n",
       "      <td>11.569312</td>\n",
       "      <td>0</td>\n",
       "      <td>0</td>\n",
       "      <td>0</td>\n",
       "      <td>0</td>\n",
       "    </tr>\n",
       "  </tbody>\n",
       "</table>\n",
       "</div>"
      ],
      "text/plain": [
       "                      open   high    low  close  volume ticker  \\\n",
       "datetime                                                         \n",
       "2018-01-22 06:00:00  11.40  11.85  11.40  11.80   96168    SFE   \n",
       "2018-01-23 06:00:00  11.75  11.80  11.40  11.55   93120    SFE   \n",
       "2018-01-24 06:00:00  11.55  11.70  11.30  11.35   68251    SFE   \n",
       "2018-01-25 06:00:00  11.35  11.60  11.25  11.50  169488    SFE   \n",
       "2018-01-26 06:00:00  11.55  11.75  11.55  11.65   83289    SFE   \n",
       "\n",
       "                     intra_clf_target  10_day_ma  50_day_ma  200_day_ma  \\\n",
       "datetime                                                                  \n",
       "2018-01-22 06:00:00                 1  11.800000  11.800000   11.800000   \n",
       "2018-01-23 06:00:00                 0  11.662500  11.672500   11.674375   \n",
       "2018-01-24 06:00:00                 0  11.536877  11.560672   11.565167   \n",
       "2018-01-25 06:00:00                 1  11.524728  11.544582   11.548630   \n",
       "2018-01-26 06:00:00                 1  11.560690  11.567385   11.569312   \n",
       "\n",
       "                     1_day_pct_change  2_day_pct_change  3_day_pct_change  \\\n",
       "datetime                                                                    \n",
       "2018-01-22 06:00:00                 0                 0                 0   \n",
       "2018-01-23 06:00:00                 0                 0                 0   \n",
       "2018-01-24 06:00:00                 0                 0                 0   \n",
       "2018-01-25 06:00:00                 0                 0                 0   \n",
       "2018-01-26 06:00:00                 0                 0                 0   \n",
       "\n",
       "                     4_day_pct_change  \n",
       "datetime                               \n",
       "2018-01-22 06:00:00                 0  \n",
       "2018-01-23 06:00:00                 0  \n",
       "2018-01-24 06:00:00                 0  \n",
       "2018-01-25 06:00:00                 0  \n",
       "2018-01-26 06:00:00                 0  "
      ]
     },
     "execution_count": 41,
     "metadata": {},
     "output_type": "execute_result"
    }
   ],
   "source": [
    "cm_df_list[0].head()"
   ]
  },
  {
   "cell_type": "code",
   "execution_count": 42,
   "metadata": {},
   "outputs": [
    {
     "data": {
      "text/plain": [
       "datetime\n",
       "2018-01-22 06:00:00    11.80\n",
       "2018-01-23 06:00:00    11.55\n",
       "2018-01-24 06:00:00    11.35\n",
       "2018-01-25 06:00:00    11.50\n",
       "2018-01-26 06:00:00    11.65\n",
       "Name: close, dtype: float64"
      ]
     },
     "execution_count": 42,
     "metadata": {},
     "output_type": "execute_result"
    }
   ],
   "source": [
    "df_test = cm_df_list[0]['close']\n",
    "\n",
    "df_test.head()"
   ]
  },
  {
   "cell_type": "code",
   "execution_count": 43,
   "metadata": {},
   "outputs": [
    {
     "data": {
      "text/plain": [
       "<AxesSubplot:xlabel='datetime'>"
      ]
     },
     "execution_count": 43,
     "metadata": {},
     "output_type": "execute_result"
    },
    {
     "data": {
      "image/png": "[encoded data removed]",
      "text/plain": [
       "<Figure size 432x288 with 1 Axes>"
      ]
     },
     "metadata": {},
     "output_type": "display_data"
    }
   ],
   "source": [
    "df_test.plot()"
   ]
  },
  {
   "cell_type": "markdown",
   "metadata": {},
   "source": [
    "## ARMA"
   ]
  },
  {
   "cell_type": "markdown",
   "metadata": {},
   "source": [
    "### Detrending"
   ]
  },
  {
   "cell_type": "markdown",
   "metadata": {},
   "source": [
    "Next I move on to detrending in order to remove periodicity and acheive stationarity in my time series. I employ differencing to do this. ARMA models assume input data is stationary."
   ]
  },
  {
   "cell_type": "code",
   "execution_count": 44,
   "metadata": {},
   "outputs": [],
   "source": [
    "df_diff = df_test.diff(periods = 1)\n",
    "df_diff.dropna(inplace = True)"
   ]
  },
  {
   "cell_type": "code",
   "execution_count": 45,
   "metadata": {},
   "outputs": [
    {
     "data": {
      "text/plain": [
       "<AxesSubplot:xlabel='datetime'>"
      ]
     },
     "execution_count": 45,
     "metadata": {},
     "output_type": "execute_result"
    },
    {
     "data": {
      "image/png": "[encoded data removed]",
      "text/plain": [
       "<Figure size 432x288 with 1 Axes>"
      ]
     },
     "metadata": {},
     "output_type": "display_data"
    }
   ],
   "source": [
    "df_diff.plot()"
   ]
  },
  {
   "cell_type": "code",
   "execution_count": 46,
   "metadata": {},
   "outputs": [
    {
     "data": {
      "text/plain": [
       "(-17.678583768815344,\n",
       " 3.617007147229186e-30,\n",
       " 1,\n",
       " 754,\n",
       " {'1%': -3.439052522969989,\n",
       "  '5%': -2.8653808299915013,\n",
       "  '10%': -2.5688152592363274},\n",
       " -274.8746080293622)"
      ]
     },
     "execution_count": 46,
     "metadata": {},
     "output_type": "execute_result"
    }
   ],
   "source": [
    "# Dickey-Fuller test for stationarity\n",
    "d_f = adfuller(df_diff)\n",
    "d_f"
   ]
  },
  {
   "cell_type": "markdown",
   "metadata": {},
   "source": [
    "### Train/Test Split"
   ]
  },
  {
   "cell_type": "code",
   "execution_count": 31,
   "metadata": {},
   "outputs": [],
   "source": [
    "end_train_date = '2020-12-01'\n",
    "end_test_date = '2020-12-18'"
   ]
  },
  {
   "cell_type": "code",
   "execution_count": 57,
   "metadata": {},
   "outputs": [],
   "source": [
    "# Slicing my data based on set dates\n",
    "train = df_diff[:end_train_date]\n",
    "test = df_diff[end_train_date:end_test_date]"
   ]
  },
  {
   "cell_type": "markdown",
   "metadata": {},
   "source": [
    "### Modeling"
   ]
  },
  {
   "cell_type": "markdown",
   "metadata": {},
   "source": [
    "Through trial and error I arrive at order parameters of 4 and 4 for AR and MA, respectively. These parameters dictate how many autoregressive and moving average terms exist within the ARMA function. They yielded me the lowest AIC score."
   ]
  },
  {
   "cell_type": "code",
   "execution_count": 192,
   "metadata": {},
   "outputs": [
    {
     "data": {
      "text/html": [
       "<table class=\"simpletable\">\n",
       "<caption>ARMA Model Results</caption>\n",
       "<tr>\n",
       "  <th>Dep. Variable:</th>       <td>close</td>      <th>  No. Observations:  </th>    <td>734</td>  \n",
       "</tr>\n",
       "<tr>\n",
       "  <th>Model:</th>            <td>ARMA(4, 4)</td>    <th>  Log Likelihood     </th>  <td>218.564</td>\n",
       "</tr>\n",
       "<tr>\n",
       "  <th>Method:</th>             <td>css-mle</td>     <th>  S.D. of innovations</th>   <td>0.180</td> \n",
       "</tr>\n",
       "<tr>\n",
       "  <th>Date:</th>          <td>Mon, 04 Jan 2021</td> <th>  AIC                </th> <td>-417.129</td>\n",
       "</tr>\n",
       "<tr>\n",
       "  <th>Time:</th>              <td>23:17:33</td>     <th>  BIC                </th> <td>-371.144</td>\n",
       "</tr>\n",
       "<tr>\n",
       "  <th>Sample:</th>                <td>0</td>        <th>  HQIC               </th> <td>-399.392</td>\n",
       "</tr>\n",
       "<tr>\n",
       "  <th></th>                       <td> </td>        <th>                     </th>     <td> </td>   \n",
       "</tr>\n",
       "</table>\n",
       "<table class=\"simpletable\">\n",
       "<tr>\n",
       "       <td></td>          <th>coef</th>     <th>std err</th>      <th>z</th>      <th>P>|z|</th>  <th>[0.025</th>    <th>0.975]</th>  \n",
       "</tr>\n",
       "<tr>\n",
       "  <th>const</th>       <td>   -0.0148</td> <td>    0.008</td> <td>   -1.849</td> <td> 0.065</td> <td>   -0.031</td> <td>    0.001</td>\n",
       "</tr>\n",
       "<tr>\n",
       "  <th>ar.L1.close</th> <td>    1.0522</td> <td> 4.88e-05</td> <td> 2.16e+04</td> <td> 0.000</td> <td>    1.052</td> <td>    1.052</td>\n",
       "</tr>\n",
       "<tr>\n",
       "  <th>ar.L2.close</th> <td>   -0.6510</td> <td>    0.000</td> <td>-4342.666</td> <td> 0.000</td> <td>   -0.651</td> <td>   -0.651</td>\n",
       "</tr>\n",
       "<tr>\n",
       "  <th>ar.L3.close</th> <td>    1.1767</td> <td> 2.45e-06</td> <td>  4.8e+05</td> <td> 0.000</td> <td>    1.177</td> <td>    1.177</td>\n",
       "</tr>\n",
       "<tr>\n",
       "  <th>ar.L4.close</th> <td>   -0.8154</td> <td> 8.58e-05</td> <td>-9501.327</td> <td> 0.000</td> <td>   -0.816</td> <td>   -0.815</td>\n",
       "</tr>\n",
       "<tr>\n",
       "  <th>ma.L1.close</th> <td>   -1.0817</td> <td>    0.019</td> <td>  -58.208</td> <td> 0.000</td> <td>   -1.118</td> <td>   -1.045</td>\n",
       "</tr>\n",
       "<tr>\n",
       "  <th>ma.L2.close</th> <td>    0.6793</td> <td>    0.006</td> <td>  112.718</td> <td> 0.000</td> <td>    0.667</td> <td>    0.691</td>\n",
       "</tr>\n",
       "<tr>\n",
       "  <th>ma.L3.close</th> <td>   -1.1739</td> <td>    0.009</td> <td> -124.085</td> <td> 0.000</td> <td>   -1.192</td> <td>   -1.155</td>\n",
       "</tr>\n",
       "<tr>\n",
       "  <th>ma.L4.close</th> <td>    0.8632</td> <td>    0.016</td> <td>   54.891</td> <td> 0.000</td> <td>    0.832</td> <td>    0.894</td>\n",
       "</tr>\n",
       "</table>\n",
       "<table class=\"simpletable\">\n",
       "<caption>Roots</caption>\n",
       "<tr>\n",
       "    <td></td>   <th>            Real</th>  <th>         Imaginary</th> <th>         Modulus</th>  <th>        Frequency</th>\n",
       "</tr>\n",
       "<tr>\n",
       "  <th>AR.1</th> <td>          -0.3372</td> <td>          -0.9414j</td> <td>           1.0000</td> <td>          -0.3047</td>\n",
       "</tr>\n",
       "<tr>\n",
       "  <th>AR.2</th> <td>          -0.3372</td> <td>          +0.9414j</td> <td>           1.0000</td> <td>           0.3047</td>\n",
       "</tr>\n",
       "<tr>\n",
       "  <th>AR.3</th> <td>           1.0587</td> <td>          -0.3248j</td> <td>           1.1074</td> <td>          -0.0474</td>\n",
       "</tr>\n",
       "<tr>\n",
       "  <th>AR.4</th> <td>           1.0587</td> <td>          +0.3248j</td> <td>           1.1074</td> <td>           0.0474</td>\n",
       "</tr>\n",
       "<tr>\n",
       "  <th>MA.1</th> <td>          -0.3371</td> <td>          -0.9415j</td> <td>           1.0000</td> <td>          -0.3047</td>\n",
       "</tr>\n",
       "<tr>\n",
       "  <th>MA.2</th> <td>          -0.3371</td> <td>          +0.9415j</td> <td>           1.0000</td> <td>           0.3047</td>\n",
       "</tr>\n",
       "<tr>\n",
       "  <th>MA.3</th> <td>           1.0171</td> <td>          -0.3521j</td> <td>           1.0763</td> <td>          -0.0530</td>\n",
       "</tr>\n",
       "<tr>\n",
       "  <th>MA.4</th> <td>           1.0171</td> <td>          +0.3521j</td> <td>           1.0763</td> <td>           0.0530</td>\n",
       "</tr>\n",
       "</table>"
      ],
      "text/plain": [
       "<class 'statsmodels.iolib.summary.Summary'>\n",
       "\"\"\"\n",
       "                              ARMA Model Results                              \n",
       "==============================================================================\n",
       "Dep. Variable:                  close   No. Observations:                  734\n",
       "Model:                     ARMA(4, 4)   Log Likelihood                 218.564\n",
       "Method:                       css-mle   S.D. of innovations              0.180\n",
       "Date:                Mon, 04 Jan 2021   AIC                           -417.129\n",
       "Time:                        23:17:33   BIC                           -371.144\n",
       "Sample:                             0   HQIC                          -399.392\n",
       "                                                                              \n",
       "===============================================================================\n",
       "                  coef    std err          z      P>|z|      [0.025      0.975]\n",
       "-------------------------------------------------------------------------------\n",
       "const          -0.0148      0.008     -1.849      0.065      -0.031       0.001\n",
       "ar.L1.close     1.0522   4.88e-05   2.16e+04      0.000       1.052       1.052\n",
       "ar.L2.close    -0.6510      0.000  -4342.666      0.000      -0.651      -0.651\n",
       "ar.L3.close     1.1767   2.45e-06    4.8e+05      0.000       1.177       1.177\n",
       "ar.L4.close    -0.8154   8.58e-05  -9501.327      0.000      -0.816      -0.815\n",
       "ma.L1.close    -1.0817      0.019    -58.208      0.000      -1.118      -1.045\n",
       "ma.L2.close     0.6793      0.006    112.718      0.000       0.667       0.691\n",
       "ma.L3.close    -1.1739      0.009   -124.085      0.000      -1.192      -1.155\n",
       "ma.L4.close     0.8632      0.016     54.891      0.000       0.832       0.894\n",
       "                                    Roots                                    \n",
       "=============================================================================\n",
       "                  Real          Imaginary           Modulus         Frequency\n",
       "-----------------------------------------------------------------------------\n",
       "AR.1           -0.3372           -0.9414j            1.0000           -0.3047\n",
       "AR.2           -0.3372           +0.9414j            1.0000            0.3047\n",
       "AR.3            1.0587           -0.3248j            1.1074           -0.0474\n",
       "AR.4            1.0587           +0.3248j            1.1074            0.0474\n",
       "MA.1           -0.3371           -0.9415j            1.0000           -0.3047\n",
       "MA.2           -0.3371           +0.9415j            1.0000            0.3047\n",
       "MA.3            1.0171           -0.3521j            1.0763           -0.0530\n",
       "MA.4            1.0171           +0.3521j            1.0763            0.0530\n",
       "-----------------------------------------------------------------------------\n",
       "\"\"\""
      ]
     },
     "execution_count": 192,
     "metadata": {},
     "output_type": "execute_result"
    }
   ],
   "source": [
    "# Training the ARMA model on the training data\n",
    "mod_arma = ARMA(train, order = (4,4)) # how to decide on order again?\n",
    "res_arma = mod_arma.fit()\n",
    "res_arma.summary()"
   ]
  },
  {
   "cell_type": "code",
   "execution_count": 213,
   "metadata": {},
   "outputs": [],
   "source": [
    "# Forecasting with the trained model\n",
    "preds = res_arma.forecast(steps = 14)"
   ]
  },
  {
   "cell_type": "markdown",
   "metadata": {},
   "source": [
    "### Model Evalutation"
   ]
  },
  {
   "cell_type": "markdown",
   "metadata": {},
   "source": [
    "Below is a lineplot comparing the true prices with the predicted ones. "
   ]
  },
  {
   "cell_type": "code",
   "execution_count": 214,
   "metadata": {},
   "outputs": [
    {
     "data": {
      "text/plain": [
       "<matplotlib.legend.Legend at 0x1dc2fc83f40>"
      ]
     },
     "execution_count": 214,
     "metadata": {},
     "output_type": "execute_result"
    },
    {
     "data": {
      "image/png": "[encoded data removed]",
      "text/plain": [
       "<Figure size 432x288 with 1 Axes>"
      ]
     },
     "metadata": {
      "needs_background": "light"
     },
     "output_type": "display_data"
    }
   ],
   "source": [
    "plt.plot(range(0,14), preds[0], label = 'preds')\n",
    "plt.plot(range(0,14), test[:14], label = 'true')\n",
    "plt.legend()"
   ]
  },
  {
   "cell_type": "code",
   "execution_count": 215,
   "metadata": {},
   "outputs": [
    {
     "data": {
      "text/plain": [
       "0.18662607399567527"
      ]
     },
     "execution_count": 215,
     "metadata": {},
     "output_type": "execute_result"
    }
   ],
   "source": [
    "# Calculating RMSE of my forecasts\n",
    "rmse = np.sqrt(mean_squared_error(test[0:14].values, preds[0]))\n",
    "rmse"
   ]
  },
  {
   "cell_type": "markdown",
   "metadata": {},
   "source": [
    "A RMSE of .1866 means that the model's predictions differ from the actual differenced prices by $.1866 accross the 14 days; however, the model appears to be underfitting the data."
   ]
  },
  {
   "cell_type": "markdown",
   "metadata": {},
   "source": [
    "### Gridsearched ARMA"
   ]
  },
  {
   "cell_type": "markdown",
   "metadata": {},
   "source": [
    "After building my first simple ARMA model, I wanted to gridsearch the p and q parameters to find the combination that would produce the lowest RMSE for each capital markets stock. For each stock, I predict fourteen days after the end of the training data. I mainly use RMSE as my scoring parameter, as I feel this best captures the dollar difference between actual and predicted prices."
   ]
  },
  {
   "cell_type": "code",
   "execution_count": 48,
   "metadata": {},
   "outputs": [],
   "source": [
    "# Defining AR and MA order components\n",
    "p = range(0,5) # AR\n",
    "q = range(0,5) # MA"
   ]
  },
  {
   "cell_type": "code",
   "execution_count": 49,
   "metadata": {},
   "outputs": [],
   "source": [
    "# Creating every combination of p, d, and q parameters\n",
    "pq = itertools.product(p, q)\n",
    "\n",
    "# Converting from itertools product object to list\n",
    "pq = list(pq)"
   ]
  },
  {
   "cell_type": "code",
   "execution_count": 51,
   "metadata": {},
   "outputs": [
    {
     "data": {
      "text/plain": [
       "[['SFE',\n",
       "  [{'order': (4, 4), 'aic': -264.7011580465505, 'rmse': 0.18856737936549975},\n",
       "   {'order': (4, 4), 'aic': -264.7011580465505, 'rmse': 0.18856737936549975}]],\n",
       " ['SSSS',\n",
       "  [{'order': (4, 1), 'aic': 141.74483214724182, 'rmse': 0.338130014369284},\n",
       "   {'order': (2, 4), 'aic': 132.64291999091802, 'rmse': 0.3703264648148025}]],\n",
       " ['CGBD',\n",
       "  [{'order': (1, 1), 'aic': 101.93548060527019, 'rmse': 0.14291862342870668},\n",
       "   {'order': (4, 4), 'aic': 85.75743758995463, 'rmse': 0.15436297300266055}]],\n",
       " ['GAIN',\n",
       "  [{'order': (1, 1), 'aic': -192.6038387553981, 'rmse': 0.09885438219902602},\n",
       "   {'order': (4, 4), 'aic': -212.4087587285985, 'rmse': 0.1021107478775747}]],\n",
       " ['BCOR',\n",
       "  [{'order': (3, 3), 'aic': 1623.3891513896895, 'rmse': 0.26436447910736605},\n",
       "   {'order': (0, 0), 'aic': 1621.672382740645, 'rmse': 0.2822264834322718}]],\n",
       " ['CSWC',\n",
       "  [{'order': (0, 2), 'aic': 470.18032844258323, 'rmse': 0.1870682321745293},\n",
       "   {'order': (2, 2), 'aic': 447.8504604394336, 'rmse': 0.18793498624370705}]],\n",
       " ['WHF',\n",
       "  [{'order': (4, 0), 'aic': 294.33142773840177, 'rmse': 0.2699879663539423},\n",
       "   {'order': (4, 4), 'aic': 271.56397643894707, 'rmse': 0.2761495824585303}]],\n",
       " ['WETF',\n",
       "  [{'order': (3, 2), 'aic': -420.7887330740814, 'rmse': 0.2068101313497962},\n",
       "   {'order': (2, 2), 'aic': -422.7168240833462, 'rmse': 0.20892355463170864}]],\n",
       " ['BANX',\n",
       "  [{'order': (4, 4), 'aic': 704.5083375054662, 'rmse': 0.35529593768401196},\n",
       "   {'order': (4, 4), 'aic': 704.5083375054662, 'rmse': 0.35529593768401196}]]]"
      ]
     },
     "execution_count": 51,
     "metadata": {},
     "output_type": "execute_result"
    }
   ],
   "source": [
    "# Compiling a list of the best performing order parameters for each stock\n",
    "best_model_list = gridsearch_arma_multiple(cm_df_list, \n",
    "                                           orders_list = pq, \n",
    "                                           end_train_date = end_train_date, \n",
    "                                           end_test_date = end_test_date,\n",
    "                                           n_days = 14)\n",
    "best_model_list"
   ]
  },
  {
   "cell_type": "code",
   "execution_count": 52,
   "metadata": {},
   "outputs": [
    {
     "data": {
      "text/plain": [
       "0.2279996828924625"
      ]
     },
     "execution_count": 52,
     "metadata": {},
     "output_type": "execute_result"
    }
   ],
   "source": [
    "# Calculating mean RMSE accross all eight stocks\n",
    "mean_RMSE = np.mean([i[1][0]['rmse'] for i in best_model_list])\n",
    "mean_RMSE"
   ]
  },
  {
   "cell_type": "markdown",
   "metadata": {},
   "source": [
    "## SARIMA"
   ]
  },
  {
   "cell_type": "markdown",
   "metadata": {},
   "source": [
    "The next logical progression after the ARMA model was the SARIMA, which stands for Seasonal Autoregressive Integrated Moving Average. As opposed to removing trend and periodicity manually through differencing and similar strategies, the model removes these elements by itself."
   ]
  },
  {
   "cell_type": "code",
   "execution_count": null,
   "metadata": {},
   "outputs": [],
   "source": [
    "# SARIMA train/test split\n",
    "train = df_test[:end_train_date]\n",
    "test = df_test[end_train_date:end_test_date]"
   ]
  },
  {
   "cell_type": "code",
   "execution_count": 60,
   "metadata": {},
   "outputs": [],
   "source": [
    "# Instantiating SARIMA model\n",
    "sarima = SARIMAX(train,\n",
    "                order = (1, 1, 1),\n",
    "                seasonal_order = (1, 1, 1, 4),\n",
    "                enforce_stationarity = False,\n",
    "                enforce_invertibility = False\n",
    "               )\n",
    "\n",
    "# Fitting SARIMA to the training data\n",
    "fitted_sarima = sarima.fit()\n",
    "\n",
    "# Forecasting 14 days after training data\n",
    "sarima_preds = fitted_sarima.forecast(steps = 14)"
   ]
  },
  {
   "cell_type": "code",
   "execution_count": 61,
   "metadata": {},
   "outputs": [
    {
     "data": {
      "text/plain": [
       "<matplotlib.legend.Legend at 0x1dc942f7fd0>"
      ]
     },
     "execution_count": 61,
     "metadata": {},
     "output_type": "execute_result"
    },
    {
     "data": {
      "image/png": "[encoded data removed]",
      "text/plain": [
       "<Figure size 432x288 with 1 Axes>"
      ]
     },
     "metadata": {},
     "output_type": "display_data"
    }
   ],
   "source": [
    "plt.plot(range(0,14), sarima_preds, label = 'sarima preds')\n",
    "plt.plot(range(0,14), test[0:14], label = 'true')\n",
    "plt.legend()"
   ]
  },
  {
   "cell_type": "code",
   "execution_count": 45,
   "metadata": {},
   "outputs": [
    {
     "data": {
      "text/plain": [
       "0.5101237923678045"
      ]
     },
     "execution_count": 45,
     "metadata": {},
     "output_type": "execute_result"
    }
   ],
   "source": [
    "sarima_rmse = np.sqrt(mean_squared_error(test[0:14].values, sarima_preds))\n",
    "sarima_rmse"
   ]
  },
  {
   "cell_type": "markdown",
   "metadata": {},
   "source": [
    "A RMSE of 0.510 means the predictions differed from the real prices by an average of $0.510 accross the 14 days. Looking at the plot of true and predicted prices, one would observed significant underfitting in the SARIMA test model."
   ]
  },
  {
   "cell_type": "markdown",
   "metadata": {},
   "source": [
    "#### Gridsearched SARIMA"
   ]
  },
  {
   "cell_type": "markdown",
   "metadata": {},
   "source": [
    "As with my ARMA model, I wanted to gridsearch SARIMA parameters for each capital markets stock to optimize performance. In addition to the p and q parameters from ARMA, I now search for d, the 'Integrated' component, and s, the 'Seasonal' component."
   ]
  },
  {
   "cell_type": "code",
   "execution_count": 54,
   "metadata": {},
   "outputs": [],
   "source": [
    "# Defining AR, I, MA, and S order components\n",
    "p = range(0,2) # AR\n",
    "d = range(0,2) # I\n",
    "q = range(0,2) # MA\n",
    "s = range(12, 13) # S \n",
    "# remember 4 for s\n",
    "# try 3 for s"
   ]
  },
  {
   "cell_type": "code",
   "execution_count": 55,
   "metadata": {},
   "outputs": [],
   "source": [
    "# Creating every combination of p, d, and q parameters\n",
    "pdq = itertools.product(p, d, q)\n",
    "\n",
    "# Converting from itertools product object to list\n",
    "pdq = list(pdq)"
   ]
  },
  {
   "cell_type": "code",
   "execution_count": 56,
   "metadata": {},
   "outputs": [],
   "source": [
    "# Creating every combination of seasonal(s) p, d, and q parameters\n",
    "pdqs = itertools.product(p, d, q, s)\n",
    "\n",
    "# Converting from itertools product object to list\n",
    "pdqs = list(pdqs)"
   ]
  },
  {
   "cell_type": "code",
   "execution_count": 81,
   "metadata": {},
   "outputs": [
    {
     "data": {
      "text/plain": [
       "8"
      ]
     },
     "execution_count": 81,
     "metadata": {},
     "output_type": "execute_result"
    }
   ],
   "source": [
    "len(pdq)"
   ]
  },
  {
   "cell_type": "code",
   "execution_count": 82,
   "metadata": {},
   "outputs": [
    {
     "data": {
      "text/plain": [
       "8"
      ]
     },
     "execution_count": 82,
     "metadata": {},
     "output_type": "execute_result"
    }
   ],
   "source": [
    "len(pdqs)"
   ]
  },
  {
   "cell_type": "code",
   "execution_count": 52,
   "metadata": {},
   "outputs": [
    {
     "data": {
      "text/plain": [
       "64"
      ]
     },
     "execution_count": 52,
     "metadata": {},
     "output_type": "execute_result"
    }
   ],
   "source": [
    "num_iterations = len(pdq)*len(pdqs)\n",
    "num_iterations"
   ]
  },
  {
   "cell_type": "code",
   "execution_count": 83,
   "metadata": {},
   "outputs": [
    {
     "data": {
      "text/plain": [
       "[{'order': (1, 1, 1),\n",
       "  'seasonal_order': (0, 0, 1, 12),\n",
       "  'aic': -229.89053559080963,\n",
       "  'rmse': 0.19138906913320622},\n",
       " {'order': (0, 0, 0),\n",
       "  'seasonal_order': (0, 0, 0, 12),\n",
       "  'aic': -250.54664370575057,\n",
       "  'rmse': 0.192669220612501}]"
      ]
     },
     "execution_count": 83,
     "metadata": {},
     "output_type": "execute_result"
    }
   ],
   "source": [
    "# Calculate all models(gridsearch)\n",
    "sarima_results, sarima_fails = gridsearch_sarima(pdq, pdqs, train, test, n_days = 14)\n",
    "\n",
    "# Identify best models based on RMSE and AIC, respectively\n",
    "get_best_time_series(sarima_results)"
   ]
  },
  {
   "cell_type": "code",
   "execution_count": 57,
   "metadata": {},
   "outputs": [
    {
     "data": {
      "text/plain": [
       "[['SFE',\n",
       "  [{'order': (1, 1, 0),\n",
       "    'seasonal_order': (0, 1, 0, 12),\n",
       "    'aic': 238.20954735412877,\n",
       "    'rmse': 0.36353690906873903},\n",
       "   {'order': (0, 1, 0),\n",
       "    'seasonal_order': (0, 0, 0, 12),\n",
       "    'aic': -250.5466438515681,\n",
       "    'rmse': 0.43519289647564013}]],\n",
       " ['SSSS',\n",
       "  [{'order': (1, 0, 1),\n",
       "    'seasonal_order': (1, 1, 0, 12),\n",
       "    'aic': 447.1091966447708,\n",
       "    'rmse': 0.339333942519705},\n",
       "   {'order': (0, 1, 0),\n",
       "    'seasonal_order': (0, 0, 0, 12),\n",
       "    'aic': 140.05361135263976,\n",
       "    'rmse': 0.5015262420138863}]],\n",
       " ['CGBD',\n",
       "  [{'order': (1, 1, 0),\n",
       "    'seasonal_order': (0, 1, 1, 12),\n",
       "    'aic': 154.82572140679758,\n",
       "    'rmse': 0.1693926393498829},\n",
       "   {'order': (1, 1, 1),\n",
       "    'seasonal_order': (0, 0, 0, 12),\n",
       "    'aic': 102.65656437804276,\n",
       "    'rmse': 0.2588906887526319}]],\n",
       " ['GAIN',\n",
       "  [{'order': (1, 0, 1),\n",
       "    'seasonal_order': (1, 1, 1, 12),\n",
       "    'aic': -167.04962885915705,\n",
       "    'rmse': 0.1293157484162556},\n",
       "   {'order': (0, 1, 0),\n",
       "    'seasonal_order': (1, 0, 0, 12),\n",
       "    'aic': -221.48808816345036,\n",
       "    'rmse': 0.15974477821727145}]],\n",
       " ['BCOR',\n",
       "  [{'order': (1, 0, 0),\n",
       "    'seasonal_order': (0, 1, 1, 12),\n",
       "    'aic': 1618.8119264315078,\n",
       "    'rmse': 0.317503485164025},\n",
       "   {'order': (0, 1, 0),\n",
       "    'seasonal_order': (0, 0, 1, 12),\n",
       "    'aic': 1601.1016393339646,\n",
       "    'rmse': 0.3524812293159506}]],\n",
       " ['CSWC',\n",
       "  [{'order': (1, 0, 1),\n",
       "    'seasonal_order': (0, 0, 0, 12),\n",
       "    'aic': 479.83387001006815,\n",
       "    'rmse': 0.28227142755987794},\n",
       "   {'order': (1, 1, 1),\n",
       "    'seasonal_order': (0, 0, 1, 12),\n",
       "    'aic': 463.04155892689744,\n",
       "    'rmse': 0.3475604364612104}]],\n",
       " ['WHF',\n",
       "  [{'order': (1, 0, 0),\n",
       "    'seasonal_order': (1, 1, 0, 12),\n",
       "    'aic': 577.5778594909639,\n",
       "    'rmse': 0.31007305502381727},\n",
       "   {'order': (1, 1, 1),\n",
       "    'seasonal_order': (0, 0, 0, 12),\n",
       "    'aic': 309.28106098577564,\n",
       "    'rmse': 0.4112175305140988}]],\n",
       " ['WETF',\n",
       "  [{'order': (1, 1, 0),\n",
       "    'seasonal_order': (0, 1, 0, 12),\n",
       "    'aic': 78.93465434088466,\n",
       "    'rmse': 0.23229248906635383},\n",
       "   {'order': (1, 0, 1),\n",
       "    'seasonal_order': (1, 0, 1, 12),\n",
       "    'aic': -464.5900101411389,\n",
       "    'rmse': 0.7099001632907488}]],\n",
       " ['BANX',\n",
       "  [{'order': (0, 1, 0),\n",
       "    'seasonal_order': (0, 1, 0, 12),\n",
       "    'aic': 1182.7862122083786,\n",
       "    'rmse': 0.5269587724663343},\n",
       "   {'order': (0, 1, 1),\n",
       "    'seasonal_order': (0, 0, 1, 12),\n",
       "    'aic': 717.6903865646259,\n",
       "    'rmse': 0.9735744862867869}]]]"
      ]
     },
     "execution_count": 57,
     "metadata": {},
     "output_type": "execute_result"
    }
   ],
   "source": [
    "# Compiling a list of the best performing order parameters for each stock\n",
    "best_sarima_list = gridsearch_sarima_multiple(cm_df_list,\n",
    "                                              pdq,\n",
    "                                              pdqs, \n",
    "                                              end_train_date = end_train_date,\n",
    "                                              end_test_date = end_test_date,\n",
    "                                              n_days = 14)\n",
    "best_sarima_list"
   ]
  },
  {
   "cell_type": "code",
   "execution_count": 58,
   "metadata": {},
   "outputs": [
    {
     "data": {
      "text/plain": [
       "0.29674205207055454"
      ]
     },
     "execution_count": 58,
     "metadata": {},
     "output_type": "execute_result"
    }
   ],
   "source": [
    "# Calculating mean RMSE accross all eight stocks\n",
    "mean_RMSE = np.mean([i[1][0]['rmse'] for i in best_sarima_list])\n",
    "mean_RMSE"
   ]
  },
  {
   "cell_type": "markdown",
   "metadata": {},
   "source": [
    "## SARIMAX"
   ]
  },
  {
   "cell_type": "markdown",
   "metadata": {},
   "source": [
    "After detrending with SARIMA, I finally add exogenous regressors, which are additional features in addition to the time series element (the endogenous regressor). I use only the 10, 50, and 200 day moving averages, as these are the only additional features that add information."
   ]
  },
  {
   "cell_type": "markdown",
   "metadata": {},
   "source": [
    "In the steps below, I separate the test dataframe into sets of both the endogenous and exogenous regressors."
   ]
  },
  {
   "cell_type": "code",
   "execution_count": 59,
   "metadata": {},
   "outputs": [],
   "source": [
    "# Declaring columns to use as exogenous regressors\n",
    "predictors = ['10_day_ma', '50_day_ma', '200_day_ma']"
   ]
  },
  {
   "cell_type": "code",
   "execution_count": null,
   "metadata": {},
   "outputs": [],
   "source": [
    "# Selecting a testing dataframe from the list of dfs\n",
    "sarimax_df = df_list[0]"
   ]
  },
  {
   "cell_type": "code",
   "execution_count": null,
   "metadata": {},
   "outputs": [],
   "source": [
    "# Creating df of endogenous regressors\n",
    "sarimax_endog = sarimax_df['close']\n",
    "\n",
    "# Creating df of exogenous regressors\n",
    "sarimax_exog = sarimax_df[predictors]"
   ]
  },
  {
   "cell_type": "code",
   "execution_count": null,
   "metadata": {},
   "outputs": [],
   "source": [
    "# Endogenous regressors train/test split\n",
    "endog_train = sarimax_endog[:end_train_date]\n",
    "endog_test = sarimax_endog[end_train_date:end_test_date]"
   ]
  },
  {
   "cell_type": "code",
   "execution_count": 85,
   "metadata": {},
   "outputs": [
    {
     "data": {
      "text/plain": [
       "datetime\n",
       "2020-12-01 06:00:00    12.29\n",
       "2020-12-02 06:00:00    12.41\n",
       "2020-12-03 06:00:00    13.16\n",
       "2020-12-04 06:00:00    13.10\n",
       "2020-12-07 06:00:00    12.91\n",
       "2020-12-08 06:00:00    13.08\n",
       "2020-12-09 06:00:00    13.04\n",
       "2020-12-10 06:00:00    12.64\n",
       "2020-12-11 06:00:00    12.42\n",
       "2020-12-14 06:00:00    12.33\n",
       "2020-12-15 06:00:00    12.62\n",
       "2020-12-16 06:00:00    12.52\n",
       "2020-12-17 06:00:00    12.07\n",
       "2020-12-18 06:00:00    11.95\n",
       "Name: close, dtype: float64"
      ]
     },
     "execution_count": 85,
     "metadata": {},
     "output_type": "execute_result"
    }
   ],
   "source": [
    "endog_test"
   ]
  },
  {
   "cell_type": "code",
   "execution_count": 86,
   "metadata": {},
   "outputs": [],
   "source": [
    "# Exogenous regressors train/test split\n",
    "exog_train = sarimax_exog[:end_train_date]\n",
    "exog_test = sarimax_exog[end_train_date:end_test_date]"
   ]
  },
  {
   "cell_type": "code",
   "execution_count": 87,
   "metadata": {},
   "outputs": [
    {
     "data": {
      "text/html": [
       "<div>\n",
       "<style scoped>\n",
       "    .dataframe tbody tr th:only-of-type {\n",
       "        vertical-align: middle;\n",
       "    }\n",
       "\n",
       "    .dataframe tbody tr th {\n",
       "        vertical-align: top;\n",
       "    }\n",
       "\n",
       "    .dataframe thead th {\n",
       "        text-align: right;\n",
       "    }\n",
       "</style>\n",
       "<table border=\"1\" class=\"dataframe\">\n",
       "  <thead>\n",
       "    <tr style=\"text-align: right;\">\n",
       "      <th></th>\n",
       "      <th>10_day_ma</th>\n",
       "      <th>50_day_ma</th>\n",
       "      <th>200_day_ma</th>\n",
       "    </tr>\n",
       "    <tr>\n",
       "      <th>datetime</th>\n",
       "      <th></th>\n",
       "      <th></th>\n",
       "      <th></th>\n",
       "    </tr>\n",
       "  </thead>\n",
       "  <tbody>\n",
       "    <tr>\n",
       "      <th>2020-12-01 06:00:00</th>\n",
       "      <td>11.699897</td>\n",
       "      <td>10.507616</td>\n",
       "      <td>9.388734</td>\n",
       "    </tr>\n",
       "    <tr>\n",
       "      <th>2020-12-02 06:00:00</th>\n",
       "      <td>11.829007</td>\n",
       "      <td>10.582220</td>\n",
       "      <td>9.418815</td>\n",
       "    </tr>\n",
       "    <tr>\n",
       "      <th>2020-12-03 06:00:00</th>\n",
       "      <td>12.071006</td>\n",
       "      <td>10.683309</td>\n",
       "      <td>9.456064</td>\n",
       "    </tr>\n",
       "    <tr>\n",
       "      <th>2020-12-04 06:00:00</th>\n",
       "      <td>12.258095</td>\n",
       "      <td>10.778081</td>\n",
       "      <td>9.492345</td>\n",
       "    </tr>\n",
       "    <tr>\n",
       "      <th>2020-12-07 06:00:00</th>\n",
       "      <td>12.376624</td>\n",
       "      <td>10.861686</td>\n",
       "      <td>9.526373</td>\n",
       "    </tr>\n",
       "    <tr>\n",
       "      <th>2020-12-08 06:00:00</th>\n",
       "      <td>12.504510</td>\n",
       "      <td>10.948679</td>\n",
       "      <td>9.561754</td>\n",
       "    </tr>\n",
       "    <tr>\n",
       "      <th>2020-12-09 06:00:00</th>\n",
       "      <td>12.601872</td>\n",
       "      <td>11.030691</td>\n",
       "      <td>9.596384</td>\n",
       "    </tr>\n",
       "    <tr>\n",
       "      <th>2020-12-10 06:00:00</th>\n",
       "      <td>12.608804</td>\n",
       "      <td>11.093801</td>\n",
       "      <td>9.626687</td>\n",
       "    </tr>\n",
       "    <tr>\n",
       "      <th>2020-12-11 06:00:00</th>\n",
       "      <td>12.574476</td>\n",
       "      <td>11.145809</td>\n",
       "      <td>9.654498</td>\n",
       "    </tr>\n",
       "    <tr>\n",
       "      <th>2020-12-14 06:00:00</th>\n",
       "      <td>12.530026</td>\n",
       "      <td>11.192248</td>\n",
       "      <td>9.681135</td>\n",
       "    </tr>\n",
       "    <tr>\n",
       "      <th>2020-12-15 06:00:00</th>\n",
       "      <td>12.546385</td>\n",
       "      <td>11.248238</td>\n",
       "      <td>9.710395</td>\n",
       "    </tr>\n",
       "    <tr>\n",
       "      <th>2020-12-16 06:00:00</th>\n",
       "      <td>12.541588</td>\n",
       "      <td>11.298111</td>\n",
       "      <td>9.738367</td>\n",
       "    </tr>\n",
       "    <tr>\n",
       "      <th>2020-12-17 06:00:00</th>\n",
       "      <td>12.455844</td>\n",
       "      <td>11.328381</td>\n",
       "      <td>9.761581</td>\n",
       "    </tr>\n",
       "    <tr>\n",
       "      <th>2020-12-18 06:00:00</th>\n",
       "      <td>12.363873</td>\n",
       "      <td>11.352759</td>\n",
       "      <td>9.783368</td>\n",
       "    </tr>\n",
       "  </tbody>\n",
       "</table>\n",
       "</div>"
      ],
      "text/plain": [
       "                     10_day_ma  50_day_ma  200_day_ma\n",
       "datetime                                             \n",
       "2020-12-01 06:00:00  11.699897  10.507616    9.388734\n",
       "2020-12-02 06:00:00  11.829007  10.582220    9.418815\n",
       "2020-12-03 06:00:00  12.071006  10.683309    9.456064\n",
       "2020-12-04 06:00:00  12.258095  10.778081    9.492345\n",
       "2020-12-07 06:00:00  12.376624  10.861686    9.526373\n",
       "2020-12-08 06:00:00  12.504510  10.948679    9.561754\n",
       "2020-12-09 06:00:00  12.601872  11.030691    9.596384\n",
       "2020-12-10 06:00:00  12.608804  11.093801    9.626687\n",
       "2020-12-11 06:00:00  12.574476  11.145809    9.654498\n",
       "2020-12-14 06:00:00  12.530026  11.192248    9.681135\n",
       "2020-12-15 06:00:00  12.546385  11.248238    9.710395\n",
       "2020-12-16 06:00:00  12.541588  11.298111    9.738367\n",
       "2020-12-17 06:00:00  12.455844  11.328381    9.761581\n",
       "2020-12-18 06:00:00  12.363873  11.352759    9.783368"
      ]
     },
     "execution_count": 87,
     "metadata": {},
     "output_type": "execute_result"
    }
   ],
   "source": [
    "exog_test"
   ]
  },
  {
   "cell_type": "markdown",
   "metadata": {},
   "source": [
    "### Test Model"
   ]
  },
  {
   "cell_type": "code",
   "execution_count": 88,
   "metadata": {},
   "outputs": [],
   "source": [
    "# Instantiating SARIMA model\n",
    "sarimax = SARIMAX(endog = endog_train,\n",
    "                  exog = exog_train,\n",
    "                  order = (1, 1, 1),\n",
    "                  seasonal_order = (1, 1, 1, 12),\n",
    "                  enforce_stationarity = False,\n",
    "                  enforce_invertibility = False\n",
    "               )\n",
    "\n",
    "# Fitting SARIMAX to the training data\n",
    "fitted_sarimax = sarimax.fit()\n",
    "\n",
    "# Forecasting 14 days after training data\n",
    "sarimax_preds = fitted_sarimax.forecast(steps = 14, exog = exog_test)"
   ]
  },
  {
   "cell_type": "code",
   "execution_count": 89,
   "metadata": {},
   "outputs": [
    {
     "data": {
      "text/plain": [
       "<matplotlib.legend.Legend at 0x1dc2a7aa9a0>"
      ]
     },
     "execution_count": 89,
     "metadata": {},
     "output_type": "execute_result"
    },
    {
     "data": {
      "image/png": "[encoded data removed]",
      "text/plain": [
       "<Figure size 432x288 with 1 Axes>"
      ]
     },
     "metadata": {
      "needs_background": "light"
     },
     "output_type": "display_data"
    }
   ],
   "source": [
    "plt.plot(range(0,14), sarimax_preds, label = 'sarimax preds')\n",
    "plt.plot(range(0,14), endog_test[:14], label = 'true')\n",
    "plt.legend()"
   ]
  },
  {
   "cell_type": "code",
   "execution_count": 90,
   "metadata": {},
   "outputs": [
    {
     "data": {
      "text/plain": [
       "0.6346610300741182"
      ]
     },
     "execution_count": 90,
     "metadata": {},
     "output_type": "execute_result"
    }
   ],
   "source": [
    "sarimax_rmse = np.sqrt(mean_squared_error(endog_test[:14].values, sarimax_preds))\n",
    "sarimax_rmse"
   ]
  },
  {
   "cell_type": "markdown",
   "metadata": {},
   "source": [
    "While the performance on the test stock is the worst of the three models (0.635 RMSE), the above plot of the predictions versus true prices shows the model is underfitting much less than it was for the SARIMA and ARMA models."
   ]
  },
  {
   "cell_type": "markdown",
   "metadata": {},
   "source": [
    "### Gridsearched SARIMAX"
   ]
  },
  {
   "cell_type": "code",
   "execution_count": 65,
   "metadata": {},
   "outputs": [],
   "source": [
    "# Defining AR, I, MA, and S order components\n",
    "p = range(0,2) # AR\n",
    "d = range(0,2) # I\n",
    "q = range(0,2) # MA\n",
    "s = range(12,13) # S\n",
    "# remember 4 for s\n",
    "# try 3 for s"
   ]
  },
  {
   "cell_type": "code",
   "execution_count": 66,
   "metadata": {},
   "outputs": [],
   "source": [
    "# Creating every combination of p, d, and q parameters\n",
    "pdq = itertools.product(p, d, q)\n",
    "\n",
    "# Converting from itertools product object to list\n",
    "pdq = list(pdq)"
   ]
  },
  {
   "cell_type": "code",
   "execution_count": 67,
   "metadata": {},
   "outputs": [],
   "source": [
    "# Creating every combination of seasonal(s) p, d, and q parameters\n",
    "pdqs = itertools.product(p, d, q, s)\n",
    "\n",
    "# Converting from itertools product object to list\n",
    "pdqs = list(pdqs)"
   ]
  },
  {
   "cell_type": "code",
   "execution_count": 80,
   "metadata": {},
   "outputs": [
    {
     "data": {
      "text/plain": [
       "8"
      ]
     },
     "execution_count": 80,
     "metadata": {},
     "output_type": "execute_result"
    }
   ],
   "source": [
    "len(pdq)"
   ]
  },
  {
   "cell_type": "code",
   "execution_count": 81,
   "metadata": {},
   "outputs": [
    {
     "data": {
      "text/plain": [
       "8"
      ]
     },
     "execution_count": 81,
     "metadata": {},
     "output_type": "execute_result"
    }
   ],
   "source": [
    "len(pdqs)"
   ]
  },
  {
   "cell_type": "code",
   "execution_count": 82,
   "metadata": {},
   "outputs": [
    {
     "data": {
      "text/plain": [
       "64"
      ]
     },
     "execution_count": 82,
     "metadata": {},
     "output_type": "execute_result"
    }
   ],
   "source": [
    "num_iterations = len(pdq)*len(pdqs)\n",
    "num_iterations"
   ]
  },
  {
   "cell_type": "code",
   "execution_count": 69,
   "metadata": {},
   "outputs": [],
   "source": [
    "best_sarimax_list = gridsearch_sarimax_multiple(cm_df_list, \n",
    "                                                pdq, \n",
    "                                                pdqs,\n",
    "                                                end_train_date = end_train_date,\n",
    "                                                end_test_date = end_test_date,\n",
    "                                                exog_vars = ['10_day_ma', '50_day_ma', '200_day_ma'])"
   ]
  },
  {
   "cell_type": "code",
   "execution_count": 70,
   "metadata": {},
   "outputs": [
    {
     "data": {
      "text/plain": [
       "[['SFE',\n",
       "  [{'order': (0, 1, 0),\n",
       "    'seasonal_order': (1, 1, 1, 12),\n",
       "    'aic': -545.6651455213502,\n",
       "    'rmse': 0.15740526039060102},\n",
       "   {'order': (1, 0, 0),\n",
       "    'seasonal_order': (0, 0, 0, 12),\n",
       "    'aic': -610.8989800622433,\n",
       "    'rmse': 0.3224906206027759}]],\n",
       " ['SSSS',\n",
       "  [{'order': (0, 1, 0),\n",
       "    'seasonal_order': (1, 0, 0, 12),\n",
       "    'aic': -207.73002876285145,\n",
       "    'rmse': 0.2224975819131915},\n",
       "   {'order': (1, 0, 0),\n",
       "    'seasonal_order': (0, 0, 0, 12),\n",
       "    'aic': -223.1122034329129,\n",
       "    'rmse': 0.31355460927551204}]],\n",
       " ['CGBD',\n",
       "  [{'order': (1, 0, 0),\n",
       "    'seasonal_order': (0, 1, 1, 12),\n",
       "    'aic': -211.40656657894715,\n",
       "    'rmse': 0.14678626224369984},\n",
       "   {'order': (1, 1, 0),\n",
       "    'seasonal_order': (0, 0, 0, 12),\n",
       "    'aic': -264.01244543664535,\n",
       "    'rmse': 0.3293270908224408}]],\n",
       " ['GAIN',\n",
       "  [{'order': (0, 0, 0),\n",
       "    'seasonal_order': (0, 1, 0, 12),\n",
       "    'aic': 581.7748040834222,\n",
       "    'rmse': 0.12647008705719992},\n",
       "   {'order': (1, 0, 0),\n",
       "    'seasonal_order': (1, 0, 0, 12),\n",
       "    'aic': -580.675977513761,\n",
       "    'rmse': 0.23177991515636917}]],\n",
       " ['BCOR',\n",
       "  [{'order': (0, 0, 1),\n",
       "    'seasonal_order': (0, 1, 1, 12),\n",
       "    'aic': 1542.6785290265718,\n",
       "    'rmse': 0.28769441118005135},\n",
       "   {'order': (0, 1, 1),\n",
       "    'seasonal_order': (0, 0, 1, 12),\n",
       "    'aic': 1249.6523932862674,\n",
       "    'rmse': 1.306069455043003}]],\n",
       " ['CSWC',\n",
       "  [{'order': (1, 0, 0),\n",
       "    'seasonal_order': (1, 1, 1, 12),\n",
       "    'aic': 170.85454242207848,\n",
       "    'rmse': 0.2307581924562072},\n",
       "   {'order': (1, 1, 1),\n",
       "    'seasonal_order': (0, 0, 0, 12),\n",
       "    'aic': 104.9635238936551,\n",
       "    'rmse': 1.5916491047966201}]],\n",
       " ['WHF',\n",
       "  [{'order': (1, 0, 0),\n",
       "    'seasonal_order': (1, 1, 1, 12),\n",
       "    'aic': -1.9868865803966003,\n",
       "    'rmse': 0.20649379545549032},\n",
       "   {'order': (1, 1, 1),\n",
       "    'seasonal_order': (0, 0, 0, 12),\n",
       "    'aic': -60.33857206914786,\n",
       "    'rmse': 0.9551394223614394}]],\n",
       " ['WETF',\n",
       "  [{'order': (1, 1, 0),\n",
       "    'seasonal_order': (0, 1, 0, 12),\n",
       "    'aic': -309.0442745069546,\n",
       "    'rmse': 0.14562028112000533},\n",
       "   {'order': (0, 1, 1),\n",
       "    'seasonal_order': (1, 0, 1, 12),\n",
       "    'aic': -816.104618044813,\n",
       "    'rmse': 0.20751215830022435}]],\n",
       " ['BANX',\n",
       "  [{'order': (0, 1, 1),\n",
       "    'seasonal_order': (1, 1, 1, 12),\n",
       "    'aic': 403.87884020533136,\n",
       "    'rmse': 0.24391050909087564},\n",
       "   {'order': (1, 0, 0),\n",
       "    'seasonal_order': (0, 0, 0, 12),\n",
       "    'aic': 362.6749695672481,\n",
       "    'rmse': 0.29933589946512296}]]]"
      ]
     },
     "execution_count": 70,
     "metadata": {},
     "output_type": "execute_result"
    }
   ],
   "source": [
    "best_sarimax_list"
   ]
  },
  {
   "cell_type": "code",
   "execution_count": 71,
   "metadata": {},
   "outputs": [
    {
     "data": {
      "text/plain": [
       "0.1964040423230358"
      ]
     },
     "execution_count": 71,
     "metadata": {},
     "output_type": "execute_result"
    }
   ],
   "source": [
    "# Calculating mean RMSE accross all eight stocks\n",
    "mean_RMSE = np.mean([i[1][0]['rmse'] for i in best_sarimax_list])\n",
    "mean_RMSE"
   ]
  },
  {
   "cell_type": "markdown",
   "metadata": {},
   "source": [
    "While the test model performed the worst of the three, the SARIMAX model has performed the best on average accross all stocks in the capital markets sample with an average RMSE of 0.196."
   ]
  },
  {
   "cell_type": "markdown",
   "metadata": {},
   "source": [
    "## LSTM RNN"
   ]
  },
  {
   "cell_type": "markdown",
   "metadata": {},
   "source": [
    "Next I wanted to try a neural network. A vanilla recurrent neural network is not optimal for this application as it is unable to retain substantial information from early in the time series. As a result, I use layers made up of Long-Short Term Memory cells, as they have less information loss due to the configuration of their cells. Each cell has three activation functions, each controlling a different aspect of the cell's memory, whereas traditional RNN cells only have one.\n",
    "\n",
    "In testing different model hyperparameter and architecture configurations, I split my experimental data into a training and a test set. The test set contains data from the most recent 14 days. The training set is split into numerous input and output sets, which together form a 3D tensor to be fed into the first LSTM layer. The splitting follows this format: given a sequence [1, 2, 3, 4, 5, 6, 7], the split sequence is: <br>\n",
    "<br>\n",
    "<center> Input - $\\begin{bmatrix} 1 & 2 & 3 \\\\ 2 & 3 & 4 \\\\ 3 & 4 & 5 \\end{bmatrix}$  Output - $\\begin{bmatrix} 4 & 5 \\\\ 5 & 6 \\\\ 6 & 7 \\end{bmatrix}$, with each row being an input-output pair. </center>\n",
    "\n",
    "In tuning hyperparameters, I consult the model's bias/variance as shown by the relationship between the training and testing RMSE. The function I used to split the training data was taken from [here](https://machinelearningmastery.com/how-to-develop-lstm-models-for-time-series-forecasting/)."
   ]
  },
  {
   "cell_type": "markdown",
   "metadata": {},
   "source": [
    "### Test Models"
   ]
  },
  {
   "cell_type": "code",
   "execution_count": 32,
   "metadata": {},
   "outputs": [],
   "source": [
    "# Instantiate a dataframe for testing\n",
    "df_test = cm_df_list[0]\n",
    "\n",
    "# Remove exogenous regressors\n",
    "df_test = df_test['close']\n",
    "\n",
    "# Endogenous regressors train/test split\n",
    "rnn_train = df_test[:end_train_date]\n",
    "rnn_test = df_test[end_train_date:end_test_date]"
   ]
  },
  {
   "cell_type": "code",
   "execution_count": 33,
   "metadata": {},
   "outputs": [
    {
     "data": {
      "text/plain": [
       "(719,)"
      ]
     },
     "execution_count": 33,
     "metadata": {},
     "output_type": "execute_result"
    }
   ],
   "source": [
    "rnn_train.shape"
   ]
  },
  {
   "cell_type": "code",
   "execution_count": 34,
   "metadata": {},
   "outputs": [
    {
     "data": {
      "text/plain": [
       "(14,)"
      ]
     },
     "execution_count": 34,
     "metadata": {},
     "output_type": "execute_result"
    }
   ],
   "source": [
    "rnn_test.shape"
   ]
  },
  {
   "cell_type": "code",
   "execution_count": 110,
   "metadata": {},
   "outputs": [],
   "source": [
    "# Setting raw input sequence\n",
    "raw_seq = rnn_train.values\n",
    "\n",
    "# Setting number of input and output/forecast steps\n",
    "# 'From the past 365 trading days, predict the next 14'\n",
    "n_steps_in, n_steps_out = 100, 14\n",
    "\n",
    "# Splitting the sequence\n",
    "X, y = split_sequence(raw_seq, n_steps_in, n_steps_out)\n",
    "\n",
    "# Number of features is one because time series is univariate\n",
    "n_features = 1\n",
    "\n",
    "# Reshape from (samples, timesteps) into (samples, timesteps, features)\n",
    "X = X.reshape(X.shape[0], X.shape[1], n_features)"
   ]
  },
  {
   "cell_type": "code",
   "execution_count": 111,
   "metadata": {},
   "outputs": [],
   "source": [
    "# Define model architecture\n",
    "model = Sequential()\n",
    "model.add(LSTM(100, input_shape = (n_steps_in, n_features)))\n",
    "model.add(Dense(n_steps_out))\n",
    "model.compile(optimizer = 'adam', loss = 'mse')"
   ]
  },
  {
   "cell_type": "code",
   "execution_count": 112,
   "metadata": {},
   "outputs": [
    {
     "data": {
      "text/plain": [
       "<tensorflow.python.keras.callbacks.History at 0x25a08c7e2b0>"
      ]
     },
     "execution_count": 112,
     "metadata": {},
     "output_type": "execute_result"
    }
   ],
   "source": [
    "# Fit the model\n",
    "model.fit(X, y, epochs = 200, verbose = False, shuffle = False)"
   ]
  },
  {
   "cell_type": "code",
   "execution_count": 113,
   "metadata": {},
   "outputs": [],
   "source": [
    "# Set train evaluation input and outputs\n",
    "X_train = rnn_train.values[-(n_steps_in+n_steps_out):-n_steps_out]\n",
    "y_train = rnn_train.values[-n_steps_out:]\n",
    "\n",
    "# Reshape input\n",
    "X_train = X_train.reshape(1, n_steps_in, n_features)\n",
    "\n",
    "# Set test evaluation input and outputs\n",
    "X_test = rnn_train.values[-n_steps_in:]\n",
    "y_test = rnn_test.values\n",
    "\n",
    "# Reshape input \n",
    "X_test = X_test.reshape(1, n_steps_in, n_features)"
   ]
  },
  {
   "cell_type": "code",
   "execution_count": 114,
   "metadata": {},
   "outputs": [
    {
     "name": "stdout",
     "output_type": "stream",
     "text": [
      "WARNING:tensorflow:6 out of the last 11 calls to <function Model.make_predict_function.<locals>.predict_function at 0x0000025A09897700> triggered tf.function retracing. Tracing is expensive and the excessive number of tracings could be due to (1) creating @tf.function repeatedly in a loop, (2) passing tensors with different shapes, (3) passing Python objects instead of tensors. For (1), please define your @tf.function outside of the loop. For (2), @tf.function has experimental_relax_shapes=True option that relaxes argument shapes that can avoid unnecessary retracing. For (3), please refer to https://www.tensorflow.org/tutorials/customization/performance#python_or_tensor_args and https://www.tensorflow.org/api_docs/python/tf/function for  more details.\n"
     ]
    }
   ],
   "source": [
    "# Predicting on train and test sets\n",
    "y_pred_train = model.predict(X_train, verbose = False)[0]\n",
    "y_pred_test = model.predict(X_test, verbose = False)[0]\n",
    "# [0] is to access nested array"
   ]
  },
  {
   "cell_type": "code",
   "execution_count": 115,
   "metadata": {},
   "outputs": [],
   "source": [
    "# Calculate RMSE for train and test predictions\n",
    "train_rmse = np.sqrt(mean_squared_error(y_train, y_pred_train))\n",
    "test_rmse = np.sqrt(mean_squared_error(y_test, y_pred_test))"
   ]
  },
  {
   "cell_type": "code",
   "execution_count": 116,
   "metadata": {},
   "outputs": [
    {
     "name": "stdout",
     "output_type": "stream",
     "text": [
      "Train: 0.18668411251391234 Test: 0.5322122784648595\n"
     ]
    }
   ],
   "source": [
    "print('Train:', train_rmse, 'Test:', test_rmse)"
   ]
  },
  {
   "cell_type": "code",
   "execution_count": 117,
   "metadata": {},
   "outputs": [
    {
     "data": {
      "text/plain": [
       "[<matplotlib.lines.Line2D at 0x25a0bd41f70>]"
      ]
     },
     "execution_count": 117,
     "metadata": {},
     "output_type": "execute_result"
    },
    {
     "data": {
      "image/png": "[encoded data removed]",
      "text/plain": [
       "<Figure size 432x288 with 1 Axes>"
      ]
     },
     "metadata": {},
     "output_type": "display_data"
    }
   ],
   "source": [
    "# Define loss variable for plotting\n",
    "loss = history.history['loss']\n",
    "\n",
    "# Plot loss\n",
    "plt.plot(loss)"
   ]
  },
  {
   "cell_type": "markdown",
   "metadata": {},
   "source": [
    "## Hyperparameter and Architecture Tuning"
   ]
  },
  {
   "cell_type": "markdown",
   "metadata": {},
   "source": [
    "### Tanh Activation"
   ]
  },
  {
   "cell_type": "markdown",
   "metadata": {},
   "source": [
    "I want to test if a tanh activation will outperform a ReLu. In order to do this, I need to normalize my input data, as tanh functions can suffer from vanishing and exploding gradients."
   ]
  },
  {
   "cell_type": "code",
   "execution_count": 92,
   "metadata": {},
   "outputs": [],
   "source": [
    "# Setting raw input sequence\n",
    "raw_seq = rnn_train.values\n",
    "\n",
    "# Reshaping raw_seq from one dimensional to two dimensional vector for scaling\n",
    "raw_seq = raw_seq.reshape(raw_seq.shape[0], 1)\n",
    "\n",
    "# Fitting a normalizing scaler\n",
    "scaler = MinMaxScaler()\n",
    "scaler.fit(raw_seq)\n",
    "\n",
    "# Setting number of input and output/forecast steps\n",
    "# 'From the past n_steps_in trading days, predict the next n_steps_out'\n",
    "n_steps_in, n_steps_out = 100, 14\n",
    "\n",
    "# Splitting the sequence\n",
    "X, y = split_sequence(raw_seq, n_steps_in, n_steps_out)\n",
    "\n",
    "# Number of features is one because time series is univariate\n",
    "n_features = 1\n",
    "\n",
    "# Reshape from (samples, timesteps) into (samples, timesteps, features)\n",
    "X = X.reshape(X.shape[0], X.shape[1], n_features)\n",
    "\n",
    "# Scaling X with normalization\n",
    "for i in range(X.shape[0]):\n",
    "        X[i] = scaler.transform(X[i])"
   ]
  },
  {
   "cell_type": "code",
   "execution_count": 108,
   "metadata": {},
   "outputs": [],
   "source": [
    "# Define model architecture\n",
    "model = Sequential()\n",
    "model.add(LSTM(100, activation = 'tanh', input_shape = (n_steps_in, n_features)))\n",
    "model.add(Dense(n_steps_out))\n",
    "model.compile(optimizer = 'adam', loss = 'mse')\n",
    "\n",
    "# Instantiate History object to plot loss\n",
    "history = History()"
   ]
  },
  {
   "cell_type": "code",
   "execution_count": 109,
   "metadata": {},
   "outputs": [
    {
     "ename": "KeyboardInterrupt",
     "evalue": "",
     "output_type": "error",
     "traceback": [
      "\u001b[1;31m---------------------------------------------------------------------------\u001b[0m",
      "\u001b[1;31mKeyboardInterrupt\u001b[0m                         Traceback (most recent call last)",
      "\u001b[1;32m<ipython-input-109-2cf6e648fed9>\u001b[0m in \u001b[0;36m<module>\u001b[1;34m\u001b[0m\n\u001b[0;32m      1\u001b[0m \u001b[1;31m# Fit the model\u001b[0m\u001b[1;33m\u001b[0m\u001b[1;33m\u001b[0m\u001b[1;33m\u001b[0m\u001b[0m\n\u001b[1;32m----> 2\u001b[1;33m \u001b[0mmodel\u001b[0m\u001b[1;33m.\u001b[0m\u001b[0mfit\u001b[0m\u001b[1;33m(\u001b[0m\u001b[0mX\u001b[0m\u001b[1;33m,\u001b[0m \u001b[0my\u001b[0m\u001b[1;33m,\u001b[0m \u001b[0mepochs\u001b[0m \u001b[1;33m=\u001b[0m \u001b[1;36m200\u001b[0m\u001b[1;33m,\u001b[0m \u001b[0mverbose\u001b[0m \u001b[1;33m=\u001b[0m \u001b[1;32mFalse\u001b[0m\u001b[1;33m,\u001b[0m \u001b[0mshuffle\u001b[0m \u001b[1;33m=\u001b[0m \u001b[1;32mFalse\u001b[0m\u001b[1;33m,\u001b[0m \u001b[0mcallbacks\u001b[0m \u001b[1;33m=\u001b[0m \u001b[0mhistory\u001b[0m\u001b[1;33m)\u001b[0m\u001b[1;33m\u001b[0m\u001b[1;33m\u001b[0m\u001b[0m\n\u001b[0m",
      "\u001b[1;32m~\\anaconda3\\envs\\learn-env\\lib\\site-packages\\tensorflow\\python\\keras\\engine\\training.py\u001b[0m in \u001b[0;36m_method_wrapper\u001b[1;34m(self, *args, **kwargs)\u001b[0m\n\u001b[0;32m    106\u001b[0m   \u001b[1;32mdef\u001b[0m \u001b[0m_method_wrapper\u001b[0m\u001b[1;33m(\u001b[0m\u001b[0mself\u001b[0m\u001b[1;33m,\u001b[0m \u001b[1;33m*\u001b[0m\u001b[0margs\u001b[0m\u001b[1;33m,\u001b[0m \u001b[1;33m**\u001b[0m\u001b[0mkwargs\u001b[0m\u001b[1;33m)\u001b[0m\u001b[1;33m:\u001b[0m\u001b[1;33m\u001b[0m\u001b[1;33m\u001b[0m\u001b[0m\n\u001b[0;32m    107\u001b[0m     \u001b[1;32mif\u001b[0m \u001b[1;32mnot\u001b[0m \u001b[0mself\u001b[0m\u001b[1;33m.\u001b[0m\u001b[0m_in_multi_worker_mode\u001b[0m\u001b[1;33m(\u001b[0m\u001b[1;33m)\u001b[0m\u001b[1;33m:\u001b[0m  \u001b[1;31m# pylint: disable=protected-access\u001b[0m\u001b[1;33m\u001b[0m\u001b[1;33m\u001b[0m\u001b[0m\n\u001b[1;32m--> 108\u001b[1;33m       \u001b[1;32mreturn\u001b[0m \u001b[0mmethod\u001b[0m\u001b[1;33m(\u001b[0m\u001b[0mself\u001b[0m\u001b[1;33m,\u001b[0m \u001b[1;33m*\u001b[0m\u001b[0margs\u001b[0m\u001b[1;33m,\u001b[0m \u001b[1;33m**\u001b[0m\u001b[0mkwargs\u001b[0m\u001b[1;33m)\u001b[0m\u001b[1;33m\u001b[0m\u001b[1;33m\u001b[0m\u001b[0m\n\u001b[0m\u001b[0;32m    109\u001b[0m \u001b[1;33m\u001b[0m\u001b[0m\n\u001b[0;32m    110\u001b[0m     \u001b[1;31m# Running inside `run_distribute_coordinator` already.\u001b[0m\u001b[1;33m\u001b[0m\u001b[1;33m\u001b[0m\u001b[1;33m\u001b[0m\u001b[0m\n",
      "\u001b[1;32m~\\anaconda3\\envs\\learn-env\\lib\\site-packages\\tensorflow\\python\\keras\\engine\\training.py\u001b[0m in \u001b[0;36mfit\u001b[1;34m(self, x, y, batch_size, epochs, verbose, callbacks, validation_split, validation_data, shuffle, class_weight, sample_weight, initial_epoch, steps_per_epoch, validation_steps, validation_batch_size, validation_freq, max_queue_size, workers, use_multiprocessing)\u001b[0m\n\u001b[0;32m   1096\u001b[0m                 batch_size=batch_size):\n\u001b[0;32m   1097\u001b[0m               \u001b[0mcallbacks\u001b[0m\u001b[1;33m.\u001b[0m\u001b[0mon_train_batch_begin\u001b[0m\u001b[1;33m(\u001b[0m\u001b[0mstep\u001b[0m\u001b[1;33m)\u001b[0m\u001b[1;33m\u001b[0m\u001b[1;33m\u001b[0m\u001b[0m\n\u001b[1;32m-> 1098\u001b[1;33m               \u001b[0mtmp_logs\u001b[0m \u001b[1;33m=\u001b[0m \u001b[0mtrain_function\u001b[0m\u001b[1;33m(\u001b[0m\u001b[0miterator\u001b[0m\u001b[1;33m)\u001b[0m\u001b[1;33m\u001b[0m\u001b[1;33m\u001b[0m\u001b[0m\n\u001b[0m\u001b[0;32m   1099\u001b[0m               \u001b[1;32mif\u001b[0m \u001b[0mdata_handler\u001b[0m\u001b[1;33m.\u001b[0m\u001b[0mshould_sync\u001b[0m\u001b[1;33m:\u001b[0m\u001b[1;33m\u001b[0m\u001b[1;33m\u001b[0m\u001b[0m\n\u001b[0;32m   1100\u001b[0m                 \u001b[0mcontext\u001b[0m\u001b[1;33m.\u001b[0m\u001b[0masync_wait\u001b[0m\u001b[1;33m(\u001b[0m\u001b[1;33m)\u001b[0m\u001b[1;33m\u001b[0m\u001b[1;33m\u001b[0m\u001b[0m\n",
      "\u001b[1;32m~\\anaconda3\\envs\\learn-env\\lib\\site-packages\\tensorflow\\python\\eager\\def_function.py\u001b[0m in \u001b[0;36m__call__\u001b[1;34m(self, *args, **kwds)\u001b[0m\n\u001b[0;32m    778\u001b[0m       \u001b[1;32melse\u001b[0m\u001b[1;33m:\u001b[0m\u001b[1;33m\u001b[0m\u001b[1;33m\u001b[0m\u001b[0m\n\u001b[0;32m    779\u001b[0m         \u001b[0mcompiler\u001b[0m \u001b[1;33m=\u001b[0m \u001b[1;34m\"nonXla\"\u001b[0m\u001b[1;33m\u001b[0m\u001b[1;33m\u001b[0m\u001b[0m\n\u001b[1;32m--> 780\u001b[1;33m         \u001b[0mresult\u001b[0m \u001b[1;33m=\u001b[0m \u001b[0mself\u001b[0m\u001b[1;33m.\u001b[0m\u001b[0m_call\u001b[0m\u001b[1;33m(\u001b[0m\u001b[1;33m*\u001b[0m\u001b[0margs\u001b[0m\u001b[1;33m,\u001b[0m \u001b[1;33m**\u001b[0m\u001b[0mkwds\u001b[0m\u001b[1;33m)\u001b[0m\u001b[1;33m\u001b[0m\u001b[1;33m\u001b[0m\u001b[0m\n\u001b[0m\u001b[0;32m    781\u001b[0m \u001b[1;33m\u001b[0m\u001b[0m\n\u001b[0;32m    782\u001b[0m       \u001b[0mnew_tracing_count\u001b[0m \u001b[1;33m=\u001b[0m \u001b[0mself\u001b[0m\u001b[1;33m.\u001b[0m\u001b[0m_get_tracing_count\u001b[0m\u001b[1;33m(\u001b[0m\u001b[1;33m)\u001b[0m\u001b[1;33m\u001b[0m\u001b[1;33m\u001b[0m\u001b[0m\n",
      "\u001b[1;32m~\\anaconda3\\envs\\learn-env\\lib\\site-packages\\tensorflow\\python\\eager\\def_function.py\u001b[0m in \u001b[0;36m_call\u001b[1;34m(self, *args, **kwds)\u001b[0m\n\u001b[0;32m    805\u001b[0m       \u001b[1;31m# In this case we have created variables on the first call, so we run the\u001b[0m\u001b[1;33m\u001b[0m\u001b[1;33m\u001b[0m\u001b[1;33m\u001b[0m\u001b[0m\n\u001b[0;32m    806\u001b[0m       \u001b[1;31m# defunned version which is guaranteed to never create variables.\u001b[0m\u001b[1;33m\u001b[0m\u001b[1;33m\u001b[0m\u001b[1;33m\u001b[0m\u001b[0m\n\u001b[1;32m--> 807\u001b[1;33m       \u001b[1;32mreturn\u001b[0m \u001b[0mself\u001b[0m\u001b[1;33m.\u001b[0m\u001b[0m_stateless_fn\u001b[0m\u001b[1;33m(\u001b[0m\u001b[1;33m*\u001b[0m\u001b[0margs\u001b[0m\u001b[1;33m,\u001b[0m \u001b[1;33m**\u001b[0m\u001b[0mkwds\u001b[0m\u001b[1;33m)\u001b[0m  \u001b[1;31m# pylint: disable=not-callable\u001b[0m\u001b[1;33m\u001b[0m\u001b[1;33m\u001b[0m\u001b[0m\n\u001b[0m\u001b[0;32m    808\u001b[0m     \u001b[1;32melif\u001b[0m \u001b[0mself\u001b[0m\u001b[1;33m.\u001b[0m\u001b[0m_stateful_fn\u001b[0m \u001b[1;32mis\u001b[0m \u001b[1;32mnot\u001b[0m \u001b[1;32mNone\u001b[0m\u001b[1;33m:\u001b[0m\u001b[1;33m\u001b[0m\u001b[1;33m\u001b[0m\u001b[0m\n\u001b[0;32m    809\u001b[0m       \u001b[1;31m# Release the lock early so that multiple threads can perform the call\u001b[0m\u001b[1;33m\u001b[0m\u001b[1;33m\u001b[0m\u001b[1;33m\u001b[0m\u001b[0m\n",
      "\u001b[1;32m~\\anaconda3\\envs\\learn-env\\lib\\site-packages\\tensorflow\\python\\eager\\function.py\u001b[0m in \u001b[0;36m__call__\u001b[1;34m(self, *args, **kwargs)\u001b[0m\n\u001b[0;32m   2827\u001b[0m     \u001b[1;32mwith\u001b[0m \u001b[0mself\u001b[0m\u001b[1;33m.\u001b[0m\u001b[0m_lock\u001b[0m\u001b[1;33m:\u001b[0m\u001b[1;33m\u001b[0m\u001b[1;33m\u001b[0m\u001b[0m\n\u001b[0;32m   2828\u001b[0m       \u001b[0mgraph_function\u001b[0m\u001b[1;33m,\u001b[0m \u001b[0margs\u001b[0m\u001b[1;33m,\u001b[0m \u001b[0mkwargs\u001b[0m \u001b[1;33m=\u001b[0m \u001b[0mself\u001b[0m\u001b[1;33m.\u001b[0m\u001b[0m_maybe_define_function\u001b[0m\u001b[1;33m(\u001b[0m\u001b[0margs\u001b[0m\u001b[1;33m,\u001b[0m \u001b[0mkwargs\u001b[0m\u001b[1;33m)\u001b[0m\u001b[1;33m\u001b[0m\u001b[1;33m\u001b[0m\u001b[0m\n\u001b[1;32m-> 2829\u001b[1;33m     \u001b[1;32mreturn\u001b[0m \u001b[0mgraph_function\u001b[0m\u001b[1;33m.\u001b[0m\u001b[0m_filtered_call\u001b[0m\u001b[1;33m(\u001b[0m\u001b[0margs\u001b[0m\u001b[1;33m,\u001b[0m \u001b[0mkwargs\u001b[0m\u001b[1;33m)\u001b[0m  \u001b[1;31m# pylint: disable=protected-access\u001b[0m\u001b[1;33m\u001b[0m\u001b[1;33m\u001b[0m\u001b[0m\n\u001b[0m\u001b[0;32m   2830\u001b[0m \u001b[1;33m\u001b[0m\u001b[0m\n\u001b[0;32m   2831\u001b[0m   \u001b[1;33m@\u001b[0m\u001b[0mproperty\u001b[0m\u001b[1;33m\u001b[0m\u001b[1;33m\u001b[0m\u001b[0m\n",
      "\u001b[1;32m~\\anaconda3\\envs\\learn-env\\lib\\site-packages\\tensorflow\\python\\eager\\function.py\u001b[0m in \u001b[0;36m_filtered_call\u001b[1;34m(self, args, kwargs, cancellation_manager)\u001b[0m\n\u001b[0;32m   1841\u001b[0m       \u001b[0;31m`\u001b[0m\u001b[0margs\u001b[0m\u001b[0;31m`\u001b[0m \u001b[1;32mand\u001b[0m\u001b[0;31m \u001b[0m\u001b[0;31m`\u001b[0m\u001b[0mkwargs\u001b[0m\u001b[0;31m`\u001b[0m\u001b[1;33m.\u001b[0m\u001b[1;33m\u001b[0m\u001b[1;33m\u001b[0m\u001b[0m\n\u001b[0;32m   1842\u001b[0m     \"\"\"\n\u001b[1;32m-> 1843\u001b[1;33m     return self._call_flat(\n\u001b[0m\u001b[0;32m   1844\u001b[0m         [t for t in nest.flatten((args, kwargs), expand_composites=True)\n\u001b[0;32m   1845\u001b[0m          if isinstance(t, (ops.Tensor,\n",
      "\u001b[1;32m~\\anaconda3\\envs\\learn-env\\lib\\site-packages\\tensorflow\\python\\eager\\function.py\u001b[0m in \u001b[0;36m_call_flat\u001b[1;34m(self, args, captured_inputs, cancellation_manager)\u001b[0m\n\u001b[0;32m   1921\u001b[0m         and executing_eagerly):\n\u001b[0;32m   1922\u001b[0m       \u001b[1;31m# No tape is watching; skip to running the function.\u001b[0m\u001b[1;33m\u001b[0m\u001b[1;33m\u001b[0m\u001b[1;33m\u001b[0m\u001b[0m\n\u001b[1;32m-> 1923\u001b[1;33m       return self._build_call_outputs(self._inference_function.call(\n\u001b[0m\u001b[0;32m   1924\u001b[0m           ctx, args, cancellation_manager=cancellation_manager))\n\u001b[0;32m   1925\u001b[0m     forward_backward = self._select_forward_and_backward_functions(\n",
      "\u001b[1;32m~\\anaconda3\\envs\\learn-env\\lib\\site-packages\\tensorflow\\python\\eager\\function.py\u001b[0m in \u001b[0;36mcall\u001b[1;34m(self, ctx, args, cancellation_manager)\u001b[0m\n\u001b[0;32m    543\u001b[0m       \u001b[1;32mwith\u001b[0m \u001b[0m_InterpolateFunctionError\u001b[0m\u001b[1;33m(\u001b[0m\u001b[0mself\u001b[0m\u001b[1;33m)\u001b[0m\u001b[1;33m:\u001b[0m\u001b[1;33m\u001b[0m\u001b[1;33m\u001b[0m\u001b[0m\n\u001b[0;32m    544\u001b[0m         \u001b[1;32mif\u001b[0m \u001b[0mcancellation_manager\u001b[0m \u001b[1;32mis\u001b[0m \u001b[1;32mNone\u001b[0m\u001b[1;33m:\u001b[0m\u001b[1;33m\u001b[0m\u001b[1;33m\u001b[0m\u001b[0m\n\u001b[1;32m--> 545\u001b[1;33m           outputs = execute.execute(\n\u001b[0m\u001b[0;32m    546\u001b[0m               \u001b[0mstr\u001b[0m\u001b[1;33m(\u001b[0m\u001b[0mself\u001b[0m\u001b[1;33m.\u001b[0m\u001b[0msignature\u001b[0m\u001b[1;33m.\u001b[0m\u001b[0mname\u001b[0m\u001b[1;33m)\u001b[0m\u001b[1;33m,\u001b[0m\u001b[1;33m\u001b[0m\u001b[1;33m\u001b[0m\u001b[0m\n\u001b[0;32m    547\u001b[0m               \u001b[0mnum_outputs\u001b[0m\u001b[1;33m=\u001b[0m\u001b[0mself\u001b[0m\u001b[1;33m.\u001b[0m\u001b[0m_num_outputs\u001b[0m\u001b[1;33m,\u001b[0m\u001b[1;33m\u001b[0m\u001b[1;33m\u001b[0m\u001b[0m\n",
      "\u001b[1;32m~\\anaconda3\\envs\\learn-env\\lib\\site-packages\\tensorflow\\python\\eager\\execute.py\u001b[0m in \u001b[0;36mquick_execute\u001b[1;34m(op_name, num_outputs, inputs, attrs, ctx, name)\u001b[0m\n\u001b[0;32m     57\u001b[0m   \u001b[1;32mtry\u001b[0m\u001b[1;33m:\u001b[0m\u001b[1;33m\u001b[0m\u001b[1;33m\u001b[0m\u001b[0m\n\u001b[0;32m     58\u001b[0m     \u001b[0mctx\u001b[0m\u001b[1;33m.\u001b[0m\u001b[0mensure_initialized\u001b[0m\u001b[1;33m(\u001b[0m\u001b[1;33m)\u001b[0m\u001b[1;33m\u001b[0m\u001b[1;33m\u001b[0m\u001b[0m\n\u001b[1;32m---> 59\u001b[1;33m     tensors = pywrap_tfe.TFE_Py_Execute(ctx._handle, device_name, op_name,\n\u001b[0m\u001b[0;32m     60\u001b[0m                                         inputs, attrs, num_outputs)\n\u001b[0;32m     61\u001b[0m   \u001b[1;32mexcept\u001b[0m \u001b[0mcore\u001b[0m\u001b[1;33m.\u001b[0m\u001b[0m_NotOkStatusException\u001b[0m \u001b[1;32mas\u001b[0m \u001b[0me\u001b[0m\u001b[1;33m:\u001b[0m\u001b[1;33m\u001b[0m\u001b[1;33m\u001b[0m\u001b[0m\n",
      "\u001b[1;31mKeyboardInterrupt\u001b[0m: "
     ]
    }
   ],
   "source": [
    "# Fit the model\n",
    "model.fit(X, y, epochs = 200, verbose = False, shuffle = False, callbacks = history)"
   ]
  },
  {
   "cell_type": "code",
   "execution_count": null,
   "metadata": {},
   "outputs": [],
   "source": [
    "# Set train evaluation input and outputs\n",
    "X_train = rnn_train.values[-(n_steps_in+n_steps_out):-n_steps_out]\n",
    "y_train = rnn_train.values[-n_steps_out:]\n",
    "\n",
    "# Reshape X_train from 1D to 2D vector\n",
    "X_train = X_train.reshape(X_train.shape[0], 1)\n",
    "\n",
    "# Scale train set\n",
    "X_train = scaler.transform(X_train)\n",
    "\n",
    "# Reshape input\n",
    "X_train = X_train.reshape(1, n_steps_in, n_features)\n",
    "\n",
    "# Set test evaluation input and outputs\n",
    "X_test = rnn_train.values[-n_steps_in:]\n",
    "y_test = rnn_test.values\n",
    "\n",
    "# Reshape X_train from 1D to 2D vector\n",
    "X_test = X_test.reshape(X_test.shape[0], 1)\n",
    "\n",
    "# Scale test set\n",
    "X_test = scaler.transform(X_test)\n",
    "\n",
    "# Reshape input \n",
    "X_test = X_test.reshape(1, n_steps_in, n_features)"
   ]
  },
  {
   "cell_type": "code",
   "execution_count": 52,
   "metadata": {},
   "outputs": [],
   "source": [
    "# Predicting on train and test sets\n",
    "y_pred_train = model.predict(X_train, verbose = False)[0]\n",
    "y_pred_test = model.predict(X_test, verbose = False)[0]\n",
    "# [0] is to access nested array"
   ]
  },
  {
   "cell_type": "code",
   "execution_count": 53,
   "metadata": {},
   "outputs": [],
   "source": [
    "# Calculate RMSE for train and test predictions\n",
    "train_rmse = np.sqrt(mean_squared_error(y_train, y_pred_train))\n",
    "test_rmse = np.sqrt(mean_squared_error(y_test, y_pred_test))"
   ]
  },
  {
   "cell_type": "code",
   "execution_count": 54,
   "metadata": {},
   "outputs": [
    {
     "name": "stdout",
     "output_type": "stream",
     "text": [
      "Train: 0.27054933682898524 Test: 0.45451771548966885\n"
     ]
    }
   ],
   "source": [
    "print('Train:', train_rmse, 'Test:', test_rmse)"
   ]
  },
  {
   "cell_type": "code",
   "execution_count": 55,
   "metadata": {},
   "outputs": [
    {
     "data": {
      "text/plain": [
       "[<matplotlib.lines.Line2D at 0x25a60d73340>]"
      ]
     },
     "execution_count": 55,
     "metadata": {},
     "output_type": "execute_result"
    },
    {
     "data": {
      "image/png": "[encoded data removed]",
      "text/plain": [
       "<Figure size 432x288 with 1 Axes>"
      ]
     },
     "metadata": {},
     "output_type": "display_data"
    }
   ],
   "source": [
    "# Define loss variable for plotting\n",
    "loss = history.history['loss']\n",
    "\n",
    "# Plot loss\n",
    "plt.plot(loss)"
   ]
  },
  {
   "cell_type": "code",
   "execution_count": 60,
   "metadata": {},
   "outputs": [],
   "source": [
    "import pydot"
   ]
  },
  {
   "cell_type": "code",
   "execution_count": 62,
   "metadata": {},
   "outputs": [
    {
     "name": "stdout",
     "output_type": "stream",
     "text": [
      "('Failed to import pydot. You must `pip install pydot` and install graphviz (https://graphviz.gitlab.io/download/), ', 'for `pydotprint` to work.')\n"
     ]
    }
   ],
   "source": [
    "plot_model(model, show_shapes = True, show_layer_names = True)"
   ]
  },
  {
   "cell_type": "markdown",
   "metadata": {},
   "source": [
    "There seems to be little difference in model performance between the two activation functions. Going forward, I will use the ReLu as it does not require scaling."
   ]
  },
  {
   "cell_type": "markdown",
   "metadata": {},
   "source": [
    "### Dropout Regularization"
   ]
  },
  {
   "cell_type": "markdown",
   "metadata": {},
   "source": [
    "So far, the model seems to be overfitting to the training data, as its training performance is better than its testing performance. I'll add dropout regularization to attempt to increase the bias."
   ]
  },
  {
   "cell_type": "code",
   "execution_count": 64,
   "metadata": {},
   "outputs": [],
   "source": [
    "# Define model architecture\n",
    "model = Sequential()\n",
    "model.add(LSTM(100, input_shape = (n_steps_in, n_features)))\n",
    "model.add(Dropout(.05))\n",
    "model.add(Dense(n_steps_out))\n",
    "model.compile(optimizer = 'adam', loss = 'mse')\n",
    "\n",
    "# Instantiate History object to plot loss\n",
    "history = History()"
   ]
  },
  {
   "cell_type": "code",
   "execution_count": 65,
   "metadata": {},
   "outputs": [
    {
     "data": {
      "text/plain": [
       "<tensorflow.python.keras.callbacks.History at 0x25a60e15070>"
      ]
     },
     "execution_count": 65,
     "metadata": {},
     "output_type": "execute_result"
    }
   ],
   "source": [
    "# Fit the model\n",
    "model.fit(X, y, epochs = 200, verbose = False, shuffle = False, callbacks = history)"
   ]
  },
  {
   "cell_type": "code",
   "execution_count": 66,
   "metadata": {},
   "outputs": [],
   "source": [
    "# Set train evaluation input and outputs\n",
    "X_train = rnn_train.values[-(n_steps_in+n_steps_out):-n_steps_out]\n",
    "y_train = rnn_train.values[-n_steps_out:]\n",
    "\n",
    "# Reshape input\n",
    "X_train = X_train.reshape(1, n_steps_in, n_features)\n",
    "\n",
    "# Set test evaluation input and outputs\n",
    "X_test = rnn_train.values[-n_steps_in:]\n",
    "y_test = rnn_test.values\n",
    "\n",
    "# Reshape input \n",
    "X_test = X_test.reshape(1, n_steps_in, n_features)"
   ]
  },
  {
   "cell_type": "code",
   "execution_count": 67,
   "metadata": {},
   "outputs": [],
   "source": [
    "# Predicting on train and test sets\n",
    "y_pred_train = model.predict(X_train, verbose = False)[0]\n",
    "y_pred_test = model.predict(X_test, verbose = False)[0]\n",
    "# [0] is to access nested array"
   ]
  },
  {
   "cell_type": "code",
   "execution_count": 68,
   "metadata": {},
   "outputs": [],
   "source": [
    "# Calculate RMSE for train and test predictions\n",
    "train_rmse = np.sqrt(mean_squared_error(y_train, y_pred_train))\n",
    "test_rmse = np.sqrt(mean_squared_error(y_test, y_pred_test))"
   ]
  },
  {
   "cell_type": "code",
   "execution_count": 69,
   "metadata": {},
   "outputs": [
    {
     "name": "stdout",
     "output_type": "stream",
     "text": [
      "Train: 7.768565800831677 Test: 7.460020521401312\n"
     ]
    }
   ],
   "source": [
    "print('Train:', train_rmse, 'Test:', test_rmse)"
   ]
  },
  {
   "cell_type": "code",
   "execution_count": 70,
   "metadata": {},
   "outputs": [
    {
     "data": {
      "text/plain": [
       "[<matplotlib.lines.Line2D at 0x25a64168820>]"
      ]
     },
     "execution_count": 70,
     "metadata": {},
     "output_type": "execute_result"
    },
    {
     "data": {
      "image/png": "[encoded data removed]",
      "text/plain": [
       "<Figure size 432x288 with 1 Axes>"
      ]
     },
     "metadata": {},
     "output_type": "display_data"
    }
   ],
   "source": [
    "# Define loss variable for plotting\n",
    "loss = history.history['loss']\n",
    "\n",
    "# Plot loss\n",
    "plt.plot(loss)"
   ]
  },
  {
   "cell_type": "markdown",
   "metadata": {},
   "source": [
    "Dropout regularization seems to slightly improve model performance but could just be due to increasing the number of hidden units in the first LSTM layer from 50 to 100. Hard to tell because of inconsistent results."
   ]
  },
  {
   "cell_type": "markdown",
   "metadata": {},
   "source": [
    "Can I improve performance by adding another lstm layer, try bidirectional, then trying GRU layers, also training for longer"
   ]
  },
  {
   "cell_type": "markdown",
   "metadata": {},
   "source": [
    "### Bidirectional LSTM"
   ]
  },
  {
   "cell_type": "code",
   "execution_count": 71,
   "metadata": {},
   "outputs": [],
   "source": [
    "# Define model architecture\n",
    "model = Sequential()\n",
    "model.add(Bidirectional(LSTM(100, input_shape = (n_steps_in, n_features))))\n",
    "model.add(Dropout(.05))\n",
    "model.add(Dense(n_steps_out))\n",
    "model.compile(optimizer = 'adam', loss = 'mse')\n",
    "\n",
    "# Instantiate History object to plot loss\n",
    "history = History()"
   ]
  },
  {
   "cell_type": "code",
   "execution_count": 72,
   "metadata": {},
   "outputs": [
    {
     "data": {
      "text/plain": [
       "<tensorflow.python.keras.callbacks.History at 0x25a52810880>"
      ]
     },
     "execution_count": 72,
     "metadata": {},
     "output_type": "execute_result"
    }
   ],
   "source": [
    "# Fit the model\n",
    "model.fit(X, y, epochs = 200, verbose = False, shuffle = False, callbacks = history)"
   ]
  },
  {
   "cell_type": "code",
   "execution_count": 73,
   "metadata": {},
   "outputs": [],
   "source": [
    "# Set train evaluation input and outputs\n",
    "X_train = rnn_train.values[-(n_steps_in+n_steps_out):-n_steps_out]\n",
    "y_train = rnn_train.values[-n_steps_out:]\n",
    "\n",
    "# Reshape input\n",
    "X_train = X_train.reshape(1, n_steps_in, n_features)\n",
    "\n",
    "# Set test evaluation input and outputs\n",
    "X_test = rnn_train.values[-n_steps_in:]\n",
    "y_test = rnn_test.values\n",
    "\n",
    "# Reshape input \n",
    "X_test = X_test.reshape(1, n_steps_in, n_features)"
   ]
  },
  {
   "cell_type": "code",
   "execution_count": 74,
   "metadata": {},
   "outputs": [
    {
     "name": "stdout",
     "output_type": "stream",
     "text": [
      "WARNING:tensorflow:5 out of the last 9 calls to <function Model.make_predict_function.<locals>.predict_function at 0x0000025A690264C0> triggered tf.function retracing. Tracing is expensive and the excessive number of tracings could be due to (1) creating @tf.function repeatedly in a loop, (2) passing tensors with different shapes, (3) passing Python objects instead of tensors. For (1), please define your @tf.function outside of the loop. For (2), @tf.function has experimental_relax_shapes=True option that relaxes argument shapes that can avoid unnecessary retracing. For (3), please refer to https://www.tensorflow.org/tutorials/customization/performance#python_or_tensor_args and https://www.tensorflow.org/api_docs/python/tf/function for  more details.\n"
     ]
    }
   ],
   "source": [
    "# Predicting on train and test sets\n",
    "y_pred_train = model.predict(X_train, verbose = False)[0]\n",
    "y_pred_test = model.predict(X_test, verbose = False)[0]\n",
    "# [0] is to access nested array"
   ]
  },
  {
   "cell_type": "code",
   "execution_count": 75,
   "metadata": {},
   "outputs": [],
   "source": [
    "# Calculate RMSE for train and test predictions\n",
    "train_rmse = np.sqrt(mean_squared_error(y_train, y_pred_train))\n",
    "test_rmse = np.sqrt(mean_squared_error(y_test, y_pred_test))"
   ]
  },
  {
   "cell_type": "code",
   "execution_count": 76,
   "metadata": {},
   "outputs": [
    {
     "name": "stdout",
     "output_type": "stream",
     "text": [
      "Train: 7.7200484270402585 Test: 7.405773135719215\n"
     ]
    }
   ],
   "source": [
    "print('Train:', train_rmse, 'Test:', test_rmse)"
   ]
  },
  {
   "cell_type": "code",
   "execution_count": 77,
   "metadata": {},
   "outputs": [
    {
     "data": {
      "text/plain": [
       "[<matplotlib.lines.Line2D at 0x25a6b801070>]"
      ]
     },
     "execution_count": 77,
     "metadata": {},
     "output_type": "execute_result"
    },
    {
     "data": {
      "image/png": "[encoded data removed]",
      "text/plain": [
       "<Figure size 432x288 with 1 Axes>"
      ]
     },
     "metadata": {},
     "output_type": "display_data"
    }
   ],
   "source": [
    "# Define loss variable for plotting\n",
    "loss = history.history['loss']\n",
    "\n",
    "# Plot loss\n",
    "plt.plot(loss)"
   ]
  },
  {
   "cell_type": "markdown",
   "metadata": {},
   "source": [
    "## Two LSTM layers"
   ]
  },
  {
   "cell_type": "code",
   "execution_count": 100,
   "metadata": {},
   "outputs": [],
   "source": [
    "# Define model architecture\n",
    "model = Sequential()\n",
    "model.add(LSTM(100, return_sequences = True, input_shape = (n_steps_in, n_features)))\n",
    "model.add(LSTM(50))\n",
    "model.add(Dense(n_steps_out))\n",
    "model.compile(optimizer = 'adam', loss = 'mse')\n",
    "\n",
    "# Instantiate History object to plot loss\n",
    "history = History()"
   ]
  },
  {
   "cell_type": "code",
   "execution_count": 101,
   "metadata": {},
   "outputs": [
    {
     "data": {
      "text/plain": [
       "<tensorflow.python.keras.callbacks.History at 0x25a7d6754f0>"
      ]
     },
     "execution_count": 101,
     "metadata": {},
     "output_type": "execute_result"
    }
   ],
   "source": [
    "# Fit the model\n",
    "model.fit(X, y, epochs = 100, verbose = False, shuffle = False, callbacks = history)"
   ]
  },
  {
   "cell_type": "code",
   "execution_count": 102,
   "metadata": {},
   "outputs": [],
   "source": [
    "# Set train evaluation input and outputs\n",
    "X_train = rnn_train.values[-(n_steps_in+n_steps_out):-n_steps_out]\n",
    "y_train = rnn_train.values[-n_steps_out:]\n",
    "\n",
    "# Reshape X_train from 1D to 2D vector\n",
    "X_train = X_train.reshape(X_train.shape[0], 1)\n",
    "\n",
    "# Scale train set\n",
    "X_train = scaler.transform(X_train)\n",
    "\n",
    "# Reshape input\n",
    "X_train = X_train.reshape(1, n_steps_in, n_features)\n",
    "\n",
    "# Set test evaluation input and outputs\n",
    "X_test = rnn_train.values[-n_steps_in:]\n",
    "y_test = rnn_test.values\n",
    "\n",
    "# Reshape X_train from 1D to 2D vector\n",
    "X_test = X_test.reshape(X_test.shape[0], 1)\n",
    "\n",
    "# Scale test set\n",
    "X_test = scaler.transform(X_test)\n",
    "\n",
    "# Reshape input \n",
    "X_test = X_test.reshape(1, n_steps_in, n_features)"
   ]
  },
  {
   "cell_type": "code",
   "execution_count": 103,
   "metadata": {},
   "outputs": [
    {
     "name": "stdout",
     "output_type": "stream",
     "text": [
      "WARNING:tensorflow:6 out of the last 11 calls to <function Model.make_predict_function.<locals>.predict_function at 0x0000025A010CDF70> triggered tf.function retracing. Tracing is expensive and the excessive number of tracings could be due to (1) creating @tf.function repeatedly in a loop, (2) passing tensors with different shapes, (3) passing Python objects instead of tensors. For (1), please define your @tf.function outside of the loop. For (2), @tf.function has experimental_relax_shapes=True option that relaxes argument shapes that can avoid unnecessary retracing. For (3), please refer to https://www.tensorflow.org/tutorials/customization/performance#python_or_tensor_args and https://www.tensorflow.org/api_docs/python/tf/function for  more details.\n"
     ]
    }
   ],
   "source": [
    "# Predicting on train and test sets\n",
    "y_pred_train = model.predict(X_train, verbose = False)[0]\n",
    "y_pred_test = model.predict(X_test, verbose = False)[0]\n",
    "# [0] is to access nested array"
   ]
  },
  {
   "cell_type": "code",
   "execution_count": 104,
   "metadata": {},
   "outputs": [],
   "source": [
    "# Calculate RMSE for train and test predictions\n",
    "train_rmse = np.sqrt(mean_squared_error(y_train, y_pred_train))\n",
    "test_rmse = np.sqrt(mean_squared_error(y_test, y_pred_test))"
   ]
  },
  {
   "cell_type": "code",
   "execution_count": 105,
   "metadata": {},
   "outputs": [
    {
     "name": "stdout",
     "output_type": "stream",
     "text": [
      "Train: 2.365626215306599 Test: 2.0762797428279285\n"
     ]
    }
   ],
   "source": [
    "print('Train:', train_rmse, 'Test:', test_rmse)"
   ]
  },
  {
   "cell_type": "code",
   "execution_count": 106,
   "metadata": {},
   "outputs": [
    {
     "data": {
      "text/plain": [
       "[<matplotlib.lines.Line2D at 0x25a048bd580>]"
      ]
     },
     "execution_count": 106,
     "metadata": {},
     "output_type": "execute_result"
    },
    {
     "data": {
      "image/png": "[encoded data removed]",
      "text/plain": [
       "<Figure size 432x288 with 1 Axes>"
      ]
     },
     "metadata": {},
     "output_type": "display_data"
    }
   ],
   "source": [
    "# Define loss variable for plotting\n",
    "loss = history.history['loss']\n",
    "\n",
    "# Plot loss\n",
    "plt.plot(loss)"
   ]
  },
  {
   "cell_type": "markdown",
   "metadata": {},
   "source": [
    "### Multiple LSTM, Dense Layers with Dropout"
   ]
  },
  {
   "cell_type": "code",
   "execution_count": 118,
   "metadata": {},
   "outputs": [],
   "source": [
    "# Define model architecture\n",
    "model = Sequential()\n",
    "model.add(LSTM(100, return_sequences = True, input_shape = (n_steps_in, n_features)))\n",
    "model.add(LSTM(50))\n",
    "model.add(Dropout(.05))\n",
    "model.add(Dense(25))\n",
    "model.add(Dropout(.1))\n",
    "model.add(Dense(n_steps_out))\n",
    "model.compile(optimizer = 'adam', loss = 'mse')\n",
    "\n",
    "# Instantiate History object to plot loss\n",
    "history = History()"
   ]
  },
  {
   "cell_type": "code",
   "execution_count": 119,
   "metadata": {},
   "outputs": [
    {
     "data": {
      "text/plain": [
       "<tensorflow.python.keras.callbacks.History at 0x25a0c2d2880>"
      ]
     },
     "execution_count": 119,
     "metadata": {},
     "output_type": "execute_result"
    }
   ],
   "source": [
    "# Fit the model\n",
    "model.fit(X, y, epochs = 250, verbose = False, shuffle = False, callbacks = history)"
   ]
  },
  {
   "cell_type": "code",
   "execution_count": 120,
   "metadata": {},
   "outputs": [],
   "source": [
    "# Set train evaluation input and outputs\n",
    "X_train = rnn_train.values[-(n_steps_in+n_steps_out):-n_steps_out]\n",
    "y_train = rnn_train.values[-n_steps_out:]\n",
    "\n",
    "# Reshape input\n",
    "X_train = X_train.reshape(1, n_steps_in, n_features)\n",
    "\n",
    "# Set test evaluation input and outputs\n",
    "X_test = rnn_train.values[-n_steps_in:]\n",
    "y_test = rnn_test.values\n",
    "\n",
    "# Reshape input \n",
    "X_test = X_test.reshape(1, n_steps_in, n_features)"
   ]
  },
  {
   "cell_type": "code",
   "execution_count": 121,
   "metadata": {},
   "outputs": [
    {
     "name": "stdout",
     "output_type": "stream",
     "text": [
      "WARNING:tensorflow:6 out of the last 11 calls to <function Model.make_predict_function.<locals>.predict_function at 0x0000025A10BA9700> triggered tf.function retracing. Tracing is expensive and the excessive number of tracings could be due to (1) creating @tf.function repeatedly in a loop, (2) passing tensors with different shapes, (3) passing Python objects instead of tensors. For (1), please define your @tf.function outside of the loop. For (2), @tf.function has experimental_relax_shapes=True option that relaxes argument shapes that can avoid unnecessary retracing. For (3), please refer to https://www.tensorflow.org/tutorials/customization/performance#python_or_tensor_args and https://www.tensorflow.org/api_docs/python/tf/function for  more details.\n"
     ]
    }
   ],
   "source": [
    "# Predicting on train and test sets\n",
    "y_pred_train = model.predict(X_train, verbose = False)[0]\n",
    "y_pred_test = model.predict(X_test, verbose = False)[0]\n",
    "# [0] is to access nested array"
   ]
  },
  {
   "cell_type": "code",
   "execution_count": 122,
   "metadata": {},
   "outputs": [],
   "source": [
    "# Calculate RMSE for train and test predictions\n",
    "train_rmse = np.sqrt(mean_squared_error(y_train, y_pred_train))\n",
    "test_rmse = np.sqrt(mean_squared_error(y_test, y_pred_test))"
   ]
  },
  {
   "cell_type": "code",
   "execution_count": 123,
   "metadata": {},
   "outputs": [
    {
     "name": "stdout",
     "output_type": "stream",
     "text": [
      "Train: 0.30009165807107835 Test: 0.5903683961295644\n"
     ]
    }
   ],
   "source": [
    "print('Train:', train_rmse, 'Test:', test_rmse)"
   ]
  },
  {
   "cell_type": "code",
   "execution_count": 124,
   "metadata": {},
   "outputs": [
    {
     "data": {
      "text/plain": [
       "[<matplotlib.lines.Line2D at 0x25a1332bc70>]"
      ]
     },
     "execution_count": 124,
     "metadata": {},
     "output_type": "execute_result"
    },
    {
     "data": {
      "image/png": "[encoded data removed]",
      "text/plain": [
       "<Figure size 432x288 with 1 Axes>"
      ]
     },
     "metadata": {},
     "output_type": "display_data"
    }
   ],
   "source": [
    "# Define loss variable for plotting\n",
    "loss = history.history['loss']\n",
    "\n",
    "# Plot loss\n",
    "plt.plot(loss)"
   ]
  },
  {
   "cell_type": "code",
   "execution_count": 125,
   "metadata": {},
   "outputs": [
    {
     "name": "stdout",
     "output_type": "stream",
     "text": [
      "('Failed to import pydot. You must `pip install pydot` and install graphviz (https://graphviz.gitlab.io/download/), ', 'for `pydotprint` to work.')\n"
     ]
    }
   ],
   "source": [
    "plot_model(model, show_shapes = True, show_layer_names = True)"
   ]
  },
  {
   "cell_type": "markdown",
   "metadata": {},
   "source": [
    "## Training Accross All Stocks"
   ]
  },
  {
   "cell_type": "code",
   "execution_count": 561,
   "metadata": {},
   "outputs": [],
   "source": [
    "def rnn_multiple(df_list, n_steps_in, n_steps_out, end_train_date, end_test_date):\n",
    "    \"\"\"\n",
    "    Takes in a list of dataframes, number of input and output steps, \n",
    "    and dates to end train and test sets.\n",
    "    \n",
    "    df_list -- list of dataframes\n",
    "    n_steps_in -- integer\n",
    "    n_steps_out -- integer\n",
    "    end_train_date -- string in 'YYYY-MM-DD' format where the date field is optional\n",
    "    end_test_date -- string in 'YYYY-MM-DD' format where the date field is optional\n",
    "    \"\"\"\n",
    "    # Create list of results to store scores and fail cache to store failed dfs\n",
    "    results_list = []\n",
    "    fail_cache = []\n",
    "    \n",
    "    for df in df_list:\n",
    "        try:\n",
    "            # Define a dictionary to store model performance on each stock\n",
    "            result = {}\n",
    "\n",
    "            # Get ticker and add to result dictionary\n",
    "            result['ticker'] = df['ticker'][0]\n",
    "\n",
    "            # Remove exogenous regressors\n",
    "            df = df['close']\n",
    "\n",
    "            # Endogenous regressors train/test split\n",
    "            rnn_train = df[:end_train_date]\n",
    "            rnn_test = df[end_train_date:end_test_date]\n",
    "\n",
    "            # Setting raw input sequence\n",
    "            raw_seq = rnn_train.values\n",
    "\n",
    "            # Reshaping raw_seq from one dimensional to two dimensional vector for scaling\n",
    "            raw_seq = raw_seq.reshape(raw_seq.shape[0], 1)\n",
    "\n",
    "            # Fitting a normalizing scaler\n",
    "            scaler = MinMaxScaler()\n",
    "            scaler.fit(raw_seq)\n",
    "\n",
    "            # Setting number of input and output/forecast steps\n",
    "            # 'From the past n_steps_in trading days, predict the next n_steps_out'\n",
    "            n_steps_in, n_steps_out = 100, 14\n",
    "\n",
    "            # Splitting the sequence\n",
    "            X, y = split_sequence(raw_seq, n_steps_in, n_steps_out)\n",
    "\n",
    "            # Number of features is one because time series is univariate\n",
    "            n_features = 1\n",
    "\n",
    "            # Reshape from (samples, timesteps) into (samples, timesteps, features)\n",
    "            X = X.reshape(X.shape[0], X.shape[1], n_features)\n",
    "\n",
    "            # Scaling X with normalization\n",
    "            for i in range(X.shape[0]):\n",
    "                    X[i] = scaler.transform(X[i])\n",
    "\n",
    "            # Define model architecture\n",
    "            model = Sequential()\n",
    "            model.add(LSTM(100, activation = 'tanh', return_sequences = True, input_shape = (n_steps_in, n_features)))\n",
    "            model.add(LSTM(50, activation = 'tanh'))\n",
    "            model.add(Dropout(.05))\n",
    "            model.add(Dense(25))\n",
    "            model.add(Dropout(.1))\n",
    "            model.add(Dense(n_steps_out))\n",
    "            model.compile(optimizer = 'adam', loss = 'mse')\n",
    "\n",
    "            # Instantiate History object to plot loss\n",
    "            history = History()\n",
    "\n",
    "            # Fit the model\n",
    "            model.fit(X, y, epochs = 250, verbose = False, shuffle = False, callbacks = history)\n",
    "\n",
    "            # Set train evaluation input and outputs\n",
    "            X_train = rnn_train.values[-(n_steps_in+n_steps_out):-n_steps_out]\n",
    "            y_train = rnn_train.values[-n_steps_out:]\n",
    "\n",
    "            # Reshape input\n",
    "            X_train = X_train.reshape(1, n_steps_in, n_features)\n",
    "\n",
    "            # Set test evaluation input and outputs\n",
    "            X_test = rnn_train.values[-n_steps_in:]\n",
    "            y_test = rnn_test.values\n",
    "\n",
    "            # Reshape input \n",
    "            X_test = X_test.reshape(1, n_steps_in, n_features)\n",
    "\n",
    "            # Predicting on train and test sets\n",
    "            y_pred_train = model.predict(X_train, verbose = False)[0]\n",
    "            y_pred_test = model.predict(X_test, verbose = False)[0]\n",
    "            # [0] is to access nested array\n",
    "\n",
    "            # Calculate RMSE for train and test predictions\n",
    "            result['train_rmse'] = np.sqrt(mean_squared_error(y_train, y_pred_train))\n",
    "            result['test_rmse'] = np.sqrt(mean_squared_error(y_test, y_pred_test))\n",
    "\n",
    "            # Define loss variable for plotting\n",
    "            result['loss'] = history.history['loss']\n",
    "\n",
    "            # Append result dictionary to results_list\n",
    "            results_list.append(result)\n",
    "            \n",
    "        except:\n",
    "            fail_cache.append(df['ticker'][0])\n",
    "            continue\n",
    "            \n",
    "    return results_list, fail_cache   "
   ]
  },
  {
   "cell_type": "code",
   "execution_count": 562,
   "metadata": {},
   "outputs": [
    {
     "name": "stdout",
     "output_type": "stream",
     "text": [
      "WARNING:tensorflow:5 out of the last 15 calls to <function Model.make_predict_function.<locals>.predict_function at 0x000001DD3C857550> triggered tf.function retracing. Tracing is expensive and the excessive number of tracings could be due to (1) creating @tf.function repeatedly in a loop, (2) passing tensors with different shapes, (3) passing Python objects instead of tensors. For (1), please define your @tf.function outside of the loop. For (2), @tf.function has experimental_relax_shapes=True option that relaxes argument shapes that can avoid unnecessary retracing. For (3), please refer to https://www.tensorflow.org/tutorials/customization/performance#python_or_tensor_args and https://www.tensorflow.org/api_docs/python/tf/function for  more details.\n",
      "WARNING:tensorflow:5 out of the last 11 calls to <function Model.make_predict_function.<locals>.predict_function at 0x000001DD3EBF85E0> triggered tf.function retracing. Tracing is expensive and the excessive number of tracings could be due to (1) creating @tf.function repeatedly in a loop, (2) passing tensors with different shapes, (3) passing Python objects instead of tensors. For (1), please define your @tf.function outside of the loop. For (2), @tf.function has experimental_relax_shapes=True option that relaxes argument shapes that can avoid unnecessary retracing. For (3), please refer to https://www.tensorflow.org/tutorials/customization/performance#python_or_tensor_args and https://www.tensorflow.org/api_docs/python/tf/function for  more details.\n",
      "WARNING:tensorflow:6 out of the last 13 calls to <function Model.make_predict_function.<locals>.predict_function at 0x000001DD42E7BEE0> triggered tf.function retracing. Tracing is expensive and the excessive number of tracings could be due to (1) creating @tf.function repeatedly in a loop, (2) passing tensors with different shapes, (3) passing Python objects instead of tensors. For (1), please define your @tf.function outside of the loop. For (2), @tf.function has experimental_relax_shapes=True option that relaxes argument shapes that can avoid unnecessary retracing. For (3), please refer to https://www.tensorflow.org/tutorials/customization/performance#python_or_tensor_args and https://www.tensorflow.org/api_docs/python/tf/function for  more details.\n"
     ]
    },
    {
     "ename": "KeyError",
     "evalue": "'ticker'",
     "output_type": "error",
     "traceback": [
      "\u001b[1;31m---------------------------------------------------------------------------\u001b[0m",
      "\u001b[1;31mValueError\u001b[0m                                Traceback (most recent call last)",
      "\u001b[1;32m<ipython-input-561-fc6ff3cef1fc>\u001b[0m in \u001b[0;36mrnn_multiple\u001b[1;34m(df_list, n_steps_in, n_steps_out, end_train_date, end_test_date)\u001b[0m\n\u001b[0;32m     82\u001b[0m             \u001b[1;31m# Calculate RMSE for train and test predictions\u001b[0m\u001b[1;33m\u001b[0m\u001b[1;33m\u001b[0m\u001b[1;33m\u001b[0m\u001b[0m\n\u001b[1;32m---> 83\u001b[1;33m             \u001b[0mresult\u001b[0m\u001b[1;33m[\u001b[0m\u001b[1;34m'train_rmse'\u001b[0m\u001b[1;33m]\u001b[0m \u001b[1;33m=\u001b[0m \u001b[0mnp\u001b[0m\u001b[1;33m.\u001b[0m\u001b[0msqrt\u001b[0m\u001b[1;33m(\u001b[0m\u001b[0mmean_squared_error\u001b[0m\u001b[1;33m(\u001b[0m\u001b[0my_train\u001b[0m\u001b[1;33m,\u001b[0m \u001b[0my_pred_train\u001b[0m\u001b[1;33m)\u001b[0m\u001b[1;33m)\u001b[0m\u001b[1;33m\u001b[0m\u001b[1;33m\u001b[0m\u001b[0m\n\u001b[0m\u001b[0;32m     84\u001b[0m             \u001b[0mresult\u001b[0m\u001b[1;33m[\u001b[0m\u001b[1;34m'test_rmse'\u001b[0m\u001b[1;33m]\u001b[0m \u001b[1;33m=\u001b[0m \u001b[0mnp\u001b[0m\u001b[1;33m.\u001b[0m\u001b[0msqrt\u001b[0m\u001b[1;33m(\u001b[0m\u001b[0mmean_squared_error\u001b[0m\u001b[1;33m(\u001b[0m\u001b[0my_test\u001b[0m\u001b[1;33m,\u001b[0m \u001b[0my_pred_test\u001b[0m\u001b[1;33m)\u001b[0m\u001b[1;33m)\u001b[0m\u001b[1;33m\u001b[0m\u001b[1;33m\u001b[0m\u001b[0m\n",
      "\u001b[1;32m~\\anaconda3\\envs\\learn-env\\lib\\site-packages\\sklearn\\utils\\validation.py\u001b[0m in \u001b[0;36minner_f\u001b[1;34m(*args, **kwargs)\u001b[0m\n\u001b[0;32m     71\u001b[0m         \u001b[0mkwargs\u001b[0m\u001b[1;33m.\u001b[0m\u001b[0mupdate\u001b[0m\u001b[1;33m(\u001b[0m\u001b[1;33m{\u001b[0m\u001b[0mk\u001b[0m\u001b[1;33m:\u001b[0m \u001b[0marg\u001b[0m \u001b[1;32mfor\u001b[0m \u001b[0mk\u001b[0m\u001b[1;33m,\u001b[0m \u001b[0marg\u001b[0m \u001b[1;32min\u001b[0m \u001b[0mzip\u001b[0m\u001b[1;33m(\u001b[0m\u001b[0msig\u001b[0m\u001b[1;33m.\u001b[0m\u001b[0mparameters\u001b[0m\u001b[1;33m,\u001b[0m \u001b[0margs\u001b[0m\u001b[1;33m)\u001b[0m\u001b[1;33m}\u001b[0m\u001b[1;33m)\u001b[0m\u001b[1;33m\u001b[0m\u001b[1;33m\u001b[0m\u001b[0m\n\u001b[1;32m---> 72\u001b[1;33m         \u001b[1;32mreturn\u001b[0m \u001b[0mf\u001b[0m\u001b[1;33m(\u001b[0m\u001b[1;33m**\u001b[0m\u001b[0mkwargs\u001b[0m\u001b[1;33m)\u001b[0m\u001b[1;33m\u001b[0m\u001b[1;33m\u001b[0m\u001b[0m\n\u001b[0m\u001b[0;32m     73\u001b[0m     \u001b[1;32mreturn\u001b[0m \u001b[0minner_f\u001b[0m\u001b[1;33m\u001b[0m\u001b[1;33m\u001b[0m\u001b[0m\n",
      "\u001b[1;32m~\\anaconda3\\envs\\learn-env\\lib\\site-packages\\sklearn\\metrics\\_regression.py\u001b[0m in \u001b[0;36mmean_squared_error\u001b[1;34m(y_true, y_pred, sample_weight, multioutput, squared)\u001b[0m\n\u001b[0;32m    254\u001b[0m     \"\"\"\n\u001b[1;32m--> 255\u001b[1;33m     y_type, y_true, y_pred, multioutput = _check_reg_targets(\n\u001b[0m\u001b[0;32m    256\u001b[0m         y_true, y_pred, multioutput)\n",
      "\u001b[1;32m~\\anaconda3\\envs\\learn-env\\lib\\site-packages\\sklearn\\metrics\\_regression.py\u001b[0m in \u001b[0;36m_check_reg_targets\u001b[1;34m(y_true, y_pred, multioutput, dtype)\u001b[0m\n\u001b[0;32m     85\u001b[0m     \u001b[0my_true\u001b[0m \u001b[1;33m=\u001b[0m \u001b[0mcheck_array\u001b[0m\u001b[1;33m(\u001b[0m\u001b[0my_true\u001b[0m\u001b[1;33m,\u001b[0m \u001b[0mensure_2d\u001b[0m\u001b[1;33m=\u001b[0m\u001b[1;32mFalse\u001b[0m\u001b[1;33m,\u001b[0m \u001b[0mdtype\u001b[0m\u001b[1;33m=\u001b[0m\u001b[0mdtype\u001b[0m\u001b[1;33m)\u001b[0m\u001b[1;33m\u001b[0m\u001b[1;33m\u001b[0m\u001b[0m\n\u001b[1;32m---> 86\u001b[1;33m     \u001b[0my_pred\u001b[0m \u001b[1;33m=\u001b[0m \u001b[0mcheck_array\u001b[0m\u001b[1;33m(\u001b[0m\u001b[0my_pred\u001b[0m\u001b[1;33m,\u001b[0m \u001b[0mensure_2d\u001b[0m\u001b[1;33m=\u001b[0m\u001b[1;32mFalse\u001b[0m\u001b[1;33m,\u001b[0m \u001b[0mdtype\u001b[0m\u001b[1;33m=\u001b[0m\u001b[0mdtype\u001b[0m\u001b[1;33m)\u001b[0m\u001b[1;33m\u001b[0m\u001b[1;33m\u001b[0m\u001b[0m\n\u001b[0m\u001b[0;32m     87\u001b[0m \u001b[1;33m\u001b[0m\u001b[0m\n",
      "\u001b[1;32m~\\anaconda3\\envs\\learn-env\\lib\\site-packages\\sklearn\\utils\\validation.py\u001b[0m in \u001b[0;36minner_f\u001b[1;34m(*args, **kwargs)\u001b[0m\n\u001b[0;32m     71\u001b[0m         \u001b[0mkwargs\u001b[0m\u001b[1;33m.\u001b[0m\u001b[0mupdate\u001b[0m\u001b[1;33m(\u001b[0m\u001b[1;33m{\u001b[0m\u001b[0mk\u001b[0m\u001b[1;33m:\u001b[0m \u001b[0marg\u001b[0m \u001b[1;32mfor\u001b[0m \u001b[0mk\u001b[0m\u001b[1;33m,\u001b[0m \u001b[0marg\u001b[0m \u001b[1;32min\u001b[0m \u001b[0mzip\u001b[0m\u001b[1;33m(\u001b[0m\u001b[0msig\u001b[0m\u001b[1;33m.\u001b[0m\u001b[0mparameters\u001b[0m\u001b[1;33m,\u001b[0m \u001b[0margs\u001b[0m\u001b[1;33m)\u001b[0m\u001b[1;33m}\u001b[0m\u001b[1;33m)\u001b[0m\u001b[1;33m\u001b[0m\u001b[1;33m\u001b[0m\u001b[0m\n\u001b[1;32m---> 72\u001b[1;33m         \u001b[1;32mreturn\u001b[0m \u001b[0mf\u001b[0m\u001b[1;33m(\u001b[0m\u001b[1;33m**\u001b[0m\u001b[0mkwargs\u001b[0m\u001b[1;33m)\u001b[0m\u001b[1;33m\u001b[0m\u001b[1;33m\u001b[0m\u001b[0m\n\u001b[0m\u001b[0;32m     73\u001b[0m     \u001b[1;32mreturn\u001b[0m \u001b[0minner_f\u001b[0m\u001b[1;33m\u001b[0m\u001b[1;33m\u001b[0m\u001b[0m\n",
      "\u001b[1;32m~\\anaconda3\\envs\\learn-env\\lib\\site-packages\\sklearn\\utils\\validation.py\u001b[0m in \u001b[0;36mcheck_array\u001b[1;34m(array, accept_sparse, accept_large_sparse, dtype, order, copy, force_all_finite, ensure_2d, allow_nd, ensure_min_samples, ensure_min_features, estimator)\u001b[0m\n\u001b[0;32m    643\u001b[0m         \u001b[1;32mif\u001b[0m \u001b[0mforce_all_finite\u001b[0m\u001b[1;33m:\u001b[0m\u001b[1;33m\u001b[0m\u001b[1;33m\u001b[0m\u001b[0m\n\u001b[1;32m--> 644\u001b[1;33m             _assert_all_finite(array,\n\u001b[0m\u001b[0;32m    645\u001b[0m                                allow_nan=force_all_finite == 'allow-nan')\n",
      "\u001b[1;32m~\\anaconda3\\envs\\learn-env\\lib\\site-packages\\sklearn\\utils\\validation.py\u001b[0m in \u001b[0;36m_assert_all_finite\u001b[1;34m(X, allow_nan, msg_dtype)\u001b[0m\n\u001b[0;32m     95\u001b[0m             \u001b[0mtype_err\u001b[0m \u001b[1;33m=\u001b[0m \u001b[1;34m'infinity'\u001b[0m \u001b[1;32mif\u001b[0m \u001b[0mallow_nan\u001b[0m \u001b[1;32melse\u001b[0m \u001b[1;34m'NaN, infinity'\u001b[0m\u001b[1;33m\u001b[0m\u001b[1;33m\u001b[0m\u001b[0m\n\u001b[1;32m---> 96\u001b[1;33m             raise ValueError(\n\u001b[0m\u001b[0;32m     97\u001b[0m                     \u001b[0mmsg_err\u001b[0m\u001b[1;33m.\u001b[0m\u001b[0mformat\u001b[0m\u001b[1;33m\u001b[0m\u001b[1;33m\u001b[0m\u001b[0m\n",
      "\u001b[1;31mValueError\u001b[0m: Input contains NaN, infinity or a value too large for dtype('float32').",
      "\nDuring handling of the above exception, another exception occurred:\n",
      "\u001b[1;31mParserError\u001b[0m                               Traceback (most recent call last)",
      "\u001b[1;32mpandas\\_libs\\tslibs\\conversion.pyx\u001b[0m in \u001b[0;36mpandas._libs.tslibs.conversion._convert_str_to_tsobject\u001b[1;34m()\u001b[0m\n",
      "\u001b[1;32mpandas\\_libs\\tslibs\\parsing.pyx\u001b[0m in \u001b[0;36mpandas._libs.tslibs.parsing.parse_datetime_string\u001b[1;34m()\u001b[0m\n",
      "\u001b[1;32m~\\anaconda3\\envs\\learn-env\\lib\\site-packages\\dateutil\\parser\\_parser.py\u001b[0m in \u001b[0;36mparse\u001b[1;34m(timestr, parserinfo, **kwargs)\u001b[0m\n\u001b[0;32m   1373\u001b[0m     \u001b[1;32melse\u001b[0m\u001b[1;33m:\u001b[0m\u001b[1;33m\u001b[0m\u001b[1;33m\u001b[0m\u001b[0m\n\u001b[1;32m-> 1374\u001b[1;33m         \u001b[1;32mreturn\u001b[0m \u001b[0mDEFAULTPARSER\u001b[0m\u001b[1;33m.\u001b[0m\u001b[0mparse\u001b[0m\u001b[1;33m(\u001b[0m\u001b[0mtimestr\u001b[0m\u001b[1;33m,\u001b[0m \u001b[1;33m**\u001b[0m\u001b[0mkwargs\u001b[0m\u001b[1;33m)\u001b[0m\u001b[1;33m\u001b[0m\u001b[1;33m\u001b[0m\u001b[0m\n\u001b[0m\u001b[0;32m   1375\u001b[0m \u001b[1;33m\u001b[0m\u001b[0m\n",
      "\u001b[1;32m~\\anaconda3\\envs\\learn-env\\lib\\site-packages\\dateutil\\parser\\_parser.py\u001b[0m in \u001b[0;36mparse\u001b[1;34m(self, timestr, default, ignoretz, tzinfos, **kwargs)\u001b[0m\n\u001b[0;32m    648\u001b[0m         \u001b[1;32mif\u001b[0m \u001b[0mres\u001b[0m \u001b[1;32mis\u001b[0m \u001b[1;32mNone\u001b[0m\u001b[1;33m:\u001b[0m\u001b[1;33m\u001b[0m\u001b[1;33m\u001b[0m\u001b[0m\n\u001b[1;32m--> 649\u001b[1;33m             \u001b[1;32mraise\u001b[0m \u001b[0mParserError\u001b[0m\u001b[1;33m(\u001b[0m\u001b[1;34m\"Unknown string format: %s\"\u001b[0m\u001b[1;33m,\u001b[0m \u001b[0mtimestr\u001b[0m\u001b[1;33m)\u001b[0m\u001b[1;33m\u001b[0m\u001b[1;33m\u001b[0m\u001b[0m\n\u001b[0m\u001b[0;32m    650\u001b[0m \u001b[1;33m\u001b[0m\u001b[0m\n",
      "\u001b[1;31mParserError\u001b[0m: Unknown string format: ticker",
      "\nDuring handling of the above exception, another exception occurred:\n",
      "\u001b[1;31mValueError\u001b[0m                                Traceback (most recent call last)",
      "\u001b[1;32m~\\anaconda3\\envs\\learn-env\\lib\\site-packages\\pandas\\core\\indexes\\datetimes.py\u001b[0m in \u001b[0;36mget_loc\u001b[1;34m(self, key, method, tolerance)\u001b[0m\n\u001b[0;32m    602\u001b[0m             \u001b[1;32mtry\u001b[0m\u001b[1;33m:\u001b[0m\u001b[1;33m\u001b[0m\u001b[1;33m\u001b[0m\u001b[0m\n\u001b[1;32m--> 603\u001b[1;33m                 \u001b[0mkey\u001b[0m \u001b[1;33m=\u001b[0m \u001b[0mself\u001b[0m\u001b[1;33m.\u001b[0m\u001b[0m_maybe_cast_for_get_loc\u001b[0m\u001b[1;33m(\u001b[0m\u001b[0mkey\u001b[0m\u001b[1;33m)\u001b[0m\u001b[1;33m\u001b[0m\u001b[1;33m\u001b[0m\u001b[0m\n\u001b[0m\u001b[0;32m    604\u001b[0m             \u001b[1;32mexcept\u001b[0m \u001b[0mValueError\u001b[0m \u001b[1;32mas\u001b[0m \u001b[0merr\u001b[0m\u001b[1;33m:\u001b[0m\u001b[1;33m\u001b[0m\u001b[1;33m\u001b[0m\u001b[0m\n",
      "\u001b[1;32m~\\anaconda3\\envs\\learn-env\\lib\\site-packages\\pandas\\core\\indexes\\datetimes.py\u001b[0m in \u001b[0;36m_maybe_cast_for_get_loc\u001b[1;34m(self, key)\u001b[0m\n\u001b[0;32m    630\u001b[0m         \u001b[1;31m# needed to localize naive datetimes\u001b[0m\u001b[1;33m\u001b[0m\u001b[1;33m\u001b[0m\u001b[1;33m\u001b[0m\u001b[0m\n\u001b[1;32m--> 631\u001b[1;33m         \u001b[0mkey\u001b[0m \u001b[1;33m=\u001b[0m \u001b[0mTimestamp\u001b[0m\u001b[1;33m(\u001b[0m\u001b[0mkey\u001b[0m\u001b[1;33m)\u001b[0m\u001b[1;33m\u001b[0m\u001b[1;33m\u001b[0m\u001b[0m\n\u001b[0m\u001b[0;32m    632\u001b[0m         \u001b[1;32mif\u001b[0m \u001b[0mkey\u001b[0m\u001b[1;33m.\u001b[0m\u001b[0mtzinfo\u001b[0m \u001b[1;32mis\u001b[0m \u001b[1;32mNone\u001b[0m\u001b[1;33m:\u001b[0m\u001b[1;33m\u001b[0m\u001b[1;33m\u001b[0m\u001b[0m\n",
      "\u001b[1;32mpandas\\_libs\\tslibs\\timestamps.pyx\u001b[0m in \u001b[0;36mpandas._libs.tslibs.timestamps.Timestamp.__new__\u001b[1;34m()\u001b[0m\n",
      "\u001b[1;32mpandas\\_libs\\tslibs\\conversion.pyx\u001b[0m in \u001b[0;36mpandas._libs.tslibs.conversion.convert_to_tsobject\u001b[1;34m()\u001b[0m\n",
      "\u001b[1;32mpandas\\_libs\\tslibs\\conversion.pyx\u001b[0m in \u001b[0;36mpandas._libs.tslibs.conversion._convert_str_to_tsobject\u001b[1;34m()\u001b[0m\n",
      "\u001b[1;31mValueError\u001b[0m: could not convert string to Timestamp",
      "\nThe above exception was the direct cause of the following exception:\n",
      "\u001b[1;31mKeyError\u001b[0m                                  Traceback (most recent call last)",
      "\u001b[1;32m<ipython-input-562-f6ff55bedfdd>\u001b[0m in \u001b[0;36m<module>\u001b[1;34m\u001b[0m\n\u001b[1;32m----> 1\u001b[1;33m rnn_list, rnn_failed = rnn_multiple(cm_df_list, \n\u001b[0m\u001b[0;32m      2\u001b[0m                                     \u001b[0mn_steps_in\u001b[0m \u001b[1;33m=\u001b[0m \u001b[1;36m100\u001b[0m\u001b[1;33m,\u001b[0m\u001b[1;33m\u001b[0m\u001b[1;33m\u001b[0m\u001b[0m\n\u001b[0;32m      3\u001b[0m                                     \u001b[0mn_steps_out\u001b[0m \u001b[1;33m=\u001b[0m \u001b[1;36m14\u001b[0m\u001b[1;33m,\u001b[0m\u001b[1;33m\u001b[0m\u001b[1;33m\u001b[0m\u001b[0m\n\u001b[0;32m      4\u001b[0m                                     \u001b[0mend_train_date\u001b[0m \u001b[1;33m=\u001b[0m \u001b[0mend_train_date\u001b[0m\u001b[1;33m,\u001b[0m\u001b[1;33m\u001b[0m\u001b[1;33m\u001b[0m\u001b[0m\n\u001b[0;32m      5\u001b[0m                                     end_test_date = end_test_date)\n",
      "\u001b[1;32m<ipython-input-561-fc6ff3cef1fc>\u001b[0m in \u001b[0;36mrnn_multiple\u001b[1;34m(df_list, n_steps_in, n_steps_out, end_train_date, end_test_date)\u001b[0m\n\u001b[0;32m     91\u001b[0m \u001b[1;33m\u001b[0m\u001b[0m\n\u001b[0;32m     92\u001b[0m         \u001b[1;32mexcept\u001b[0m\u001b[1;33m:\u001b[0m\u001b[1;33m\u001b[0m\u001b[1;33m\u001b[0m\u001b[0m\n\u001b[1;32m---> 93\u001b[1;33m             \u001b[0mfail_cache\u001b[0m\u001b[1;33m.\u001b[0m\u001b[0mappend\u001b[0m\u001b[1;33m(\u001b[0m\u001b[0mdf\u001b[0m\u001b[1;33m[\u001b[0m\u001b[1;34m'ticker'\u001b[0m\u001b[1;33m]\u001b[0m\u001b[1;33m[\u001b[0m\u001b[1;36m0\u001b[0m\u001b[1;33m]\u001b[0m\u001b[1;33m)\u001b[0m\u001b[1;33m\u001b[0m\u001b[1;33m\u001b[0m\u001b[0m\n\u001b[0m\u001b[0;32m     94\u001b[0m             \u001b[1;32mcontinue\u001b[0m\u001b[1;33m\u001b[0m\u001b[1;33m\u001b[0m\u001b[0m\n\u001b[0;32m     95\u001b[0m \u001b[1;33m\u001b[0m\u001b[0m\n",
      "\u001b[1;32m~\\anaconda3\\envs\\learn-env\\lib\\site-packages\\pandas\\core\\series.py\u001b[0m in \u001b[0;36m__getitem__\u001b[1;34m(self, key)\u001b[0m\n\u001b[0;32m    880\u001b[0m \u001b[1;33m\u001b[0m\u001b[0m\n\u001b[0;32m    881\u001b[0m         \u001b[1;32melif\u001b[0m \u001b[0mkey_is_scalar\u001b[0m\u001b[1;33m:\u001b[0m\u001b[1;33m\u001b[0m\u001b[1;33m\u001b[0m\u001b[0m\n\u001b[1;32m--> 882\u001b[1;33m             \u001b[1;32mreturn\u001b[0m \u001b[0mself\u001b[0m\u001b[1;33m.\u001b[0m\u001b[0m_get_value\u001b[0m\u001b[1;33m(\u001b[0m\u001b[0mkey\u001b[0m\u001b[1;33m)\u001b[0m\u001b[1;33m\u001b[0m\u001b[1;33m\u001b[0m\u001b[0m\n\u001b[0m\u001b[0;32m    883\u001b[0m \u001b[1;33m\u001b[0m\u001b[0m\n\u001b[0;32m    884\u001b[0m         \u001b[1;32mif\u001b[0m \u001b[0mis_hashable\u001b[0m\u001b[1;33m(\u001b[0m\u001b[0mkey\u001b[0m\u001b[1;33m)\u001b[0m\u001b[1;33m:\u001b[0m\u001b[1;33m\u001b[0m\u001b[1;33m\u001b[0m\u001b[0m\n",
      "\u001b[1;32m~\\anaconda3\\envs\\learn-env\\lib\\site-packages\\pandas\\core\\series.py\u001b[0m in \u001b[0;36m_get_value\u001b[1;34m(self, label, takeable)\u001b[0m\n\u001b[0;32m    987\u001b[0m \u001b[1;33m\u001b[0m\u001b[0m\n\u001b[0;32m    988\u001b[0m         \u001b[1;31m# Similar to Index.get_value, but we do not fall back to positional\u001b[0m\u001b[1;33m\u001b[0m\u001b[1;33m\u001b[0m\u001b[1;33m\u001b[0m\u001b[0m\n\u001b[1;32m--> 989\u001b[1;33m         \u001b[0mloc\u001b[0m \u001b[1;33m=\u001b[0m \u001b[0mself\u001b[0m\u001b[1;33m.\u001b[0m\u001b[0mindex\u001b[0m\u001b[1;33m.\u001b[0m\u001b[0mget_loc\u001b[0m\u001b[1;33m(\u001b[0m\u001b[0mlabel\u001b[0m\u001b[1;33m)\u001b[0m\u001b[1;33m\u001b[0m\u001b[1;33m\u001b[0m\u001b[0m\n\u001b[0m\u001b[0;32m    990\u001b[0m         \u001b[1;32mreturn\u001b[0m \u001b[0mself\u001b[0m\u001b[1;33m.\u001b[0m\u001b[0mindex\u001b[0m\u001b[1;33m.\u001b[0m\u001b[0m_get_values_for_loc\u001b[0m\u001b[1;33m(\u001b[0m\u001b[0mself\u001b[0m\u001b[1;33m,\u001b[0m \u001b[0mloc\u001b[0m\u001b[1;33m,\u001b[0m \u001b[0mlabel\u001b[0m\u001b[1;33m)\u001b[0m\u001b[1;33m\u001b[0m\u001b[1;33m\u001b[0m\u001b[0m\n\u001b[0;32m    991\u001b[0m \u001b[1;33m\u001b[0m\u001b[0m\n",
      "\u001b[1;32m~\\anaconda3\\envs\\learn-env\\lib\\site-packages\\pandas\\core\\indexes\\datetimes.py\u001b[0m in \u001b[0;36mget_loc\u001b[1;34m(self, key, method, tolerance)\u001b[0m\n\u001b[0;32m    603\u001b[0m                 \u001b[0mkey\u001b[0m \u001b[1;33m=\u001b[0m \u001b[0mself\u001b[0m\u001b[1;33m.\u001b[0m\u001b[0m_maybe_cast_for_get_loc\u001b[0m\u001b[1;33m(\u001b[0m\u001b[0mkey\u001b[0m\u001b[1;33m)\u001b[0m\u001b[1;33m\u001b[0m\u001b[1;33m\u001b[0m\u001b[0m\n\u001b[0;32m    604\u001b[0m             \u001b[1;32mexcept\u001b[0m \u001b[0mValueError\u001b[0m \u001b[1;32mas\u001b[0m \u001b[0merr\u001b[0m\u001b[1;33m:\u001b[0m\u001b[1;33m\u001b[0m\u001b[1;33m\u001b[0m\u001b[0m\n\u001b[1;32m--> 605\u001b[1;33m                 \u001b[1;32mraise\u001b[0m \u001b[0mKeyError\u001b[0m\u001b[1;33m(\u001b[0m\u001b[0mkey\u001b[0m\u001b[1;33m)\u001b[0m \u001b[1;32mfrom\u001b[0m \u001b[0merr\u001b[0m\u001b[1;33m\u001b[0m\u001b[1;33m\u001b[0m\u001b[0m\n\u001b[0m\u001b[0;32m    606\u001b[0m \u001b[1;33m\u001b[0m\u001b[0m\n\u001b[0;32m    607\u001b[0m         \u001b[1;32melif\u001b[0m \u001b[0misinstance\u001b[0m\u001b[1;33m(\u001b[0m\u001b[0mkey\u001b[0m\u001b[1;33m,\u001b[0m \u001b[0mtimedelta\u001b[0m\u001b[1;33m)\u001b[0m\u001b[1;33m:\u001b[0m\u001b[1;33m\u001b[0m\u001b[1;33m\u001b[0m\u001b[0m\n",
      "\u001b[1;31mKeyError\u001b[0m: 'ticker'"
     ]
    }
   ],
   "source": [
    "rnn_list, rnn_failed = rnn_multiple(cm_df_list, \n",
    "                                    n_steps_in = 100, \n",
    "                                    n_steps_out = 14, \n",
    "                                    end_train_date = end_train_date, \n",
    "                                    end_test_date = end_test_date)"
   ]
  },
  {
   "cell_type": "code",
   "execution_count": 563,
   "metadata": {},
   "outputs": [
    {
     "ename": "NameError",
     "evalue": "name 'rnn_list' is not defined",
     "output_type": "error",
     "traceback": [
      "\u001b[1;31m---------------------------------------------------------------------------\u001b[0m",
      "\u001b[1;31mNameError\u001b[0m                                 Traceback (most recent call last)",
      "\u001b[1;32m<ipython-input-563-b35b581eac07>\u001b[0m in \u001b[0;36m<module>\u001b[1;34m\u001b[0m\n\u001b[1;32m----> 1\u001b[1;33m \u001b[0mrnn_list\u001b[0m\u001b[1;33m\u001b[0m\u001b[1;33m\u001b[0m\u001b[0m\n\u001b[0m",
      "\u001b[1;31mNameError\u001b[0m: name 'rnn_list' is not defined"
     ]
    }
   ],
   "source": [
    "rnn_list"
   ]
  },
  {
   "cell_type": "code",
   "execution_count": null,
   "metadata": {},
   "outputs": [],
   "source": []
  },
  {
   "cell_type": "markdown",
   "metadata": {},
   "source": [
    "## Conclusion and Next Steps"
   ]
  },
  {
   "cell_type": "markdown",
   "metadata": {},
   "source": [
    "The highest performing classification model was the KNN, though this is only on a sample of 8 out of 160. I'd like to predict on the entire set of 160, add additional models, and add an ensemble voting classifier.\n",
    "\n",
    "For the eight small cap stocks I employed an ARMA model on, the average RMSE accross the 14 days was .287.\n",
    "\n",
    "To further improve the models I have, I'd like to add more features, such as momentum indicators like Moving Average Convergence/Divergence (MACD) and Relative Strength Index (RSI), as well as a volatility indicator like Standard Deviation or Beta. I'd also like to add a percent-change-in-volume feature."
   ]
  },
  {
   "cell_type": "code",
   "execution_count": null,
   "metadata": {},
   "outputs": [],
   "source": [
    "def split_sequence(sequence, n_steps_in, n_steps_out):\n",
    "    \"\"\"\n",
    "    Split a sequence into samples\n",
    "    \"\"\"\n",
    "    X, y = list(), list()\n",
    "    for i in range(len(sequence)):\n",
    "        # find the end of this pattern\n",
    "        end_ix = i + n_steps_in\n",
    "        out_end_ix = end_ix + n_steps_out\n",
    "        # check if we are beyond the sequence\n",
    "        if out_end_ix > len(sequence):\n",
    "            break\n",
    "        # gather input and output parts of the pattern\n",
    "        seq_x, seq_y = sequence[i:end_ix], sequence[end_ix:out_end_ix]\n",
    "        X.append(seq_x)\n",
    "        y.append(seq_y)\n",
    "    return np.array(X), np.array(y)"
   ]
  }
 ],
 "metadata": {
  "kernelspec": {
   "display_name": "learn-env",
   "language": "python",
   "name": "learn-env"
  },
  "language_info": {
   "codemirror_mode": {
    "name": "ipython",
    "version": 3
   },
   "file_extension": ".py",
   "mimetype": "text/x-python",
   "name": "python",
   "nbconvert_exporter": "python",
   "pygments_lexer": "ipython3",
   "version": "3.8.5"
  }
 },
 "nbformat": 4,
 "nbformat_minor": 4
}
