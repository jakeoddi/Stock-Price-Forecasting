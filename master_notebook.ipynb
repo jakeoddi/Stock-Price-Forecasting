{
 "cells": [
  {
   "cell_type": "markdown",
   "metadata": {},
   "source": [
    "# Small-Cap Stock Price-Movement Prediction and Price-Target Forecasting"
   ]
  },
  {
   "cell_type": "markdown",
   "metadata": {},
   "source": [
    "#### Author: Jake Oddi"
   ]
  },
  {
   "cell_type": "markdown",
   "metadata": {},
   "source": [
    "## Business Problem"
   ]
  },
  {
   "cell_type": "markdown",
   "metadata": {},
   "source": [
    "Quantitative analysis of stocks has become increasingly popular over the past decades, to the point where it is ubiqiutous among insitutional investors. Among individual investors, however, it is less widespread. This is due to a general lack of the technical skills required to perform such analysis. I ran into this issue myself when constructing my portfolio. I predict an easy-to-use, open-source model would serve to benefit this population. \n",
    "\n",
    "This project applies classification methods to the daily price data of stocks with market capitalizations between \\\\$75M and \\\\$1B from the past three years to predict intraday price movements. Instances where the closing price exceeds the opening price are considered positive cases, and instances where the opposite is true are considered negative. The timescale for this data (daily) meant predicting the position of closing price relative to opening price was a desirable classification problem, as it is harder to do with time series modeling. Conversely, time series modeling to predict exact price is much better suited to interday prices, which is what I use it for. \n",
    "\n",
    "My analysis focuses on small-cap companies because they typically see lower trading volumes, and therefore have more inefficiencies that can be exploited and less noisey trading prices. Conversely, this makes trades harder to execute at desirable prices. \n",
    "\n",
    "Predictions of price-movement direction and price-target are nowhere near perfect, and should only be used in conjunction with additional information. In general, quantitative analysis should be combined with fundamental analysis.\n",
    "\n",
    "To use the following project for one's own analysis, one must first create a TD Ameritrade Developer account, create an app, and fetch his or her API key, replacing mine in the form of the 'consumer_key' variable. Next, under the 'Selection' section, one should change the 'ticker_list' variable to include whichever tickers are to be included in his or her model. This will allow one to run the rest of the code and yield the same analysis as is already shown."
   ]
  },
  {
   "cell_type": "code",
   "execution_count": 451,
   "metadata": {},
   "outputs": [
    {
     "name": "stdout",
     "output_type": "stream",
     "text": [
      "The autoreload extension is already loaded. To reload it, use:\n",
      "  %reload_ext autoreload\n"
     ]
    }
   ],
   "source": [
    "import pandas as pd\n",
    "import numpy as np\n",
    "np.random.seed(seed = 1)\n",
    "import matplotlib.pyplot as plt\n",
    "%matplotlib inline\n",
    "import seaborn as sns\n",
    "import requests\n",
    "import json\n",
    "import time\n",
    "from config import ameritrade_credentials\n",
    "import price_forecasting_code.functions as fn\n",
    "from sklearn.preprocessing import StandardScaler\n",
    "from sklearn.model_selection import GridSearchCV\n",
    "from sklearn.metrics import accuracy_score, f1_score, precision_score, recall_score\n",
    "from sklearn.neighbors import KNeighborsClassifier\n",
    "from sklearn.ensemble import RandomForestClassifier\n",
    "from statsmodels.graphics.tsaplots import plot_acf, plot_pacf\n",
    "from statsmodels.tsa.arima_model import ARMA\n",
    "from statsmodels.tsa.seasonal import seasonal_decompose\n",
    "from statsmodels.tsa.statespace.sarimax import SARIMAX\n",
    "from statsmodels.tsa.stattools import adfuller\n",
    "from sklearn.metrics import mean_squared_error\n",
    "import itertools\n",
    "import statsmodels.api as sm\n",
    "import warnings\n",
    "import tensorflow as tf\n",
    "tf.random.set_seed(2)\n",
    "from keras.models import Sequential\n",
    "from keras.layers import LSTM\n",
    "from keras.layers import Dense\n",
    "from keras.layers import Dropout\n",
    "from keras.layers import Bidirectional\n",
    "from keras.callbacks import History\n",
    "from sklearn.preprocessing import MinMaxScaler\n",
    "warnings.filterwarnings('ignore')\n",
    "%load_ext autoreload\n",
    "%autoreload 2"
   ]
  },
  {
   "cell_type": "markdown",
   "metadata": {},
   "source": [
    "## Data Understanding"
   ]
  },
  {
   "cell_type": "markdown",
   "metadata": {},
   "source": [
    "### Data Acquisition"
   ]
  },
  {
   "cell_type": "markdown",
   "metadata": {},
   "source": [
    "To decide which companies to model, I employed a stock screener from [TD Ameritrade](https://research.tdameritrade.com/grid/public/screener/stocks/overview.asp) to select stocks with market caps within my desired range. This yielded 8027 results. I filtered this down to 3055 results by removing companies worth less than \\\\$75M, as many companies below that threshold had such low trading volumnes that they were not conducive to modeling. For the sake of ease-of-use and proof-of-concept, I filtered this down further by randomly sampling 500. I then gathered daily price data from the past three years using [TD Ameritrade's Price History API](https://developer.tdameritrade.com/price-history/apis). Of these 500, the API failed for 157, leaving 343. Of the remaining, I selected only those with 756 days of data to use in my analysis, leaving me with 160 stocks. "
   ]
  },
  {
   "cell_type": "code",
   "execution_count": 3,
   "metadata": {},
   "outputs": [
    {
     "data": {
      "text/html": [
       "<div>\n",
       "<style scoped>\n",
       "    .dataframe tbody tr th:only-of-type {\n",
       "        vertical-align: middle;\n",
       "    }\n",
       "\n",
       "    .dataframe tbody tr th {\n",
       "        vertical-align: top;\n",
       "    }\n",
       "\n",
       "    .dataframe thead th {\n",
       "        text-align: right;\n",
       "    }\n",
       "</style>\n",
       "<table border=\"1\" class=\"dataframe\">\n",
       "  <thead>\n",
       "    <tr style=\"text-align: right;\">\n",
       "      <th></th>\n",
       "      <th>Symbol</th>\n",
       "      <th>Company Name</th>\n",
       "      <th>Market Capitalization</th>\n",
       "      <th>Sector</th>\n",
       "      <th>Industry</th>\n",
       "      <th>Dividend Yield</th>\n",
       "      <th>Beta</th>\n",
       "    </tr>\n",
       "  </thead>\n",
       "  <tbody>\n",
       "    <tr>\n",
       "      <th>0</th>\n",
       "      <td>AAAIF</td>\n",
       "      <td>ALTERNATIVE INVESTMENT TRUST UNITS</td>\n",
       "      <td>2.856715e+07</td>\n",
       "      <td>NaN</td>\n",
       "      <td>NaN</td>\n",
       "      <td>--</td>\n",
       "      <td>+0.2</td>\n",
       "    </tr>\n",
       "    <tr>\n",
       "      <th>1</th>\n",
       "      <td>AACG</td>\n",
       "      <td>ATA Creativity Global(ADR)</td>\n",
       "      <td>3.713346e+07</td>\n",
       "      <td>Consumer Discretionary</td>\n",
       "      <td>Diversified Consumer Services</td>\n",
       "      <td>--</td>\n",
       "      <td>+1.7</td>\n",
       "    </tr>\n",
       "    <tr>\n",
       "      <th>2</th>\n",
       "      <td>AACH</td>\n",
       "      <td>AAC Holdings Inc</td>\n",
       "      <td>4.025300e+05</td>\n",
       "      <td>Health Care</td>\n",
       "      <td>Health Care Providers &amp; Services</td>\n",
       "      <td>--</td>\n",
       "      <td>+2.7</td>\n",
       "    </tr>\n",
       "    <tr>\n",
       "      <th>3</th>\n",
       "      <td>AACQ</td>\n",
       "      <td>Artius Acquisition Inc</td>\n",
       "      <td>9.341573e+08</td>\n",
       "      <td>NaN</td>\n",
       "      <td>NaN</td>\n",
       "      <td>--</td>\n",
       "      <td>--</td>\n",
       "    </tr>\n",
       "    <tr>\n",
       "      <th>4</th>\n",
       "      <td>AACS</td>\n",
       "      <td>American Commerce Solutions, Inc.</td>\n",
       "      <td>6.946900e+05</td>\n",
       "      <td>Industrials</td>\n",
       "      <td>Road &amp; Rail</td>\n",
       "      <td>--</td>\n",
       "      <td>-1.0</td>\n",
       "    </tr>\n",
       "  </tbody>\n",
       "</table>\n",
       "</div>"
      ],
      "text/plain": [
       "  Symbol                        Company Name  Market Capitalization  \\\n",
       "0  AAAIF  ALTERNATIVE INVESTMENT TRUST UNITS           2.856715e+07   \n",
       "1   AACG          ATA Creativity Global(ADR)           3.713346e+07   \n",
       "2   AACH                    AAC Holdings Inc           4.025300e+05   \n",
       "3   AACQ              Artius Acquisition Inc           9.341573e+08   \n",
       "4   AACS   American Commerce Solutions, Inc.           6.946900e+05   \n",
       "\n",
       "                   Sector                          Industry Dividend Yield  \\\n",
       "0                     NaN                               NaN             --   \n",
       "1  Consumer Discretionary     Diversified Consumer Services             --   \n",
       "2             Health Care  Health Care Providers & Services             --   \n",
       "3                     NaN                               NaN             --   \n",
       "4             Industrials                       Road & Rail             --   \n",
       "\n",
       "   Beta  \n",
       "0  +0.2  \n",
       "1  +1.7  \n",
       "2  +2.7  \n",
       "3    --  \n",
       "4  -1.0  "
      ]
     },
     "execution_count": 3,
     "metadata": {},
     "output_type": "execute_result"
    }
   ],
   "source": [
    "# Read in the screener\n",
    "screen = pd.read_csv('./data./ameritrade_stock_screener.csv', header = 0)\n",
    "\n",
    "# Take a first look\n",
    "screen.head()"
   ]
  },
  {
   "cell_type": "markdown",
   "metadata": {},
   "source": [
    "#### Screener Cleaning"
   ]
  },
  {
   "cell_type": "code",
   "execution_count": 4,
   "metadata": {},
   "outputs": [],
   "source": [
    "# Rename screener columns\n",
    "screen.columns = ['ticker', 'company', 'market_cap', 'sector', 'industry', 'dividend_yield', 'beta']\n",
    "\n",
    "# Screening only for companies worth > $75M\n",
    "screen = screen[screen['market_cap'] >= 75000000]"
   ]
  },
  {
   "cell_type": "markdown",
   "metadata": {},
   "source": [
    "#### Selection"
   ]
  },
  {
   "cell_type": "code",
   "execution_count": 5,
   "metadata": {},
   "outputs": [],
   "source": [
    "# Instantiate a list of 500 random integers for selection of df indices from the screener\n",
    "rand_list = np.random.randint(0, screen.shape[0], 500)\n",
    "\n",
    "# Filter the screener using the list of random indices\n",
    "filtered_screen = screen.iloc[rand_list]\n",
    "\n",
    "# Create a list of the tickers of all stocks selected by the filter\n",
    "ticker_list = filtered_screen['ticker'].values"
   ]
  },
  {
   "cell_type": "markdown",
   "metadata": {},
   "source": [
    "#### API Call - Configuration"
   ]
  },
  {
   "cell_type": "markdown",
   "metadata": {},
   "source": [
    "In one's own analysis using Ameritrade's API, he or she must use their own API key in place of my 'consumer_key' variable."
   ]
  },
  {
   "cell_type": "code",
   "execution_count": 6,
   "metadata": {},
   "outputs": [],
   "source": [
    "# Import personal client ID\n",
    "client_id = ameritrade_credentials.consumer_key\n",
    "\n",
    "# Set payload params\n",
    "period = '3'\n",
    "period_type = 'year'\n",
    "frequency = '1'\n",
    "frequency_type = 'daily'\n",
    "start_date = '1512172799'\n",
    "end_date = '1606867199'\n",
    "\n",
    "# Define payload\n",
    "payload = {'apikey': client_id,\n",
    "           'periodType': period_type,\n",
    "           'frequencyType': frequency_type,\n",
    "           'frequency': frequency,\n",
    "           'period': period,\n",
    "#            'endDate': end_date,\n",
    "#            'startDate': start_date,\n",
    "           'needExtendedHoursData': 'false'\n",
    "          }"
   ]
  },
  {
   "cell_type": "markdown",
   "metadata": {},
   "source": [
    "#### API Call"
   ]
  },
  {
   "cell_type": "code",
   "execution_count": 7,
   "metadata": {},
   "outputs": [],
   "source": [
    "def get_data_from_ameritrade(ticker_list, payload):\n",
    "    \"\"\"\n",
    "    Takes in list of tickers and payload and returns complete dataframe with all \n",
    "    tickers and prices.\n",
    "    \n",
    "    ticker_list -- array of strings containing n number of tickers\n",
    "    payload -- dictionary containing parameters for API call\n",
    "    \"\"\"\n",
    "    df_list = []\n",
    "    fail_cache = []\n",
    "    payload = payload\n",
    "    for ticker in ticker_list:\n",
    "        # Define endpoint\n",
    "        endpoint = r'https://api.tdameritrade.com/v1/marketdata/{}/pricehistory'.format(ticker)\n",
    "        \n",
    "        try:\n",
    "            # Make Request\n",
    "            content = requests.get(url = endpoint, params = payload)\n",
    "\n",
    "            # Convert to dataframe\n",
    "            data = content.json()\n",
    "            data = pd.DataFrame(data = data['candles'])\n",
    "            data['ticker'] = ticker\n",
    "\n",
    "            # Append to list of dataframes\n",
    "            df_list.append(data)\n",
    "            \n",
    "        except:\n",
    "            # Append problematic ticker to list of failed tickers\n",
    "            fail_cache.append(ticker)\n",
    "            continue\n",
    "    \n",
    "    return df_list, fail_cache"
   ]
  },
  {
   "cell_type": "code",
   "execution_count": 8,
   "metadata": {},
   "outputs": [],
   "source": [
    "# A list of dfs is instantiated, where each stock's data is stored in a dataframe\n",
    "df_list, fail_cache = get_data_from_ameritrade(ticker_list, payload)"
   ]
  },
  {
   "cell_type": "code",
   "execution_count": 9,
   "metadata": {},
   "outputs": [
    {
     "name": "stdout",
     "output_type": "stream",
     "text": [
      "Length of df_list: 443\n",
      "Length of fail_cache 57\n"
     ]
    }
   ],
   "source": [
    "print('Length of df_list:', len(df_list))\n",
    "print('Length of fail_cache', len(fail_cache))"
   ]
  },
  {
   "cell_type": "markdown",
   "metadata": {},
   "source": [
    "#### Final Filtering"
   ]
  },
  {
   "cell_type": "markdown",
   "metadata": {},
   "source": [
    "The last step in the filtering process cuts the number of stocks down to 160."
   ]
  },
  {
   "cell_type": "code",
   "execution_count": 10,
   "metadata": {},
   "outputs": [],
   "source": [
    "# Filtering only for stocks with greater than 755 days of price data\n",
    "df_list = list(filter(lambda x: x.shape[0] >= 755, df_list))"
   ]
  },
  {
   "cell_type": "code",
   "execution_count": 11,
   "metadata": {},
   "outputs": [
    {
     "data": {
      "text/plain": [
       "220"
      ]
     },
     "execution_count": 11,
     "metadata": {},
     "output_type": "execute_result"
    }
   ],
   "source": [
    "len(df_list)"
   ]
  },
  {
   "cell_type": "markdown",
   "metadata": {},
   "source": [
    "### Understanding"
   ]
  },
  {
   "cell_type": "markdown",
   "metadata": {},
   "source": [
    "The API returned a dataframe with the following columns built in for each stock: opening price, daily high, daily low, closing price, datetime, volume, and ticker."
   ]
  },
  {
   "cell_type": "code",
   "execution_count": 12,
   "metadata": {},
   "outputs": [
    {
     "data": {
      "text/html": [
       "<div>\n",
       "<style scoped>\n",
       "    .dataframe tbody tr th:only-of-type {\n",
       "        vertical-align: middle;\n",
       "    }\n",
       "\n",
       "    .dataframe tbody tr th {\n",
       "        vertical-align: top;\n",
       "    }\n",
       "\n",
       "    .dataframe thead th {\n",
       "        text-align: right;\n",
       "    }\n",
       "</style>\n",
       "<table border=\"1\" class=\"dataframe\">\n",
       "  <thead>\n",
       "    <tr style=\"text-align: right;\">\n",
       "      <th></th>\n",
       "      <th>open</th>\n",
       "      <th>high</th>\n",
       "      <th>low</th>\n",
       "      <th>close</th>\n",
       "      <th>volume</th>\n",
       "      <th>datetime</th>\n",
       "      <th>ticker</th>\n",
       "    </tr>\n",
       "  </thead>\n",
       "  <tbody>\n",
       "    <tr>\n",
       "      <th>0</th>\n",
       "      <td>19.50</td>\n",
       "      <td>19.65</td>\n",
       "      <td>19.225</td>\n",
       "      <td>19.40</td>\n",
       "      <td>156438</td>\n",
       "      <td>1515736800000</td>\n",
       "      <td>FRGI</td>\n",
       "    </tr>\n",
       "    <tr>\n",
       "      <th>1</th>\n",
       "      <td>19.55</td>\n",
       "      <td>19.60</td>\n",
       "      <td>18.950</td>\n",
       "      <td>19.10</td>\n",
       "      <td>216619</td>\n",
       "      <td>1516082400000</td>\n",
       "      <td>FRGI</td>\n",
       "    </tr>\n",
       "    <tr>\n",
       "      <th>2</th>\n",
       "      <td>19.10</td>\n",
       "      <td>19.40</td>\n",
       "      <td>19.100</td>\n",
       "      <td>19.30</td>\n",
       "      <td>238777</td>\n",
       "      <td>1516168800000</td>\n",
       "      <td>FRGI</td>\n",
       "    </tr>\n",
       "    <tr>\n",
       "      <th>3</th>\n",
       "      <td>19.30</td>\n",
       "      <td>19.35</td>\n",
       "      <td>18.950</td>\n",
       "      <td>19.20</td>\n",
       "      <td>133691</td>\n",
       "      <td>1516255200000</td>\n",
       "      <td>FRGI</td>\n",
       "    </tr>\n",
       "    <tr>\n",
       "      <th>4</th>\n",
       "      <td>19.25</td>\n",
       "      <td>19.75</td>\n",
       "      <td>19.250</td>\n",
       "      <td>19.65</td>\n",
       "      <td>213312</td>\n",
       "      <td>1516341600000</td>\n",
       "      <td>FRGI</td>\n",
       "    </tr>\n",
       "  </tbody>\n",
       "</table>\n",
       "</div>"
      ],
      "text/plain": [
       "    open   high     low  close  volume       datetime ticker\n",
       "0  19.50  19.65  19.225  19.40  156438  1515736800000   FRGI\n",
       "1  19.55  19.60  18.950  19.10  216619  1516082400000   FRGI\n",
       "2  19.10  19.40  19.100  19.30  238777  1516168800000   FRGI\n",
       "3  19.30  19.35  18.950  19.20  133691  1516255200000   FRGI\n",
       "4  19.25  19.75  19.250  19.65  213312  1516341600000   FRGI"
      ]
     },
     "execution_count": 12,
     "metadata": {},
     "output_type": "execute_result"
    }
   ],
   "source": [
    "df_list[0].head()"
   ]
  },
  {
   "cell_type": "markdown",
   "metadata": {},
   "source": [
    "## Cleaning"
   ]
  },
  {
   "cell_type": "markdown",
   "metadata": {},
   "source": [
    "The first step is to check for NaN values in each of the dataframes. If a dataframe contains a NaN value, the below loop will return the ticker associated with that dataframe."
   ]
  },
  {
   "cell_type": "code",
   "execution_count": 13,
   "metadata": {},
   "outputs": [],
   "source": [
    "# Checking for NaN values in each dataframe\n",
    "for df in df_list:\n",
    "    if df.isna().sum().sum() != 0:\n",
    "        print(df['ticker'][0])"
   ]
  },
  {
   "cell_type": "markdown",
   "metadata": {},
   "source": [
    "Next I'll check the datatypes of each column of each dataframe."
   ]
  },
  {
   "cell_type": "code",
   "execution_count": 14,
   "metadata": {},
   "outputs": [
    {
     "data": {
      "text/plain": [
       "open        float64\n",
       "high        float64\n",
       "low         float64\n",
       "close       float64\n",
       "volume        int64\n",
       "datetime      int64\n",
       "ticker       object\n",
       "dtype: object"
      ]
     },
     "execution_count": 14,
     "metadata": {},
     "output_type": "execute_result"
    }
   ],
   "source": [
    "df_list[0].dtypes"
   ]
  },
  {
   "cell_type": "markdown",
   "metadata": {},
   "source": [
    "The last thing to check is that each dataframe has the expected number of datapoints - 756."
   ]
  },
  {
   "cell_type": "code",
   "execution_count": 15,
   "metadata": {
    "collapsed": true
   },
   "outputs": [
    {
     "name": "stdout",
     "output_type": "stream",
     "text": [
      "FRGI\n",
      "EMF\n",
      "TNP\n",
      "AMEH\n",
      "GLRE\n",
      "BLE\n",
      "WETF\n",
      "SFE\n",
      "WASH\n",
      "AVXL\n",
      "RUTH\n",
      "SRRA\n",
      "ZOM\n",
      "CYBE\n",
      "JRS\n",
      "MUJ\n",
      "FSP\n",
      "PERI\n",
      "FF\n",
      "SLCT\n",
      "NBEV\n",
      "PMX\n",
      "CURO\n",
      "SXI\n",
      "SECO\n",
      "IDN\n",
      "CEM\n",
      "XBIT\n",
      "UEC\n",
      "CCRN\n",
      "LC\n",
      "HROW\n",
      "EFT\n",
      "ABUS\n",
      "PLSE\n",
      "IVAC\n",
      "NC\n",
      "HCI\n",
      "LILA\n",
      "FISI\n",
      "MIN\n",
      "GBLI\n",
      "HCCI\n",
      "ANIX\n",
      "WLKP\n",
      "CONN\n",
      "TSC\n",
      "HTD\n",
      "SSSS\n",
      "GMLP\n",
      "MCS\n",
      "GGN\n",
      "MSD\n",
      "CARA\n",
      "MHLD\n",
      "KBAL\n",
      "LC\n",
      "PFBI\n",
      "PUMP\n",
      "TNAV\n",
      "FRPH\n",
      "FMNB\n",
      "CGBD\n",
      "KNOP\n",
      "EDD\n",
      "MHN\n",
      "PNF\n",
      "AJX\n",
      "VGM\n",
      "NC\n",
      "ANH\n",
      "SALT\n",
      "CCD\n",
      "ANH\n",
      "EFT\n",
      "ECOM\n",
      "PDFS\n",
      "MUS\n",
      "MUJ\n",
      "PI\n",
      "KTF\n",
      "PZN\n",
      "SGU\n",
      "SXC\n",
      "CMCM\n",
      "ARAV\n",
      "CDR\n",
      "JPC\n",
      "EMO\n",
      "PERI\n",
      "DMB\n",
      "NMI\n",
      "WEA\n",
      "FDEU\n",
      "PMBC\n",
      "OCX\n",
      "PPR\n",
      "THQ\n",
      "RNET\n",
      "MTRX\n",
      "CAL\n",
      "EGAN\n",
      "XOMA\n",
      "AFMD\n",
      "DUC\n",
      "KNL\n",
      "ESSA\n",
      "SFUN\n",
      "TAST\n",
      "LCUT\n",
      "FNKO\n",
      "TOUR\n",
      "FLDM\n",
      "ATHX\n",
      "GDP\n",
      "MMT\n",
      "NEON\n",
      "SCYX\n",
      "UEC\n",
      "SALT\n",
      "CTMX\n",
      "CSWC\n",
      "TCS\n",
      "BGX\n",
      "GLDD\n",
      "CASI\n",
      "LRN\n",
      "MNKD\n",
      "HOV\n",
      "FNKO\n",
      "CRVS\n",
      "NMM\n",
      "JRS\n",
      "MIN\n",
      "PEIX\n",
      "BGX\n",
      "IIF\n",
      "PHT\n",
      "GCO\n",
      "SCOR\n",
      "MTT\n",
      "XONE\n",
      "SMSI\n",
      "MOV\n",
      "CDR\n",
      "CNBKA\n",
      "NFBK\n",
      "SCHN\n",
      "NOG\n",
      "XENE\n",
      "BTO\n",
      "CO\n",
      "IRS\n",
      "HLX\n",
      "CGO\n",
      "FENC\n",
      "BSD\n",
      "VNDA\n",
      "AGFS\n",
      "COWN\n",
      "PRQR\n",
      "GLP\n",
      "BGB\n",
      "UAN\n",
      "FI\n",
      "WLL\n",
      "SIEN\n",
      "KRNY\n",
      "FBIZ\n",
      "RM\n",
      "LWAY\n",
      "DHT\n",
      "ATRS\n",
      "WHF\n",
      "IGI\n",
      "ZOM\n",
      "NEV\n",
      "SLS\n",
      "PML\n",
      "MUC\n",
      "THQ\n",
      "ZIXI\n",
      "FTK\n",
      "LTRPA\n",
      "WETF\n",
      "UEPS\n",
      "TELL\n",
      "JPI\n",
      "CVGI\n",
      "DMLP\n",
      "BANX\n",
      "TRTX\n",
      "EML\n",
      "MITT\n",
      "GDP\n",
      "ESGC\n",
      "IIF\n",
      "CVCY\n",
      "CSTR\n",
      "TRTX\n",
      "CEVA\n",
      "EVI\n",
      "TBI\n",
      "ADMA\n",
      "LDP\n",
      "BFK\n",
      "STBA\n",
      "BNFT\n",
      "IFRX\n",
      "ANIK\n",
      "EGRX\n",
      "CPST\n",
      "WRLD\n",
      "VCV\n",
      "GCI\n",
      "VERU\n",
      "MUJ\n",
      "IGD\n",
      "WETF\n",
      "MUI\n"
     ]
    }
   ],
   "source": [
    "for df in df_list:\n",
    "    if df.shape[0] != 756:\n",
    "        print(df['ticker'][0])"
   ]
  },
  {
   "cell_type": "markdown",
   "metadata": {},
   "source": [
    "The data arrives quite clean. The only changes to be made are to the datetimes, which arrive in the unix format and need to be converted to a regular datetime, then set as the index. "
   ]
  },
  {
   "cell_type": "code",
   "execution_count": 16,
   "metadata": {},
   "outputs": [],
   "source": [
    "def clean_dates(df_list):\n",
    "    \"\"\"\n",
    "    Takes in a list of dfs and cleans the dates for each df.\n",
    "    \n",
    "    df_list -- list of dataframes\n",
    "    \"\"\"\n",
    "    for df in df_list:\n",
    "        # Convert from unix to year month day format\n",
    "        df['datetime'] = pd.to_datetime(df['datetime'], unit = 'ms')\n",
    "\n",
    "        # Set datetime as index\n",
    "        df.set_index(df['datetime'], inplace = True)\n",
    "\n",
    "        # Drop original datetime column\n",
    "        df.drop(columns = 'datetime', inplace = True)\n",
    "        \n",
    "    return df_list"
   ]
  },
  {
   "cell_type": "code",
   "execution_count": 17,
   "metadata": {},
   "outputs": [],
   "source": [
    "df_list = clean_dates(df_list)"
   ]
  },
  {
   "cell_type": "markdown",
   "metadata": {},
   "source": [
    "### A First Look"
   ]
  },
  {
   "cell_type": "markdown",
   "metadata": {},
   "source": [
    "For the purpose of examining all the stocks in the dataset, I need concetanate them all into one dataframe."
   ]
  },
  {
   "cell_type": "code",
   "execution_count": 18,
   "metadata": {},
   "outputs": [
    {
     "data": {
      "text/plain": [
       "(166100, 6)"
      ]
     },
     "execution_count": 18,
     "metadata": {},
     "output_type": "execute_result"
    }
   ],
   "source": [
    "# Concatenating all the dfs in df_list\n",
    "df_joined = pd.concat(df_list)\n",
    "\n",
    "# Examining Shape\n",
    "df_joined.shape"
   ]
  },
  {
   "cell_type": "code",
   "execution_count": 19,
   "metadata": {},
   "outputs": [
    {
     "data": {
      "image/png": "[encoded data removed]",
      "text/plain": [
       "<Figure size 720x504 with 1 Axes>"
      ]
     },
     "metadata": {
      "needs_background": "light"
     },
     "output_type": "display_data"
    }
   ],
   "source": [
    "# Grouping by date and mean closing price accross all stocks\n",
    "date_close_gb = df_joined.groupby(df_joined.index)['close'].mean()\n",
    "\n",
    "# Assigning x and y variables so they can be graphed\n",
    "x = date_close_gb.keys()\n",
    "y = date_close_gb.values\n",
    "\n",
    "# Visualizing\n",
    "fig, ax = plt.subplots(figsize = (10,7))\n",
    "sns.set_theme(font_scale = 2)\n",
    "sns.lineplot(x = x, y = y)\n",
    "ax.set(xlabel = 'Date', \n",
    "       ylabel = 'Mean Closing Price ($)', \n",
    "       title = \"160 Small-Cap Stocks' Mean Closing Prices\")\n",
    "fig.autofmt_xdate(rotation=45)\n",
    "plt.show()"
   ]
  },
  {
   "cell_type": "markdown",
   "metadata": {},
   "source": [
    "As shown in the plot above, the average closing price of small cap stocks has been in a downward trend since year-end 2017, falling sharply around March 2020 due to the Coronavirus pandemic and its economic impact, failing to fully recover by December 2020. The trend is much more negative than the overall market, which rose consistently until March 2020, where it fell but proceeded to exceed pre-Covid levels by December 2020. "
   ]
  },
  {
   "cell_type": "markdown",
   "metadata": {},
   "source": [
    "## Feature Engineering"
   ]
  },
  {
   "cell_type": "code",
   "execution_count": 20,
   "metadata": {},
   "outputs": [],
   "source": [
    "def create_intra_clf_target(df_list):\n",
    "    \"\"\"\n",
    "    Takes in list of dfs and creates target variable for each depending\n",
    "    on if the closing price for each day exceeds the opening price. If the\n",
    "    closing price exceeds the opening price, target = 1.\n",
    "    \n",
    "    df_list -- list of dfs\n",
    "    \"\"\"\n",
    "    for df in df_list:\n",
    "        df['intra_clf_target'] = 0\n",
    "        for i in range(len(df)):\n",
    "            \n",
    "            if df['open'][i] < df['close'][i]:\n",
    "                df['intra_clf_target'][i] = 1\n",
    "            \n",
    "            elif df['open'][i] > df['close'][i]:\n",
    "                df['intra_clf_target'][i] = 0\n",
    "    \n",
    "            elif df['open'][i] == df['close'][i]:\n",
    "                df['intra_clf_target'][i] = 2\n",
    "    \n",
    "    return df_list"
   ]
  },
  {
   "cell_type": "markdown",
   "metadata": {},
   "source": [
    "The first feature I engineered was my target variable. The target signifies whether a stock's closing price for one day exceeds its opening price. If this is the case, the target variable = 1. If the opposite is true, wherein the stock closes lower than it opened, the target variable = 0. If the closing and opening prices are exactly the same, the target variable = 2."
   ]
  },
  {
   "cell_type": "code",
   "execution_count": 21,
   "metadata": {},
   "outputs": [],
   "source": [
    "df_list = create_intra_clf_target(df_list)"
   ]
  },
  {
   "cell_type": "code",
   "execution_count": 22,
   "metadata": {},
   "outputs": [
    {
     "data": {
      "image/png": "[encoded data removed]",
      "text/plain": [
       "<Figure size 720x504 with 1 Axes>"
      ]
     },
     "metadata": {},
     "output_type": "display_data"
    }
   ],
   "source": [
    "# Concatenating again after target variables have been created\n",
    "df_joined_2 = pd.concat(df_list)\n",
    "\n",
    "# Examining value counts of target variables\n",
    "target_counts = df_joined_2['intra_clf_target'].value_counts()\n",
    "\n",
    "# Assigning x and y variables for barplot\n",
    "x = target_counts.keys()\n",
    "y = target_counts.values\n",
    "\n",
    "# Visualizing\n",
    "fig, ax = plt.subplots(figsize = (10,7))\n",
    "sns.set_theme(font_scale = 2)\n",
    "sns.barplot(x = x, y = y)\n",
    "ax.set(xlabel = 'Target Variable', \n",
    "       ylabel = 'Frequency', \n",
    "       title = \"Frequency of Target Variables\")\n",
    "sns.barplot(x = x, y = y)\n",
    "plt.show()"
   ]
  },
  {
   "cell_type": "markdown",
   "metadata": {},
   "source": [
    "As shown in the barplot above, there are relatively equivalent amounts of positive and negative cases, but high imbalance when compared to the neither case. As a result, I will use F1-Score as my evaluation metric.\n",
    "\n",
    "Unlike for classification, the target variable for my time series analysis does not need to be engineered. It is simply the closing price of each day I want to forecast into the future."
   ]
  },
  {
   "cell_type": "code",
   "execution_count": 23,
   "metadata": {},
   "outputs": [],
   "source": [
    "def create_moving_avs(df_list):\n",
    "    \"\"\"\n",
    "    Takes in list of dfs, creates three different moving average \n",
    "    features - 10, 50, and 200 days.\n",
    "    \n",
    "    df_list -- list of dfs\n",
    "    \"\"\"\n",
    "    for df in df_list:\n",
    "        df['10_day_ma'] = df['close'].ewm(span = 10).mean()\n",
    "        df['50_day_ma'] = df['close'].ewm(span = 50).mean()\n",
    "        df['200_day_ma'] = df['close'].ewm(span = 200).mean()\n",
    "     \n",
    "    return df_list"
   ]
  },
  {
   "cell_type": "markdown",
   "metadata": {},
   "source": [
    "I know that moving averages are important technical indicators for price movement, so the next features I created served to account for both long and short-term moving averages. I created features for a 10, 50, and 200 day moving average."
   ]
  },
  {
   "cell_type": "code",
   "execution_count": 24,
   "metadata": {},
   "outputs": [],
   "source": [
    "# Takes in list of dfs, creates three different moving average features - 10, 50, and 200 days.\n",
    "df_list = create_moving_avs(df_list)"
   ]
  },
  {
   "cell_type": "code",
   "execution_count": 25,
   "metadata": {},
   "outputs": [
    {
     "data": {
      "image/png": "[encoded data removed]",
      "text/plain": [
       "<Figure size 720x504 with 1 Axes>"
      ]
     },
     "metadata": {},
     "output_type": "display_data"
    }
   ],
   "source": [
    "# Concatenating again after moving averages have been created\n",
    "df_joined_3 = pd.concat(df_list)\n",
    "\n",
    "# Grouping by date and mean closing price accross all stocks\n",
    "date_close_gb = df_joined.groupby(df_joined.index)['close'].mean()\n",
    "\n",
    "ten_day_gb = df_joined_3.groupby(df_joined_3.index)['10_day_ma'].mean()\n",
    "fifty_day_gb = df_joined_3.groupby(df_joined_3.index)['50_day_ma'].mean()\n",
    "twohundred_day_gb = df_joined_3.groupby(df_joined_3.index)['200_day_ma'].mean()\n",
    "\n",
    "# Assigning x1 and y1 to date and closing price\n",
    "x1 = date_close_gb.keys()\n",
    "y1 = date_close_gb.values\n",
    "\n",
    "# Assigning x2 and y2 to the ten day moving average\n",
    "x2 = ten_day_gb.keys()\n",
    "y2 = ten_day_gb.values\n",
    "\n",
    "# Assigning x3 and y3 to the fifty day moving average\n",
    "x3 = fifty_day_gb.keys()\n",
    "y3 = fifty_day_gb.values\n",
    "\n",
    "# Assigning x4 and y4 to the two hundred day moving average\n",
    "x4 = twohundred_day_gb.keys()\n",
    "y4 = twohundred_day_gb.values\n",
    "\n",
    "\n",
    "# Visualizing\n",
    "fig, ax = plt.subplots(figsize = (10,7))\n",
    "sns.set_theme(font_scale = 2)\n",
    "sns.lineplot(x = x1, y = y1, label = 'Mean Closing Price')\n",
    "sns.lineplot(x = x2, y = y2, label = '10 Day Moving Average')\n",
    "sns.lineplot(x = x3, y = y3, label = '50 Day Moving Average')\n",
    "sns.lineplot(x = x4, y = y4, label = '200 Day Moving Average')\n",
    "ax.set(xlabel = 'Date', \n",
    "       ylabel = 'Mean Closing Price ($)', \n",
    "       title = \"160 Small-Cap Stocks' Mean Closing Prices\")\n",
    "fig.autofmt_xdate(rotation=45)\n",
    "plt.show()"
   ]
  },
  {
   "cell_type": "markdown",
   "metadata": {},
   "source": [
    "The various moving averages are shown in comparison to the mean closing prices for each day. As one would expect, the 200 day average is much less affected by small price movements, as opposed to the 10 day average, which follows the mean closing price very closely.\n",
    "\n",
    "An important concept in quantitative finance is <b>Mean Reversion</b>, which holds that stocks tend to revert to the moving average of their prices."
   ]
  },
  {
   "cell_type": "code",
   "execution_count": 26,
   "metadata": {},
   "outputs": [],
   "source": [
    "def create_pct_price_changes(df_list):\n",
    "    \"\"\"\n",
    "    Takes in a list of dfs and creates price change (%) features with various\n",
    "    intervals.\n",
    "    Calculates % price changes relative to the day before observed date to \n",
    "    prediction using unknown data.\n",
    "    \n",
    "    df_list -- list of dfs\n",
    "    \"\"\"\n",
    "    # Creating i_day_pct_change columns in each df\n",
    "    for df in df_list:\n",
    "        df['1_day_pct_change'] = 0\n",
    "        df['2_day_pct_change'] = 0\n",
    "        df['3_day_pct_change'] = 0\n",
    "        df['4_day_pct_change'] = 0\n",
    "   \n",
    "        # Calculating ith day price change for each col\n",
    "        for i in range(5, df.shape[0]):\n",
    "            # Difference in closing prices between the previous day and the previous day\n",
    "            diff = float(df['close'][i-1]) - float(df['close'][i-2])\n",
    "            pct = (float(diff)/float(df['close'][i-2])) * 100\n",
    "            df['1_day_pct_change'][i] = pct\n",
    "            \n",
    "            # Difference in closing prices between the previous day and two days prior\n",
    "            diff = float(df['close'][i-1]) - float(df['close'][i-3])\n",
    "            pct = (float(diff)/float(df['close'][i-3])) * 100\n",
    "            df['2_day_pct_change'][i] = pct\n",
    "            \n",
    "            # Difference in closing prices between the previous day and three days prior\n",
    "            diff = float(df['close'][i-1]) - float(df['close'][i-4])\n",
    "            pct = (float(diff)/float(df['close'][i-4])) * 100\n",
    "            df['3_day_pct_change'][i] = pct\n",
    "            \n",
    "            # Difference in closing prices between the previous day and four days prior\n",
    "            diff = float(df['close'][i-1]) - float(df['close'][i-5])\n",
    "            pct = (float(diff)/float(df['close'][i-5])) * 100\n",
    "            df['4_day_pct_change'][i] = pct\n",
    "    \n",
    "    return df_list"
   ]
  },
  {
   "cell_type": "markdown",
   "metadata": {},
   "source": [
    "The following function creates price change (%) features with intervals ranging from one to four days for each df.\n",
    "It calculates % price changes relative to the day before the observed date in order to avoid prediction using unknown data."
   ]
  },
  {
   "cell_type": "code",
   "execution_count": 27,
   "metadata": {},
   "outputs": [],
   "source": [
    "df_list = create_pct_price_changes(df_list)"
   ]
  },
  {
   "cell_type": "code",
   "execution_count": 28,
   "metadata": {},
   "outputs": [],
   "source": [
    "def create_intra_clf_target(df_list):\n",
    "    \"\"\"\n",
    "    Takes in list of dfs and creates target variable for each depending\n",
    "    on if the closing price for each day exceeds the opening price. If the\n",
    "    closing price exceeds the opening price, target = 1.\n",
    "    \n",
    "    df_list -- list of dfs\n",
    "    \"\"\"\n",
    "    for df in df_list:\n",
    "        df['intra_clf_target'] = 0\n",
    "        for i in range(len(df)):\n",
    "            \n",
    "            if df['open'][i] < df['close'][i]:\n",
    "                df['intra_clf_target'][i] = 1\n",
    "            \n",
    "            elif df['open'][i] > df['close'][i]:\n",
    "                df['intra_clf_target'][i] = 0\n",
    "    \n",
    "            elif df['open'][i] == df['close'][i]:\n",
    "                df['intra_clf_target'][i] = 2\n",
    "    \n",
    "    return df_list"
   ]
  },
  {
   "cell_type": "code",
   "execution_count": 29,
   "metadata": {},
   "outputs": [],
   "source": [
    "df_list = create_intra_clf_target(df_list)"
   ]
  },
  {
   "cell_type": "markdown",
   "metadata": {},
   "source": [
    "Below is an example of a dataframe with all features engineered:"
   ]
  },
  {
   "cell_type": "code",
   "execution_count": 30,
   "metadata": {},
   "outputs": [
    {
     "data": {
      "text/html": [
       "<div>\n",
       "<style scoped>\n",
       "    .dataframe tbody tr th:only-of-type {\n",
       "        vertical-align: middle;\n",
       "    }\n",
       "\n",
       "    .dataframe tbody tr th {\n",
       "        vertical-align: top;\n",
       "    }\n",
       "\n",
       "    .dataframe thead th {\n",
       "        text-align: right;\n",
       "    }\n",
       "</style>\n",
       "<table border=\"1\" class=\"dataframe\">\n",
       "  <thead>\n",
       "    <tr style=\"text-align: right;\">\n",
       "      <th></th>\n",
       "      <th>open</th>\n",
       "      <th>high</th>\n",
       "      <th>low</th>\n",
       "      <th>close</th>\n",
       "      <th>volume</th>\n",
       "      <th>ticker</th>\n",
       "      <th>intra_clf_target</th>\n",
       "      <th>10_day_ma</th>\n",
       "      <th>50_day_ma</th>\n",
       "      <th>200_day_ma</th>\n",
       "      <th>1_day_pct_change</th>\n",
       "      <th>2_day_pct_change</th>\n",
       "      <th>3_day_pct_change</th>\n",
       "      <th>4_day_pct_change</th>\n",
       "    </tr>\n",
       "    <tr>\n",
       "      <th>datetime</th>\n",
       "      <th></th>\n",
       "      <th></th>\n",
       "      <th></th>\n",
       "      <th></th>\n",
       "      <th></th>\n",
       "      <th></th>\n",
       "      <th></th>\n",
       "      <th></th>\n",
       "      <th></th>\n",
       "      <th></th>\n",
       "      <th></th>\n",
       "      <th></th>\n",
       "      <th></th>\n",
       "      <th></th>\n",
       "    </tr>\n",
       "  </thead>\n",
       "  <tbody>\n",
       "    <tr>\n",
       "      <th>2018-01-12 06:00:00</th>\n",
       "      <td>19.50</td>\n",
       "      <td>19.65</td>\n",
       "      <td>19.225</td>\n",
       "      <td>19.40</td>\n",
       "      <td>156438</td>\n",
       "      <td>FRGI</td>\n",
       "      <td>0</td>\n",
       "      <td>19.400000</td>\n",
       "      <td>19.400000</td>\n",
       "      <td>19.400000</td>\n",
       "      <td>0</td>\n",
       "      <td>0</td>\n",
       "      <td>0</td>\n",
       "      <td>0</td>\n",
       "    </tr>\n",
       "    <tr>\n",
       "      <th>2018-01-16 06:00:00</th>\n",
       "      <td>19.55</td>\n",
       "      <td>19.60</td>\n",
       "      <td>18.950</td>\n",
       "      <td>19.10</td>\n",
       "      <td>216619</td>\n",
       "      <td>FRGI</td>\n",
       "      <td>0</td>\n",
       "      <td>19.235000</td>\n",
       "      <td>19.247000</td>\n",
       "      <td>19.249250</td>\n",
       "      <td>0</td>\n",
       "      <td>0</td>\n",
       "      <td>0</td>\n",
       "      <td>0</td>\n",
       "    </tr>\n",
       "    <tr>\n",
       "      <th>2018-01-17 06:00:00</th>\n",
       "      <td>19.10</td>\n",
       "      <td>19.40</td>\n",
       "      <td>19.100</td>\n",
       "      <td>19.30</td>\n",
       "      <td>238777</td>\n",
       "      <td>FRGI</td>\n",
       "      <td>1</td>\n",
       "      <td>19.261130</td>\n",
       "      <td>19.265378</td>\n",
       "      <td>19.266336</td>\n",
       "      <td>0</td>\n",
       "      <td>0</td>\n",
       "      <td>0</td>\n",
       "      <td>0</td>\n",
       "    </tr>\n",
       "    <tr>\n",
       "      <th>2018-01-18 06:00:00</th>\n",
       "      <td>19.30</td>\n",
       "      <td>19.35</td>\n",
       "      <td>18.950</td>\n",
       "      <td>19.20</td>\n",
       "      <td>133691</td>\n",
       "      <td>FRGI</td>\n",
       "      <td>0</td>\n",
       "      <td>19.240990</td>\n",
       "      <td>19.248040</td>\n",
       "      <td>19.249502</td>\n",
       "      <td>0</td>\n",
       "      <td>0</td>\n",
       "      <td>0</td>\n",
       "      <td>0</td>\n",
       "    </tr>\n",
       "    <tr>\n",
       "      <th>2018-01-19 06:00:00</th>\n",
       "      <td>19.25</td>\n",
       "      <td>19.75</td>\n",
       "      <td>19.250</td>\n",
       "      <td>19.65</td>\n",
       "      <td>213312</td>\n",
       "      <td>FRGI</td>\n",
       "      <td>1</td>\n",
       "      <td>19.358406</td>\n",
       "      <td>19.334989</td>\n",
       "      <td>19.331212</td>\n",
       "      <td>0</td>\n",
       "      <td>0</td>\n",
       "      <td>0</td>\n",
       "      <td>0</td>\n",
       "    </tr>\n",
       "  </tbody>\n",
       "</table>\n",
       "</div>"
      ],
      "text/plain": [
       "                      open   high     low  close  volume ticker  \\\n",
       "datetime                                                          \n",
       "2018-01-12 06:00:00  19.50  19.65  19.225  19.40  156438   FRGI   \n",
       "2018-01-16 06:00:00  19.55  19.60  18.950  19.10  216619   FRGI   \n",
       "2018-01-17 06:00:00  19.10  19.40  19.100  19.30  238777   FRGI   \n",
       "2018-01-18 06:00:00  19.30  19.35  18.950  19.20  133691   FRGI   \n",
       "2018-01-19 06:00:00  19.25  19.75  19.250  19.65  213312   FRGI   \n",
       "\n",
       "                     intra_clf_target  10_day_ma  50_day_ma  200_day_ma  \\\n",
       "datetime                                                                  \n",
       "2018-01-12 06:00:00                 0  19.400000  19.400000   19.400000   \n",
       "2018-01-16 06:00:00                 0  19.235000  19.247000   19.249250   \n",
       "2018-01-17 06:00:00                 1  19.261130  19.265378   19.266336   \n",
       "2018-01-18 06:00:00                 0  19.240990  19.248040   19.249502   \n",
       "2018-01-19 06:00:00                 1  19.358406  19.334989   19.331212   \n",
       "\n",
       "                     1_day_pct_change  2_day_pct_change  3_day_pct_change  \\\n",
       "datetime                                                                    \n",
       "2018-01-12 06:00:00                 0                 0                 0   \n",
       "2018-01-16 06:00:00                 0                 0                 0   \n",
       "2018-01-17 06:00:00                 0                 0                 0   \n",
       "2018-01-18 06:00:00                 0                 0                 0   \n",
       "2018-01-19 06:00:00                 0                 0                 0   \n",
       "\n",
       "                     4_day_pct_change  \n",
       "datetime                               \n",
       "2018-01-12 06:00:00                 0  \n",
       "2018-01-16 06:00:00                 0  \n",
       "2018-01-17 06:00:00                 0  \n",
       "2018-01-18 06:00:00                 0  \n",
       "2018-01-19 06:00:00                 0  "
      ]
     },
     "execution_count": 30,
     "metadata": {},
     "output_type": "execute_result"
    }
   ],
   "source": [
    "df_list[0].head()"
   ]
  },
  {
   "cell_type": "markdown",
   "metadata": {},
   "source": [
    "Note: The first five observed days contain no pct price change values. This is because there was no data before the first observed day, so all values begin on the fifth day. Below is a better representation:"
   ]
  },
  {
   "cell_type": "code",
   "execution_count": 31,
   "metadata": {},
   "outputs": [
    {
     "data": {
      "text/html": [
       "<div>\n",
       "<style scoped>\n",
       "    .dataframe tbody tr th:only-of-type {\n",
       "        vertical-align: middle;\n",
       "    }\n",
       "\n",
       "    .dataframe tbody tr th {\n",
       "        vertical-align: top;\n",
       "    }\n",
       "\n",
       "    .dataframe thead th {\n",
       "        text-align: right;\n",
       "    }\n",
       "</style>\n",
       "<table border=\"1\" class=\"dataframe\">\n",
       "  <thead>\n",
       "    <tr style=\"text-align: right;\">\n",
       "      <th></th>\n",
       "      <th>open</th>\n",
       "      <th>high</th>\n",
       "      <th>low</th>\n",
       "      <th>close</th>\n",
       "      <th>volume</th>\n",
       "      <th>ticker</th>\n",
       "      <th>intra_clf_target</th>\n",
       "      <th>10_day_ma</th>\n",
       "      <th>50_day_ma</th>\n",
       "      <th>200_day_ma</th>\n",
       "      <th>1_day_pct_change</th>\n",
       "      <th>2_day_pct_change</th>\n",
       "      <th>3_day_pct_change</th>\n",
       "      <th>4_day_pct_change</th>\n",
       "    </tr>\n",
       "    <tr>\n",
       "      <th>datetime</th>\n",
       "      <th></th>\n",
       "      <th></th>\n",
       "      <th></th>\n",
       "      <th></th>\n",
       "      <th></th>\n",
       "      <th></th>\n",
       "      <th></th>\n",
       "      <th></th>\n",
       "      <th></th>\n",
       "      <th></th>\n",
       "      <th></th>\n",
       "      <th></th>\n",
       "      <th></th>\n",
       "      <th></th>\n",
       "    </tr>\n",
       "  </thead>\n",
       "  <tbody>\n",
       "    <tr>\n",
       "      <th>2021-01-06 06:00:00</th>\n",
       "      <td>12.81</td>\n",
       "      <td>12.940</td>\n",
       "      <td>12.33</td>\n",
       "      <td>12.84</td>\n",
       "      <td>190982</td>\n",
       "      <td>FRGI</td>\n",
       "      <td>1</td>\n",
       "      <td>11.922597</td>\n",
       "      <td>11.495847</td>\n",
       "      <td>9.987015</td>\n",
       "      <td>17</td>\n",
       "      <td>10</td>\n",
       "      <td>11</td>\n",
       "      <td>8</td>\n",
       "    </tr>\n",
       "    <tr>\n",
       "      <th>2021-01-07 06:00:00</th>\n",
       "      <td>12.89</td>\n",
       "      <td>13.645</td>\n",
       "      <td>12.74</td>\n",
       "      <td>13.29</td>\n",
       "      <td>161100</td>\n",
       "      <td>FRGI</td>\n",
       "      <td>1</td>\n",
       "      <td>12.171216</td>\n",
       "      <td>11.566206</td>\n",
       "      <td>10.019898</td>\n",
       "      <td>2</td>\n",
       "      <td>19</td>\n",
       "      <td>12</td>\n",
       "      <td>14</td>\n",
       "    </tr>\n",
       "    <tr>\n",
       "      <th>2021-01-08 06:00:00</th>\n",
       "      <td>13.35</td>\n",
       "      <td>13.375</td>\n",
       "      <td>12.57</td>\n",
       "      <td>13.03</td>\n",
       "      <td>99550</td>\n",
       "      <td>FRGI</td>\n",
       "      <td>0</td>\n",
       "      <td>12.327358</td>\n",
       "      <td>11.623610</td>\n",
       "      <td>10.049866</td>\n",
       "      <td>3</td>\n",
       "      <td>5</td>\n",
       "      <td>24</td>\n",
       "      <td>16</td>\n",
       "    </tr>\n",
       "    <tr>\n",
       "      <th>2021-01-11 06:00:00</th>\n",
       "      <td>12.82</td>\n",
       "      <td>13.910</td>\n",
       "      <td>12.75</td>\n",
       "      <td>13.35</td>\n",
       "      <td>186935</td>\n",
       "      <td>FRGI</td>\n",
       "      <td>1</td>\n",
       "      <td>12.513293</td>\n",
       "      <td>11.691311</td>\n",
       "      <td>10.082720</td>\n",
       "      <td>-1</td>\n",
       "      <td>1</td>\n",
       "      <td>3</td>\n",
       "      <td>21</td>\n",
       "    </tr>\n",
       "    <tr>\n",
       "      <th>2021-01-12 06:00:00</th>\n",
       "      <td>13.14</td>\n",
       "      <td>14.420</td>\n",
       "      <td>13.14</td>\n",
       "      <td>14.12</td>\n",
       "      <td>146003</td>\n",
       "      <td>FRGI</td>\n",
       "      <td>1</td>\n",
       "      <td>12.805422</td>\n",
       "      <td>11.786554</td>\n",
       "      <td>10.122913</td>\n",
       "      <td>2</td>\n",
       "      <td>0</td>\n",
       "      <td>3</td>\n",
       "      <td>6</td>\n",
       "    </tr>\n",
       "  </tbody>\n",
       "</table>\n",
       "</div>"
      ],
      "text/plain": [
       "                      open    high    low  close  volume ticker  \\\n",
       "datetime                                                          \n",
       "2021-01-06 06:00:00  12.81  12.940  12.33  12.84  190982   FRGI   \n",
       "2021-01-07 06:00:00  12.89  13.645  12.74  13.29  161100   FRGI   \n",
       "2021-01-08 06:00:00  13.35  13.375  12.57  13.03   99550   FRGI   \n",
       "2021-01-11 06:00:00  12.82  13.910  12.75  13.35  186935   FRGI   \n",
       "2021-01-12 06:00:00  13.14  14.420  13.14  14.12  146003   FRGI   \n",
       "\n",
       "                     intra_clf_target  10_day_ma  50_day_ma  200_day_ma  \\\n",
       "datetime                                                                  \n",
       "2021-01-06 06:00:00                 1  11.922597  11.495847    9.987015   \n",
       "2021-01-07 06:00:00                 1  12.171216  11.566206   10.019898   \n",
       "2021-01-08 06:00:00                 0  12.327358  11.623610   10.049866   \n",
       "2021-01-11 06:00:00                 1  12.513293  11.691311   10.082720   \n",
       "2021-01-12 06:00:00                 1  12.805422  11.786554   10.122913   \n",
       "\n",
       "                     1_day_pct_change  2_day_pct_change  3_day_pct_change  \\\n",
       "datetime                                                                    \n",
       "2021-01-06 06:00:00                17                10                11   \n",
       "2021-01-07 06:00:00                 2                19                12   \n",
       "2021-01-08 06:00:00                 3                 5                24   \n",
       "2021-01-11 06:00:00                -1                 1                 3   \n",
       "2021-01-12 06:00:00                 2                 0                 3   \n",
       "\n",
       "                     4_day_pct_change  \n",
       "datetime                               \n",
       "2021-01-06 06:00:00                 8  \n",
       "2021-01-07 06:00:00                14  \n",
       "2021-01-08 06:00:00                16  \n",
       "2021-01-11 06:00:00                21  \n",
       "2021-01-12 06:00:00                 6  "
      ]
     },
     "execution_count": 31,
     "metadata": {},
     "output_type": "execute_result"
    }
   ],
   "source": [
    "df_list[0].tail()"
   ]
  },
  {
   "cell_type": "markdown",
   "metadata": {},
   "source": [
    "## Selecting a Sample"
   ]
  },
  {
   "cell_type": "markdown",
   "metadata": {},
   "source": [
    "Due to time constraints, I wanted to select a subset of stocks on which to perform my analysis. I've chosen to use capital markets stocks, as their prices are affected the least by external influences. For example, biotechnology companies' prices are heavily influenced by their bringing new treatments and technologies to market. Capital markets companies performances are the most dependant on overall stock market performance out of all the industries in the dataset. "
   ]
  },
  {
   "cell_type": "code",
   "execution_count": 32,
   "metadata": {},
   "outputs": [],
   "source": [
    "# Selecting tickers from final df list\n",
    "final_list = [x['ticker'][0] for x in df_list]\n",
    "\n",
    "# Filtering screen df with 'industry' column for only those in the final screen\n",
    "sample = screen[screen['ticker'].isin(final_list)]\n",
    "\n",
    "# Getting tickers for the eight capital markets companies\n",
    "cap_markets_tickers = list(sample[sample['industry'] == 'Capital Markets']['ticker'])\n",
    "\n",
    "# Getting tickers for all other companies\n",
    "other_tickers = list(sample[sample['industry'] != 'Capital Markets']['ticker'])"
   ]
  },
  {
   "cell_type": "code",
   "execution_count": 33,
   "metadata": {},
   "outputs": [
    {
     "data": {
      "text/html": [
       "<div>\n",
       "<style scoped>\n",
       "    .dataframe tbody tr th:only-of-type {\n",
       "        vertical-align: middle;\n",
       "    }\n",
       "\n",
       "    .dataframe tbody tr th {\n",
       "        vertical-align: top;\n",
       "    }\n",
       "\n",
       "    .dataframe thead th {\n",
       "        text-align: right;\n",
       "    }\n",
       "</style>\n",
       "<table border=\"1\" class=\"dataframe\">\n",
       "  <thead>\n",
       "    <tr style=\"text-align: right;\">\n",
       "      <th></th>\n",
       "      <th>ticker</th>\n",
       "      <th>company</th>\n",
       "      <th>market_cap</th>\n",
       "      <th>sector</th>\n",
       "      <th>industry</th>\n",
       "      <th>dividend_yield</th>\n",
       "      <th>beta</th>\n",
       "    </tr>\n",
       "  </thead>\n",
       "  <tbody>\n",
       "    <tr>\n",
       "      <th>750</th>\n",
       "      <td>BANX</td>\n",
       "      <td>StoneCastle Financial Corp</td>\n",
       "      <td>136071720.0</td>\n",
       "      <td>Financials</td>\n",
       "      <td>Capital Markets</td>\n",
       "      <td>7.45%</td>\n",
       "      <td>+0.8</td>\n",
       "    </tr>\n",
       "    <tr>\n",
       "      <th>1429</th>\n",
       "      <td>CGBD</td>\n",
       "      <td>TCG BDC Inc</td>\n",
       "      <td>625592990.0</td>\n",
       "      <td>Financials</td>\n",
       "      <td>Capital Markets</td>\n",
       "      <td>11.59%</td>\n",
       "      <td>+2.2</td>\n",
       "    </tr>\n",
       "    <tr>\n",
       "      <th>1725</th>\n",
       "      <td>COWN</td>\n",
       "      <td>Cowen Inc</td>\n",
       "      <td>662763700.0</td>\n",
       "      <td>Financials</td>\n",
       "      <td>Capital Markets</td>\n",
       "      <td>1.29%</td>\n",
       "      <td>+1.5</td>\n",
       "    </tr>\n",
       "    <tr>\n",
       "      <th>1853</th>\n",
       "      <td>CSWC</td>\n",
       "      <td>Capital Southwest Corporation</td>\n",
       "      <td>323109050.0</td>\n",
       "      <td>Financials</td>\n",
       "      <td>Capital Markets</td>\n",
       "      <td>9.49%</td>\n",
       "      <td>+1.2</td>\n",
       "    </tr>\n",
       "    <tr>\n",
       "      <th>5955</th>\n",
       "      <td>PZN</td>\n",
       "      <td>Pzena Investment Management, Inc.</td>\n",
       "      <td>518829300.0</td>\n",
       "      <td>Financials</td>\n",
       "      <td>Capital Markets</td>\n",
       "      <td>1.69%</td>\n",
       "      <td>+1.5</td>\n",
       "    </tr>\n",
       "    <tr>\n",
       "      <th>6465</th>\n",
       "      <td>SFE</td>\n",
       "      <td>Safeguard Scientifics, Inc</td>\n",
       "      <td>148131370.0</td>\n",
       "      <td>Financials</td>\n",
       "      <td>Capital Markets</td>\n",
       "      <td>--</td>\n",
       "      <td>+1.3</td>\n",
       "    </tr>\n",
       "    <tr>\n",
       "      <th>6831</th>\n",
       "      <td>SSSS</td>\n",
       "      <td>SuRo Capital Corp</td>\n",
       "      <td>250119840.0</td>\n",
       "      <td>Financials</td>\n",
       "      <td>Capital Markets</td>\n",
       "      <td>4.02%</td>\n",
       "      <td>+1.7</td>\n",
       "    </tr>\n",
       "    <tr>\n",
       "      <th>7759</th>\n",
       "      <td>WETF</td>\n",
       "      <td>Wisdom Tree Investments Inc</td>\n",
       "      <td>750605190.0</td>\n",
       "      <td>Financials</td>\n",
       "      <td>Capital Markets</td>\n",
       "      <td>2.38%</td>\n",
       "      <td>+1.7</td>\n",
       "    </tr>\n",
       "    <tr>\n",
       "      <th>7770</th>\n",
       "      <td>WHF</td>\n",
       "      <td>WhiteHorse Finance Inc</td>\n",
       "      <td>287644000.0</td>\n",
       "      <td>Financials</td>\n",
       "      <td>Capital Markets</td>\n",
       "      <td>10.19%</td>\n",
       "      <td>+1.6</td>\n",
       "    </tr>\n",
       "  </tbody>\n",
       "</table>\n",
       "</div>"
      ],
      "text/plain": [
       "     ticker                            company   market_cap      sector  \\\n",
       "750    BANX         StoneCastle Financial Corp  136071720.0  Financials   \n",
       "1429   CGBD                        TCG BDC Inc  625592990.0  Financials   \n",
       "1725   COWN                          Cowen Inc  662763700.0  Financials   \n",
       "1853   CSWC      Capital Southwest Corporation  323109050.0  Financials   \n",
       "5955    PZN  Pzena Investment Management, Inc.  518829300.0  Financials   \n",
       "6465    SFE         Safeguard Scientifics, Inc  148131370.0  Financials   \n",
       "6831   SSSS                  SuRo Capital Corp  250119840.0  Financials   \n",
       "7759   WETF        Wisdom Tree Investments Inc  750605190.0  Financials   \n",
       "7770    WHF             WhiteHorse Finance Inc  287644000.0  Financials   \n",
       "\n",
       "             industry dividend_yield  beta  \n",
       "750   Capital Markets          7.45%  +0.8  \n",
       "1429  Capital Markets         11.59%  +2.2  \n",
       "1725  Capital Markets          1.29%  +1.5  \n",
       "1853  Capital Markets          9.49%  +1.2  \n",
       "5955  Capital Markets          1.69%  +1.5  \n",
       "6465  Capital Markets             --  +1.3  \n",
       "6831  Capital Markets          4.02%  +1.7  \n",
       "7759  Capital Markets          2.38%  +1.7  \n",
       "7770  Capital Markets         10.19%  +1.6  "
      ]
     },
     "execution_count": 33,
     "metadata": {},
     "output_type": "execute_result"
    }
   ],
   "source": [
    "# Examining the eight capital markets firms\n",
    "sample[sample['industry'] == 'Capital Markets']"
   ]
  },
  {
   "cell_type": "code",
   "execution_count": 34,
   "metadata": {},
   "outputs": [],
   "source": [
    "# Instantiating list of capital markets stocks\n",
    "cm_df_list = []\n",
    "\n",
    "# Instantiating list of all other stocks\n",
    "other_list = []\n",
    "\n",
    "# If the company in the larger list of dfs is part of the cap markets list,\n",
    "# append it to the list of cap markets companies\n",
    "# If it's not on the cap markets list, append it to a list of other companies\n",
    "for df in df_list:\n",
    "    if df['ticker'][0] in cap_markets_tickers:\n",
    "        cm_df_list.append(df)\n",
    "    if df['ticker'][0] in other_tickers:\n",
    "        other_list.append(df)\n",
    "\n",
    "# Deleting two WETF duplicates\n",
    "del(cm_df_list[0])\n",
    "del(cm_df_list[-1])"
   ]
  },
  {
   "cell_type": "code",
   "execution_count": 35,
   "metadata": {},
   "outputs": [
    {
     "data": {
      "text/plain": [
       "9"
      ]
     },
     "execution_count": 35,
     "metadata": {},
     "output_type": "execute_result"
    }
   ],
   "source": [
    "len(cm_df_list)"
   ]
  },
  {
   "cell_type": "markdown",
   "metadata": {},
   "source": [
    "Below is a barplot showing the distribution of the various sectors present in my final 160 stocks. Financials, which contain capital markets, dominate the group."
   ]
  },
  {
   "cell_type": "code",
   "execution_count": 36,
   "metadata": {},
   "outputs": [
    {
     "data": {
      "image/png": "[encoded data removed]",
      "text/plain": [
       "<Figure size 720x504 with 1 Axes>"
      ]
     },
     "metadata": {},
     "output_type": "display_data"
    }
   ],
   "source": [
    "# Examining value counts for each sector\n",
    "sector_counts = sample['sector'].value_counts()\n",
    "\n",
    "# Assigning x and y variables for barplot\n",
    "sector_x = sector_counts.keys()\n",
    "sector_y = sector_counts.values\n",
    "\n",
    "# Constructing plot\n",
    "fig, ax = plt.subplots(figsize = (10,7))\n",
    "sns.barplot(x = sector_x, y = sector_y)\n",
    "ax.set(xlabel = 'Sector', \n",
    "       ylabel = 'Frequency', \n",
    "       title = \"Frequency of Sectors\")\n",
    "ax.set_xticklabels(rotation = 45, ha = 'right', labels = sector_x)\n",
    "sns.set_theme(font_scale = 1)\n",
    "sns.barplot(x = sector_x, y = sector_y, color = 'cornflowerblue')\n",
    "plt.show()"
   ]
  },
  {
   "cell_type": "markdown",
   "metadata": {},
   "source": [
    "Next I wanted to test my hypothesis of capital markets stocks closely following the market. Below shows the mean daily closing prices of all 160 stocks, the eight capital markets stocks, and the 152 stocks that don't belong to the capital markets industry. Because the 160 is largely composed of the 152 other stocks, it's not surprising that the green line representing the other stocks so closely follows the overall trend that it obscures the blue line."
   ]
  },
  {
   "cell_type": "code",
   "execution_count": 37,
   "metadata": {},
   "outputs": [
    {
     "data": {
      "image/png": "[encoded data removed]",
      "text/plain": [
       "<Figure size 792x504 with 1 Axes>"
      ]
     },
     "metadata": {},
     "output_type": "display_data"
    }
   ],
   "source": [
    "# Concatenating all the dfs in cm_df_list\n",
    "cm_joined = pd.concat(cm_df_list)\n",
    "\n",
    "# Concatenating all the dfs in other_list\n",
    "others_joined = pd.concat(other_list)\n",
    "\n",
    "# Grouping by date and mean closing price accross all stocks\n",
    "date_close_gb = df_joined.groupby(df_joined.index)['close'].mean()\n",
    "cm_close_gb = cm_joined.groupby(cm_joined.index)['close'].mean()\n",
    "other_close_gb = others_joined.groupby(others_joined.index)['close'].mean()\n",
    "\n",
    "# Assigning x and y variables so they can be graphed\n",
    "x = date_close_gb.keys()\n",
    "y = date_close_gb.values\n",
    "\n",
    "# Cap Markets x and y\n",
    "x1 = cm_close_gb.keys()\n",
    "y1 = cm_close_gb.values\n",
    "\n",
    "# All others x and y\n",
    "x2 = other_close_gb.keys()\n",
    "y2 = other_close_gb.values\n",
    "\n",
    "# Visualizing\n",
    "fig, ax = plt.subplots(figsize = (11,7))\n",
    "sns.lineplot(x = x, y = y, label = 'All Industries')\n",
    "sns.lineplot(x = x1, y = y1, label = 'Capital Markets')\n",
    "sns.lineplot(x = x2, y = y2, label = 'Other Industries')\n",
    "ax.set(xlabel = 'Date', \n",
    "       ylabel = 'Mean Closing Price ($)', \n",
    "       title = \"Mean Closing Prices vs. Capital Markets vs. All Others\"\n",
    "      )\n",
    "fig.autofmt_xdate(rotation=45)\n",
    "sns.set_theme(font_scale = 3)\n",
    "plt.show()"
   ]
  },
  {
   "cell_type": "markdown",
   "metadata": {},
   "source": [
    "## Modeling and Results - Price Movement Classification"
   ]
  },
  {
   "cell_type": "markdown",
   "metadata": {},
   "source": [
    "### Initial Model"
   ]
  },
  {
   "cell_type": "markdown",
   "metadata": {},
   "source": [
    "My baseline model was a KNN and was used to evaluate my engineered features. "
   ]
  },
  {
   "cell_type": "code",
   "execution_count": 38,
   "metadata": {},
   "outputs": [
    {
     "name": "stdout",
     "output_type": "stream",
     "text": [
      "Acc: 0.47280334728033474\n",
      "Precision: 0.4668538074473266\n"
     ]
    }
   ],
   "source": [
    "# Assign a test dataframe on which to evaluate\n",
    "df_test = df_list[0]\n",
    "\n",
    "# Split into train and test sets on February 2, 2020\n",
    "train = df_test[:'2020-02-02']\n",
    "test = df_test['2020-02-02':]\n",
    "\n",
    "X_train, y_train = train[['10_day_ma', '50_day_ma', '200_day_ma', \n",
    "                          '1_day_pct_change',\n",
    "                         '2_day_pct_change', \n",
    "                          '3_day_pct_change', \n",
    "                          '4_day_pct_change']], train['intra_clf_target']\n",
    "\n",
    "X_test, y_test = test[['10_day_ma', '50_day_ma', '200_day_ma', \n",
    "                          '1_day_pct_change',\n",
    "                         '2_day_pct_change', \n",
    "                          '3_day_pct_change', \n",
    "                          '4_day_pct_change']], test['intra_clf_target']\n",
    "\n",
    "# Instantiate the KNN Classifier\n",
    "knn = KNeighborsClassifier()\n",
    "\n",
    "# Instantiate the scaler\n",
    "scaler = StandardScaler()\n",
    "\n",
    "# Fit, transform on the train set, only transform on the test set\n",
    "scaler.fit_transform(X_train)\n",
    "scaler.transform(X_test)\n",
    "\n",
    "# Fit the model to the training data\n",
    "knn.fit(X_train, y_train)\n",
    "\n",
    "# Predict on the test data\n",
    "preds = knn.predict(X_test)\n",
    "\n",
    "# Evaluate metrics\n",
    "print('Acc:', accuracy_score(y_test, preds)) # price changes improved to .486 from .45\n",
    "print('Precision:', precision_score(y_test, preds, average = 'weighted')) # improved from .44 with price change feature"
   ]
  },
  {
   "cell_type": "markdown",
   "metadata": {},
   "source": [
    "My initial accuracy and precision scores were .451 and .448, respectively; however, the addition of my moving average and percent-price-change features saw these increase to .478 and .472, respectively."
   ]
  },
  {
   "cell_type": "code",
   "execution_count": 168,
   "metadata": {},
   "outputs": [],
   "source": [
    "def time_cross_validate(df, model, param_grid):\n",
    "    \"\"\"\n",
    "    Takes in df, model, and param_grid, and returns cross validated scores and params.\n",
    "    \n",
    "    df -- dataframe\n",
    "    model -- model to be used for cross validation\n",
    "    param_grid -- dictionary to be used for GridSearch param_grid\n",
    "    \"\"\"\n",
    "    # Designating predictor and target columns\n",
    "    predictor_cols = ['10_day_ma', \n",
    "                      '50_day_ma', \n",
    "                      '200_day_ma', \n",
    "                      '1_day_pct_change',\n",
    "                      '2_day_pct_change', \n",
    "                      '3_day_pct_change', \n",
    "                      '4_day_pct_change']\n",
    "    target = 'intra_clf_target'\n",
    "    \n",
    "    # Creating dataframe with numerical index that can be split\n",
    "    dataframe = df.reset_index()\n",
    "\n",
    "    # Creating tuples of train, test indices to be passed into the cv parameter of GridSearchCV\n",
    "    train_test_indices_1 = (list(range(455)), list(range(455, 530)))\n",
    "    train_test_indices_2 = (list(range(530)), list(range(530, 605)))\n",
    "    train_test_indices_3 = (list(range(605)), list(range(605, 680)))\n",
    "    train_test_indices_4 = (list(range(680)), list(range(680, 755)))\n",
    "    \n",
    "    # Splitting the df into data and target values\n",
    "    data, target = dataframe[predictor_cols], df[target]\n",
    "    \n",
    "    # Scaling the data\n",
    "    scaler = StandardScaler()\n",
    "    scaler.fit_transform(data)\n",
    "    \n",
    "    # Instantiating Gridsearch\n",
    "    \n",
    "    # add pipeline into 'estimator'\n",
    "    # Pipeline(StandardScaler, model)\n",
    "    \n",
    "    clf = GridSearchCV(estimator = model,\n",
    "                       param_grid = param_grid,\n",
    "                       cv = [train_test_indices_1,\n",
    "                             train_test_indices_2,\n",
    "                             train_test_indices_3,\n",
    "                             train_test_indices_4\n",
    "                       ],\n",
    "                       n_jobs = -1,\n",
    "                       scoring = 'f1_weighted',\n",
    "                       verbose = False\n",
    "    )\n",
    "    \n",
    "    # Fitting Gridsearch\n",
    "    clf.fit(data, target)\n",
    "    \n",
    "    # Get results and store them in a dictionary\n",
    "    best_score = clf.best_score_\n",
    "    best_params = clf.best_params_\n",
    "    best_params['best_score'] = best_score\n",
    "    \n",
    "    return best_params"
   ]
  },
  {
   "cell_type": "markdown",
   "metadata": {},
   "source": [
    "### Gridsearch and Cross Validation"
   ]
  },
  {
   "cell_type": "markdown",
   "metadata": {},
   "source": [
    "Next I wanted to add another model - Random Forest - then gridsearch my parameters and cross validate my evaluation metric, F1-Score. Because I have a high imbalance among my three classes, F1-Score serves to remedy much of the bias in scoring this may cause, as it takes into account precision and recall. I gridsearched only on the first ten dataframes in my list of dataframes for the sake of time. For each df and respective model fit to it, a dictionary with the parameters used in the model as well as the F1-Score attained with those parameters. For each model, I compile these into a list, then pick the parameters to use in my final models based on frequency.  "
   ]
  },
  {
   "cell_type": "markdown",
   "metadata": {},
   "source": [
    "Because of the time series nature of the data, I had to create a custom means of cross validating my scoring metric. I split the data into five folds - one representing 60% of the data and four others, each representing 10%. Each of the subsets was in sequential order in relation to all others. I would train on the first, large set and test on the second set. Once I have my scoring metrics from that iteration, I would combine the original train and test sets into one training set then test on the next set in the order. I continued this process until I had tested on all four 'testing' sets, after which I averaged my metrics."
   ]
  },
  {
   "cell_type": "code",
   "execution_count": 209,
   "metadata": {},
   "outputs": [],
   "source": [
    "# Instantiate Random Forest and KNN Classifiers to be used in further modeling\n",
    "rfc = RandomForestClassifier(random_state = 1)\n",
    "knn = KNeighborsClassifier()\n",
    "\n",
    "# Parameter grid for random forest gridsearch\n",
    "rfc_param_grid = {'n_estimators': [500, 750, 1000],\n",
    "                  'class_weight': ['balanced'],\n",
    "                  'criterion': ['gini', 'entropy'],\n",
    "                  'max_depth': [3, 5, 7]\n",
    "             }\n",
    "\n",
    "# Parameter grid for knn gridsearch\n",
    "knn_param_grid = {'n_neighbors': [3, 4, 5, 6, 7],\n",
    "                  'algorithm': ['auto', 'ball_tree', 'kd_tree'],\n",
    "                  'leaf_size': [15, 30, 40]\n",
    "                 }"
   ]
  },
  {
   "cell_type": "markdown",
   "metadata": {},
   "source": [
    "#### Random Forest"
   ]
  },
  {
   "cell_type": "code",
   "execution_count": 210,
   "metadata": {},
   "outputs": [],
   "source": [
    "# Create a list of random forest best params and scores for first 10 dfs\n",
    "rfc_gs_results = []\n",
    "\n",
    "for df in df_list[:10]:\n",
    "    # Gridsearch and Cross Validation \n",
    "    result = time_cross_validate(df = df, model = rfc, param_grid = rfc_param_grid)\n",
    "    \n",
    "    # Appending to list of dicts\n",
    "    rfc_gs_results.append(result)            "
   ]
  },
  {
   "cell_type": "code",
   "execution_count": 211,
   "metadata": {},
   "outputs": [
    {
     "data": {
      "text/plain": [
       "[{'class_weight': 'balanced',\n",
       "  'criterion': 'gini',\n",
       "  'max_depth': 7,\n",
       "  'n_estimators': 750,\n",
       "  'best_score': 0.5176355976288064},\n",
       " {'class_weight': 'balanced',\n",
       "  'criterion': 'gini',\n",
       "  'max_depth': 7,\n",
       "  'n_estimators': 500,\n",
       "  'best_score': 0.4121418774142814},\n",
       " {'class_weight': 'balanced',\n",
       "  'criterion': 'gini',\n",
       "  'max_depth': 7,\n",
       "  'n_estimators': 750,\n",
       "  'best_score': 0.4214129030051067},\n",
       " {'class_weight': 'balanced',\n",
       "  'criterion': 'gini',\n",
       "  'max_depth': 3,\n",
       "  'n_estimators': 1000,\n",
       "  'best_score': 0.41655311678972823},\n",
       " {'class_weight': 'balanced',\n",
       "  'criterion': 'gini',\n",
       "  'max_depth': 7,\n",
       "  'n_estimators': 750,\n",
       "  'best_score': 0.43670282997437815},\n",
       " {'class_weight': 'balanced',\n",
       "  'criterion': 'entropy',\n",
       "  'max_depth': 3,\n",
       "  'n_estimators': 500,\n",
       "  'best_score': 0.5211071224115051},\n",
       " {'class_weight': 'balanced',\n",
       "  'criterion': 'gini',\n",
       "  'max_depth': 7,\n",
       "  'n_estimators': 1000,\n",
       "  'best_score': 0.43345877098714847},\n",
       " {'class_weight': 'balanced',\n",
       "  'criterion': 'entropy',\n",
       "  'max_depth': 7,\n",
       "  'n_estimators': 750,\n",
       "  'best_score': 0.43515271938282385},\n",
       " {'class_weight': 'balanced',\n",
       "  'criterion': 'gini',\n",
       "  'max_depth': 7,\n",
       "  'n_estimators': 500,\n",
       "  'best_score': 0.4363927471407225},\n",
       " {'class_weight': 'balanced',\n",
       "  'criterion': 'gini',\n",
       "  'max_depth': 7,\n",
       "  'n_estimators': 1000,\n",
       "  'best_score': 0.4397852038245766}]"
      ]
     },
     "execution_count": 211,
     "metadata": {},
     "output_type": "execute_result"
    }
   ],
   "source": [
    "rfc_gs_results"
   ]
  },
  {
   "cell_type": "code",
   "execution_count": 212,
   "metadata": {},
   "outputs": [
    {
     "data": {
      "text/plain": [
       "0.44703428885590774"
      ]
     },
     "execution_count": 212,
     "metadata": {},
     "output_type": "execute_result"
    }
   ],
   "source": [
    "# Calculating mean random forest F1 score for the first 10 stocks\n",
    "np.mean([x['best_score'] for x in rfc_gs_results])"
   ]
  },
  {
   "cell_type": "markdown",
   "metadata": {},
   "source": [
    "The highest performing parameters for the Random Forest based on this gridsearch are:\n",
    "* max_depth = 7\n",
    "* n_estimators = 1000\n",
    "* criterion = 'gini'\n",
    "* class_weight = 'balanced'"
   ]
  },
  {
   "cell_type": "markdown",
   "metadata": {},
   "source": [
    "#### KNN"
   ]
  },
  {
   "cell_type": "code",
   "execution_count": 213,
   "metadata": {},
   "outputs": [],
   "source": [
    "# Create a list of knn best params and scores for first 10 dfs\n",
    "knn_gs_results = []\n",
    "\n",
    "for df in df_list[:10]:\n",
    "    # Gridsearch and Cross Validation\n",
    "    result = time_cross_validate(df = df, model = knn, param_grid = knn_param_grid)\n",
    "    \n",
    "    # Appending to list of dicts\n",
    "    knn_gs_results.append(result)            "
   ]
  },
  {
   "cell_type": "code",
   "execution_count": 214,
   "metadata": {},
   "outputs": [
    {
     "data": {
      "text/plain": [
       "[{'algorithm': 'auto',\n",
       "  'leaf_size': 15,\n",
       "  'n_neighbors': 3,\n",
       "  'best_score': 0.576601109444148},\n",
       " {'algorithm': 'auto',\n",
       "  'leaf_size': 15,\n",
       "  'n_neighbors': 7,\n",
       "  'best_score': 0.49638011455886394},\n",
       " {'algorithm': 'auto',\n",
       "  'leaf_size': 15,\n",
       "  'n_neighbors': 4,\n",
       "  'best_score': 0.4731011104209102},\n",
       " {'algorithm': 'auto',\n",
       "  'leaf_size': 15,\n",
       "  'n_neighbors': 3,\n",
       "  'best_score': 0.48475326759503967},\n",
       " {'algorithm': 'auto',\n",
       "  'leaf_size': 15,\n",
       "  'n_neighbors': 5,\n",
       "  'best_score': 0.4389712818529228},\n",
       " {'algorithm': 'auto',\n",
       "  'leaf_size': 15,\n",
       "  'n_neighbors': 3,\n",
       "  'best_score': 0.49703569451333196},\n",
       " {'algorithm': 'auto',\n",
       "  'leaf_size': 15,\n",
       "  'n_neighbors': 5,\n",
       "  'best_score': 0.45593020019920844},\n",
       " {'algorithm': 'auto',\n",
       "  'leaf_size': 15,\n",
       "  'n_neighbors': 3,\n",
       "  'best_score': 0.4753586077256872},\n",
       " {'algorithm': 'auto',\n",
       "  'leaf_size': 15,\n",
       "  'n_neighbors': 4,\n",
       "  'best_score': 0.4893848500649194},\n",
       " {'algorithm': 'auto',\n",
       "  'leaf_size': 15,\n",
       "  'n_neighbors': 3,\n",
       "  'best_score': 0.49386610662578456}]"
      ]
     },
     "execution_count": 214,
     "metadata": {},
     "output_type": "execute_result"
    }
   ],
   "source": [
    "knn_gs_results"
   ]
  },
  {
   "cell_type": "code",
   "execution_count": 215,
   "metadata": {},
   "outputs": [
    {
     "data": {
      "text/plain": [
       "0.4881382343000816"
      ]
     },
     "execution_count": 215,
     "metadata": {},
     "output_type": "execute_result"
    }
   ],
   "source": [
    "# Calculating mean KNN F1 score for the first 10 stocks\n",
    "np.mean([x['best_score'] for x in knn_gs_results])"
   ]
  },
  {
   "cell_type": "markdown",
   "metadata": {},
   "source": [
    "The highest performing parameters for the KNN based on this gridsearch are:\n",
    "* algorithm = 'auto'\n",
    "* leaf_size = 15\n",
    "* n_neighbors = 3"
   ]
  },
  {
   "cell_type": "code",
   "execution_count": 216,
   "metadata": {},
   "outputs": [],
   "source": [
    "def time_train_test_split(df, split_date):\n",
    "    \"\"\"\n",
    "    Takes in a df and a date to split train and test sets\n",
    "    on the split date and returns X_train, X_test, y_train, y_test.\n",
    "    Built to be incorporated with time_cross_validate().\n",
    "    \n",
    "    df -- dataframe of prices\n",
    "    split_date -- str formatted as 'YYYY-MM-DD'\n",
    "    \"\"\"\n",
    "    # Create list of split components\n",
    "    train_test_sets = [] # not being used\n",
    "    \n",
    "    # Create train and test sets\n",
    "    train = df[:split_date]\n",
    "    test = df[split_date:]\n",
    "    \n",
    "    # Create list of columns to use in prediction, as well as target variable\n",
    "    predictor_cols = ['10_day_ma', \n",
    "                      '50_day_ma', \n",
    "                      '200_day_ma', \n",
    "                      '1_day_pct_change',\n",
    "                      '2_day_pct_change', \n",
    "                      '3_day_pct_change', \n",
    "                      '4_day_pct_change']\n",
    "    target = 'intra_clf_target'\n",
    "    \n",
    "    # Create train and test sets\n",
    "    X_train, X_test = train[predictor_cols], test[predictor_cols]\n",
    "    y_train, y_test = train[target], test[target]\n",
    "    \n",
    "    return X_train, X_test, y_train, y_test"
   ]
  },
  {
   "cell_type": "code",
   "execution_count": 217,
   "metadata": {},
   "outputs": [],
   "source": [
    "def scale_and_plant_random_forests(X_train, X_test, y_train, y_test):\n",
    "    \"\"\"\n",
    "    Takes in train and test sets, runs a Random Forest Classifier on each,\n",
    "    then returns a tuple of y test and y predicted values to be\n",
    "    passed through an f1_score\n",
    "    \n",
    "    X_train -- training prediction data\n",
    "    X_test -- testing prediction data\n",
    "    y_train -- training target data\n",
    "    y_test -- testing target data\n",
    "    \"\"\"\n",
    "    # Instantiate scaler\n",
    "    scaler = StandardScaler()\n",
    "    \n",
    "    # Fit, transform on train set, only transform test set\n",
    "    scaler.fit_transform(X_train)\n",
    "    scaler.transform(X_test)\n",
    "    \n",
    "    # Instantiate Random Forest Classifier with gridsearched parameters\n",
    "    rfc = RandomForestClassifier(random_state = 1,\n",
    "                                 max_depth = 7,\n",
    "                                 n_estimators = 1000,\n",
    "                                 criterion = 'gini',\n",
    "                                 class_weight = 'balanced'\n",
    "                                )\n",
    "    \n",
    "    # Fit to the training data\n",
    "    rfc.fit(X_train, y_train)\n",
    "    \n",
    "    # Predict on the test data\n",
    "    y_pred = rfc.predict(X_test)\n",
    "    \n",
    "    return (y_test, y_pred)"
   ]
  },
  {
   "cell_type": "code",
   "execution_count": 218,
   "metadata": {},
   "outputs": [],
   "source": [
    "def scale_and_knn(X_train, X_test, y_train, y_test):\n",
    "    \"\"\"\n",
    "    Takes in train and test sets, runs a K Nearest Neighbors Classifier on each,\n",
    "    then returns a tuple of y test and y predicted values to be\n",
    "    passed through an f1_score.\n",
    "    \n",
    "    X_train -- training prediction data\n",
    "    X_test -- testing prediction data\n",
    "    y_train -- training target data\n",
    "    y_test -- testing target data\n",
    "    \"\"\"\n",
    "    # Instantiate scaler\n",
    "    scaler = StandardScaler()\n",
    "    \n",
    "    # Fit, transform on train set, only transform test set\n",
    "    scaler.fit_transform(X_train)\n",
    "    scaler.transform(X_test)\n",
    "    \n",
    "    # Instantiate K Neighbors Classifier with gridsearched parameters\n",
    "    knn = KNeighborsClassifier(algorithm = 'auto',\n",
    "                               leaf_size = 15, \n",
    "                               n_neighbors = 3\n",
    "                              )\n",
    "    \n",
    "    # Fit to the training data\n",
    "    knn.fit(X_train, y_train)\n",
    "    \n",
    "    # Predict on the test data\n",
    "    y_pred = knn.predict(X_test)\n",
    "    \n",
    "    return (y_test, y_pred)"
   ]
  },
  {
   "cell_type": "code",
   "execution_count": 219,
   "metadata": {},
   "outputs": [],
   "source": [
    "def compare_scores(df_list):\n",
    "    \"\"\"\n",
    "    Takes in a list of dfs and returns a list of tuples to \n",
    "    compare the performance of two models based on their \n",
    "    respective F1 scores.\n",
    "    \n",
    "    df_list -- list of dfs\n",
    "    \"\"\"\n",
    "    # Creating a list of tuples to compare model performance on each stock\n",
    "    tuned_scores_comparison_list = []\n",
    "\n",
    "    # Looping through the list of dfs\n",
    "    for df in df_list:\n",
    "        # Splitting train and test sets\n",
    "        X_train, X_test, y_train, y_test = time_train_test_split(df, '2020-05-20')\n",
    "\n",
    "        # Predicting with Random Forest\n",
    "        (true, pred) = scale_and_plant_random_forests(X_train, X_test, y_train, y_test)\n",
    "\n",
    "        # Evaluating Random Forest\n",
    "        rfc_f1 = f1_score(true, pred, average = 'weighted')\n",
    "\n",
    "        # Predicting with KNN\n",
    "        (true, pred) = scale_and_knn(X_train, X_test, y_train, y_test)\n",
    "\n",
    "        # Evaluating KNN\n",
    "        knn_f1 = f1_score(true, pred, average = 'weighted')\n",
    "\n",
    "        # Appending to list of tuples\n",
    "        tuned_scores_comparison_list.append((rfc_f1, knn_f1))\n",
    "\n",
    "    return tuned_scores_comparison_list"
   ]
  },
  {
   "cell_type": "markdown",
   "metadata": {},
   "source": [
    "### Final Classification Models"
   ]
  },
  {
   "cell_type": "markdown",
   "metadata": {},
   "source": [
    "#### Analysis of Results and Comparing Models"
   ]
  },
  {
   "cell_type": "markdown",
   "metadata": {},
   "source": [
    "For my final Random Forest and KNN models, I used the parameters I obtained through my gridsearch. I anticipated that there would not be a clear favorite among the two models, and that instead KNN would perform better on some stocks while Random Forest would perform better on others. I evaluated both models on the first ten stocks, creating a list of tuples of F1-Scores. The first item in each tuple corresponds to the Random Forest F1 and the second to the KNN F1."
   ]
  },
  {
   "cell_type": "code",
   "execution_count": 222,
   "metadata": {},
   "outputs": [
    {
     "data": {
      "text/plain": [
       "[(0.4509692605926336, 0.4901152892169149),\n",
       " (0.30944654196808563, 0.4423287183594594),\n",
       " (0.38072286164810465, 0.5943245528288288),\n",
       " (0.3270178241615679, 0.5724220005461703),\n",
       " (0.5049749031359106, 0.4765149879448703),\n",
       " (0.3269822688930969, 0.39663309090060683),\n",
       " (0.44208826413480257, 0.45570681714302896),\n",
       " (0.46216861131465714, 0.5564158530435737),\n",
       " (0.4509692605926336, 0.4901152892169149),\n",
       " (0.4782157333112747, 0.5354857513708452)]"
      ]
     },
     "execution_count": 222,
     "metadata": {},
     "output_type": "execute_result"
    }
   ],
   "source": [
    "# Creating a list of tuples to compare model performance on each stock\n",
    "comparison_list = compare_scores(cm_df_list)\n",
    "comparison_list"
   ]
  },
  {
   "cell_type": "code",
   "execution_count": 223,
   "metadata": {},
   "outputs": [],
   "source": [
    "# Splitting the above tuples into individual lists of F1-Scores for the purpose of visualization\n",
    "rfc_f1 = [x[0] for x in comparison_list]\n",
    "knn_f1 = [x[1] for x in comparison_list]"
   ]
  },
  {
   "cell_type": "code",
   "execution_count": 228,
   "metadata": {},
   "outputs": [
    {
     "data": {
      "image/png": "[encoded data removed]",
      "text/plain": [
       "<Figure size 720x504 with 1 Axes>"
      ]
     },
     "metadata": {},
     "output_type": "display_data"
    }
   ],
   "source": [
    "fig, ax = plt.subplots(figsize = (10,7))\n",
    "sns.lineplot(x = range(10), y = rfc_f1, label = 'RFC F1-Score')\n",
    "sns.lineplot(x = range(10), y = knn_f1, label = 'KNN F1-Score')\n",
    "ax.set(xlabel = 'Stock #',ylabel = 'F1-Score', title = 'F1-Score on Each of Eight Stocks')\n",
    "sns.set_theme(font_scale = 1)\n",
    "# ax.axhline(y = np.mean(rfc_f1), xmin = .05, xmax = .95)\n",
    "# ax.axhline(y = np.mean(knn_f1), xmin = .05, xmax = .95, color = 'orange')\n",
    "# ax.text(x = 9.5, y = np.mean(rfc_f1), s = str(round(np.mean(rfc_f1), 2)))\n",
    "# ax.text(x = 9.5, y = np.mean(knn_f1), s = str(round(np.mean(knn_f1), 2)))\n",
    "ax.legend()\n",
    "plt.show()"
   ]
  },
  {
   "cell_type": "markdown",
   "metadata": {},
   "source": [
    "Contrary to my initial assumption, the KNN F1-Score (.48) outperformed the RF F1-Score (.43) by .05 on average, as shown in the graph above."
   ]
  },
  {
   "cell_type": "markdown",
   "metadata": {},
   "source": [
    "# Time Series"
   ]
  },
  {
   "cell_type": "markdown",
   "metadata": {},
   "source": [
    "In order to predict exact prices as opposed to price movements, I needed to use time series models like ARMA, which stands for Autoregressive Moving Average. The autoregressive portion of the title refers to the model's ability to predict a value based on values that came chronologically before it. The moving average portion is self explanatory, referring to the model's use of a moving average component in its forecasting."
   ]
  },
  {
   "cell_type": "markdown",
   "metadata": {},
   "source": [
    "## Data Inspection"
   ]
  },
  {
   "cell_type": "markdown",
   "metadata": {},
   "source": [
    "I began by taking a look at a dataframe from my capital markets stock list to use as a test df to develop my first simple model."
   ]
  },
  {
   "cell_type": "code",
   "execution_count": 53,
   "metadata": {},
   "outputs": [
    {
     "data": {
      "text/html": [
       "<div>\n",
       "<style scoped>\n",
       "    .dataframe tbody tr th:only-of-type {\n",
       "        vertical-align: middle;\n",
       "    }\n",
       "\n",
       "    .dataframe tbody tr th {\n",
       "        vertical-align: top;\n",
       "    }\n",
       "\n",
       "    .dataframe thead th {\n",
       "        text-align: right;\n",
       "    }\n",
       "</style>\n",
       "<table border=\"1\" class=\"dataframe\">\n",
       "  <thead>\n",
       "    <tr style=\"text-align: right;\">\n",
       "      <th></th>\n",
       "      <th>open</th>\n",
       "      <th>high</th>\n",
       "      <th>low</th>\n",
       "      <th>close</th>\n",
       "      <th>volume</th>\n",
       "      <th>ticker</th>\n",
       "      <th>intra_clf_target</th>\n",
       "      <th>10_day_ma</th>\n",
       "      <th>50_day_ma</th>\n",
       "      <th>200_day_ma</th>\n",
       "      <th>1_day_pct_change</th>\n",
       "      <th>2_day_pct_change</th>\n",
       "      <th>3_day_pct_change</th>\n",
       "      <th>4_day_pct_change</th>\n",
       "    </tr>\n",
       "    <tr>\n",
       "      <th>datetime</th>\n",
       "      <th></th>\n",
       "      <th></th>\n",
       "      <th></th>\n",
       "      <th></th>\n",
       "      <th></th>\n",
       "      <th></th>\n",
       "      <th></th>\n",
       "      <th></th>\n",
       "      <th></th>\n",
       "      <th></th>\n",
       "      <th></th>\n",
       "      <th></th>\n",
       "      <th></th>\n",
       "      <th></th>\n",
       "    </tr>\n",
       "  </thead>\n",
       "  <tbody>\n",
       "    <tr>\n",
       "      <th>2018-01-12 06:00:00</th>\n",
       "      <td>10.00</td>\n",
       "      <td>10.2</td>\n",
       "      <td>10.000</td>\n",
       "      <td>10.15</td>\n",
       "      <td>64727</td>\n",
       "      <td>SFE</td>\n",
       "      <td>1</td>\n",
       "      <td>10.150000</td>\n",
       "      <td>10.150000</td>\n",
       "      <td>10.150000</td>\n",
       "      <td>0</td>\n",
       "      <td>0</td>\n",
       "      <td>0</td>\n",
       "      <td>0</td>\n",
       "    </tr>\n",
       "    <tr>\n",
       "      <th>2018-01-16 06:00:00</th>\n",
       "      <td>10.15</td>\n",
       "      <td>10.2</td>\n",
       "      <td>10.000</td>\n",
       "      <td>10.00</td>\n",
       "      <td>165225</td>\n",
       "      <td>SFE</td>\n",
       "      <td>0</td>\n",
       "      <td>10.067500</td>\n",
       "      <td>10.073500</td>\n",
       "      <td>10.074625</td>\n",
       "      <td>0</td>\n",
       "      <td>0</td>\n",
       "      <td>0</td>\n",
       "      <td>0</td>\n",
       "    </tr>\n",
       "    <tr>\n",
       "      <th>2018-01-17 06:00:00</th>\n",
       "      <td>10.00</td>\n",
       "      <td>10.1</td>\n",
       "      <td>9.825</td>\n",
       "      <td>9.85</td>\n",
       "      <td>117447</td>\n",
       "      <td>SFE</td>\n",
       "      <td>0</td>\n",
       "      <td>9.980066</td>\n",
       "      <td>9.996001</td>\n",
       "      <td>9.999000</td>\n",
       "      <td>0</td>\n",
       "      <td>0</td>\n",
       "      <td>0</td>\n",
       "      <td>0</td>\n",
       "    </tr>\n",
       "    <tr>\n",
       "      <th>2018-01-18 06:00:00</th>\n",
       "      <td>10.30</td>\n",
       "      <td>11.3</td>\n",
       "      <td>10.200</td>\n",
       "      <td>11.20</td>\n",
       "      <td>533626</td>\n",
       "      <td>SFE</td>\n",
       "      <td>1</td>\n",
       "      <td>10.381980</td>\n",
       "      <td>10.315296</td>\n",
       "      <td>10.303769</td>\n",
       "      <td>0</td>\n",
       "      <td>0</td>\n",
       "      <td>0</td>\n",
       "      <td>0</td>\n",
       "    </tr>\n",
       "    <tr>\n",
       "      <th>2018-01-19 06:00:00</th>\n",
       "      <td>11.15</td>\n",
       "      <td>11.7</td>\n",
       "      <td>11.050</td>\n",
       "      <td>11.45</td>\n",
       "      <td>214419</td>\n",
       "      <td>SFE</td>\n",
       "      <td>1</td>\n",
       "      <td>10.688580</td>\n",
       "      <td>10.560748</td>\n",
       "      <td>10.537623</td>\n",
       "      <td>0</td>\n",
       "      <td>0</td>\n",
       "      <td>0</td>\n",
       "      <td>0</td>\n",
       "    </tr>\n",
       "  </tbody>\n",
       "</table>\n",
       "</div>"
      ],
      "text/plain": [
       "                      open  high     low  close  volume ticker  \\\n",
       "datetime                                                         \n",
       "2018-01-12 06:00:00  10.00  10.2  10.000  10.15   64727    SFE   \n",
       "2018-01-16 06:00:00  10.15  10.2  10.000  10.00  165225    SFE   \n",
       "2018-01-17 06:00:00  10.00  10.1   9.825   9.85  117447    SFE   \n",
       "2018-01-18 06:00:00  10.30  11.3  10.200  11.20  533626    SFE   \n",
       "2018-01-19 06:00:00  11.15  11.7  11.050  11.45  214419    SFE   \n",
       "\n",
       "                     intra_clf_target  10_day_ma  50_day_ma  200_day_ma  \\\n",
       "datetime                                                                  \n",
       "2018-01-12 06:00:00                 1  10.150000  10.150000   10.150000   \n",
       "2018-01-16 06:00:00                 0  10.067500  10.073500   10.074625   \n",
       "2018-01-17 06:00:00                 0   9.980066   9.996001    9.999000   \n",
       "2018-01-18 06:00:00                 1  10.381980  10.315296   10.303769   \n",
       "2018-01-19 06:00:00                 1  10.688580  10.560748   10.537623   \n",
       "\n",
       "                     1_day_pct_change  2_day_pct_change  3_day_pct_change  \\\n",
       "datetime                                                                    \n",
       "2018-01-12 06:00:00                 0                 0                 0   \n",
       "2018-01-16 06:00:00                 0                 0                 0   \n",
       "2018-01-17 06:00:00                 0                 0                 0   \n",
       "2018-01-18 06:00:00                 0                 0                 0   \n",
       "2018-01-19 06:00:00                 0                 0                 0   \n",
       "\n",
       "                     4_day_pct_change  \n",
       "datetime                               \n",
       "2018-01-12 06:00:00                 0  \n",
       "2018-01-16 06:00:00                 0  \n",
       "2018-01-17 06:00:00                 0  \n",
       "2018-01-18 06:00:00                 0  \n",
       "2018-01-19 06:00:00                 0  "
      ]
     },
     "execution_count": 53,
     "metadata": {},
     "output_type": "execute_result"
    }
   ],
   "source": [
    "cm_df_list[0].head()"
   ]
  },
  {
   "cell_type": "code",
   "execution_count": 57,
   "metadata": {},
   "outputs": [
    {
     "data": {
      "text/plain": [
       "datetime\n",
       "2018-01-12 06:00:00    10.15\n",
       "2018-01-16 06:00:00    10.00\n",
       "2018-01-17 06:00:00     9.85\n",
       "2018-01-18 06:00:00    11.20\n",
       "2018-01-19 06:00:00    11.45\n",
       "Name: close, dtype: float64"
      ]
     },
     "execution_count": 57,
     "metadata": {},
     "output_type": "execute_result"
    }
   ],
   "source": [
    "df_test = cm_df_list[0]['close']\n",
    "\n",
    "df_test.head()"
   ]
  },
  {
   "cell_type": "code",
   "execution_count": 58,
   "metadata": {},
   "outputs": [
    {
     "data": {
      "text/plain": [
       "<AxesSubplot:xlabel='datetime'>"
      ]
     },
     "execution_count": 58,
     "metadata": {},
     "output_type": "execute_result"
    },
    {
     "data": {
      "image/png": "[encoded data removed]",
      "text/plain": [
       "<Figure size 432x288 with 1 Axes>"
      ]
     },
     "metadata": {},
     "output_type": "display_data"
    }
   ],
   "source": [
    "df_test.plot()"
   ]
  },
  {
   "cell_type": "markdown",
   "metadata": {},
   "source": [
    "## ARMA"
   ]
  },
  {
   "cell_type": "markdown",
   "metadata": {},
   "source": [
    "### Detrending"
   ]
  },
  {
   "cell_type": "markdown",
   "metadata": {},
   "source": [
    "Next I move on to detrending in order to remove periodicity and acheive stationarity in my time series. I employ differencing to do this. ARMA models assume input data is stationary."
   ]
  },
  {
   "cell_type": "code",
   "execution_count": 56,
   "metadata": {},
   "outputs": [],
   "source": [
    "df_diff = df_test.diff(periods = 1)\n",
    "df_diff.dropna(inplace = True)"
   ]
  },
  {
   "cell_type": "code",
   "execution_count": 208,
   "metadata": {},
   "outputs": [
    {
     "data": {
      "text/plain": [
       "<AxesSubplot:xlabel='datetime'>"
      ]
     },
     "execution_count": 208,
     "metadata": {},
     "output_type": "execute_result"
    },
    {
     "data": {
      "image/png": "[encoded data removed]",
      "text/plain": [
       "<Figure size 432x288 with 1 Axes>"
      ]
     },
     "metadata": {
      "needs_background": "light"
     },
     "output_type": "display_data"
    }
   ],
   "source": [
    "df_diff.plot()"
   ]
  },
  {
   "cell_type": "code",
   "execution_count": 197,
   "metadata": {},
   "outputs": [
    {
     "data": {
      "text/plain": [
       "(-17.832619508709396,\n",
       " 3.1289329136918215e-30,\n",
       " 1,\n",
       " 753,\n",
       " {'1%': -3.4390641198617864,\n",
       "  '5%': -2.8653859408474482,\n",
       "  '10%': -2.5688179819544312},\n",
       " -237.80094601068822)"
      ]
     },
     "execution_count": 197,
     "metadata": {},
     "output_type": "execute_result"
    }
   ],
   "source": [
    "# Dickey-Fuller test for stationarity\n",
    "d_f = adfuller(df_diff)\n",
    "d_f"
   ]
  },
  {
   "cell_type": "markdown",
   "metadata": {},
   "source": [
    "### Train/Test Split"
   ]
  },
  {
   "cell_type": "code",
   "execution_count": 54,
   "metadata": {},
   "outputs": [],
   "source": [
    "end_train_date = '2020-12-01'\n",
    "end_test_date = '2020-12-18'"
   ]
  },
  {
   "cell_type": "code",
   "execution_count": 58,
   "metadata": {},
   "outputs": [],
   "source": [
    "# Slicing my data based on set dates\n",
    "train = df_diff[:end_train_date]\n",
    "test = df_diff[end_train_date:end_test_date]"
   ]
  },
  {
   "cell_type": "markdown",
   "metadata": {},
   "source": [
    "### Modeling"
   ]
  },
  {
   "cell_type": "markdown",
   "metadata": {},
   "source": [
    "Through trial and error I arrive at order parameters of 4 and 4 for AR and MA, respectively. These parameters dictate how many autoregressive and moving average terms exist within the ARMA function. They yielded me the lowest AIC score."
   ]
  },
  {
   "cell_type": "code",
   "execution_count": 192,
   "metadata": {},
   "outputs": [
    {
     "data": {
      "text/html": [
       "<table class=\"simpletable\">\n",
       "<caption>ARMA Model Results</caption>\n",
       "<tr>\n",
       "  <th>Dep. Variable:</th>       <td>close</td>      <th>  No. Observations:  </th>    <td>734</td>  \n",
       "</tr>\n",
       "<tr>\n",
       "  <th>Model:</th>            <td>ARMA(4, 4)</td>    <th>  Log Likelihood     </th>  <td>218.564</td>\n",
       "</tr>\n",
       "<tr>\n",
       "  <th>Method:</th>             <td>css-mle</td>     <th>  S.D. of innovations</th>   <td>0.180</td> \n",
       "</tr>\n",
       "<tr>\n",
       "  <th>Date:</th>          <td>Mon, 04 Jan 2021</td> <th>  AIC                </th> <td>-417.129</td>\n",
       "</tr>\n",
       "<tr>\n",
       "  <th>Time:</th>              <td>23:17:33</td>     <th>  BIC                </th> <td>-371.144</td>\n",
       "</tr>\n",
       "<tr>\n",
       "  <th>Sample:</th>                <td>0</td>        <th>  HQIC               </th> <td>-399.392</td>\n",
       "</tr>\n",
       "<tr>\n",
       "  <th></th>                       <td> </td>        <th>                     </th>     <td> </td>   \n",
       "</tr>\n",
       "</table>\n",
       "<table class=\"simpletable\">\n",
       "<tr>\n",
       "       <td></td>          <th>coef</th>     <th>std err</th>      <th>z</th>      <th>P>|z|</th>  <th>[0.025</th>    <th>0.975]</th>  \n",
       "</tr>\n",
       "<tr>\n",
       "  <th>const</th>       <td>   -0.0148</td> <td>    0.008</td> <td>   -1.849</td> <td> 0.065</td> <td>   -0.031</td> <td>    0.001</td>\n",
       "</tr>\n",
       "<tr>\n",
       "  <th>ar.L1.close</th> <td>    1.0522</td> <td> 4.88e-05</td> <td> 2.16e+04</td> <td> 0.000</td> <td>    1.052</td> <td>    1.052</td>\n",
       "</tr>\n",
       "<tr>\n",
       "  <th>ar.L2.close</th> <td>   -0.6510</td> <td>    0.000</td> <td>-4342.666</td> <td> 0.000</td> <td>   -0.651</td> <td>   -0.651</td>\n",
       "</tr>\n",
       "<tr>\n",
       "  <th>ar.L3.close</th> <td>    1.1767</td> <td> 2.45e-06</td> <td>  4.8e+05</td> <td> 0.000</td> <td>    1.177</td> <td>    1.177</td>\n",
       "</tr>\n",
       "<tr>\n",
       "  <th>ar.L4.close</th> <td>   -0.8154</td> <td> 8.58e-05</td> <td>-9501.327</td> <td> 0.000</td> <td>   -0.816</td> <td>   -0.815</td>\n",
       "</tr>\n",
       "<tr>\n",
       "  <th>ma.L1.close</th> <td>   -1.0817</td> <td>    0.019</td> <td>  -58.208</td> <td> 0.000</td> <td>   -1.118</td> <td>   -1.045</td>\n",
       "</tr>\n",
       "<tr>\n",
       "  <th>ma.L2.close</th> <td>    0.6793</td> <td>    0.006</td> <td>  112.718</td> <td> 0.000</td> <td>    0.667</td> <td>    0.691</td>\n",
       "</tr>\n",
       "<tr>\n",
       "  <th>ma.L3.close</th> <td>   -1.1739</td> <td>    0.009</td> <td> -124.085</td> <td> 0.000</td> <td>   -1.192</td> <td>   -1.155</td>\n",
       "</tr>\n",
       "<tr>\n",
       "  <th>ma.L4.close</th> <td>    0.8632</td> <td>    0.016</td> <td>   54.891</td> <td> 0.000</td> <td>    0.832</td> <td>    0.894</td>\n",
       "</tr>\n",
       "</table>\n",
       "<table class=\"simpletable\">\n",
       "<caption>Roots</caption>\n",
       "<tr>\n",
       "    <td></td>   <th>            Real</th>  <th>         Imaginary</th> <th>         Modulus</th>  <th>        Frequency</th>\n",
       "</tr>\n",
       "<tr>\n",
       "  <th>AR.1</th> <td>          -0.3372</td> <td>          -0.9414j</td> <td>           1.0000</td> <td>          -0.3047</td>\n",
       "</tr>\n",
       "<tr>\n",
       "  <th>AR.2</th> <td>          -0.3372</td> <td>          +0.9414j</td> <td>           1.0000</td> <td>           0.3047</td>\n",
       "</tr>\n",
       "<tr>\n",
       "  <th>AR.3</th> <td>           1.0587</td> <td>          -0.3248j</td> <td>           1.1074</td> <td>          -0.0474</td>\n",
       "</tr>\n",
       "<tr>\n",
       "  <th>AR.4</th> <td>           1.0587</td> <td>          +0.3248j</td> <td>           1.1074</td> <td>           0.0474</td>\n",
       "</tr>\n",
       "<tr>\n",
       "  <th>MA.1</th> <td>          -0.3371</td> <td>          -0.9415j</td> <td>           1.0000</td> <td>          -0.3047</td>\n",
       "</tr>\n",
       "<tr>\n",
       "  <th>MA.2</th> <td>          -0.3371</td> <td>          +0.9415j</td> <td>           1.0000</td> <td>           0.3047</td>\n",
       "</tr>\n",
       "<tr>\n",
       "  <th>MA.3</th> <td>           1.0171</td> <td>          -0.3521j</td> <td>           1.0763</td> <td>          -0.0530</td>\n",
       "</tr>\n",
       "<tr>\n",
       "  <th>MA.4</th> <td>           1.0171</td> <td>          +0.3521j</td> <td>           1.0763</td> <td>           0.0530</td>\n",
       "</tr>\n",
       "</table>"
      ],
      "text/plain": [
       "<class 'statsmodels.iolib.summary.Summary'>\n",
       "\"\"\"\n",
       "                              ARMA Model Results                              \n",
       "==============================================================================\n",
       "Dep. Variable:                  close   No. Observations:                  734\n",
       "Model:                     ARMA(4, 4)   Log Likelihood                 218.564\n",
       "Method:                       css-mle   S.D. of innovations              0.180\n",
       "Date:                Mon, 04 Jan 2021   AIC                           -417.129\n",
       "Time:                        23:17:33   BIC                           -371.144\n",
       "Sample:                             0   HQIC                          -399.392\n",
       "                                                                              \n",
       "===============================================================================\n",
       "                  coef    std err          z      P>|z|      [0.025      0.975]\n",
       "-------------------------------------------------------------------------------\n",
       "const          -0.0148      0.008     -1.849      0.065      -0.031       0.001\n",
       "ar.L1.close     1.0522   4.88e-05   2.16e+04      0.000       1.052       1.052\n",
       "ar.L2.close    -0.6510      0.000  -4342.666      0.000      -0.651      -0.651\n",
       "ar.L3.close     1.1767   2.45e-06    4.8e+05      0.000       1.177       1.177\n",
       "ar.L4.close    -0.8154   8.58e-05  -9501.327      0.000      -0.816      -0.815\n",
       "ma.L1.close    -1.0817      0.019    -58.208      0.000      -1.118      -1.045\n",
       "ma.L2.close     0.6793      0.006    112.718      0.000       0.667       0.691\n",
       "ma.L3.close    -1.1739      0.009   -124.085      0.000      -1.192      -1.155\n",
       "ma.L4.close     0.8632      0.016     54.891      0.000       0.832       0.894\n",
       "                                    Roots                                    \n",
       "=============================================================================\n",
       "                  Real          Imaginary           Modulus         Frequency\n",
       "-----------------------------------------------------------------------------\n",
       "AR.1           -0.3372           -0.9414j            1.0000           -0.3047\n",
       "AR.2           -0.3372           +0.9414j            1.0000            0.3047\n",
       "AR.3            1.0587           -0.3248j            1.1074           -0.0474\n",
       "AR.4            1.0587           +0.3248j            1.1074            0.0474\n",
       "MA.1           -0.3371           -0.9415j            1.0000           -0.3047\n",
       "MA.2           -0.3371           +0.9415j            1.0000            0.3047\n",
       "MA.3            1.0171           -0.3521j            1.0763           -0.0530\n",
       "MA.4            1.0171           +0.3521j            1.0763            0.0530\n",
       "-----------------------------------------------------------------------------\n",
       "\"\"\""
      ]
     },
     "execution_count": 192,
     "metadata": {},
     "output_type": "execute_result"
    }
   ],
   "source": [
    "# Training the ARMA model on the training data\n",
    "mod_arma = ARMA(train, order = (4,4)) # how to decide on order again?\n",
    "res_arma = mod_arma.fit()\n",
    "res_arma.summary()"
   ]
  },
  {
   "cell_type": "code",
   "execution_count": 213,
   "metadata": {},
   "outputs": [],
   "source": [
    "# Forecasting with the trained model\n",
    "preds = res_arma.forecast(steps = 14)"
   ]
  },
  {
   "cell_type": "markdown",
   "metadata": {},
   "source": [
    "### Model Evalutation"
   ]
  },
  {
   "cell_type": "markdown",
   "metadata": {},
   "source": [
    "Below is a lineplot comparing the true prices with the predicted ones. "
   ]
  },
  {
   "cell_type": "code",
   "execution_count": 214,
   "metadata": {},
   "outputs": [
    {
     "data": {
      "text/plain": [
       "<matplotlib.legend.Legend at 0x1dc2fc83f40>"
      ]
     },
     "execution_count": 214,
     "metadata": {},
     "output_type": "execute_result"
    },
    {
     "data": {
      "image/png": "[encoded data removed]",
      "text/plain": [
       "<Figure size 432x288 with 1 Axes>"
      ]
     },
     "metadata": {
      "needs_background": "light"
     },
     "output_type": "display_data"
    }
   ],
   "source": [
    "plt.plot(range(0,14), preds[0], label = 'preds')\n",
    "plt.plot(range(0,14), test[:14], label = 'true')\n",
    "plt.legend()"
   ]
  },
  {
   "cell_type": "code",
   "execution_count": 215,
   "metadata": {},
   "outputs": [
    {
     "data": {
      "text/plain": [
       "0.18662607399567527"
      ]
     },
     "execution_count": 215,
     "metadata": {},
     "output_type": "execute_result"
    }
   ],
   "source": [
    "# Calculating RMSE of my forecasts\n",
    "rmse = np.sqrt(mean_squared_error(test[0:14].values, preds[0]))\n",
    "rmse"
   ]
  },
  {
   "cell_type": "markdown",
   "metadata": {},
   "source": [
    "A RMSE of .1866 means that the model's predictions differ from the actual differenced prices by $.1866 accross the 14 days; however, the model appears to be underfitting the data."
   ]
  },
  {
   "cell_type": "markdown",
   "metadata": {},
   "source": [
    "### Gridsearched ARMA"
   ]
  },
  {
   "cell_type": "markdown",
   "metadata": {},
   "source": [
    "After building my first simple ARMA model, I wanted to gridsearch the p and q parameters to find the combination that would produce the lowest RMSE for each capital markets stock. For each stock, I predict fourteen days after the end of the training data. I mainly use RMSE as my scoring parameter, as I feel this best captures the dollar difference between actual and predicted prices."
   ]
  },
  {
   "cell_type": "code",
   "execution_count": 59,
   "metadata": {},
   "outputs": [],
   "source": [
    "# Defining AR and MA order components\n",
    "p = range(0,5) # AR\n",
    "q = range(0,5) # MA"
   ]
  },
  {
   "cell_type": "code",
   "execution_count": 60,
   "metadata": {},
   "outputs": [],
   "source": [
    "# Creating every combination of p, d, and q parameters\n",
    "pq = itertools.product(p, q)\n",
    "\n",
    "# Converting from itertools product object to list\n",
    "pq = list(pq)"
   ]
  },
  {
   "cell_type": "code",
   "execution_count": 195,
   "metadata": {},
   "outputs": [],
   "source": [
    "def gridsearch_arma(orders_list, train, test, n_days = 14):\n",
    "    \"\"\"\n",
    "    Takes in a list of orders, a train set, a test set, and a number of days\n",
    "    to forecast into the future. Returns a list of results for each models and\n",
    "    a list of any orders that caused the model to fail.\n",
    "    \n",
    "    orders_list -- A list of tuples containing p and q parameters\n",
    "    train -- A series of the endogenous variable\n",
    "    test -- A series of the endogenous variable to measure model performance\n",
    "    n_days -- An integer denoting the number of days to forecast\n",
    "    \"\"\"\n",
    "    # Instantiating a list of results dictionaries\n",
    "    results_list = []\n",
    "\n",
    "    # Instantiating fail cache\n",
    "    fail_cache = []\n",
    "\n",
    "    # Setting number of days to forecast forward\n",
    "    n_days = n_days\n",
    "\n",
    "    # Looping through each set of parameters to find the best combination\n",
    "    for o in orders_list:\n",
    "        try:\n",
    "            # Instantiating new dictionary of results and parameters for each gridsearched model\n",
    "            results_dict = {}\n",
    "\n",
    "            # Instantiating the ARMA model\n",
    "            arma = ARMA(train, \n",
    "                        order = o, \n",
    "                   )\n",
    "\n",
    "            # Fitting the model\n",
    "            fitted_arma = arma.fit()\n",
    "\n",
    "            # Forecasting 14 days after training data\n",
    "            arma_preds = fitted_arma.forecast(steps = n_days)[0]\n",
    "\n",
    "            # Pulling AIC score from the model\n",
    "            aic = fitted_arma.aic\n",
    "\n",
    "            # Calculating RMSE for forecasted values\n",
    "            rmse = np.sqrt(mean_squared_error(test[:n_days].values, arma_preds))\n",
    "\n",
    "            # Assigning dictionary values of results and parameters\n",
    "            results_dict['order'] = o\n",
    "            results_dict['aic'] = aic\n",
    "            results_dict['rmse'] = rmse\n",
    "\n",
    "            # Adding each dictionary to the list of results dictionaries\n",
    "            results_list.append(results_dict) \n",
    "\n",
    "        except:\n",
    "            fail_cache.append({'order': o,\n",
    "                               })\n",
    "            continue\n",
    "        \n",
    "    return results_list, fail_cache"
   ]
  },
  {
   "cell_type": "code",
   "execution_count": 196,
   "metadata": {},
   "outputs": [],
   "source": [
    "def get_best_time_series(results_list):\n",
    "    \"\"\"\n",
    "    Takes in a list of results dictionaries containing SARIMA params\n",
    "    and model performance metrics. Returns best model params and scores\n",
    "    for RMSE and AIC, in that order.\n",
    "    \n",
    "    results_list -- list of results dictionaries.\n",
    "    \"\"\"    \n",
    "    # Sorting scores list by RMSE\n",
    "    sorted_by_rmse = sorted(results_list, key = lambda x: x['rmse'])\n",
    "    \n",
    "    # Top model by RMSE\n",
    "    top_rmse_model = sorted_by_rmse[0]\n",
    "    \n",
    "    # Sorting scores list by AIC\n",
    "    sorted_by_aic = sorted(results_list, key = lambda x: x['aic'])\n",
    "    \n",
    "    # Top model by AIC\n",
    "    top_aic_model = sorted_by_aic[0]\n",
    "    \n",
    "    return [top_rmse_model, top_aic_model]"
   ]
  },
  {
   "cell_type": "code",
   "execution_count": 197,
   "metadata": {},
   "outputs": [],
   "source": [
    "def gridsearch_arma_multiple(df_list, orders_list, n_days = 14):\n",
    "    \"\"\"\n",
    "    Takes in a list of dfs, a list of order params, and a number \n",
    "    of days to forecast into the future. Returns gridsearched ARMA \n",
    "    model results for each.\n",
    "    \n",
    "    df_list -- list of dataframes\n",
    "    orders_list -- A list of tuples containing p and q parameters\n",
    "    n_days -- An integer denoting the number of days to forecast\n",
    "    \"\"\"\n",
    "    # Creating list to hold results for each df\n",
    "    best_model_list = []\n",
    "    \n",
    "    for df in df_list:\n",
    "        # Isolate endogenous variable\n",
    "        df_endog = df['close']\n",
    "        \n",
    "        # Create differenced df to improve stationarity\n",
    "        df_diff = df_endog.diff(periods = 1)\n",
    "        df_diff.dropna(inplace = True)\n",
    "        \n",
    "        # Split df into train and test sets\n",
    "        train = df_diff[:end_train_date]\n",
    "        test = df_diff[end_train_date:end_test_date]\n",
    "\n",
    "        # Calculate all models(gridsearch)\n",
    "        arma_results, arma_fails = gridsearch_arma(pq, train, test, n_days = n_days)\n",
    "\n",
    "        # Identify best models based on RMSE and AIC, respectively\n",
    "        best_arma = get_best_time_series(arma_results)\n",
    "        \n",
    "        # Pull ticker from df\n",
    "        ticker = df['ticker'][0]\n",
    "        \n",
    "        # Append ticker and model results to list of best models\n",
    "        best_model_list.append([ticker, best_arma])\n",
    "        \n",
    "    return best_model_list"
   ]
  },
  {
   "cell_type": "code",
   "execution_count": 198,
   "metadata": {},
   "outputs": [
    {
     "data": {
      "text/plain": [
       "[{'order': (2, 4), 'aic': -429.6137454006571, 'rmse': 0.20615147490709979},\n",
       " {'order': (2, 4), 'aic': -429.6137454006571, 'rmse': 0.20615147490709979}]"
      ]
     },
     "execution_count": 198,
     "metadata": {},
     "output_type": "execute_result"
    }
   ],
   "source": [
    "# Calculate all models(gridsearch)\n",
    "arma_results, arma_fails = gridsearch_arma(pq, train, test, n_days = 14)\n",
    "\n",
    "# Identify best models based on RMSE and AIC, respectively\n",
    "get_best_time_series(arma_results)"
   ]
  },
  {
   "cell_type": "code",
   "execution_count": 200,
   "metadata": {},
   "outputs": [
    {
     "data": {
      "text/plain": [
       "[['WETF',\n",
       "  [{'order': (2, 4), 'aic': -429.6137454006571, 'rmse': 0.20615147490709979},\n",
       "   {'order': (2, 4), 'aic': -429.6137454006571, 'rmse': 0.20615147490709979}]],\n",
       " ['SFE',\n",
       "  [{'order': (4, 4), 'aic': -194.94726322654515, 'rmse': 0.18662607399567527},\n",
       "   {'order': (2, 2),\n",
       "    'aic': -202.30116844303393,\n",
       "    'rmse': 0.19244505841167853}]],\n",
       " ['SSSS',\n",
       "  [{'order': (4, 1), 'aic': 151.76133064956684, 'rmse': 0.3384472393942903},\n",
       "   {'order': (4, 2), 'aic': 142.66548732369165, 'rmse': 0.3728610213827238}]],\n",
       " ['CGBD',\n",
       "  [{'order': (1, 1), 'aic': 92.83175222429281, 'rmse': 0.1429342322093544},\n",
       "   {'order': (4, 4), 'aic': 76.64221583900394, 'rmse': 0.15423463037066978}]],\n",
       " ['PZN',\n",
       "  [{'order': (4, 4), 'aic': 9.164889879140446, 'rmse': 0.24611062646306225},\n",
       "   {'order': (1, 2), 'aic': 6.7277117384137455, 'rmse': 0.262969572276142}]],\n",
       " ['MCC',\n",
       "  [{'order': (3, 3), 'aic': 2609.2359968399155, 'rmse': 0.834844790177134},\n",
       "   {'order': (0, 0), 'aic': 2603.738359624309, 'rmse': 0.8669689308962872}]],\n",
       " ['PNNT',\n",
       "  [{'order': (2, 2), 'aic': -1054.2002318008003, 'rmse': 0.08450548975056228},\n",
       "   {'order': (2, 2),\n",
       "    'aic': -1054.2002318008003,\n",
       "    'rmse': 0.08450548975056228}]],\n",
       " ['WHF',\n",
       "  [{'order': (4, 0), 'aic': 289.7420516220866, 'rmse': 0.2700078935129562},\n",
       "   {'order': (4, 4), 'aic': 264.29526566917116, 'rmse': 0.275923239107711}]],\n",
       " ['WETF',\n",
       "  [{'order': (2, 4), 'aic': -429.6137454006571, 'rmse': 0.20615147490709979},\n",
       "   {'order': (2, 4), 'aic': -429.6137454006571, 'rmse': 0.20615147490709979}]],\n",
       " ['BANX',\n",
       "  [{'order': (4, 4), 'aic': 706.4385052329067, 'rmse': 0.35512810931278754},\n",
       "   {'order': (4, 4), 'aic': 706.4385052329067, 'rmse': 0.35512810931278754}]]]"
      ]
     },
     "execution_count": 200,
     "metadata": {},
     "output_type": "execute_result"
    }
   ],
   "source": [
    "# Compiling a list of the best performing order parameters for each stock\n",
    "best_model_list = gridsearch_arma_multiple(cm_df_list, pq, n_days = 14)\n",
    "best_model_list"
   ]
  },
  {
   "cell_type": "code",
   "execution_count": 207,
   "metadata": {},
   "outputs": [
    {
     "data": {
      "text/plain": [
       "0.28709074046300215"
      ]
     },
     "execution_count": 207,
     "metadata": {},
     "output_type": "execute_result"
    }
   ],
   "source": [
    "# Calculating mean RMSE accross all eight stocks\n",
    "mean_RMSE = np.mean([i[1][0]['rmse'] for i in best_model_list])\n",
    "mean_RMSE"
   ]
  },
  {
   "cell_type": "markdown",
   "metadata": {},
   "source": [
    "## Conclusion and Next Steps"
   ]
  },
  {
   "cell_type": "markdown",
   "metadata": {},
   "source": [
    "The highest performing classification model was the KNN, though this is only on a sample of 8 out of 160. I'd like to predict on the entire set of 160, add additional models, and add an ensemble voting classifier.\n",
    "\n",
    "For the eight small cap stocks I employed an ARMA model on, the average RMSE accross the 14 days was .287.\n",
    "\n",
    "To further improve the models I have, I'd like to add more features, such as momentum indicators like Moving Average Convergence/Divergence (MACD) and Relative Strength Index (RSI), as well as a volatility indicator like Standard Deviation or Beta. I'd also like to add a percent-change-in-volume feature."
   ]
  },
  {
   "cell_type": "markdown",
   "metadata": {},
   "source": [
    "## SARIMA"
   ]
  },
  {
   "cell_type": "markdown",
   "metadata": {},
   "source": [
    "### SARIMA next because next step up is to remove trends but not add exog"
   ]
  },
  {
   "cell_type": "code",
   "execution_count": 59,
   "metadata": {},
   "outputs": [],
   "source": [
    "# SARIMA train/test split\n",
    "train = df_test[:end_train_date]\n",
    "test = df_test[end_train_date:end_test_date]"
   ]
  },
  {
   "cell_type": "code",
   "execution_count": 60,
   "metadata": {},
   "outputs": [],
   "source": [
    "# Instantiating SARIMA model\n",
    "sarima = SARIMAX(train,\n",
    "                order = (1, 1, 1),\n",
    "                seasonal_order = (1, 1, 1, 4),\n",
    "                enforce_stationarity = False,\n",
    "                enforce_invertibility = False\n",
    "               )\n",
    "\n",
    "# Fitting SARIMA to the training data\n",
    "fitted_sarima = sarima.fit()\n",
    "\n",
    "# Forecasting 14 days after training data\n",
    "sarima_preds = fitted_sarima.forecast(steps = 14)"
   ]
  },
  {
   "cell_type": "code",
   "execution_count": 61,
   "metadata": {},
   "outputs": [
    {
     "data": {
      "text/plain": [
       "<matplotlib.legend.Legend at 0x1dc942f7fd0>"
      ]
     },
     "execution_count": 61,
     "metadata": {},
     "output_type": "execute_result"
    },
    {
     "data": {
      "image/png": "[encoded data removed]",
      "text/plain": [
       "<Figure size 432x288 with 1 Axes>"
      ]
     },
     "metadata": {},
     "output_type": "display_data"
    }
   ],
   "source": [
    "plt.plot(range(0,14), sarima_preds, label = 'sarima preds')\n",
    "plt.plot(range(0,14), test[0:14], label = 'true')\n",
    "plt.legend()"
   ]
  },
  {
   "cell_type": "code",
   "execution_count": 45,
   "metadata": {},
   "outputs": [
    {
     "data": {
      "text/plain": [
       "0.5101237923678045"
      ]
     },
     "execution_count": 45,
     "metadata": {},
     "output_type": "execute_result"
    }
   ],
   "source": [
    "sarima_rmse = np.sqrt(mean_squared_error(test[0:14].values, sarima_preds))\n",
    "sarima_rmse"
   ]
  },
  {
   "cell_type": "markdown",
   "metadata": {},
   "source": [
    "#### Gridsearched SARIMA"
   ]
  },
  {
   "cell_type": "code",
   "execution_count": 47,
   "metadata": {},
   "outputs": [],
   "source": [
    "# Defining AR, I, MA, and S order components\n",
    "p = range(0,2) # AR\n",
    "d = range(0,2) # I\n",
    "q = range(0,2) # MA\n",
    "s = range(12, 13) # S \n",
    "# remember 4 for s\n",
    "# try 3 for s"
   ]
  },
  {
   "cell_type": "code",
   "execution_count": 48,
   "metadata": {},
   "outputs": [],
   "source": [
    "# Creating every combination of p, d, and q parameters\n",
    "pdq = itertools.product(p, d, q)\n",
    "\n",
    "# Converting from itertools product object to list\n",
    "pdq = list(pdq)"
   ]
  },
  {
   "cell_type": "code",
   "execution_count": 49,
   "metadata": {},
   "outputs": [],
   "source": [
    "# Creating every combination of seasonal(s) p, d, and q parameters\n",
    "pdqs = itertools.product(p, d, q, s)\n",
    "\n",
    "# Converting from itertools product object to list\n",
    "pdqs = list(pdqs)"
   ]
  },
  {
   "cell_type": "code",
   "execution_count": 50,
   "metadata": {},
   "outputs": [
    {
     "data": {
      "text/plain": [
       "8"
      ]
     },
     "execution_count": 50,
     "metadata": {},
     "output_type": "execute_result"
    }
   ],
   "source": [
    "len(pdq)"
   ]
  },
  {
   "cell_type": "code",
   "execution_count": 51,
   "metadata": {},
   "outputs": [
    {
     "data": {
      "text/plain": [
       "8"
      ]
     },
     "execution_count": 51,
     "metadata": {},
     "output_type": "execute_result"
    }
   ],
   "source": [
    "len(pdqs)"
   ]
  },
  {
   "cell_type": "code",
   "execution_count": 52,
   "metadata": {},
   "outputs": [
    {
     "data": {
      "text/plain": [
       "64"
      ]
     },
     "execution_count": 52,
     "metadata": {},
     "output_type": "execute_result"
    }
   ],
   "source": [
    "num_iterations = len(pdq)*len(pdqs)\n",
    "num_iterations"
   ]
  },
  {
   "cell_type": "code",
   "execution_count": 62,
   "metadata": {},
   "outputs": [],
   "source": [
    "def gridsearch_sarima(orders_list, seasonal_orders_list, train, test, n_days = 14):\n",
    "    \"\"\"\n",
    "    Takes in a list of orders, a train set, a test set, and a number of days\n",
    "    to forecast into the future. Returns a list of results for each models and\n",
    "    a list of any orders that caused the model to fail.\n",
    "    \n",
    "    orders_list -- A list of tuples containing p, d, and q parameters\n",
    "    seasonal_orders_list -- A list of tuples containing p, d, q, and s parameters\n",
    "    train -- A series of the endogenous variable\n",
    "    test -- A series of the endogenous variable to measure model performance\n",
    "    n_days -- An integer denoting the number of days to forecast\n",
    "    \"\"\"\n",
    "    # Instantiating a list of results dictionaries\n",
    "    results_list = []\n",
    "\n",
    "    # Instantiating fail cache\n",
    "    fail_cache = []\n",
    "\n",
    "    # Setting number of days to forecast forward\n",
    "    n_days = n_days\n",
    "\n",
    "    # Looping through each set of parameters to find the best combination\n",
    "    for o in orders_list:\n",
    "        for so in seasonal_orders_list:\n",
    "            try:\n",
    "                # Instantiating new dictionary of results and parameters for each gridsearched model\n",
    "                results_dict = {}\n",
    "\n",
    "                # Instantiating the SARIMA model\n",
    "                sarima = SARIMAX(train, \n",
    "                                 order = o, \n",
    "                                 seasonal_order = so, \n",
    "                                 enforce_stationarity = False,\n",
    "                                 enforce_invertibility = False\n",
    "                       )\n",
    "\n",
    "                # Fitting the model\n",
    "                fitted_sarima = sarima.fit()\n",
    "\n",
    "                # Forecasting 14 days after training data\n",
    "                sarima_preds = fitted_sarima.forecast(steps = n_days)\n",
    "\n",
    "                # Pulling AIC score from the model\n",
    "                aic = fitted_sarima.aic\n",
    "\n",
    "                # Calculating RMSE for forecasted values\n",
    "                rmse = np.sqrt(mean_squared_error(test[:n_days].values, sarima_preds))\n",
    "\n",
    "                # Assigning dictionary values of results and parameters\n",
    "                results_dict['order'] = o\n",
    "                results_dict['seasonal_order'] = so\n",
    "                results_dict['aic'] = aic\n",
    "                results_dict['rmse'] = rmse\n",
    "\n",
    "                # Adding each dictionary to the list of results dictionaries\n",
    "                results_list.append(results_dict) \n",
    "\n",
    "            except:\n",
    "                fail_cache.append({'order': o,\n",
    "                                   'seasonal_order': so\n",
    "                                   })\n",
    "                continue\n",
    "                \n",
    "    return results_list, fail_cache"
   ]
  },
  {
   "cell_type": "code",
   "execution_count": 63,
   "metadata": {},
   "outputs": [],
   "source": [
    "def get_best_time_series(results_list):\n",
    "    \"\"\"\n",
    "    Takes in a list of results dictionaries containing SARIMA params\n",
    "    and model performance metrics. Returns best model params and scores\n",
    "    for RMSE and AIC, in that order.\n",
    "    \n",
    "    results_list -- list of results dictionaries.\n",
    "    \"\"\"    \n",
    "    # Sorting scores list by RMSE\n",
    "    sorted_by_rmse = sorted(results_list, key = lambda x: x['rmse'])\n",
    "    \n",
    "    # Top model by RMSE\n",
    "    top_rmse_model = sorted_by_rmse[0]\n",
    "    \n",
    "    # Sorting scores list by AIC\n",
    "    sorted_by_aic = sorted(results_list, key = lambda x: x['aic'])\n",
    "    \n",
    "    # Top model by AIC\n",
    "    top_aic_model = sorted_by_aic[0]\n",
    "    \n",
    "    return [top_rmse_model, top_aic_model]"
   ]
  },
  {
   "cell_type": "code",
   "execution_count": 64,
   "metadata": {},
   "outputs": [],
   "source": [
    "def gridsearch_sarima_multiple(df_list, orders_list, seasonal_orders_list, n_days = 14):\n",
    "    \"\"\"\n",
    "    Takes in a list of dfs, a list of order params, and a number \n",
    "    of days to forecast into the future. Returns gridsearched ARMA \n",
    "    model results for each.\n",
    "    \n",
    "    df_list -- list of dataframes\n",
    "    orders_list -- A list of tuples containing p and q parameters\n",
    "    seasonal_orders_list -- A list of tuples containing p, d, q, and s parameters\n",
    "    n_days -- An integer denoting the number of days to forecast\n",
    "    \"\"\"\n",
    "    # Creating list to hold results for each df\n",
    "    best_model_list = []\n",
    "    \n",
    "    for df in df_list:\n",
    "        # Isolate endogenous variable\n",
    "        df_endog = df['close']\n",
    "        \n",
    "        # Drop null values\n",
    "        df_endog.dropna(inplace = True)\n",
    "        \n",
    "        # Split df into train and test sets\n",
    "        train = df_endog[:end_train_date]\n",
    "        test = df_endog[end_train_date:end_test_date]\n",
    "\n",
    "        # Calculate all models(gridsearch)\n",
    "        sarima_results, sarima_fails = gridsearch_sarima(pdq, pdqs, train, test, n_days = n_days)\n",
    "\n",
    "        # Identify best models based on RMSE and AIC, respectively\n",
    "        best_sarima = get_best_time_series(sarima_results)\n",
    "        \n",
    "        # Pull ticker from df\n",
    "        ticker = df['ticker'][0]\n",
    "        \n",
    "        # Append ticker and model results to list of best models\n",
    "        best_model_list.append([ticker, best_sarima])\n",
    "        \n",
    "    return best_model_list"
   ]
  },
  {
   "cell_type": "code",
   "execution_count": 65,
   "metadata": {},
   "outputs": [
    {
     "data": {
      "text/plain": [
       "[{'order': (1, 1, 0),\n",
       "  'seasonal_order': (0, 1, 0, 12),\n",
       "  'aic': 290.724894097219,\n",
       "  'rmse': 0.3645368052719063},\n",
       " {'order': (0, 1, 0),\n",
       "  'seasonal_order': (1, 0, 0, 12),\n",
       "  'aic': -220.7499581568162,\n",
       "  'rmse': 0.4346656826904612}]"
      ]
     },
     "execution_count": 65,
     "metadata": {},
     "output_type": "execute_result"
    }
   ],
   "source": [
    "# Calculate all models(gridsearch)\n",
    "sarima_results, sarima_fails = gridsearch_sarima(pdq, pdqs, train, test, n_days = 14)\n",
    "\n",
    "# Identify best models based on RMSE and AIC, respectively\n",
    "get_best_time_series(sarima_results)"
   ]
  },
  {
   "cell_type": "code",
   "execution_count": 69,
   "metadata": {},
   "outputs": [
    {
     "data": {
      "text/plain": [
       "[['SFE',\n",
       "  [{'order': (1, 1, 0),\n",
       "    'seasonal_order': (0, 1, 0, 12),\n",
       "    'aic': 290.724894097219,\n",
       "    'rmse': 0.3645368052719063},\n",
       "   {'order': (0, 1, 0),\n",
       "    'seasonal_order': (1, 0, 0, 12),\n",
       "    'aic': -220.7499581568162,\n",
       "    'rmse': 0.4346656826904612}]],\n",
       " ['SSSS',\n",
       "  [{'order': (1, 0, 1),\n",
       "    'seasonal_order': (1, 1, 0, 12),\n",
       "    'aic': 448.51061356741405,\n",
       "    'rmse': 0.3381566258082505},\n",
       "   {'order': (0, 1, 0),\n",
       "    'seasonal_order': (0, 0, 0, 12),\n",
       "    'aic': 140.57829415770016,\n",
       "    'rmse': 0.5015262420138863}]],\n",
       " ['CGBD',\n",
       "  [{'order': (1, 1, 0),\n",
       "    'seasonal_order': (0, 1, 1, 12),\n",
       "    'aic': 149.64451870665633,\n",
       "    'rmse': 0.1691640614393601},\n",
       "   {'order': (1, 1, 1),\n",
       "    'seasonal_order': (0, 0, 0, 12),\n",
       "    'aic': 98.46076984133464,\n",
       "    'rmse': 0.2593146494587069}]],\n",
       " ['PZN',\n",
       "  [{'order': (0, 1, 1),\n",
       "    'seasonal_order': (1, 1, 0, 12),\n",
       "    'aic': 228.83477546924377,\n",
       "    'rmse': 0.34612079196640944},\n",
       "   {'order': (1, 1, 1),\n",
       "    'seasonal_order': (1, 0, 1, 12),\n",
       "    'aic': -22.080219646872415,\n",
       "    'rmse': 0.7352184676024385}]],\n",
       " ['CSWC',\n",
       "  [{'order': (1, 0, 1),\n",
       "    'seasonal_order': (0, 0, 0, 12),\n",
       "    'aic': 477.9087860755813,\n",
       "    'rmse': 0.28204385495787765},\n",
       "   {'order': (1, 1, 1),\n",
       "    'seasonal_order': (0, 0, 0, 12),\n",
       "    'aic': 466.04835694504186,\n",
       "    'rmse': 0.29873253184287973}]],\n",
       " ['COWN',\n",
       "  [{'order': (1, 0, 0),\n",
       "    'seasonal_order': (1, 1, 0, 12),\n",
       "    'aic': 880.461875207284,\n",
       "    'rmse': 0.8118286119499234},\n",
       "   {'order': (1, 1, 1),\n",
       "    'seasonal_order': (1, 0, 1, 12),\n",
       "    'aic': 630.0545614364354,\n",
       "    'rmse': 1.4158444331564874}]],\n",
       " ['WHF',\n",
       "  [{'order': (1, 0, 0),\n",
       "    'seasonal_order': (1, 1, 0, 12),\n",
       "    'aic': 580.0908192350869,\n",
       "    'rmse': 0.30336224243725307},\n",
       "   {'order': (1, 1, 1),\n",
       "    'seasonal_order': (0, 0, 0, 12),\n",
       "    'aic': 308.8007949507779,\n",
       "    'rmse': 0.4112957423600468}]],\n",
       " ['WETF',\n",
       "  [{'order': (1, 1, 0),\n",
       "    'seasonal_order': (0, 1, 0, 12),\n",
       "    'aic': 98.44119696419183,\n",
       "    'rmse': 0.23232163911568868},\n",
       "   {'order': (0, 1, 1),\n",
       "    'seasonal_order': (1, 0, 1, 12),\n",
       "    'aic': -452.14036830167703,\n",
       "    'rmse': 0.6482351691038429}]],\n",
       " ['BANX',\n",
       "  [{'order': (0, 1, 0),\n",
       "    'seasonal_order': (0, 1, 0, 12),\n",
       "    'aic': 1187.597998833532,\n",
       "    'rmse': 0.526958772466439},\n",
       "   {'order': (0, 1, 1),\n",
       "    'seasonal_order': (0, 0, 1, 12),\n",
       "    'aic': 720.0682555792312,\n",
       "    'rmse': 0.9735274104621476}]]]"
      ]
     },
     "execution_count": 69,
     "metadata": {},
     "output_type": "execute_result"
    }
   ],
   "source": [
    "# Compiling a list of the best performing order parameters for each stock\n",
    "best_sarima_list = gridsearch_sarima_multiple(cm_df_list, pdq, pdqs, n_days = 14)\n",
    "best_sarima_list"
   ]
  },
  {
   "cell_type": "code",
   "execution_count": 70,
   "metadata": {},
   "outputs": [
    {
     "data": {
      "text/plain": [
       "0.3749437117125676"
      ]
     },
     "execution_count": 70,
     "metadata": {},
     "output_type": "execute_result"
    }
   ],
   "source": [
    "# Calculating mean RMSE accross all eight stocks\n",
    "mean_RMSE = np.mean([i[1][0]['rmse'] for i in best_sarima_list])\n",
    "mean_RMSE"
   ]
  },
  {
   "cell_type": "markdown",
   "metadata": {},
   "source": [
    "## SARIMAX"
   ]
  },
  {
   "cell_type": "markdown",
   "metadata": {},
   "source": [
    "### Next step up is to add exogenous regressors"
   ]
  },
  {
   "cell_type": "code",
   "execution_count": 64,
   "metadata": {},
   "outputs": [],
   "source": [
    "# Declaring columns to use as exogenous regressors\n",
    "predictors = ['10_day_ma', '50_day_ma', '200_day_ma']"
   ]
  },
  {
   "cell_type": "code",
   "execution_count": 61,
   "metadata": {},
   "outputs": [],
   "source": [
    "# Selecting a testing dataframe from the list of dfs\n",
    "sarimax_df = df_list[0]"
   ]
  },
  {
   "cell_type": "code",
   "execution_count": 67,
   "metadata": {},
   "outputs": [],
   "source": [
    "# Creating df of endogenous regressors\n",
    "sarimax_endog = sarimax_df['close']\n",
    "\n",
    "# Creating df of exogenous regressors\n",
    "sarimax_exog = sarimax_df[predictors]"
   ]
  },
  {
   "cell_type": "code",
   "execution_count": 84,
   "metadata": {},
   "outputs": [],
   "source": [
    "# Endogenous regressors train/test split\n",
    "endog_train = sarimax_endog[:end_train_date]\n",
    "endog_test = sarimax_endog[end_train_date:end_test_date]"
   ]
  },
  {
   "cell_type": "code",
   "execution_count": 85,
   "metadata": {},
   "outputs": [
    {
     "data": {
      "text/plain": [
       "datetime\n",
       "2020-12-01 06:00:00    12.29\n",
       "2020-12-02 06:00:00    12.41\n",
       "2020-12-03 06:00:00    13.16\n",
       "2020-12-04 06:00:00    13.10\n",
       "2020-12-07 06:00:00    12.91\n",
       "2020-12-08 06:00:00    13.08\n",
       "2020-12-09 06:00:00    13.04\n",
       "2020-12-10 06:00:00    12.64\n",
       "2020-12-11 06:00:00    12.42\n",
       "2020-12-14 06:00:00    12.33\n",
       "2020-12-15 06:00:00    12.62\n",
       "2020-12-16 06:00:00    12.52\n",
       "2020-12-17 06:00:00    12.07\n",
       "2020-12-18 06:00:00    11.95\n",
       "Name: close, dtype: float64"
      ]
     },
     "execution_count": 85,
     "metadata": {},
     "output_type": "execute_result"
    }
   ],
   "source": [
    "endog_test"
   ]
  },
  {
   "cell_type": "code",
   "execution_count": 86,
   "metadata": {},
   "outputs": [],
   "source": [
    "# Exogenous regressors train/test split\n",
    "exog_train = sarimax_exog[:end_train_date]\n",
    "exog_test = sarimax_exog[end_train_date:end_test_date]"
   ]
  },
  {
   "cell_type": "code",
   "execution_count": 87,
   "metadata": {},
   "outputs": [
    {
     "data": {
      "text/html": [
       "<div>\n",
       "<style scoped>\n",
       "    .dataframe tbody tr th:only-of-type {\n",
       "        vertical-align: middle;\n",
       "    }\n",
       "\n",
       "    .dataframe tbody tr th {\n",
       "        vertical-align: top;\n",
       "    }\n",
       "\n",
       "    .dataframe thead th {\n",
       "        text-align: right;\n",
       "    }\n",
       "</style>\n",
       "<table border=\"1\" class=\"dataframe\">\n",
       "  <thead>\n",
       "    <tr style=\"text-align: right;\">\n",
       "      <th></th>\n",
       "      <th>10_day_ma</th>\n",
       "      <th>50_day_ma</th>\n",
       "      <th>200_day_ma</th>\n",
       "    </tr>\n",
       "    <tr>\n",
       "      <th>datetime</th>\n",
       "      <th></th>\n",
       "      <th></th>\n",
       "      <th></th>\n",
       "    </tr>\n",
       "  </thead>\n",
       "  <tbody>\n",
       "    <tr>\n",
       "      <th>2020-12-01 06:00:00</th>\n",
       "      <td>11.699897</td>\n",
       "      <td>10.507616</td>\n",
       "      <td>9.388734</td>\n",
       "    </tr>\n",
       "    <tr>\n",
       "      <th>2020-12-02 06:00:00</th>\n",
       "      <td>11.829007</td>\n",
       "      <td>10.582220</td>\n",
       "      <td>9.418815</td>\n",
       "    </tr>\n",
       "    <tr>\n",
       "      <th>2020-12-03 06:00:00</th>\n",
       "      <td>12.071006</td>\n",
       "      <td>10.683309</td>\n",
       "      <td>9.456064</td>\n",
       "    </tr>\n",
       "    <tr>\n",
       "      <th>2020-12-04 06:00:00</th>\n",
       "      <td>12.258095</td>\n",
       "      <td>10.778081</td>\n",
       "      <td>9.492345</td>\n",
       "    </tr>\n",
       "    <tr>\n",
       "      <th>2020-12-07 06:00:00</th>\n",
       "      <td>12.376624</td>\n",
       "      <td>10.861686</td>\n",
       "      <td>9.526373</td>\n",
       "    </tr>\n",
       "    <tr>\n",
       "      <th>2020-12-08 06:00:00</th>\n",
       "      <td>12.504510</td>\n",
       "      <td>10.948679</td>\n",
       "      <td>9.561754</td>\n",
       "    </tr>\n",
       "    <tr>\n",
       "      <th>2020-12-09 06:00:00</th>\n",
       "      <td>12.601872</td>\n",
       "      <td>11.030691</td>\n",
       "      <td>9.596384</td>\n",
       "    </tr>\n",
       "    <tr>\n",
       "      <th>2020-12-10 06:00:00</th>\n",
       "      <td>12.608804</td>\n",
       "      <td>11.093801</td>\n",
       "      <td>9.626687</td>\n",
       "    </tr>\n",
       "    <tr>\n",
       "      <th>2020-12-11 06:00:00</th>\n",
       "      <td>12.574476</td>\n",
       "      <td>11.145809</td>\n",
       "      <td>9.654498</td>\n",
       "    </tr>\n",
       "    <tr>\n",
       "      <th>2020-12-14 06:00:00</th>\n",
       "      <td>12.530026</td>\n",
       "      <td>11.192248</td>\n",
       "      <td>9.681135</td>\n",
       "    </tr>\n",
       "    <tr>\n",
       "      <th>2020-12-15 06:00:00</th>\n",
       "      <td>12.546385</td>\n",
       "      <td>11.248238</td>\n",
       "      <td>9.710395</td>\n",
       "    </tr>\n",
       "    <tr>\n",
       "      <th>2020-12-16 06:00:00</th>\n",
       "      <td>12.541588</td>\n",
       "      <td>11.298111</td>\n",
       "      <td>9.738367</td>\n",
       "    </tr>\n",
       "    <tr>\n",
       "      <th>2020-12-17 06:00:00</th>\n",
       "      <td>12.455844</td>\n",
       "      <td>11.328381</td>\n",
       "      <td>9.761581</td>\n",
       "    </tr>\n",
       "    <tr>\n",
       "      <th>2020-12-18 06:00:00</th>\n",
       "      <td>12.363873</td>\n",
       "      <td>11.352759</td>\n",
       "      <td>9.783368</td>\n",
       "    </tr>\n",
       "  </tbody>\n",
       "</table>\n",
       "</div>"
      ],
      "text/plain": [
       "                     10_day_ma  50_day_ma  200_day_ma\n",
       "datetime                                             \n",
       "2020-12-01 06:00:00  11.699897  10.507616    9.388734\n",
       "2020-12-02 06:00:00  11.829007  10.582220    9.418815\n",
       "2020-12-03 06:00:00  12.071006  10.683309    9.456064\n",
       "2020-12-04 06:00:00  12.258095  10.778081    9.492345\n",
       "2020-12-07 06:00:00  12.376624  10.861686    9.526373\n",
       "2020-12-08 06:00:00  12.504510  10.948679    9.561754\n",
       "2020-12-09 06:00:00  12.601872  11.030691    9.596384\n",
       "2020-12-10 06:00:00  12.608804  11.093801    9.626687\n",
       "2020-12-11 06:00:00  12.574476  11.145809    9.654498\n",
       "2020-12-14 06:00:00  12.530026  11.192248    9.681135\n",
       "2020-12-15 06:00:00  12.546385  11.248238    9.710395\n",
       "2020-12-16 06:00:00  12.541588  11.298111    9.738367\n",
       "2020-12-17 06:00:00  12.455844  11.328381    9.761581\n",
       "2020-12-18 06:00:00  12.363873  11.352759    9.783368"
      ]
     },
     "execution_count": 87,
     "metadata": {},
     "output_type": "execute_result"
    }
   ],
   "source": [
    "exog_test"
   ]
  },
  {
   "cell_type": "markdown",
   "metadata": {},
   "source": [
    "### Test Model"
   ]
  },
  {
   "cell_type": "code",
   "execution_count": 88,
   "metadata": {},
   "outputs": [],
   "source": [
    "# Instantiating SARIMA model\n",
    "sarimax = SARIMAX(endog = endog_train,\n",
    "                  exog = exog_train,\n",
    "                  order = (1, 1, 1),\n",
    "                  seasonal_order = (1, 1, 1, 12),\n",
    "                  enforce_stationarity = False,\n",
    "                  enforce_invertibility = False\n",
    "               )\n",
    "\n",
    "# Fitting SARIMAX to the training data\n",
    "fitted_sarimax = sarimax.fit()\n",
    "\n",
    "# Forecasting 14 days after training data\n",
    "sarimax_preds = fitted_sarimax.forecast(steps = 14, exog = exog_test)"
   ]
  },
  {
   "cell_type": "code",
   "execution_count": 89,
   "metadata": {},
   "outputs": [
    {
     "data": {
      "text/plain": [
       "<matplotlib.legend.Legend at 0x1dc2a7aa9a0>"
      ]
     },
     "execution_count": 89,
     "metadata": {},
     "output_type": "execute_result"
    },
    {
     "data": {
      "image/png": "[encoded data removed]",
      "text/plain": [
       "<Figure size 432x288 with 1 Axes>"
      ]
     },
     "metadata": {
      "needs_background": "light"
     },
     "output_type": "display_data"
    }
   ],
   "source": [
    "plt.plot(range(0,14), sarimax_preds, label = 'sarimax preds')\n",
    "plt.plot(range(0,14), endog_test[:14], label = 'true')\n",
    "plt.legend()"
   ]
  },
  {
   "cell_type": "code",
   "execution_count": 90,
   "metadata": {},
   "outputs": [
    {
     "data": {
      "text/plain": [
       "0.6346610300741182"
      ]
     },
     "execution_count": 90,
     "metadata": {},
     "output_type": "execute_result"
    }
   ],
   "source": [
    "sarimax_rmse = np.sqrt(mean_squared_error(endog_test[:14].values, sarimax_preds))\n",
    "sarimax_rmse"
   ]
  },
  {
   "cell_type": "markdown",
   "metadata": {},
   "source": [
    "### Gridsearched SARIMAX"
   ]
  },
  {
   "cell_type": "code",
   "execution_count": 77,
   "metadata": {},
   "outputs": [],
   "source": [
    "# Defining AR, I, MA, and S order components\n",
    "p = range(0,2) # AR\n",
    "d = range(0,2) # I\n",
    "q = range(0,2) # MA\n",
    "s = range(12,13) # S\n",
    "# remember 4 for s\n",
    "# try 3 for s"
   ]
  },
  {
   "cell_type": "code",
   "execution_count": 78,
   "metadata": {},
   "outputs": [],
   "source": [
    "# Creating every combination of p, d, and q parameters\n",
    "pdq = itertools.product(p, d, q)\n",
    "\n",
    "# Converting from itertools product object to list\n",
    "pdq = list(pdq)"
   ]
  },
  {
   "cell_type": "code",
   "execution_count": 79,
   "metadata": {},
   "outputs": [],
   "source": [
    "# Creating every combination of seasonal(s) p, d, and q parameters\n",
    "pdqs = itertools.product(p, d, q, s)\n",
    "\n",
    "# Converting from itertools product object to list\n",
    "pdqs = list(pdqs)"
   ]
  },
  {
   "cell_type": "code",
   "execution_count": 80,
   "metadata": {},
   "outputs": [
    {
     "data": {
      "text/plain": [
       "8"
      ]
     },
     "execution_count": 80,
     "metadata": {},
     "output_type": "execute_result"
    }
   ],
   "source": [
    "len(pdq)"
   ]
  },
  {
   "cell_type": "code",
   "execution_count": 81,
   "metadata": {},
   "outputs": [
    {
     "data": {
      "text/plain": [
       "8"
      ]
     },
     "execution_count": 81,
     "metadata": {},
     "output_type": "execute_result"
    }
   ],
   "source": [
    "len(pdqs)"
   ]
  },
  {
   "cell_type": "code",
   "execution_count": 82,
   "metadata": {},
   "outputs": [
    {
     "data": {
      "text/plain": [
       "64"
      ]
     },
     "execution_count": 82,
     "metadata": {},
     "output_type": "execute_result"
    }
   ],
   "source": [
    "num_iterations = len(pdq)*len(pdqs)\n",
    "num_iterations"
   ]
  },
  {
   "cell_type": "code",
   "execution_count": 85,
   "metadata": {},
   "outputs": [],
   "source": [
    "def gridsearch_sarimax(orders_list, seasonal_orders_list, endog_train, \n",
    "                       exog_train, endog_test, exog_test, n_days = 14):\n",
    "    \"\"\"\n",
    "    Takes in a list of orders, a train set, a test set, and a number of days\n",
    "    to forecast into the future. Returns a list of results for each models and\n",
    "    a list of any orders that caused the model to fail.\n",
    "    \n",
    "    orders_list -- A list of tuples containing p, d, and q parameters\n",
    "    seasonal_orders_list -- A list of tuples containing p, d, q, and s parameters\n",
    "    endog_train -- A series of the endogenous variable\n",
    "    exog_train -- A dataframe with exogenous regressors \n",
    "    endog_test -- A series of the endogenous variable to measure model performance\n",
    "    exog_test -- A dataframe of exogenous regressors for test set\n",
    "    n_days -- An integer denoting the number of days to forecast\n",
    "    \"\"\"\n",
    "    # Instantiating a list of results dictionaries\n",
    "    results_list = []\n",
    "\n",
    "    # Instantiating fail cache\n",
    "    fail_cache = []\n",
    "\n",
    "    # Setting number of days to forecast forward\n",
    "    n_days = n_days\n",
    "\n",
    "    # Looping through each set of parameters to find the best combination\n",
    "    for o in pdq:\n",
    "        for so in pdqs:\n",
    "            try:\n",
    "                # Instantiating new dictionary of results and parameters for each gridsearched model\n",
    "                results_dict = {}\n",
    "\n",
    "                # Instantiating the SARIMA model\n",
    "                sarimax = SARIMAX(endog_train,\n",
    "                                  exog_train,\n",
    "                                  order = o, \n",
    "                                  seasonal_order = so, \n",
    "                                  enforce_stationarity = False,\n",
    "                                  enforce_invertibility = False\n",
    "                       )\n",
    "\n",
    "                # Fitting the model\n",
    "                fitted_sarimax = sarimax.fit()\n",
    "\n",
    "                # Forecasting 14 days after training data\n",
    "                sarimax_preds = fitted_sarimax.forecast(steps = n_days, exog = exog_test)\n",
    "\n",
    "                # Pulling AIC score from the model\n",
    "                aic = fitted_sarimax.aic\n",
    "\n",
    "                # Calculating RMSE for forecasted values\n",
    "                rmse = np.sqrt(mean_squared_error(endog_test[:14].values, sarimax_preds))\n",
    "\n",
    "                # Assigning dictionary values of results and parameters\n",
    "                results_dict['order'] = o\n",
    "                results_dict['seasonal_order'] = so\n",
    "                results_dict['aic'] = aic\n",
    "                results_dict['rmse'] = rmse\n",
    "\n",
    "                # Adding each dictionary to the list of results dictionaries\n",
    "                results_list.append(results_dict) \n",
    "\n",
    "            except:\n",
    "                fail_cache.append({'order': o,\n",
    "                                   'seasonal_order': so\n",
    "                                   })\n",
    "                continue\n",
    "                \n",
    "    return results_list, fail_cache"
   ]
  },
  {
   "cell_type": "code",
   "execution_count": 86,
   "metadata": {},
   "outputs": [],
   "source": [
    "def get_best_time_series(results_list):\n",
    "    \"\"\"\n",
    "    Takes in a list of results dictionaries containing SARIMA params\n",
    "    and model performance metrics. Returns best model params and scores\n",
    "    for RMSE and AIC, in that order.\n",
    "    \n",
    "    results_list -- list of results dictionaries.\n",
    "    \"\"\"    \n",
    "    # Sorting scores list by RMSE\n",
    "    sorted_by_rmse = sorted(results_list, key = lambda x: x['rmse'])\n",
    "    \n",
    "    # Top model by RMSE\n",
    "    top_rmse_model = sorted_by_rmse[0]\n",
    "    \n",
    "    # Sorting scores list by AIC\n",
    "    sorted_by_aic = sorted(results_list, key = lambda x: x['aic'])\n",
    "    \n",
    "    # Top model by AIC\n",
    "    top_aic_model = sorted_by_aic[0]\n",
    "    \n",
    "    return [top_rmse_model, top_aic_model]"
   ]
  },
  {
   "cell_type": "code",
   "execution_count": 87,
   "metadata": {},
   "outputs": [],
   "source": [
    "def gridsearch_sarimax_multiple(df_list, orders_list, seasonal_orders_list, exog_vars, n_days = 14):\n",
    "    \"\"\"\n",
    "    Takes in a list of dfs, a list of order params, and a number \n",
    "    of days to forecast into the future. Returns gridsearched ARMA \n",
    "    model results for each.\n",
    "    \n",
    "    df_list -- list of dataframes\n",
    "    orders_list -- A list of tuples containing p and q parameters\n",
    "    seasonal_orders_list -- A list of tuples containing p, d, q, and s parameters\n",
    "    exog_vars -- A list of strings denoting which columns are to be used as exogenous regressors\n",
    "    n_days -- An integer denoting the number of days to forecast\n",
    "    \"\"\"\n",
    "    # Creating list to hold results for each df\n",
    "    best_model_list = []\n",
    "    \n",
    "    for df in df_list:\n",
    "        # Isolate endogenous variable\n",
    "        df_endog = df['close']\n",
    "        \n",
    "        # Isolate exogenous variables\n",
    "        df_exog = df[exog_vars]\n",
    "        \n",
    "        # Drop null values\n",
    "        df_endog.dropna(inplace = True)\n",
    "        df_exog.dropna(inplace = True)\n",
    "        \n",
    "        # Split endog df into train and test sets\n",
    "        endog_train = df_endog[:end_train_date]\n",
    "        endog_test = df_endog[end_train_date:end_test_date]\n",
    "        \n",
    "        # Split exog df into train and test sets\n",
    "        exog_train = df_exog[:end_train_date]\n",
    "        exog_test = df_exog[end_train_date:end_test_date]\n",
    "\n",
    "        # Calculate all models(gridsearch)\n",
    "        sarimax_results, sarimax_fails = gridsearch_sarimax(pdq, pdqs, endog_train, \n",
    "                                                            exog_train, endog_test, \n",
    "                                                            exog_test, n_days = n_days)\n",
    "\n",
    "        # Identify best models based on RMSE and AIC, respectively\n",
    "        best_sarimax = get_best_time_series(sarimax_results)\n",
    "        \n",
    "        # Pull ticker from df\n",
    "        ticker = df['ticker'][0]\n",
    "        \n",
    "        # Append ticker and model results to list of best models\n",
    "        best_model_list.append([ticker, best_sarimax])\n",
    "        \n",
    "    return best_model_list"
   ]
  },
  {
   "cell_type": "code",
   "execution_count": 89,
   "metadata": {},
   "outputs": [],
   "source": [
    "best_sarimax_list = gridsearch_sarimax_multiple(cm_df_list, \n",
    "                                                pdq, \n",
    "                                                pdqs, \n",
    "                                                ['10_day_ma', '50_day_ma', '200_day_ma'])"
   ]
  },
  {
   "cell_type": "code",
   "execution_count": 91,
   "metadata": {},
   "outputs": [
    {
     "data": {
      "text/plain": [
       "[['SFE',\n",
       "  [{'order': (1, 1, 0),\n",
       "    'seasonal_order': (1, 1, 1, 12),\n",
       "    'aic': -493.4076663963718,\n",
       "    'rmse': 0.14732361236186878},\n",
       "   {'order': (0, 1, 0),\n",
       "    'seasonal_order': (1, 0, 0, 12),\n",
       "    'aic': -575.4499853705836,\n",
       "    'rmse': 0.20830999165671635}]],\n",
       " ['SSSS',\n",
       "  [{'order': (0, 1, 0),\n",
       "    'seasonal_order': (1, 0, 0, 12),\n",
       "    'aic': -212.1913475811396,\n",
       "    'rmse': 0.22223281721847474},\n",
       "   {'order': (1, 0, 0),\n",
       "    'seasonal_order': (0, 0, 0, 12),\n",
       "    'aic': -226.80036314982934,\n",
       "    'rmse': 0.3142693048548323}]],\n",
       " ['CGBD',\n",
       "  [{'order': (1, 0, 0),\n",
       "    'seasonal_order': (0, 1, 1, 12),\n",
       "    'aic': -217.8324068783457,\n",
       "    'rmse': 0.14670158185457952},\n",
       "   {'order': (1, 1, 0),\n",
       "    'seasonal_order': (0, 0, 0, 12),\n",
       "    'aic': -270.4178492865324,\n",
       "    'rmse': 0.3290988128735025}]],\n",
       " ['PZN',\n",
       "  [{'order': (1, 0, 1),\n",
       "    'seasonal_order': (0, 0, 1, 12),\n",
       "    'aic': -365.4312814100607,\n",
       "    'rmse': 0.15367864913094526},\n",
       "   {'order': (1, 1, 0),\n",
       "    'seasonal_order': (1, 0, 1, 12),\n",
       "    'aic': -376.20584408194566,\n",
       "    'rmse': 0.6924885031474532}]],\n",
       " ['CSWC',\n",
       "  [{'order': (1, 0, 1),\n",
       "    'seasonal_order': (1, 0, 1, 12),\n",
       "    'aic': 121.14634851429362,\n",
       "    'rmse': 0.22383209066560916},\n",
       "   {'order': (1, 1, 1),\n",
       "    'seasonal_order': (0, 0, 0, 12),\n",
       "    'aic': 100.89385505603764,\n",
       "    'rmse': 1.5728156674700937}]],\n",
       " ['COWN',\n",
       "  [{'order': (1, 0, 1),\n",
       "    'seasonal_order': (1, 1, 1, 12),\n",
       "    'aic': 279.29196526418787,\n",
       "    'rmse': 0.39457578542641925},\n",
       "   {'order': (1, 0, 0),\n",
       "    'seasonal_order': (0, 0, 0, 12),\n",
       "    'aic': 259.6156208598326,\n",
       "    'rmse': 0.6212782271035843}]],\n",
       " ['WHF',\n",
       "  [{'order': (1, 0, 0),\n",
       "    'seasonal_order': (1, 1, 1, 12),\n",
       "    'aic': -4.647933491777593,\n",
       "    'rmse': 0.205337469642397},\n",
       "   {'order': (1, 1, 1),\n",
       "    'seasonal_order': (0, 0, 0, 12),\n",
       "    'aic': -63.408194187122035,\n",
       "    'rmse': 0.9521044139547366}]],\n",
       " ['WETF',\n",
       "  [{'order': (1, 1, 0),\n",
       "    'seasonal_order': (0, 1, 0, 12),\n",
       "    'aic': -291.42179989051033,\n",
       "    'rmse': 0.14708645401233073},\n",
       "   {'order': (1, 0, 1),\n",
       "    'seasonal_order': (0, 0, 0, 12),\n",
       "    'aic': -796.4901921547645,\n",
       "    'rmse': 0.2025878560639325}]],\n",
       " ['BANX',\n",
       "  [{'order': (0, 1, 1),\n",
       "    'seasonal_order': (1, 1, 1, 12),\n",
       "    'aic': 403.79111344655325,\n",
       "    'rmse': 0.2463328186559929},\n",
       "   {'order': (1, 0, 0),\n",
       "    'seasonal_order': (0, 0, 0, 12),\n",
       "    'aic': 360.818208157552,\n",
       "    'rmse': 0.29931937543419496}]]]"
      ]
     },
     "execution_count": 91,
     "metadata": {},
     "output_type": "execute_result"
    }
   ],
   "source": [
    "best_sarimax_list"
   ]
  },
  {
   "cell_type": "code",
   "execution_count": 90,
   "metadata": {},
   "outputs": [
    {
     "data": {
      "text/plain": [
       "0.20967791988540194"
      ]
     },
     "execution_count": 90,
     "metadata": {},
     "output_type": "execute_result"
    }
   ],
   "source": [
    "# Calculating mean RMSE accross all eight stocks\n",
    "mean_RMSE = np.mean([i[1][0]['rmse'] for i in best_sarimax_list])\n",
    "mean_RMSE"
   ]
  },
  {
   "cell_type": "markdown",
   "metadata": {},
   "source": [
    "## LSTM RNN"
   ]
  },
  {
   "cell_type": "markdown",
   "metadata": {},
   "source": [
    "train on training data, then predict on second to last and last train sets. evaluate bias/variance to iterate on architecture"
   ]
  },
  {
   "cell_type": "markdown",
   "metadata": {},
   "source": [
    "### Test Models"
   ]
  },
  {
   "cell_type": "code",
   "execution_count": 94,
   "metadata": {},
   "outputs": [],
   "source": [
    "# Instantiate a dataframe for testing\n",
    "df_test = cm_df_list[0]\n",
    "\n",
    "# Remove exogenous regressors\n",
    "df_test = df_test['close']\n",
    "\n",
    "# Endogenous regressors train/test split\n",
    "rnn_train = df_test[:end_train_date]\n",
    "rnn_test = df_test[end_train_date:end_test_date]"
   ]
  },
  {
   "cell_type": "code",
   "execution_count": 98,
   "metadata": {},
   "outputs": [
    {
     "data": {
      "text/plain": [
       "(727,)"
      ]
     },
     "execution_count": 98,
     "metadata": {},
     "output_type": "execute_result"
    }
   ],
   "source": [
    "rnn_train.shape"
   ]
  },
  {
   "cell_type": "code",
   "execution_count": 99,
   "metadata": {},
   "outputs": [
    {
     "data": {
      "text/plain": [
       "(14,)"
      ]
     },
     "execution_count": 99,
     "metadata": {},
     "output_type": "execute_result"
    }
   ],
   "source": [
    "rnn_test.shape"
   ]
  },
  {
   "cell_type": "markdown",
   "metadata": {},
   "source": [
    "Below function taken from [here](https://machinelearningmastery.com/how-to-develop-lstm-models-for-time-series-forecasting/)"
   ]
  },
  {
   "cell_type": "code",
   "execution_count": 415,
   "metadata": {},
   "outputs": [],
   "source": [
    "# split a univariate sequence into samples\n",
    "def split_sequence(sequence, n_steps_in, n_steps_out):\n",
    "    X, y = list(), list()\n",
    "    for i in range(len(sequence)):\n",
    "        # find the end of this pattern\n",
    "        end_ix = i + n_steps_in\n",
    "        out_end_ix = end_ix + n_steps_out\n",
    "        # check if we are beyond the sequence\n",
    "        if out_end_ix > len(sequence):\n",
    "            break\n",
    "        # gather input and output parts of the pattern\n",
    "        seq_x, seq_y = sequence[i:end_ix], sequence[end_ix:out_end_ix]\n",
    "        X.append(seq_x)\n",
    "        y.append(seq_y)\n",
    "    return np.array(X), np.array(y)"
   ]
  },
  {
   "cell_type": "code",
   "execution_count": 416,
   "metadata": {},
   "outputs": [],
   "source": [
    "# Setting raw input sequence\n",
    "raw_seq = rnn_train.values\n",
    "\n",
    "# Setting number of input and output/forecast steps\n",
    "# 'From the past 365 trading days, predict the next 14'\n",
    "n_steps_in, n_steps_out = 100, 14\n",
    "\n",
    "# Splitting the sequence\n",
    "X, y = split_sequence(raw_seq, n_steps_in, n_steps_out)\n",
    "\n",
    "# Number of features is one because time series is univariate\n",
    "n_features = 1\n",
    "\n",
    "# Reshape from (samples, timesteps) into (samples, timesteps, features)\n",
    "X = X.reshape(X.shape[0], X.shape[1], n_features)"
   ]
  },
  {
   "cell_type": "code",
   "execution_count": 417,
   "metadata": {},
   "outputs": [],
   "source": [
    "# Define model architecture\n",
    "model = Sequential()\n",
    "model.add(LSTM(100, activation = 'relu', input_shape = (n_steps_in, n_features)))\n",
    "model.add(Dense(n_steps_out))\n",
    "model.compile(optimizer = 'adam', loss = 'mse')"
   ]
  },
  {
   "cell_type": "code",
   "execution_count": 418,
   "metadata": {},
   "outputs": [
    {
     "data": {
      "text/plain": [
       "<tensorflow.python.keras.callbacks.History at 0x1dce3e21a90>"
      ]
     },
     "execution_count": 418,
     "metadata": {},
     "output_type": "execute_result"
    }
   ],
   "source": [
    "# Fit the model\n",
    "model.fit(X, y, epochs = 200, verbose = False, shuffle = False)"
   ]
  },
  {
   "cell_type": "code",
   "execution_count": 419,
   "metadata": {},
   "outputs": [],
   "source": [
    "# Set train evaluation input and outputs\n",
    "X_train = rnn_train.values[-(n_steps_in+n_steps_out):-n_steps_out]\n",
    "y_train = rnn_train.values[-n_steps_out:]\n",
    "\n",
    "# Reshape input\n",
    "X_train = X_train.reshape(1, n_steps_in, n_features)\n",
    "\n",
    "# Set test evaluation input and outputs\n",
    "X_test = rnn_train.values[-n_steps_in:]\n",
    "y_test = rnn_test.values\n",
    "\n",
    "# Reshape input \n",
    "X_test = X_test.reshape(1, n_steps_in, n_features)"
   ]
  },
  {
   "cell_type": "code",
   "execution_count": 420,
   "metadata": {},
   "outputs": [
    {
     "name": "stdout",
     "output_type": "stream",
     "text": [
      "WARNING:tensorflow:5 out of the last 11 calls to <function Model.make_predict_function.<locals>.predict_function at 0x000001DCE576E0D0> triggered tf.function retracing. Tracing is expensive and the excessive number of tracings could be due to (1) creating @tf.function repeatedly in a loop, (2) passing tensors with different shapes, (3) passing Python objects instead of tensors. For (1), please define your @tf.function outside of the loop. For (2), @tf.function has experimental_relax_shapes=True option that relaxes argument shapes that can avoid unnecessary retracing. For (3), please refer to https://www.tensorflow.org/tutorials/customization/performance#python_or_tensor_args and https://www.tensorflow.org/api_docs/python/tf/function for  more details.\n"
     ]
    }
   ],
   "source": [
    "# Predicting on train and test sets\n",
    "y_pred_train = model.predict(X_train, verbose = False)[0]\n",
    "y_pred_test = model.predict(X_test, verbose = False)[0]\n",
    "# [0] is to access nested array"
   ]
  },
  {
   "cell_type": "code",
   "execution_count": 421,
   "metadata": {},
   "outputs": [],
   "source": [
    "# Calculate RMSE for train and test predictions\n",
    "train_rmse = np.sqrt(mean_squared_error(y_train, y_pred_train))\n",
    "test_rmse = np.sqrt(mean_squared_error(y_test, y_pred_test))"
   ]
  },
  {
   "cell_type": "code",
   "execution_count": 422,
   "metadata": {},
   "outputs": [
    {
     "name": "stdout",
     "output_type": "stream",
     "text": [
      "Train: 1.170932733893342 Test: 1.3470970955846713\n"
     ]
    }
   ],
   "source": [
    "print('Train:', train_rmse, 'Test:', test_rmse)"
   ]
  },
  {
   "cell_type": "code",
   "execution_count": null,
   "metadata": {},
   "outputs": [],
   "source": [
    "# Define loss variable for plotting\n",
    "loss = history.history['loss']\n",
    "\n",
    "# Plot loss\n",
    "plt.plot(loss)"
   ]
  },
  {
   "cell_type": "markdown",
   "metadata": {},
   "source": [
    "## Hyperparameter and Architecture Tuning"
   ]
  },
  {
   "cell_type": "markdown",
   "metadata": {},
   "source": [
    "### Tanh Activation"
   ]
  },
  {
   "cell_type": "markdown",
   "metadata": {},
   "source": [
    "I want to test if a tanh activation will outperform a ReLu. In order to do this, I need to normalize my input data, as tanh functions can suffer from vanishing and exploding gradients."
   ]
  },
  {
   "cell_type": "code",
   "execution_count": 423,
   "metadata": {},
   "outputs": [],
   "source": [
    "# Setting raw input sequence\n",
    "raw_seq = rnn_train.values\n",
    "\n",
    "# Reshaping raw_seq from one dimensional to two dimensional vector for scaling\n",
    "raw_seq = raw_seq.reshape(raw_seq.shape[0], 1)\n",
    "\n",
    "# Fitting a normalizing scaler\n",
    "scaler = MinMaxScaler()\n",
    "scaler.fit(raw_seq)\n",
    "\n",
    "# Setting number of input and output/forecast steps\n",
    "# 'From the past n_steps_in trading days, predict the next n_steps_out'\n",
    "n_steps_in, n_steps_out = 100, 14\n",
    "\n",
    "# Splitting the sequence\n",
    "X, y = split_sequence(raw_seq, n_steps_in, n_steps_out)\n",
    "\n",
    "# Number of features is one because time series is univariate\n",
    "n_features = 1\n",
    "\n",
    "# Reshape from (samples, timesteps) into (samples, timesteps, features)\n",
    "X = X.reshape(X.shape[0], X.shape[1], n_features)\n",
    "\n",
    "# Scaling X with normalization\n",
    "for i in range(X.shape[0]):\n",
    "        X[i] = scaler.transform(X[i])"
   ]
  },
  {
   "cell_type": "code",
   "execution_count": 424,
   "metadata": {},
   "outputs": [],
   "source": [
    "# Define model architecture\n",
    "model = Sequential()\n",
    "model.add(LSTM(100, activation = 'tanh', input_shape = (n_steps_in, n_features)))\n",
    "model.add(Dense(n_steps_out))\n",
    "model.compile(optimizer = 'adam', loss = 'mse')"
   ]
  },
  {
   "cell_type": "code",
   "execution_count": 425,
   "metadata": {},
   "outputs": [
    {
     "data": {
      "text/plain": [
       "<tensorflow.python.keras.callbacks.History at 0x1dce5b69ca0>"
      ]
     },
     "execution_count": 425,
     "metadata": {},
     "output_type": "execute_result"
    }
   ],
   "source": [
    "# Fit the model\n",
    "model.fit(X, y, epochs = 200, verbose = False, shuffle = False)"
   ]
  },
  {
   "cell_type": "code",
   "execution_count": 426,
   "metadata": {},
   "outputs": [],
   "source": [
    "# Set train evaluation input and outputs\n",
    "X_train = rnn_train.values[-(n_steps_in+n_steps_out):-n_steps_out]\n",
    "y_train = rnn_train.values[-n_steps_out:]\n",
    "\n",
    "# Reshape X_train from 1D to 2D vector\n",
    "X_train = X_train.reshape(X_train.shape[0], 1)\n",
    "\n",
    "# Scale train set\n",
    "X_train = scaler.transform(X_train)\n",
    "\n",
    "# Reshape input\n",
    "X_train = X_train.reshape(1, n_steps_in, n_features)\n",
    "\n",
    "# Set test evaluation input and outputs\n",
    "X_test = rnn_train.values[-n_steps_in:]\n",
    "y_test = rnn_test.values\n",
    "\n",
    "# Reshape X_train from 1D to 2D vector\n",
    "X_test = X_test.reshape(X_test.shape[0], 1)\n",
    "\n",
    "# Scale test set\n",
    "X_test = scaler.transform(X_test)\n",
    "\n",
    "# Reshape input \n",
    "X_test = X_test.reshape(1, n_steps_in, n_features)"
   ]
  },
  {
   "cell_type": "code",
   "execution_count": 427,
   "metadata": {},
   "outputs": [
    {
     "name": "stdout",
     "output_type": "stream",
     "text": [
      "WARNING:tensorflow:5 out of the last 11 calls to <function Model.make_predict_function.<locals>.predict_function at 0x000001DCE782A4C0> triggered tf.function retracing. Tracing is expensive and the excessive number of tracings could be due to (1) creating @tf.function repeatedly in a loop, (2) passing tensors with different shapes, (3) passing Python objects instead of tensors. For (1), please define your @tf.function outside of the loop. For (2), @tf.function has experimental_relax_shapes=True option that relaxes argument shapes that can avoid unnecessary retracing. For (3), please refer to https://www.tensorflow.org/tutorials/customization/performance#python_or_tensor_args and https://www.tensorflow.org/api_docs/python/tf/function for  more details.\n"
     ]
    }
   ],
   "source": [
    "# Predicting on train and test sets\n",
    "y_pred_train = model.predict(X_train, verbose = False)[0]\n",
    "y_pred_test = model.predict(X_test, verbose = False)[0]\n",
    "# [0] is to access nested array"
   ]
  },
  {
   "cell_type": "code",
   "execution_count": 428,
   "metadata": {},
   "outputs": [],
   "source": [
    "# Calculate RMSE for train and test predictions\n",
    "train_rmse = np.sqrt(mean_squared_error(y_train, y_pred_train))\n",
    "test_rmse = np.sqrt(mean_squared_error(y_test, y_pred_test))"
   ]
  },
  {
   "cell_type": "code",
   "execution_count": 429,
   "metadata": {},
   "outputs": [
    {
     "name": "stdout",
     "output_type": "stream",
     "text": [
      "Train: 0.24992766784676643 Test: 0.5850721819755161\n"
     ]
    }
   ],
   "source": [
    "print('Train:', train_rmse, 'Test:', test_rmse)"
   ]
  },
  {
   "cell_type": "code",
   "execution_count": null,
   "metadata": {},
   "outputs": [],
   "source": [
    "# Define loss variable for plotting\n",
    "loss = history.history['loss']\n",
    "\n",
    "# Plot loss\n",
    "plt.plot(loss)"
   ]
  },
  {
   "cell_type": "markdown",
   "metadata": {},
   "source": [
    "There seems to be little difference in model performance between the two activation functions. Going forward, I will use the ReLu as it does not require scaling."
   ]
  },
  {
   "cell_type": "markdown",
   "metadata": {},
   "source": [
    "### Dropout Regularization"
   ]
  },
  {
   "cell_type": "markdown",
   "metadata": {},
   "source": [
    "So far, the model seems to be overfitting to the training data, as its training performance is better than its testing performance. I'll add dropout regularization to attempt to increase the bias."
   ]
  },
  {
   "cell_type": "code",
   "execution_count": 442,
   "metadata": {},
   "outputs": [],
   "source": [
    "# Setting raw input sequence\n",
    "raw_seq = rnn_train.values\n",
    "\n",
    "# Setting number of input and output/forecast steps\n",
    "# 'From the past 365 trading days, predict the next 14'\n",
    "n_steps_in, n_steps_out = 100, 14\n",
    "\n",
    "# Splitting the sequence\n",
    "X, y = split_sequence(raw_seq, n_steps_in, n_steps_out)\n",
    "\n",
    "# Number of features is one because time series is univariate\n",
    "n_features = 1\n",
    "\n",
    "# Reshape from (samples, timesteps) into (samples, timesteps, features)\n",
    "X = X.reshape(X.shape[0], X.shape[1], n_features)"
   ]
  },
  {
   "cell_type": "code",
   "execution_count": 443,
   "metadata": {},
   "outputs": [],
   "source": [
    "# Define model architecture\n",
    "model = Sequential()\n",
    "model.add(LSTM(100, activation = 'relu', input_shape = (n_steps_in, n_features)))\n",
    "model.add(Dropout(.05))\n",
    "model.add(Dense(n_steps_out))\n",
    "model.compile(optimizer = 'adam', loss = 'mse')\n",
    "\n",
    "# Instantiate History object to plot loss\n",
    "history = History()"
   ]
  },
  {
   "cell_type": "code",
   "execution_count": 444,
   "metadata": {},
   "outputs": [
    {
     "data": {
      "text/plain": [
       "<tensorflow.python.keras.callbacks.History at 0x1dce97eb8b0>"
      ]
     },
     "execution_count": 444,
     "metadata": {},
     "output_type": "execute_result"
    }
   ],
   "source": [
    "# Fit the model\n",
    "model.fit(X, y, epochs = 200, verbose = False, shuffle = False, callbacks = history)"
   ]
  },
  {
   "cell_type": "code",
   "execution_count": 445,
   "metadata": {},
   "outputs": [],
   "source": [
    "# Set train evaluation input and outputs\n",
    "X_train = rnn_train.values[-(n_steps_in+n_steps_out):-n_steps_out]\n",
    "y_train = rnn_train.values[-n_steps_out:]\n",
    "\n",
    "# Reshape input\n",
    "X_train = X_train.reshape(1, n_steps_in, n_features)\n",
    "\n",
    "# Set test evaluation input and outputs\n",
    "X_test = rnn_train.values[-n_steps_in:]\n",
    "y_test = rnn_test.values\n",
    "\n",
    "# Reshape input \n",
    "X_test = X_test.reshape(1, n_steps_in, n_features)"
   ]
  },
  {
   "cell_type": "code",
   "execution_count": 446,
   "metadata": {},
   "outputs": [
    {
     "name": "stdout",
     "output_type": "stream",
     "text": [
      "WARNING:tensorflow:5 out of the last 11 calls to <function Model.make_predict_function.<locals>.predict_function at 0x000001DCE576EB80> triggered tf.function retracing. Tracing is expensive and the excessive number of tracings could be due to (1) creating @tf.function repeatedly in a loop, (2) passing tensors with different shapes, (3) passing Python objects instead of tensors. For (1), please define your @tf.function outside of the loop. For (2), @tf.function has experimental_relax_shapes=True option that relaxes argument shapes that can avoid unnecessary retracing. For (3), please refer to https://www.tensorflow.org/tutorials/customization/performance#python_or_tensor_args and https://www.tensorflow.org/api_docs/python/tf/function for  more details.\n"
     ]
    }
   ],
   "source": [
    "# Predicting on train and test sets\n",
    "y_pred_train = model.predict(X_train, verbose = False)[0]\n",
    "y_pred_test = model.predict(X_test, verbose = False)[0]\n",
    "# [0] is to access nested array"
   ]
  },
  {
   "cell_type": "code",
   "execution_count": 447,
   "metadata": {},
   "outputs": [],
   "source": [
    "# Calculate RMSE for train and test predictions\n",
    "train_rmse = np.sqrt(mean_squared_error(y_train, y_pred_train))\n",
    "test_rmse = np.sqrt(mean_squared_error(y_test, y_pred_test))"
   ]
  },
  {
   "cell_type": "code",
   "execution_count": 448,
   "metadata": {},
   "outputs": [
    {
     "name": "stdout",
     "output_type": "stream",
     "text": [
      "Train: 0.36716290525429346 Test: 0.4275929238307735\n"
     ]
    }
   ],
   "source": [
    "print('Train:', train_rmse, 'Test:', test_rmse)"
   ]
  },
  {
   "cell_type": "code",
   "execution_count": null,
   "metadata": {},
   "outputs": [],
   "source": [
    "# Define loss variable for plotting\n",
    "loss = history.history['loss']\n",
    "\n",
    "# Plot loss\n",
    "plt.plot(loss)"
   ]
  },
  {
   "cell_type": "markdown",
   "metadata": {},
   "source": [
    "Dropout regularization seems to slightly improve model performance but could just be due to increasing the number of hidden units in the first LSTM layer from 50 to 100. Hard to tell because of inconsistent results."
   ]
  },
  {
   "cell_type": "markdown",
   "metadata": {},
   "source": [
    "Can I improve performance by adding another lstm layer, try bidirectional, then trying GRU layers, also training for longer"
   ]
  },
  {
   "cell_type": "markdown",
   "metadata": {},
   "source": [
    "### Bidirectional LSTM"
   ]
  },
  {
   "cell_type": "code",
   "execution_count": 457,
   "metadata": {},
   "outputs": [],
   "source": [
    "# Define model architecture\n",
    "model = Sequential()\n",
    "model.add(Bidirectional(LSTM(100, activation = 'relu', input_shape = (n_steps_in, n_features))))\n",
    "model.add(Dropout(.05))\n",
    "model.add(Dense(n_steps_out))\n",
    "model.compile(optimizer = 'adam', loss = 'mse')\n",
    "\n",
    "# Instantiate History object to plot loss\n",
    "history = History()"
   ]
  },
  {
   "cell_type": "code",
   "execution_count": 458,
   "metadata": {},
   "outputs": [
    {
     "data": {
      "text/plain": [
       "<tensorflow.python.keras.callbacks.History at 0x1dced7cec10>"
      ]
     },
     "execution_count": 458,
     "metadata": {},
     "output_type": "execute_result"
    }
   ],
   "source": [
    "# Fit the model\n",
    "model.fit(X, y, epochs = 200, verbose = False, shuffle = False, callbacks = history)"
   ]
  },
  {
   "cell_type": "code",
   "execution_count": 459,
   "metadata": {},
   "outputs": [],
   "source": [
    "# Set train evaluation input and outputs\n",
    "X_train = rnn_train.values[-(n_steps_in+n_steps_out):-n_steps_out]\n",
    "y_train = rnn_train.values[-n_steps_out:]\n",
    "\n",
    "# Reshape input\n",
    "X_train = X_train.reshape(1, n_steps_in, n_features)\n",
    "\n",
    "# Set test evaluation input and outputs\n",
    "X_test = rnn_train.values[-n_steps_in:]\n",
    "y_test = rnn_test.values\n",
    "\n",
    "# Reshape input \n",
    "X_test = X_test.reshape(1, n_steps_in, n_features)"
   ]
  },
  {
   "cell_type": "code",
   "execution_count": 460,
   "metadata": {},
   "outputs": [
    {
     "name": "stdout",
     "output_type": "stream",
     "text": [
      "WARNING:tensorflow:6 out of the last 11 calls to <function Model.make_predict_function.<locals>.predict_function at 0x000001DCEE8EE790> triggered tf.function retracing. Tracing is expensive and the excessive number of tracings could be due to (1) creating @tf.function repeatedly in a loop, (2) passing tensors with different shapes, (3) passing Python objects instead of tensors. For (1), please define your @tf.function outside of the loop. For (2), @tf.function has experimental_relax_shapes=True option that relaxes argument shapes that can avoid unnecessary retracing. For (3), please refer to https://www.tensorflow.org/tutorials/customization/performance#python_or_tensor_args and https://www.tensorflow.org/api_docs/python/tf/function for  more details.\n"
     ]
    }
   ],
   "source": [
    "# Predicting on train and test sets\n",
    "y_pred_train = model.predict(X_train, verbose = False)[0]\n",
    "y_pred_test = model.predict(X_test, verbose = False)[0]\n",
    "# [0] is to access nested array"
   ]
  },
  {
   "cell_type": "code",
   "execution_count": 461,
   "metadata": {},
   "outputs": [],
   "source": [
    "# Calculate RMSE for train and test predictions\n",
    "train_rmse = np.sqrt(mean_squared_error(y_train, y_pred_train))\n",
    "test_rmse = np.sqrt(mean_squared_error(y_test, y_pred_test))"
   ]
  },
  {
   "cell_type": "code",
   "execution_count": 462,
   "metadata": {},
   "outputs": [
    {
     "name": "stdout",
     "output_type": "stream",
     "text": [
      "Train: 0.6495342465413199 Test: 0.8812393474585622\n"
     ]
    }
   ],
   "source": [
    "print('Train:', train_rmse, 'Test:', test_rmse)"
   ]
  },
  {
   "cell_type": "code",
   "execution_count": null,
   "metadata": {},
   "outputs": [],
   "source": [
    "# Define loss variable for plotting\n",
    "loss = history.history['loss']\n",
    "\n",
    "# Plot loss\n",
    "plt.plot(loss)"
   ]
  },
  {
   "cell_type": "markdown",
   "metadata": {},
   "source": [
    "### Multiple LSTM, Dense Layers with Dropout"
   ]
  },
  {
   "cell_type": "code",
   "execution_count": 537,
   "metadata": {},
   "outputs": [],
   "source": [
    "# Define model architecture\n",
    "model = Sequential()\n",
    "model.add(LSTM(100, activation = 'relu', return_sequences = True, input_shape = (n_steps_in, n_features)))\n",
    "model.add(LSTM(50, activation = 'relu'))\n",
    "model.add(Dropout(.05))\n",
    "model.add(Dense(25))\n",
    "model.add(Dropout(.1))\n",
    "model.add(Dense(n_steps_out))\n",
    "model.compile(optimizer = 'adam', loss = 'mse')\n",
    "\n",
    "# Instantiate History object to plot loss\n",
    "history = History()"
   ]
  },
  {
   "cell_type": "code",
   "execution_count": 544,
   "metadata": {},
   "outputs": [
    {
     "data": {
      "text/plain": [
       "<tensorflow.python.keras.callbacks.History at 0x1dd27047eb0>"
      ]
     },
     "execution_count": 544,
     "metadata": {},
     "output_type": "execute_result"
    }
   ],
   "source": [
    "# Fit the model\n",
    "model.fit(X, y, epochs = 250, verbose = False, shuffle = False, callbacks = history)"
   ]
  },
  {
   "cell_type": "code",
   "execution_count": 545,
   "metadata": {},
   "outputs": [],
   "source": [
    "# Set train evaluation input and outputs\n",
    "X_train = rnn_train.values[-(n_steps_in+n_steps_out):-n_steps_out]\n",
    "y_train = rnn_train.values[-n_steps_out:]\n",
    "\n",
    "# Reshape input\n",
    "X_train = X_train.reshape(1, n_steps_in, n_features)\n",
    "\n",
    "# Set test evaluation input and outputs\n",
    "X_test = rnn_train.values[-n_steps_in:]\n",
    "y_test = rnn_test.values\n",
    "\n",
    "# Reshape input \n",
    "X_test = X_test.reshape(1, n_steps_in, n_features)"
   ]
  },
  {
   "cell_type": "code",
   "execution_count": 546,
   "metadata": {},
   "outputs": [],
   "source": [
    "# Predicting on train and test sets\n",
    "y_pred_train = model.predict(X_train, verbose = False)[0]\n",
    "y_pred_test = model.predict(X_test, verbose = False)[0]\n",
    "# [0] is to access nested array"
   ]
  },
  {
   "cell_type": "code",
   "execution_count": 547,
   "metadata": {},
   "outputs": [],
   "source": [
    "# Calculate RMSE for train and test predictions\n",
    "train_rmse = np.sqrt(mean_squared_error(y_train, y_pred_train))\n",
    "test_rmse = np.sqrt(mean_squared_error(y_test, y_pred_test))"
   ]
  },
  {
   "cell_type": "code",
   "execution_count": 548,
   "metadata": {},
   "outputs": [
    {
     "name": "stdout",
     "output_type": "stream",
     "text": [
      "Train: 0.6087432285771494 Test: 0.6748498564555134\n"
     ]
    }
   ],
   "source": [
    "print('Train:', train_rmse, 'Test:', test_rmse)"
   ]
  },
  {
   "cell_type": "code",
   "execution_count": 551,
   "metadata": {},
   "outputs": [
    {
     "data": {
      "text/plain": [
       "[<matplotlib.lines.Line2D at 0x1dd29dfb6a0>]"
      ]
     },
     "execution_count": 551,
     "metadata": {},
     "output_type": "execute_result"
    },
    {
     "data": {
      "image/png": "[encoded data removed]",
      "text/plain": [
       "<Figure size 432x288 with 1 Axes>"
      ]
     },
     "metadata": {
      "needs_background": "light"
     },
     "output_type": "display_data"
    }
   ],
   "source": [
    "# Define loss variable for plotting\n",
    "loss = history.history['loss']\n",
    "\n",
    "# Plot loss\n",
    "del(loss[1])\n",
    "plt.plot(loss)"
   ]
  },
  {
   "cell_type": "markdown",
   "metadata": {},
   "source": [
    "## Training Accross All Stocks"
   ]
  },
  {
   "cell_type": "code",
   "execution_count": 561,
   "metadata": {},
   "outputs": [],
   "source": [
    "def rnn_multiple(df_list, n_steps_in, n_steps_out, end_train_date, end_test_date):\n",
    "    \"\"\"\n",
    "    Takes in a list of dataframes, number of input and output steps, \n",
    "    and dates to end train and test sets.\n",
    "    \n",
    "    df_list -- list of dataframes\n",
    "    n_steps_in -- integer\n",
    "    n_steps_out -- integer\n",
    "    end_train_date -- string in 'YYYY-MM-DD' format where the date field is optional\n",
    "    end_test_date -- string in 'YYYY-MM-DD' format where the date field is optional\n",
    "    \"\"\"\n",
    "    # Create list of results to store scores and fail cache to store failed dfs\n",
    "    results_list = []\n",
    "    fail_cache = []\n",
    "    \n",
    "    for df in df_list:\n",
    "        try:\n",
    "            # Define a dictionary to store model performance on each stock\n",
    "            result = {}\n",
    "\n",
    "            # Get ticker and add to result dictionary\n",
    "            result['ticker'] = df['ticker'][0]\n",
    "\n",
    "            # Remove exogenous regressors\n",
    "            df = df['close']\n",
    "\n",
    "            # Endogenous regressors train/test split\n",
    "            rnn_train = df[:end_train_date]\n",
    "            rnn_test = df[end_train_date:end_test_date]\n",
    "\n",
    "            # Setting raw input sequence\n",
    "            raw_seq = rnn_train.values\n",
    "\n",
    "            # Setting number of input and output/forecast steps\n",
    "            # 'From the past n_steps_in trading days, predict the next n_steps_out'\n",
    "            n_steps_in, n_steps_out = n_steps_in, n_steps_out\n",
    "\n",
    "            # Splitting the sequence\n",
    "            X, y = split_sequence(raw_seq, n_steps_in, n_steps_out)\n",
    "\n",
    "            # Number of features is one because time series is univariate\n",
    "            n_features = 1\n",
    "\n",
    "            # Reshape from (samples, timesteps) into (samples, timesteps, features)\n",
    "            X = X.reshape(X.shape[0], X.shape[1], n_features)\n",
    "\n",
    "            # Define model architecture\n",
    "            model = Sequential()\n",
    "            model.add(LSTM(100, activation = 'relu', return_sequences = True, input_shape = (n_steps_in, n_features)))\n",
    "            model.add(LSTM(50, activation = 'relu'))\n",
    "            model.add(Dropout(.05))\n",
    "            model.add(Dense(25))\n",
    "            model.add(Dropout(.1))\n",
    "            model.add(Dense(n_steps_out))\n",
    "            model.compile(optimizer = 'adam', loss = 'mse')\n",
    "\n",
    "            # Instantiate History object to plot loss\n",
    "            history = History()\n",
    "\n",
    "            # Fit the model\n",
    "            model.fit(X, y, epochs = 250, verbose = False, shuffle = False, callbacks = history)\n",
    "\n",
    "            # Set train evaluation input and outputs\n",
    "            X_train = rnn_train.values[-(n_steps_in+n_steps_out):-n_steps_out]\n",
    "            y_train = rnn_train.values[-n_steps_out:]\n",
    "\n",
    "            # Reshape input\n",
    "            X_train = X_train.reshape(1, n_steps_in, n_features)\n",
    "\n",
    "            # Set test evaluation input and outputs\n",
    "            X_test = rnn_train.values[-n_steps_in:]\n",
    "            y_test = rnn_test.values\n",
    "\n",
    "            # Reshape input \n",
    "            X_test = X_test.reshape(1, n_steps_in, n_features)\n",
    "\n",
    "            # Predicting on train and test sets\n",
    "            y_pred_train = model.predict(X_train, verbose = False)[0]\n",
    "            y_pred_test = model.predict(X_test, verbose = False)[0]\n",
    "            # [0] is to access nested array\n",
    "\n",
    "            # Calculate RMSE for train and test predictions\n",
    "            result['train_rmse'] = np.sqrt(mean_squared_error(y_train, y_pred_train))\n",
    "            result['test_rmse'] = np.sqrt(mean_squared_error(y_test, y_pred_test))\n",
    "\n",
    "            # Define loss variable for plotting\n",
    "            result['loss'] = history.history['loss']\n",
    "\n",
    "            # Append result dictionary to results_list\n",
    "            results_list.append(result)\n",
    "            \n",
    "        except:\n",
    "            fail_cache.append(df['ticker'][0])\n",
    "            continue\n",
    "            \n",
    "    return results_list, fail_cache   "
   ]
  },
  {
   "cell_type": "code",
   "execution_count": 562,
   "metadata": {},
   "outputs": [
    {
     "name": "stdout",
     "output_type": "stream",
     "text": [
      "WARNING:tensorflow:5 out of the last 15 calls to <function Model.make_predict_function.<locals>.predict_function at 0x000001DD3C857550> triggered tf.function retracing. Tracing is expensive and the excessive number of tracings could be due to (1) creating @tf.function repeatedly in a loop, (2) passing tensors with different shapes, (3) passing Python objects instead of tensors. For (1), please define your @tf.function outside of the loop. For (2), @tf.function has experimental_relax_shapes=True option that relaxes argument shapes that can avoid unnecessary retracing. For (3), please refer to https://www.tensorflow.org/tutorials/customization/performance#python_or_tensor_args and https://www.tensorflow.org/api_docs/python/tf/function for  more details.\n",
      "WARNING:tensorflow:5 out of the last 11 calls to <function Model.make_predict_function.<locals>.predict_function at 0x000001DD3EBF85E0> triggered tf.function retracing. Tracing is expensive and the excessive number of tracings could be due to (1) creating @tf.function repeatedly in a loop, (2) passing tensors with different shapes, (3) passing Python objects instead of tensors. For (1), please define your @tf.function outside of the loop. For (2), @tf.function has experimental_relax_shapes=True option that relaxes argument shapes that can avoid unnecessary retracing. For (3), please refer to https://www.tensorflow.org/tutorials/customization/performance#python_or_tensor_args and https://www.tensorflow.org/api_docs/python/tf/function for  more details.\n",
      "WARNING:tensorflow:6 out of the last 13 calls to <function Model.make_predict_function.<locals>.predict_function at 0x000001DD42E7BEE0> triggered tf.function retracing. Tracing is expensive and the excessive number of tracings could be due to (1) creating @tf.function repeatedly in a loop, (2) passing tensors with different shapes, (3) passing Python objects instead of tensors. For (1), please define your @tf.function outside of the loop. For (2), @tf.function has experimental_relax_shapes=True option that relaxes argument shapes that can avoid unnecessary retracing. For (3), please refer to https://www.tensorflow.org/tutorials/customization/performance#python_or_tensor_args and https://www.tensorflow.org/api_docs/python/tf/function for  more details.\n"
     ]
    },
    {
     "ename": "KeyError",
     "evalue": "'ticker'",
     "output_type": "error",
     "traceback": [
      "\u001b[1;31m---------------------------------------------------------------------------\u001b[0m",
      "\u001b[1;31mValueError\u001b[0m                                Traceback (most recent call last)",
      "\u001b[1;32m<ipython-input-561-fc6ff3cef1fc>\u001b[0m in \u001b[0;36mrnn_multiple\u001b[1;34m(df_list, n_steps_in, n_steps_out, end_train_date, end_test_date)\u001b[0m\n\u001b[0;32m     82\u001b[0m             \u001b[1;31m# Calculate RMSE for train and test predictions\u001b[0m\u001b[1;33m\u001b[0m\u001b[1;33m\u001b[0m\u001b[1;33m\u001b[0m\u001b[0m\n\u001b[1;32m---> 83\u001b[1;33m             \u001b[0mresult\u001b[0m\u001b[1;33m[\u001b[0m\u001b[1;34m'train_rmse'\u001b[0m\u001b[1;33m]\u001b[0m \u001b[1;33m=\u001b[0m \u001b[0mnp\u001b[0m\u001b[1;33m.\u001b[0m\u001b[0msqrt\u001b[0m\u001b[1;33m(\u001b[0m\u001b[0mmean_squared_error\u001b[0m\u001b[1;33m(\u001b[0m\u001b[0my_train\u001b[0m\u001b[1;33m,\u001b[0m \u001b[0my_pred_train\u001b[0m\u001b[1;33m)\u001b[0m\u001b[1;33m)\u001b[0m\u001b[1;33m\u001b[0m\u001b[1;33m\u001b[0m\u001b[0m\n\u001b[0m\u001b[0;32m     84\u001b[0m             \u001b[0mresult\u001b[0m\u001b[1;33m[\u001b[0m\u001b[1;34m'test_rmse'\u001b[0m\u001b[1;33m]\u001b[0m \u001b[1;33m=\u001b[0m \u001b[0mnp\u001b[0m\u001b[1;33m.\u001b[0m\u001b[0msqrt\u001b[0m\u001b[1;33m(\u001b[0m\u001b[0mmean_squared_error\u001b[0m\u001b[1;33m(\u001b[0m\u001b[0my_test\u001b[0m\u001b[1;33m,\u001b[0m \u001b[0my_pred_test\u001b[0m\u001b[1;33m)\u001b[0m\u001b[1;33m)\u001b[0m\u001b[1;33m\u001b[0m\u001b[1;33m\u001b[0m\u001b[0m\n",
      "\u001b[1;32m~\\anaconda3\\envs\\learn-env\\lib\\site-packages\\sklearn\\utils\\validation.py\u001b[0m in \u001b[0;36minner_f\u001b[1;34m(*args, **kwargs)\u001b[0m\n\u001b[0;32m     71\u001b[0m         \u001b[0mkwargs\u001b[0m\u001b[1;33m.\u001b[0m\u001b[0mupdate\u001b[0m\u001b[1;33m(\u001b[0m\u001b[1;33m{\u001b[0m\u001b[0mk\u001b[0m\u001b[1;33m:\u001b[0m \u001b[0marg\u001b[0m \u001b[1;32mfor\u001b[0m \u001b[0mk\u001b[0m\u001b[1;33m,\u001b[0m \u001b[0marg\u001b[0m \u001b[1;32min\u001b[0m \u001b[0mzip\u001b[0m\u001b[1;33m(\u001b[0m\u001b[0msig\u001b[0m\u001b[1;33m.\u001b[0m\u001b[0mparameters\u001b[0m\u001b[1;33m,\u001b[0m \u001b[0margs\u001b[0m\u001b[1;33m)\u001b[0m\u001b[1;33m}\u001b[0m\u001b[1;33m)\u001b[0m\u001b[1;33m\u001b[0m\u001b[1;33m\u001b[0m\u001b[0m\n\u001b[1;32m---> 72\u001b[1;33m         \u001b[1;32mreturn\u001b[0m \u001b[0mf\u001b[0m\u001b[1;33m(\u001b[0m\u001b[1;33m**\u001b[0m\u001b[0mkwargs\u001b[0m\u001b[1;33m)\u001b[0m\u001b[1;33m\u001b[0m\u001b[1;33m\u001b[0m\u001b[0m\n\u001b[0m\u001b[0;32m     73\u001b[0m     \u001b[1;32mreturn\u001b[0m \u001b[0minner_f\u001b[0m\u001b[1;33m\u001b[0m\u001b[1;33m\u001b[0m\u001b[0m\n",
      "\u001b[1;32m~\\anaconda3\\envs\\learn-env\\lib\\site-packages\\sklearn\\metrics\\_regression.py\u001b[0m in \u001b[0;36mmean_squared_error\u001b[1;34m(y_true, y_pred, sample_weight, multioutput, squared)\u001b[0m\n\u001b[0;32m    254\u001b[0m     \"\"\"\n\u001b[1;32m--> 255\u001b[1;33m     y_type, y_true, y_pred, multioutput = _check_reg_targets(\n\u001b[0m\u001b[0;32m    256\u001b[0m         y_true, y_pred, multioutput)\n",
      "\u001b[1;32m~\\anaconda3\\envs\\learn-env\\lib\\site-packages\\sklearn\\metrics\\_regression.py\u001b[0m in \u001b[0;36m_check_reg_targets\u001b[1;34m(y_true, y_pred, multioutput, dtype)\u001b[0m\n\u001b[0;32m     85\u001b[0m     \u001b[0my_true\u001b[0m \u001b[1;33m=\u001b[0m \u001b[0mcheck_array\u001b[0m\u001b[1;33m(\u001b[0m\u001b[0my_true\u001b[0m\u001b[1;33m,\u001b[0m \u001b[0mensure_2d\u001b[0m\u001b[1;33m=\u001b[0m\u001b[1;32mFalse\u001b[0m\u001b[1;33m,\u001b[0m \u001b[0mdtype\u001b[0m\u001b[1;33m=\u001b[0m\u001b[0mdtype\u001b[0m\u001b[1;33m)\u001b[0m\u001b[1;33m\u001b[0m\u001b[1;33m\u001b[0m\u001b[0m\n\u001b[1;32m---> 86\u001b[1;33m     \u001b[0my_pred\u001b[0m \u001b[1;33m=\u001b[0m \u001b[0mcheck_array\u001b[0m\u001b[1;33m(\u001b[0m\u001b[0my_pred\u001b[0m\u001b[1;33m,\u001b[0m \u001b[0mensure_2d\u001b[0m\u001b[1;33m=\u001b[0m\u001b[1;32mFalse\u001b[0m\u001b[1;33m,\u001b[0m \u001b[0mdtype\u001b[0m\u001b[1;33m=\u001b[0m\u001b[0mdtype\u001b[0m\u001b[1;33m)\u001b[0m\u001b[1;33m\u001b[0m\u001b[1;33m\u001b[0m\u001b[0m\n\u001b[0m\u001b[0;32m     87\u001b[0m \u001b[1;33m\u001b[0m\u001b[0m\n",
      "\u001b[1;32m~\\anaconda3\\envs\\learn-env\\lib\\site-packages\\sklearn\\utils\\validation.py\u001b[0m in \u001b[0;36minner_f\u001b[1;34m(*args, **kwargs)\u001b[0m\n\u001b[0;32m     71\u001b[0m         \u001b[0mkwargs\u001b[0m\u001b[1;33m.\u001b[0m\u001b[0mupdate\u001b[0m\u001b[1;33m(\u001b[0m\u001b[1;33m{\u001b[0m\u001b[0mk\u001b[0m\u001b[1;33m:\u001b[0m \u001b[0marg\u001b[0m \u001b[1;32mfor\u001b[0m \u001b[0mk\u001b[0m\u001b[1;33m,\u001b[0m \u001b[0marg\u001b[0m \u001b[1;32min\u001b[0m \u001b[0mzip\u001b[0m\u001b[1;33m(\u001b[0m\u001b[0msig\u001b[0m\u001b[1;33m.\u001b[0m\u001b[0mparameters\u001b[0m\u001b[1;33m,\u001b[0m \u001b[0margs\u001b[0m\u001b[1;33m)\u001b[0m\u001b[1;33m}\u001b[0m\u001b[1;33m)\u001b[0m\u001b[1;33m\u001b[0m\u001b[1;33m\u001b[0m\u001b[0m\n\u001b[1;32m---> 72\u001b[1;33m         \u001b[1;32mreturn\u001b[0m \u001b[0mf\u001b[0m\u001b[1;33m(\u001b[0m\u001b[1;33m**\u001b[0m\u001b[0mkwargs\u001b[0m\u001b[1;33m)\u001b[0m\u001b[1;33m\u001b[0m\u001b[1;33m\u001b[0m\u001b[0m\n\u001b[0m\u001b[0;32m     73\u001b[0m     \u001b[1;32mreturn\u001b[0m \u001b[0minner_f\u001b[0m\u001b[1;33m\u001b[0m\u001b[1;33m\u001b[0m\u001b[0m\n",
      "\u001b[1;32m~\\anaconda3\\envs\\learn-env\\lib\\site-packages\\sklearn\\utils\\validation.py\u001b[0m in \u001b[0;36mcheck_array\u001b[1;34m(array, accept_sparse, accept_large_sparse, dtype, order, copy, force_all_finite, ensure_2d, allow_nd, ensure_min_samples, ensure_min_features, estimator)\u001b[0m\n\u001b[0;32m    643\u001b[0m         \u001b[1;32mif\u001b[0m \u001b[0mforce_all_finite\u001b[0m\u001b[1;33m:\u001b[0m\u001b[1;33m\u001b[0m\u001b[1;33m\u001b[0m\u001b[0m\n\u001b[1;32m--> 644\u001b[1;33m             _assert_all_finite(array,\n\u001b[0m\u001b[0;32m    645\u001b[0m                                allow_nan=force_all_finite == 'allow-nan')\n",
      "\u001b[1;32m~\\anaconda3\\envs\\learn-env\\lib\\site-packages\\sklearn\\utils\\validation.py\u001b[0m in \u001b[0;36m_assert_all_finite\u001b[1;34m(X, allow_nan, msg_dtype)\u001b[0m\n\u001b[0;32m     95\u001b[0m             \u001b[0mtype_err\u001b[0m \u001b[1;33m=\u001b[0m \u001b[1;34m'infinity'\u001b[0m \u001b[1;32mif\u001b[0m \u001b[0mallow_nan\u001b[0m \u001b[1;32melse\u001b[0m \u001b[1;34m'NaN, infinity'\u001b[0m\u001b[1;33m\u001b[0m\u001b[1;33m\u001b[0m\u001b[0m\n\u001b[1;32m---> 96\u001b[1;33m             raise ValueError(\n\u001b[0m\u001b[0;32m     97\u001b[0m                     \u001b[0mmsg_err\u001b[0m\u001b[1;33m.\u001b[0m\u001b[0mformat\u001b[0m\u001b[1;33m\u001b[0m\u001b[1;33m\u001b[0m\u001b[0m\n",
      "\u001b[1;31mValueError\u001b[0m: Input contains NaN, infinity or a value too large for dtype('float32').",
      "\nDuring handling of the above exception, another exception occurred:\n",
      "\u001b[1;31mParserError\u001b[0m                               Traceback (most recent call last)",
      "\u001b[1;32mpandas\\_libs\\tslibs\\conversion.pyx\u001b[0m in \u001b[0;36mpandas._libs.tslibs.conversion._convert_str_to_tsobject\u001b[1;34m()\u001b[0m\n",
      "\u001b[1;32mpandas\\_libs\\tslibs\\parsing.pyx\u001b[0m in \u001b[0;36mpandas._libs.tslibs.parsing.parse_datetime_string\u001b[1;34m()\u001b[0m\n",
      "\u001b[1;32m~\\anaconda3\\envs\\learn-env\\lib\\site-packages\\dateutil\\parser\\_parser.py\u001b[0m in \u001b[0;36mparse\u001b[1;34m(timestr, parserinfo, **kwargs)\u001b[0m\n\u001b[0;32m   1373\u001b[0m     \u001b[1;32melse\u001b[0m\u001b[1;33m:\u001b[0m\u001b[1;33m\u001b[0m\u001b[1;33m\u001b[0m\u001b[0m\n\u001b[1;32m-> 1374\u001b[1;33m         \u001b[1;32mreturn\u001b[0m \u001b[0mDEFAULTPARSER\u001b[0m\u001b[1;33m.\u001b[0m\u001b[0mparse\u001b[0m\u001b[1;33m(\u001b[0m\u001b[0mtimestr\u001b[0m\u001b[1;33m,\u001b[0m \u001b[1;33m**\u001b[0m\u001b[0mkwargs\u001b[0m\u001b[1;33m)\u001b[0m\u001b[1;33m\u001b[0m\u001b[1;33m\u001b[0m\u001b[0m\n\u001b[0m\u001b[0;32m   1375\u001b[0m \u001b[1;33m\u001b[0m\u001b[0m\n",
      "\u001b[1;32m~\\anaconda3\\envs\\learn-env\\lib\\site-packages\\dateutil\\parser\\_parser.py\u001b[0m in \u001b[0;36mparse\u001b[1;34m(self, timestr, default, ignoretz, tzinfos, **kwargs)\u001b[0m\n\u001b[0;32m    648\u001b[0m         \u001b[1;32mif\u001b[0m \u001b[0mres\u001b[0m \u001b[1;32mis\u001b[0m \u001b[1;32mNone\u001b[0m\u001b[1;33m:\u001b[0m\u001b[1;33m\u001b[0m\u001b[1;33m\u001b[0m\u001b[0m\n\u001b[1;32m--> 649\u001b[1;33m             \u001b[1;32mraise\u001b[0m \u001b[0mParserError\u001b[0m\u001b[1;33m(\u001b[0m\u001b[1;34m\"Unknown string format: %s\"\u001b[0m\u001b[1;33m,\u001b[0m \u001b[0mtimestr\u001b[0m\u001b[1;33m)\u001b[0m\u001b[1;33m\u001b[0m\u001b[1;33m\u001b[0m\u001b[0m\n\u001b[0m\u001b[0;32m    650\u001b[0m \u001b[1;33m\u001b[0m\u001b[0m\n",
      "\u001b[1;31mParserError\u001b[0m: Unknown string format: ticker",
      "\nDuring handling of the above exception, another exception occurred:\n",
      "\u001b[1;31mValueError\u001b[0m                                Traceback (most recent call last)",
      "\u001b[1;32m~\\anaconda3\\envs\\learn-env\\lib\\site-packages\\pandas\\core\\indexes\\datetimes.py\u001b[0m in \u001b[0;36mget_loc\u001b[1;34m(self, key, method, tolerance)\u001b[0m\n\u001b[0;32m    602\u001b[0m             \u001b[1;32mtry\u001b[0m\u001b[1;33m:\u001b[0m\u001b[1;33m\u001b[0m\u001b[1;33m\u001b[0m\u001b[0m\n\u001b[1;32m--> 603\u001b[1;33m                 \u001b[0mkey\u001b[0m \u001b[1;33m=\u001b[0m \u001b[0mself\u001b[0m\u001b[1;33m.\u001b[0m\u001b[0m_maybe_cast_for_get_loc\u001b[0m\u001b[1;33m(\u001b[0m\u001b[0mkey\u001b[0m\u001b[1;33m)\u001b[0m\u001b[1;33m\u001b[0m\u001b[1;33m\u001b[0m\u001b[0m\n\u001b[0m\u001b[0;32m    604\u001b[0m             \u001b[1;32mexcept\u001b[0m \u001b[0mValueError\u001b[0m \u001b[1;32mas\u001b[0m \u001b[0merr\u001b[0m\u001b[1;33m:\u001b[0m\u001b[1;33m\u001b[0m\u001b[1;33m\u001b[0m\u001b[0m\n",
      "\u001b[1;32m~\\anaconda3\\envs\\learn-env\\lib\\site-packages\\pandas\\core\\indexes\\datetimes.py\u001b[0m in \u001b[0;36m_maybe_cast_for_get_loc\u001b[1;34m(self, key)\u001b[0m\n\u001b[0;32m    630\u001b[0m         \u001b[1;31m# needed to localize naive datetimes\u001b[0m\u001b[1;33m\u001b[0m\u001b[1;33m\u001b[0m\u001b[1;33m\u001b[0m\u001b[0m\n\u001b[1;32m--> 631\u001b[1;33m         \u001b[0mkey\u001b[0m \u001b[1;33m=\u001b[0m \u001b[0mTimestamp\u001b[0m\u001b[1;33m(\u001b[0m\u001b[0mkey\u001b[0m\u001b[1;33m)\u001b[0m\u001b[1;33m\u001b[0m\u001b[1;33m\u001b[0m\u001b[0m\n\u001b[0m\u001b[0;32m    632\u001b[0m         \u001b[1;32mif\u001b[0m \u001b[0mkey\u001b[0m\u001b[1;33m.\u001b[0m\u001b[0mtzinfo\u001b[0m \u001b[1;32mis\u001b[0m \u001b[1;32mNone\u001b[0m\u001b[1;33m:\u001b[0m\u001b[1;33m\u001b[0m\u001b[1;33m\u001b[0m\u001b[0m\n",
      "\u001b[1;32mpandas\\_libs\\tslibs\\timestamps.pyx\u001b[0m in \u001b[0;36mpandas._libs.tslibs.timestamps.Timestamp.__new__\u001b[1;34m()\u001b[0m\n",
      "\u001b[1;32mpandas\\_libs\\tslibs\\conversion.pyx\u001b[0m in \u001b[0;36mpandas._libs.tslibs.conversion.convert_to_tsobject\u001b[1;34m()\u001b[0m\n",
      "\u001b[1;32mpandas\\_libs\\tslibs\\conversion.pyx\u001b[0m in \u001b[0;36mpandas._libs.tslibs.conversion._convert_str_to_tsobject\u001b[1;34m()\u001b[0m\n",
      "\u001b[1;31mValueError\u001b[0m: could not convert string to Timestamp",
      "\nThe above exception was the direct cause of the following exception:\n",
      "\u001b[1;31mKeyError\u001b[0m                                  Traceback (most recent call last)",
      "\u001b[1;32m<ipython-input-562-f6ff55bedfdd>\u001b[0m in \u001b[0;36m<module>\u001b[1;34m\u001b[0m\n\u001b[1;32m----> 1\u001b[1;33m rnn_list, rnn_failed = rnn_multiple(cm_df_list, \n\u001b[0m\u001b[0;32m      2\u001b[0m                                     \u001b[0mn_steps_in\u001b[0m \u001b[1;33m=\u001b[0m \u001b[1;36m100\u001b[0m\u001b[1;33m,\u001b[0m\u001b[1;33m\u001b[0m\u001b[1;33m\u001b[0m\u001b[0m\n\u001b[0;32m      3\u001b[0m                                     \u001b[0mn_steps_out\u001b[0m \u001b[1;33m=\u001b[0m \u001b[1;36m14\u001b[0m\u001b[1;33m,\u001b[0m\u001b[1;33m\u001b[0m\u001b[1;33m\u001b[0m\u001b[0m\n\u001b[0;32m      4\u001b[0m                                     \u001b[0mend_train_date\u001b[0m \u001b[1;33m=\u001b[0m \u001b[0mend_train_date\u001b[0m\u001b[1;33m,\u001b[0m\u001b[1;33m\u001b[0m\u001b[1;33m\u001b[0m\u001b[0m\n\u001b[0;32m      5\u001b[0m                                     end_test_date = end_test_date)\n",
      "\u001b[1;32m<ipython-input-561-fc6ff3cef1fc>\u001b[0m in \u001b[0;36mrnn_multiple\u001b[1;34m(df_list, n_steps_in, n_steps_out, end_train_date, end_test_date)\u001b[0m\n\u001b[0;32m     91\u001b[0m \u001b[1;33m\u001b[0m\u001b[0m\n\u001b[0;32m     92\u001b[0m         \u001b[1;32mexcept\u001b[0m\u001b[1;33m:\u001b[0m\u001b[1;33m\u001b[0m\u001b[1;33m\u001b[0m\u001b[0m\n\u001b[1;32m---> 93\u001b[1;33m             \u001b[0mfail_cache\u001b[0m\u001b[1;33m.\u001b[0m\u001b[0mappend\u001b[0m\u001b[1;33m(\u001b[0m\u001b[0mdf\u001b[0m\u001b[1;33m[\u001b[0m\u001b[1;34m'ticker'\u001b[0m\u001b[1;33m]\u001b[0m\u001b[1;33m[\u001b[0m\u001b[1;36m0\u001b[0m\u001b[1;33m]\u001b[0m\u001b[1;33m)\u001b[0m\u001b[1;33m\u001b[0m\u001b[1;33m\u001b[0m\u001b[0m\n\u001b[0m\u001b[0;32m     94\u001b[0m             \u001b[1;32mcontinue\u001b[0m\u001b[1;33m\u001b[0m\u001b[1;33m\u001b[0m\u001b[0m\n\u001b[0;32m     95\u001b[0m \u001b[1;33m\u001b[0m\u001b[0m\n",
      "\u001b[1;32m~\\anaconda3\\envs\\learn-env\\lib\\site-packages\\pandas\\core\\series.py\u001b[0m in \u001b[0;36m__getitem__\u001b[1;34m(self, key)\u001b[0m\n\u001b[0;32m    880\u001b[0m \u001b[1;33m\u001b[0m\u001b[0m\n\u001b[0;32m    881\u001b[0m         \u001b[1;32melif\u001b[0m \u001b[0mkey_is_scalar\u001b[0m\u001b[1;33m:\u001b[0m\u001b[1;33m\u001b[0m\u001b[1;33m\u001b[0m\u001b[0m\n\u001b[1;32m--> 882\u001b[1;33m             \u001b[1;32mreturn\u001b[0m \u001b[0mself\u001b[0m\u001b[1;33m.\u001b[0m\u001b[0m_get_value\u001b[0m\u001b[1;33m(\u001b[0m\u001b[0mkey\u001b[0m\u001b[1;33m)\u001b[0m\u001b[1;33m\u001b[0m\u001b[1;33m\u001b[0m\u001b[0m\n\u001b[0m\u001b[0;32m    883\u001b[0m \u001b[1;33m\u001b[0m\u001b[0m\n\u001b[0;32m    884\u001b[0m         \u001b[1;32mif\u001b[0m \u001b[0mis_hashable\u001b[0m\u001b[1;33m(\u001b[0m\u001b[0mkey\u001b[0m\u001b[1;33m)\u001b[0m\u001b[1;33m:\u001b[0m\u001b[1;33m\u001b[0m\u001b[1;33m\u001b[0m\u001b[0m\n",
      "\u001b[1;32m~\\anaconda3\\envs\\learn-env\\lib\\site-packages\\pandas\\core\\series.py\u001b[0m in \u001b[0;36m_get_value\u001b[1;34m(self, label, takeable)\u001b[0m\n\u001b[0;32m    987\u001b[0m \u001b[1;33m\u001b[0m\u001b[0m\n\u001b[0;32m    988\u001b[0m         \u001b[1;31m# Similar to Index.get_value, but we do not fall back to positional\u001b[0m\u001b[1;33m\u001b[0m\u001b[1;33m\u001b[0m\u001b[1;33m\u001b[0m\u001b[0m\n\u001b[1;32m--> 989\u001b[1;33m         \u001b[0mloc\u001b[0m \u001b[1;33m=\u001b[0m \u001b[0mself\u001b[0m\u001b[1;33m.\u001b[0m\u001b[0mindex\u001b[0m\u001b[1;33m.\u001b[0m\u001b[0mget_loc\u001b[0m\u001b[1;33m(\u001b[0m\u001b[0mlabel\u001b[0m\u001b[1;33m)\u001b[0m\u001b[1;33m\u001b[0m\u001b[1;33m\u001b[0m\u001b[0m\n\u001b[0m\u001b[0;32m    990\u001b[0m         \u001b[1;32mreturn\u001b[0m \u001b[0mself\u001b[0m\u001b[1;33m.\u001b[0m\u001b[0mindex\u001b[0m\u001b[1;33m.\u001b[0m\u001b[0m_get_values_for_loc\u001b[0m\u001b[1;33m(\u001b[0m\u001b[0mself\u001b[0m\u001b[1;33m,\u001b[0m \u001b[0mloc\u001b[0m\u001b[1;33m,\u001b[0m \u001b[0mlabel\u001b[0m\u001b[1;33m)\u001b[0m\u001b[1;33m\u001b[0m\u001b[1;33m\u001b[0m\u001b[0m\n\u001b[0;32m    991\u001b[0m \u001b[1;33m\u001b[0m\u001b[0m\n",
      "\u001b[1;32m~\\anaconda3\\envs\\learn-env\\lib\\site-packages\\pandas\\core\\indexes\\datetimes.py\u001b[0m in \u001b[0;36mget_loc\u001b[1;34m(self, key, method, tolerance)\u001b[0m\n\u001b[0;32m    603\u001b[0m                 \u001b[0mkey\u001b[0m \u001b[1;33m=\u001b[0m \u001b[0mself\u001b[0m\u001b[1;33m.\u001b[0m\u001b[0m_maybe_cast_for_get_loc\u001b[0m\u001b[1;33m(\u001b[0m\u001b[0mkey\u001b[0m\u001b[1;33m)\u001b[0m\u001b[1;33m\u001b[0m\u001b[1;33m\u001b[0m\u001b[0m\n\u001b[0;32m    604\u001b[0m             \u001b[1;32mexcept\u001b[0m \u001b[0mValueError\u001b[0m \u001b[1;32mas\u001b[0m \u001b[0merr\u001b[0m\u001b[1;33m:\u001b[0m\u001b[1;33m\u001b[0m\u001b[1;33m\u001b[0m\u001b[0m\n\u001b[1;32m--> 605\u001b[1;33m                 \u001b[1;32mraise\u001b[0m \u001b[0mKeyError\u001b[0m\u001b[1;33m(\u001b[0m\u001b[0mkey\u001b[0m\u001b[1;33m)\u001b[0m \u001b[1;32mfrom\u001b[0m \u001b[0merr\u001b[0m\u001b[1;33m\u001b[0m\u001b[1;33m\u001b[0m\u001b[0m\n\u001b[0m\u001b[0;32m    606\u001b[0m \u001b[1;33m\u001b[0m\u001b[0m\n\u001b[0;32m    607\u001b[0m         \u001b[1;32melif\u001b[0m \u001b[0misinstance\u001b[0m\u001b[1;33m(\u001b[0m\u001b[0mkey\u001b[0m\u001b[1;33m,\u001b[0m \u001b[0mtimedelta\u001b[0m\u001b[1;33m)\u001b[0m\u001b[1;33m:\u001b[0m\u001b[1;33m\u001b[0m\u001b[1;33m\u001b[0m\u001b[0m\n",
      "\u001b[1;31mKeyError\u001b[0m: 'ticker'"
     ]
    }
   ],
   "source": [
    "rnn_list, rnn_failed = rnn_multiple(cm_df_list, \n",
    "                                    n_steps_in = 100, \n",
    "                                    n_steps_out = 14, \n",
    "                                    end_train_date = end_train_date, \n",
    "                                    end_test_date = end_test_date)"
   ]
  },
  {
   "cell_type": "code",
   "execution_count": 563,
   "metadata": {},
   "outputs": [
    {
     "ename": "NameError",
     "evalue": "name 'rnn_list' is not defined",
     "output_type": "error",
     "traceback": [
      "\u001b[1;31m---------------------------------------------------------------------------\u001b[0m",
      "\u001b[1;31mNameError\u001b[0m                                 Traceback (most recent call last)",
      "\u001b[1;32m<ipython-input-563-b35b581eac07>\u001b[0m in \u001b[0;36m<module>\u001b[1;34m\u001b[0m\n\u001b[1;32m----> 1\u001b[1;33m \u001b[0mrnn_list\u001b[0m\u001b[1;33m\u001b[0m\u001b[1;33m\u001b[0m\u001b[0m\n\u001b[0m",
      "\u001b[1;31mNameError\u001b[0m: name 'rnn_list' is not defined"
     ]
    }
   ],
   "source": [
    "rnn_list"
   ]
  },
  {
   "cell_type": "code",
   "execution_count": null,
   "metadata": {},
   "outputs": [],
   "source": []
  }
 ],
 "metadata": {
  "kernelspec": {
   "display_name": "learn-env",
   "language": "python",
   "name": "learn-env"
  },
  "language_info": {
   "codemirror_mode": {
    "name": "ipython",
    "version": 3
   },
   "file_extension": ".py",
   "mimetype": "text/x-python",
   "name": "python",
   "nbconvert_exporter": "python",
   "pygments_lexer": "ipython3",
   "version": "3.8.5"
  }
 },
 "nbformat": 4,
 "nbformat_minor": 4
}
