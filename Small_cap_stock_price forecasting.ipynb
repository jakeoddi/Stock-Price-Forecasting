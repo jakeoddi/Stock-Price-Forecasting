{
 "cells": [
  {
   "cell_type": "markdown",
   "metadata": {},
   "source": [
    "# Small-Cap Stock Price-Movement Prediction and Price-Target Forecasting"
   ]
  },
  {
   "cell_type": "markdown",
   "metadata": {},
   "source": [
    "#### Author: Jake Oddi"
   ]
  },
  {
   "cell_type": "markdown",
   "metadata": {},
   "source": [
    "## Overview"
   ]
  },
  {
   "cell_type": "markdown",
   "metadata": {},
   "source": [
    "This project applies classification methods to the daily price data of stocks with market capitalizations between \\\\$75M and \\\\$1B from the past three years to predict intraday price movements. Instances where the closing price exceeds the opening price are considered positive cases, and instances where the opposite is true are considered negative."
   ]
  },
  {
   "cell_type": "markdown",
   "metadata": {},
   "source": [
    "## Business Problem"
   ]
  },
  {
   "cell_type": "markdown",
   "metadata": {},
   "source": [
    "Quantitative analysis of stocks has become increasingly popular over the past decades, to the point where it is ubiqiutous among insitutional investors. Among individual investors, however, it is less widespread. This is due to a general lack of the technical skills required to perform such analysis. I ran into this issue myself when constructing my portfolio. I predict an easy-to-use, open-source model would serve to benefit this population. \n",
    "\n",
    "My analysis focuses on small-cap companies because they typically see lower trading volumes, and therefore have more inefficiencies that can be exploited and less noisey trading prices. Conversely, this makes trades harder to execute at desirable prices. \n",
    "\n",
    "Predictions of price-movement-direction are nowhere near perfect, and should only be used in conjunction with additional information."
   ]
  },
  {
   "cell_type": "code",
   "execution_count": 1,
   "metadata": {},
   "outputs": [],
   "source": [
    "import pandas as pd\n",
    "import numpy as np\n",
    "import matplotlib.pyplot as plt\n",
    "%matplotlib inline\n",
    "import seaborn as sns\n",
    "from td.client import TDClient\n",
    "import requests\n",
    "import json\n",
    "import time\n",
    "from config import ameritrade_credentials\n",
    "# import price_classification_code.functions as fn\n",
    "from sklearn.preprocessing import StandardScaler\n",
    "from sklearn.model_selection import GridSearchCV\n",
    "from sklearn.metrics import accuracy_score, f1_score, precision_score, recall_score\n",
    "from sklearn.neighbors import KNeighborsClassifier\n",
    "from sklearn.ensemble import RandomForestClassifier\n",
    "from statsmodels.graphics.tsaplots import plot_acf, plot_pacf\n",
    "from statsmodels.tsa.arima_model import ARMA\n",
    "import statsmodels.api as sm\n",
    "import warnings\n",
    "warnings.filterwarnings('ignore')\n",
    "%load_ext autoreload\n",
    "%autoreload 2"
   ]
  },
  {
   "cell_type": "code",
   "execution_count": 2,
   "metadata": {},
   "outputs": [],
   "source": [
    "np.random.seed(seed = 1)"
   ]
  },
  {
   "cell_type": "markdown",
   "metadata": {},
   "source": [
    "## Data Understanding"
   ]
  },
  {
   "cell_type": "markdown",
   "metadata": {},
   "source": [
    "### Data Acquisition"
   ]
  },
  {
   "cell_type": "markdown",
   "metadata": {},
   "source": [
    "To decide which companies to model, I employed a stock screener from [TD Ameritrade](https://research.tdameritrade.com/grid/public/screener/stocks/overview.asp) to select stocks with market caps within my desired range. This yielded 8027 results. I filtered this down to 3055 results by removing companies worth less than \\\\$75M, as many companies below that threshold had such low trading volumnes that they were not conducive to modeling. For the sake of ease-of-use and proof-of-concept, I filtered this down further by randomly sampling 500. I then gathered daily price data from the past three years using [TD Ameritrade's Price History API](https://developer.tdameritrade.com/price-history/apis). Of these 500, the API failed for 157, leaving 343. Of the remaining, I selected only those with 755 days of data to use in my analysis, leaving me with 160 stocks. "
   ]
  },
  {
   "cell_type": "code",
   "execution_count": 119,
   "metadata": {},
   "outputs": [
    {
     "data": {
      "text/html": [
       "<div>\n",
       "<style scoped>\n",
       "    .dataframe tbody tr th:only-of-type {\n",
       "        vertical-align: middle;\n",
       "    }\n",
       "\n",
       "    .dataframe tbody tr th {\n",
       "        vertical-align: top;\n",
       "    }\n",
       "\n",
       "    .dataframe thead th {\n",
       "        text-align: right;\n",
       "    }\n",
       "</style>\n",
       "<table border=\"1\" class=\"dataframe\">\n",
       "  <thead>\n",
       "    <tr style=\"text-align: right;\">\n",
       "      <th></th>\n",
       "      <th>Symbol</th>\n",
       "      <th>Company Name</th>\n",
       "      <th>Market Capitalization</th>\n",
       "      <th>Sector</th>\n",
       "      <th>Industry</th>\n",
       "      <th>Dividend Yield</th>\n",
       "      <th>Beta</th>\n",
       "    </tr>\n",
       "  </thead>\n",
       "  <tbody>\n",
       "    <tr>\n",
       "      <th>0</th>\n",
       "      <td>AAAIF</td>\n",
       "      <td>ALTERNATIVE INVESTMENT TRUST UNITS</td>\n",
       "      <td>2.856715e+07</td>\n",
       "      <td>NaN</td>\n",
       "      <td>NaN</td>\n",
       "      <td>--</td>\n",
       "      <td>+0.2</td>\n",
       "    </tr>\n",
       "    <tr>\n",
       "      <th>1</th>\n",
       "      <td>AACG</td>\n",
       "      <td>ATA Creativity Global(ADR)</td>\n",
       "      <td>3.713346e+07</td>\n",
       "      <td>Consumer Discretionary</td>\n",
       "      <td>Diversified Consumer Services</td>\n",
       "      <td>--</td>\n",
       "      <td>+1.7</td>\n",
       "    </tr>\n",
       "    <tr>\n",
       "      <th>2</th>\n",
       "      <td>AACH</td>\n",
       "      <td>AAC Holdings Inc</td>\n",
       "      <td>4.025300e+05</td>\n",
       "      <td>Health Care</td>\n",
       "      <td>Health Care Providers &amp; Services</td>\n",
       "      <td>--</td>\n",
       "      <td>+2.7</td>\n",
       "    </tr>\n",
       "    <tr>\n",
       "      <th>3</th>\n",
       "      <td>AACQ</td>\n",
       "      <td>Artius Acquisition Inc</td>\n",
       "      <td>9.341573e+08</td>\n",
       "      <td>NaN</td>\n",
       "      <td>NaN</td>\n",
       "      <td>--</td>\n",
       "      <td>--</td>\n",
       "    </tr>\n",
       "    <tr>\n",
       "      <th>4</th>\n",
       "      <td>AACS</td>\n",
       "      <td>American Commerce Solutions, Inc.</td>\n",
       "      <td>6.946900e+05</td>\n",
       "      <td>Industrials</td>\n",
       "      <td>Road &amp; Rail</td>\n",
       "      <td>--</td>\n",
       "      <td>-1.0</td>\n",
       "    </tr>\n",
       "  </tbody>\n",
       "</table>\n",
       "</div>"
      ],
      "text/plain": [
       "  Symbol                        Company Name  Market Capitalization  \\\n",
       "0  AAAIF  ALTERNATIVE INVESTMENT TRUST UNITS           2.856715e+07   \n",
       "1   AACG          ATA Creativity Global(ADR)           3.713346e+07   \n",
       "2   AACH                    AAC Holdings Inc           4.025300e+05   \n",
       "3   AACQ              Artius Acquisition Inc           9.341573e+08   \n",
       "4   AACS   American Commerce Solutions, Inc.           6.946900e+05   \n",
       "\n",
       "                   Sector                          Industry Dividend Yield  \\\n",
       "0                     NaN                               NaN             --   \n",
       "1  Consumer Discretionary     Diversified Consumer Services             --   \n",
       "2             Health Care  Health Care Providers & Services             --   \n",
       "3                     NaN                               NaN             --   \n",
       "4             Industrials                       Road & Rail             --   \n",
       "\n",
       "   Beta  \n",
       "0  +0.2  \n",
       "1  +1.7  \n",
       "2  +2.7  \n",
       "3    --  \n",
       "4  -1.0  "
      ]
     },
     "execution_count": 119,
     "metadata": {},
     "output_type": "execute_result"
    }
   ],
   "source": [
    "# Read in the screener\n",
    "screen = pd.read_csv('./data./ameritrade_stock_screener.csv', header = 0)\n",
    "\n",
    "# Take a first look\n",
    "screen.head()"
   ]
  },
  {
   "cell_type": "markdown",
   "metadata": {},
   "source": [
    "#### Screener Cleaning"
   ]
  },
  {
   "cell_type": "code",
   "execution_count": 120,
   "metadata": {},
   "outputs": [],
   "source": [
    "# Rename screener columns\n",
    "screen.columns = ['ticker', 'company', 'market_cap', 'sector', 'industry', 'dividend_yield', 'beta']\n",
    "\n",
    "# Screening only for companies worth > $75M\n",
    "screen = screen[screen['market_cap'] >= 75000000]"
   ]
  },
  {
   "cell_type": "markdown",
   "metadata": {},
   "source": [
    "#### Selection"
   ]
  },
  {
   "cell_type": "code",
   "execution_count": 5,
   "metadata": {},
   "outputs": [],
   "source": [
    "# Instantiate a list of 500 random integers for selection of df indices from the screener\n",
    "rand_list = np.random.randint(0, screen.shape[0], 500)\n",
    "\n",
    "# Filter the screener using the list of random indices\n",
    "filtered_screen = screen.iloc[rand_list]\n",
    "\n",
    "# Create a list of the tickers of all stocks selected by the filter\n",
    "ticker_list = filtered_screen['ticker'].values"
   ]
  },
  {
   "cell_type": "markdown",
   "metadata": {},
   "source": [
    "#### API Call - Configuration"
   ]
  },
  {
   "cell_type": "code",
   "execution_count": 6,
   "metadata": {},
   "outputs": [],
   "source": [
    "# Import personal client ID\n",
    "client_id = ameritrade_credentials.consumer_key\n",
    "\n",
    "# Set payload params\n",
    "period = '3'\n",
    "period_type = 'year'\n",
    "frequency = '1'\n",
    "frequency_type = 'daily'\n",
    "start_date = '1512172799'\n",
    "end_date = '1606867199'\n",
    "\n",
    "# Define payload\n",
    "payload = {'apikey': client_id,\n",
    "           'periodType': period_type,\n",
    "           'frequencyType': frequency_type,\n",
    "           'frequency': frequency,\n",
    "           'period': period,\n",
    "#            'endDate': end_date,\n",
    "#            'startDate': start_date,\n",
    "           'needExtendedHoursData': 'false'\n",
    "          }"
   ]
  },
  {
   "cell_type": "markdown",
   "metadata": {},
   "source": [
    "#### API Call"
   ]
  },
  {
   "cell_type": "code",
   "execution_count": 7,
   "metadata": {},
   "outputs": [],
   "source": [
    "def get_data_from_ameritrade(ticker_list, payload):\n",
    "    \"\"\"\n",
    "    Takes in list of tickers and payload and returns complete dataframe with all \n",
    "    tickers and prices.\n",
    "    \n",
    "    ticker_list -- array of strings containing n number of tickers\n",
    "    payload -- dictionary containing parameters for API call\n",
    "    \"\"\"\n",
    "    df_list = []\n",
    "    fail_cache = []\n",
    "    payload = payload\n",
    "    for ticker in ticker_list:\n",
    "        # Define endpoint\n",
    "        endpoint = r'https://api.tdameritrade.com/v1/marketdata/{}/pricehistory'.format(ticker)\n",
    "        \n",
    "        try:\n",
    "            # Make Request\n",
    "            content = requests.get(url = endpoint, params = payload)\n",
    "\n",
    "            # Convert to dataframe\n",
    "            data = content.json()\n",
    "            data = pd.DataFrame(data = data['candles'])\n",
    "            data['ticker'] = ticker\n",
    "\n",
    "            # Append to list of dataframes\n",
    "            df_list.append(data)\n",
    "            \n",
    "        except:\n",
    "            # Append problematic ticker to list of failed tickers\n",
    "            fail_cache.append(ticker)\n",
    "            continue\n",
    "    \n",
    "    return df_list, fail_cache"
   ]
  },
  {
   "cell_type": "code",
   "execution_count": 8,
   "metadata": {},
   "outputs": [],
   "source": [
    "# A list of dfs is instantiated, where each stock's data is stored in a dataframe\n",
    "df_list, fail_cache = get_data_from_ameritrade(ticker_list, payload)"
   ]
  },
  {
   "cell_type": "code",
   "execution_count": 9,
   "metadata": {},
   "outputs": [
    {
     "name": "stdout",
     "output_type": "stream",
     "text": [
      "Length of df_list: 345\n",
      "Length of fail_cache 155\n"
     ]
    }
   ],
   "source": [
    "print('Length of df_list:', len(df_list))\n",
    "print('Length of fail_cache', len(fail_cache))"
   ]
  },
  {
   "cell_type": "markdown",
   "metadata": {},
   "source": [
    "#### Final Filtering"
   ]
  },
  {
   "cell_type": "markdown",
   "metadata": {},
   "source": [
    "The last step in the filtering process cuts the number of stocks down to 160."
   ]
  },
  {
   "cell_type": "code",
   "execution_count": 10,
   "metadata": {},
   "outputs": [],
   "source": [
    "# Filtering only for stocks with 755 days of price data\n",
    "df_list = list(filter(lambda x: x.shape[0] >= 755, df_list))"
   ]
  },
  {
   "cell_type": "code",
   "execution_count": 11,
   "metadata": {},
   "outputs": [
    {
     "data": {
      "text/plain": [
       "189"
      ]
     },
     "execution_count": 11,
     "metadata": {},
     "output_type": "execute_result"
    }
   ],
   "source": [
    "len(df_list)"
   ]
  },
  {
   "cell_type": "markdown",
   "metadata": {},
   "source": [
    "### Understanding"
   ]
  },
  {
   "cell_type": "markdown",
   "metadata": {},
   "source": [
    "The API returned a dataframe with the following columns built in for each stock: opening price, daily high, daily low, closing price, datetime, volume, and ticker."
   ]
  },
  {
   "cell_type": "code",
   "execution_count": 13,
   "metadata": {},
   "outputs": [
    {
     "data": {
      "text/html": [
       "<div>\n",
       "<style scoped>\n",
       "    .dataframe tbody tr th:only-of-type {\n",
       "        vertical-align: middle;\n",
       "    }\n",
       "\n",
       "    .dataframe tbody tr th {\n",
       "        vertical-align: top;\n",
       "    }\n",
       "\n",
       "    .dataframe thead th {\n",
       "        text-align: right;\n",
       "    }\n",
       "</style>\n",
       "<table border=\"1\" class=\"dataframe\">\n",
       "  <thead>\n",
       "    <tr style=\"text-align: right;\">\n",
       "      <th></th>\n",
       "      <th>open</th>\n",
       "      <th>high</th>\n",
       "      <th>low</th>\n",
       "      <th>close</th>\n",
       "      <th>volume</th>\n",
       "      <th>datetime</th>\n",
       "      <th>ticker</th>\n",
       "    </tr>\n",
       "  </thead>\n",
       "  <tbody>\n",
       "    <tr>\n",
       "      <th>0</th>\n",
       "      <td>19.10</td>\n",
       "      <td>19.375</td>\n",
       "      <td>18.85</td>\n",
       "      <td>19.25</td>\n",
       "      <td>206318</td>\n",
       "      <td>1514872800000</td>\n",
       "      <td>FRGI</td>\n",
       "    </tr>\n",
       "    <tr>\n",
       "      <th>1</th>\n",
       "      <td>19.30</td>\n",
       "      <td>19.550</td>\n",
       "      <td>19.10</td>\n",
       "      <td>19.50</td>\n",
       "      <td>127818</td>\n",
       "      <td>1514959200000</td>\n",
       "      <td>FRGI</td>\n",
       "    </tr>\n",
       "    <tr>\n",
       "      <th>2</th>\n",
       "      <td>19.50</td>\n",
       "      <td>19.800</td>\n",
       "      <td>19.15</td>\n",
       "      <td>19.55</td>\n",
       "      <td>127878</td>\n",
       "      <td>1515045600000</td>\n",
       "      <td>FRGI</td>\n",
       "    </tr>\n",
       "    <tr>\n",
       "      <th>3</th>\n",
       "      <td>19.65</td>\n",
       "      <td>19.650</td>\n",
       "      <td>19.05</td>\n",
       "      <td>19.35</td>\n",
       "      <td>117937</td>\n",
       "      <td>1515132000000</td>\n",
       "      <td>FRGI</td>\n",
       "    </tr>\n",
       "    <tr>\n",
       "      <th>4</th>\n",
       "      <td>19.30</td>\n",
       "      <td>19.500</td>\n",
       "      <td>18.85</td>\n",
       "      <td>19.35</td>\n",
       "      <td>175156</td>\n",
       "      <td>1515391200000</td>\n",
       "      <td>FRGI</td>\n",
       "    </tr>\n",
       "  </tbody>\n",
       "</table>\n",
       "</div>"
      ],
      "text/plain": [
       "    open    high    low  close  volume       datetime ticker\n",
       "0  19.10  19.375  18.85  19.25  206318  1514872800000   FRGI\n",
       "1  19.30  19.550  19.10  19.50  127818  1514959200000   FRGI\n",
       "2  19.50  19.800  19.15  19.55  127878  1515045600000   FRGI\n",
       "3  19.65  19.650  19.05  19.35  117937  1515132000000   FRGI\n",
       "4  19.30  19.500  18.85  19.35  175156  1515391200000   FRGI"
      ]
     },
     "execution_count": 13,
     "metadata": {},
     "output_type": "execute_result"
    }
   ],
   "source": [
    "df_list[0].head()"
   ]
  },
  {
   "cell_type": "markdown",
   "metadata": {},
   "source": [
    "## Cleaning"
   ]
  },
  {
   "cell_type": "markdown",
   "metadata": {},
   "source": [
    "The data arrives quite clean. The only changes to be made are to the datetimes, which arrive in the unix format and need to be converted to a regular datetime, then set as the index. "
   ]
  },
  {
   "cell_type": "code",
   "execution_count": 12,
   "metadata": {},
   "outputs": [],
   "source": [
    "def clean_dates(df_list):\n",
    "    \"\"\"\n",
    "    Takes in a list of dfs and cleans the dates for each df.\n",
    "    \n",
    "    df_list -- list of dataframes\n",
    "    \"\"\"\n",
    "    for df in df_list:\n",
    "        # Convert from unix to year month day format\n",
    "        df['datetime'] = pd.to_datetime(df['datetime'], unit = 'ms')\n",
    "\n",
    "        # Set datetime as index\n",
    "        df.set_index(df['datetime'], inplace = True)\n",
    "\n",
    "        # Drop original datetime column\n",
    "        df.drop(columns = 'datetime', inplace = True)\n",
    "        \n",
    "    return df_list"
   ]
  },
  {
   "cell_type": "code",
   "execution_count": 13,
   "metadata": {},
   "outputs": [],
   "source": [
    "df_list = clean_dates(df_list)"
   ]
  },
  {
   "cell_type": "markdown",
   "metadata": {},
   "source": [
    "### A First Look"
   ]
  },
  {
   "cell_type": "markdown",
   "metadata": {},
   "source": [
    "For the purpose of examining all the stocks in the dataset, I need concetanate them all into one dataframe."
   ]
  },
  {
   "cell_type": "code",
   "execution_count": 14,
   "metadata": {},
   "outputs": [
    {
     "data": {
      "text/plain": [
       "(142876, 6)"
      ]
     },
     "execution_count": 14,
     "metadata": {},
     "output_type": "execute_result"
    }
   ],
   "source": [
    "# Concatenating all the dfs in df_list\n",
    "df_joined = pd.concat(df_list)\n",
    "\n",
    "# Examining Shape\n",
    "df_joined.shape"
   ]
  },
  {
   "cell_type": "code",
   "execution_count": 15,
   "metadata": {},
   "outputs": [
    {
     "data": {
      "image/png": "[encoded data removed]",
      "text/plain": [
       "<Figure size 720x504 with 1 Axes>"
      ]
     },
     "metadata": {
      "needs_background": "light"
     },
     "output_type": "display_data"
    }
   ],
   "source": [
    "# Grouping by date and mean closing price accross all stocks\n",
    "date_close_gb = df_joined.groupby(df_joined.index)['close'].mean()\n",
    "\n",
    "# Assigning x and y variables so they can be graphed\n",
    "x = date_close_gb.keys()\n",
    "y = date_close_gb.values\n",
    "\n",
    "# Visualizing\n",
    "fig, ax = plt.subplots(figsize = (10,7))\n",
    "sns.lineplot(x = x, y = y)\n",
    "ax.set(xlabel = 'Date', \n",
    "       ylabel = 'Mean Closing Price ($)', \n",
    "       title = \"160 Small-Cap Stocks' Mean Closing Prices Dec. 17, 2017 - Dec. 17, 2020\")\n",
    "plt.show()"
   ]
  },
  {
   "cell_type": "markdown",
   "metadata": {},
   "source": [
    "As shown in the plot above, the average closing price of small cap stocks has been in a downward trend since year-end 2017, falling sharply around March 2020 due to the Coronavirus pandemic and its economic impact, failing to fully recover by December 2020. The trend is much more negative than the overall market, which rose consistently until March 2020, where it fell but proceeded to exceed pre-Covid levels by December 2020. "
   ]
  },
  {
   "cell_type": "markdown",
   "metadata": {},
   "source": [
    "## Feature Engineering"
   ]
  },
  {
   "cell_type": "code",
   "execution_count": 16,
   "metadata": {},
   "outputs": [],
   "source": [
    "def create_intra_clf_target(df_list):\n",
    "    \"\"\"\n",
    "    Takes in list of dfs and creates target variable for each depending\n",
    "    on if the closing price for each day exceeds the opening price. If the\n",
    "    closing price exceeds the opening price, target = 1.\n",
    "    \n",
    "    df_list -- list of dfs\n",
    "    \"\"\"\n",
    "    for df in df_list:\n",
    "        df['intra_clf_target'] = 0\n",
    "        for i in range(len(df)):\n",
    "            \n",
    "            if df['open'][i] < df['close'][i]:\n",
    "                df['intra_clf_target'][i] = 1\n",
    "            \n",
    "            elif df['open'][i] > df['close'][i]:\n",
    "                df['intra_clf_target'][i] = 0\n",
    "    \n",
    "            elif df['open'][i] == df['close'][i]:\n",
    "                df['intra_clf_target'][i] = 2\n",
    "    \n",
    "    return df_list"
   ]
  },
  {
   "cell_type": "markdown",
   "metadata": {},
   "source": [
    "The first feature I engineered was my target variable. The target signifies whether a stock's closing price for one day exceeds its opening price. If this is the case, the target variable = 1. If the opposite is true, wherein the stock closes lower than it opened, the target variable = 0. If the closing and opening prices are exactly the same, the target variable = 2."
   ]
  },
  {
   "cell_type": "code",
   "execution_count": 17,
   "metadata": {},
   "outputs": [],
   "source": [
    "df_list = create_intra_clf_target(df_list)"
   ]
  },
  {
   "cell_type": "code",
   "execution_count": 18,
   "metadata": {},
   "outputs": [
    {
     "data": {
      "image/png": "[encoded data removed]",
      "text/plain": [
       "<Figure size 720x504 with 1 Axes>"
      ]
     },
     "metadata": {
      "needs_background": "light"
     },
     "output_type": "display_data"
    }
   ],
   "source": [
    "# Concatenating again after target variables have been created\n",
    "df_joined_2 = pd.concat(df_list)\n",
    "\n",
    "# Examining value counts of target variables\n",
    "target_counts = df_joined_2['intra_clf_target'].value_counts()\n",
    "\n",
    "# Assigning x and y variables for barplot\n",
    "x = target_counts.keys()\n",
    "y = target_counts.values\n",
    "\n",
    "# Visualizing\n",
    "fig, ax = plt.subplots(figsize = (10,7))\n",
    "sns.barplot(x = x, y = y)\n",
    "ax.set(xlabel = 'Target Variable', \n",
    "       ylabel = 'Frequency', \n",
    "       title = \"Frequency of Target Variables\")\n",
    "sns.barplot(x = x, y = y)\n",
    "plt.show()"
   ]
  },
  {
   "cell_type": "markdown",
   "metadata": {},
   "source": [
    "As shown in the barplot above, there are relatively equivalent amounts of positive and negative cases, but high imbalance when compared to the neither case. As a result, I will use F1-Score as my evaluation metric."
   ]
  },
  {
   "cell_type": "code",
   "execution_count": 19,
   "metadata": {},
   "outputs": [],
   "source": [
    "def create_moving_avs(df_list):\n",
    "    \"\"\"\n",
    "    Takes in list of dfs, creates three different moving average \n",
    "    features - 10, 50, and 200 days.\n",
    "    \n",
    "    df_list -- list of dfs\n",
    "    \"\"\"\n",
    "    for df in df_list:\n",
    "        df['10_day_ma'] = df['close'].ewm(span = 10).mean()\n",
    "        df['50_day_ma'] = df['close'].ewm(span = 50).mean()\n",
    "        df['200_day_ma'] = df['close'].ewm(span = 200).mean()\n",
    "     \n",
    "    return df_list"
   ]
  },
  {
   "cell_type": "markdown",
   "metadata": {},
   "source": [
    "I know that moving averages are important technical indicators for price movement, so the next features I created served to account for both long and short-term moving averages. I created features for a 10, 50, and 200 day moving average."
   ]
  },
  {
   "cell_type": "code",
   "execution_count": 20,
   "metadata": {},
   "outputs": [],
   "source": [
    "# Takes in list of dfs, creates three different moving average features - 10, 50, and 200 days.\n",
    "df_list = create_moving_avs(df_list)"
   ]
  },
  {
   "cell_type": "code",
   "execution_count": 21,
   "metadata": {},
   "outputs": [
    {
     "data": {
      "image/png": "[encoded data removed]",
      "text/plain": [
       "<Figure size 720x504 with 1 Axes>"
      ]
     },
     "metadata": {
      "needs_background": "light"
     },
     "output_type": "display_data"
    }
   ],
   "source": [
    "# Concatenating again after moving averages have been created\n",
    "df_joined_3 = pd.concat(df_list)\n",
    "\n",
    "# Grouping by date and mean closing price accross all stocks\n",
    "date_close_gb = df_joined.groupby(df_joined.index)['close'].mean()\n",
    "\n",
    "ten_day_gb = df_joined_3.groupby(df_joined_3.index)['10_day_ma'].mean()\n",
    "fifty_day_gb = df_joined_3.groupby(df_joined_3.index)['50_day_ma'].mean()\n",
    "twohundred_day_gb = df_joined_3.groupby(df_joined_3.index)['200_day_ma'].mean()\n",
    "\n",
    "# Assigning x1 and y1 to date and closing price\n",
    "x1 = date_close_gb.keys()\n",
    "y1 = date_close_gb.values\n",
    "\n",
    "# Assigning x2 and y2 to the ten day moving average\n",
    "x2 = ten_day_gb.keys()\n",
    "y2 = ten_day_gb.values\n",
    "\n",
    "# Assigning x3 and y3 to the fifty day moving average\n",
    "x3 = fifty_day_gb.keys()\n",
    "y3 = fifty_day_gb.values\n",
    "\n",
    "# Assigning x4 and y4 to the two hundred day moving average\n",
    "x4 = twohundred_day_gb.keys()\n",
    "y4 = twohundred_day_gb.values\n",
    "\n",
    "\n",
    "# Visualizing\n",
    "fig, ax = plt.subplots(figsize = (10,7))\n",
    "sns.lineplot(x = x1, y = y1, label = 'Mean Closing Price')\n",
    "sns.lineplot(x = x2, y = y2, label = '10 Day Moving Average')\n",
    "sns.lineplot(x = x3, y = y3, label = '50 Day Moving Average')\n",
    "sns.lineplot(x = x4, y = y4, label = '200 Day Moving Average')\n",
    "ax.set(xlabel = 'Date', \n",
    "       ylabel = 'Mean Closing Price ($)', \n",
    "       title = \"160 Small-Cap Stocks' Mean Closing Prices Dec. 17, 2017 - Dec. 17, 2020\")\n",
    "plt.show()"
   ]
  },
  {
   "cell_type": "markdown",
   "metadata": {},
   "source": [
    "The various moving averages are shown in comparison to the mean closing prices for each day. As one would expect, the 200 day average is much less affected by small price movements, as opposed to the 10 day average, which follows the mean closing price very closely.\n",
    "\n",
    "An important concept in quantitative finance is <b>Mean Reversion</b>, which holds that stocks tend to revert to the moving average of their prices."
   ]
  },
  {
   "cell_type": "code",
   "execution_count": 22,
   "metadata": {},
   "outputs": [],
   "source": [
    "def create_pct_price_changes(df_list):\n",
    "    \"\"\"\n",
    "    Takes in a list of dfs and creates price change (%) features with various\n",
    "    intervals.\n",
    "    Calculates % price changes relative to the day before observed date to \n",
    "    prediction using unknown data.\n",
    "    \n",
    "    df_list -- list of dfs\n",
    "    \"\"\"\n",
    "    # Creating i_day_pct_change columns in each df\n",
    "    for df in df_list:\n",
    "        df['1_day_pct_change'] = 0\n",
    "        df['2_day_pct_change'] = 0\n",
    "        df['3_day_pct_change'] = 0\n",
    "        df['4_day_pct_change'] = 0\n",
    "   \n",
    "        # Calculating ith day price change for each col\n",
    "        for i in range(5, df.shape[0]):\n",
    "            # Difference in closing prices between the previous day and the previous day\n",
    "            diff = float(df['close'][i-1]) - float(df['close'][i-2])\n",
    "            pct = (float(diff)/float(df['close'][i-2])) * 100\n",
    "            df['1_day_pct_change'][i] = pct\n",
    "            \n",
    "            # Difference in closing prices between the previous day and two days prior\n",
    "            diff = float(df['close'][i-1]) - float(df['close'][i-3])\n",
    "            pct = (float(diff)/float(df['close'][i-3])) * 100\n",
    "            df['2_day_pct_change'][i] = pct\n",
    "            \n",
    "            # Difference in closing prices between the previous day and three days prior\n",
    "            diff = float(df['close'][i-1]) - float(df['close'][i-4])\n",
    "            pct = (float(diff)/float(df['close'][i-4])) * 100\n",
    "            df['3_day_pct_change'][i] = pct\n",
    "            \n",
    "            # Difference in closing prices between the previous day and four days prior\n",
    "            diff = float(df['close'][i-1]) - float(df['close'][i-5])\n",
    "            pct = (float(diff)/float(df['close'][i-5])) * 100\n",
    "            df['4_day_pct_change'][i] = pct\n",
    "    \n",
    "    return df_list"
   ]
  },
  {
   "cell_type": "markdown",
   "metadata": {},
   "source": [
    "The following function creates price change (%) features with intervals ranging from one to four days for each df.\n",
    "It calculates % price changes relative to the day before the observed date in order to avoid prediction using unknown data."
   ]
  },
  {
   "cell_type": "code",
   "execution_count": 23,
   "metadata": {},
   "outputs": [],
   "source": [
    "df_list = create_pct_price_changes(df_list)"
   ]
  },
  {
   "cell_type": "code",
   "execution_count": 24,
   "metadata": {},
   "outputs": [],
   "source": [
    "def create_intra_clf_target(df_list):\n",
    "    \"\"\"\n",
    "    Takes in list of dfs and creates target variable for each depending\n",
    "    on if the closing price for each day exceeds the opening price. If the\n",
    "    closing price exceeds the opening price, target = 1.\n",
    "    \n",
    "    df_list -- list of dfs\n",
    "    \"\"\"\n",
    "    for df in df_list:\n",
    "        df['intra_clf_target'] = 0\n",
    "        for i in range(len(df)):\n",
    "            \n",
    "            if df['open'][i] < df['close'][i]:\n",
    "                df['intra_clf_target'][i] = 1\n",
    "            \n",
    "            elif df['open'][i] > df['close'][i]:\n",
    "                df['intra_clf_target'][i] = 0\n",
    "    \n",
    "            elif df['open'][i] == df['close'][i]:\n",
    "                df['intra_clf_target'][i] = 2\n",
    "    \n",
    "    return df_list"
   ]
  },
  {
   "cell_type": "code",
   "execution_count": 25,
   "metadata": {},
   "outputs": [],
   "source": [
    "df_list = create_intra_clf_target(df_list)"
   ]
  },
  {
   "cell_type": "markdown",
   "metadata": {},
   "source": [
    "Below is an example of a dataframe with all features engineered:"
   ]
  },
  {
   "cell_type": "code",
   "execution_count": 26,
   "metadata": {},
   "outputs": [
    {
     "data": {
      "text/html": [
       "<div>\n",
       "<style scoped>\n",
       "    .dataframe tbody tr th:only-of-type {\n",
       "        vertical-align: middle;\n",
       "    }\n",
       "\n",
       "    .dataframe tbody tr th {\n",
       "        vertical-align: top;\n",
       "    }\n",
       "\n",
       "    .dataframe thead th {\n",
       "        text-align: right;\n",
       "    }\n",
       "</style>\n",
       "<table border=\"1\" class=\"dataframe\">\n",
       "  <thead>\n",
       "    <tr style=\"text-align: right;\">\n",
       "      <th></th>\n",
       "      <th>open</th>\n",
       "      <th>high</th>\n",
       "      <th>low</th>\n",
       "      <th>close</th>\n",
       "      <th>volume</th>\n",
       "      <th>ticker</th>\n",
       "      <th>intra_clf_target</th>\n",
       "      <th>10_day_ma</th>\n",
       "      <th>50_day_ma</th>\n",
       "      <th>200_day_ma</th>\n",
       "      <th>1_day_pct_change</th>\n",
       "      <th>2_day_pct_change</th>\n",
       "      <th>3_day_pct_change</th>\n",
       "      <th>4_day_pct_change</th>\n",
       "    </tr>\n",
       "    <tr>\n",
       "      <th>datetime</th>\n",
       "      <th></th>\n",
       "      <th></th>\n",
       "      <th></th>\n",
       "      <th></th>\n",
       "      <th></th>\n",
       "      <th></th>\n",
       "      <th></th>\n",
       "      <th></th>\n",
       "      <th></th>\n",
       "      <th></th>\n",
       "      <th></th>\n",
       "      <th></th>\n",
       "      <th></th>\n",
       "      <th></th>\n",
       "    </tr>\n",
       "  </thead>\n",
       "  <tbody>\n",
       "    <tr>\n",
       "      <th>2018-01-02 06:00:00</th>\n",
       "      <td>19.10</td>\n",
       "      <td>19.375</td>\n",
       "      <td>18.85</td>\n",
       "      <td>19.25</td>\n",
       "      <td>206318</td>\n",
       "      <td>FRGI</td>\n",
       "      <td>1</td>\n",
       "      <td>19.250000</td>\n",
       "      <td>19.250000</td>\n",
       "      <td>19.250000</td>\n",
       "      <td>0</td>\n",
       "      <td>0</td>\n",
       "      <td>0</td>\n",
       "      <td>0</td>\n",
       "    </tr>\n",
       "    <tr>\n",
       "      <th>2018-01-03 06:00:00</th>\n",
       "      <td>19.30</td>\n",
       "      <td>19.550</td>\n",
       "      <td>19.10</td>\n",
       "      <td>19.50</td>\n",
       "      <td>127818</td>\n",
       "      <td>FRGI</td>\n",
       "      <td>1</td>\n",
       "      <td>19.387500</td>\n",
       "      <td>19.377500</td>\n",
       "      <td>19.375625</td>\n",
       "      <td>0</td>\n",
       "      <td>0</td>\n",
       "      <td>0</td>\n",
       "      <td>0</td>\n",
       "    </tr>\n",
       "    <tr>\n",
       "      <th>2018-01-04 06:00:00</th>\n",
       "      <td>19.50</td>\n",
       "      <td>19.800</td>\n",
       "      <td>19.15</td>\n",
       "      <td>19.55</td>\n",
       "      <td>127878</td>\n",
       "      <td>FRGI</td>\n",
       "      <td>1</td>\n",
       "      <td>19.452824</td>\n",
       "      <td>19.437315</td>\n",
       "      <td>19.434332</td>\n",
       "      <td>0</td>\n",
       "      <td>0</td>\n",
       "      <td>0</td>\n",
       "      <td>0</td>\n",
       "    </tr>\n",
       "    <tr>\n",
       "      <th>2018-01-05 06:00:00</th>\n",
       "      <td>19.65</td>\n",
       "      <td>19.650</td>\n",
       "      <td>19.05</td>\n",
       "      <td>19.35</td>\n",
       "      <td>117937</td>\n",
       "      <td>FRGI</td>\n",
       "      <td>0</td>\n",
       "      <td>19.418948</td>\n",
       "      <td>19.414159</td>\n",
       "      <td>19.412932</td>\n",
       "      <td>0</td>\n",
       "      <td>0</td>\n",
       "      <td>0</td>\n",
       "      <td>0</td>\n",
       "    </tr>\n",
       "    <tr>\n",
       "      <th>2018-01-08 06:00:00</th>\n",
       "      <td>19.30</td>\n",
       "      <td>19.500</td>\n",
       "      <td>18.85</td>\n",
       "      <td>19.35</td>\n",
       "      <td>175156</td>\n",
       "      <td>FRGI</td>\n",
       "      <td>1</td>\n",
       "      <td>19.399155</td>\n",
       "      <td>19.400281</td>\n",
       "      <td>19.400093</td>\n",
       "      <td>0</td>\n",
       "      <td>0</td>\n",
       "      <td>0</td>\n",
       "      <td>0</td>\n",
       "    </tr>\n",
       "  </tbody>\n",
       "</table>\n",
       "</div>"
      ],
      "text/plain": [
       "                      open    high    low  close  volume ticker  \\\n",
       "datetime                                                          \n",
       "2018-01-02 06:00:00  19.10  19.375  18.85  19.25  206318   FRGI   \n",
       "2018-01-03 06:00:00  19.30  19.550  19.10  19.50  127818   FRGI   \n",
       "2018-01-04 06:00:00  19.50  19.800  19.15  19.55  127878   FRGI   \n",
       "2018-01-05 06:00:00  19.65  19.650  19.05  19.35  117937   FRGI   \n",
       "2018-01-08 06:00:00  19.30  19.500  18.85  19.35  175156   FRGI   \n",
       "\n",
       "                     intra_clf_target  10_day_ma  50_day_ma  200_day_ma  \\\n",
       "datetime                                                                  \n",
       "2018-01-02 06:00:00                 1  19.250000  19.250000   19.250000   \n",
       "2018-01-03 06:00:00                 1  19.387500  19.377500   19.375625   \n",
       "2018-01-04 06:00:00                 1  19.452824  19.437315   19.434332   \n",
       "2018-01-05 06:00:00                 0  19.418948  19.414159   19.412932   \n",
       "2018-01-08 06:00:00                 1  19.399155  19.400281   19.400093   \n",
       "\n",
       "                     1_day_pct_change  2_day_pct_change  3_day_pct_change  \\\n",
       "datetime                                                                    \n",
       "2018-01-02 06:00:00                 0                 0                 0   \n",
       "2018-01-03 06:00:00                 0                 0                 0   \n",
       "2018-01-04 06:00:00                 0                 0                 0   \n",
       "2018-01-05 06:00:00                 0                 0                 0   \n",
       "2018-01-08 06:00:00                 0                 0                 0   \n",
       "\n",
       "                     4_day_pct_change  \n",
       "datetime                               \n",
       "2018-01-02 06:00:00                 0  \n",
       "2018-01-03 06:00:00                 0  \n",
       "2018-01-04 06:00:00                 0  \n",
       "2018-01-05 06:00:00                 0  \n",
       "2018-01-08 06:00:00                 0  "
      ]
     },
     "execution_count": 26,
     "metadata": {},
     "output_type": "execute_result"
    }
   ],
   "source": [
    "df_list[0].head()"
   ]
  },
  {
   "cell_type": "markdown",
   "metadata": {},
   "source": [
    "Note: The first five observed days contain no pct price change values. This is because there was no data before the first observed day, so all values begin on the fifth day. Below is a better representation:"
   ]
  },
  {
   "cell_type": "code",
   "execution_count": 27,
   "metadata": {},
   "outputs": [
    {
     "data": {
      "text/html": [
       "<div>\n",
       "<style scoped>\n",
       "    .dataframe tbody tr th:only-of-type {\n",
       "        vertical-align: middle;\n",
       "    }\n",
       "\n",
       "    .dataframe tbody tr th {\n",
       "        vertical-align: top;\n",
       "    }\n",
       "\n",
       "    .dataframe thead th {\n",
       "        text-align: right;\n",
       "    }\n",
       "</style>\n",
       "<table border=\"1\" class=\"dataframe\">\n",
       "  <thead>\n",
       "    <tr style=\"text-align: right;\">\n",
       "      <th></th>\n",
       "      <th>open</th>\n",
       "      <th>high</th>\n",
       "      <th>low</th>\n",
       "      <th>close</th>\n",
       "      <th>volume</th>\n",
       "      <th>ticker</th>\n",
       "      <th>intra_clf_target</th>\n",
       "      <th>10_day_ma</th>\n",
       "      <th>50_day_ma</th>\n",
       "      <th>200_day_ma</th>\n",
       "      <th>1_day_pct_change</th>\n",
       "      <th>2_day_pct_change</th>\n",
       "      <th>3_day_pct_change</th>\n",
       "      <th>4_day_pct_change</th>\n",
       "    </tr>\n",
       "    <tr>\n",
       "      <th>datetime</th>\n",
       "      <th></th>\n",
       "      <th></th>\n",
       "      <th></th>\n",
       "      <th></th>\n",
       "      <th></th>\n",
       "      <th></th>\n",
       "      <th></th>\n",
       "      <th></th>\n",
       "      <th></th>\n",
       "      <th></th>\n",
       "      <th></th>\n",
       "      <th></th>\n",
       "      <th></th>\n",
       "      <th></th>\n",
       "    </tr>\n",
       "  </thead>\n",
       "  <tbody>\n",
       "    <tr>\n",
       "      <th>2020-12-24 06:00:00</th>\n",
       "      <td>11.83</td>\n",
       "      <td>11.96</td>\n",
       "      <td>11.73</td>\n",
       "      <td>11.77</td>\n",
       "      <td>26909</td>\n",
       "      <td>FRGI</td>\n",
       "      <td>0</td>\n",
       "      <td>12.035416</td>\n",
       "      <td>11.414415</td>\n",
       "      <td>9.861305</td>\n",
       "      <td>0</td>\n",
       "      <td>0</td>\n",
       "      <td>-1</td>\n",
       "      <td>-2</td>\n",
       "    </tr>\n",
       "    <tr>\n",
       "      <th>2020-12-28 06:00:00</th>\n",
       "      <td>12.03</td>\n",
       "      <td>12.04</td>\n",
       "      <td>11.62</td>\n",
       "      <td>11.68</td>\n",
       "      <td>102746</td>\n",
       "      <td>FRGI</td>\n",
       "      <td>0</td>\n",
       "      <td>11.970795</td>\n",
       "      <td>11.424830</td>\n",
       "      <td>9.879411</td>\n",
       "      <td>0</td>\n",
       "      <td>0</td>\n",
       "      <td>0</td>\n",
       "      <td>-1</td>\n",
       "    </tr>\n",
       "    <tr>\n",
       "      <th>2020-12-29 06:00:00</th>\n",
       "      <td>11.68</td>\n",
       "      <td>12.12</td>\n",
       "      <td>11.46</td>\n",
       "      <td>11.60</td>\n",
       "      <td>76553</td>\n",
       "      <td>FRGI</td>\n",
       "      <td>0</td>\n",
       "      <td>11.903378</td>\n",
       "      <td>11.431699</td>\n",
       "      <td>9.896541</td>\n",
       "      <td>0</td>\n",
       "      <td>0</td>\n",
       "      <td>0</td>\n",
       "      <td>0</td>\n",
       "    </tr>\n",
       "    <tr>\n",
       "      <th>2020-12-30 06:00:00</th>\n",
       "      <td>11.60</td>\n",
       "      <td>11.76</td>\n",
       "      <td>10.86</td>\n",
       "      <td>11.23</td>\n",
       "      <td>98980</td>\n",
       "      <td>FRGI</td>\n",
       "      <td>0</td>\n",
       "      <td>11.780945</td>\n",
       "      <td>11.423790</td>\n",
       "      <td>9.909816</td>\n",
       "      <td>0</td>\n",
       "      <td>-1</td>\n",
       "      <td>-1</td>\n",
       "      <td>-1</td>\n",
       "    </tr>\n",
       "    <tr>\n",
       "      <th>2020-12-31 06:00:00</th>\n",
       "      <td>11.27</td>\n",
       "      <td>12.00</td>\n",
       "      <td>10.91</td>\n",
       "      <td>11.40</td>\n",
       "      <td>165981</td>\n",
       "      <td>FRGI</td>\n",
       "      <td>1</td>\n",
       "      <td>11.711683</td>\n",
       "      <td>11.422857</td>\n",
       "      <td>9.924651</td>\n",
       "      <td>-3</td>\n",
       "      <td>-3</td>\n",
       "      <td>-4</td>\n",
       "      <td>-4</td>\n",
       "    </tr>\n",
       "  </tbody>\n",
       "</table>\n",
       "</div>"
      ],
      "text/plain": [
       "                      open   high    low  close  volume ticker  \\\n",
       "datetime                                                         \n",
       "2020-12-24 06:00:00  11.83  11.96  11.73  11.77   26909   FRGI   \n",
       "2020-12-28 06:00:00  12.03  12.04  11.62  11.68  102746   FRGI   \n",
       "2020-12-29 06:00:00  11.68  12.12  11.46  11.60   76553   FRGI   \n",
       "2020-12-30 06:00:00  11.60  11.76  10.86  11.23   98980   FRGI   \n",
       "2020-12-31 06:00:00  11.27  12.00  10.91  11.40  165981   FRGI   \n",
       "\n",
       "                     intra_clf_target  10_day_ma  50_day_ma  200_day_ma  \\\n",
       "datetime                                                                  \n",
       "2020-12-24 06:00:00                 0  12.035416  11.414415    9.861305   \n",
       "2020-12-28 06:00:00                 0  11.970795  11.424830    9.879411   \n",
       "2020-12-29 06:00:00                 0  11.903378  11.431699    9.896541   \n",
       "2020-12-30 06:00:00                 0  11.780945  11.423790    9.909816   \n",
       "2020-12-31 06:00:00                 1  11.711683  11.422857    9.924651   \n",
       "\n",
       "                     1_day_pct_change  2_day_pct_change  3_day_pct_change  \\\n",
       "datetime                                                                    \n",
       "2020-12-24 06:00:00                 0                 0                -1   \n",
       "2020-12-28 06:00:00                 0                 0                 0   \n",
       "2020-12-29 06:00:00                 0                 0                 0   \n",
       "2020-12-30 06:00:00                 0                -1                -1   \n",
       "2020-12-31 06:00:00                -3                -3                -4   \n",
       "\n",
       "                     4_day_pct_change  \n",
       "datetime                               \n",
       "2020-12-24 06:00:00                -2  \n",
       "2020-12-28 06:00:00                -1  \n",
       "2020-12-29 06:00:00                 0  \n",
       "2020-12-30 06:00:00                -1  \n",
       "2020-12-31 06:00:00                -4  "
      ]
     },
     "execution_count": 27,
     "metadata": {},
     "output_type": "execute_result"
    }
   ],
   "source": [
    "df_list[0].tail()"
   ]
  },
  {
   "cell_type": "markdown",
   "metadata": {},
   "source": [
    "## Modleing and Results"
   ]
  },
  {
   "cell_type": "markdown",
   "metadata": {},
   "source": [
    "### Initial Model"
   ]
  },
  {
   "cell_type": "markdown",
   "metadata": {},
   "source": [
    "My baseline model was a KNN and was used to evaluate my engineered features. "
   ]
  },
  {
   "cell_type": "code",
   "execution_count": 28,
   "metadata": {},
   "outputs": [
    {
     "name": "stdout",
     "output_type": "stream",
     "text": [
      "Acc: 0.47844827586206895\n",
      "Precision: 0.47241490074250914\n"
     ]
    }
   ],
   "source": [
    "# Assign a test dataframe on which to evaluate\n",
    "df_test = df_list[0]\n",
    "\n",
    "# Split into train and test sets on February 2, 2020\n",
    "train = df_test[:'2020-02-02']\n",
    "test = df_test['2020-02-02':]\n",
    "\n",
    "X_train, y_train = train[['10_day_ma', '50_day_ma', '200_day_ma', \n",
    "                          '1_day_pct_change',\n",
    "                         '2_day_pct_change', \n",
    "                          '3_day_pct_change', \n",
    "                          '4_day_pct_change']], train['intra_clf_target']\n",
    "\n",
    "X_test, y_test = test[['10_day_ma', '50_day_ma', '200_day_ma', \n",
    "                          '1_day_pct_change',\n",
    "                         '2_day_pct_change', \n",
    "                          '3_day_pct_change', \n",
    "                          '4_day_pct_change']], test['intra_clf_target']\n",
    "\n",
    "# Instantiate the KNN Classifier\n",
    "knn = KNeighborsClassifier()\n",
    "\n",
    "# Instantiate the scaler\n",
    "scaler = StandardScaler()\n",
    "\n",
    "# Fit, transform on the train set, only transform on the test set\n",
    "scaler.fit_transform(X_train)\n",
    "scaler.transform(X_test)\n",
    "\n",
    "# Fit the model to the training data\n",
    "knn.fit(X_train, y_train)\n",
    "\n",
    "# Predict on the test data\n",
    "preds = knn.predict(X_test)\n",
    "\n",
    "# Evaluate metrics\n",
    "print('Acc:', accuracy_score(y_test, preds)) # price changes improved to .486 from .45\n",
    "print('Precision:', precision_score(y_test, preds, average = 'weighted')) # improved from .44 with price change featur"
   ]
  },
  {
   "cell_type": "markdown",
   "metadata": {},
   "source": [
    "My initial accuracy and precision scores were .451 and .448, respectively; however, the addition of my moving average and percent-price-change features saw these increase to .486 and .481, respectively."
   ]
  },
  {
   "cell_type": "code",
   "execution_count": 34,
   "metadata": {},
   "outputs": [],
   "source": [
    "def time_cross_validate(df, model, param_grid):\n",
    "    \"\"\"\n",
    "    Takes in df, model, and param_grid, and returns cross validated scores and params.\n",
    "    \n",
    "    df -- dataframe\n",
    "    model -- model to be used for cross validation\n",
    "    param_grid -- dictionary to be used for GridSearch param_grid\n",
    "    \"\"\"\n",
    "    # Designating predictor and target columns\n",
    "    predictor_cols = ['10_day_ma', \n",
    "                      '50_day_ma', \n",
    "                      '200_day_ma', \n",
    "                      '1_day_pct_change',\n",
    "                      '2_day_pct_change', \n",
    "                      '3_day_pct_change', \n",
    "                      '4_day_pct_change']\n",
    "    target = 'intra_clf_target'\n",
    "    \n",
    "    # Creating dataframe with numerical index that can be split\n",
    "    dataframe = df.reset_index()\n",
    "\n",
    "    # Creating tuples of train, test indices to be passed into the cv parameter of GridSearchCV\n",
    "    train_test_indices_1 = (list(range(455)), list(range(455, 530)))\n",
    "    train_test_indices_2 = (list(range(530)), list(range(530, 605)))\n",
    "    train_test_indices_3 = (list(range(605)), list(range(605, 680)))\n",
    "    train_test_indices_4 = (list(range(680)), list(range(680, 755)))\n",
    "    \n",
    "    # Splitting the df into data and target values\n",
    "    data, target = dataframe[predictor_cols], df[target]\n",
    "    \n",
    "    # Scaling the data\n",
    "    scaler = StandardScaler()\n",
    "    scaler.fit_transform(data)\n",
    "    \n",
    "    # Instantiating Gridsearch\n",
    "    \n",
    "    # add pipeline into 'estimator'\n",
    "    clf = GridSearchCV(estimator = model,\n",
    "                       param_grid = param_grid,\n",
    "                       cv = [train_test_indices_1,\n",
    "                             train_test_indices_2,\n",
    "                             train_test_indices_3,\n",
    "                             train_test_indices_4\n",
    "                       ],\n",
    "                       n_jobs = -1,\n",
    "                       scoring = 'f1_weighted',\n",
    "                       verbose = False\n",
    "    )\n",
    "    \n",
    "    # Fitting Gridsearch\n",
    "    clf.fit(data, target)\n",
    "    \n",
    "    # Get results and store them in a dictionary\n",
    "    best_score = clf.best_score_\n",
    "    best_params = clf.best_params_\n",
    "    best_params['best_score'] = best_score\n",
    "    \n",
    "    return best_params"
   ]
  },
  {
   "cell_type": "markdown",
   "metadata": {},
   "source": [
    "### Gridsearch and Cross Validation"
   ]
  },
  {
   "cell_type": "markdown",
   "metadata": {},
   "source": [
    "Next I wanted to add another model - Random Forest - then gridsearch my parameters and cross validate my evaluation metric, F1-Score. I gridsearched only on the first ten dataframes in my list of dataframes for the sake of time. For each df and respective model fit to it, a dictionary with the parameters used in the model as well as the F1-Score attained with those parameters. For each model, I compile these into a list, then pick the parameters to use in my final models based on frequency.  "
   ]
  },
  {
   "cell_type": "code",
   "execution_count": 35,
   "metadata": {},
   "outputs": [],
   "source": [
    "# Instantiate Random Forest and KNN Classifiers to be used in further modeling\n",
    "rfc = RandomForestClassifier(random_state = 1)\n",
    "knn = KNeighborsClassifier()\n",
    "\n",
    "# Parameter grid for random forest gridsearch\n",
    "rfc_param_grid = {'n_estimators': [500, 750, 1000],\n",
    "                  'class_weight': ['balanced'],\n",
    "                  'criterion': ['gini', 'entropy'],\n",
    "                  'max_depth': [3, 5, 7]\n",
    "             }\n",
    "\n",
    "# Parameter grid for knn gridsearch\n",
    "knn_param_grid = {'n_neighbors': [3, 4, 5, 6, 7],\n",
    "                  'algorithm': ['auto', 'ball_tree', 'kd_tree'],\n",
    "                  'leaf_size': [15, 30, 40]\n",
    "                 }"
   ]
  },
  {
   "cell_type": "markdown",
   "metadata": {},
   "source": [
    "#### Random Forest"
   ]
  },
  {
   "cell_type": "code",
   "execution_count": 36,
   "metadata": {},
   "outputs": [],
   "source": [
    "# Create a list of random forest best params and scores for first 10 dfs\n",
    "rfc_gs_results = []\n",
    "\n",
    "for df in df_list[:10]:\n",
    "    # Gridsearch and Cross Validation \n",
    "    result = time_cross_validate(df = df, model = rfc, param_grid = rfc_param_grid)\n",
    "    \n",
    "    # Appending to list of dicts\n",
    "    rfc_gs_results.append(result)            "
   ]
  },
  {
   "cell_type": "code",
   "execution_count": 37,
   "metadata": {},
   "outputs": [
    {
     "data": {
      "text/plain": [
       "[{'class_weight': 'balanced',\n",
       "  'criterion': 'gini',\n",
       "  'max_depth': 7,\n",
       "  'n_estimators': 750,\n",
       "  'best_score': 0.5372476826150502},\n",
       " {'class_weight': 'balanced',\n",
       "  'criterion': 'gini',\n",
       "  'max_depth': 7,\n",
       "  'n_estimators': 1000,\n",
       "  'best_score': 0.45255600701859716},\n",
       " {'class_weight': 'balanced',\n",
       "  'criterion': 'entropy',\n",
       "  'max_depth': 7,\n",
       "  'n_estimators': 500,\n",
       "  'best_score': 0.4235570630114009},\n",
       " {'class_weight': 'balanced',\n",
       "  'criterion': 'gini',\n",
       "  'max_depth': 3,\n",
       "  'n_estimators': 500,\n",
       "  'best_score': 0.41214265446641224},\n",
       " {'class_weight': 'balanced',\n",
       "  'criterion': 'entropy',\n",
       "  'max_depth': 7,\n",
       "  'n_estimators': 1000,\n",
       "  'best_score': 0.46301788199337024},\n",
       " {'class_weight': 'balanced',\n",
       "  'criterion': 'entropy',\n",
       "  'max_depth': 3,\n",
       "  'n_estimators': 500,\n",
       "  'best_score': 0.4865972608170165},\n",
       " {'class_weight': 'balanced',\n",
       "  'criterion': 'entropy',\n",
       "  'max_depth': 7,\n",
       "  'n_estimators': 1000,\n",
       "  'best_score': 0.44688561506892566},\n",
       " {'class_weight': 'balanced',\n",
       "  'criterion': 'entropy',\n",
       "  'max_depth': 7,\n",
       "  'n_estimators': 500,\n",
       "  'best_score': 0.4555660297087776},\n",
       " {'class_weight': 'balanced',\n",
       "  'criterion': 'gini',\n",
       "  'max_depth': 3,\n",
       "  'n_estimators': 1000,\n",
       "  'best_score': 0.4822611798030841},\n",
       " {'class_weight': 'balanced',\n",
       "  'criterion': 'gini',\n",
       "  'max_depth': 7,\n",
       "  'n_estimators': 750,\n",
       "  'best_score': 0.4433736939648678}]"
      ]
     },
     "execution_count": 37,
     "metadata": {},
     "output_type": "execute_result"
    }
   ],
   "source": [
    "rfc_gs_results"
   ]
  },
  {
   "cell_type": "code",
   "execution_count": 38,
   "metadata": {},
   "outputs": [
    {
     "data": {
      "text/plain": [
       "0.4603205068467503"
      ]
     },
     "execution_count": 38,
     "metadata": {},
     "output_type": "execute_result"
    }
   ],
   "source": [
    "# Calculating mean random forest F1 score for the first 10 stocks\n",
    "np.mean([x['best_score'] for x in rfc_gs_results])"
   ]
  },
  {
   "cell_type": "markdown",
   "metadata": {},
   "source": [
    "The highest performing parameters for the Random Forest based on this gridsearch are:\n",
    "* max_depth = 7\n",
    "* n_estimators = 1000\n",
    "* criterion = 'gini'\n",
    "* class_weight = 'balanced'"
   ]
  },
  {
   "cell_type": "markdown",
   "metadata": {},
   "source": [
    "#### KNN"
   ]
  },
  {
   "cell_type": "code",
   "execution_count": 39,
   "metadata": {},
   "outputs": [],
   "source": [
    "# Create a list of knn best params and scores for first 10 dfs\n",
    "knn_gs_results = []\n",
    "\n",
    "for df in df_list[:10]:\n",
    "    # Gridsearch and Cross Validation\n",
    "    result = time_cross_validate(df = df, model = knn, param_grid = knn_param_grid)\n",
    "    \n",
    "    # Appending to list of dicts\n",
    "    knn_gs_results.append(result)            "
   ]
  },
  {
   "cell_type": "code",
   "execution_count": 40,
   "metadata": {},
   "outputs": [
    {
     "data": {
      "text/plain": [
       "[{'algorithm': 'auto',\n",
       "  'leaf_size': 15,\n",
       "  'n_neighbors': 7,\n",
       "  'best_score': 0.5561276934500141},\n",
       " {'algorithm': 'auto',\n",
       "  'leaf_size': 15,\n",
       "  'n_neighbors': 4,\n",
       "  'best_score': 0.47127110301113273},\n",
       " {'algorithm': 'auto',\n",
       "  'leaf_size': 15,\n",
       "  'n_neighbors': 7,\n",
       "  'best_score': 0.4826268020170537},\n",
       " {'algorithm': 'auto',\n",
       "  'leaf_size': 15,\n",
       "  'n_neighbors': 3,\n",
       "  'best_score': 0.4791097562301946},\n",
       " {'algorithm': 'auto',\n",
       "  'leaf_size': 15,\n",
       "  'n_neighbors': 4,\n",
       "  'best_score': 0.43731365556018653},\n",
       " {'algorithm': 'auto',\n",
       "  'leaf_size': 15,\n",
       "  'n_neighbors': 5,\n",
       "  'best_score': 0.48427436030720233},\n",
       " {'algorithm': 'auto',\n",
       "  'leaf_size': 15,\n",
       "  'n_neighbors': 3,\n",
       "  'best_score': 0.4645423782317034},\n",
       " {'algorithm': 'auto',\n",
       "  'leaf_size': 15,\n",
       "  'n_neighbors': 6,\n",
       "  'best_score': 0.44993615021796596},\n",
       " {'algorithm': 'auto',\n",
       "  'leaf_size': 15,\n",
       "  'n_neighbors': 3,\n",
       "  'best_score': 0.4916804165690549},\n",
       " {'algorithm': 'auto',\n",
       "  'leaf_size': 15,\n",
       "  'n_neighbors': 3,\n",
       "  'best_score': 0.4806952619214454}]"
      ]
     },
     "execution_count": 40,
     "metadata": {},
     "output_type": "execute_result"
    }
   ],
   "source": [
    "knn_gs_results"
   ]
  },
  {
   "cell_type": "code",
   "execution_count": 41,
   "metadata": {},
   "outputs": [
    {
     "data": {
      "text/plain": [
       "0.47975775775159535"
      ]
     },
     "execution_count": 41,
     "metadata": {},
     "output_type": "execute_result"
    }
   ],
   "source": [
    "# Calculating mean KNN F1 score for the first 10 stocks\n",
    "np.mean([x['best_score'] for x in knn_gs_results])"
   ]
  },
  {
   "cell_type": "markdown",
   "metadata": {},
   "source": [
    "The highest performing parameters for the KNN based on this gridsearch are:\n",
    "* algorithm = 'auto'\n",
    "* leaf_size = 15\n",
    "* n_neighbors = 3"
   ]
  },
  {
   "cell_type": "code",
   "execution_count": 31,
   "metadata": {},
   "outputs": [],
   "source": [
    "def time_train_test_split(df, split_date):\n",
    "    \"\"\"\n",
    "    Takes in a df and a date to split train and test sets\n",
    "    on the split date and returns X_train, X_test, y_train, y_test.\n",
    "    Built to be incorporated with time_cross_validate().\n",
    "    \n",
    "    df -- dataframe of prices\n",
    "    split_date -- str formatted as 'YYYY-MM-DD'\n",
    "    \"\"\"\n",
    "    # Create list of split components\n",
    "    train_test_sets = [] # not being used\n",
    "    \n",
    "    # Create train and test sets\n",
    "    train = df[:split_date]\n",
    "    test = df[split_date:]\n",
    "    \n",
    "    # Create list of columns to use in prediction, as well as target variable\n",
    "    predictor_cols = ['10_day_ma', \n",
    "                      '50_day_ma', \n",
    "                      '200_day_ma', \n",
    "                      '1_day_pct_change',\n",
    "                      '2_day_pct_change', \n",
    "                      '3_day_pct_change', \n",
    "                      '4_day_pct_change']\n",
    "    target = 'intra_clf_target'\n",
    "    \n",
    "    # Create train and test sets\n",
    "    X_train, X_test = train[predictor_cols], test[predictor_cols]\n",
    "    y_train, y_test = train[target], test[target]\n",
    "    \n",
    "    return X_train, X_test, y_train, y_test"
   ]
  },
  {
   "cell_type": "code",
   "execution_count": 43,
   "metadata": {},
   "outputs": [],
   "source": [
    "def scale_and_plant_random_forests(X_train, X_test, y_train, y_test):\n",
    "    \"\"\"\n",
    "    Takes in train and test sets, runs a Random Forest Classifier on each,\n",
    "    then returns a tuple of y test and y predicted values to be\n",
    "    passed through an f1_score\n",
    "    \n",
    "    X_train -- training prediction data\n",
    "    X_test -- testing prediction data\n",
    "    y_train -- training target data\n",
    "    y_test -- testing target data\n",
    "    \"\"\"\n",
    "    # Instantiate scaler\n",
    "    scaler = StandardScaler()\n",
    "    \n",
    "    # Fit, transform on train set, only transform test set\n",
    "    scaler.fit_transform(X_train)\n",
    "    scaler.transform(X_test)\n",
    "    \n",
    "    # Instantiate Random Forest Classifier with gridsearched parameters\n",
    "    rfc = RandomForestClassifier(random_state = 1,\n",
    "                                 max_depth = 7,\n",
    "                                 n_estimators = 1000,\n",
    "                                 criterion = 'gini',\n",
    "                                 class_weight = 'balanced'\n",
    "                                )\n",
    "    \n",
    "    # Fit to the training data\n",
    "    rfc.fit(X_train, y_train)\n",
    "    \n",
    "    # Predict on the test data\n",
    "    y_pred = rfc.predict(X_test)\n",
    "    \n",
    "    return (y_test, y_pred)"
   ]
  },
  {
   "cell_type": "code",
   "execution_count": 44,
   "metadata": {},
   "outputs": [],
   "source": [
    "def scale_and_knn(X_train, X_test, y_train, y_test):\n",
    "    \"\"\"\n",
    "    Takes in train and test sets, runs a K Nearest Neighbors Classifier on each,\n",
    "    then returns a tuple of y test and y predicted values to be\n",
    "    passed through an f1_score.\n",
    "    \n",
    "    X_train -- training prediction data\n",
    "    X_test -- testing prediction data\n",
    "    y_train -- training target data\n",
    "    y_test -- testing target data\n",
    "    \"\"\"\n",
    "    # Instantiate scaler\n",
    "    scaler = StandardScaler()\n",
    "    \n",
    "    # Fit, transform on train set, only transform test set\n",
    "    scaler.fit_transform(X_train)\n",
    "    scaler.transform(X_test)\n",
    "    \n",
    "    # Instantiate K Neighbors Classifier with gridsearched parameters\n",
    "    knn = KNeighborsClassifier(algorithm = 'auto',\n",
    "                               leaf_size = 15, \n",
    "                               n_neighbors = 3\n",
    "                              )\n",
    "    \n",
    "    # Fit to the training data\n",
    "    knn.fit(X_train, y_train)\n",
    "    \n",
    "    # Predict on the test data\n",
    "    y_pred = knn.predict(X_test)\n",
    "    \n",
    "    return (y_test, y_pred)"
   ]
  },
  {
   "cell_type": "code",
   "execution_count": 45,
   "metadata": {},
   "outputs": [],
   "source": [
    "def compare_scores(df_list):\n",
    "    \"\"\"\n",
    "    Takes in a list of dfs and returns a list of tuples to \n",
    "    compare the performance of two models based on their \n",
    "    respective F1 scores.\n",
    "    \n",
    "    df_list -- list of dfs\n",
    "    \"\"\"\n",
    "    # Creating a list of tuples to compare model performance on each stock\n",
    "    tuned_scores_comparison_list = []\n",
    "\n",
    "    # Looping through the list of dfs\n",
    "    for df in df_list:\n",
    "        # Splitting train and test sets\n",
    "        X_train, X_test, y_train, y_test = time_train_test_split(df, '2020-05-20')\n",
    "\n",
    "        # Predicting with Random Forest\n",
    "        (true, pred) = scale_and_plant_random_forests(X_train, X_test, y_train, y_test)\n",
    "\n",
    "        # Evaluating Random Forest\n",
    "        rfc_f1 = f1_score(true, pred, average = 'weighted')\n",
    "\n",
    "        # Predicting with KNN\n",
    "        (true, pred) = scale_and_knn(X_train, X_test, y_train, y_test)\n",
    "\n",
    "        # Evaluating KNN\n",
    "        knn_f1 = f1_score(true, pred, average = 'weighted')\n",
    "\n",
    "        # Appending to list of tuples\n",
    "        tuned_scores_comparison_list.append((rfc_f1, knn_f1))\n",
    "\n",
    "    return tuned_scores_comparison_list"
   ]
  },
  {
   "cell_type": "markdown",
   "metadata": {},
   "source": [
    "### Final Models"
   ]
  },
  {
   "cell_type": "markdown",
   "metadata": {},
   "source": [
    "#### Analysis of Results and Comparing Models"
   ]
  },
  {
   "cell_type": "markdown",
   "metadata": {},
   "source": [
    "For my final Random Forest and KNN models, I used the parameters I obtained through my gridsearch. I anticipated that there would not be a clear favorite among the two models, and that instead KNN would perform better on some stocks while Random Forest would perform better on others. I evaluated both models on the first ten stocks, creating a list of tuples of F1-Scores. The first item in each tuple corresponds to the Random Forest F1 and the second to the KNN F1."
   ]
  },
  {
   "cell_type": "code",
   "execution_count": 46,
   "metadata": {},
   "outputs": [
    {
     "data": {
      "text/plain": [
       "[(0.5305574523756341, 0.5405405405405406),\n",
       " (0.4664330997664331, 0.4628628628628629),\n",
       " (0.35089566310496545, 0.4510468392656331),\n",
       " (0.2582297937748175, 0.513736188549776),\n",
       " (0.3947006205070721, 0.41355584002642826),\n",
       " (0.5244998087583298, 0.48030540192702353),\n",
       " (0.46995209495209495, 0.4866641603493738),\n",
       " (0.3051480051480051, 0.44979318941583096),\n",
       " (0.5398688161846057, 0.5909989812428836),\n",
       " (0.4482323232323232, 0.45872621440803263)]"
      ]
     },
     "execution_count": 46,
     "metadata": {},
     "output_type": "execute_result"
    }
   ],
   "source": [
    "# Creating a list of tuples to compare model performance on each stock\n",
    "comparison_list = compare_scores(df_list[:10])\n",
    "comparison_list"
   ]
  },
  {
   "cell_type": "code",
   "execution_count": 47,
   "metadata": {},
   "outputs": [],
   "source": [
    "# Splitting the above tuples into individual lists of F1-Scores for the purpose of visualization\n",
    "rfc_f1 = [x[0] for x in comparison_list]\n",
    "knn_f1 = [x[1] for x in comparison_list]"
   ]
  },
  {
   "cell_type": "code",
   "execution_count": 48,
   "metadata": {},
   "outputs": [
    {
     "data": {
      "image/png": "[encoded data removed]",
      "text/plain": [
       "<Figure size 720x504 with 1 Axes>"
      ]
     },
     "metadata": {
      "needs_background": "light"
     },
     "output_type": "display_data"
    }
   ],
   "source": [
    "fig, ax = plt.subplots(figsize = (10,7))\n",
    "sns.lineplot(x = range(10), y = rfc_f1, label = 'RFC F1-Score')\n",
    "sns.lineplot(x = range(10), y = knn_f1, label = 'KNN F1-Score')\n",
    "ax.set(xlabel = 'Stock #',ylabel = 'F1-Score', title = 'F1-Score on Each of Ten Stocks')\n",
    "ax.axhline(y = np.mean(rfc_f1), xmin = .05, xmax = .95)\n",
    "ax.axhline(y = np.mean(knn_f1), xmin = .05, xmax = .95, color = 'orange')\n",
    "ax.text(x = 9.5, y = np.mean(rfc_f1), s = str(round(np.mean(rfc_f1), 2)))\n",
    "ax.text(x = 9.5, y = np.mean(knn_f1), s = str(round(np.mean(knn_f1), 2)))\n",
    "ax.legend()\n",
    "plt.show()"
   ]
  },
  {
   "cell_type": "markdown",
   "metadata": {},
   "source": [
    "Contrary to my initial assumption, the KNN F1-Score (.48) outperformed the RF F1-Score (.43) by .05 on average, as shown in the graph above."
   ]
  },
  {
   "cell_type": "markdown",
   "metadata": {},
   "source": [
    "## Conclusion and Next Steps"
   ]
  },
  {
   "cell_type": "markdown",
   "metadata": {},
   "source": [
    "The highest performing model was the KNN, though this is only on a sample of 10 out of 160. I'd like to predict on the entire set of 160, add additional models, and add an ensemble voting classifier.\n",
    "\n",
    "In terms of next steps, I plan on implementing a regression model to predict exact prices in addition to price-movement-direction. To further improve the models I have, I'd like to add more features, such as momentum indicators like Moving Average Convergence/Divergence (MACD) and Relative Strength Index (RSI), as well as a volatility indicator like Standard Deviation or Beta. I'd also like to add a percent-change-in-volume feature."
   ]
  },
  {
   "cell_type": "markdown",
   "metadata": {},
   "source": [
    "## Selecting a Sample"
   ]
  },
  {
   "cell_type": "code",
   "execution_count": 109,
   "metadata": {},
   "outputs": [
    {
     "data": {
      "text/plain": [
       "['FRGI',\n",
       " 'EMF',\n",
       " 'TNP',\n",
       " 'AMEH',\n",
       " 'GLRE',\n",
       " 'BLE',\n",
       " 'WETF',\n",
       " 'SFE',\n",
       " 'WASH',\n",
       " 'AVXL',\n",
       " 'RUTH',\n",
       " 'SRRA',\n",
       " 'ZOM',\n",
       " 'CYBE',\n",
       " 'JRS',\n",
       " 'MUJ',\n",
       " 'FSP',\n",
       " 'PERI',\n",
       " 'NTP',\n",
       " 'FF',\n",
       " 'SLCT',\n",
       " 'NBEV',\n",
       " 'PMX',\n",
       " 'CURO',\n",
       " 'SXI',\n",
       " 'BWFG',\n",
       " 'SECO',\n",
       " 'IDN',\n",
       " 'CEM',\n",
       " 'XBIT',\n",
       " 'UEC',\n",
       " 'CCRN',\n",
       " 'LC',\n",
       " 'HROW',\n",
       " 'EFT',\n",
       " 'ABUS',\n",
       " 'PLSE',\n",
       " 'IVAC',\n",
       " 'NC',\n",
       " 'HCI',\n",
       " 'LILA',\n",
       " 'FISI',\n",
       " 'MIN',\n",
       " 'GBLI',\n",
       " 'HCCI',\n",
       " 'ANIX',\n",
       " 'WLKP',\n",
       " 'CONN',\n",
       " 'TSC',\n",
       " 'HTD',\n",
       " 'SSSS',\n",
       " 'GMLP',\n",
       " 'MCS',\n",
       " 'GGN',\n",
       " 'MSD',\n",
       " 'CARA',\n",
       " 'MHLD',\n",
       " 'CIDM',\n",
       " 'KBAL',\n",
       " 'LC',\n",
       " 'PFBI',\n",
       " 'PUMP',\n",
       " 'TNAV',\n",
       " 'FRPH',\n",
       " 'FMNB',\n",
       " 'CGBD',\n",
       " 'KNOP',\n",
       " 'EDD',\n",
       " 'MHN',\n",
       " 'PNF',\n",
       " 'AJX',\n",
       " 'VGM',\n",
       " 'NC',\n",
       " 'ANH',\n",
       " 'SALT',\n",
       " 'CCD',\n",
       " 'ANH',\n",
       " 'EFT',\n",
       " 'ECOM',\n",
       " 'PDFS',\n",
       " 'MUS',\n",
       " 'MUJ',\n",
       " 'PI',\n",
       " 'KTF',\n",
       " 'PZN',\n",
       " 'SGU',\n",
       " 'SXC',\n",
       " 'CMCM',\n",
       " 'MAGS',\n",
       " 'ARAV',\n",
       " 'CDR',\n",
       " 'JPC',\n",
       " 'EMO',\n",
       " 'PERI',\n",
       " 'DMB',\n",
       " 'NMI',\n",
       " 'WEA',\n",
       " 'FDEU',\n",
       " 'PMBC',\n",
       " 'OCX',\n",
       " 'PPR',\n",
       " 'THQ',\n",
       " 'RNET',\n",
       " 'MTRX',\n",
       " 'CAL',\n",
       " 'EGAN',\n",
       " 'XOMA',\n",
       " 'AFMD',\n",
       " 'DUC',\n",
       " 'KNL',\n",
       " 'ESSA',\n",
       " 'SFUN',\n",
       " 'TAST',\n",
       " 'LCUT',\n",
       " 'FNKO',\n",
       " 'TOUR',\n",
       " 'FLDM',\n",
       " 'ATHX',\n",
       " 'GDP',\n",
       " 'XNET',\n",
       " 'CLM',\n",
       " 'GORO',\n",
       " 'ODT',\n",
       " 'GAIN',\n",
       " 'ZTR',\n",
       " 'ONCS',\n",
       " 'HBIO',\n",
       " 'GTT',\n",
       " 'PRTS',\n",
       " 'FI',\n",
       " 'WLL',\n",
       " 'SIEN',\n",
       " 'KRNY',\n",
       " 'FBIZ',\n",
       " 'ALOT',\n",
       " 'RM',\n",
       " 'LWAY',\n",
       " 'DHT',\n",
       " 'ATRS',\n",
       " 'WHF',\n",
       " 'IGI',\n",
       " 'ZOM',\n",
       " 'NEV',\n",
       " 'SLS',\n",
       " 'PML',\n",
       " 'MUC',\n",
       " 'THQ',\n",
       " 'ZIXI',\n",
       " 'FTK',\n",
       " 'LTRPA',\n",
       " 'WETF',\n",
       " 'UEPS',\n",
       " 'TELL',\n",
       " 'CIDM',\n",
       " 'JPI',\n",
       " 'CVGI',\n",
       " 'DMLP',\n",
       " 'BANX',\n",
       " 'TRTX',\n",
       " 'EML',\n",
       " 'MITT',\n",
       " 'GDP',\n",
       " 'ESGC',\n",
       " 'IIF',\n",
       " 'CVCY',\n",
       " 'CSTR',\n",
       " 'TRTX',\n",
       " 'CEVA',\n",
       " 'NTP',\n",
       " 'EVI',\n",
       " 'TBI',\n",
       " 'ADMA',\n",
       " 'LDP',\n",
       " 'BFK',\n",
       " 'STBA',\n",
       " 'BNFT',\n",
       " 'SIGA',\n",
       " 'IFRX',\n",
       " 'ANIK',\n",
       " 'EGRX',\n",
       " 'CPST',\n",
       " 'WRLD',\n",
       " 'VCV',\n",
       " 'GCI',\n",
       " 'VERU',\n",
       " 'MUJ',\n",
       " 'IGD',\n",
       " 'WETF',\n",
       " 'MUI']"
      ]
     },
     "execution_count": 109,
     "metadata": {},
     "output_type": "execute_result"
    }
   ],
   "source": [
    "# Selecting tickers from final df list\n",
    "final_list = [x['ticker'][0] for x in df_list]\n",
    "final_list"
   ]
  },
  {
   "cell_type": "code",
   "execution_count": 131,
   "metadata": {},
   "outputs": [],
   "source": [
    "# Filtering screen df with 'industry' column for only those in the final screen\n",
    "sample = screen[screen['ticker'].isin(final_list)]\n",
    "\n",
    "sample"
   ]
  },
  {
   "cell_type": "code",
   "execution_count": 138,
   "metadata": {
    "collapsed": true
   },
   "outputs": [
    {
     "data": {
      "text/plain": [
       "Biotechnology                                     16\n",
       "Banks                                             12\n",
       "Oil, Gas & Consumable Fuels                       10\n",
       "Capital Markets                                    8\n",
       "Software                                           7\n",
       "Pharmaceuticals                                    5\n",
       "Mortgage Real Estate Investment Trusts (REITs)     4\n",
       "Insurance                                          4\n",
       "Hotels, Restaurants & Leisure                      4\n",
       "Energy Equipment & Services                        4\n",
       "Consumer Finance                                   4\n",
       "Semiconductors & Semiconductor Equipment           4\n",
       "Health Care Equipment & Supplies                   3\n",
       "Entertainment                                      3\n",
       "Machinery                                          3\n",
       "Chemicals                                          3\n",
       "Commercial Services & Supplies                     3\n",
       "Media                                              3\n",
       "Metals & Mining                                    2\n",
       "Equity Real Estate Investment Trusts (REITs)       2\n",
       "Real Estate Management & Development               2\n",
       "Technology Hardware, Storage & Peripherals         2\n",
       "Specialty Retail                                   2\n",
       "Electronic Equipment, Instruments & Components     2\n",
       "Internet & Direct Marketing Retail                 2\n",
       "Health Care Providers & Services                   2\n",
       "Life Sciences Tools & Services                     2\n",
       "Interactive Media & Services                       2\n",
       "Thrifts & Mortgage Finance                         2\n",
       "IT Services                                        2\n",
       "Distributors                                       1\n",
       "Household Durables                                 1\n",
       "Marine                                             1\n",
       "Personal Products                                  1\n",
       "Beverages                                          1\n",
       "Food Products                                      1\n",
       "Trading Companies & Distributors                   1\n",
       "Professional Services                              1\n",
       "Electrical Equipment                               1\n",
       "Gas Utilities                                      1\n",
       "Name: industry, dtype: int64"
      ]
     },
     "execution_count": 138,
     "metadata": {},
     "output_type": "execute_result"
    }
   ],
   "source": [
    "sample['industry'].value_counts()"
   ]
  },
  {
   "cell_type": "code",
   "execution_count": 143,
   "metadata": {
    "collapsed": true
   },
   "outputs": [
    {
     "data": {
      "text/html": [
       "<div>\n",
       "<style scoped>\n",
       "    .dataframe tbody tr th:only-of-type {\n",
       "        vertical-align: middle;\n",
       "    }\n",
       "\n",
       "    .dataframe tbody tr th {\n",
       "        vertical-align: top;\n",
       "    }\n",
       "\n",
       "    .dataframe thead th {\n",
       "        text-align: right;\n",
       "    }\n",
       "</style>\n",
       "<table border=\"1\" class=\"dataframe\">\n",
       "  <thead>\n",
       "    <tr style=\"text-align: right;\">\n",
       "      <th></th>\n",
       "      <th>ticker</th>\n",
       "      <th>company</th>\n",
       "      <th>market_cap</th>\n",
       "      <th>sector</th>\n",
       "      <th>industry</th>\n",
       "      <th>dividend_yield</th>\n",
       "      <th>beta</th>\n",
       "    </tr>\n",
       "  </thead>\n",
       "  <tbody>\n",
       "    <tr>\n",
       "      <th>750</th>\n",
       "      <td>BANX</td>\n",
       "      <td>StoneCastle Financial Corp</td>\n",
       "      <td>136071720.0</td>\n",
       "      <td>Financials</td>\n",
       "      <td>Capital Markets</td>\n",
       "      <td>7.45%</td>\n",
       "      <td>+0.8</td>\n",
       "    </tr>\n",
       "    <tr>\n",
       "      <th>1429</th>\n",
       "      <td>CGBD</td>\n",
       "      <td>TCG BDC Inc</td>\n",
       "      <td>625592990.0</td>\n",
       "      <td>Financials</td>\n",
       "      <td>Capital Markets</td>\n",
       "      <td>11.59%</td>\n",
       "      <td>+2.2</td>\n",
       "    </tr>\n",
       "    <tr>\n",
       "      <th>2935</th>\n",
       "      <td>GAIN</td>\n",
       "      <td>Gladstone Investment Corporation</td>\n",
       "      <td>332714100.0</td>\n",
       "      <td>Financials</td>\n",
       "      <td>Capital Markets</td>\n",
       "      <td>8.32%</td>\n",
       "      <td>+1.4</td>\n",
       "    </tr>\n",
       "    <tr>\n",
       "      <th>5955</th>\n",
       "      <td>PZN</td>\n",
       "      <td>Pzena Investment Management, Inc.</td>\n",
       "      <td>518829300.0</td>\n",
       "      <td>Financials</td>\n",
       "      <td>Capital Markets</td>\n",
       "      <td>1.69%</td>\n",
       "      <td>+1.5</td>\n",
       "    </tr>\n",
       "    <tr>\n",
       "      <th>6465</th>\n",
       "      <td>SFE</td>\n",
       "      <td>Safeguard Scientifics, Inc</td>\n",
       "      <td>148131370.0</td>\n",
       "      <td>Financials</td>\n",
       "      <td>Capital Markets</td>\n",
       "      <td>--</td>\n",
       "      <td>+1.3</td>\n",
       "    </tr>\n",
       "    <tr>\n",
       "      <th>6831</th>\n",
       "      <td>SSSS</td>\n",
       "      <td>SuRo Capital Corp</td>\n",
       "      <td>250119840.0</td>\n",
       "      <td>Financials</td>\n",
       "      <td>Capital Markets</td>\n",
       "      <td>4.02%</td>\n",
       "      <td>+1.7</td>\n",
       "    </tr>\n",
       "    <tr>\n",
       "      <th>7759</th>\n",
       "      <td>WETF</td>\n",
       "      <td>Wisdom Tree Investments Inc</td>\n",
       "      <td>750605190.0</td>\n",
       "      <td>Financials</td>\n",
       "      <td>Capital Markets</td>\n",
       "      <td>2.38%</td>\n",
       "      <td>+1.7</td>\n",
       "    </tr>\n",
       "    <tr>\n",
       "      <th>7770</th>\n",
       "      <td>WHF</td>\n",
       "      <td>WhiteHorse Finance Inc</td>\n",
       "      <td>287644000.0</td>\n",
       "      <td>Financials</td>\n",
       "      <td>Capital Markets</td>\n",
       "      <td>10.19%</td>\n",
       "      <td>+1.6</td>\n",
       "    </tr>\n",
       "  </tbody>\n",
       "</table>\n",
       "</div>"
      ],
      "text/plain": [
       "     ticker                            company   market_cap      sector  \\\n",
       "750    BANX         StoneCastle Financial Corp  136071720.0  Financials   \n",
       "1429   CGBD                        TCG BDC Inc  625592990.0  Financials   \n",
       "2935   GAIN   Gladstone Investment Corporation  332714100.0  Financials   \n",
       "5955    PZN  Pzena Investment Management, Inc.  518829300.0  Financials   \n",
       "6465    SFE         Safeguard Scientifics, Inc  148131370.0  Financials   \n",
       "6831   SSSS                  SuRo Capital Corp  250119840.0  Financials   \n",
       "7759   WETF        Wisdom Tree Investments Inc  750605190.0  Financials   \n",
       "7770    WHF             WhiteHorse Finance Inc  287644000.0  Financials   \n",
       "\n",
       "             industry dividend_yield  beta  \n",
       "750   Capital Markets          7.45%  +0.8  \n",
       "1429  Capital Markets         11.59%  +2.2  \n",
       "2935  Capital Markets          8.32%  +1.4  \n",
       "5955  Capital Markets          1.69%  +1.5  \n",
       "6465  Capital Markets             --  +1.3  \n",
       "6831  Capital Markets          4.02%  +1.7  \n",
       "7759  Capital Markets          2.38%  +1.7  \n",
       "7770  Capital Markets         10.19%  +1.6  "
      ]
     },
     "execution_count": 143,
     "metadata": {},
     "output_type": "execute_result"
    }
   ],
   "source": [
    "sample[sample['industry'] == 'Capital Markets']"
   ]
  },
  {
   "cell_type": "code",
   "execution_count": 147,
   "metadata": {},
   "outputs": [
    {
     "data": {
      "text/plain": [
       "['BANX', 'CGBD', 'GAIN', 'PZN', 'SFE', 'SSSS', 'WETF', 'WHF']"
      ]
     },
     "execution_count": 147,
     "metadata": {},
     "output_type": "execute_result"
    }
   ],
   "source": [
    "# Getting tickers for the eight capital markets companies\n",
    "cap_markets_tickers = list(sample[sample['industry'] == 'Capital Markets']['ticker'])\n",
    "cap_markets_tickers"
   ]
  },
  {
   "cell_type": "code",
   "execution_count": 152,
   "metadata": {},
   "outputs": [],
   "source": [
    "# Instantiating list of capital markets dfs\n",
    "cm_df_list = []\n",
    "\n",
    "# If the company in the larger list of dfs is part of the cap markets list,\n",
    "# append it to the list of cap markets companies\n",
    "for df in df_list:\n",
    "    if df['ticker'][0] in cap_markets_tickers:\n",
    "        cm_df_list.append(df)"
   ]
  },
  {
   "cell_type": "code",
   "execution_count": 155,
   "metadata": {},
   "outputs": [],
   "source": [
    "# Deleting two WETF duplicates\n",
    "del(cm_df_list[0])\n",
    "del(cm_df_list[-1])"
   ]
  },
  {
   "cell_type": "code",
   "execution_count": 158,
   "metadata": {},
   "outputs": [
    {
     "data": {
      "text/plain": [
       "8"
      ]
     },
     "execution_count": 158,
     "metadata": {},
     "output_type": "execute_result"
    }
   ],
   "source": [
    "len(cm_df_list)"
   ]
  },
  {
   "cell_type": "code",
   "execution_count": 159,
   "metadata": {
    "collapsed": true
   },
   "outputs": [
    {
     "data": {
      "text/plain": [
       "[                      open   high    low  close  volume ticker  \\\n",
       " datetime                                                         \n",
       " 2018-01-02 06:00:00  10.15  10.35  10.05  10.20   85859    SFE   \n",
       " 2018-01-03 06:00:00  10.20  10.35  10.15  10.15   96502    SFE   \n",
       " 2018-01-04 06:00:00  10.15  10.40  10.00  10.30   52224    SFE   \n",
       " 2018-01-05 06:00:00  10.30  10.40  10.20  10.25   66547    SFE   \n",
       " 2018-01-08 06:00:00  10.20  10.25  10.05  10.05  203539    SFE   \n",
       " ...                    ...    ...    ...    ...     ...    ...   \n",
       " 2020-12-24 06:00:00   6.33   6.33   6.22   6.30   23419    SFE   \n",
       " 2020-12-28 06:00:00   6.35   6.50   6.30   6.32   68546    SFE   \n",
       " 2020-12-29 06:00:00   6.40   6.41   6.29   6.31  112729    SFE   \n",
       " 2020-12-30 06:00:00   6.30   6.52   6.30   6.47  150867    SFE   \n",
       " 2020-12-31 06:00:00   6.48   6.71   6.36   6.38  127895    SFE   \n",
       " \n",
       "                      intra_clf_target  10_day_ma  50_day_ma  200_day_ma  \\\n",
       " datetime                                                                  \n",
       " 2018-01-02 06:00:00                 1  10.200000  10.200000   10.200000   \n",
       " 2018-01-03 06:00:00                 0  10.172500  10.174500   10.174875   \n",
       " 2018-01-04 06:00:00                 1  10.223754  10.218018   10.217001   \n",
       " 2018-01-05 06:00:00                 0  10.232401  10.226499   10.225375   \n",
       " 2018-01-08 06:00:00                 0  10.180039  10.188320   10.189595   \n",
       " ...                               ...        ...        ...         ...   \n",
       " 2020-12-24 06:00:00                 0   6.348090   6.334416    6.715364   \n",
       " 2020-12-28 06:00:00                 0   6.342983   6.333851    6.711428   \n",
       " 2020-12-29 06:00:00                 0   6.336986   6.332915    6.707431   \n",
       " 2020-12-30 06:00:00                 1   6.361170   6.338291    6.705068   \n",
       " 2020-12-31 06:00:00                 0   6.364594   6.339927    6.701831   \n",
       " \n",
       "                      1_day_pct_change  2_day_pct_change  3_day_pct_change  \\\n",
       " datetime                                                                    \n",
       " 2018-01-02 06:00:00                 0                 0                 0   \n",
       " 2018-01-03 06:00:00                 0                 0                 0   \n",
       " 2018-01-04 06:00:00                 0                 0                 0   \n",
       " 2018-01-05 06:00:00                 0                 0                 0   \n",
       " 2018-01-08 06:00:00                 0                 0                 0   \n",
       " ...                               ...               ...               ...   \n",
       " 2020-12-24 06:00:00                 3                 3                 4   \n",
       " 2020-12-28 06:00:00                 0                 4                 4   \n",
       " 2020-12-29 06:00:00                 0                 1                 4   \n",
       " 2020-12-30 06:00:00                 0                 0                 0   \n",
       " 2020-12-31 06:00:00                 2                 2                 2   \n",
       " \n",
       "                      4_day_pct_change  \n",
       " datetime                               \n",
       " 2018-01-02 06:00:00                 0  \n",
       " 2018-01-03 06:00:00                 0  \n",
       " 2018-01-04 06:00:00                 0  \n",
       " 2018-01-05 06:00:00                 0  \n",
       " 2018-01-08 06:00:00                 0  \n",
       " ...                               ...  \n",
       " 2020-12-24 06:00:00                 0  \n",
       " 2020-12-28 06:00:00                 4  \n",
       " 2020-12-29 06:00:00                 5  \n",
       " 2020-12-30 06:00:00                 4  \n",
       " 2020-12-31 06:00:00                 3  \n",
       " \n",
       " [756 rows x 14 columns],\n",
       "                       open   high      low  close  volume ticker  \\\n",
       " datetime                                                           \n",
       " 2018-01-02 06:00:00   5.58   5.60   5.3600   5.58   81889   SSSS   \n",
       " 2018-01-03 06:00:00   5.61   6.30   5.5030   6.18  509877   SSSS   \n",
       " 2018-01-04 06:00:00   6.47   6.88   6.2850   6.80  523407   SSSS   \n",
       " 2018-01-05 06:00:00   6.81   7.20   6.6201   6.81  499960   SSSS   \n",
       " 2018-01-08 06:00:00   6.74   7.06   6.7300   7.01  210257   SSSS   \n",
       " ...                    ...    ...      ...    ...     ...    ...   \n",
       " 2020-12-24 06:00:00  12.63  12.74  12.3400  12.55  124017   SSSS   \n",
       " 2020-12-28 06:00:00  12.65  12.95  12.5750  12.77  376559   SSSS   \n",
       " 2020-12-29 06:00:00  12.40  12.61  12.3900  12.58  236518   SSSS   \n",
       " 2020-12-30 06:00:00  12.58  13.70  12.5100  13.29  985835   SSSS   \n",
       " 2020-12-31 06:00:00  13.18  13.29  12.7150  13.09  420605   SSSS   \n",
       " \n",
       "                      intra_clf_target  10_day_ma  50_day_ma  200_day_ma  \\\n",
       " datetime                                                                  \n",
       " 2018-01-02 06:00:00                 2   5.580000   5.580000    5.580000   \n",
       " 2018-01-03 06:00:00                 1   5.910000   5.886000    5.881500   \n",
       " 2018-01-04 06:00:00                 1   6.267774   6.202933    6.190733   \n",
       " 2018-01-05 06:00:00                 2   6.446413   6.363925    6.347880   \n",
       " 2018-01-08 06:00:00                 1   6.608204   6.503679    6.482966   \n",
       " ...                               ...        ...        ...         ...   \n",
       " 2020-12-24 06:00:00                 0  12.478147  11.413830    9.925903   \n",
       " 2020-12-28 06:00:00                 1  12.531211  11.467013    9.954217   \n",
       " 2020-12-29 06:00:00                 1  12.540082  11.510660    9.980358   \n",
       " 2020-12-30 06:00:00                 1  12.676431  11.580438   10.013307   \n",
       " 2020-12-31 06:00:00                 0  12.751625  11.639636   10.043937   \n",
       " \n",
       "                      1_day_pct_change  2_day_pct_change  3_day_pct_change  \\\n",
       " datetime                                                                    \n",
       " 2018-01-02 06:00:00                 0                 0                 0   \n",
       " 2018-01-03 06:00:00                 0                 0                 0   \n",
       " 2018-01-04 06:00:00                 0                 0                 0   \n",
       " 2018-01-05 06:00:00                 0                 0                 0   \n",
       " 2018-01-08 06:00:00                 0                 0                 0   \n",
       " ...                               ...               ...               ...   \n",
       " 2020-12-24 06:00:00                 1                 2                 2   \n",
       " 2020-12-28 06:00:00                 0                 0                 1   \n",
       " 2020-12-29 06:00:00                 1                 1                 2   \n",
       " 2020-12-30 06:00:00                -1                 0                 0   \n",
       " 2020-12-31 06:00:00                 5                 4                 5   \n",
       " \n",
       "                      4_day_pct_change  \n",
       " datetime                               \n",
       " 2018-01-02 06:00:00                 0  \n",
       " 2018-01-03 06:00:00                 0  \n",
       " 2018-01-04 06:00:00                 0  \n",
       " 2018-01-05 06:00:00                 0  \n",
       " 2018-01-08 06:00:00                 0  \n",
       " ...                               ...  \n",
       " 2020-12-24 06:00:00                 0  \n",
       " 2020-12-28 06:00:00                 1  \n",
       " 2020-12-29 06:00:00                 3  \n",
       " 2020-12-30 06:00:00                 0  \n",
       " 2020-12-31 06:00:00                 5  \n",
       " \n",
       " [756 rows x 14 columns],\n",
       "                       open   high      low  close  volume ticker  \\\n",
       " datetime                                                           \n",
       " 2018-01-02 06:00:00  20.03  20.08  18.3800  18.48  300320   CGBD   \n",
       " 2018-01-03 06:00:00  18.51  18.72  18.1710  18.62   84742   CGBD   \n",
       " 2018-01-04 06:00:00  18.58  18.81  18.4500  18.55  120325   CGBD   \n",
       " 2018-01-05 06:00:00  18.60  18.60  18.3050  18.45  105476   CGBD   \n",
       " 2018-01-08 06:00:00  18.49  18.49  18.3312  18.48   88149   CGBD   \n",
       " ...                    ...    ...      ...    ...     ...    ...   \n",
       " 2020-12-24 06:00:00  11.14  11.15  10.9700  11.05  117456   CGBD   \n",
       " 2020-12-28 06:00:00  11.11  11.24  10.8400  10.88  396509   CGBD   \n",
       " 2020-12-29 06:00:00  11.06  11.06  10.7200  10.76  413206   CGBD   \n",
       " 2020-12-30 06:00:00  10.40  10.53  10.2000  10.36  407135   CGBD   \n",
       " 2020-12-31 06:00:00  10.30  10.53  10.2100  10.26  471790   CGBD   \n",
       " \n",
       "                      intra_clf_target  10_day_ma  50_day_ma  200_day_ma  \\\n",
       " datetime                                                                  \n",
       " 2018-01-02 06:00:00                 0  18.480000  18.480000   18.480000   \n",
       " 2018-01-03 06:00:00                 1  18.557000  18.551400   18.550350   \n",
       " 2018-01-04 06:00:00                 0  18.554186  18.550915   18.550232   \n",
       " 2018-01-05 06:00:00                 0  18.519861  18.524152   18.524797   \n",
       " 2018-01-08 06:00:00                 0  18.508418  18.514602   18.515658   \n",
       " ...                               ...        ...        ...         ...   \n",
       " 2020-12-24 06:00:00                 0  11.018978  10.346473    9.910568   \n",
       " 2020-12-28 06:00:00                 0  10.993709  10.367396    9.920219   \n",
       " 2020-12-29 06:00:00                 0  10.951216  10.382792    9.928579   \n",
       " 2020-12-30 06:00:00                 0  10.843722  10.381898    9.932874   \n",
       " 2020-12-31 06:00:00                 0  10.737591  10.377118    9.936131   \n",
       " \n",
       "                      1_day_pct_change  2_day_pct_change  3_day_pct_change  \\\n",
       " datetime                                                                    \n",
       " 2018-01-02 06:00:00                 0                 0                 0   \n",
       " 2018-01-03 06:00:00                 0                 0                 0   \n",
       " 2018-01-04 06:00:00                 0                 0                 0   \n",
       " 2018-01-05 06:00:00                 0                 0                 0   \n",
       " 2018-01-08 06:00:00                 0                 0                 0   \n",
       " ...                               ...               ...               ...   \n",
       " 2020-12-24 06:00:00                 1                 0                 0   \n",
       " 2020-12-28 06:00:00                 0                 1                 0   \n",
       " 2020-12-29 06:00:00                -1                -1                 0   \n",
       " 2020-12-30 06:00:00                -1                -2                -2   \n",
       " 2020-12-31 06:00:00                -3                -4                -6   \n",
       " \n",
       "                      4_day_pct_change  \n",
       " datetime                               \n",
       " 2018-01-02 06:00:00                 0  \n",
       " 2018-01-03 06:00:00                 0  \n",
       " 2018-01-04 06:00:00                 0  \n",
       " 2018-01-05 06:00:00                 0  \n",
       " 2018-01-08 06:00:00                 0  \n",
       " ...                               ...  \n",
       " 2020-12-24 06:00:00                 0  \n",
       " 2020-12-28 06:00:00                 0  \n",
       " 2020-12-29 06:00:00                -1  \n",
       " 2020-12-30 06:00:00                -1  \n",
       " 2020-12-31 06:00:00                -6  \n",
       " \n",
       " [756 rows x 14 columns],\n",
       "                       open   high      low  close  volume ticker  \\\n",
       " datetime                                                           \n",
       " 2018-01-02 06:00:00  10.65  10.65   9.9500  10.07   99296    PZN   \n",
       " 2018-01-03 06:00:00  10.02  10.34  10.0200  10.26   70691    PZN   \n",
       " 2018-01-04 06:00:00  10.34  10.83  10.3400  10.73   43959    PZN   \n",
       " 2018-01-05 06:00:00  10.75  11.71  10.7395  11.46  123522    PZN   \n",
       " 2018-01-08 06:00:00  11.50  11.50  11.1300  11.22   37237    PZN   \n",
       " ...                    ...    ...      ...    ...     ...    ...   \n",
       " 2020-12-24 06:00:00   7.45   7.45   7.2800   7.35   56318    PZN   \n",
       " 2020-12-28 06:00:00   7.38   7.51   7.2500   7.34  129285    PZN   \n",
       " 2020-12-29 06:00:00   7.40   7.40   6.9100   7.30   98721    PZN   \n",
       " 2020-12-30 06:00:00   7.27   7.48   7.1800   7.32   65283    PZN   \n",
       " 2020-12-31 06:00:00   7.30   7.41   7.1400   7.30   36194    PZN   \n",
       " \n",
       "                      intra_clf_target  10_day_ma  50_day_ma  200_day_ma  \\\n",
       " datetime                                                                  \n",
       " 2018-01-02 06:00:00                 0  10.070000  10.070000   10.070000   \n",
       " 2018-01-03 06:00:00                 1  10.174500  10.166900   10.165475   \n",
       " 2018-01-04 06:00:00                 1  10.397807  10.362157   10.355535   \n",
       " 2018-01-05 06:00:00                 1  10.747752  10.653301   10.635807   \n",
       " 2018-01-08 06:00:00                 0  10.883322  10.775885   10.754994   \n",
       " ...                               ...        ...        ...         ...   \n",
       " 2020-12-24 06:00:00                 0   7.436849   6.647470    6.086905   \n",
       " 2020-12-28 06:00:00                 0   7.419240   6.674628    6.099380   \n",
       " 2020-12-29 06:00:00                 0   7.397560   6.699153    6.111333   \n",
       " 2020-12-30 06:00:00                 1   7.383458   6.723500    6.123366   \n",
       " 2020-12-31 06:00:00                 2   7.368284   6.746107    6.135079   \n",
       " \n",
       "                      1_day_pct_change  2_day_pct_change  3_day_pct_change  \\\n",
       " datetime                                                                    \n",
       " 2018-01-02 06:00:00                 0                 0                 0   \n",
       " 2018-01-03 06:00:00                 0                 0                 0   \n",
       " 2018-01-04 06:00:00                 0                 0                 0   \n",
       " 2018-01-05 06:00:00                 0                 0                 0   \n",
       " 2018-01-08 06:00:00                 0                 0                 0   \n",
       " ...                               ...               ...               ...   \n",
       " 2020-12-24 06:00:00                 0                -3                -2   \n",
       " 2020-12-28 06:00:00                 0                 0                -3   \n",
       " 2020-12-29 06:00:00                 0                 0                 0   \n",
       " 2020-12-30 06:00:00                 0                 0                 0   \n",
       " 2020-12-31 06:00:00                 0                 0                 0   \n",
       " \n",
       "                      4_day_pct_change  \n",
       " datetime                               \n",
       " 2018-01-02 06:00:00                 0  \n",
       " 2018-01-03 06:00:00                 0  \n",
       " 2018-01-04 06:00:00                 0  \n",
       " 2018-01-05 06:00:00                 0  \n",
       " 2018-01-08 06:00:00                 0  \n",
       " ...                               ...  \n",
       " 2020-12-24 06:00:00                -7  \n",
       " 2020-12-28 06:00:00                -2  \n",
       " 2020-12-29 06:00:00                -3  \n",
       " 2020-12-30 06:00:00                -1  \n",
       " 2020-12-31 06:00:00                 0  \n",
       " \n",
       " [756 rows x 14 columns],\n",
       "                       open     high    low  close  volume ticker  \\\n",
       " datetime                                                           \n",
       " 2018-01-02 06:00:00  10.73  10.8200  10.68  10.79  194022   GAIN   \n",
       " 2018-01-03 06:00:00  10.78  10.8400  10.42  10.52  336253   GAIN   \n",
       " 2018-01-04 06:00:00  10.57  10.6700  10.50  10.52  165384   GAIN   \n",
       " 2018-01-05 06:00:00  10.56  10.6096  10.43  10.56  198137   GAIN   \n",
       " 2018-01-08 06:00:00  10.61  10.7890  10.56  10.69  191935   GAIN   \n",
       " ...                    ...      ...    ...    ...     ...    ...   \n",
       " 2020-12-24 06:00:00  10.27  10.2700  10.07  10.10   90507   GAIN   \n",
       " 2020-12-28 06:00:00  10.11  10.2500  10.06  10.10  204813   GAIN   \n",
       " 2020-12-29 06:00:00  10.10  10.2400  10.10  10.16  131723   GAIN   \n",
       " 2020-12-30 06:00:00  10.16  10.2400   9.71  10.02  284789   GAIN   \n",
       " 2020-12-31 06:00:00  10.06  10.1800   9.96  10.09  166650   GAIN   \n",
       " \n",
       "                      intra_clf_target  10_day_ma  50_day_ma  200_day_ma  \\\n",
       " datetime                                                                  \n",
       " 2018-01-02 06:00:00                 1  10.790000  10.790000   10.790000   \n",
       " 2018-01-03 06:00:00                 0  10.641500  10.652300   10.654325   \n",
       " 2018-01-04 06:00:00                 0  10.592658  10.606424   10.609102   \n",
       " 2018-01-05 06:00:00                 2  10.581899  10.594113   10.596641   \n",
       " 2018-01-08 06:00:00                 1  10.612932  10.614855   10.615688   \n",
       " ...                               ...        ...        ...         ...   \n",
       " 2020-12-24 06:00:00                 0  10.241114   9.787168   10.004368   \n",
       " 2020-12-28 06:00:00                 0  10.215457   9.799436   10.005320   \n",
       " 2020-12-29 06:00:00                 1  10.205374   9.813576   10.006860   \n",
       " 2020-12-30 06:00:00                 0  10.171669   9.821671   10.006991   \n",
       " 2020-12-31 06:00:00                 1  10.156820   9.832194   10.007817   \n",
       " \n",
       "                      1_day_pct_change  2_day_pct_change  3_day_pct_change  \\\n",
       " datetime                                                                    \n",
       " 2018-01-02 06:00:00                 0                 0                 0   \n",
       " 2018-01-03 06:00:00                 0                 0                 0   \n",
       " 2018-01-04 06:00:00                 0                 0                 0   \n",
       " 2018-01-05 06:00:00                 0                 0                 0   \n",
       " 2018-01-08 06:00:00                 0                 0                 0   \n",
       " ...                               ...               ...               ...   \n",
       " 2020-12-24 06:00:00                 0                -3                -2   \n",
       " 2020-12-28 06:00:00                -1                 0                -4   \n",
       " 2020-12-29 06:00:00                 0                -1                 0   \n",
       " 2020-12-30 06:00:00                 0                 0                 0   \n",
       " 2020-12-31 06:00:00                -1                 0                 0   \n",
       " \n",
       "                      4_day_pct_change  \n",
       " datetime                               \n",
       " 2018-01-02 06:00:00                 0  \n",
       " 2018-01-03 06:00:00                 0  \n",
       " 2018-01-04 06:00:00                 0  \n",
       " 2018-01-05 06:00:00                 0  \n",
       " 2018-01-08 06:00:00                 0  \n",
       " ...                               ...  \n",
       " 2020-12-24 06:00:00                -1  \n",
       " 2020-12-28 06:00:00                -3  \n",
       " 2020-12-29 06:00:00                -4  \n",
       " 2020-12-30 06:00:00                 0  \n",
       " 2020-12-31 06:00:00                -2  \n",
       " \n",
       " [756 rows x 14 columns],\n",
       "                       open     high    low   close  volume ticker  \\\n",
       " datetime                                                            \n",
       " 2018-01-02 06:00:00  12.99  13.1638  12.81  12.860   92909    WHF   \n",
       " 2018-01-03 06:00:00  12.88  13.2300  12.84  13.040   73451    WHF   \n",
       " 2018-01-04 06:00:00  12.93  13.0384  12.88  12.890   47176    WHF   \n",
       " 2018-01-05 06:00:00  12.90  12.9875  12.83  12.850   38648    WHF   \n",
       " 2018-01-08 06:00:00  12.68  13.0000  12.68  12.820   68434    WHF   \n",
       " ...                    ...      ...    ...     ...     ...    ...   \n",
       " 2020-12-24 06:00:00  13.30  13.4000  13.20  13.260   35483    WHF   \n",
       " 2020-12-28 06:00:00  13.30  13.5000  13.21  13.235   36919    WHF   \n",
       " 2020-12-29 06:00:00  13.23  13.4480  13.20  13.300   55711    WHF   \n",
       " 2020-12-30 06:00:00  13.24  13.5853  13.24  13.480   72969    WHF   \n",
       " 2020-12-31 06:00:00  13.52  13.7100  13.40  13.610   73468    WHF   \n",
       " \n",
       "                      intra_clf_target  10_day_ma  50_day_ma  200_day_ma  \\\n",
       " datetime                                                                  \n",
       " 2018-01-02 06:00:00                 0  12.860000  12.860000   12.860000   \n",
       " 2018-01-03 06:00:00                 1  12.959000  12.951800   12.950450   \n",
       " 2018-01-04 06:00:00                 0  12.931262  12.930371   12.930098   \n",
       " 2018-01-05 06:00:00                 0  12.904490  12.909057   12.909772   \n",
       " 2018-01-08 06:00:00                 1  12.880235  12.889793   12.891457   \n",
       " ...                               ...        ...        ...         ...   \n",
       " 2020-12-24 06:00:00                 0  13.618215  12.646048   11.414840   \n",
       " 2020-12-28 06:00:00                 0  13.548540  12.669144   11.432961   \n",
       " 2020-12-29 06:00:00                 1  13.503351  12.693884   11.451548   \n",
       " 2020-12-30 06:00:00                 1  13.499105  12.724712   11.471742   \n",
       " 2020-12-31 06:00:00                 1  13.519268  12.759429   11.493030   \n",
       " \n",
       "                      1_day_pct_change  2_day_pct_change  3_day_pct_change  \\\n",
       " datetime                                                                    \n",
       " 2018-01-02 06:00:00                 0                 0                 0   \n",
       " 2018-01-03 06:00:00                 0                 0                 0   \n",
       " 2018-01-04 06:00:00                 0                 0                 0   \n",
       " 2018-01-05 06:00:00                 0                 0                 0   \n",
       " 2018-01-08 06:00:00                 0                 0                 0   \n",
       " ...                               ...               ...               ...   \n",
       " 2020-12-24 06:00:00                 0                -1                -1   \n",
       " 2020-12-28 06:00:00                 0                -1                -2   \n",
       " 2020-12-29 06:00:00                 0                 0                -1   \n",
       " 2020-12-30 06:00:00                 0                 0                 0   \n",
       " 2020-12-31 06:00:00                 1                 1                 1   \n",
       " \n",
       "                      4_day_pct_change  \n",
       " datetime                               \n",
       " 2018-01-02 06:00:00                 0  \n",
       " 2018-01-03 06:00:00                 0  \n",
       " 2018-01-04 06:00:00                 0  \n",
       " 2018-01-05 06:00:00                 0  \n",
       " 2018-01-08 06:00:00                 0  \n",
       " ...                               ...  \n",
       " 2020-12-24 06:00:00                -7  \n",
       " 2020-12-28 06:00:00                -2  \n",
       " 2020-12-29 06:00:00                -2  \n",
       " 2020-12-30 06:00:00                 0  \n",
       " 2020-12-31 06:00:00                 0  \n",
       " \n",
       " [756 rows x 14 columns],\n",
       "                       open    high      low   close   volume ticker  \\\n",
       " datetime                                                              \n",
       " 2018-01-02 06:00:00  12.56  12.600  12.1400  12.220   915070   WETF   \n",
       " 2018-01-03 06:00:00  12.33  12.630  12.1900  12.210  1777000   WETF   \n",
       " 2018-01-04 06:00:00  12.29  12.535  12.2300  12.490  1024526   WETF   \n",
       " 2018-01-05 06:00:00  12.54  12.845  12.5274  12.760  1264503   WETF   \n",
       " 2018-01-08 06:00:00  12.75  13.150  12.7500  13.040  1111746   WETF   \n",
       " ...                    ...     ...      ...     ...      ...    ...   \n",
       " 2020-12-24 06:00:00   5.54   5.540   5.3900   5.500   403251   WETF   \n",
       " 2020-12-28 06:00:00   5.55   5.600   5.3200   5.360   645178   WETF   \n",
       " 2020-12-29 06:00:00   5.42   5.420   5.2700   5.310   457673   WETF   \n",
       " 2020-12-30 06:00:00   5.34   5.354   5.2200   5.325  1533584   WETF   \n",
       " 2020-12-31 06:00:00   5.36   5.415   5.2400   5.350   425798   WETF   \n",
       " \n",
       "                      intra_clf_target  10_day_ma  50_day_ma  200_day_ma  \\\n",
       " datetime                                                                  \n",
       " 2018-01-02 06:00:00                 0  12.220000  12.220000   12.220000   \n",
       " 2018-01-03 06:00:00                 0  12.214500  12.214900   12.214975   \n",
       " 2018-01-04 06:00:00                 1  12.325249  12.310292   12.307568   \n",
       " 2018-01-05 06:00:00                 1  12.468480  12.429553   12.422378   \n",
       " 2018-01-08 06:00:00                 1  12.632548  12.561601   12.548386   \n",
       " ...                               ...        ...        ...         ...   \n",
       " 2020-12-24 06:00:00                 0   5.206053   4.491248    4.040505   \n",
       " 2020-12-28 06:00:00                 0   5.234043   4.525317    4.053641   \n",
       " 2020-12-29 06:00:00                 0   5.247854   4.556088    4.066149   \n",
       " 2020-12-30 06:00:00                 0   5.261880   4.586242    4.078682   \n",
       " 2020-12-31 06:00:00                 0   5.277902   4.616193    4.091338   \n",
       " \n",
       "                      1_day_pct_change  2_day_pct_change  3_day_pct_change  \\\n",
       " datetime                                                                    \n",
       " 2018-01-02 06:00:00                 0                 0                 0   \n",
       " 2018-01-03 06:00:00                 0                 0                 0   \n",
       " 2018-01-04 06:00:00                 0                 0                 0   \n",
       " 2018-01-05 06:00:00                 0                 0                 0   \n",
       " 2018-01-08 06:00:00                 0                 0                 0   \n",
       " ...                               ...               ...               ...   \n",
       " 2020-12-24 06:00:00                 2                 2                 8   \n",
       " 2020-12-28 06:00:00                 0                 2                 2   \n",
       " 2020-12-29 06:00:00                -2                -2                 0   \n",
       " 2020-12-30 06:00:00                 0                -3                -3   \n",
       " 2020-12-31 06:00:00                 0                 0                -3   \n",
       " \n",
       "                      4_day_pct_change  \n",
       " datetime                               \n",
       " 2018-01-02 06:00:00                 0  \n",
       " 2018-01-03 06:00:00                 0  \n",
       " 2018-01-04 06:00:00                 0  \n",
       " 2018-01-05 06:00:00                 0  \n",
       " 2018-01-08 06:00:00                 0  \n",
       " ...                               ...  \n",
       " 2020-12-24 06:00:00                 9  \n",
       " 2020-12-28 06:00:00                 8  \n",
       " 2020-12-29 06:00:00                 0  \n",
       " 2020-12-30 06:00:00                -1  \n",
       " 2020-12-31 06:00:00                -3  \n",
       " \n",
       " [756 rows x 14 columns],\n",
       "                       open     high      low    close  volume ticker  \\\n",
       " datetime                                                               \n",
       " 2018-01-02 06:00:00  20.55  20.7500  20.2600  20.7100  154219   BANX   \n",
       " 2018-01-03 06:00:00  20.93  21.2499  20.7350  21.0400   83954   BANX   \n",
       " 2018-01-04 06:00:00  21.03  21.1400  20.9268  20.9848   57170   BANX   \n",
       " 2018-01-05 06:00:00  21.16  21.1650  21.0101  21.0689   36293   BANX   \n",
       " 2018-01-08 06:00:00  21.25  21.2850  21.0379  21.1568   23842   BANX   \n",
       " ...                    ...      ...      ...      ...     ...    ...   \n",
       " 2020-12-24 06:00:00  20.00  20.1450  19.6000  19.8100   15228   BANX   \n",
       " 2020-12-28 06:00:00  19.81  19.9000  19.4800  19.7200   19435   BANX   \n",
       " 2020-12-29 06:00:00  19.33  19.5300  19.1500  19.2500   27480   BANX   \n",
       " 2020-12-30 06:00:00  19.12  19.4800  19.1200  19.1500   43907   BANX   \n",
       " 2020-12-31 06:00:00  19.26  19.4600  19.0600  19.2500   57990   BANX   \n",
       " \n",
       "                      intra_clf_target  10_day_ma  50_day_ma  200_day_ma  \\\n",
       " datetime                                                                  \n",
       " 2018-01-02 06:00:00                 1  20.710000  20.710000   20.710000   \n",
       " 2018-01-03 06:00:00                 1  20.891500  20.878300   20.875825   \n",
       " 2018-01-04 06:00:00                 0  20.929006  20.915229   20.912514   \n",
       " 2018-01-05 06:00:00                 0  20.975095  20.955982   20.952199   \n",
       " 2018-01-08 06:00:00                 0  21.027257  20.999422   20.993942   \n",
       " ...                               ...        ...        ...         ...   \n",
       " 2020-12-24 06:00:00                 0  20.391375  19.792476   19.035403   \n",
       " 2020-12-28 06:00:00                 0  20.269307  19.789633   19.042218   \n",
       " 2020-12-29 06:00:00                 0  20.083978  19.768471   19.044287   \n",
       " 2020-12-30 06:00:00                 1  19.914164  19.744218   19.045339   \n",
       " 2020-12-31 06:00:00                 0  19.793407  19.724836   19.047377   \n",
       " \n",
       "                      1_day_pct_change  2_day_pct_change  3_day_pct_change  \\\n",
       " datetime                                                                    \n",
       " 2018-01-02 06:00:00                 0                 0                 0   \n",
       " 2018-01-03 06:00:00                 0                 0                 0   \n",
       " 2018-01-04 06:00:00                 0                 0                 0   \n",
       " 2018-01-05 06:00:00                 0                 0                 0   \n",
       " 2018-01-08 06:00:00                 0                 0                 0   \n",
       " ...                               ...               ...               ...   \n",
       " 2020-12-24 06:00:00                -1                -2                -3   \n",
       " 2020-12-28 06:00:00                 0                -2                -3   \n",
       " 2020-12-29 06:00:00                 0                -1                -3   \n",
       " 2020-12-30 06:00:00                -2                -2                -3   \n",
       " 2020-12-31 06:00:00                 0                -2                -3   \n",
       " \n",
       "                      4_day_pct_change  \n",
       " datetime                               \n",
       " 2018-01-02 06:00:00                 0  \n",
       " 2018-01-03 06:00:00                 0  \n",
       " 2018-01-04 06:00:00                 0  \n",
       " 2018-01-05 06:00:00                 0  \n",
       " 2018-01-08 06:00:00                 0  \n",
       " ...                               ...  \n",
       " 2020-12-24 06:00:00                -4  \n",
       " 2020-12-28 06:00:00                -4  \n",
       " 2020-12-29 06:00:00                -3  \n",
       " 2020-12-30 06:00:00                -5  \n",
       " 2020-12-31 06:00:00                -4  \n",
       " \n",
       " [756 rows x 14 columns]]"
      ]
     },
     "execution_count": 159,
     "metadata": {},
     "output_type": "execute_result"
    }
   ],
   "source": [
    "cm_df_list"
   ]
  },
  {
   "cell_type": "markdown",
   "metadata": {},
   "source": [
    "# Time Series"
   ]
  },
  {
   "cell_type": "markdown",
   "metadata": {},
   "source": [
    "#### Import Relevant Packages"
   ]
  },
  {
   "cell_type": "code",
   "execution_count": 29,
   "metadata": {},
   "outputs": [],
   "source": [
    "from statsmodels.tsa.seasonal import seasonal_decompose\n",
    "from statsmodels.tsa.statespace.sarimax import SARIMAX\n",
    "from statsmodels.tsa.stattools import adfuller\n",
    "from sklearn.metrics import mean_squared_error\n",
    "import itertools"
   ]
  },
  {
   "cell_type": "markdown",
   "metadata": {},
   "source": [
    "## Data Inspection"
   ]
  },
  {
   "cell_type": "code",
   "execution_count": 192,
   "metadata": {},
   "outputs": [
    {
     "data": {
      "text/html": [
       "<div>\n",
       "<style scoped>\n",
       "    .dataframe tbody tr th:only-of-type {\n",
       "        vertical-align: middle;\n",
       "    }\n",
       "\n",
       "    .dataframe tbody tr th {\n",
       "        vertical-align: top;\n",
       "    }\n",
       "\n",
       "    .dataframe thead th {\n",
       "        text-align: right;\n",
       "    }\n",
       "</style>\n",
       "<table border=\"1\" class=\"dataframe\">\n",
       "  <thead>\n",
       "    <tr style=\"text-align: right;\">\n",
       "      <th></th>\n",
       "      <th>open</th>\n",
       "      <th>high</th>\n",
       "      <th>low</th>\n",
       "      <th>close</th>\n",
       "      <th>volume</th>\n",
       "      <th>ticker</th>\n",
       "      <th>intra_clf_target</th>\n",
       "      <th>10_day_ma</th>\n",
       "      <th>50_day_ma</th>\n",
       "      <th>200_day_ma</th>\n",
       "      <th>1_day_pct_change</th>\n",
       "      <th>2_day_pct_change</th>\n",
       "      <th>3_day_pct_change</th>\n",
       "      <th>4_day_pct_change</th>\n",
       "    </tr>\n",
       "    <tr>\n",
       "      <th>datetime</th>\n",
       "      <th></th>\n",
       "      <th></th>\n",
       "      <th></th>\n",
       "      <th></th>\n",
       "      <th></th>\n",
       "      <th></th>\n",
       "      <th></th>\n",
       "      <th></th>\n",
       "      <th></th>\n",
       "      <th></th>\n",
       "      <th></th>\n",
       "      <th></th>\n",
       "      <th></th>\n",
       "      <th></th>\n",
       "    </tr>\n",
       "  </thead>\n",
       "  <tbody>\n",
       "    <tr>\n",
       "      <th>2018-01-02 06:00:00</th>\n",
       "      <td>10.15</td>\n",
       "      <td>10.35</td>\n",
       "      <td>10.05</td>\n",
       "      <td>10.20</td>\n",
       "      <td>85859</td>\n",
       "      <td>SFE</td>\n",
       "      <td>1</td>\n",
       "      <td>10.200000</td>\n",
       "      <td>10.200000</td>\n",
       "      <td>10.200000</td>\n",
       "      <td>0</td>\n",
       "      <td>0</td>\n",
       "      <td>0</td>\n",
       "      <td>0</td>\n",
       "    </tr>\n",
       "    <tr>\n",
       "      <th>2018-01-03 06:00:00</th>\n",
       "      <td>10.20</td>\n",
       "      <td>10.35</td>\n",
       "      <td>10.15</td>\n",
       "      <td>10.15</td>\n",
       "      <td>96502</td>\n",
       "      <td>SFE</td>\n",
       "      <td>0</td>\n",
       "      <td>10.172500</td>\n",
       "      <td>10.174500</td>\n",
       "      <td>10.174875</td>\n",
       "      <td>0</td>\n",
       "      <td>0</td>\n",
       "      <td>0</td>\n",
       "      <td>0</td>\n",
       "    </tr>\n",
       "    <tr>\n",
       "      <th>2018-01-04 06:00:00</th>\n",
       "      <td>10.15</td>\n",
       "      <td>10.40</td>\n",
       "      <td>10.00</td>\n",
       "      <td>10.30</td>\n",
       "      <td>52224</td>\n",
       "      <td>SFE</td>\n",
       "      <td>1</td>\n",
       "      <td>10.223754</td>\n",
       "      <td>10.218018</td>\n",
       "      <td>10.217001</td>\n",
       "      <td>0</td>\n",
       "      <td>0</td>\n",
       "      <td>0</td>\n",
       "      <td>0</td>\n",
       "    </tr>\n",
       "    <tr>\n",
       "      <th>2018-01-05 06:00:00</th>\n",
       "      <td>10.30</td>\n",
       "      <td>10.40</td>\n",
       "      <td>10.20</td>\n",
       "      <td>10.25</td>\n",
       "      <td>66547</td>\n",
       "      <td>SFE</td>\n",
       "      <td>0</td>\n",
       "      <td>10.232401</td>\n",
       "      <td>10.226499</td>\n",
       "      <td>10.225375</td>\n",
       "      <td>0</td>\n",
       "      <td>0</td>\n",
       "      <td>0</td>\n",
       "      <td>0</td>\n",
       "    </tr>\n",
       "    <tr>\n",
       "      <th>2018-01-08 06:00:00</th>\n",
       "      <td>10.20</td>\n",
       "      <td>10.25</td>\n",
       "      <td>10.05</td>\n",
       "      <td>10.05</td>\n",
       "      <td>203539</td>\n",
       "      <td>SFE</td>\n",
       "      <td>0</td>\n",
       "      <td>10.180039</td>\n",
       "      <td>10.188320</td>\n",
       "      <td>10.189595</td>\n",
       "      <td>0</td>\n",
       "      <td>0</td>\n",
       "      <td>0</td>\n",
       "      <td>0</td>\n",
       "    </tr>\n",
       "  </tbody>\n",
       "</table>\n",
       "</div>"
      ],
      "text/plain": [
       "                      open   high    low  close  volume ticker  \\\n",
       "datetime                                                         \n",
       "2018-01-02 06:00:00  10.15  10.35  10.05  10.20   85859    SFE   \n",
       "2018-01-03 06:00:00  10.20  10.35  10.15  10.15   96502    SFE   \n",
       "2018-01-04 06:00:00  10.15  10.40  10.00  10.30   52224    SFE   \n",
       "2018-01-05 06:00:00  10.30  10.40  10.20  10.25   66547    SFE   \n",
       "2018-01-08 06:00:00  10.20  10.25  10.05  10.05  203539    SFE   \n",
       "\n",
       "                     intra_clf_target  10_day_ma  50_day_ma  200_day_ma  \\\n",
       "datetime                                                                  \n",
       "2018-01-02 06:00:00                 1  10.200000  10.200000   10.200000   \n",
       "2018-01-03 06:00:00                 0  10.172500  10.174500   10.174875   \n",
       "2018-01-04 06:00:00                 1  10.223754  10.218018   10.217001   \n",
       "2018-01-05 06:00:00                 0  10.232401  10.226499   10.225375   \n",
       "2018-01-08 06:00:00                 0  10.180039  10.188320   10.189595   \n",
       "\n",
       "                     1_day_pct_change  2_day_pct_change  3_day_pct_change  \\\n",
       "datetime                                                                    \n",
       "2018-01-02 06:00:00                 0                 0                 0   \n",
       "2018-01-03 06:00:00                 0                 0                 0   \n",
       "2018-01-04 06:00:00                 0                 0                 0   \n",
       "2018-01-05 06:00:00                 0                 0                 0   \n",
       "2018-01-08 06:00:00                 0                 0                 0   \n",
       "\n",
       "                     4_day_pct_change  \n",
       "datetime                               \n",
       "2018-01-02 06:00:00                 0  \n",
       "2018-01-03 06:00:00                 0  \n",
       "2018-01-04 06:00:00                 0  \n",
       "2018-01-05 06:00:00                 0  \n",
       "2018-01-08 06:00:00                 0  "
      ]
     },
     "execution_count": 192,
     "metadata": {},
     "output_type": "execute_result"
    }
   ],
   "source": [
    "cm_df_list[0].head()"
   ]
  },
  {
   "cell_type": "code",
   "execution_count": 193,
   "metadata": {},
   "outputs": [],
   "source": [
    "df_test = cm_df_list[0]['close']"
   ]
  },
  {
   "cell_type": "code",
   "execution_count": 194,
   "metadata": {},
   "outputs": [
    {
     "data": {
      "text/plain": [
       "datetime\n",
       "2018-01-02 06:00:00    10.20\n",
       "2018-01-03 06:00:00    10.15\n",
       "2018-01-04 06:00:00    10.30\n",
       "2018-01-05 06:00:00    10.25\n",
       "2018-01-08 06:00:00    10.05\n",
       "Name: close, dtype: float64"
      ]
     },
     "execution_count": 194,
     "metadata": {},
     "output_type": "execute_result"
    }
   ],
   "source": [
    "df_test.head()"
   ]
  },
  {
   "cell_type": "code",
   "execution_count": 195,
   "metadata": {},
   "outputs": [
    {
     "data": {
      "text/plain": [
       "<AxesSubplot:xlabel='datetime'>"
      ]
     },
     "execution_count": 195,
     "metadata": {},
     "output_type": "execute_result"
    },
    {
     "data": {
      "image/png": "[encoded data removed]",
      "text/plain": [
       "<Figure size 432x288 with 1 Axes>"
      ]
     },
     "metadata": {
      "needs_background": "light"
     },
     "output_type": "display_data"
    }
   ],
   "source": [
    "df_test.plot()"
   ]
  },
  {
   "cell_type": "markdown",
   "metadata": {},
   "source": [
    "## ARMA"
   ]
  },
  {
   "cell_type": "markdown",
   "metadata": {},
   "source": [
    "### Detrending"
   ]
  },
  {
   "cell_type": "code",
   "execution_count": 207,
   "metadata": {},
   "outputs": [],
   "source": [
    "df_diff = df_test.diff(periods = 1)\n",
    "df_diff.dropna(inplace = True)"
   ]
  },
  {
   "cell_type": "code",
   "execution_count": 208,
   "metadata": {},
   "outputs": [
    {
     "data": {
      "text/plain": [
       "<AxesSubplot:xlabel='datetime'>"
      ]
     },
     "execution_count": 208,
     "metadata": {},
     "output_type": "execute_result"
    },
    {
     "data": {
      "image/png": "[encoded data removed]",
      "text/plain": [
       "<Figure size 432x288 with 1 Axes>"
      ]
     },
     "metadata": {
      "needs_background": "light"
     },
     "output_type": "display_data"
    }
   ],
   "source": [
    "df_diff.plot()"
   ]
  },
  {
   "cell_type": "code",
   "execution_count": 197,
   "metadata": {},
   "outputs": [
    {
     "data": {
      "text/plain": [
       "(-17.832619508709396,\n",
       " 3.1289329136918215e-30,\n",
       " 1,\n",
       " 753,\n",
       " {'1%': -3.4390641198617864,\n",
       "  '5%': -2.8653859408474482,\n",
       "  '10%': -2.5688179819544312},\n",
       " -237.80094601068822)"
      ]
     },
     "execution_count": 197,
     "metadata": {},
     "output_type": "execute_result"
    }
   ],
   "source": [
    "d_f = adfuller(df_diff)\n",
    "d_f"
   ]
  },
  {
   "cell_type": "code",
   "execution_count": 32,
   "metadata": {
    "collapsed": true
   },
   "outputs": [
    {
     "ename": "ValueError",
     "evalue": "You must specify a period or x must be a pandas object with a DatetimeIndex with a freq not set to None",
     "output_type": "error",
     "traceback": [
      "\u001b[1;31m---------------------------------------------------------------------------\u001b[0m",
      "\u001b[1;31mValueError\u001b[0m                                Traceback (most recent call last)",
      "\u001b[1;32m<ipython-input-32-d76498b5db56>\u001b[0m in \u001b[0;36m<module>\u001b[1;34m\u001b[0m\n\u001b[1;32m----> 1\u001b[1;33m \u001b[0mdecomposition\u001b[0m \u001b[1;33m=\u001b[0m \u001b[0mseasonal_decompose\u001b[0m\u001b[1;33m(\u001b[0m\u001b[0mdf_test\u001b[0m\u001b[1;33m)\u001b[0m\u001b[1;33m\u001b[0m\u001b[1;33m\u001b[0m\u001b[0m\n\u001b[0m\u001b[0;32m      2\u001b[0m \u001b[1;31m# ?\u001b[0m\u001b[1;33m\u001b[0m\u001b[1;33m\u001b[0m\u001b[1;33m\u001b[0m\u001b[0m\n",
      "\u001b[1;32m~\\anaconda3\\envs\\learn-env\\lib\\site-packages\\pandas\\util\\_decorators.py\u001b[0m in \u001b[0;36mwrapper\u001b[1;34m(*args, **kwargs)\u001b[0m\n\u001b[0;32m    197\u001b[0m                 \u001b[1;32melse\u001b[0m\u001b[1;33m:\u001b[0m\u001b[1;33m\u001b[0m\u001b[1;33m\u001b[0m\u001b[0m\n\u001b[0;32m    198\u001b[0m                     \u001b[0mkwargs\u001b[0m\u001b[1;33m[\u001b[0m\u001b[0mnew_arg_name\u001b[0m\u001b[1;33m]\u001b[0m \u001b[1;33m=\u001b[0m \u001b[0mnew_arg_value\u001b[0m\u001b[1;33m\u001b[0m\u001b[1;33m\u001b[0m\u001b[0m\n\u001b[1;32m--> 199\u001b[1;33m             \u001b[1;32mreturn\u001b[0m \u001b[0mfunc\u001b[0m\u001b[1;33m(\u001b[0m\u001b[1;33m*\u001b[0m\u001b[0margs\u001b[0m\u001b[1;33m,\u001b[0m \u001b[1;33m**\u001b[0m\u001b[0mkwargs\u001b[0m\u001b[1;33m)\u001b[0m\u001b[1;33m\u001b[0m\u001b[1;33m\u001b[0m\u001b[0m\n\u001b[0m\u001b[0;32m    200\u001b[0m \u001b[1;33m\u001b[0m\u001b[0m\n\u001b[0;32m    201\u001b[0m         \u001b[1;32mreturn\u001b[0m \u001b[0mcast\u001b[0m\u001b[1;33m(\u001b[0m\u001b[0mF\u001b[0m\u001b[1;33m,\u001b[0m \u001b[0mwrapper\u001b[0m\u001b[1;33m)\u001b[0m\u001b[1;33m\u001b[0m\u001b[1;33m\u001b[0m\u001b[0m\n",
      "\u001b[1;32m~\\anaconda3\\envs\\learn-env\\lib\\site-packages\\statsmodels\\tsa\\seasonal.py\u001b[0m in \u001b[0;36mseasonal_decompose\u001b[1;34m(x, model, filt, period, two_sided, extrapolate_trend)\u001b[0m\n\u001b[0;32m    140\u001b[0m             \u001b[0mperiod\u001b[0m \u001b[1;33m=\u001b[0m \u001b[0mpfreq\u001b[0m\u001b[1;33m\u001b[0m\u001b[1;33m\u001b[0m\u001b[0m\n\u001b[0;32m    141\u001b[0m         \u001b[1;32melse\u001b[0m\u001b[1;33m:\u001b[0m\u001b[1;33m\u001b[0m\u001b[1;33m\u001b[0m\u001b[0m\n\u001b[1;32m--> 142\u001b[1;33m             raise ValueError(\"You must specify a period or x must be a \"\n\u001b[0m\u001b[0;32m    143\u001b[0m                              \u001b[1;34m\"pandas object with a DatetimeIndex with \"\u001b[0m\u001b[1;33m\u001b[0m\u001b[1;33m\u001b[0m\u001b[0m\n\u001b[0;32m    144\u001b[0m                              \"a freq not set to None\")\n",
      "\u001b[1;31mValueError\u001b[0m: You must specify a period or x must be a pandas object with a DatetimeIndex with a freq not set to None"
     ]
    }
   ],
   "source": [
    "decomposition = seasonal_decompose(df_test)\n",
    "# ?"
   ]
  },
  {
   "cell_type": "markdown",
   "metadata": {},
   "source": [
    "### Train/Test Split"
   ]
  },
  {
   "cell_type": "code",
   "execution_count": 221,
   "metadata": {},
   "outputs": [],
   "source": [
    "end_train_date = '2020-12-01'\n",
    "end_test_date = '2020-12-18'"
   ]
  },
  {
   "cell_type": "code",
   "execution_count": 209,
   "metadata": {},
   "outputs": [],
   "source": [
    "train = df_diff[:end_train_date]\n",
    "test = df_diff[end_train_date:end_test_date]"
   ]
  },
  {
   "cell_type": "markdown",
   "metadata": {},
   "source": [
    "### ACF and PACF Inspection for Deciding on Params"
   ]
  },
  {
   "cell_type": "code",
   "execution_count": 210,
   "metadata": {
    "collapsed": true
   },
   "outputs": [
    {
     "data": {
      "image/png": "[encoded data removed]",
      "text/plain": [
       "<Figure size 432x288 with 1 Axes>"
      ]
     },
     "execution_count": 210,
     "metadata": {},
     "output_type": "execute_result"
    },
    {
     "data": {
      "image/png": "[encoded data removed]",
      "text/plain": [
       "<Figure size 432x288 with 1 Axes>"
      ]
     },
     "metadata": {
      "needs_background": "light"
     },
     "output_type": "display_data"
    }
   ],
   "source": [
    "plot_acf(train)"
   ]
  },
  {
   "cell_type": "code",
   "execution_count": 211,
   "metadata": {
    "collapsed": true
   },
   "outputs": [
    {
     "data": {
      "image/png": "[encoded data removed]",
      "text/plain": [
       "<Figure size 432x288 with 1 Axes>"
      ]
     },
     "execution_count": 211,
     "metadata": {},
     "output_type": "execute_result"
    },
    {
     "data": {
      "image/png": "[encoded data removed]",
      "text/plain": [
       "<Figure size 432x288 with 1 Axes>"
      ]
     },
     "metadata": {
      "needs_background": "light"
     },
     "output_type": "display_data"
    }
   ],
   "source": [
    "plot_pacf(train)"
   ]
  },
  {
   "cell_type": "markdown",
   "metadata": {},
   "source": [
    "### Modeling"
   ]
  },
  {
   "cell_type": "code",
   "execution_count": 212,
   "metadata": {},
   "outputs": [
    {
     "data": {
      "text/html": [
       "<table class=\"simpletable\">\n",
       "<caption>ARMA Model Results</caption>\n",
       "<tr>\n",
       "  <th>Dep. Variable:</th>       <td>close</td>      <th>  No. Observations:  </th>    <td>734</td>  \n",
       "</tr>\n",
       "<tr>\n",
       "  <th>Model:</th>            <td>ARMA(4, 4)</td>    <th>  Log Likelihood     </th>  <td>107.474</td>\n",
       "</tr>\n",
       "<tr>\n",
       "  <th>Method:</th>             <td>css-mle</td>     <th>  S.D. of innovations</th>   <td>0.208</td> \n",
       "</tr>\n",
       "<tr>\n",
       "  <th>Date:</th>          <td>Sun, 03 Jan 2021</td> <th>  AIC                </th> <td>-194.947</td>\n",
       "</tr>\n",
       "<tr>\n",
       "  <th>Time:</th>              <td>23:11:28</td>     <th>  BIC                </th> <td>-148.962</td>\n",
       "</tr>\n",
       "<tr>\n",
       "  <th>Sample:</th>                <td>0</td>        <th>  HQIC               </th> <td>-177.210</td>\n",
       "</tr>\n",
       "<tr>\n",
       "  <th></th>                       <td> </td>        <th>                     </th>     <td> </td>   \n",
       "</tr>\n",
       "</table>\n",
       "<table class=\"simpletable\">\n",
       "<tr>\n",
       "       <td></td>          <th>coef</th>     <th>std err</th>      <th>z</th>      <th>P>|z|</th>  <th>[0.025</th>    <th>0.975]</th>  \n",
       "</tr>\n",
       "<tr>\n",
       "  <th>const</th>       <td>   -0.0051</td> <td>    0.008</td> <td>   -0.622</td> <td> 0.534</td> <td>   -0.021</td> <td>    0.011</td>\n",
       "</tr>\n",
       "<tr>\n",
       "  <th>ar.L1.close</th> <td>    0.4899</td> <td>    0.018</td> <td>   27.586</td> <td> 0.000</td> <td>    0.455</td> <td>    0.525</td>\n",
       "</tr>\n",
       "<tr>\n",
       "  <th>ar.L2.close</th> <td>    0.1369</td> <td>    0.019</td> <td>    7.148</td> <td> 0.000</td> <td>    0.099</td> <td>    0.174</td>\n",
       "</tr>\n",
       "<tr>\n",
       "  <th>ar.L3.close</th> <td>    0.4519</td> <td>    0.017</td> <td>   25.979</td> <td> 0.000</td> <td>    0.418</td> <td>    0.486</td>\n",
       "</tr>\n",
       "<tr>\n",
       "  <th>ar.L4.close</th> <td>   -0.9435</td> <td>    0.016</td> <td>  -58.529</td> <td> 0.000</td> <td>   -0.975</td> <td>   -0.912</td>\n",
       "</tr>\n",
       "<tr>\n",
       "  <th>ma.L1.close</th> <td>   -0.4649</td> <td>    0.013</td> <td>  -36.133</td> <td> 0.000</td> <td>   -0.490</td> <td>   -0.440</td>\n",
       "</tr>\n",
       "<tr>\n",
       "  <th>ma.L2.close</th> <td>   -0.1487</td> <td>    0.008</td> <td>  -18.038</td> <td> 0.000</td> <td>   -0.165</td> <td>   -0.133</td>\n",
       "</tr>\n",
       "<tr>\n",
       "  <th>ma.L3.close</th> <td>   -0.4649</td> <td>    0.019</td> <td>  -24.623</td> <td> 0.000</td> <td>   -0.502</td> <td>   -0.428</td>\n",
       "</tr>\n",
       "<tr>\n",
       "  <th>ma.L4.close</th> <td>    1.0000</td> <td>    0.018</td> <td>   57.053</td> <td> 0.000</td> <td>    0.966</td> <td>    1.034</td>\n",
       "</tr>\n",
       "</table>\n",
       "<table class=\"simpletable\">\n",
       "<caption>Roots</caption>\n",
       "<tr>\n",
       "    <td></td>   <th>            Real</th>  <th>         Imaginary</th> <th>         Modulus</th>  <th>        Frequency</th>\n",
       "</tr>\n",
       "<tr>\n",
       "  <th>AR.1</th> <td>          -0.6322</td> <td>          -0.7991j</td> <td>           1.0189</td> <td>          -0.3565</td>\n",
       "</tr>\n",
       "<tr>\n",
       "  <th>AR.2</th> <td>          -0.6322</td> <td>          +0.7991j</td> <td>           1.0189</td> <td>           0.3565</td>\n",
       "</tr>\n",
       "<tr>\n",
       "  <th>AR.3</th> <td>           0.8717</td> <td>          -0.5109j</td> <td>           1.0104</td> <td>          -0.0844</td>\n",
       "</tr>\n",
       "<tr>\n",
       "  <th>AR.4</th> <td>           0.8717</td> <td>          +0.5109j</td> <td>           1.0104</td> <td>           0.0844</td>\n",
       "</tr>\n",
       "<tr>\n",
       "  <th>MA.1</th> <td>          -0.6259</td> <td>          -0.7799j</td> <td>           1.0000</td> <td>          -0.3576</td>\n",
       "</tr>\n",
       "<tr>\n",
       "  <th>MA.2</th> <td>          -0.6259</td> <td>          +0.7799j</td> <td>           1.0000</td> <td>           0.3576</td>\n",
       "</tr>\n",
       "<tr>\n",
       "  <th>MA.3</th> <td>           0.8583</td> <td>          -0.5132j</td> <td>           1.0000</td> <td>          -0.0858</td>\n",
       "</tr>\n",
       "<tr>\n",
       "  <th>MA.4</th> <td>           0.8583</td> <td>          +0.5132j</td> <td>           1.0000</td> <td>           0.0858</td>\n",
       "</tr>\n",
       "</table>"
      ],
      "text/plain": [
       "<class 'statsmodels.iolib.summary.Summary'>\n",
       "\"\"\"\n",
       "                              ARMA Model Results                              \n",
       "==============================================================================\n",
       "Dep. Variable:                  close   No. Observations:                  734\n",
       "Model:                     ARMA(4, 4)   Log Likelihood                 107.474\n",
       "Method:                       css-mle   S.D. of innovations              0.208\n",
       "Date:                Sun, 03 Jan 2021   AIC                           -194.947\n",
       "Time:                        23:11:28   BIC                           -148.962\n",
       "Sample:                             0   HQIC                          -177.210\n",
       "                                                                              \n",
       "===============================================================================\n",
       "                  coef    std err          z      P>|z|      [0.025      0.975]\n",
       "-------------------------------------------------------------------------------\n",
       "const          -0.0051      0.008     -0.622      0.534      -0.021       0.011\n",
       "ar.L1.close     0.4899      0.018     27.586      0.000       0.455       0.525\n",
       "ar.L2.close     0.1369      0.019      7.148      0.000       0.099       0.174\n",
       "ar.L3.close     0.4519      0.017     25.979      0.000       0.418       0.486\n",
       "ar.L4.close    -0.9435      0.016    -58.529      0.000      -0.975      -0.912\n",
       "ma.L1.close    -0.4649      0.013    -36.133      0.000      -0.490      -0.440\n",
       "ma.L2.close    -0.1487      0.008    -18.038      0.000      -0.165      -0.133\n",
       "ma.L3.close    -0.4649      0.019    -24.623      0.000      -0.502      -0.428\n",
       "ma.L4.close     1.0000      0.018     57.053      0.000       0.966       1.034\n",
       "                                    Roots                                    \n",
       "=============================================================================\n",
       "                  Real          Imaginary           Modulus         Frequency\n",
       "-----------------------------------------------------------------------------\n",
       "AR.1           -0.6322           -0.7991j            1.0189           -0.3565\n",
       "AR.2           -0.6322           +0.7991j            1.0189            0.3565\n",
       "AR.3            0.8717           -0.5109j            1.0104           -0.0844\n",
       "AR.4            0.8717           +0.5109j            1.0104            0.0844\n",
       "MA.1           -0.6259           -0.7799j            1.0000           -0.3576\n",
       "MA.2           -0.6259           +0.7799j            1.0000            0.3576\n",
       "MA.3            0.8583           -0.5132j            1.0000           -0.0858\n",
       "MA.4            0.8583           +0.5132j            1.0000            0.0858\n",
       "-----------------------------------------------------------------------------\n",
       "\"\"\""
      ]
     },
     "execution_count": 212,
     "metadata": {},
     "output_type": "execute_result"
    }
   ],
   "source": [
    "mod_arma = ARMA(train, order = (4,4)) # how to decide on order again?\n",
    "res_arma = mod_arma.fit()\n",
    "res_arma.summary()"
   ]
  },
  {
   "cell_type": "code",
   "execution_count": 213,
   "metadata": {},
   "outputs": [],
   "source": [
    "preds = res_arma.forecast(steps = 14)"
   ]
  },
  {
   "cell_type": "markdown",
   "metadata": {},
   "source": [
    "### Model Evalutation"
   ]
  },
  {
   "cell_type": "code",
   "execution_count": 214,
   "metadata": {},
   "outputs": [
    {
     "data": {
      "text/plain": [
       "<matplotlib.legend.Legend at 0x1dc2fc83f40>"
      ]
     },
     "execution_count": 214,
     "metadata": {},
     "output_type": "execute_result"
    },
    {
     "data": {
      "image/png": "[encoded data removed]",
      "text/plain": [
       "<Figure size 432x288 with 1 Axes>"
      ]
     },
     "metadata": {
      "needs_background": "light"
     },
     "output_type": "display_data"
    }
   ],
   "source": [
    "plt.plot(range(0,14), preds[0], label = 'preds')\n",
    "plt.plot(range(0,14), test[:14], label = 'true')\n",
    "plt.legend()"
   ]
  },
  {
   "cell_type": "code",
   "execution_count": 215,
   "metadata": {},
   "outputs": [
    {
     "data": {
      "text/plain": [
       "0.18662607399567527"
      ]
     },
     "execution_count": 215,
     "metadata": {},
     "output_type": "execute_result"
    }
   ],
   "source": [
    "rmse = np.sqrt(mean_squared_error(test[0:14].values, preds[0]))\n",
    "rmse"
   ]
  },
  {
   "cell_type": "code",
   "execution_count": null,
   "metadata": {},
   "outputs": [],
   "source": [
    "# predict on unknown\n",
    "# find best order\n",
    "# gridsearch\n",
    "# 'Undifference' to compare original plots"
   ]
  },
  {
   "cell_type": "markdown",
   "metadata": {},
   "source": [
    "### Gridsearched ARMA"
   ]
  },
  {
   "cell_type": "code",
   "execution_count": 216,
   "metadata": {},
   "outputs": [],
   "source": [
    "# Defining AR, I, MA, and S order components\n",
    "p = range(0,5) # AR\n",
    "q = range(0,5) # MA"
   ]
  },
  {
   "cell_type": "code",
   "execution_count": 217,
   "metadata": {},
   "outputs": [],
   "source": [
    "# Creating every combination of p, d, and q parameters\n",
    "pq = itertools.product(p, q)\n",
    "\n",
    "# Converting from itertools product object to list\n",
    "pq = list(pq)"
   ]
  },
  {
   "cell_type": "code",
   "execution_count": 218,
   "metadata": {},
   "outputs": [
    {
     "data": {
      "text/plain": [
       "25"
      ]
     },
     "execution_count": 218,
     "metadata": {},
     "output_type": "execute_result"
    }
   ],
   "source": [
    "len(pq)"
   ]
  },
  {
   "cell_type": "code",
   "execution_count": 183,
   "metadata": {},
   "outputs": [],
   "source": [
    "def gridsearch_arma(orders_list, train, test, n_days = 14):\n",
    "    \"\"\"\n",
    "    Takes in a list of orders, a train set, a test set, and a number of days\n",
    "    to forecast into the future. Returns a list of results for each models and\n",
    "    a list of any orders that caused the model to fail.\n",
    "    \n",
    "    orders_list -- A list of tuples containing p and q parameters\n",
    "    train -- A series of the endogenous variable\n",
    "    test -- A series of the endogenous variable to measure model performance\n",
    "    n_days -- An integer denoting the number of days to forecast\n",
    "    \"\"\"\n",
    "    # Instantiating a list of results dictionaries\n",
    "    results_list = []\n",
    "\n",
    "    # Instantiating fail cache\n",
    "    fail_cache = []\n",
    "\n",
    "    # Setting number of days to forecast forward\n",
    "    n_days = n_days\n",
    "\n",
    "    # Looping through each set of parameters to find the best combination\n",
    "    for o in orders_list:\n",
    "        try:\n",
    "            # Instantiating new dictionary of results and parameters for each gridsearched model\n",
    "            results_dict = {}\n",
    "\n",
    "            # Instantiating the ARMA model\n",
    "            arma = ARMA(train, \n",
    "                        order = o, \n",
    "                   )\n",
    "\n",
    "            # Fitting the model\n",
    "            fitted_arma = arma.fit()\n",
    "\n",
    "            # Forecasting 14 days after training data\n",
    "            arma_preds = fitted_arma.forecast(steps = n_days)[0]\n",
    "\n",
    "            # Pulling AIC score from the model\n",
    "            aic = fitted_arma.aic\n",
    "\n",
    "            # Calculating RMSE for forecasted values\n",
    "            rmse = np.sqrt(mean_squared_error(test[:n_days].values, arma_preds))\n",
    "\n",
    "            # Assigning dictionary values of results and parameters\n",
    "            results_dict['order'] = o\n",
    "            results_dict['aic'] = aic\n",
    "            results_dict['rmse'] = rmse\n",
    "\n",
    "            # Adding each dictionary to the list of results dictionaries\n",
    "            results_list.append(results_dict) \n",
    "\n",
    "        except:\n",
    "            fail_cache.append({'order': o,\n",
    "                               })\n",
    "            continue\n",
    "        \n",
    "    return results_list, fail_cache"
   ]
  },
  {
   "cell_type": "code",
   "execution_count": 165,
   "metadata": {},
   "outputs": [],
   "source": [
    "def get_best_time_series(results_list):\n",
    "    \"\"\"\n",
    "    Takes in a list of results dictionaries containing SARIMA params\n",
    "    and model performance metrics. Returns best model params and scores\n",
    "    for RMSE and AIC, in that order.\n",
    "    \n",
    "    results_list -- list of results dictionaries.\n",
    "    \"\"\"    \n",
    "    # Sorting scores list by RMSE\n",
    "    sorted_by_rmse = sorted(results_list, key = lambda x: x['rmse'])\n",
    "    \n",
    "    # Top model by RMSE\n",
    "    top_rmse_model = sorted_by_rmse[0]\n",
    "    \n",
    "    # Sorting scores list by AIC\n",
    "    sorted_by_aic = sorted(results_list, key = lambda x: x['aic'])\n",
    "    \n",
    "    # Top model by AIC\n",
    "    top_aic_model = sorted_by_aic[0]\n",
    "    \n",
    "    return [top_rmse_model, top_aic_model]"
   ]
  },
  {
   "cell_type": "code",
   "execution_count": 219,
   "metadata": {},
   "outputs": [],
   "source": [
    "# Calculate all models(gridsearch)\n",
    "arma_results, arma_fails = gridsearch_arma(pq, train, test, n_days = 14)\n",
    "\n",
    "# Identify best models based on RMSE and AIC, respectively\n",
    "get_best_time_series(arma_results)"
   ]
  },
  {
   "cell_type": "code",
   "execution_count": 227,
   "metadata": {},
   "outputs": [],
   "source": [
    "def gridsearch_arma_multiple(df_list, orders_list, n_days = 14):\n",
    "    \"\"\"\n",
    "    Takes in a list of dfs, a list of order params, and a number \n",
    "    of days to forecast into the future. Returns gridsearched ARMA \n",
    "    model results for each.\n",
    "    \n",
    "    df_list -- list of dataframes\n",
    "    orders_list -- A list of tuples containing p and q parameters\n",
    "    n_days -- An integer denoting the number of days to forecast\n",
    "    \"\"\"\n",
    "    # Creating list to hold results for each df\n",
    "    best_model_list = []\n",
    "    \n",
    "    for df in df_list:\n",
    "        # Isolate endogenous variable\n",
    "        df_endog = df['close']\n",
    "        \n",
    "        # Create differenced df to improve stationarity\n",
    "        df_diff = df_endog.diff(periods = 1)\n",
    "        df_diff.dropna(inplace = True)\n",
    "        \n",
    "        # Split df into train and test sets\n",
    "        train = df_diff[:end_train_date]\n",
    "        test = df_diff[end_train_date:end_test_date]\n",
    "\n",
    "        # Calculate all models(gridsearch)\n",
    "        arma_results, arma_fails = gridsearch_arma(pq, train, test, n_days = 14)\n",
    "\n",
    "        # Identify best models based on RMSE and AIC, respectively\n",
    "        best_arma = get_best_time_series(arma_results)\n",
    "        \n",
    "        # Pull ticker from df\n",
    "        ticker = df['ticker'][0]\n",
    "        \n",
    "        # Append ticker and model results to list of best models\n",
    "        best_model_list.append([ticker, best_arma])\n",
    "        \n",
    "    return best_model_list"
   ]
  },
  {
   "cell_type": "code",
   "execution_count": 228,
   "metadata": {},
   "outputs": [
    {
     "data": {
      "text/plain": [
       "[['SFE',\n",
       "  [{'order': (4, 4), 'aic': -194.94726322654515, 'rmse': 0.18662607399567527},\n",
       "   {'order': (2, 2),\n",
       "    'aic': -202.30116844303393,\n",
       "    'rmse': 0.19244505841167853}]],\n",
       " ['SSSS',\n",
       "  [{'order': (4, 1), 'aic': 151.76133064956684, 'rmse': 0.3384472393942903},\n",
       "   {'order': (4, 2), 'aic': 142.66548732369165, 'rmse': 0.3728610213827238}]],\n",
       " ['CGBD',\n",
       "  [{'order': (1, 1), 'aic': 92.83175222429281, 'rmse': 0.1429342322093544},\n",
       "   {'order': (4, 4), 'aic': 76.64221583900394, 'rmse': 0.15423463037066978}]],\n",
       " ['PZN',\n",
       "  [{'order': (4, 4), 'aic': 9.164889879140446, 'rmse': 0.24611062646306225},\n",
       "   {'order': (1, 2), 'aic': 6.7277117384137455, 'rmse': 0.262969572276142}]],\n",
       " ['GAIN',\n",
       "  [{'order': (1, 1), 'aic': -202.73470582141908, 'rmse': 0.09892678576941205},\n",
       "   {'order': (4, 4),\n",
       "    'aic': -221.97631498949522,\n",
       "    'rmse': 0.10203867272449635}]],\n",
       " ['WHF',\n",
       "  [{'order': (4, 0), 'aic': 289.7420516220866, 'rmse': 0.2700078935129562},\n",
       "   {'order': (4, 4), 'aic': 264.29526566917116, 'rmse': 0.275923239107711}]],\n",
       " ['WETF',\n",
       "  [{'order': (2, 4), 'aic': -429.6137454006571, 'rmse': 0.20615147490709979},\n",
       "   {'order': (2, 4), 'aic': -429.6137454006571, 'rmse': 0.20615147490709979}]],\n",
       " ['BANX',\n",
       "  [{'order': (4, 4), 'aic': 706.4385052329067, 'rmse': 0.35512810931278754},\n",
       "   {'order': (4, 4), 'aic': 706.4385052329067, 'rmse': 0.35512810931278754}]]]"
      ]
     },
     "execution_count": 228,
     "metadata": {},
     "output_type": "execute_result"
    }
   ],
   "source": [
    "best_model_list = gridsearch_arma_multiple(cm_df_list, pq, n_days = 14)\n",
    "best_model_list"
   ]
  },
  {
   "cell_type": "markdown",
   "metadata": {},
   "source": [
    "## SARIMA"
   ]
  },
  {
   "cell_type": "markdown",
   "metadata": {},
   "source": [
    "### SARIMA next because next step up is to remove trends but not add exog"
   ]
  },
  {
   "cell_type": "code",
   "execution_count": 42,
   "metadata": {},
   "outputs": [],
   "source": [
    "# SARIMA train/test split\n",
    "train = df_test[:end_train_date]\n",
    "test = df_test[end_train_date:end_test_date]"
   ]
  },
  {
   "cell_type": "code",
   "execution_count": 43,
   "metadata": {},
   "outputs": [],
   "source": [
    "# Instantiating SARIMA model\n",
    "sarima = SARIMAX(train,\n",
    "                order = (1, 1, 1),\n",
    "                seasonal_order = (1, 1, 1, 4),\n",
    "                enforce_stationarity = False,\n",
    "                enforce_invertibility = False\n",
    "               )\n",
    "\n",
    "# Fitting SARIMA to the training data\n",
    "fitted_sarima = sarima.fit()\n",
    "\n",
    "# Forecasting 14 days after training data\n",
    "sarima_preds = fitted_sarima.forecast(steps = 14)"
   ]
  },
  {
   "cell_type": "code",
   "execution_count": 44,
   "metadata": {},
   "outputs": [
    {
     "data": {
      "text/plain": [
       "<matplotlib.legend.Legend at 0x1dc2976bc40>"
      ]
     },
     "execution_count": 44,
     "metadata": {},
     "output_type": "execute_result"
    },
    {
     "data": {
      "image/png": "[encoded data removed]",
      "text/plain": [
       "<Figure size 432x288 with 1 Axes>"
      ]
     },
     "metadata": {
      "needs_background": "light"
     },
     "output_type": "display_data"
    }
   ],
   "source": [
    "plt.plot(range(0,14), sarima_preds, label = 'sarima preds')\n",
    "plt.plot(range(0,14), test[0:14], label = 'true')\n",
    "plt.legend()"
   ]
  },
  {
   "cell_type": "code",
   "execution_count": 45,
   "metadata": {},
   "outputs": [
    {
     "data": {
      "text/plain": [
       "0.5101237923678045"
      ]
     },
     "execution_count": 45,
     "metadata": {},
     "output_type": "execute_result"
    }
   ],
   "source": [
    "sarima_rmse = np.sqrt(mean_squared_error(test[0:14].values, sarima_preds))\n",
    "sarima_rmse"
   ]
  },
  {
   "cell_type": "markdown",
   "metadata": {},
   "source": [
    "#### Gridsearched SARIMA"
   ]
  },
  {
   "cell_type": "code",
   "execution_count": 46,
   "metadata": {},
   "outputs": [],
   "source": [
    "# Defining AR, I, MA, and S order components\n",
    "p = range(0,3) # AR\n",
    "d = range(0,2) # I\n",
    "q = range(0,3) # MA\n",
    "s = (4,12) # S\n",
    "# try 3 for s"
   ]
  },
  {
   "cell_type": "code",
   "execution_count": 47,
   "metadata": {},
   "outputs": [],
   "source": [
    "# Creating every combination of p, d, and q parameters\n",
    "pdq = itertools.product(p, d, q)\n",
    "\n",
    "# Converting from itertools product object to list\n",
    "pdq = list(pdq)"
   ]
  },
  {
   "cell_type": "code",
   "execution_count": 48,
   "metadata": {},
   "outputs": [
    {
     "data": {
      "text/plain": [
       "18"
      ]
     },
     "execution_count": 48,
     "metadata": {},
     "output_type": "execute_result"
    }
   ],
   "source": [
    "len(pdq)"
   ]
  },
  {
   "cell_type": "code",
   "execution_count": 49,
   "metadata": {},
   "outputs": [],
   "source": [
    "# Creating every combination of seasonal(s) p, d, and q parameters\n",
    "pdqs = itertools.product(p, d, q, s)\n",
    "\n",
    "# Converting from itertools product object to list\n",
    "pdqs = list(pdqs)"
   ]
  },
  {
   "cell_type": "code",
   "execution_count": 50,
   "metadata": {},
   "outputs": [
    {
     "data": {
      "text/plain": [
       "36"
      ]
     },
     "execution_count": 50,
     "metadata": {},
     "output_type": "execute_result"
    }
   ],
   "source": [
    "len(pdqs)"
   ]
  },
  {
   "cell_type": "code",
   "execution_count": 52,
   "metadata": {},
   "outputs": [
    {
     "data": {
      "text/plain": [
       "648"
      ]
     },
     "execution_count": 52,
     "metadata": {},
     "output_type": "execute_result"
    }
   ],
   "source": [
    "num_iterations = len(pdq)*len(pdqs)\n",
    "num_iterations"
   ]
  },
  {
   "cell_type": "code",
   "execution_count": 53,
   "metadata": {},
   "outputs": [],
   "source": [
    "# Instantiating a list of results dictionaries\n",
    "results_list = []\n",
    "\n",
    "# Instantiating fail cache\n",
    "fail_cache = []\n",
    "\n",
    "# Setting number of days to forecast forward\n",
    "n_days = 14\n",
    "\n",
    "# Looping through each set of parameters to find the best combination\n",
    "for o in pdq:\n",
    "    for so in pdqs:\n",
    "        try:\n",
    "            # Instantiating new dictionary of results and parameters for each gridsearched model\n",
    "            results_dict = {}\n",
    "\n",
    "            # Instantiating the SARIMA model\n",
    "            sarima = SARIMAX(train, \n",
    "                    order = o, \n",
    "                    seasonal_order = so, \n",
    "                    enforce_stationarity = False,\n",
    "                    enforce_invertibility = False\n",
    "                   )\n",
    "\n",
    "            # Fitting the model\n",
    "            fitted_sarima = sarima.fit()\n",
    "            \n",
    "            # Forecasting 14 days after training data\n",
    "            sarima_preds = fitted_sarima.forecast(steps = n_days)\n",
    "\n",
    "            # Pulling AIC score from the model\n",
    "            aic = fitted_sarima.aic\n",
    "            \n",
    "            # Calculating RMSE for forecasted values\n",
    "            rmse = np.sqrt(mean_squared_error(test[:n_days].values, sarima_preds))\n",
    "\n",
    "            # Assigning dictionary values of results and parameters\n",
    "            results_dict['order'] = o\n",
    "            results_dict['seasonal_order'] = so\n",
    "            results_dict['aic'] = aic\n",
    "            results_dict['rmse'] = rmse\n",
    "\n",
    "            # Adding each dictionary to the list of results dictionaries\n",
    "            results_list.append(results_dict) \n",
    "        \n",
    "        except:\n",
    "            fail_cache.append({'order': o,\n",
    "                               'seasonal_order': so\n",
    "                               })\n",
    "            continue"
   ]
  },
  {
   "cell_type": "code",
   "execution_count": 55,
   "metadata": {},
   "outputs": [
    {
     "data": {
      "text/plain": [
       "648"
      ]
     },
     "execution_count": 55,
     "metadata": {},
     "output_type": "execute_result"
    }
   ],
   "source": [
    "len(results_list)"
   ]
  },
  {
   "cell_type": "code",
   "execution_count": 56,
   "metadata": {},
   "outputs": [],
   "source": [
    "##### USE GET_BEST_TIME_SERIES\n",
    "\n",
    "\n",
    "\n",
    "def get_best_sarima(results_list):\n",
    "    \"\"\"\n",
    "    Takes in a list of results dictionaries containing SARIMA params\n",
    "    and model performance metrics. Returns best model params and scores\n",
    "    for RMSE and AIC, in that order.\n",
    "    \n",
    "    results_list -- list of results dictionaries.\n",
    "    \"\"\"\n",
    "    # Converting list of model dicts to list of model lists for ease of sorting\n",
    "    scores_list = [[i['order'], \n",
    "                    i['seasonal_order'], \n",
    "                    i['rmse'], \n",
    "                    i['aic']] for i in results_list]\n",
    "    \n",
    "    # Sorting scores list by RMSE\n",
    "    sorted_by_rmse = sorted(scores_list, key = lambda x: x[2])\n",
    "    \n",
    "    # Top model by RMSE\n",
    "    top_rmse_model = sorted_by_rmse[0]\n",
    "    \n",
    "    # Sorting scores list by AIC\n",
    "    sorted_by_aic = sorted(scores_list, key = lambda x: x[3])\n",
    "    \n",
    "    # Top model by AIC\n",
    "    top_aic_model = sorted_by_aic[0]\n",
    "    \n",
    "    return [top_rmse_model, top_aic_model]"
   ]
  },
  {
   "cell_type": "code",
   "execution_count": 57,
   "metadata": {},
   "outputs": [
    {
     "data": {
      "text/plain": [
       "[[(2, 0, 1), (1, 1, 2, 12), 0.4011125196453833, 1108.548788846606],\n",
       " [(0, 1, 2), (2, 0, 2, 12), 0.4653599581316031, 1068.573681934056]]"
      ]
     },
     "execution_count": 57,
     "metadata": {},
     "output_type": "execute_result"
    }
   ],
   "source": [
    "get_best_sarima(results_list)"
   ]
  },
  {
   "cell_type": "markdown",
   "metadata": {},
   "source": [
    "## SARIMAX"
   ]
  },
  {
   "cell_type": "markdown",
   "metadata": {},
   "source": [
    "### Next step up is to add exogenous regressors"
   ]
  },
  {
   "cell_type": "code",
   "execution_count": 64,
   "metadata": {},
   "outputs": [],
   "source": [
    "# Declaring columns to use as exogenous regressors\n",
    "predictors = ['10_day_ma', '50_day_ma', '200_day_ma']"
   ]
  },
  {
   "cell_type": "code",
   "execution_count": 61,
   "metadata": {},
   "outputs": [],
   "source": [
    "# Selecting a testing dataframe from the list of dfs\n",
    "sarimax_df = df_list[0]"
   ]
  },
  {
   "cell_type": "code",
   "execution_count": 67,
   "metadata": {},
   "outputs": [],
   "source": [
    "# Creating df of endogenous regressors\n",
    "sarimax_endog = sarimax_df['close']\n",
    "\n",
    "# Creating df of exogenous regressors\n",
    "sarimax_exog = sarimax_df[predictors]"
   ]
  },
  {
   "cell_type": "code",
   "execution_count": 84,
   "metadata": {},
   "outputs": [],
   "source": [
    "# Endogenous regressors train/test split\n",
    "endog_train = sarimax_endog[:'2020-12-01']\n",
    "endog_test = sarimax_endog['2020-12-01':'2020-12-18']"
   ]
  },
  {
   "cell_type": "code",
   "execution_count": 85,
   "metadata": {},
   "outputs": [
    {
     "data": {
      "text/plain": [
       "datetime\n",
       "2020-12-01 06:00:00    12.29\n",
       "2020-12-02 06:00:00    12.41\n",
       "2020-12-03 06:00:00    13.16\n",
       "2020-12-04 06:00:00    13.10\n",
       "2020-12-07 06:00:00    12.91\n",
       "2020-12-08 06:00:00    13.08\n",
       "2020-12-09 06:00:00    13.04\n",
       "2020-12-10 06:00:00    12.64\n",
       "2020-12-11 06:00:00    12.42\n",
       "2020-12-14 06:00:00    12.33\n",
       "2020-12-15 06:00:00    12.62\n",
       "2020-12-16 06:00:00    12.52\n",
       "2020-12-17 06:00:00    12.07\n",
       "2020-12-18 06:00:00    11.95\n",
       "Name: close, dtype: float64"
      ]
     },
     "execution_count": 85,
     "metadata": {},
     "output_type": "execute_result"
    }
   ],
   "source": [
    "endog_test"
   ]
  },
  {
   "cell_type": "code",
   "execution_count": 86,
   "metadata": {},
   "outputs": [],
   "source": [
    "# Exogenous regressors train/test split\n",
    "exog_train = sarimax_exog[:'2020-12-01']\n",
    "exog_test = sarimax_exog['2020-12-01':'2020-12-18']"
   ]
  },
  {
   "cell_type": "code",
   "execution_count": 87,
   "metadata": {},
   "outputs": [
    {
     "data": {
      "text/html": [
       "<div>\n",
       "<style scoped>\n",
       "    .dataframe tbody tr th:only-of-type {\n",
       "        vertical-align: middle;\n",
       "    }\n",
       "\n",
       "    .dataframe tbody tr th {\n",
       "        vertical-align: top;\n",
       "    }\n",
       "\n",
       "    .dataframe thead th {\n",
       "        text-align: right;\n",
       "    }\n",
       "</style>\n",
       "<table border=\"1\" class=\"dataframe\">\n",
       "  <thead>\n",
       "    <tr style=\"text-align: right;\">\n",
       "      <th></th>\n",
       "      <th>10_day_ma</th>\n",
       "      <th>50_day_ma</th>\n",
       "      <th>200_day_ma</th>\n",
       "    </tr>\n",
       "    <tr>\n",
       "      <th>datetime</th>\n",
       "      <th></th>\n",
       "      <th></th>\n",
       "      <th></th>\n",
       "    </tr>\n",
       "  </thead>\n",
       "  <tbody>\n",
       "    <tr>\n",
       "      <th>2020-12-01 06:00:00</th>\n",
       "      <td>11.699897</td>\n",
       "      <td>10.507616</td>\n",
       "      <td>9.388734</td>\n",
       "    </tr>\n",
       "    <tr>\n",
       "      <th>2020-12-02 06:00:00</th>\n",
       "      <td>11.829007</td>\n",
       "      <td>10.582220</td>\n",
       "      <td>9.418815</td>\n",
       "    </tr>\n",
       "    <tr>\n",
       "      <th>2020-12-03 06:00:00</th>\n",
       "      <td>12.071006</td>\n",
       "      <td>10.683309</td>\n",
       "      <td>9.456064</td>\n",
       "    </tr>\n",
       "    <tr>\n",
       "      <th>2020-12-04 06:00:00</th>\n",
       "      <td>12.258095</td>\n",
       "      <td>10.778081</td>\n",
       "      <td>9.492345</td>\n",
       "    </tr>\n",
       "    <tr>\n",
       "      <th>2020-12-07 06:00:00</th>\n",
       "      <td>12.376624</td>\n",
       "      <td>10.861686</td>\n",
       "      <td>9.526373</td>\n",
       "    </tr>\n",
       "    <tr>\n",
       "      <th>2020-12-08 06:00:00</th>\n",
       "      <td>12.504510</td>\n",
       "      <td>10.948679</td>\n",
       "      <td>9.561754</td>\n",
       "    </tr>\n",
       "    <tr>\n",
       "      <th>2020-12-09 06:00:00</th>\n",
       "      <td>12.601872</td>\n",
       "      <td>11.030691</td>\n",
       "      <td>9.596384</td>\n",
       "    </tr>\n",
       "    <tr>\n",
       "      <th>2020-12-10 06:00:00</th>\n",
       "      <td>12.608804</td>\n",
       "      <td>11.093801</td>\n",
       "      <td>9.626687</td>\n",
       "    </tr>\n",
       "    <tr>\n",
       "      <th>2020-12-11 06:00:00</th>\n",
       "      <td>12.574476</td>\n",
       "      <td>11.145809</td>\n",
       "      <td>9.654498</td>\n",
       "    </tr>\n",
       "    <tr>\n",
       "      <th>2020-12-14 06:00:00</th>\n",
       "      <td>12.530026</td>\n",
       "      <td>11.192248</td>\n",
       "      <td>9.681135</td>\n",
       "    </tr>\n",
       "    <tr>\n",
       "      <th>2020-12-15 06:00:00</th>\n",
       "      <td>12.546385</td>\n",
       "      <td>11.248238</td>\n",
       "      <td>9.710395</td>\n",
       "    </tr>\n",
       "    <tr>\n",
       "      <th>2020-12-16 06:00:00</th>\n",
       "      <td>12.541588</td>\n",
       "      <td>11.298111</td>\n",
       "      <td>9.738367</td>\n",
       "    </tr>\n",
       "    <tr>\n",
       "      <th>2020-12-17 06:00:00</th>\n",
       "      <td>12.455844</td>\n",
       "      <td>11.328381</td>\n",
       "      <td>9.761581</td>\n",
       "    </tr>\n",
       "    <tr>\n",
       "      <th>2020-12-18 06:00:00</th>\n",
       "      <td>12.363873</td>\n",
       "      <td>11.352759</td>\n",
       "      <td>9.783368</td>\n",
       "    </tr>\n",
       "  </tbody>\n",
       "</table>\n",
       "</div>"
      ],
      "text/plain": [
       "                     10_day_ma  50_day_ma  200_day_ma\n",
       "datetime                                             \n",
       "2020-12-01 06:00:00  11.699897  10.507616    9.388734\n",
       "2020-12-02 06:00:00  11.829007  10.582220    9.418815\n",
       "2020-12-03 06:00:00  12.071006  10.683309    9.456064\n",
       "2020-12-04 06:00:00  12.258095  10.778081    9.492345\n",
       "2020-12-07 06:00:00  12.376624  10.861686    9.526373\n",
       "2020-12-08 06:00:00  12.504510  10.948679    9.561754\n",
       "2020-12-09 06:00:00  12.601872  11.030691    9.596384\n",
       "2020-12-10 06:00:00  12.608804  11.093801    9.626687\n",
       "2020-12-11 06:00:00  12.574476  11.145809    9.654498\n",
       "2020-12-14 06:00:00  12.530026  11.192248    9.681135\n",
       "2020-12-15 06:00:00  12.546385  11.248238    9.710395\n",
       "2020-12-16 06:00:00  12.541588  11.298111    9.738367\n",
       "2020-12-17 06:00:00  12.455844  11.328381    9.761581\n",
       "2020-12-18 06:00:00  12.363873  11.352759    9.783368"
      ]
     },
     "execution_count": 87,
     "metadata": {},
     "output_type": "execute_result"
    }
   ],
   "source": [
    "exog_test"
   ]
  },
  {
   "cell_type": "markdown",
   "metadata": {},
   "source": [
    "### Test Model"
   ]
  },
  {
   "cell_type": "code",
   "execution_count": 88,
   "metadata": {},
   "outputs": [],
   "source": [
    "# Instantiating SARIMA model\n",
    "sarimax = SARIMAX(endog = endog_train,\n",
    "                  exog = exog_train,\n",
    "                  order = (1, 1, 1),\n",
    "                  seasonal_order = (1, 1, 1, 12),\n",
    "                  enforce_stationarity = False,\n",
    "                  enforce_invertibility = False\n",
    "               )\n",
    "\n",
    "# Fitting SARIMAX to the training data\n",
    "fitted_sarimax = sarimax.fit()\n",
    "\n",
    "# Forecasting 14 days after training data\n",
    "sarimax_preds = fitted_sarimax.forecast(steps = 14, exog = exog_test)"
   ]
  },
  {
   "cell_type": "code",
   "execution_count": 89,
   "metadata": {},
   "outputs": [
    {
     "data": {
      "text/plain": [
       "<matplotlib.legend.Legend at 0x1dc2a7aa9a0>"
      ]
     },
     "execution_count": 89,
     "metadata": {},
     "output_type": "execute_result"
    },
    {
     "data": {
      "image/png": "[encoded data removed]",
      "text/plain": [
       "<Figure size 432x288 with 1 Axes>"
      ]
     },
     "metadata": {
      "needs_background": "light"
     },
     "output_type": "display_data"
    }
   ],
   "source": [
    "plt.plot(range(0,14), sarimax_preds, label = 'sarimax preds')\n",
    "plt.plot(range(0,14), endog_test[:14], label = 'true')\n",
    "plt.legend()"
   ]
  },
  {
   "cell_type": "code",
   "execution_count": 90,
   "metadata": {},
   "outputs": [
    {
     "data": {
      "text/plain": [
       "0.6346610300741182"
      ]
     },
     "execution_count": 90,
     "metadata": {},
     "output_type": "execute_result"
    }
   ],
   "source": [
    "sarimax_rmse = np.sqrt(mean_squared_error(endog_test[:14].values, sarimax_preds))\n",
    "sarimax_rmse"
   ]
  },
  {
   "cell_type": "markdown",
   "metadata": {},
   "source": [
    "### Gridsearched SARIMAX"
   ]
  },
  {
   "cell_type": "code",
   "execution_count": 91,
   "metadata": {},
   "outputs": [],
   "source": [
    "# Defining AR, I, MA, and S order components\n",
    "p = range(0,3) # AR\n",
    "d = range(0,2) # I\n",
    "q = range(0,3) # MA\n",
    "s = (4,12) # S\n",
    "# try 3 for s"
   ]
  },
  {
   "cell_type": "code",
   "execution_count": 92,
   "metadata": {},
   "outputs": [],
   "source": [
    "# Creating every combination of p, d, and q parameters\n",
    "pdq = itertools.product(p, d, q)\n",
    "\n",
    "# Converting from itertools product object to list\n",
    "pdq = list(pdq)"
   ]
  },
  {
   "cell_type": "code",
   "execution_count": 93,
   "metadata": {},
   "outputs": [
    {
     "data": {
      "text/plain": [
       "18"
      ]
     },
     "execution_count": 93,
     "metadata": {},
     "output_type": "execute_result"
    }
   ],
   "source": [
    "len(pdq)"
   ]
  },
  {
   "cell_type": "code",
   "execution_count": 94,
   "metadata": {},
   "outputs": [],
   "source": [
    "# Creating every combination of seasonal(s) p, d, and q parameters\n",
    "pdqs = itertools.product(p, d, q, s)\n",
    "\n",
    "# Converting from itertools product object to list\n",
    "pdqs = list(pdqs)"
   ]
  },
  {
   "cell_type": "code",
   "execution_count": 95,
   "metadata": {},
   "outputs": [
    {
     "data": {
      "text/plain": [
       "36"
      ]
     },
     "execution_count": 95,
     "metadata": {},
     "output_type": "execute_result"
    }
   ],
   "source": [
    "len(pdqs)"
   ]
  },
  {
   "cell_type": "code",
   "execution_count": 96,
   "metadata": {},
   "outputs": [
    {
     "data": {
      "text/plain": [
       "648"
      ]
     },
     "execution_count": 96,
     "metadata": {},
     "output_type": "execute_result"
    }
   ],
   "source": [
    "num_iterations = len(pdq)*len(pdqs)\n",
    "num_iterations"
   ]
  },
  {
   "cell_type": "code",
   "execution_count": 97,
   "metadata": {},
   "outputs": [],
   "source": [
    "# Instantiating a list of results dictionaries\n",
    "results_list = []\n",
    "\n",
    "# Instantiating fail cache\n",
    "fail_cache = []\n",
    "\n",
    "# Setting number of days to forecast forward\n",
    "n_days = 14\n",
    "\n",
    "# Looping through each set of parameters to find the best combination\n",
    "for o in pdq:\n",
    "    for so in pdqs:\n",
    "        try:\n",
    "            # Instantiating new dictionary of results and parameters for each gridsearched model\n",
    "            results_dict = {}\n",
    "\n",
    "            # Instantiating the SARIMA model\n",
    "            sarimax = SARIMAX(endog_train,\n",
    "                              exog_train,\n",
    "                              order = o, \n",
    "                              seasonal_order = so, \n",
    "                              enforce_stationarity = False,\n",
    "                              enforce_invertibility = False\n",
    "                   )\n",
    "\n",
    "            # Fitting the model\n",
    "            fitted_sarimax = sarimax.fit()\n",
    "            \n",
    "            # Forecasting 14 days after training data\n",
    "            sarimax_preds = fitted_sarimax.forecast(steps = n_days, exog = exog_test)\n",
    "\n",
    "            # Pulling AIC score from the model\n",
    "            aic = fitted_sarimax.aic\n",
    "            \n",
    "            # Calculating RMSE for forecasted values\n",
    "            rmse = np.sqrt(mean_squared_error(endog_test[:14].values, sarimax_preds))\n",
    "\n",
    "            # Assigning dictionary values of results and parameters\n",
    "            results_dict['order'] = o\n",
    "            results_dict['seasonal_order'] = so\n",
    "            results_dict['aic'] = aic\n",
    "            results_dict['rmse'] = rmse\n",
    "\n",
    "            # Adding each dictionary to the list of results dictionaries\n",
    "            results_list.append(results_dict) \n",
    "        \n",
    "        except:\n",
    "            fail_cache.append({'order': o,\n",
    "                               'seasonal_order': so\n",
    "                               })\n",
    "            continue"
   ]
  },
  {
   "cell_type": "code",
   "execution_count": 98,
   "metadata": {},
   "outputs": [
    {
     "data": {
      "text/plain": [
       "648"
      ]
     },
     "execution_count": 98,
     "metadata": {},
     "output_type": "execute_result"
    }
   ],
   "source": [
    "len(results_list)"
   ]
  },
  {
   "cell_type": "code",
   "execution_count": 103,
   "metadata": {},
   "outputs": [],
   "source": [
    "def get_best_time_series(results_list):\n",
    "    \"\"\"\n",
    "    Takes in a list of results dictionaries containing SARIMA params\n",
    "    and model performance metrics. Returns best model params and scores\n",
    "    for RMSE and AIC, in that order.\n",
    "    \n",
    "    results_list -- list of results dictionaries.\n",
    "    \"\"\"    \n",
    "    # Sorting scores list by RMSE\n",
    "    sorted_by_rmse = sorted(results_list, key = lambda x: x['rmse'])\n",
    "    \n",
    "    # Top model by RMSE\n",
    "    top_rmse_model = sorted_by_rmse[0]\n",
    "    \n",
    "    # Sorting scores list by AIC\n",
    "    sorted_by_aic = sorted(results_list, key = lambda x: x['aic'])\n",
    "    \n",
    "    # Top model by AIC\n",
    "    top_aic_model = sorted_by_aic[0]\n",
    "    \n",
    "    return [top_rmse_model, top_aic_model]"
   ]
  },
  {
   "cell_type": "code",
   "execution_count": 104,
   "metadata": {},
   "outputs": [
    {
     "data": {
      "text/plain": [
       "[{'order': (1, 0, 0),\n",
       "  'seasonal_order': (1, 1, 2, 12),\n",
       "  'aic': 757.8815399340098,\n",
       "  'rmse': 0.16989595011096956},\n",
       " {'order': (0, 1, 2),\n",
       "  'seasonal_order': (2, 0, 2, 12),\n",
       "  'aic': 715.4606542869146,\n",
       "  'rmse': 0.36926510650312055}]"
      ]
     },
     "execution_count": 104,
     "metadata": {},
     "output_type": "execute_result"
    }
   ],
   "source": [
    "get_best_time_series(results_list)"
   ]
  },
  {
   "cell_type": "code",
   "execution_count": null,
   "metadata": {},
   "outputs": [],
   "source": []
  },
  {
   "cell_type": "code",
   "execution_count": null,
   "metadata": {},
   "outputs": [],
   "source": []
  },
  {
   "cell_type": "code",
   "execution_count": null,
   "metadata": {},
   "outputs": [],
   "source": []
  },
  {
   "cell_type": "code",
   "execution_count": null,
   "metadata": {},
   "outputs": [],
   "source": []
  },
  {
   "cell_type": "code",
   "execution_count": null,
   "metadata": {},
   "outputs": [],
   "source": []
  },
  {
   "cell_type": "code",
   "execution_count": null,
   "metadata": {},
   "outputs": [],
   "source": []
  }
 ],
 "metadata": {
  "kernelspec": {
   "display_name": "learn-env",
   "language": "python",
   "name": "learn-env"
  },
  "language_info": {
   "codemirror_mode": {
    "name": "ipython",
    "version": 3
   },
   "file_extension": ".py",
   "mimetype": "text/x-python",
   "name": "python",
   "nbconvert_exporter": "python",
   "pygments_lexer": "ipython3",
   "version": "3.8.5"
  }
 },
 "nbformat": 4,
 "nbformat_minor": 4
}
