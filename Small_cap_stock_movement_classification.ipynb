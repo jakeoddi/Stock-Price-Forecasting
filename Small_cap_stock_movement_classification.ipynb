{
 "cells": [
  {
   "cell_type": "markdown",
   "metadata": {},
   "source": [
    "# Small-Cap Stock-Price-Movement Prediction"
   ]
  },
  {
   "cell_type": "markdown",
   "metadata": {},
   "source": [
    "#### Author: Jake Oddi"
   ]
  },
  {
   "cell_type": "code",
   "execution_count": 54,
   "metadata": {},
   "outputs": [
    {
     "name": "stdout",
     "output_type": "stream",
     "text": [
      "The autoreload extension is already loaded. To reload it, use:\n",
      "  %reload_ext autoreload\n"
     ]
    }
   ],
   "source": [
    "import pandas as pd\n",
    "import numpy as np\n",
    "import matplotlib.pyplot as plt\n",
    "%matplotlib inline\n",
    "import seaborn as sns\n",
    "from td.client import TDClient\n",
    "import requests\n",
    "import json\n",
    "import time\n",
    "from config import ameritrade_credentials\n",
    "# import price_classification_code.functions as fn\n",
    "from sklearn.preprocessing import StandardScaler\n",
    "from sklearn.model_selection import GridSearchCV\n",
    "from sklearn.metrics import accuracy_score, f1_score, precision_score, recall_score\n",
    "from sklearn.neighbors import KNeighborsClassifier\n",
    "from sklearn.ensemble import RandomForestClassifier\n",
    "from statsmodels.graphics.tsaplots import plot_acf, plot_pacf\n",
    "from statsmodels.tsa.arima_model import ARMA\n",
    "import statsmodels.api as sm\n",
    "import warnings\n",
    "warnings.filterwarnings('ignore')\n",
    "%load_ext autoreload\n",
    "%autoreload 2"
   ]
  },
  {
   "cell_type": "code",
   "execution_count": 2,
   "metadata": {},
   "outputs": [],
   "source": [
    "np.random.seed(seed = 1)"
   ]
  },
  {
   "cell_type": "markdown",
   "metadata": {},
   "source": [
    "## Overview"
   ]
  },
  {
   "cell_type": "markdown",
   "metadata": {},
   "source": [
    "This project applies classification methods to the daily price data of stocks with market capitalizations between \\\\$75M and \\\\$1B from the past three years to predict intraday price movements. Instances where the closing price exceeds the opening price are considered positive cases, and instances where the opposite is true are considered negative."
   ]
  },
  {
   "cell_type": "markdown",
   "metadata": {},
   "source": [
    "## Business Problem"
   ]
  },
  {
   "cell_type": "markdown",
   "metadata": {},
   "source": [
    "Quantitative analysis of stocks has become increasingly popular over the past decades, to the point where it is ubiqiutous among insitutional investors. Among individual investors, however, it is less widespread. This is due to a general lack of the technical skills required to perform such analysis. I ran into this issue myself when constructing my portfolio. I predict an easy-to-use, open-source model would serve to benefit this population. \n",
    "\n",
    "My analysis focuses on small-cap companies because they typically see lower trading volumes, and therefore have more inefficiencies that can be exploited and less noisey trading prices. Conversely, this makes trades harder to execute at desirable prices. \n",
    "\n",
    "Predictions of price-movement-direction are nowhere near perfect, and should only be used in conjunction with additional information."
   ]
  },
  {
   "cell_type": "markdown",
   "metadata": {},
   "source": [
    "## Data Understanding"
   ]
  },
  {
   "cell_type": "markdown",
   "metadata": {},
   "source": [
    "### Data Acquisition"
   ]
  },
  {
   "cell_type": "markdown",
   "metadata": {},
   "source": [
    "To decide which companies to model, I employed a stock screener from [TD Ameritrade](https://research.tdameritrade.com/grid/public/screener/stocks/overview.asp) to select stocks with market caps within my desired range. This yielded 8027 results. I filtered this down to 3055 results by removing companies worth less than \\\\$75M, as many companies below that threshold had such low trading volumnes that they were not conducive to modeling. For the sake of ease-of-use and proof-of-concept, I filtered this down further by randomly sampling 500. I then gathered daily price data from the past three years using [TD Ameritrade's Price History API](https://developer.tdameritrade.com/price-history/apis). Of these 500, the API failed for 157, leaving 343. Of the remaining, I selected only those with 755 days of data to use in my analysis, leaving me with 160 stocks. "
   ]
  },
  {
   "cell_type": "code",
   "execution_count": 3,
   "metadata": {},
   "outputs": [
    {
     "data": {
      "text/html": [
       "<div>\n",
       "<style scoped>\n",
       "    .dataframe tbody tr th:only-of-type {\n",
       "        vertical-align: middle;\n",
       "    }\n",
       "\n",
       "    .dataframe tbody tr th {\n",
       "        vertical-align: top;\n",
       "    }\n",
       "\n",
       "    .dataframe thead th {\n",
       "        text-align: right;\n",
       "    }\n",
       "</style>\n",
       "<table border=\"1\" class=\"dataframe\">\n",
       "  <thead>\n",
       "    <tr style=\"text-align: right;\">\n",
       "      <th></th>\n",
       "      <th>Symbol</th>\n",
       "      <th>Company Name</th>\n",
       "      <th>Market Capitalization</th>\n",
       "      <th>Sector</th>\n",
       "      <th>Industry</th>\n",
       "      <th>Dividend Yield</th>\n",
       "      <th>Beta</th>\n",
       "    </tr>\n",
       "  </thead>\n",
       "  <tbody>\n",
       "    <tr>\n",
       "      <th>0</th>\n",
       "      <td>AAAIF</td>\n",
       "      <td>ALTERNATIVE INVESTMENT TRUST UNITS</td>\n",
       "      <td>2.856715e+07</td>\n",
       "      <td>NaN</td>\n",
       "      <td>NaN</td>\n",
       "      <td>--</td>\n",
       "      <td>+0.2</td>\n",
       "    </tr>\n",
       "    <tr>\n",
       "      <th>1</th>\n",
       "      <td>AACG</td>\n",
       "      <td>ATA Creativity Global(ADR)</td>\n",
       "      <td>3.713346e+07</td>\n",
       "      <td>Consumer Discretionary</td>\n",
       "      <td>Diversified Consumer Services</td>\n",
       "      <td>--</td>\n",
       "      <td>+1.7</td>\n",
       "    </tr>\n",
       "    <tr>\n",
       "      <th>2</th>\n",
       "      <td>AACH</td>\n",
       "      <td>AAC Holdings Inc</td>\n",
       "      <td>4.025300e+05</td>\n",
       "      <td>Health Care</td>\n",
       "      <td>Health Care Providers &amp; Services</td>\n",
       "      <td>--</td>\n",
       "      <td>+2.7</td>\n",
       "    </tr>\n",
       "    <tr>\n",
       "      <th>3</th>\n",
       "      <td>AACQ</td>\n",
       "      <td>Artius Acquisition Inc</td>\n",
       "      <td>9.341573e+08</td>\n",
       "      <td>NaN</td>\n",
       "      <td>NaN</td>\n",
       "      <td>--</td>\n",
       "      <td>--</td>\n",
       "    </tr>\n",
       "    <tr>\n",
       "      <th>4</th>\n",
       "      <td>AACS</td>\n",
       "      <td>American Commerce Solutions, Inc.</td>\n",
       "      <td>6.946900e+05</td>\n",
       "      <td>Industrials</td>\n",
       "      <td>Road &amp; Rail</td>\n",
       "      <td>--</td>\n",
       "      <td>-1.0</td>\n",
       "    </tr>\n",
       "  </tbody>\n",
       "</table>\n",
       "</div>"
      ],
      "text/plain": [
       "  Symbol                        Company Name  Market Capitalization  \\\n",
       "0  AAAIF  ALTERNATIVE INVESTMENT TRUST UNITS           2.856715e+07   \n",
       "1   AACG          ATA Creativity Global(ADR)           3.713346e+07   \n",
       "2   AACH                    AAC Holdings Inc           4.025300e+05   \n",
       "3   AACQ              Artius Acquisition Inc           9.341573e+08   \n",
       "4   AACS   American Commerce Solutions, Inc.           6.946900e+05   \n",
       "\n",
       "                   Sector                          Industry Dividend Yield  \\\n",
       "0                     NaN                               NaN             --   \n",
       "1  Consumer Discretionary     Diversified Consumer Services             --   \n",
       "2             Health Care  Health Care Providers & Services             --   \n",
       "3                     NaN                               NaN             --   \n",
       "4             Industrials                       Road & Rail             --   \n",
       "\n",
       "   Beta  \n",
       "0  +0.2  \n",
       "1  +1.7  \n",
       "2  +2.7  \n",
       "3    --  \n",
       "4  -1.0  "
      ]
     },
     "execution_count": 3,
     "metadata": {},
     "output_type": "execute_result"
    }
   ],
   "source": [
    "# Read in the screener\n",
    "screen = pd.read_csv('./data./ameritrade_stock_screener.csv', header = 0)\n",
    "\n",
    "# Take a first look\n",
    "screen.head()"
   ]
  },
  {
   "cell_type": "markdown",
   "metadata": {},
   "source": [
    "#### Screener Cleaning"
   ]
  },
  {
   "cell_type": "code",
   "execution_count": 4,
   "metadata": {},
   "outputs": [],
   "source": [
    "# Rename screener columns\n",
    "screen.columns = ['ticker', 'company', 'market_cap', 'sector', 'industry', 'dividend_yield', 'beta']\n",
    "\n",
    "# Screening only for companies worth > $75M\n",
    "screen = screen[screen['market_cap'] >= 75000000]"
   ]
  },
  {
   "cell_type": "markdown",
   "metadata": {},
   "source": [
    "#### Selection"
   ]
  },
  {
   "cell_type": "code",
   "execution_count": 5,
   "metadata": {},
   "outputs": [],
   "source": [
    "# Instantiate a list of 500 random integers for selection of df indices from the screener\n",
    "rand_list = np.random.randint(0, screen.shape[0], 500)\n",
    "\n",
    "# Filter the screener using the list of random indices\n",
    "filtered_screen = screen.iloc[rand_list]\n",
    "\n",
    "# Create a list of the tickers of all stocks selected by the filter\n",
    "ticker_list = filtered_screen['ticker'].values"
   ]
  },
  {
   "cell_type": "markdown",
   "metadata": {},
   "source": [
    "#### API Call - Configuration"
   ]
  },
  {
   "cell_type": "code",
   "execution_count": 50,
   "metadata": {},
   "outputs": [],
   "source": [
    "# Import personal client ID\n",
    "client_id = ameritrade_credentials.consumer_key\n",
    "\n",
    "# Set payload params\n",
    "period = '3'\n",
    "period_type = 'year'\n",
    "frequency = '1'\n",
    "frequency_type = 'daily'\n",
    "start_date = '1512172799'\n",
    "end_date = '1606867199'\n",
    "\n",
    "# Define payload\n",
    "payload = {'apikey': client_id,\n",
    "           'periodType': period_type,\n",
    "           'frequencyType': frequency_type,\n",
    "           'frequency': frequency,\n",
    "           'period': period,\n",
    "#            'endDate': end_date,\n",
    "#            'startDate': start_date,\n",
    "           'needExtendedHoursData': 'false'\n",
    "          }"
   ]
  },
  {
   "cell_type": "markdown",
   "metadata": {},
   "source": [
    "#### API Call"
   ]
  },
  {
   "cell_type": "code",
   "execution_count": 11,
   "metadata": {},
   "outputs": [],
   "source": [
    "def get_data_from_ameritrade(ticker_list, payload):\n",
    "    \"\"\"\n",
    "    Takes in list of tickers and payload and returns complete dataframe with all \n",
    "    tickers and prices.\n",
    "    \n",
    "    ticker_list -- array of strings containing n number of tickers\n",
    "    payload -- dictionary containing parameters for API call\n",
    "    \"\"\"\n",
    "    df_list = []\n",
    "    fail_cache = []\n",
    "    payload = payload\n",
    "    for ticker in ticker_list:\n",
    "        # Define endpoint\n",
    "        endpoint = r'https://api.tdameritrade.com/v1/marketdata/{}/pricehistory'.format(ticker)\n",
    "        \n",
    "        try:\n",
    "            # Make Request\n",
    "            content = requests.get(url = endpoint, params = payload)\n",
    "\n",
    "            # Convert to dataframe\n",
    "            data = content.json()\n",
    "            data = pd.DataFrame(data = data['candles'])\n",
    "            data['ticker'] = ticker\n",
    "\n",
    "            # Append to list of dataframes\n",
    "            df_list.append(data)\n",
    "            \n",
    "        except:\n",
    "            # Append problematic ticker to list of failed tickers\n",
    "            fail_cache.append(ticker)\n",
    "            continue\n",
    "    \n",
    "    return df_list, fail_cache"
   ]
  },
  {
   "cell_type": "code",
   "execution_count": 51,
   "metadata": {},
   "outputs": [],
   "source": [
    "# A list of dfs is instantiated, where each stock's data is stored in a dataframe\n",
    "df_list, fail_cache = get_data_from_ameritrade(ticker_list, payload)"
   ]
  },
  {
   "cell_type": "code",
   "execution_count": 52,
   "metadata": {},
   "outputs": [
    {
     "name": "stdout",
     "output_type": "stream",
     "text": [
      "Length of df_list: 344\n",
      "Length of fail_cache 156\n"
     ]
    }
   ],
   "source": [
    "print('Length of df_list:', len(df_list))\n",
    "print('Length of fail_cache', len(fail_cache))"
   ]
  },
  {
   "cell_type": "markdown",
   "metadata": {},
   "source": [
    "#### Final Filtering"
   ]
  },
  {
   "cell_type": "markdown",
   "metadata": {},
   "source": [
    "The last step in the filtering process cuts the number of stocks down to 160."
   ]
  },
  {
   "cell_type": "code",
   "execution_count": 55,
   "metadata": {},
   "outputs": [],
   "source": [
    "# Filtering only for stocks with 755 days of price data\n",
    "df_list = list(filter(lambda x: x.shape[0] >= 755, df_list))"
   ]
  },
  {
   "cell_type": "code",
   "execution_count": 56,
   "metadata": {},
   "outputs": [
    {
     "data": {
      "text/plain": [
       "179"
      ]
     },
     "execution_count": 56,
     "metadata": {},
     "output_type": "execute_result"
    }
   ],
   "source": [
    "len(df_list)"
   ]
  },
  {
   "cell_type": "markdown",
   "metadata": {},
   "source": [
    "### Understanding"
   ]
  },
  {
   "cell_type": "markdown",
   "metadata": {},
   "source": [
    "The API returned a dataframe with the following columns built in for each stock: opening price, daily high, daily low, closing price, datetime, volume, and ticker."
   ]
  },
  {
   "cell_type": "code",
   "execution_count": 57,
   "metadata": {},
   "outputs": [
    {
     "data": {
      "text/html": [
       "<div>\n",
       "<style scoped>\n",
       "    .dataframe tbody tr th:only-of-type {\n",
       "        vertical-align: middle;\n",
       "    }\n",
       "\n",
       "    .dataframe tbody tr th {\n",
       "        vertical-align: top;\n",
       "    }\n",
       "\n",
       "    .dataframe thead th {\n",
       "        text-align: right;\n",
       "    }\n",
       "</style>\n",
       "<table border=\"1\" class=\"dataframe\">\n",
       "  <thead>\n",
       "    <tr style=\"text-align: right;\">\n",
       "      <th></th>\n",
       "      <th>open</th>\n",
       "      <th>high</th>\n",
       "      <th>low</th>\n",
       "      <th>close</th>\n",
       "      <th>volume</th>\n",
       "      <th>datetime</th>\n",
       "      <th>ticker</th>\n",
       "    </tr>\n",
       "  </thead>\n",
       "  <tbody>\n",
       "    <tr>\n",
       "      <th>0</th>\n",
       "      <td>19.15</td>\n",
       "      <td>19.40</td>\n",
       "      <td>18.900</td>\n",
       "      <td>19.30</td>\n",
       "      <td>207587</td>\n",
       "      <td>1513836000000</td>\n",
       "      <td>FRGI</td>\n",
       "    </tr>\n",
       "    <tr>\n",
       "      <th>1</th>\n",
       "      <td>19.35</td>\n",
       "      <td>19.40</td>\n",
       "      <td>19.025</td>\n",
       "      <td>19.25</td>\n",
       "      <td>254137</td>\n",
       "      <td>1513922400000</td>\n",
       "      <td>FRGI</td>\n",
       "    </tr>\n",
       "    <tr>\n",
       "      <th>2</th>\n",
       "      <td>19.25</td>\n",
       "      <td>19.45</td>\n",
       "      <td>19.050</td>\n",
       "      <td>19.30</td>\n",
       "      <td>115539</td>\n",
       "      <td>1514268000000</td>\n",
       "      <td>FRGI</td>\n",
       "    </tr>\n",
       "    <tr>\n",
       "      <th>3</th>\n",
       "      <td>19.35</td>\n",
       "      <td>19.35</td>\n",
       "      <td>18.900</td>\n",
       "      <td>19.10</td>\n",
       "      <td>222243</td>\n",
       "      <td>1514354400000</td>\n",
       "      <td>FRGI</td>\n",
       "    </tr>\n",
       "    <tr>\n",
       "      <th>4</th>\n",
       "      <td>19.10</td>\n",
       "      <td>19.10</td>\n",
       "      <td>18.650</td>\n",
       "      <td>18.85</td>\n",
       "      <td>154171</td>\n",
       "      <td>1514440800000</td>\n",
       "      <td>FRGI</td>\n",
       "    </tr>\n",
       "  </tbody>\n",
       "</table>\n",
       "</div>"
      ],
      "text/plain": [
       "    open   high     low  close  volume       datetime ticker\n",
       "0  19.15  19.40  18.900  19.30  207587  1513836000000   FRGI\n",
       "1  19.35  19.40  19.025  19.25  254137  1513922400000   FRGI\n",
       "2  19.25  19.45  19.050  19.30  115539  1514268000000   FRGI\n",
       "3  19.35  19.35  18.900  19.10  222243  1514354400000   FRGI\n",
       "4  19.10  19.10  18.650  18.85  154171  1514440800000   FRGI"
      ]
     },
     "execution_count": 57,
     "metadata": {},
     "output_type": "execute_result"
    }
   ],
   "source": [
    "df_list[0].head()"
   ]
  },
  {
   "cell_type": "markdown",
   "metadata": {},
   "source": [
    "## Cleaning"
   ]
  },
  {
   "cell_type": "markdown",
   "metadata": {},
   "source": [
    "The data arrives quite clean. The only changes to be made are to the datetimes, which arrive in the unix format and need to be converted to a regular datetime, then set as the index. "
   ]
  },
  {
   "cell_type": "code",
   "execution_count": 58,
   "metadata": {},
   "outputs": [],
   "source": [
    "def clean_dates(df_list):\n",
    "    \"\"\"\n",
    "    Takes in a list of dfs and cleans the dates for each df.\n",
    "    \n",
    "    df_list -- list of dataframes\n",
    "    \"\"\"\n",
    "    for df in df_list:\n",
    "        # Convert from unix to year month day format\n",
    "        df['datetime'] = pd.to_datetime(df['datetime'], unit = 'ms')\n",
    "\n",
    "        # Set datetime as index\n",
    "        df.set_index(df['datetime'], inplace = True)\n",
    "\n",
    "        # Drop original datetime column\n",
    "        df.drop(columns = 'datetime', inplace = True)\n",
    "        \n",
    "    return df_list"
   ]
  },
  {
   "cell_type": "code",
   "execution_count": 59,
   "metadata": {},
   "outputs": [],
   "source": [
    "df_list = clean_dates(df_list)"
   ]
  },
  {
   "cell_type": "markdown",
   "metadata": {},
   "source": [
    "### A First Look"
   ]
  },
  {
   "cell_type": "markdown",
   "metadata": {},
   "source": [
    "For the purpose of examining all the stocks in the dataset, I need concetanate them all into one dataframe."
   ]
  },
  {
   "cell_type": "code",
   "execution_count": 19,
   "metadata": {},
   "outputs": [
    {
     "data": {
      "text/plain": [
       "(147411, 6)"
      ]
     },
     "execution_count": 19,
     "metadata": {},
     "output_type": "execute_result"
    }
   ],
   "source": [
    "# Concatenating all the dfs in df_list\n",
    "df_joined = pd.concat(df_list)\n",
    "\n",
    "# Examining Shape\n",
    "df_joined.shape"
   ]
  },
  {
   "cell_type": "code",
   "execution_count": 20,
   "metadata": {},
   "outputs": [
    {
     "data": {
      "image/png": "[encoded data removed]",
      "text/plain": [
       "<Figure size 720x504 with 1 Axes>"
      ]
     },
     "metadata": {
      "needs_background": "light"
     },
     "output_type": "display_data"
    }
   ],
   "source": [
    "# Grouping by date and mean closing price accross all stocks\n",
    "date_close_gb = df_joined.groupby(df_joined.index)['close'].mean()\n",
    "\n",
    "# Assigning x and y variables so they can be graphed\n",
    "x = date_close_gb.keys()\n",
    "y = date_close_gb.values\n",
    "\n",
    "# Visualizing\n",
    "fig, ax = plt.subplots(figsize = (10,7))\n",
    "sns.lineplot(x = x, y = y)\n",
    "ax.set(xlabel = 'Date', \n",
    "       ylabel = 'Mean Closing Price ($)', \n",
    "       title = \"160 Small-Cap Stocks' Mean Closing Prices Dec. 17, 2017 - Dec. 17, 2020\")\n",
    "plt.show()"
   ]
  },
  {
   "cell_type": "markdown",
   "metadata": {},
   "source": [
    "As shown in the plot above, the average closing price of small cap stocks has been in a downward trend since year-end 2017, falling sharply around March 2020 due to the Coronavirus pandemic and its economic impact, failing to fully recover by December 2020. The trend is much more negative than the overall market, which rose consistently until March 2020, where it fell but proceeded to exceed pre-Covid levels by December 2020. "
   ]
  },
  {
   "cell_type": "markdown",
   "metadata": {},
   "source": [
    "## Feature Engineering"
   ]
  },
  {
   "cell_type": "code",
   "execution_count": 21,
   "metadata": {},
   "outputs": [],
   "source": [
    "def create_intra_clf_target(df_list):\n",
    "    \"\"\"\n",
    "    Takes in list of dfs and creates target variable for each depending\n",
    "    on if the closing price for each day exceeds the opening price. If the\n",
    "    closing price exceeds the opening price, target = 1.\n",
    "    \n",
    "    df_list -- list of dfs\n",
    "    \"\"\"\n",
    "    for df in df_list:\n",
    "        df['intra_clf_target'] = 0\n",
    "        for i in range(len(df)):\n",
    "            \n",
    "            if df['open'][i] < df['close'][i]:\n",
    "                df['intra_clf_target'][i] = 1\n",
    "            \n",
    "            elif df['open'][i] > df['close'][i]:\n",
    "                df['intra_clf_target'][i] = 0\n",
    "    \n",
    "            elif df['open'][i] == df['close'][i]:\n",
    "                df['intra_clf_target'][i] = 2\n",
    "    \n",
    "    return df_list"
   ]
  },
  {
   "cell_type": "markdown",
   "metadata": {},
   "source": [
    "The first feature I engineered was my target variable. The target signifies whether a stock's closing price for one day exceeds its opening price. If this is the case, the target variable = 1. If the opposite is true, wherein the stock closes lower than it opened, the target variable = 0. If the closing and opening prices are exactly the same, the target variable = 2."
   ]
  },
  {
   "cell_type": "code",
   "execution_count": 60,
   "metadata": {},
   "outputs": [],
   "source": [
    "df_list = create_intra_clf_target(df_list)"
   ]
  },
  {
   "cell_type": "code",
   "execution_count": 61,
   "metadata": {},
   "outputs": [
    {
     "data": {
      "image/png": "[encoded data removed]",
      "text/plain": [
       "<Figure size 720x504 with 1 Axes>"
      ]
     },
     "metadata": {
      "needs_background": "light"
     },
     "output_type": "display_data"
    }
   ],
   "source": [
    "# Concatenating again after target variables have been created\n",
    "df_joined_2 = pd.concat(df_list)\n",
    "\n",
    "# Examining value counts of target variables\n",
    "target_counts = df_joined_2['intra_clf_target'].value_counts()\n",
    "\n",
    "# Assigning x and y variables for barplot\n",
    "x = target_counts.keys()\n",
    "y = target_counts.values\n",
    "\n",
    "# Visualizing\n",
    "fig, ax = plt.subplots(figsize = (10,7))\n",
    "sns.barplot(x = x, y = y)\n",
    "ax.set(xlabel = 'Target Variable', \n",
    "       ylabel = 'Frequency', \n",
    "       title = \"Frequency of Target Variables\")\n",
    "sns.barplot(x = x, y = y)\n",
    "plt.show()"
   ]
  },
  {
   "cell_type": "markdown",
   "metadata": {},
   "source": [
    "As shown in the barplot above, there are relatively equivalent amounts of positive and negative cases, but high imbalance when compared to the neither case. As a result, I will use F1-Score as my evaluation metric."
   ]
  },
  {
   "cell_type": "code",
   "execution_count": 24,
   "metadata": {},
   "outputs": [],
   "source": [
    "def create_moving_avs(df_list):\n",
    "    \"\"\"\n",
    "    Takes in list of dfs, creates three different moving average \n",
    "    features - 10, 50, and 200 days.\n",
    "    \n",
    "    df_list -- list of dfs\n",
    "    \"\"\"\n",
    "    for df in df_list:\n",
    "        df['10_day_ma'] = df['close'].ewm(span = 10).mean()\n",
    "        df['50_day_ma'] = df['close'].ewm(span = 50).mean()\n",
    "        df['200_day_ma'] = df['close'].ewm(span = 200).mean()\n",
    "     \n",
    "    return df_list"
   ]
  },
  {
   "cell_type": "markdown",
   "metadata": {},
   "source": [
    "I know that moving averages are important technical indicators for price movement, so the next features I created served to account for both long and short-term moving averages. I created features for a 10, 50, and 200 day moving average."
   ]
  },
  {
   "cell_type": "code",
   "execution_count": 62,
   "metadata": {},
   "outputs": [],
   "source": [
    "# Takes in list of dfs, creates three different moving average features - 10, 50, and 200 days.\n",
    "df_list = create_moving_avs(df_list)"
   ]
  },
  {
   "cell_type": "code",
   "execution_count": 63,
   "metadata": {},
   "outputs": [
    {
     "data": {
      "image/png": "[encoded data removed]",
      "text/plain": [
       "<Figure size 720x504 with 1 Axes>"
      ]
     },
     "metadata": {
      "needs_background": "light"
     },
     "output_type": "display_data"
    }
   ],
   "source": [
    "# Concatenating again after moving averages have been created\n",
    "df_joined_3 = pd.concat(df_list)\n",
    "\n",
    "# Grouping by date and mean closing price accross all stocks\n",
    "date_close_gb = df_joined.groupby(df_joined.index)['close'].mean()\n",
    "\n",
    "ten_day_gb = df_joined_3.groupby(df_joined_3.index)['10_day_ma'].mean()\n",
    "fifty_day_gb = df_joined_3.groupby(df_joined_3.index)['50_day_ma'].mean()\n",
    "twohundred_day_gb = df_joined_3.groupby(df_joined_3.index)['200_day_ma'].mean()\n",
    "\n",
    "# Assigning x1 and y1 to date and closing price\n",
    "x1 = date_close_gb.keys()\n",
    "y1 = date_close_gb.values\n",
    "\n",
    "# Assigning x2 and y2 to the ten day moving average\n",
    "x2 = ten_day_gb.keys()\n",
    "y2 = ten_day_gb.values\n",
    "\n",
    "# Assigning x3 and y3 to the fifty day moving average\n",
    "x3 = fifty_day_gb.keys()\n",
    "y3 = fifty_day_gb.values\n",
    "\n",
    "# Assigning x4 and y4 to the two hundred day moving average\n",
    "x4 = twohundred_day_gb.keys()\n",
    "y4 = twohundred_day_gb.values\n",
    "\n",
    "\n",
    "# Visualizing\n",
    "fig, ax = plt.subplots(figsize = (10,7))\n",
    "sns.lineplot(x = x1, y = y1, label = 'Mean Closing Price')\n",
    "sns.lineplot(x = x2, y = y2, label = '10 Day Moving Average')\n",
    "sns.lineplot(x = x3, y = y3, label = '50 Day Moving Average')\n",
    "sns.lineplot(x = x4, y = y4, label = '200 Day Moving Average')\n",
    "ax.set(xlabel = 'Date', \n",
    "       ylabel = 'Mean Closing Price ($)', \n",
    "       title = \"160 Small-Cap Stocks' Mean Closing Prices Dec. 17, 2017 - Dec. 17, 2020\")\n",
    "plt.show()"
   ]
  },
  {
   "cell_type": "markdown",
   "metadata": {},
   "source": [
    "The various moving averages are shown in comparison to the mean closing prices for each day. As one would expect, the 200 day average is much less affected by small price movements, as opposed to the 10 day average, which follows the mean closing price very closely.\n",
    "\n",
    "An important concept in quantitative finance is <b>Mean Reversion</b>, which holds that stocks tend to revert to the moving average of their prices."
   ]
  },
  {
   "cell_type": "code",
   "execution_count": 27,
   "metadata": {},
   "outputs": [],
   "source": [
    "def create_pct_price_changes(df_list):\n",
    "    \"\"\"\n",
    "    Takes in a list of dfs and creates price change (%) features with various\n",
    "    intervals.\n",
    "    Calculates % price changes relative to the day before observed date to \n",
    "    prediction using unknown data.\n",
    "    \n",
    "    df_list -- list of dfs\n",
    "    \"\"\"\n",
    "    # Creating i_day_pct_change columns in each df\n",
    "    for df in df_list:\n",
    "        df['1_day_pct_change'] = 0\n",
    "        df['2_day_pct_change'] = 0\n",
    "        df['3_day_pct_change'] = 0\n",
    "        df['4_day_pct_change'] = 0\n",
    "   \n",
    "        # Calculating ith day price change for each col\n",
    "        for i in range(5, df.shape[0]):\n",
    "            # Difference in closing prices between the previous day and the previous day\n",
    "            diff = float(df['close'][i-1]) - float(df['close'][i-2])\n",
    "            pct = (float(diff)/float(df['close'][i-2])) * 100\n",
    "            df['1_day_pct_change'][i] = pct\n",
    "            \n",
    "            # Difference in closing prices between the previous day and two days prior\n",
    "            diff = float(df['close'][i-1]) - float(df['close'][i-3])\n",
    "            pct = (float(diff)/float(df['close'][i-3])) * 100\n",
    "            df['2_day_pct_change'][i] = pct\n",
    "            \n",
    "            # Difference in closing prices between the previous day and three days prior\n",
    "            diff = float(df['close'][i-1]) - float(df['close'][i-4])\n",
    "            pct = (float(diff)/float(df['close'][i-4])) * 100\n",
    "            df['3_day_pct_change'][i] = pct\n",
    "            \n",
    "            # Difference in closing prices between the previous day and four days prior\n",
    "            diff = float(df['close'][i-1]) - float(df['close'][i-5])\n",
    "            pct = (float(diff)/float(df['close'][i-5])) * 100\n",
    "            df['4_day_pct_change'][i] = pct\n",
    "    \n",
    "    return df_list"
   ]
  },
  {
   "cell_type": "markdown",
   "metadata": {},
   "source": [
    "The following function creates price change (%) features with intervals ranging from one to four days for each df.\n",
    "It calculates % price changes relative to the day before the observed date in order to avoid prediction using unknown data."
   ]
  },
  {
   "cell_type": "code",
   "execution_count": 64,
   "metadata": {},
   "outputs": [],
   "source": [
    "df_list = create_pct_price_changes(df_list)"
   ]
  },
  {
   "cell_type": "code",
   "execution_count": 29,
   "metadata": {},
   "outputs": [],
   "source": [
    "def create_intra_clf_target(df_list):\n",
    "    \"\"\"\n",
    "    Takes in list of dfs and creates target variable for each depending\n",
    "    on if the closing price for each day exceeds the opening price. If the\n",
    "    closing price exceeds the opening price, target = 1.\n",
    "    \n",
    "    df_list -- list of dfs\n",
    "    \"\"\"\n",
    "    for df in df_list:\n",
    "        df['intra_clf_target'] = 0\n",
    "        for i in range(len(df)):\n",
    "            \n",
    "            if df['open'][i] < df['close'][i]:\n",
    "                df['intra_clf_target'][i] = 1\n",
    "            \n",
    "            elif df['open'][i] > df['close'][i]:\n",
    "                df['intra_clf_target'][i] = 0\n",
    "    \n",
    "            elif df['open'][i] == df['close'][i]:\n",
    "                df['intra_clf_target'][i] = 2\n",
    "    \n",
    "    return df_list"
   ]
  },
  {
   "cell_type": "code",
   "execution_count": 65,
   "metadata": {},
   "outputs": [],
   "source": [
    "df_list = create_intra_clf_target(df_list)"
   ]
  },
  {
   "cell_type": "markdown",
   "metadata": {},
   "source": [
    "Below is an example of a dataframe with all features engineered:"
   ]
  },
  {
   "cell_type": "code",
   "execution_count": 31,
   "metadata": {},
   "outputs": [
    {
     "data": {
      "text/html": [
       "<div>\n",
       "<style scoped>\n",
       "    .dataframe tbody tr th:only-of-type {\n",
       "        vertical-align: middle;\n",
       "    }\n",
       "\n",
       "    .dataframe tbody tr th {\n",
       "        vertical-align: top;\n",
       "    }\n",
       "\n",
       "    .dataframe thead th {\n",
       "        text-align: right;\n",
       "    }\n",
       "</style>\n",
       "<table border=\"1\" class=\"dataframe\">\n",
       "  <thead>\n",
       "    <tr style=\"text-align: right;\">\n",
       "      <th></th>\n",
       "      <th>open</th>\n",
       "      <th>high</th>\n",
       "      <th>low</th>\n",
       "      <th>close</th>\n",
       "      <th>volume</th>\n",
       "      <th>ticker</th>\n",
       "      <th>intra_clf_target</th>\n",
       "      <th>10_day_ma</th>\n",
       "      <th>50_day_ma</th>\n",
       "      <th>200_day_ma</th>\n",
       "      <th>1_day_pct_change</th>\n",
       "      <th>2_day_pct_change</th>\n",
       "      <th>3_day_pct_change</th>\n",
       "      <th>4_day_pct_change</th>\n",
       "    </tr>\n",
       "    <tr>\n",
       "      <th>datetime</th>\n",
       "      <th></th>\n",
       "      <th></th>\n",
       "      <th></th>\n",
       "      <th></th>\n",
       "      <th></th>\n",
       "      <th></th>\n",
       "      <th></th>\n",
       "      <th></th>\n",
       "      <th></th>\n",
       "      <th></th>\n",
       "      <th></th>\n",
       "      <th></th>\n",
       "      <th></th>\n",
       "      <th></th>\n",
       "    </tr>\n",
       "  </thead>\n",
       "  <tbody>\n",
       "    <tr>\n",
       "      <th>2017-12-18 06:00:00</th>\n",
       "      <td>19.45</td>\n",
       "      <td>19.80</td>\n",
       "      <td>19.200</td>\n",
       "      <td>19.30</td>\n",
       "      <td>156552</td>\n",
       "      <td>FRGI</td>\n",
       "      <td>0</td>\n",
       "      <td>19.300000</td>\n",
       "      <td>19.300000</td>\n",
       "      <td>19.300000</td>\n",
       "      <td>0</td>\n",
       "      <td>0</td>\n",
       "      <td>0</td>\n",
       "      <td>0</td>\n",
       "    </tr>\n",
       "    <tr>\n",
       "      <th>2017-12-19 06:00:00</th>\n",
       "      <td>19.25</td>\n",
       "      <td>19.55</td>\n",
       "      <td>19.200</td>\n",
       "      <td>19.35</td>\n",
       "      <td>126489</td>\n",
       "      <td>FRGI</td>\n",
       "      <td>1</td>\n",
       "      <td>19.327500</td>\n",
       "      <td>19.325500</td>\n",
       "      <td>19.325125</td>\n",
       "      <td>0</td>\n",
       "      <td>0</td>\n",
       "      <td>0</td>\n",
       "      <td>0</td>\n",
       "    </tr>\n",
       "    <tr>\n",
       "      <th>2017-12-20 06:00:00</th>\n",
       "      <td>19.50</td>\n",
       "      <td>19.60</td>\n",
       "      <td>18.950</td>\n",
       "      <td>19.05</td>\n",
       "      <td>149596</td>\n",
       "      <td>FRGI</td>\n",
       "      <td>0</td>\n",
       "      <td>19.215947</td>\n",
       "      <td>19.229969</td>\n",
       "      <td>19.232498</td>\n",
       "      <td>0</td>\n",
       "      <td>0</td>\n",
       "      <td>0</td>\n",
       "      <td>0</td>\n",
       "    </tr>\n",
       "    <tr>\n",
       "      <th>2017-12-21 06:00:00</th>\n",
       "      <td>19.15</td>\n",
       "      <td>19.40</td>\n",
       "      <td>18.900</td>\n",
       "      <td>19.30</td>\n",
       "      <td>207587</td>\n",
       "      <td>FRGI</td>\n",
       "      <td>1</td>\n",
       "      <td>19.243639</td>\n",
       "      <td>19.248541</td>\n",
       "      <td>19.249628</td>\n",
       "      <td>0</td>\n",
       "      <td>0</td>\n",
       "      <td>0</td>\n",
       "      <td>0</td>\n",
       "    </tr>\n",
       "    <tr>\n",
       "      <th>2017-12-22 06:00:00</th>\n",
       "      <td>19.35</td>\n",
       "      <td>19.40</td>\n",
       "      <td>19.025</td>\n",
       "      <td>19.25</td>\n",
       "      <td>254137</td>\n",
       "      <td>FRGI</td>\n",
       "      <td>0</td>\n",
       "      <td>19.245465</td>\n",
       "      <td>19.248857</td>\n",
       "      <td>19.249704</td>\n",
       "      <td>0</td>\n",
       "      <td>0</td>\n",
       "      <td>0</td>\n",
       "      <td>0</td>\n",
       "    </tr>\n",
       "  </tbody>\n",
       "</table>\n",
       "</div>"
      ],
      "text/plain": [
       "                      open   high     low  close  volume ticker  \\\n",
       "datetime                                                          \n",
       "2017-12-18 06:00:00  19.45  19.80  19.200  19.30  156552   FRGI   \n",
       "2017-12-19 06:00:00  19.25  19.55  19.200  19.35  126489   FRGI   \n",
       "2017-12-20 06:00:00  19.50  19.60  18.950  19.05  149596   FRGI   \n",
       "2017-12-21 06:00:00  19.15  19.40  18.900  19.30  207587   FRGI   \n",
       "2017-12-22 06:00:00  19.35  19.40  19.025  19.25  254137   FRGI   \n",
       "\n",
       "                     intra_clf_target  10_day_ma  50_day_ma  200_day_ma  \\\n",
       "datetime                                                                  \n",
       "2017-12-18 06:00:00                 0  19.300000  19.300000   19.300000   \n",
       "2017-12-19 06:00:00                 1  19.327500  19.325500   19.325125   \n",
       "2017-12-20 06:00:00                 0  19.215947  19.229969   19.232498   \n",
       "2017-12-21 06:00:00                 1  19.243639  19.248541   19.249628   \n",
       "2017-12-22 06:00:00                 0  19.245465  19.248857   19.249704   \n",
       "\n",
       "                     1_day_pct_change  2_day_pct_change  3_day_pct_change  \\\n",
       "datetime                                                                    \n",
       "2017-12-18 06:00:00                 0                 0                 0   \n",
       "2017-12-19 06:00:00                 0                 0                 0   \n",
       "2017-12-20 06:00:00                 0                 0                 0   \n",
       "2017-12-21 06:00:00                 0                 0                 0   \n",
       "2017-12-22 06:00:00                 0                 0                 0   \n",
       "\n",
       "                     4_day_pct_change  \n",
       "datetime                               \n",
       "2017-12-18 06:00:00                 0  \n",
       "2017-12-19 06:00:00                 0  \n",
       "2017-12-20 06:00:00                 0  \n",
       "2017-12-21 06:00:00                 0  \n",
       "2017-12-22 06:00:00                 0  "
      ]
     },
     "execution_count": 31,
     "metadata": {},
     "output_type": "execute_result"
    }
   ],
   "source": [
    "df_list[0].head()"
   ]
  },
  {
   "cell_type": "markdown",
   "metadata": {},
   "source": [
    "Note: The first five observed days contain no pct price change values. This is because there was no data before the first observed day, so all values begin on the fifth day. Below is a better representation:"
   ]
  },
  {
   "cell_type": "code",
   "execution_count": 32,
   "metadata": {},
   "outputs": [
    {
     "data": {
      "text/html": [
       "<div>\n",
       "<style scoped>\n",
       "    .dataframe tbody tr th:only-of-type {\n",
       "        vertical-align: middle;\n",
       "    }\n",
       "\n",
       "    .dataframe tbody tr th {\n",
       "        vertical-align: top;\n",
       "    }\n",
       "\n",
       "    .dataframe thead th {\n",
       "        text-align: right;\n",
       "    }\n",
       "</style>\n",
       "<table border=\"1\" class=\"dataframe\">\n",
       "  <thead>\n",
       "    <tr style=\"text-align: right;\">\n",
       "      <th></th>\n",
       "      <th>open</th>\n",
       "      <th>high</th>\n",
       "      <th>low</th>\n",
       "      <th>close</th>\n",
       "      <th>volume</th>\n",
       "      <th>ticker</th>\n",
       "      <th>intra_clf_target</th>\n",
       "      <th>10_day_ma</th>\n",
       "      <th>50_day_ma</th>\n",
       "      <th>200_day_ma</th>\n",
       "      <th>1_day_pct_change</th>\n",
       "      <th>2_day_pct_change</th>\n",
       "      <th>3_day_pct_change</th>\n",
       "      <th>4_day_pct_change</th>\n",
       "    </tr>\n",
       "    <tr>\n",
       "      <th>datetime</th>\n",
       "      <th></th>\n",
       "      <th></th>\n",
       "      <th></th>\n",
       "      <th></th>\n",
       "      <th></th>\n",
       "      <th></th>\n",
       "      <th></th>\n",
       "      <th></th>\n",
       "      <th></th>\n",
       "      <th></th>\n",
       "      <th></th>\n",
       "      <th></th>\n",
       "      <th></th>\n",
       "      <th></th>\n",
       "    </tr>\n",
       "  </thead>\n",
       "  <tbody>\n",
       "    <tr>\n",
       "      <th>2020-12-11 06:00:00</th>\n",
       "      <td>12.48</td>\n",
       "      <td>12.760</td>\n",
       "      <td>12.3100</td>\n",
       "      <td>12.42</td>\n",
       "      <td>97892</td>\n",
       "      <td>FRGI</td>\n",
       "      <td>0</td>\n",
       "      <td>12.574476</td>\n",
       "      <td>11.145809</td>\n",
       "      <td>9.654983</td>\n",
       "      <td>-3</td>\n",
       "      <td>-3</td>\n",
       "      <td>-2</td>\n",
       "      <td>-3</td>\n",
       "    </tr>\n",
       "    <tr>\n",
       "      <th>2020-12-14 06:00:00</th>\n",
       "      <td>12.43</td>\n",
       "      <td>12.635</td>\n",
       "      <td>11.9575</td>\n",
       "      <td>12.33</td>\n",
       "      <td>82460</td>\n",
       "      <td>FRGI</td>\n",
       "      <td>0</td>\n",
       "      <td>12.530026</td>\n",
       "      <td>11.192248</td>\n",
       "      <td>9.681615</td>\n",
       "      <td>-1</td>\n",
       "      <td>-4</td>\n",
       "      <td>-5</td>\n",
       "      <td>-3</td>\n",
       "    </tr>\n",
       "    <tr>\n",
       "      <th>2020-12-15 06:00:00</th>\n",
       "      <td>12.49</td>\n",
       "      <td>12.960</td>\n",
       "      <td>12.3000</td>\n",
       "      <td>12.62</td>\n",
       "      <td>90697</td>\n",
       "      <td>FRGI</td>\n",
       "      <td>1</td>\n",
       "      <td>12.546385</td>\n",
       "      <td>11.248238</td>\n",
       "      <td>9.710868</td>\n",
       "      <td>0</td>\n",
       "      <td>-2</td>\n",
       "      <td>-5</td>\n",
       "      <td>-5</td>\n",
       "    </tr>\n",
       "    <tr>\n",
       "      <th>2020-12-16 06:00:00</th>\n",
       "      <td>12.67</td>\n",
       "      <td>12.850</td>\n",
       "      <td>12.4400</td>\n",
       "      <td>12.52</td>\n",
       "      <td>116272</td>\n",
       "      <td>FRGI</td>\n",
       "      <td>0</td>\n",
       "      <td>12.541588</td>\n",
       "      <td>11.298111</td>\n",
       "      <td>9.738834</td>\n",
       "      <td>2</td>\n",
       "      <td>1</td>\n",
       "      <td>0</td>\n",
       "      <td>-3</td>\n",
       "    </tr>\n",
       "    <tr>\n",
       "      <th>2020-12-17 06:00:00</th>\n",
       "      <td>12.47</td>\n",
       "      <td>12.470</td>\n",
       "      <td>11.9400</td>\n",
       "      <td>12.07</td>\n",
       "      <td>192051</td>\n",
       "      <td>FRGI</td>\n",
       "      <td>0</td>\n",
       "      <td>12.455844</td>\n",
       "      <td>11.328381</td>\n",
       "      <td>9.762042</td>\n",
       "      <td>0</td>\n",
       "      <td>1</td>\n",
       "      <td>0</td>\n",
       "      <td>0</td>\n",
       "    </tr>\n",
       "  </tbody>\n",
       "</table>\n",
       "</div>"
      ],
      "text/plain": [
       "                      open    high      low  close  volume ticker  \\\n",
       "datetime                                                            \n",
       "2020-12-11 06:00:00  12.48  12.760  12.3100  12.42   97892   FRGI   \n",
       "2020-12-14 06:00:00  12.43  12.635  11.9575  12.33   82460   FRGI   \n",
       "2020-12-15 06:00:00  12.49  12.960  12.3000  12.62   90697   FRGI   \n",
       "2020-12-16 06:00:00  12.67  12.850  12.4400  12.52  116272   FRGI   \n",
       "2020-12-17 06:00:00  12.47  12.470  11.9400  12.07  192051   FRGI   \n",
       "\n",
       "                     intra_clf_target  10_day_ma  50_day_ma  200_day_ma  \\\n",
       "datetime                                                                  \n",
       "2020-12-11 06:00:00                 0  12.574476  11.145809    9.654983   \n",
       "2020-12-14 06:00:00                 0  12.530026  11.192248    9.681615   \n",
       "2020-12-15 06:00:00                 1  12.546385  11.248238    9.710868   \n",
       "2020-12-16 06:00:00                 0  12.541588  11.298111    9.738834   \n",
       "2020-12-17 06:00:00                 0  12.455844  11.328381    9.762042   \n",
       "\n",
       "                     1_day_pct_change  2_day_pct_change  3_day_pct_change  \\\n",
       "datetime                                                                    \n",
       "2020-12-11 06:00:00                -3                -3                -2   \n",
       "2020-12-14 06:00:00                -1                -4                -5   \n",
       "2020-12-15 06:00:00                 0                -2                -5   \n",
       "2020-12-16 06:00:00                 2                 1                 0   \n",
       "2020-12-17 06:00:00                 0                 1                 0   \n",
       "\n",
       "                     4_day_pct_change  \n",
       "datetime                               \n",
       "2020-12-11 06:00:00                -3  \n",
       "2020-12-14 06:00:00                -3  \n",
       "2020-12-15 06:00:00                -5  \n",
       "2020-12-16 06:00:00                -3  \n",
       "2020-12-17 06:00:00                 0  "
      ]
     },
     "execution_count": 32,
     "metadata": {},
     "output_type": "execute_result"
    }
   ],
   "source": [
    "df_list[0].tail()"
   ]
  },
  {
   "cell_type": "markdown",
   "metadata": {},
   "source": [
    "## Modleing and Results"
   ]
  },
  {
   "cell_type": "markdown",
   "metadata": {},
   "source": [
    "### Initial Model"
   ]
  },
  {
   "cell_type": "markdown",
   "metadata": {},
   "source": [
    "My baseline model was a KNN and was used to evaluate my engineered features. "
   ]
  },
  {
   "cell_type": "code",
   "execution_count": 33,
   "metadata": {},
   "outputs": [
    {
     "name": "stdout",
     "output_type": "stream",
     "text": [
      "Acc: 0.4798206278026906\n",
      "Precision: 0.4749015412184013\n"
     ]
    }
   ],
   "source": [
    "# Assign a test dataframe on which to evaluate\n",
    "df_test = df_list[0]\n",
    "\n",
    "# Split into train and test sets on February 2, 2020\n",
    "train = df_test[:'2020-02-02']\n",
    "test = df_test['2020-02-02':]\n",
    "\n",
    "X_train, y_train = train[['10_day_ma', '50_day_ma', '200_day_ma', \n",
    "                          '1_day_pct_change',\n",
    "                         '2_day_pct_change', \n",
    "                          '3_day_pct_change', \n",
    "                          '4_day_pct_change']], train['intra_clf_target']\n",
    "\n",
    "X_test, y_test = test[['10_day_ma', '50_day_ma', '200_day_ma', \n",
    "                          '1_day_pct_change',\n",
    "                         '2_day_pct_change', \n",
    "                          '3_day_pct_change', \n",
    "                          '4_day_pct_change']], test['intra_clf_target']\n",
    "\n",
    "# Instantiate the KNN Classifier\n",
    "knn = KNeighborsClassifier()\n",
    "\n",
    "# Instantiate the scaler\n",
    "scaler = StandardScaler()\n",
    "\n",
    "# Fit, transform on the train set, only transform on the test set\n",
    "scaler.fit_transform(X_train)\n",
    "scaler.transform(X_test)\n",
    "\n",
    "# Fit the model to the training data\n",
    "knn.fit(X_train, y_train)\n",
    "\n",
    "# Predict on the test data\n",
    "preds = knn.predict(X_test)\n",
    "\n",
    "# Evaluate metrics\n",
    "print('Acc:', accuracy_score(y_test, preds)) # price changes improved to .486 from .45\n",
    "print('Precision:', precision_score(y_test, preds, average = 'weighted')) # improved from .44 with price change featur"
   ]
  },
  {
   "cell_type": "markdown",
   "metadata": {},
   "source": [
    "My initial accuracy and precision scores were .451 and .448, respectively; however, the addition of my moving average and percent-price-change features saw these increase to .486 and .481, respectively."
   ]
  },
  {
   "cell_type": "code",
   "execution_count": 34,
   "metadata": {},
   "outputs": [],
   "source": [
    "def time_cross_validate(df, model, param_grid):\n",
    "    \"\"\"\n",
    "    Takes in df, model, and param_grid, and returns cross validated scores and params.\n",
    "    \n",
    "    df -- dataframe\n",
    "    model -- model to be used for cross validation\n",
    "    param_grid -- dictionary to be used for GridSearch param_grid\n",
    "    \"\"\"\n",
    "    # Designating predictor and target columns\n",
    "    predictor_cols = ['10_day_ma', \n",
    "                      '50_day_ma', \n",
    "                      '200_day_ma', \n",
    "                      '1_day_pct_change',\n",
    "                      '2_day_pct_change', \n",
    "                      '3_day_pct_change', \n",
    "                      '4_day_pct_change']\n",
    "    target = 'intra_clf_target'\n",
    "    \n",
    "    # Creating dataframe with numerical index that can be split\n",
    "    dataframe = df.reset_index()\n",
    "\n",
    "    # Creating tuples of train, test indices to be passed into the cv parameter of GridSearchCV\n",
    "    train_test_indices_1 = (list(range(455)), list(range(455, 530)))\n",
    "    train_test_indices_2 = (list(range(530)), list(range(530, 605)))\n",
    "    train_test_indices_3 = (list(range(605)), list(range(605, 680)))\n",
    "    train_test_indices_4 = (list(range(680)), list(range(680, 755)))\n",
    "    \n",
    "    # Splitting the df into data and target values\n",
    "    data, target = dataframe[predictor_cols], df[target]\n",
    "    \n",
    "    # Scaling the data\n",
    "    scaler = StandardScaler()\n",
    "    scaler.fit_transform(data)\n",
    "    \n",
    "    # Instantiating Gridsearch\n",
    "    \n",
    "    # add pipeline into 'estimator'\n",
    "    clf = GridSearchCV(estimator = model,\n",
    "                       param_grid = param_grid,\n",
    "                       cv = [train_test_indices_1,\n",
    "                             train_test_indices_2,\n",
    "                             train_test_indices_3,\n",
    "                             train_test_indices_4\n",
    "                       ],\n",
    "                       n_jobs = -1,\n",
    "                       scoring = 'f1_weighted',\n",
    "                       verbose = False\n",
    "    )\n",
    "    \n",
    "    # Fitting Gridsearch\n",
    "    clf.fit(data, target)\n",
    "    \n",
    "    # Get results and store them in a dictionary\n",
    "    best_score = clf.best_score_\n",
    "    best_params = clf.best_params_\n",
    "    best_params['best_score'] = best_score\n",
    "    \n",
    "    return best_params"
   ]
  },
  {
   "cell_type": "markdown",
   "metadata": {},
   "source": [
    "### Gridsearch and Cross Validation"
   ]
  },
  {
   "cell_type": "markdown",
   "metadata": {},
   "source": [
    "Next I wanted to add another model - Random Forest - then gridsearch my parameters and cross validate my evaluation metric, F1-Score. I gridsearched only on the first ten dataframes in my list of dataframes for the sake of time. For each df and respective model fit to it, a dictionary with the parameters used in the model as well as the F1-Score attained with those parameters. For each model, I compile these into a list, then pick the parameters to use in my final models based on frequency.  "
   ]
  },
  {
   "cell_type": "code",
   "execution_count": 35,
   "metadata": {},
   "outputs": [],
   "source": [
    "# Instantiate Random Forest and KNN Classifiers to be used in further modeling\n",
    "rfc = RandomForestClassifier(random_state = 1)\n",
    "knn = KNeighborsClassifier()\n",
    "\n",
    "# Parameter grid for random forest gridsearch\n",
    "rfc_param_grid = {'n_estimators': [500, 750, 1000],\n",
    "                  'class_weight': ['balanced'],\n",
    "                  'criterion': ['gini', 'entropy'],\n",
    "                  'max_depth': [3, 5, 7]\n",
    "             }\n",
    "\n",
    "# Parameter grid for knn gridsearch\n",
    "knn_param_grid = {'n_neighbors': [3, 4, 5, 6, 7],\n",
    "                  'algorithm': ['auto', 'ball_tree', 'kd_tree'],\n",
    "                  'leaf_size': [15, 30, 40]\n",
    "                 }"
   ]
  },
  {
   "cell_type": "markdown",
   "metadata": {},
   "source": [
    "#### Random Forest"
   ]
  },
  {
   "cell_type": "code",
   "execution_count": 36,
   "metadata": {},
   "outputs": [],
   "source": [
    "# Create a list of random forest best params and scores for first 10 dfs\n",
    "rfc_gs_results = []\n",
    "\n",
    "for df in df_list[:10]:\n",
    "    # Gridsearch and Cross Validation \n",
    "    result = time_cross_validate(df = df, model = rfc, param_grid = rfc_param_grid)\n",
    "    \n",
    "    # Appending to list of dicts\n",
    "    rfc_gs_results.append(result)            "
   ]
  },
  {
   "cell_type": "code",
   "execution_count": 37,
   "metadata": {},
   "outputs": [
    {
     "data": {
      "text/plain": [
       "[{'class_weight': 'balanced',\n",
       "  'criterion': 'gini',\n",
       "  'max_depth': 7,\n",
       "  'n_estimators': 750,\n",
       "  'best_score': 0.5372476826150502},\n",
       " {'class_weight': 'balanced',\n",
       "  'criterion': 'gini',\n",
       "  'max_depth': 7,\n",
       "  'n_estimators': 1000,\n",
       "  'best_score': 0.45255600701859716},\n",
       " {'class_weight': 'balanced',\n",
       "  'criterion': 'entropy',\n",
       "  'max_depth': 7,\n",
       "  'n_estimators': 500,\n",
       "  'best_score': 0.4235570630114009},\n",
       " {'class_weight': 'balanced',\n",
       "  'criterion': 'gini',\n",
       "  'max_depth': 3,\n",
       "  'n_estimators': 500,\n",
       "  'best_score': 0.41214265446641224},\n",
       " {'class_weight': 'balanced',\n",
       "  'criterion': 'entropy',\n",
       "  'max_depth': 7,\n",
       "  'n_estimators': 1000,\n",
       "  'best_score': 0.46301788199337024},\n",
       " {'class_weight': 'balanced',\n",
       "  'criterion': 'entropy',\n",
       "  'max_depth': 3,\n",
       "  'n_estimators': 500,\n",
       "  'best_score': 0.4865972608170165},\n",
       " {'class_weight': 'balanced',\n",
       "  'criterion': 'entropy',\n",
       "  'max_depth': 7,\n",
       "  'n_estimators': 1000,\n",
       "  'best_score': 0.44688561506892566},\n",
       " {'class_weight': 'balanced',\n",
       "  'criterion': 'entropy',\n",
       "  'max_depth': 7,\n",
       "  'n_estimators': 500,\n",
       "  'best_score': 0.4555660297087776},\n",
       " {'class_weight': 'balanced',\n",
       "  'criterion': 'gini',\n",
       "  'max_depth': 3,\n",
       "  'n_estimators': 1000,\n",
       "  'best_score': 0.4822611798030841},\n",
       " {'class_weight': 'balanced',\n",
       "  'criterion': 'gini',\n",
       "  'max_depth': 7,\n",
       "  'n_estimators': 750,\n",
       "  'best_score': 0.4433736939648678}]"
      ]
     },
     "execution_count": 37,
     "metadata": {},
     "output_type": "execute_result"
    }
   ],
   "source": [
    "rfc_gs_results"
   ]
  },
  {
   "cell_type": "code",
   "execution_count": 38,
   "metadata": {},
   "outputs": [
    {
     "data": {
      "text/plain": [
       "0.4603205068467503"
      ]
     },
     "execution_count": 38,
     "metadata": {},
     "output_type": "execute_result"
    }
   ],
   "source": [
    "# Calculating mean random forest F1 score for the first 10 stocks\n",
    "np.mean([x['best_score'] for x in rfc_gs_results])"
   ]
  },
  {
   "cell_type": "markdown",
   "metadata": {},
   "source": [
    "The highest performing parameters for the Random Forest based on this gridsearch are:\n",
    "* max_depth = 7\n",
    "* n_estimators = 1000\n",
    "* criterion = 'gini'\n",
    "* class_weight = 'balanced'"
   ]
  },
  {
   "cell_type": "markdown",
   "metadata": {},
   "source": [
    "#### KNN"
   ]
  },
  {
   "cell_type": "code",
   "execution_count": 39,
   "metadata": {},
   "outputs": [],
   "source": [
    "# Create a list of knn best params and scores for first 10 dfs\n",
    "knn_gs_results = []\n",
    "\n",
    "for df in df_list[:10]:\n",
    "    # Gridsearch and Cross Validation\n",
    "    result = time_cross_validate(df = df, model = knn, param_grid = knn_param_grid)\n",
    "    \n",
    "    # Appending to list of dicts\n",
    "    knn_gs_results.append(result)            "
   ]
  },
  {
   "cell_type": "code",
   "execution_count": 40,
   "metadata": {},
   "outputs": [
    {
     "data": {
      "text/plain": [
       "[{'algorithm': 'auto',\n",
       "  'leaf_size': 15,\n",
       "  'n_neighbors': 7,\n",
       "  'best_score': 0.5561276934500141},\n",
       " {'algorithm': 'auto',\n",
       "  'leaf_size': 15,\n",
       "  'n_neighbors': 4,\n",
       "  'best_score': 0.47127110301113273},\n",
       " {'algorithm': 'auto',\n",
       "  'leaf_size': 15,\n",
       "  'n_neighbors': 7,\n",
       "  'best_score': 0.4826268020170537},\n",
       " {'algorithm': 'auto',\n",
       "  'leaf_size': 15,\n",
       "  'n_neighbors': 3,\n",
       "  'best_score': 0.4791097562301946},\n",
       " {'algorithm': 'auto',\n",
       "  'leaf_size': 15,\n",
       "  'n_neighbors': 4,\n",
       "  'best_score': 0.43731365556018653},\n",
       " {'algorithm': 'auto',\n",
       "  'leaf_size': 15,\n",
       "  'n_neighbors': 5,\n",
       "  'best_score': 0.48427436030720233},\n",
       " {'algorithm': 'auto',\n",
       "  'leaf_size': 15,\n",
       "  'n_neighbors': 3,\n",
       "  'best_score': 0.4645423782317034},\n",
       " {'algorithm': 'auto',\n",
       "  'leaf_size': 15,\n",
       "  'n_neighbors': 6,\n",
       "  'best_score': 0.44993615021796596},\n",
       " {'algorithm': 'auto',\n",
       "  'leaf_size': 15,\n",
       "  'n_neighbors': 3,\n",
       "  'best_score': 0.4916804165690549},\n",
       " {'algorithm': 'auto',\n",
       "  'leaf_size': 15,\n",
       "  'n_neighbors': 3,\n",
       "  'best_score': 0.4806952619214454}]"
      ]
     },
     "execution_count": 40,
     "metadata": {},
     "output_type": "execute_result"
    }
   ],
   "source": [
    "knn_gs_results"
   ]
  },
  {
   "cell_type": "code",
   "execution_count": 41,
   "metadata": {},
   "outputs": [
    {
     "data": {
      "text/plain": [
       "0.47975775775159535"
      ]
     },
     "execution_count": 41,
     "metadata": {},
     "output_type": "execute_result"
    }
   ],
   "source": [
    "# Calculating mean KNN F1 score for the first 10 stocks\n",
    "np.mean([x['best_score'] for x in knn_gs_results])"
   ]
  },
  {
   "cell_type": "markdown",
   "metadata": {},
   "source": [
    "The highest performing parameters for the KNN based on this gridsearch are:\n",
    "* algorithm = 'auto'\n",
    "* leaf_size = 15\n",
    "* n_neighbors = 3"
   ]
  },
  {
   "cell_type": "code",
   "execution_count": 42,
   "metadata": {},
   "outputs": [],
   "source": [
    "def time_train_test_split(df, split_date):\n",
    "    \"\"\"\n",
    "    Takes in a df and a date to split train and test sets\n",
    "    on the split date and returns X_train, X_test, y_train, y_test.\n",
    "    Built to be incorporated with time_cross_validate().\n",
    "    \n",
    "    df -- dataframe of prices\n",
    "    split_date -- str formatted as 'YYYY-MM-DD'\n",
    "    \"\"\"\n",
    "    # Create list of split components\n",
    "    train_test_sets = [] # not being used\n",
    "    \n",
    "    # Create train and test sets\n",
    "    train = df[:split_date]\n",
    "    test = df[split_date:]\n",
    "    \n",
    "    # Create list of columns to use in prediction, as well as target variable\n",
    "    predictor_cols = ['10_day_ma', \n",
    "                      '50_day_ma', \n",
    "                      '200_day_ma', \n",
    "                      '1_day_pct_change',\n",
    "                      '2_day_pct_change', \n",
    "                      '3_day_pct_change', \n",
    "                      '4_day_pct_change']\n",
    "    target = 'intra_clf_target'\n",
    "    \n",
    "    # Create train and test sets\n",
    "    X_train, X_test = train[predictor_cols], test[predictor_cols]\n",
    "    y_train, y_test = train[target], test[target]\n",
    "    \n",
    "    return X_train, X_test, y_train, y_test"
   ]
  },
  {
   "cell_type": "code",
   "execution_count": 43,
   "metadata": {},
   "outputs": [],
   "source": [
    "def scale_and_plant_random_forests(X_train, X_test, y_train, y_test):\n",
    "    \"\"\"\n",
    "    Takes in train and test sets, runs a Random Forest Classifier on each,\n",
    "    then returns a tuple of y test and y predicted values to be\n",
    "    passed through an f1_score\n",
    "    \n",
    "    X_train -- training prediction data\n",
    "    X_test -- testing prediction data\n",
    "    y_train -- training target data\n",
    "    y_test -- testing target data\n",
    "    \"\"\"\n",
    "    # Instantiate scaler\n",
    "    scaler = StandardScaler()\n",
    "    \n",
    "    # Fit, transform on train set, only transform test set\n",
    "    scaler.fit_transform(X_train)\n",
    "    scaler.transform(X_test)\n",
    "    \n",
    "    # Instantiate Random Forest Classifier with gridsearched parameters\n",
    "    rfc = RandomForestClassifier(random_state = 1,\n",
    "                                 max_depth = 7,\n",
    "                                 n_estimators = 1000,\n",
    "                                 criterion = 'gini',\n",
    "                                 class_weight = 'balanced'\n",
    "                                )\n",
    "    \n",
    "    # Fit to the training data\n",
    "    rfc.fit(X_train, y_train)\n",
    "    \n",
    "    # Predict on the test data\n",
    "    y_pred = rfc.predict(X_test)\n",
    "    \n",
    "    return (y_test, y_pred)"
   ]
  },
  {
   "cell_type": "code",
   "execution_count": 44,
   "metadata": {},
   "outputs": [],
   "source": [
    "def scale_and_knn(X_train, X_test, y_train, y_test):\n",
    "    \"\"\"\n",
    "    Takes in train and test sets, runs a K Nearest Neighbors Classifier on each,\n",
    "    then returns a tuple of y test and y predicted values to be\n",
    "    passed through an f1_score.\n",
    "    \n",
    "    X_train -- training prediction data\n",
    "    X_test -- testing prediction data\n",
    "    y_train -- training target data\n",
    "    y_test -- testing target data\n",
    "    \"\"\"\n",
    "    # Instantiate scaler\n",
    "    scaler = StandardScaler()\n",
    "    \n",
    "    # Fit, transform on train set, only transform test set\n",
    "    scaler.fit_transform(X_train)\n",
    "    scaler.transform(X_test)\n",
    "    \n",
    "    # Instantiate K Neighbors Classifier with gridsearched parameters\n",
    "    knn = KNeighborsClassifier(algorithm = 'auto',\n",
    "                               leaf_size = 15, \n",
    "                               n_neighbors = 3\n",
    "                              )\n",
    "    \n",
    "    # Fit to the training data\n",
    "    knn.fit(X_train, y_train)\n",
    "    \n",
    "    # Predict on the test data\n",
    "    y_pred = knn.predict(X_test)\n",
    "    \n",
    "    return (y_test, y_pred)"
   ]
  },
  {
   "cell_type": "code",
   "execution_count": 45,
   "metadata": {},
   "outputs": [],
   "source": [
    "def compare_scores(df_list):\n",
    "    \"\"\"\n",
    "    Takes in a list of dfs and returns a list of tuples to \n",
    "    compare the performance of two models based on their \n",
    "    respective F1 scores.\n",
    "    \n",
    "    df_list -- list of dfs\n",
    "    \"\"\"\n",
    "    # Creating a list of tuples to compare model performance on each stock\n",
    "    tuned_scores_comparison_list = []\n",
    "\n",
    "    # Looping through the list of dfs\n",
    "    for df in df_list:\n",
    "        # Splitting train and test sets\n",
    "        X_train, X_test, y_train, y_test = time_train_test_split(df, '2020-05-20')\n",
    "\n",
    "        # Predicting with Random Forest\n",
    "        (true, pred) = scale_and_plant_random_forests(X_train, X_test, y_train, y_test)\n",
    "\n",
    "        # Evaluating Random Forest\n",
    "        rfc_f1 = f1_score(true, pred, average = 'weighted')\n",
    "\n",
    "        # Predicting with KNN\n",
    "        (true, pred) = scale_and_knn(X_train, X_test, y_train, y_test)\n",
    "\n",
    "        # Evaluating KNN\n",
    "        knn_f1 = f1_score(true, pred, average = 'weighted')\n",
    "\n",
    "        # Appending to list of tuples\n",
    "        tuned_scores_comparison_list.append((rfc_f1, knn_f1))\n",
    "\n",
    "    return tuned_scores_comparison_list"
   ]
  },
  {
   "cell_type": "markdown",
   "metadata": {},
   "source": [
    "### Final Models"
   ]
  },
  {
   "cell_type": "markdown",
   "metadata": {},
   "source": [
    "#### Analysis of Results and Comparing Models"
   ]
  },
  {
   "cell_type": "markdown",
   "metadata": {},
   "source": [
    "For my final Random Forest and KNN models, I used the parameters I obtained through my gridsearch. I anticipated that there would not be a clear favorite among the two models, and that instead KNN would perform better on some stocks while Random Forest would perform better on others. I evaluated both models on the first ten stocks, creating a list of tuples of F1-Scores. The first item in each tuple corresponds to the Random Forest F1 and the second to the KNN F1."
   ]
  },
  {
   "cell_type": "code",
   "execution_count": 46,
   "metadata": {},
   "outputs": [
    {
     "data": {
      "text/plain": [
       "[(0.5305574523756341, 0.5405405405405406),\n",
       " (0.4664330997664331, 0.4628628628628629),\n",
       " (0.35089566310496545, 0.4510468392656331),\n",
       " (0.2582297937748175, 0.513736188549776),\n",
       " (0.3947006205070721, 0.41355584002642826),\n",
       " (0.5244998087583298, 0.48030540192702353),\n",
       " (0.46995209495209495, 0.4866641603493738),\n",
       " (0.3051480051480051, 0.44979318941583096),\n",
       " (0.5398688161846057, 0.5909989812428836),\n",
       " (0.4482323232323232, 0.45872621440803263)]"
      ]
     },
     "execution_count": 46,
     "metadata": {},
     "output_type": "execute_result"
    }
   ],
   "source": [
    "# Creating a list of tuples to compare model performance on each stock\n",
    "comparison_list = compare_scores(df_list[:10])\n",
    "comparison_list"
   ]
  },
  {
   "cell_type": "code",
   "execution_count": 47,
   "metadata": {},
   "outputs": [],
   "source": [
    "# Splitting the above tuples into individual lists of F1-Scores for the purpose of visualization\n",
    "rfc_f1 = [x[0] for x in comparison_list]\n",
    "knn_f1 = [x[1] for x in comparison_list]"
   ]
  },
  {
   "cell_type": "code",
   "execution_count": 48,
   "metadata": {},
   "outputs": [
    {
     "data": {
      "image/png": "[encoded data removed]",
      "text/plain": [
       "<Figure size 720x504 with 1 Axes>"
      ]
     },
     "metadata": {
      "needs_background": "light"
     },
     "output_type": "display_data"
    }
   ],
   "source": [
    "fig, ax = plt.subplots(figsize = (10,7))\n",
    "sns.lineplot(x = range(10), y = rfc_f1, label = 'RFC F1-Score')\n",
    "sns.lineplot(x = range(10), y = knn_f1, label = 'KNN F1-Score')\n",
    "ax.set(xlabel = 'Stock #',ylabel = 'F1-Score', title = 'F1-Score on Each of Ten Stocks')\n",
    "ax.axhline(y = np.mean(rfc_f1), xmin = .05, xmax = .95)\n",
    "ax.axhline(y = np.mean(knn_f1), xmin = .05, xmax = .95, color = 'orange')\n",
    "ax.text(x = 9.5, y = np.mean(rfc_f1), s = str(round(np.mean(rfc_f1), 2)))\n",
    "ax.text(x = 9.5, y = np.mean(knn_f1), s = str(round(np.mean(knn_f1), 2)))\n",
    "ax.legend()\n",
    "plt.show()"
   ]
  },
  {
   "cell_type": "markdown",
   "metadata": {},
   "source": [
    "Contrary to my initial assumption, the KNN F1-Score (.48) outperformed the RF F1-Score (.43) by .05 on average, as shown in the graph above."
   ]
  },
  {
   "cell_type": "markdown",
   "metadata": {},
   "source": [
    "## Conclusion and Next Steps"
   ]
  },
  {
   "cell_type": "markdown",
   "metadata": {},
   "source": [
    "The highest performing model was the KNN, though this is only on a sample of 10 out of 160. I'd like to predict on the entire set of 160, add additional models, and add an ensemble voting classifier.\n",
    "\n",
    "In terms of next steps, I plan on implementing a regression model to predict exact prices in addition to price-movement-direction. To further improve the models I have, I'd like to add more features, such as momentum indicators like Moving Average Convergence/Divergence (MACD) and Relative Strength Index (RSI), as well as a volatility indicator like Standard Deviation or Beta. I'd also like to add a percent-change-in-volume feature."
   ]
  }
 ],
 "metadata": {
  "kernelspec": {
   "display_name": "learn-env",
   "language": "python",
   "name": "learn-env"
  },
  "language_info": {
   "codemirror_mode": {
    "name": "ipython",
    "version": 3
   },
   "file_extension": ".py",
   "mimetype": "text/x-python",
   "name": "python",
   "nbconvert_exporter": "python",
   "pygments_lexer": "ipython3",
   "version": "3.8.5"
  }
 },
 "nbformat": 4,
 "nbformat_minor": 4
}
